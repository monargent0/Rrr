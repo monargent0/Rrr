{
 "cells": [
  {
   "cell_type": "code",
   "execution_count": 392,
   "metadata": {
    "vscode": {
     "languageId": "r"
    }
   },
   "outputs": [
    {
     "name": "stderr",
     "output_type": "stream",
     "text": [
      "Loading required package: grid\n",
      "Loading required package: mvtnorm\n",
      "Loading required package: modeltools\n",
      "Loading required package: stats4\n",
      "Loading required package: strucchange\n",
      "Loading required package: zoo\n",
      "\n",
      "Attaching package: ‘zoo’\n",
      "\n",
      "The following objects are masked from ‘package:base’:\n",
      "\n",
      "    as.Date, as.Date.numeric\n",
      "\n",
      "Loading required package: sandwich\n"
     ]
    }
   ],
   "source": [
    "library(dplyr)\n",
    "library(plotrix)\n",
    "library(caret) # createDataPartition\n",
    "library(nnet)\n",
    "library(e1071)\n",
    "library(randomForest)\n",
    "library(party)\n",
    "options(warn = -1)"
   ]
  },
  {
   "cell_type": "code",
   "execution_count": 6,
   "metadata": {
    "vscode": {
     "languageId": "r"
    }
   },
   "outputs": [
    {
     "data": {
      "text/html": [
       "<table>\n",
       "<thead><tr><th scope=col>PassengerId</th><th scope=col>Survived</th><th scope=col>Pclass</th><th scope=col>Name</th><th scope=col>Sex</th><th scope=col>Age</th><th scope=col>SibSp</th><th scope=col>Parch</th><th scope=col>Ticket</th><th scope=col>Fare</th><th scope=col>Cabin</th><th scope=col>Embarked</th></tr></thead>\n",
       "<tbody>\n",
       "\t<tr><td> 1                                                 </td><td>0                                                  </td><td>3                                                  </td><td>Braund, Mr. Owen Harris                            </td><td>male                                               </td><td>22                                                 </td><td>1                                                  </td><td>0                                                  </td><td>A/5 21171                                          </td><td> 7.2500                                            </td><td>                                                   </td><td>S                                                  </td></tr>\n",
       "\t<tr><td> 2                                                 </td><td>1                                                  </td><td>1                                                  </td><td>Cumings, Mrs. John Bradley (Florence Briggs Thayer)</td><td>female                                             </td><td>38                                                 </td><td>1                                                  </td><td>0                                                  </td><td>PC 17599                                           </td><td>71.2833                                            </td><td>C85                                                </td><td>C                                                  </td></tr>\n",
       "\t<tr><td> 3                                                 </td><td>1                                                  </td><td>3                                                  </td><td>Heikkinen, Miss. Laina                             </td><td>female                                             </td><td>26                                                 </td><td>0                                                  </td><td>0                                                  </td><td>STON/O2. 3101282                                   </td><td> 7.9250                                            </td><td>                                                   </td><td>S                                                  </td></tr>\n",
       "\t<tr><td> 4                                                 </td><td>1                                                  </td><td>1                                                  </td><td>Futrelle, Mrs. Jacques Heath (Lily May Peel)       </td><td>female                                             </td><td>35                                                 </td><td>1                                                  </td><td>0                                                  </td><td>113803                                             </td><td>53.1000                                            </td><td>C123                                               </td><td>S                                                  </td></tr>\n",
       "\t<tr><td> 5                                                 </td><td>0                                                  </td><td>3                                                  </td><td>Allen, Mr. William Henry                           </td><td>male                                               </td><td>35                                                 </td><td>0                                                  </td><td>0                                                  </td><td>373450                                             </td><td> 8.0500                                            </td><td>                                                   </td><td>S                                                  </td></tr>\n",
       "\t<tr><td> 6                                                 </td><td>0                                                  </td><td>3                                                  </td><td>Moran, Mr. James                                   </td><td>male                                               </td><td>NA                                                 </td><td>0                                                  </td><td>0                                                  </td><td>330877                                             </td><td> 8.4583                                            </td><td>                                                   </td><td>Q                                                  </td></tr>\n",
       "\t<tr><td> 7                                                 </td><td>0                                                  </td><td>1                                                  </td><td>McCarthy, Mr. Timothy J                            </td><td>male                                               </td><td>54                                                 </td><td>0                                                  </td><td>0                                                  </td><td>17463                                              </td><td>51.8625                                            </td><td>E46                                                </td><td>S                                                  </td></tr>\n",
       "\t<tr><td> 8                                                 </td><td>0                                                  </td><td>3                                                  </td><td>Palsson, Master. Gosta Leonard                     </td><td>male                                               </td><td> 2                                                 </td><td>3                                                  </td><td>1                                                  </td><td>349909                                             </td><td>21.0750                                            </td><td>                                                   </td><td>S                                                  </td></tr>\n",
       "\t<tr><td> 9                                                 </td><td>1                                                  </td><td>3                                                  </td><td>Johnson, Mrs. Oscar W (Elisabeth Vilhelmina Berg)  </td><td>female                                             </td><td>27                                                 </td><td>0                                                  </td><td>2                                                  </td><td>347742                                             </td><td>11.1333                                            </td><td>                                                   </td><td>S                                                  </td></tr>\n",
       "\t<tr><td>10                                                 </td><td>1                                                  </td><td>2                                                  </td><td>Nasser, Mrs. Nicholas (Adele Achem)                </td><td>female                                             </td><td>14                                                 </td><td>1                                                  </td><td>0                                                  </td><td>237736                                             </td><td>30.0708                                            </td><td>                                                   </td><td>C                                                  </td></tr>\n",
       "</tbody>\n",
       "</table>\n"
      ],
      "text/latex": [
       "\\begin{tabular}{r|llllllllllll}\n",
       " PassengerId & Survived & Pclass & Name & Sex & Age & SibSp & Parch & Ticket & Fare & Cabin & Embarked\\\\\n",
       "\\hline\n",
       "\t  1                                                  & 0                                                   & 3                                                   & Braund, Mr. Owen Harris                             & male                                                & 22                                                  & 1                                                   & 0                                                   & A/5 21171                                           &  7.2500                                             &                                                     & S                                                  \\\\\n",
       "\t  2                                                  & 1                                                   & 1                                                   & Cumings, Mrs. John Bradley (Florence Briggs Thayer) & female                                              & 38                                                  & 1                                                   & 0                                                   & PC 17599                                            & 71.2833                                             & C85                                                 & C                                                  \\\\\n",
       "\t  3                                                  & 1                                                   & 3                                                   & Heikkinen, Miss. Laina                              & female                                              & 26                                                  & 0                                                   & 0                                                   & STON/O2. 3101282                                    &  7.9250                                             &                                                     & S                                                  \\\\\n",
       "\t  4                                                  & 1                                                   & 1                                                   & Futrelle, Mrs. Jacques Heath (Lily May Peel)        & female                                              & 35                                                  & 1                                                   & 0                                                   & 113803                                              & 53.1000                                             & C123                                                & S                                                  \\\\\n",
       "\t  5                                                  & 0                                                   & 3                                                   & Allen, Mr. William Henry                            & male                                                & 35                                                  & 0                                                   & 0                                                   & 373450                                              &  8.0500                                             &                                                     & S                                                  \\\\\n",
       "\t  6                                                  & 0                                                   & 3                                                   & Moran, Mr. James                                    & male                                                & NA                                                  & 0                                                   & 0                                                   & 330877                                              &  8.4583                                             &                                                     & Q                                                  \\\\\n",
       "\t  7                                                  & 0                                                   & 1                                                   & McCarthy, Mr. Timothy J                             & male                                                & 54                                                  & 0                                                   & 0                                                   & 17463                                               & 51.8625                                             & E46                                                 & S                                                  \\\\\n",
       "\t  8                                                  & 0                                                   & 3                                                   & Palsson, Master. Gosta Leonard                      & male                                                &  2                                                  & 3                                                   & 1                                                   & 349909                                              & 21.0750                                             &                                                     & S                                                  \\\\\n",
       "\t  9                                                  & 1                                                   & 3                                                   & Johnson, Mrs. Oscar W (Elisabeth Vilhelmina Berg)   & female                                              & 27                                                  & 0                                                   & 2                                                   & 347742                                              & 11.1333                                             &                                                     & S                                                  \\\\\n",
       "\t 10                                                  & 1                                                   & 2                                                   & Nasser, Mrs. Nicholas (Adele Achem)                 & female                                              & 14                                                  & 1                                                   & 0                                                   & 237736                                              & 30.0708                                             &                                                     & C                                                  \\\\\n",
       "\\end{tabular}\n"
      ],
      "text/markdown": [
       "\n",
       "| PassengerId | Survived | Pclass | Name | Sex | Age | SibSp | Parch | Ticket | Fare | Cabin | Embarked |\n",
       "|---|---|---|---|---|---|---|---|---|---|---|---|\n",
       "|  1                                                  | 0                                                   | 3                                                   | Braund, Mr. Owen Harris                             | male                                                | 22                                                  | 1                                                   | 0                                                   | A/5 21171                                           |  7.2500                                             |                                                     | S                                                   |\n",
       "|  2                                                  | 1                                                   | 1                                                   | Cumings, Mrs. John Bradley (Florence Briggs Thayer) | female                                              | 38                                                  | 1                                                   | 0                                                   | PC 17599                                            | 71.2833                                             | C85                                                 | C                                                   |\n",
       "|  3                                                  | 1                                                   | 3                                                   | Heikkinen, Miss. Laina                              | female                                              | 26                                                  | 0                                                   | 0                                                   | STON/O2. 3101282                                    |  7.9250                                             |                                                     | S                                                   |\n",
       "|  4                                                  | 1                                                   | 1                                                   | Futrelle, Mrs. Jacques Heath (Lily May Peel)        | female                                              | 35                                                  | 1                                                   | 0                                                   | 113803                                              | 53.1000                                             | C123                                                | S                                                   |\n",
       "|  5                                                  | 0                                                   | 3                                                   | Allen, Mr. William Henry                            | male                                                | 35                                                  | 0                                                   | 0                                                   | 373450                                              |  8.0500                                             |                                                     | S                                                   |\n",
       "|  6                                                  | 0                                                   | 3                                                   | Moran, Mr. James                                    | male                                                | NA                                                  | 0                                                   | 0                                                   | 330877                                              |  8.4583                                             |                                                     | Q                                                   |\n",
       "|  7                                                  | 0                                                   | 1                                                   | McCarthy, Mr. Timothy J                             | male                                                | 54                                                  | 0                                                   | 0                                                   | 17463                                               | 51.8625                                             | E46                                                 | S                                                   |\n",
       "|  8                                                  | 0                                                   | 3                                                   | Palsson, Master. Gosta Leonard                      | male                                                |  2                                                  | 3                                                   | 1                                                   | 349909                                              | 21.0750                                             |                                                     | S                                                   |\n",
       "|  9                                                  | 1                                                   | 3                                                   | Johnson, Mrs. Oscar W (Elisabeth Vilhelmina Berg)   | female                                              | 27                                                  | 0                                                   | 2                                                   | 347742                                              | 11.1333                                             |                                                     | S                                                   |\n",
       "| 10                                                  | 1                                                   | 2                                                   | Nasser, Mrs. Nicholas (Adele Achem)                 | female                                              | 14                                                  | 1                                                   | 0                                                   | 237736                                              | 30.0708                                             |                                                     | C                                                   |\n",
       "\n"
      ],
      "text/plain": [
       "   PassengerId Survived Pclass\n",
       "1   1          0        3     \n",
       "2   2          1        1     \n",
       "3   3          1        3     \n",
       "4   4          1        1     \n",
       "5   5          0        3     \n",
       "6   6          0        3     \n",
       "7   7          0        1     \n",
       "8   8          0        3     \n",
       "9   9          1        3     \n",
       "10 10          1        2     \n",
       "   Name                                                Sex    Age SibSp Parch\n",
       "1  Braund, Mr. Owen Harris                             male   22  1     0    \n",
       "2  Cumings, Mrs. John Bradley (Florence Briggs Thayer) female 38  1     0    \n",
       "3  Heikkinen, Miss. Laina                              female 26  0     0    \n",
       "4  Futrelle, Mrs. Jacques Heath (Lily May Peel)        female 35  1     0    \n",
       "5  Allen, Mr. William Henry                            male   35  0     0    \n",
       "6  Moran, Mr. James                                    male   NA  0     0    \n",
       "7  McCarthy, Mr. Timothy J                             male   54  0     0    \n",
       "8  Palsson, Master. Gosta Leonard                      male    2  3     1    \n",
       "9  Johnson, Mrs. Oscar W (Elisabeth Vilhelmina Berg)   female 27  0     2    \n",
       "10 Nasser, Mrs. Nicholas (Adele Achem)                 female 14  1     0    \n",
       "   Ticket           Fare    Cabin Embarked\n",
       "1  A/5 21171         7.2500       S       \n",
       "2  PC 17599         71.2833 C85   C       \n",
       "3  STON/O2. 3101282  7.9250       S       \n",
       "4  113803           53.1000 C123  S       \n",
       "5  373450            8.0500       S       \n",
       "6  330877            8.4583       Q       \n",
       "7  17463            51.8625 E46   S       \n",
       "8  349909           21.0750       S       \n",
       "9  347742           11.1333       S       \n",
       "10 237736           30.0708       C       "
      ]
     },
     "metadata": {},
     "output_type": "display_data"
    },
    {
     "data": {
      "text/html": [
       "<table>\n",
       "<thead><tr><th></th><th scope=col>PassengerId</th><th scope=col>Survived</th><th scope=col>Pclass</th><th scope=col>Name</th><th scope=col>Sex</th><th scope=col>Age</th><th scope=col>SibSp</th><th scope=col>Parch</th><th scope=col>Ticket</th><th scope=col>Fare</th><th scope=col>Cabin</th><th scope=col>Embarked</th></tr></thead>\n",
       "<tbody>\n",
       "\t<tr><th scope=row>886</th><td>886                                     </td><td>0                                       </td><td>3                                       </td><td>Rice, Mrs. William (Margaret Norton)    </td><td>female                                  </td><td>39                                      </td><td>0                                       </td><td>5                                       </td><td>382652                                  </td><td>29.125                                  </td><td>                                        </td><td>Q                                       </td></tr>\n",
       "\t<tr><th scope=row>887</th><td>887                                     </td><td>0                                       </td><td>2                                       </td><td>Montvila, Rev. Juozas                   </td><td>male                                    </td><td>27                                      </td><td>0                                       </td><td>0                                       </td><td>211536                                  </td><td>13.000                                  </td><td>                                        </td><td>S                                       </td></tr>\n",
       "\t<tr><th scope=row>888</th><td>888                                     </td><td>1                                       </td><td>1                                       </td><td>Graham, Miss. Margaret Edith            </td><td>female                                  </td><td>19                                      </td><td>0                                       </td><td>0                                       </td><td>112053                                  </td><td>30.000                                  </td><td>B42                                     </td><td>S                                       </td></tr>\n",
       "\t<tr><th scope=row>889</th><td>889                                     </td><td>0                                       </td><td>3                                       </td><td>Johnston, Miss. Catherine Helen \"Carrie\"</td><td>female                                  </td><td>NA                                      </td><td>1                                       </td><td>2                                       </td><td>W./C. 6607                              </td><td>23.450                                  </td><td>                                        </td><td>S                                       </td></tr>\n",
       "\t<tr><th scope=row>890</th><td>890                                     </td><td>1                                       </td><td>1                                       </td><td>Behr, Mr. Karl Howell                   </td><td>male                                    </td><td>26                                      </td><td>0                                       </td><td>0                                       </td><td>111369                                  </td><td>30.000                                  </td><td>C148                                    </td><td>C                                       </td></tr>\n",
       "\t<tr><th scope=row>891</th><td>891                                     </td><td>0                                       </td><td>3                                       </td><td>Dooley, Mr. Patrick                     </td><td>male                                    </td><td>32                                      </td><td>0                                       </td><td>0                                       </td><td>370376                                  </td><td> 7.750                                  </td><td>                                        </td><td>Q                                       </td></tr>\n",
       "</tbody>\n",
       "</table>\n"
      ],
      "text/latex": [
       "\\begin{tabular}{r|llllllllllll}\n",
       "  & PassengerId & Survived & Pclass & Name & Sex & Age & SibSp & Parch & Ticket & Fare & Cabin & Embarked\\\\\n",
       "\\hline\n",
       "\t886 & 886                                      & 0                                        & 3                                        & Rice, Mrs. William (Margaret Norton)     & female                                   & 39                                       & 0                                        & 5                                        & 382652                                   & 29.125                                   &                                          & Q                                       \\\\\n",
       "\t887 & 887                                      & 0                                        & 2                                        & Montvila, Rev. Juozas                    & male                                     & 27                                       & 0                                        & 0                                        & 211536                                   & 13.000                                   &                                          & S                                       \\\\\n",
       "\t888 & 888                                      & 1                                        & 1                                        & Graham, Miss. Margaret Edith             & female                                   & 19                                       & 0                                        & 0                                        & 112053                                   & 30.000                                   & B42                                      & S                                       \\\\\n",
       "\t889 & 889                                      & 0                                        & 3                                        & Johnston, Miss. Catherine Helen \"Carrie\" & female                                   & NA                                       & 1                                        & 2                                        & W./C. 6607                               & 23.450                                   &                                          & S                                       \\\\\n",
       "\t890 & 890                                      & 1                                        & 1                                        & Behr, Mr. Karl Howell                    & male                                     & 26                                       & 0                                        & 0                                        & 111369                                   & 30.000                                   & C148                                     & C                                       \\\\\n",
       "\t891 & 891                                      & 0                                        & 3                                        & Dooley, Mr. Patrick                      & male                                     & 32                                       & 0                                        & 0                                        & 370376                                   &  7.750                                   &                                          & Q                                       \\\\\n",
       "\\end{tabular}\n"
      ],
      "text/markdown": [
       "\n",
       "| <!--/--> | PassengerId | Survived | Pclass | Name | Sex | Age | SibSp | Parch | Ticket | Fare | Cabin | Embarked |\n",
       "|---|---|---|---|---|---|---|---|---|---|---|---|---|\n",
       "| 886 | 886                                      | 0                                        | 3                                        | Rice, Mrs. William (Margaret Norton)     | female                                   | 39                                       | 0                                        | 5                                        | 382652                                   | 29.125                                   |                                          | Q                                        |\n",
       "| 887 | 887                                      | 0                                        | 2                                        | Montvila, Rev. Juozas                    | male                                     | 27                                       | 0                                        | 0                                        | 211536                                   | 13.000                                   |                                          | S                                        |\n",
       "| 888 | 888                                      | 1                                        | 1                                        | Graham, Miss. Margaret Edith             | female                                   | 19                                       | 0                                        | 0                                        | 112053                                   | 30.000                                   | B42                                      | S                                        |\n",
       "| 889 | 889                                      | 0                                        | 3                                        | Johnston, Miss. Catherine Helen \"Carrie\" | female                                   | NA                                       | 1                                        | 2                                        | W./C. 6607                               | 23.450                                   |                                          | S                                        |\n",
       "| 890 | 890                                      | 1                                        | 1                                        | Behr, Mr. Karl Howell                    | male                                     | 26                                       | 0                                        | 0                                        | 111369                                   | 30.000                                   | C148                                     | C                                        |\n",
       "| 891 | 891                                      | 0                                        | 3                                        | Dooley, Mr. Patrick                      | male                                     | 32                                       | 0                                        | 0                                        | 370376                                   |  7.750                                   |                                          | Q                                        |\n",
       "\n"
      ],
      "text/plain": [
       "    PassengerId Survived Pclass Name                                     Sex   \n",
       "886 886         0        3      Rice, Mrs. William (Margaret Norton)     female\n",
       "887 887         0        2      Montvila, Rev. Juozas                    male  \n",
       "888 888         1        1      Graham, Miss. Margaret Edith             female\n",
       "889 889         0        3      Johnston, Miss. Catherine Helen \"Carrie\" female\n",
       "890 890         1        1      Behr, Mr. Karl Howell                    male  \n",
       "891 891         0        3      Dooley, Mr. Patrick                      male  \n",
       "    Age SibSp Parch Ticket     Fare   Cabin Embarked\n",
       "886 39  0     5     382652     29.125       Q       \n",
       "887 27  0     0     211536     13.000       S       \n",
       "888 19  0     0     112053     30.000 B42   S       \n",
       "889 NA  1     2     W./C. 6607 23.450       S       \n",
       "890 26  0     0     111369     30.000 C148  C       \n",
       "891 32  0     0     370376      7.750       Q       "
      ]
     },
     "metadata": {},
     "output_type": "display_data"
    },
    {
     "name": "stdout",
     "output_type": "stream",
     "text": [
      "'data.frame':\t891 obs. of  12 variables:\n",
      " $ PassengerId: int  1 2 3 4 5 6 7 8 9 10 ...\n",
      " $ Survived   : int  0 1 1 1 0 0 0 0 1 1 ...\n",
      " $ Pclass     : int  3 1 3 1 3 3 1 3 3 2 ...\n",
      " $ Name       : Factor w/ 891 levels \"Abbing, Mr. Anthony\",..: 109 191 354 273 16 555 516 625 413 577 ...\n",
      " $ Sex        : Factor w/ 2 levels \"female\",\"male\": 2 1 1 1 2 2 2 2 1 1 ...\n",
      " $ Age        : num  22 38 26 35 35 NA 54 2 27 14 ...\n",
      " $ SibSp      : int  1 1 0 1 0 0 0 3 0 1 ...\n",
      " $ Parch      : int  0 0 0 0 0 0 0 1 2 0 ...\n",
      " $ Ticket     : Factor w/ 681 levels \"110152\",\"110413\",..: 524 597 670 50 473 276 86 396 345 133 ...\n",
      " $ Fare       : num  7.25 71.28 7.92 53.1 8.05 ...\n",
      " $ Cabin      : Factor w/ 148 levels \"\",\"A10\",\"A14\",..: 1 83 1 57 1 1 131 1 1 1 ...\n",
      " $ Embarked   : Factor w/ 4 levels \"\",\"C\",\"Q\",\"S\": 4 2 4 4 4 3 4 4 4 2 ...\n"
     ]
    }
   ],
   "source": [
    "train_df <- read.csv(\"../Data/Titanic_train.csv\")\n",
    "head(train_df, 10) \n",
    "tail(train_df)\n",
    "str(train_df)\n",
    "\n",
    "# 데이터가 어떤 식으로 되어있는지 잘못 입력된건 없는지 확인해야한다. \n",
    "## 항구 팩터가 4개 임으로 이상치가 하나 들어가있다 "
   ]
  },
  {
   "cell_type": "markdown",
   "metadata": {},
   "source": [
    "### 컬럼 내용 확인 \n",
    "- Survived : 생존 여부 (0 = 사망, 1 = 생존 True/False) / 이상치가 있는지 확인해봐야함 / Target컬럼 / 타켓이 숫자면 랜덤포레스트,SVM은 결과를 숫자로 준다\n",
    "- Pclass : 티켓 등급  (1 = 1등급 객실, 2 = 2등급 , 3 = 3등급) / 타이타닉의 티켓 등급 확인 , 타이타닉의 구조 확인 (3등급은 출입구가 두 개밖에 없었다) \n",
    "    1등급은 작위가 있어야함 상류층, 2등급 작위는 없지만 돈은 많음 중산층, 3등급 서민 /  \n",
    "    딥러닝에 쓸수 있는 정형데이터가 아직 별로 없다. 현재 이미지 같은 비정형데이터에 주로 사용\n",
    "- SibSp : 함께 탑승한 형제, 자매, 배우자의 수\n",
    "- Parch : 함께 탑승한 부모, 자식의 수 \n",
    "- Fare : 운임, 짐에 대한 비용\n",
    "- Cabin : 선실, 객실 번호\n",
    "- Embarked : 탑승 항구 / 3곳 C = Chersbourg 오스트리아 (잘 살았음, 베토벤 시절) , Q = Queenstown 영국 , S = Southampton 영국 (영국은 못 살던 시절)"
   ]
  },
  {
   "cell_type": "markdown",
   "metadata": {},
   "source": [
    "## 컬럼별로 하나씩 확인 작업"
   ]
  },
  {
   "cell_type": "code",
   "execution_count": 12,
   "metadata": {
    "vscode": {
     "languageId": "r"
    }
   },
   "outputs": [
    {
     "data": {
      "text/html": [
       "177"
      ],
      "text/latex": [
       "177"
      ],
      "text/markdown": [
       "177"
      ],
      "text/plain": [
       "[1] 177"
      ]
     },
     "metadata": {},
     "output_type": "display_data"
    },
    {
     "data": {
      "text/html": [
       "<dl class=dl-horizontal>\n",
       "\t<dt>PassengerId</dt>\n",
       "\t\t<dd>0</dd>\n",
       "\t<dt>Survived</dt>\n",
       "\t\t<dd>0</dd>\n",
       "\t<dt>Pclass</dt>\n",
       "\t\t<dd>0</dd>\n",
       "\t<dt>Name</dt>\n",
       "\t\t<dd>0</dd>\n",
       "\t<dt>Sex</dt>\n",
       "\t\t<dd>0</dd>\n",
       "\t<dt>Age</dt>\n",
       "\t\t<dd>177</dd>\n",
       "\t<dt>SibSp</dt>\n",
       "\t\t<dd>0</dd>\n",
       "\t<dt>Parch</dt>\n",
       "\t\t<dd>0</dd>\n",
       "\t<dt>Ticket</dt>\n",
       "\t\t<dd>0</dd>\n",
       "\t<dt>Fare</dt>\n",
       "\t\t<dd>0</dd>\n",
       "\t<dt>Cabin</dt>\n",
       "\t\t<dd>0</dd>\n",
       "\t<dt>Embarked</dt>\n",
       "\t\t<dd>0</dd>\n",
       "</dl>\n"
      ],
      "text/latex": [
       "\\begin{description*}\n",
       "\\item[PassengerId] 0\n",
       "\\item[Survived] 0\n",
       "\\item[Pclass] 0\n",
       "\\item[Name] 0\n",
       "\\item[Sex] 0\n",
       "\\item[Age] 177\n",
       "\\item[SibSp] 0\n",
       "\\item[Parch] 0\n",
       "\\item[Ticket] 0\n",
       "\\item[Fare] 0\n",
       "\\item[Cabin] 0\n",
       "\\item[Embarked] 0\n",
       "\\end{description*}\n"
      ],
      "text/markdown": [
       "PassengerId\n",
       ":   0Survived\n",
       ":   0Pclass\n",
       ":   0Name\n",
       ":   0Sex\n",
       ":   0Age\n",
       ":   177SibSp\n",
       ":   0Parch\n",
       ":   0Ticket\n",
       ":   0Fare\n",
       ":   0Cabin\n",
       ":   0Embarked\n",
       ":   0\n",
       "\n"
      ],
      "text/plain": [
       "PassengerId    Survived      Pclass        Name         Sex         Age \n",
       "          0           0           0           0           0         177 \n",
       "      SibSp       Parch      Ticket        Fare       Cabin    Embarked \n",
       "          0           0           0           0           0           0 "
      ]
     },
     "metadata": {},
     "output_type": "display_data"
    },
    {
     "data": {
      "text/html": [
       "0.198653198653199"
      ],
      "text/latex": [
       "0.198653198653199"
      ],
      "text/markdown": [
       "0.198653198653199"
      ],
      "text/plain": [
       "[1] 0.1986532"
      ]
     },
     "metadata": {},
     "output_type": "display_data"
    }
   ],
   "source": [
    "# 각 컬럼별 NA 확인\n",
    "sum(is.na(train_df))\n",
    "colSums(is.na(train_df))\n",
    "\n",
    "# AGE에만 177개의 NA가 있다 \n",
    "177 / 891 # 0.198653198653199 , 20% Age에 채워넣을 데이터, 연관된 데이터가 없다 "
   ]
  },
  {
   "cell_type": "code",
   "execution_count": 30,
   "metadata": {
    "vscode": {
     "languageId": "r"
    }
   },
   "outputs": [
    {
     "data": {
      "text/html": [
       "<table>\n",
       "<thead><tr><th></th><th scope=col>PassengerId</th><th scope=col>Survived</th><th scope=col>Pclass</th><th scope=col>Name</th><th scope=col>Sex</th><th scope=col>Age</th><th scope=col>SibSp</th><th scope=col>Parch</th><th scope=col>Ticket</th><th scope=col>Fare</th><th scope=col>Cabin</th><th scope=col>Embarked</th></tr></thead>\n",
       "<tbody>\n",
       "\t<tr><th scope=row>1</th><td>1                                                  </td><td>0                                                  </td><td>3                                                  </td><td>Braund, Mr. Owen Harris                            </td><td>male                                               </td><td>22                                                 </td><td>1                                                  </td><td>0                                                  </td><td>A/5 21171                                          </td><td> 7.2500                                            </td><td>                                                   </td><td>S                                                  </td></tr>\n",
       "\t<tr><th scope=row>2</th><td>2                                                  </td><td>1                                                  </td><td>1                                                  </td><td>Cumings, Mrs. John Bradley (Florence Briggs Thayer)</td><td>female                                             </td><td>38                                                 </td><td>1                                                  </td><td>0                                                  </td><td>PC 17599                                           </td><td>71.2833                                            </td><td>C85                                                </td><td>C                                                  </td></tr>\n",
       "\t<tr><th scope=row>3</th><td>3                                                  </td><td>1                                                  </td><td>3                                                  </td><td>Heikkinen, Miss. Laina                             </td><td>female                                             </td><td>26                                                 </td><td>0                                                  </td><td>0                                                  </td><td>STON/O2. 3101282                                   </td><td> 7.9250                                            </td><td>                                                   </td><td>S                                                  </td></tr>\n",
       "\t<tr><th scope=row>4</th><td>4                                                  </td><td>1                                                  </td><td>1                                                  </td><td>Futrelle, Mrs. Jacques Heath (Lily May Peel)       </td><td>female                                             </td><td>35                                                 </td><td>1                                                  </td><td>0                                                  </td><td>113803                                             </td><td>53.1000                                            </td><td>C123                                               </td><td>S                                                  </td></tr>\n",
       "\t<tr><th scope=row>5</th><td>5                                                  </td><td>0                                                  </td><td>3                                                  </td><td>Allen, Mr. William Henry                           </td><td>male                                               </td><td>35                                                 </td><td>0                                                  </td><td>0                                                  </td><td>373450                                             </td><td> 8.0500                                            </td><td>                                                   </td><td>S                                                  </td></tr>\n",
       "\t<tr><th scope=row>7</th><td>7                                                  </td><td>0                                                  </td><td>1                                                  </td><td>McCarthy, Mr. Timothy J                            </td><td>male                                               </td><td>54                                                 </td><td>0                                                  </td><td>0                                                  </td><td>17463                                              </td><td>51.8625                                            </td><td>E46                                                </td><td>S                                                  </td></tr>\n",
       "</tbody>\n",
       "</table>\n"
      ],
      "text/latex": [
       "\\begin{tabular}{r|llllllllllll}\n",
       "  & PassengerId & Survived & Pclass & Name & Sex & Age & SibSp & Parch & Ticket & Fare & Cabin & Embarked\\\\\n",
       "\\hline\n",
       "\t1 & 1                                                   & 0                                                   & 3                                                   & Braund, Mr. Owen Harris                             & male                                                & 22                                                  & 1                                                   & 0                                                   & A/5 21171                                           &  7.2500                                             &                                                     & S                                                  \\\\\n",
       "\t2 & 2                                                   & 1                                                   & 1                                                   & Cumings, Mrs. John Bradley (Florence Briggs Thayer) & female                                              & 38                                                  & 1                                                   & 0                                                   & PC 17599                                            & 71.2833                                             & C85                                                 & C                                                  \\\\\n",
       "\t3 & 3                                                   & 1                                                   & 3                                                   & Heikkinen, Miss. Laina                              & female                                              & 26                                                  & 0                                                   & 0                                                   & STON/O2. 3101282                                    &  7.9250                                             &                                                     & S                                                  \\\\\n",
       "\t4 & 4                                                   & 1                                                   & 1                                                   & Futrelle, Mrs. Jacques Heath (Lily May Peel)        & female                                              & 35                                                  & 1                                                   & 0                                                   & 113803                                              & 53.1000                                             & C123                                                & S                                                  \\\\\n",
       "\t5 & 5                                                   & 0                                                   & 3                                                   & Allen, Mr. William Henry                            & male                                                & 35                                                  & 0                                                   & 0                                                   & 373450                                              &  8.0500                                             &                                                     & S                                                  \\\\\n",
       "\t7 & 7                                                   & 0                                                   & 1                                                   & McCarthy, Mr. Timothy J                             & male                                                & 54                                                  & 0                                                   & 0                                                   & 17463                                               & 51.8625                                             & E46                                                 & S                                                  \\\\\n",
       "\\end{tabular}\n"
      ],
      "text/markdown": [
       "\n",
       "| <!--/--> | PassengerId | Survived | Pclass | Name | Sex | Age | SibSp | Parch | Ticket | Fare | Cabin | Embarked |\n",
       "|---|---|---|---|---|---|---|---|---|---|---|---|---|\n",
       "| 1 | 1                                                   | 0                                                   | 3                                                   | Braund, Mr. Owen Harris                             | male                                                | 22                                                  | 1                                                   | 0                                                   | A/5 21171                                           |  7.2500                                             |                                                     | S                                                   |\n",
       "| 2 | 2                                                   | 1                                                   | 1                                                   | Cumings, Mrs. John Bradley (Florence Briggs Thayer) | female                                              | 38                                                  | 1                                                   | 0                                                   | PC 17599                                            | 71.2833                                             | C85                                                 | C                                                   |\n",
       "| 3 | 3                                                   | 1                                                   | 3                                                   | Heikkinen, Miss. Laina                              | female                                              | 26                                                  | 0                                                   | 0                                                   | STON/O2. 3101282                                    |  7.9250                                             |                                                     | S                                                   |\n",
       "| 4 | 4                                                   | 1                                                   | 1                                                   | Futrelle, Mrs. Jacques Heath (Lily May Peel)        | female                                              | 35                                                  | 1                                                   | 0                                                   | 113803                                              | 53.1000                                             | C123                                                | S                                                   |\n",
       "| 5 | 5                                                   | 0                                                   | 3                                                   | Allen, Mr. William Henry                            | male                                                | 35                                                  | 0                                                   | 0                                                   | 373450                                              |  8.0500                                             |                                                     | S                                                   |\n",
       "| 7 | 7                                                   | 0                                                   | 1                                                   | McCarthy, Mr. Timothy J                             | male                                                | 54                                                  | 0                                                   | 0                                                   | 17463                                               | 51.8625                                             | E46                                                 | S                                                   |\n",
       "\n"
      ],
      "text/plain": [
       "  PassengerId Survived Pclass\n",
       "1 1           0        3     \n",
       "2 2           1        1     \n",
       "3 3           1        3     \n",
       "4 4           1        1     \n",
       "5 5           0        3     \n",
       "7 7           0        1     \n",
       "  Name                                                Sex    Age SibSp Parch\n",
       "1 Braund, Mr. Owen Harris                             male   22  1     0    \n",
       "2 Cumings, Mrs. John Bradley (Florence Briggs Thayer) female 38  1     0    \n",
       "3 Heikkinen, Miss. Laina                              female 26  0     0    \n",
       "4 Futrelle, Mrs. Jacques Heath (Lily May Peel)        female 35  1     0    \n",
       "5 Allen, Mr. William Henry                            male   35  0     0    \n",
       "7 McCarthy, Mr. Timothy J                             male   54  0     0    \n",
       "  Ticket           Fare    Cabin Embarked\n",
       "1 A/5 21171         7.2500       S       \n",
       "2 PC 17599         71.2833 C85   C       \n",
       "3 STON/O2. 3101282  7.9250       S       \n",
       "4 113803           53.1000 C123  S       \n",
       "5 373450            8.0500       S       \n",
       "7 17463            51.8625 E46   S       "
      ]
     },
     "metadata": {},
     "output_type": "display_data"
    }
   ],
   "source": [
    "# train_df$Age가 NA인 것 빼고 데이터셋 만들기\n",
    "\n",
    "head(subset(train_df , train_df$Age != 'NA'))\n",
    "train_df_na <- subset(train_df , !is.na(Age))\n",
    "\n",
    "## 갯수 확인하기\n",
    "# 891 - 177 = 714\n",
    "# nrow(subset(train_df , train_df$Age != 'NA')) = 714"
   ]
  },
  {
   "cell_type": "code",
   "execution_count": 35,
   "metadata": {
    "vscode": {
     "languageId": "r"
    }
   },
   "outputs": [
    {
     "data": {
      "text/html": [
       "<table>\n",
       "<thead><tr><th scope=col>PassengerId</th><th scope=col>Survived</th><th scope=col>Pclass</th><th scope=col>Name</th><th scope=col>Sex</th><th scope=col>Age</th><th scope=col>SibSp</th><th scope=col>Parch</th><th scope=col>Ticket</th><th scope=col>Fare</th><th scope=col>Cabin</th><th scope=col>Embarked</th></tr></thead>\n",
       "<tbody>\n",
       "\t<tr><td> 1                            </td><td>0                             </td><td>3                             </td><td>Braund, Mr. Owen Harris       </td><td>male                          </td><td>22                            </td><td>1                             </td><td>0                             </td><td>A/5 21171                     </td><td> 7.2500                       </td><td>                              </td><td>S                             </td></tr>\n",
       "\t<tr><td> 5                            </td><td>0                             </td><td>3                             </td><td>Allen, Mr. William Henry      </td><td>male                          </td><td>35                            </td><td>0                             </td><td>0                             </td><td>373450                        </td><td> 8.0500                       </td><td>                              </td><td>S                             </td></tr>\n",
       "\t<tr><td> 6                            </td><td>0                             </td><td>3                             </td><td>Moran, Mr. James              </td><td>male                          </td><td>NA                            </td><td>0                             </td><td>0                             </td><td>330877                        </td><td> 8.4583                       </td><td>                              </td><td>Q                             </td></tr>\n",
       "\t<tr><td> 7                            </td><td>0                             </td><td>1                             </td><td>McCarthy, Mr. Timothy J       </td><td>male                          </td><td>54                            </td><td>0                             </td><td>0                             </td><td>17463                         </td><td>51.8625                       </td><td>E46                           </td><td>S                             </td></tr>\n",
       "\t<tr><td> 8                            </td><td>0                             </td><td>3                             </td><td>Palsson, Master. Gosta Leonard</td><td>male                          </td><td> 2                            </td><td>3                             </td><td>1                             </td><td>349909                        </td><td>21.0750                       </td><td>                              </td><td>S                             </td></tr>\n",
       "\t<tr><td>13                            </td><td>0                             </td><td>3                             </td><td>Saundercock, Mr. William Henry</td><td>male                          </td><td>20                            </td><td>0                             </td><td>0                             </td><td>A/5. 2151                     </td><td> 8.0500                       </td><td>                              </td><td>S                             </td></tr>\n",
       "</tbody>\n",
       "</table>\n"
      ],
      "text/latex": [
       "\\begin{tabular}{r|llllllllllll}\n",
       " PassengerId & Survived & Pclass & Name & Sex & Age & SibSp & Parch & Ticket & Fare & Cabin & Embarked\\\\\n",
       "\\hline\n",
       "\t  1                             & 0                              & 3                              & Braund, Mr. Owen Harris        & male                           & 22                             & 1                              & 0                              & A/5 21171                      &  7.2500                        &                                & S                             \\\\\n",
       "\t  5                             & 0                              & 3                              & Allen, Mr. William Henry       & male                           & 35                             & 0                              & 0                              & 373450                         &  8.0500                        &                                & S                             \\\\\n",
       "\t  6                             & 0                              & 3                              & Moran, Mr. James               & male                           & NA                             & 0                              & 0                              & 330877                         &  8.4583                        &                                & Q                             \\\\\n",
       "\t  7                             & 0                              & 1                              & McCarthy, Mr. Timothy J        & male                           & 54                             & 0                              & 0                              & 17463                          & 51.8625                        & E46                            & S                             \\\\\n",
       "\t  8                             & 0                              & 3                              & Palsson, Master. Gosta Leonard & male                           &  2                             & 3                              & 1                              & 349909                         & 21.0750                        &                                & S                             \\\\\n",
       "\t 13                             & 0                              & 3                              & Saundercock, Mr. William Henry & male                           & 20                             & 0                              & 0                              & A/5. 2151                      &  8.0500                        &                                & S                             \\\\\n",
       "\\end{tabular}\n"
      ],
      "text/markdown": [
       "\n",
       "| PassengerId | Survived | Pclass | Name | Sex | Age | SibSp | Parch | Ticket | Fare | Cabin | Embarked |\n",
       "|---|---|---|---|---|---|---|---|---|---|---|---|\n",
       "|  1                             | 0                              | 3                              | Braund, Mr. Owen Harris        | male                           | 22                             | 1                              | 0                              | A/5 21171                      |  7.2500                        |                                | S                              |\n",
       "|  5                             | 0                              | 3                              | Allen, Mr. William Henry       | male                           | 35                             | 0                              | 0                              | 373450                         |  8.0500                        |                                | S                              |\n",
       "|  6                             | 0                              | 3                              | Moran, Mr. James               | male                           | NA                             | 0                              | 0                              | 330877                         |  8.4583                        |                                | Q                              |\n",
       "|  7                             | 0                              | 1                              | McCarthy, Mr. Timothy J        | male                           | 54                             | 0                              | 0                              | 17463                          | 51.8625                        | E46                            | S                              |\n",
       "|  8                             | 0                              | 3                              | Palsson, Master. Gosta Leonard | male                           |  2                             | 3                              | 1                              | 349909                         | 21.0750                        |                                | S                              |\n",
       "| 13                             | 0                              | 3                              | Saundercock, Mr. William Henry | male                           | 20                             | 0                              | 0                              | A/5. 2151                      |  8.0500                        |                                | S                              |\n",
       "\n"
      ],
      "text/plain": [
       "  PassengerId Survived Pclass Name                           Sex  Age SibSp\n",
       "1  1          0        3      Braund, Mr. Owen Harris        male 22  1    \n",
       "2  5          0        3      Allen, Mr. William Henry       male 35  0    \n",
       "3  6          0        3      Moran, Mr. James               male NA  0    \n",
       "4  7          0        1      McCarthy, Mr. Timothy J        male 54  0    \n",
       "5  8          0        3      Palsson, Master. Gosta Leonard male  2  3    \n",
       "6 13          0        3      Saundercock, Mr. William Henry male 20  0    \n",
       "  Parch Ticket    Fare    Cabin Embarked\n",
       "1 0     A/5 21171  7.2500       S       \n",
       "2 0     373450     8.0500       S       \n",
       "3 0     330877     8.4583       Q       \n",
       "4 0     17463     51.8625 E46   S       \n",
       "5 1     349909    21.0750       S       \n",
       "6 0     A/5. 2151  8.0500       S       "
      ]
     },
     "metadata": {},
     "output_type": "display_data"
    }
   ],
   "source": [
    "# Survived 기준으로 Dataset 정렬 \n",
    "train_df <- arrange(train_df, train_df$Survived)\n",
    "head(train_df)\n",
    "\n",
    "# NA 없앤 버전\n",
    "# arrange(train_df_na, train_df_na$Survived)"
   ]
  },
  {
   "cell_type": "code",
   "execution_count": 36,
   "metadata": {
    "vscode": {
     "languageId": "r"
    }
   },
   "outputs": [
    {
     "data": {
      "text/html": [
       "<ol class=list-inline>\n",
       "\t<li>891</li>\n",
       "\t<li>12</li>\n",
       "</ol>\n"
      ],
      "text/latex": [
       "\\begin{enumerate*}\n",
       "\\item 891\n",
       "\\item 12\n",
       "\\end{enumerate*}\n"
      ],
      "text/markdown": [
       "1. 891\n",
       "2. 12\n",
       "\n",
       "\n"
      ],
      "text/plain": [
       "[1] 891  12"
      ]
     },
     "metadata": {},
     "output_type": "display_data"
    }
   ],
   "source": [
    "# 정렬된 크기 확인하기\n",
    "dim(train_df) # 차원 확인하기 1. row , 2. col"
   ]
  },
  {
   "cell_type": "markdown",
   "metadata": {},
   "source": [
    "## Target Column : Survived 분석 및 확인"
   ]
  },
  {
   "cell_type": "code",
   "execution_count": 71,
   "metadata": {
    "vscode": {
     "languageId": "r"
    }
   },
   "outputs": [
    {
     "data": {
      "text/plain": [
       "\n",
       "  0   1 \n",
       "549 342 "
      ]
     },
     "metadata": {},
     "output_type": "display_data"
    },
    {
     "data": {
      "text/html": [
       "<table>\n",
       "<thead><tr><th scope=col>train_df$Survived</th><th scope=col>n</th></tr></thead>\n",
       "<tbody>\n",
       "\t<tr><td>0  </td><td>549</td></tr>\n",
       "\t<tr><td>1  </td><td>342</td></tr>\n",
       "</tbody>\n",
       "</table>\n"
      ],
      "text/latex": [
       "\\begin{tabular}{r|ll}\n",
       " train\\_df\\$Survived & n\\\\\n",
       "\\hline\n",
       "\t 0   & 549\\\\\n",
       "\t 1   & 342\\\\\n",
       "\\end{tabular}\n"
      ],
      "text/markdown": [
       "\n",
       "| train_df$Survived | n |\n",
       "|---|---|\n",
       "| 0   | 549 |\n",
       "| 1   | 342 |\n",
       "\n"
      ],
      "text/plain": [
       "  train_df$Survived n  \n",
       "1 0                 549\n",
       "2 1                 342"
      ]
     },
     "metadata": {},
     "output_type": "display_data"
    },
    {
     "data": {
      "text/html": [
       "549"
      ],
      "text/latex": [
       "549"
      ],
      "text/markdown": [
       "549"
      ],
      "text/plain": [
       "[1] 549"
      ]
     },
     "metadata": {},
     "output_type": "display_data"
    },
    {
     "data": {
      "text/html": [
       "549"
      ],
      "text/latex": [
       "549"
      ],
      "text/markdown": [
       "549"
      ],
      "text/plain": [
       "[1] 549"
      ]
     },
     "metadata": {},
     "output_type": "display_data"
    },
    {
     "data": {
      "text/html": [
       "342"
      ],
      "text/latex": [
       "342"
      ],
      "text/markdown": [
       "342"
      ],
      "text/plain": [
       "[1] 342"
      ]
     },
     "metadata": {},
     "output_type": "display_data"
    },
    {
     "data": {
      "text/html": [
       "342"
      ],
      "text/latex": [
       "342"
      ],
      "text/markdown": [
       "342"
      ],
      "text/plain": [
       "[1] 342"
      ]
     },
     "metadata": {},
     "output_type": "display_data"
    },
    {
     "data": {
      "text/html": [
       "38.3838383838384"
      ],
      "text/latex": [
       "38.3838383838384"
      ],
      "text/markdown": [
       "38.3838383838384"
      ],
      "text/plain": [
       "[1] 38.38384"
      ]
     },
     "metadata": {},
     "output_type": "display_data"
    }
   ],
   "source": [
    "# Survived의 생존과 사망 Count 확인 및 비율 계산하기\n",
    "table(train_df$Survived)\n",
    "count(train_df, train_df$Survived)\n",
    "\n",
    "# 사망자수\n",
    "nrow(train_df[train_df$Survived == 0 , ])\n",
    "sum(train_df$Survived == 0)\n",
    "# 생존자수\n",
    "nrow(train_df[train_df$Survived == 1 , ])\n",
    "sum(train_df$Survived == 1)\n",
    "# 생존자수의 비율\n",
    "nrow(train_df[train_df$Survived == 1 , ]) / nrow(train_df) * 100\n",
    "\n",
    "# 피쳐는 특징이 있으면 좋고, 타겟은 비율이 고르면 좋다 (best 1:1이지만 거의 없음)\n"
   ]
  },
  {
   "cell_type": "code",
   "execution_count": 93,
   "metadata": {
    "vscode": {
     "languageId": "r"
    }
   },
   "outputs": [
    {
     "data": {
      "image/png": "[encoded data removed]",
      "text/plain": [
       "Plot with title “타이타닉호 생존수와 사망수”"
      ]
     },
     "metadata": {},
     "output_type": "display_data"
    }
   ],
   "source": [
    "# 타이타닉호 생존율 시각화 \n",
    "\n",
    "# 생존과 사망 비율을 Pie Chart로 생성 \n",
    "Survive <- count(train_df, train_df$Survived)$n\n",
    "ratio <- round(Survive / nrow(train_df) * 100 , 2)\n",
    "label <- paste( c('사망','생존') , \"\\n\", ratio , \"%\")\n",
    "\n",
    "\n",
    "par(family = 'AppleGothic', bg = 'white' , mfrow = c(2,1)) # \n",
    "pie3D(Survive, \n",
    "    main = \"타이타닉호 생존율\",\n",
    "    labels = label,\n",
    "    col = rainbow(length(Survive)),\n",
    "    explode = 0.05\n",
    ")\n",
    "\n",
    "# 생존자 수과 사망자 수 수치를 막대그래프로 생성\n",
    "# 막대그래프 테이블이랑 친함 \n",
    "par(family = 'AppleGothic', bg = 'white')\n",
    "barplot(Survive , # table(train_df$Survived) 도 가능\n",
    "    main = \"타이타닉호 생존수와 사망수\",\n",
    "    ylab = \"인원수\",\n",
    "    xlab = \"생존여부\",\n",
    "    ylim = c(0,600),\n",
    "    names = c('사망','생존'),\n",
    "    col = c('red' , 'blue')\n",
    ")\n",
    "for(i in 1:length(Survive)) {\n",
    "text(0.7 + (i-1)*1.2,Survive[i]/2,paste(Survive[i],'명'),col='white')\n",
    "}"
   ]
  },
  {
   "cell_type": "markdown",
   "metadata": {},
   "source": [
    "> Target Column으로 Survived를 선정"
   ]
  },
  {
   "cell_type": "markdown",
   "metadata": {},
   "source": [
    "---\n",
    "# Feature Column 찾기"
   ]
  },
  {
   "cell_type": "code",
   "execution_count": 92,
   "metadata": {
    "vscode": {
     "languageId": "r"
    }
   },
   "outputs": [
    {
     "data": {
      "text/html": [
       "<table>\n",
       "<thead><tr><th scope=col>PassengerId</th><th scope=col>Survived</th><th scope=col>Pclass</th><th scope=col>Name</th><th scope=col>Sex</th><th scope=col>Age</th><th scope=col>SibSp</th><th scope=col>Parch</th><th scope=col>Ticket</th><th scope=col>Fare</th><th scope=col>Cabin</th><th scope=col>Embarked</th></tr></thead>\n",
       "<tbody>\n",
       "\t<tr><td> 1                            </td><td>0                             </td><td>3                             </td><td>Braund, Mr. Owen Harris       </td><td>male                          </td><td>22                            </td><td>1                             </td><td>0                             </td><td>A/5 21171                     </td><td> 7.2500                       </td><td>                              </td><td>S                             </td></tr>\n",
       "\t<tr><td> 5                            </td><td>0                             </td><td>3                             </td><td>Allen, Mr. William Henry      </td><td>male                          </td><td>35                            </td><td>0                             </td><td>0                             </td><td>373450                        </td><td> 8.0500                       </td><td>                              </td><td>S                             </td></tr>\n",
       "\t<tr><td> 6                            </td><td>0                             </td><td>3                             </td><td>Moran, Mr. James              </td><td>male                          </td><td>NA                            </td><td>0                             </td><td>0                             </td><td>330877                        </td><td> 8.4583                       </td><td>                              </td><td>Q                             </td></tr>\n",
       "\t<tr><td> 7                            </td><td>0                             </td><td>1                             </td><td>McCarthy, Mr. Timothy J       </td><td>male                          </td><td>54                            </td><td>0                             </td><td>0                             </td><td>17463                         </td><td>51.8625                       </td><td>E46                           </td><td>S                             </td></tr>\n",
       "\t<tr><td> 8                            </td><td>0                             </td><td>3                             </td><td>Palsson, Master. Gosta Leonard</td><td>male                          </td><td> 2                            </td><td>3                             </td><td>1                             </td><td>349909                        </td><td>21.0750                       </td><td>                              </td><td>S                             </td></tr>\n",
       "\t<tr><td>13                            </td><td>0                             </td><td>3                             </td><td>Saundercock, Mr. William Henry</td><td>male                          </td><td>20                            </td><td>0                             </td><td>0                             </td><td>A/5. 2151                     </td><td> 8.0500                       </td><td>                              </td><td>S                             </td></tr>\n",
       "</tbody>\n",
       "</table>\n"
      ],
      "text/latex": [
       "\\begin{tabular}{r|llllllllllll}\n",
       " PassengerId & Survived & Pclass & Name & Sex & Age & SibSp & Parch & Ticket & Fare & Cabin & Embarked\\\\\n",
       "\\hline\n",
       "\t  1                             & 0                              & 3                              & Braund, Mr. Owen Harris        & male                           & 22                             & 1                              & 0                              & A/5 21171                      &  7.2500                        &                                & S                             \\\\\n",
       "\t  5                             & 0                              & 3                              & Allen, Mr. William Henry       & male                           & 35                             & 0                              & 0                              & 373450                         &  8.0500                        &                                & S                             \\\\\n",
       "\t  6                             & 0                              & 3                              & Moran, Mr. James               & male                           & NA                             & 0                              & 0                              & 330877                         &  8.4583                        &                                & Q                             \\\\\n",
       "\t  7                             & 0                              & 1                              & McCarthy, Mr. Timothy J        & male                           & 54                             & 0                              & 0                              & 17463                          & 51.8625                        & E46                            & S                             \\\\\n",
       "\t  8                             & 0                              & 3                              & Palsson, Master. Gosta Leonard & male                           &  2                             & 3                              & 1                              & 349909                         & 21.0750                        &                                & S                             \\\\\n",
       "\t 13                             & 0                              & 3                              & Saundercock, Mr. William Henry & male                           & 20                             & 0                              & 0                              & A/5. 2151                      &  8.0500                        &                                & S                             \\\\\n",
       "\\end{tabular}\n"
      ],
      "text/markdown": [
       "\n",
       "| PassengerId | Survived | Pclass | Name | Sex | Age | SibSp | Parch | Ticket | Fare | Cabin | Embarked |\n",
       "|---|---|---|---|---|---|---|---|---|---|---|---|\n",
       "|  1                             | 0                              | 3                              | Braund, Mr. Owen Harris        | male                           | 22                             | 1                              | 0                              | A/5 21171                      |  7.2500                        |                                | S                              |\n",
       "|  5                             | 0                              | 3                              | Allen, Mr. William Henry       | male                           | 35                             | 0                              | 0                              | 373450                         |  8.0500                        |                                | S                              |\n",
       "|  6                             | 0                              | 3                              | Moran, Mr. James               | male                           | NA                             | 0                              | 0                              | 330877                         |  8.4583                        |                                | Q                              |\n",
       "|  7                             | 0                              | 1                              | McCarthy, Mr. Timothy J        | male                           | 54                             | 0                              | 0                              | 17463                          | 51.8625                        | E46                            | S                              |\n",
       "|  8                             | 0                              | 3                              | Palsson, Master. Gosta Leonard | male                           |  2                             | 3                              | 1                              | 349909                         | 21.0750                        |                                | S                              |\n",
       "| 13                             | 0                              | 3                              | Saundercock, Mr. William Henry | male                           | 20                             | 0                              | 0                              | A/5. 2151                      |  8.0500                        |                                | S                              |\n",
       "\n"
      ],
      "text/plain": [
       "  PassengerId Survived Pclass Name                           Sex  Age SibSp\n",
       "1  1          0        3      Braund, Mr. Owen Harris        male 22  1    \n",
       "2  5          0        3      Allen, Mr. William Henry       male 35  0    \n",
       "3  6          0        3      Moran, Mr. James               male NA  0    \n",
       "4  7          0        1      McCarthy, Mr. Timothy J        male 54  0    \n",
       "5  8          0        3      Palsson, Master. Gosta Leonard male  2  3    \n",
       "6 13          0        3      Saundercock, Mr. William Henry male 20  0    \n",
       "  Parch Ticket    Fare    Cabin Embarked\n",
       "1 0     A/5 21171  7.2500       S       \n",
       "2 0     373450     8.0500       S       \n",
       "3 0     330877     8.4583       Q       \n",
       "4 0     17463     51.8625 E46   S       \n",
       "5 1     349909    21.0750       S       \n",
       "6 0     A/5. 2151  8.0500       S       "
      ]
     },
     "metadata": {},
     "output_type": "display_data"
    }
   ],
   "source": [
    "head(train_df)\n",
    "# 특징찾기 쉬운 컬럼 찾기\n",
    "# -PassengerId- [Survived(Target)] Pclass -Name- !Sex! Age SibSp Parch -Ticket- Fare Cabin Embarked"
   ]
  },
  {
   "cell_type": "markdown",
   "metadata": {},
   "source": [
    "### 성별 Sex 컬럼 확인"
   ]
  },
  {
   "cell_type": "code",
   "execution_count": 96,
   "metadata": {
    "vscode": {
     "languageId": "r"
    }
   },
   "outputs": [
    {
     "data": {
      "text/html": [
       "<ol class=list-inline>\n",
       "\t<li>male</li>\n",
       "\t<li>female</li>\n",
       "</ol>\n",
       "\n",
       "<details>\n",
       "\t<summary style=display:list-item;cursor:pointer>\n",
       "\t\t<strong>Levels</strong>:\n",
       "\t</summary>\n",
       "\t<ol class=list-inline>\n",
       "\t\t<li>'female'</li>\n",
       "\t\t<li>'male'</li>\n",
       "\t</ol>\n",
       "</details>"
      ],
      "text/latex": [
       "\\begin{enumerate*}\n",
       "\\item male\n",
       "\\item female\n",
       "\\end{enumerate*}\n",
       "\n",
       "\\emph{Levels}: \\begin{enumerate*}\n",
       "\\item 'female'\n",
       "\\item 'male'\n",
       "\\end{enumerate*}\n"
      ],
      "text/markdown": [
       "1. male\n",
       "2. female\n",
       "\n",
       "\n",
       "\n",
       "**Levels**: 1. 'female'\n",
       "2. 'male'\n",
       "\n",
       "\n"
      ],
      "text/plain": [
       "[1] male   female\n",
       "Levels: female male"
      ]
     },
     "metadata": {},
     "output_type": "display_data"
    }
   ],
   "source": [
    "# Sex 컬럼 분류 확인 \n",
    "unique(train_df$Sex)\n",
    "# 꼭 Levels를 확인하기"
   ]
  },
  {
   "cell_type": "code",
   "execution_count": 140,
   "metadata": {
    "vscode": {
     "languageId": "r"
    }
   },
   "outputs": [
    {
     "data": {
      "text/html": [
       "<table>\n",
       "<thead><tr><th scope=col>train_df$Sex</th><th scope=col>n</th></tr></thead>\n",
       "<tbody>\n",
       "\t<tr><td>female</td><td>314   </td></tr>\n",
       "\t<tr><td>male  </td><td>577   </td></tr>\n",
       "</tbody>\n",
       "</table>\n"
      ],
      "text/latex": [
       "\\begin{tabular}{r|ll}\n",
       " train\\_df\\$Sex & n\\\\\n",
       "\\hline\n",
       "\t female & 314   \\\\\n",
       "\t male   & 577   \\\\\n",
       "\\end{tabular}\n"
      ],
      "text/markdown": [
       "\n",
       "| train_df$Sex | n |\n",
       "|---|---|\n",
       "| female | 314    |\n",
       "| male   | 577    |\n",
       "\n"
      ],
      "text/plain": [
       "  train_df$Sex n  \n",
       "1 female       314\n",
       "2 male         577"
      ]
     },
     "metadata": {},
     "output_type": "display_data"
    },
    {
     "data": {
      "text/plain": [
       "        \n",
       "           0   1\n",
       "  female  81 233\n",
       "  male   468 109"
      ]
     },
     "metadata": {},
     "output_type": "display_data"
    },
    {
     "data": {
      "text/plain": [
       "        \n",
       "                0        1\n",
       "  female 25.79618 74.20382\n",
       "  male   81.10919 18.89081"
      ]
     },
     "metadata": {},
     "output_type": "display_data"
    },
    {
     "name": "stdout",
     "output_type": "stream",
     "text": [
      "여성의 생존율 :  74.2 %\n",
      "여성의 사망율 :  25.8 %\n",
      "남성의 생존율 :  18.89 %\n",
      "남성의 사망율 :  81.11 %\n"
     ]
    }
   ],
   "source": [
    "# 여성과 남성의 인원 확인 \n",
    "count(train_df, train_df$Sex )\n",
    "femaleCount <- sum(train_df$Sex == 'female')\n",
    "maleCount <- sum(train_df$Sex == 'male')\n",
    "\n",
    "# 여성의 생존수와 사망수\n",
    "table(train_df$Sex , train_df$Survived)\n",
    "femaleDeath <- sum(train_df$Sex == 'female' & train_df$Survived == 0) # 사망\n",
    "femaleSurvive <- sum(train_df$Sex == 'female' & train_df$Survived == 1) # 생존\n",
    "# subset(train_df , train_df$Sex == 'female' & train_df$Survived == 0 )\n",
    "\n",
    "# 남성의 생존수와 사망수\n",
    "maleDeath <- sum(train_df$Sex == 'male' & train_df$Survived == 0) # 사망\n",
    "maleSurvive <- sum(train_df$Sex == 'male' & train_df$Survived == 1) # 생존\n",
    "\n",
    "# 여성의 생존율과 사망율\n",
    "table(train_df$Sex , train_df$Survived) / c(femaleCount,maleCount) * 100\n",
    "cat('여성의 생존율 : ', round(femaleSurvive / femaleCount * 100 , 2) , '%\\n' )\n",
    "cat('여성의 사망율 : ', round(femaleDeath / femaleCount * 100 , 2) , '%\\n' )\n",
    "\n",
    "# 남성의 생존율과 사망율\n",
    "cat('남성의 생존율 : ', round(maleSurvive / maleCount * 100 , 2) , '%\\n' )\n",
    "cat('남성의 사망율 : ', round(maleDeath / maleCount * 100 , 2) , '%\\n' )\n"
   ]
  },
  {
   "cell_type": "code",
   "execution_count": 187,
   "metadata": {
    "vscode": {
     "languageId": "r"
    }
   },
   "outputs": [
    {
     "data": {
      "image/png": "[encoded data removed]",
      "text/plain": [
       "Plot with title “성별 승선 인원수”"
      ]
     },
     "metadata": {},
     "output_type": "display_data"
    }
   ],
   "source": [
    "p <- table(train_df$Sex , train_df$Survived) / c(femaleCount,maleCount) * 100\n",
    "c <- count(train_df, train_df$Sex )$n\n",
    "femaleP <- p[1,]\n",
    "maleP <- p[2,]\n",
    "\n",
    "labelf <- paste( c('생존','사망') , \"\\n\", round(femaleP[c(2,1)] ,2) , \"%\")\n",
    "labelm <- paste( c('사망','생존') , \"\\n\", round(maleP ,2) , \"%\")\n",
    "\n",
    "par(family = 'AppleGothic', bg = 'white' ,mfrow=c(2,2)) # ,mfrow=c(2,2)\n",
    "pie3D(femaleP[c(2,1)], \n",
    "    main = \"타이타닉호 여성 생존율\",\n",
    "    labels = labelf,\n",
    "    col = rainbow(length(femaleP)),\n",
    "    explode = 0.05,\n",
    "    labelcex = 0.7,\n",
    "    radius=0.8\n",
    ")\n",
    "par(family = 'AppleGothic', bg = 'white' ) # \n",
    "pie3D(maleP, \n",
    "    main = \"타이타닉호 남성 생존율\",\n",
    "    labels = labelm,\n",
    "    col = rainbow(length(femaleP)),\n",
    "    explode = 0.05,\n",
    "    labelcex = 0.7,\n",
    "    radius=0.8\n",
    ")\n",
    "bp <- barplot(\n",
    "    c,\n",
    "    main = '성별 승선 인원수',\n",
    "    xlab = '성별',\n",
    "    ylab = '승선인원수',\n",
    "    ylim = c(0,650),\n",
    "    col = c('red','blue'),\n",
    "    names = c('여성','남성')\n",
    ")\n",
    "# for(i in 1:length(c)) {\n",
    "# text(0.7 + (i-1)*1.2,c[i]+30,paste(c[i],'명')) #,col='orange'\n",
    "# }\n",
    "text(bp , c , paste(c , '명') , pos = 3)"
   ]
  },
  {
   "cell_type": "markdown",
   "metadata": {},
   "source": [
    "> Sex 컬럼은 Feture로 적합하다\n",
    "[Survived] <- [Sex]"
   ]
  },
  {
   "cell_type": "code",
   "execution_count": null,
   "metadata": {
    "vscode": {
     "languageId": "r"
    }
   },
   "outputs": [],
   "source": [
    "head(train_df)\n",
    "# -PassengerId- [Survived(Target)] !Pclass! -Name- [Sex] Age SibSp Parch -Ticket- Fare Cabin Embarked"
   ]
  },
  {
   "cell_type": "markdown",
   "metadata": {},
   "source": [
    "### 티켓 Pclass 등급 분석 "
   ]
  },
  {
   "cell_type": "code",
   "execution_count": 188,
   "metadata": {
    "vscode": {
     "languageId": "r"
    }
   },
   "outputs": [
    {
     "data": {
      "text/plain": [
       "\n",
       "  1   2   3 \n",
       "216 184 491 "
      ]
     },
     "metadata": {},
     "output_type": "display_data"
    }
   ],
   "source": [
    "table(train_df$Pclass)"
   ]
  },
  {
   "cell_type": "code",
   "execution_count": 265,
   "metadata": {
    "vscode": {
     "languageId": "r"
    }
   },
   "outputs": [
    {
     "name": "stdout",
     "output_type": "stream",
     "text": [
      "1 등 객실의 여성 생존율은  91 / 94 명, 96.81 % 이다\n",
      "2 등 객실의 여성 생존율은  70 / 76 명, 92.11 % 이다\n",
      "3 등 객실의 여성 생존율은  72 / 144 명, 50 % 이다\n",
      "-----------------------------------------------\n",
      "1 등 객실의 남성 생존율은  45 / 122 명, 36.89 % 이다\n",
      "2 등 객실의 남성 생존율은  17 / 108 명, 15.74 % 이다\n",
      "3 등 객실의 남성 생존율은  47 / 347 명, 13.54 % 이다\n",
      "-----------------------------------------------\n"
     ]
    },
    {
     "data": {
      "text/html": [
       "<ol class=list-inline>\n",
       "\t<li>96.81</li>\n",
       "\t<li>92.11</li>\n",
       "\t<li>50</li>\n",
       "\t<li>36.89</li>\n",
       "\t<li>15.74</li>\n",
       "\t<li>13.54</li>\n",
       "</ol>\n"
      ],
      "text/latex": [
       "\\begin{enumerate*}\n",
       "\\item 96.81\n",
       "\\item 92.11\n",
       "\\item 50\n",
       "\\item 36.89\n",
       "\\item 15.74\n",
       "\\item 13.54\n",
       "\\end{enumerate*}\n"
      ],
      "text/markdown": [
       "1. 96.81\n",
       "2. 92.11\n",
       "3. 50\n",
       "4. 36.89\n",
       "5. 15.74\n",
       "6. 13.54\n",
       "\n",
       "\n"
      ],
      "text/plain": [
       "[1] 96.81 92.11 50.00 36.89 15.74 13.54"
      ]
     },
     "metadata": {},
     "output_type": "display_data"
    },
    {
     "data": {
      "image/png": "[encoded data removed]",
      "text/plain": [
       "Plot with title “객실 등급별 생존율”"
      ]
     },
     "metadata": {},
     "output_type": "display_data"
    }
   ],
   "source": [
    "# 1등 객실의 여성 생존율 \n",
    "tot1f <-sum(train_df$Sex == 'female' & train_df$Pclass == 1)\n",
    "sur1f <-sum(train_df$Sex == 'female' & train_df$Pclass == 1 & train_df$Survived == 1)\n",
    "# sum(train_df$Sex == 'female' & train_df$Pclass == 1 & train_df$Survived == 1) / sum(train_df$Sex == 'female' & train_df$Pclass == 1) * 100\n",
    "\n",
    "# cat( '1등 객실의 여성 생존율은 ' , sur1f,'/',tot1f,'명,', round(sur1f/tot1f*100,2) ,'% 이다')\n",
    "\n",
    "# subset(train_df ,train_df$Sex == 'female' & train_df$Pclass == 1)\n",
    "\n",
    "pclassV <- c()\n",
    "\n",
    "for(j in c('female','male')){\n",
    "    for(i in 1:3){\n",
    "        tot <- sum(train_df$Sex == j & train_df$Pclass == i)\n",
    "        sur <- sum(train_df$Sex == j & train_df$Pclass == i & train_df$Survived == 1)\n",
    "        pp <- round(sum(train_df$Sex == j & train_df$Pclass == i & train_df$Survived == 1) / sum(train_df$Sex == j & train_df$Pclass == i) * 100,2)\n",
    "        cat( i ,'등 객실의' , ifelse(j == 'male','남성','여성'), '생존율은 ' ,sur ,'/', tot,'명,', pp ,'% 이다\\n')\n",
    "        pclassV <- append(pclassV , pp)\n",
    "    }\n",
    "    cat('-----------------------------------------------\\n')\n",
    "}\n",
    "\n",
    "# 여성 1,2등급이 비슷 / 남성 2,3등급이 비슷 \n",
    "\n",
    "# 막대그래프 \n",
    "pclassV\n",
    "label <- c('1객실(여)','2객실(여)','3객실(여)','1객실(남)','2객실(남)','3객실(남)')\n",
    "par(family = 'AppleGothic', bg = 'white')\n",
    "bp <- barplot( pclassV,\n",
    "    names = label,\n",
    "    main = '객실 등급별 생존율',\n",
    "    xlab = '객실 등급',\n",
    "    ylab = '생존율',\n",
    "    ylim = c(0,100),\n",
    "    border = c(rep('red',3),rep('blue',3)),\n",
    "    density = c(rep(10,3),rep(100,3)),\n",
    "    cex.names = 0.7\n",
    "    \n",
    ")\n",
    "# text(bp, pclassV , paste( pclassV , '%') , pos=1)\n",
    "\n",
    "for(i in 1:length(pclassV)) {\n",
    " text(0.7 + (i-1)*1.2, pclassV[i]-5 , paste(pclassV[i],'%')) \n",
    "}"
   ]
  },
  {
   "cell_type": "markdown",
   "metadata": {},
   "source": [
    "> [Survived] <- [Sex, Pclass]\n",
    "> 컬럼 최소 한개만 더하면 머신러닝을 돌릴 수 있다!"
   ]
  },
  {
   "cell_type": "code",
   "execution_count": 266,
   "metadata": {
    "vscode": {
     "languageId": "r"
    }
   },
   "outputs": [
    {
     "data": {
      "text/html": [
       "<table>\n",
       "<thead><tr><th scope=col>PassengerId</th><th scope=col>Survived</th><th scope=col>Pclass</th><th scope=col>Name</th><th scope=col>Sex</th><th scope=col>Age</th><th scope=col>SibSp</th><th scope=col>Parch</th><th scope=col>Ticket</th><th scope=col>Fare</th><th scope=col>Cabin</th><th scope=col>Embarked</th></tr></thead>\n",
       "<tbody>\n",
       "\t<tr><td> 1                            </td><td>0                             </td><td>3                             </td><td>Braund, Mr. Owen Harris       </td><td>male                          </td><td>22                            </td><td>1                             </td><td>0                             </td><td>A/5 21171                     </td><td> 7.2500                       </td><td>                              </td><td>S                             </td></tr>\n",
       "\t<tr><td> 5                            </td><td>0                             </td><td>3                             </td><td>Allen, Mr. William Henry      </td><td>male                          </td><td>35                            </td><td>0                             </td><td>0                             </td><td>373450                        </td><td> 8.0500                       </td><td>                              </td><td>S                             </td></tr>\n",
       "\t<tr><td> 6                            </td><td>0                             </td><td>3                             </td><td>Moran, Mr. James              </td><td>male                          </td><td>NA                            </td><td>0                             </td><td>0                             </td><td>330877                        </td><td> 8.4583                       </td><td>                              </td><td>Q                             </td></tr>\n",
       "\t<tr><td> 7                            </td><td>0                             </td><td>1                             </td><td>McCarthy, Mr. Timothy J       </td><td>male                          </td><td>54                            </td><td>0                             </td><td>0                             </td><td>17463                         </td><td>51.8625                       </td><td>E46                           </td><td>S                             </td></tr>\n",
       "\t<tr><td> 8                            </td><td>0                             </td><td>3                             </td><td>Palsson, Master. Gosta Leonard</td><td>male                          </td><td> 2                            </td><td>3                             </td><td>1                             </td><td>349909                        </td><td>21.0750                       </td><td>                              </td><td>S                             </td></tr>\n",
       "\t<tr><td>13                            </td><td>0                             </td><td>3                             </td><td>Saundercock, Mr. William Henry</td><td>male                          </td><td>20                            </td><td>0                             </td><td>0                             </td><td>A/5. 2151                     </td><td> 8.0500                       </td><td>                              </td><td>S                             </td></tr>\n",
       "</tbody>\n",
       "</table>\n"
      ],
      "text/latex": [
       "\\begin{tabular}{r|llllllllllll}\n",
       " PassengerId & Survived & Pclass & Name & Sex & Age & SibSp & Parch & Ticket & Fare & Cabin & Embarked\\\\\n",
       "\\hline\n",
       "\t  1                             & 0                              & 3                              & Braund, Mr. Owen Harris        & male                           & 22                             & 1                              & 0                              & A/5 21171                      &  7.2500                        &                                & S                             \\\\\n",
       "\t  5                             & 0                              & 3                              & Allen, Mr. William Henry       & male                           & 35                             & 0                              & 0                              & 373450                         &  8.0500                        &                                & S                             \\\\\n",
       "\t  6                             & 0                              & 3                              & Moran, Mr. James               & male                           & NA                             & 0                              & 0                              & 330877                         &  8.4583                        &                                & Q                             \\\\\n",
       "\t  7                             & 0                              & 1                              & McCarthy, Mr. Timothy J        & male                           & 54                             & 0                              & 0                              & 17463                          & 51.8625                        & E46                            & S                             \\\\\n",
       "\t  8                             & 0                              & 3                              & Palsson, Master. Gosta Leonard & male                           &  2                             & 3                              & 1                              & 349909                         & 21.0750                        &                                & S                             \\\\\n",
       "\t 13                             & 0                              & 3                              & Saundercock, Mr. William Henry & male                           & 20                             & 0                              & 0                              & A/5. 2151                      &  8.0500                        &                                & S                             \\\\\n",
       "\\end{tabular}\n"
      ],
      "text/markdown": [
       "\n",
       "| PassengerId | Survived | Pclass | Name | Sex | Age | SibSp | Parch | Ticket | Fare | Cabin | Embarked |\n",
       "|---|---|---|---|---|---|---|---|---|---|---|---|\n",
       "|  1                             | 0                              | 3                              | Braund, Mr. Owen Harris        | male                           | 22                             | 1                              | 0                              | A/5 21171                      |  7.2500                        |                                | S                              |\n",
       "|  5                             | 0                              | 3                              | Allen, Mr. William Henry       | male                           | 35                             | 0                              | 0                              | 373450                         |  8.0500                        |                                | S                              |\n",
       "|  6                             | 0                              | 3                              | Moran, Mr. James               | male                           | NA                             | 0                              | 0                              | 330877                         |  8.4583                        |                                | Q                              |\n",
       "|  7                             | 0                              | 1                              | McCarthy, Mr. Timothy J        | male                           | 54                             | 0                              | 0                              | 17463                          | 51.8625                        | E46                            | S                              |\n",
       "|  8                             | 0                              | 3                              | Palsson, Master. Gosta Leonard | male                           |  2                             | 3                              | 1                              | 349909                         | 21.0750                        |                                | S                              |\n",
       "| 13                             | 0                              | 3                              | Saundercock, Mr. William Henry | male                           | 20                             | 0                              | 0                              | A/5. 2151                      |  8.0500                        |                                | S                              |\n",
       "\n"
      ],
      "text/plain": [
       "  PassengerId Survived Pclass Name                           Sex  Age SibSp\n",
       "1  1          0        3      Braund, Mr. Owen Harris        male 22  1    \n",
       "2  5          0        3      Allen, Mr. William Henry       male 35  0    \n",
       "3  6          0        3      Moran, Mr. James               male NA  0    \n",
       "4  7          0        1      McCarthy, Mr. Timothy J        male 54  0    \n",
       "5  8          0        3      Palsson, Master. Gosta Leonard male  2  3    \n",
       "6 13          0        3      Saundercock, Mr. William Henry male 20  0    \n",
       "  Parch Ticket    Fare    Cabin Embarked\n",
       "1 0     A/5 21171  7.2500       S       \n",
       "2 0     373450     8.0500       S       \n",
       "3 0     330877     8.4583       Q       \n",
       "4 0     17463     51.8625 E46   S       \n",
       "5 1     349909    21.0750       S       \n",
       "6 0     A/5. 2151  8.0500       S       "
      ]
     },
     "metadata": {},
     "output_type": "display_data"
    }
   ],
   "source": [
    "head(train_df)\n",
    "# -PassengerId- [Survived(Target)] [Pclass] -Name- [Sex] Age SibSp Parch -Ticket- Fare Cabin !Embarked!\n",
    "\n",
    "# Embarked는 이상치가 있는 컬럼이라 데이터 수정을 해줘야 한다"
   ]
  },
  {
   "cell_type": "code",
   "execution_count": 277,
   "metadata": {
    "vscode": {
     "languageId": "r"
    }
   },
   "outputs": [
    {
     "data": {
      "text/html": [
       "<table>\n",
       "<thead><tr><th></th><th scope=col>PassengerId</th><th scope=col>Survived</th><th scope=col>Pclass</th><th scope=col>Name</th><th scope=col>Sex</th><th scope=col>Age</th><th scope=col>SibSp</th><th scope=col>Parch</th><th scope=col>Ticket</th><th scope=col>Fare</th><th scope=col>Cabin</th><th scope=col>Embarked</th></tr></thead>\n",
       "<tbody>\n",
       "\t<tr><th scope=row>639</th><td>259                               </td><td>1                                 </td><td>1                                 </td><td>Ward, Miss. Anna                  </td><td>female                            </td><td>35                                </td><td>0                                 </td><td>0                                 </td><td>PC 17755                          </td><td>512.3292                          </td><td>                                  </td><td>C                                 </td></tr>\n",
       "\t<tr><th scope=row>814</th><td>680                               </td><td>1                                 </td><td>1                                 </td><td>Cardeza, Mr. Thomas Drake Martinez</td><td>male                              </td><td>36                                </td><td>0                                 </td><td>1                                 </td><td>PC 17755                          </td><td>512.3292                          </td><td>B51 B53 B55                       </td><td>C                                 </td></tr>\n",
       "\t<tr><th scope=row>836</th><td>738                               </td><td>1                                 </td><td>1                                 </td><td>Lesurer, Mr. Gustave J            </td><td>male                              </td><td>35                                </td><td>0                                 </td><td>0                                 </td><td>PC 17755                          </td><td>512.3292                          </td><td>B101                              </td><td>C                                 </td></tr>\n",
       "</tbody>\n",
       "</table>\n"
      ],
      "text/latex": [
       "\\begin{tabular}{r|llllllllllll}\n",
       "  & PassengerId & Survived & Pclass & Name & Sex & Age & SibSp & Parch & Ticket & Fare & Cabin & Embarked\\\\\n",
       "\\hline\n",
       "\t639 & 259                                & 1                                  & 1                                  & Ward, Miss. Anna                   & female                             & 35                                 & 0                                  & 0                                  & PC 17755                           & 512.3292                           &                                    & C                                 \\\\\n",
       "\t814 & 680                                & 1                                  & 1                                  & Cardeza, Mr. Thomas Drake Martinez & male                               & 36                                 & 0                                  & 1                                  & PC 17755                           & 512.3292                           & B51 B53 B55                        & C                                 \\\\\n",
       "\t836 & 738                                & 1                                  & 1                                  & Lesurer, Mr. Gustave J             & male                               & 35                                 & 0                                  & 0                                  & PC 17755                           & 512.3292                           & B101                               & C                                 \\\\\n",
       "\\end{tabular}\n"
      ],
      "text/markdown": [
       "\n",
       "| <!--/--> | PassengerId | Survived | Pclass | Name | Sex | Age | SibSp | Parch | Ticket | Fare | Cabin | Embarked |\n",
       "|---|---|---|---|---|---|---|---|---|---|---|---|---|\n",
       "| 639 | 259                                | 1                                  | 1                                  | Ward, Miss. Anna                   | female                             | 35                                 | 0                                  | 0                                  | PC 17755                           | 512.3292                           |                                    | C                                  |\n",
       "| 814 | 680                                | 1                                  | 1                                  | Cardeza, Mr. Thomas Drake Martinez | male                               | 36                                 | 0                                  | 1                                  | PC 17755                           | 512.3292                           | B51 B53 B55                        | C                                  |\n",
       "| 836 | 738                                | 1                                  | 1                                  | Lesurer, Mr. Gustave J             | male                               | 35                                 | 0                                  | 0                                  | PC 17755                           | 512.3292                           | B101                               | C                                  |\n",
       "\n"
      ],
      "text/plain": [
       "    PassengerId Survived Pclass Name                               Sex    Age\n",
       "639 259         1        1      Ward, Miss. Anna                   female 35 \n",
       "814 680         1        1      Cardeza, Mr. Thomas Drake Martinez male   36 \n",
       "836 738         1        1      Lesurer, Mr. Gustave J             male   35 \n",
       "    SibSp Parch Ticket   Fare     Cabin       Embarked\n",
       "639 0     0     PC 17755 512.3292             C       \n",
       "814 0     1     PC 17755 512.3292 B51 B53 B55 C       \n",
       "836 0     0     PC 17755 512.3292 B101        C       "
      ]
     },
     "metadata": {},
     "output_type": "display_data"
    },
    {
     "data": {
      "text/html": [
       "32.2042079685746"
      ],
      "text/latex": [
       "32.2042079685746"
      ],
      "text/markdown": [
       "32.2042079685746"
      ],
      "text/plain": [
       "[1] 32.20421"
      ]
     },
     "metadata": {},
     "output_type": "display_data"
    }
   ],
   "source": [
    "## 최대 운임 찾기 ,  그냥 하는거임\n",
    "subset(train_df, train_df$Fare == max(train_df$Fare)) # 최대 운임\n",
    "mean(train_df$Fare) # 평균 운임 / 최대 운임비는 평균운임비의 10배 보다 높다"
   ]
  },
  {
   "cell_type": "code",
   "execution_count": 280,
   "metadata": {
    "vscode": {
     "languageId": "r"
    }
   },
   "outputs": [
    {
     "data": {
      "text/plain": [
       "\n",
       "      C   Q   S \n",
       "  2 168  77 644 "
      ]
     },
     "metadata": {},
     "output_type": "display_data"
    },
    {
     "data": {
      "text/html": [
       "<ol class=list-inline>\n",
       "\t<li>S</li>\n",
       "\t<li>Q</li>\n",
       "\t<li>C</li>\n",
       "\t<li></li>\n",
       "</ol>\n",
       "\n",
       "<details>\n",
       "\t<summary style=display:list-item;cursor:pointer>\n",
       "\t\t<strong>Levels</strong>:\n",
       "\t</summary>\n",
       "\t<ol class=list-inline>\n",
       "\t\t<li>''</li>\n",
       "\t\t<li>'C'</li>\n",
       "\t\t<li>'Q'</li>\n",
       "\t\t<li>'S'</li>\n",
       "\t</ol>\n",
       "</details>"
      ],
      "text/latex": [
       "\\begin{enumerate*}\n",
       "\\item S\n",
       "\\item Q\n",
       "\\item C\n",
       "\\item \n",
       "\\end{enumerate*}\n",
       "\n",
       "\\emph{Levels}: \\begin{enumerate*}\n",
       "\\item ''\n",
       "\\item 'C'\n",
       "\\item 'Q'\n",
       "\\item 'S'\n",
       "\\end{enumerate*}\n"
      ],
      "text/markdown": [
       "1. S\n",
       "2. Q\n",
       "3. C\n",
       "4. \n",
       "\n",
       "\n",
       "\n",
       "**Levels**: 1. ''\n",
       "2. 'C'\n",
       "3. 'Q'\n",
       "4. 'S'\n",
       "\n",
       "\n"
      ],
      "text/plain": [
       "[1] S Q C  \n",
       "Levels:  C Q S"
      ]
     },
     "metadata": {},
     "output_type": "display_data"
    },
    {
     "data": {
      "text/html": [
       "<table>\n",
       "<thead><tr><th></th><th scope=col>PassengerId</th><th scope=col>Survived</th><th scope=col>Pclass</th><th scope=col>Name</th><th scope=col>Sex</th><th scope=col>Age</th><th scope=col>SibSp</th><th scope=col>Parch</th><th scope=col>Ticket</th><th scope=col>Fare</th><th scope=col>Cabin</th><th scope=col>Embarked</th></tr></thead>\n",
       "<tbody>\n",
       "\t<tr><th scope=row>577</th><td> 62                                      </td><td>1                                        </td><td>1                                        </td><td>Icard, Miss. Amelie                      </td><td>female                                   </td><td>38                                       </td><td>0                                        </td><td>0                                        </td><td>113572                                   </td><td>80                                       </td><td>B28                                      </td><td>                                         </td></tr>\n",
       "\t<tr><th scope=row>868</th><td>830                                      </td><td>1                                        </td><td>1                                        </td><td>Stone, Mrs. George Nelson (Martha Evelyn)</td><td>female                                   </td><td>62                                       </td><td>0                                        </td><td>0                                        </td><td>113572                                   </td><td>80                                       </td><td>B28                                      </td><td>                                         </td></tr>\n",
       "</tbody>\n",
       "</table>\n"
      ],
      "text/latex": [
       "\\begin{tabular}{r|llllllllllll}\n",
       "  & PassengerId & Survived & Pclass & Name & Sex & Age & SibSp & Parch & Ticket & Fare & Cabin & Embarked\\\\\n",
       "\\hline\n",
       "\t577 &  62                                       & 1                                         & 1                                         & Icard, Miss. Amelie                       & female                                    & 38                                        & 0                                         & 0                                         & 113572                                    & 80                                        & B28                                       &                                          \\\\\n",
       "\t868 & 830                                       & 1                                         & 1                                         & Stone, Mrs. George Nelson (Martha Evelyn) & female                                    & 62                                        & 0                                         & 0                                         & 113572                                    & 80                                        & B28                                       &                                          \\\\\n",
       "\\end{tabular}\n"
      ],
      "text/markdown": [
       "\n",
       "| <!--/--> | PassengerId | Survived | Pclass | Name | Sex | Age | SibSp | Parch | Ticket | Fare | Cabin | Embarked |\n",
       "|---|---|---|---|---|---|---|---|---|---|---|---|---|\n",
       "| 577 |  62                                       | 1                                         | 1                                         | Icard, Miss. Amelie                       | female                                    | 38                                        | 0                                         | 0                                         | 113572                                    | 80                                        | B28                                       |                                           |\n",
       "| 868 | 830                                       | 1                                         | 1                                         | Stone, Mrs. George Nelson (Martha Evelyn) | female                                    | 62                                        | 0                                         | 0                                         | 113572                                    | 80                                        | B28                                       |                                           |\n",
       "\n"
      ],
      "text/plain": [
       "    PassengerId Survived Pclass Name                                     \n",
       "577  62         1        1      Icard, Miss. Amelie                      \n",
       "868 830         1        1      Stone, Mrs. George Nelson (Martha Evelyn)\n",
       "    Sex    Age SibSp Parch Ticket Fare Cabin Embarked\n",
       "577 female 38  0     0     113572 80   B28           \n",
       "868 female 62  0     0     113572 80   B28           "
      ]
     },
     "metadata": {},
     "output_type": "display_data"
    },
    {
     "data": {
      "text/html": [
       "644"
      ],
      "text/latex": [
       "644"
      ],
      "text/markdown": [
       "644"
      ],
      "text/plain": [
       "[1] 644"
      ]
     },
     "metadata": {},
     "output_type": "display_data"
    },
    {
     "data": {
      "text/html": [
       "168"
      ],
      "text/latex": [
       "168"
      ],
      "text/markdown": [
       "168"
      ],
      "text/plain": [
       "[1] 168"
      ]
     },
     "metadata": {},
     "output_type": "display_data"
    },
    {
     "data": {
      "text/html": [
       "77"
      ],
      "text/latex": [
       "77"
      ],
      "text/markdown": [
       "77"
      ],
      "text/plain": [
       "[1] 77"
      ]
     },
     "metadata": {},
     "output_type": "display_data"
    }
   ],
   "source": [
    "table(train_df$Embarked)\n",
    "unique(train_df$Embarked) # Levels 확인\n",
    "\n",
    "# 빈칸의 데이터 찾기\n",
    "subset(train_df, train_df$Embarked =='')\n",
    "\n",
    "# 항구별 탑승 인원을 구하여 가장 많은 탑승인원의 항구로 결정 \n",
    "# S 항구 탑승인원\n",
    "sum(train_df$Embarked == 'S')\n",
    "# C 항구 탑승인원\n",
    "sum(train_df$Embarked == 'C')\n",
    "# Q 항구 탑승인원\n",
    "sum(train_df$Embarked == 'Q')\n",
    "# 600명 이상이 S항구에서 탑승했으니 빈값 항구를 S항구로 변경해도 무방하다고 판단"
   ]
  },
  {
   "cell_type": "markdown",
   "metadata": {},
   "source": [
    "> 빈값 항구를 S항구로 변경"
   ]
  },
  {
   "cell_type": "code",
   "execution_count": 291,
   "metadata": {
    "vscode": {
     "languageId": "r"
    }
   },
   "outputs": [
    {
     "data": {
      "text/html": [
       "<table>\n",
       "<thead><tr><th></th><th scope=col>PassengerId</th><th scope=col>Survived</th><th scope=col>Pclass</th><th scope=col>Name</th><th scope=col>Sex</th><th scope=col>Age</th><th scope=col>SibSp</th><th scope=col>Parch</th><th scope=col>Ticket</th><th scope=col>Fare</th><th scope=col>Cabin</th><th scope=col>Embarked</th></tr></thead>\n",
       "<tbody>\n",
       "\t<tr><th scope=row>577</th><td> 62                                      </td><td>1                                        </td><td>1                                        </td><td>Icard, Miss. Amelie                      </td><td>female                                   </td><td>38                                       </td><td>0                                        </td><td>0                                        </td><td>113572                                   </td><td>80                                       </td><td>B28                                      </td><td>                                         </td></tr>\n",
       "\t<tr><th scope=row>868</th><td>830                                      </td><td>1                                        </td><td>1                                        </td><td>Stone, Mrs. George Nelson (Martha Evelyn)</td><td>female                                   </td><td>62                                       </td><td>0                                        </td><td>0                                        </td><td>113572                                   </td><td>80                                       </td><td>B28                                      </td><td>                                         </td></tr>\n",
       "</tbody>\n",
       "</table>\n"
      ],
      "text/latex": [
       "\\begin{tabular}{r|llllllllllll}\n",
       "  & PassengerId & Survived & Pclass & Name & Sex & Age & SibSp & Parch & Ticket & Fare & Cabin & Embarked\\\\\n",
       "\\hline\n",
       "\t577 &  62                                       & 1                                         & 1                                         & Icard, Miss. Amelie                       & female                                    & 38                                        & 0                                         & 0                                         & 113572                                    & 80                                        & B28                                       &                                          \\\\\n",
       "\t868 & 830                                       & 1                                         & 1                                         & Stone, Mrs. George Nelson (Martha Evelyn) & female                                    & 62                                        & 0                                         & 0                                         & 113572                                    & 80                                        & B28                                       &                                          \\\\\n",
       "\\end{tabular}\n"
      ],
      "text/markdown": [
       "\n",
       "| <!--/--> | PassengerId | Survived | Pclass | Name | Sex | Age | SibSp | Parch | Ticket | Fare | Cabin | Embarked |\n",
       "|---|---|---|---|---|---|---|---|---|---|---|---|---|\n",
       "| 577 |  62                                       | 1                                         | 1                                         | Icard, Miss. Amelie                       | female                                    | 38                                        | 0                                         | 0                                         | 113572                                    | 80                                        | B28                                       |                                           |\n",
       "| 868 | 830                                       | 1                                         | 1                                         | Stone, Mrs. George Nelson (Martha Evelyn) | female                                    | 62                                        | 0                                         | 0                                         | 113572                                    | 80                                        | B28                                       |                                           |\n",
       "\n"
      ],
      "text/plain": [
       "    PassengerId Survived Pclass Name                                     \n",
       "577  62         1        1      Icard, Miss. Amelie                      \n",
       "868 830         1        1      Stone, Mrs. George Nelson (Martha Evelyn)\n",
       "    Sex    Age SibSp Parch Ticket Fare Cabin Embarked\n",
       "577 female 38  0     0     113572 80   B28           \n",
       "868 female 62  0     0     113572 80   B28           "
      ]
     },
     "metadata": {},
     "output_type": "display_data"
    },
    {
     "data": {
      "text/html": [
       "<table>\n",
       "<thead><tr><th></th><th scope=col>PassengerId</th><th scope=col>Survived</th><th scope=col>Pclass</th><th scope=col>Name</th><th scope=col>Sex</th><th scope=col>Age</th><th scope=col>SibSp</th><th scope=col>Parch</th><th scope=col>Ticket</th><th scope=col>Fare</th><th scope=col>Cabin</th><th scope=col>Embarked</th></tr></thead>\n",
       "<tbody>\n",
       "\t<tr><th scope=row>577</th><td> 62                                      </td><td>1                                        </td><td>1                                        </td><td>Icard, Miss. Amelie                      </td><td>female                                   </td><td>38                                       </td><td>0                                        </td><td>0                                        </td><td>113572                                   </td><td>80                                       </td><td>B28                                      </td><td>                                         </td></tr>\n",
       "\t<tr><th scope=row>868</th><td>830                                      </td><td>1                                        </td><td>1                                        </td><td>Stone, Mrs. George Nelson (Martha Evelyn)</td><td>female                                   </td><td>62                                       </td><td>0                                        </td><td>0                                        </td><td>113572                                   </td><td>80                                       </td><td>B28                                      </td><td>                                         </td></tr>\n",
       "</tbody>\n",
       "</table>\n"
      ],
      "text/latex": [
       "\\begin{tabular}{r|llllllllllll}\n",
       "  & PassengerId & Survived & Pclass & Name & Sex & Age & SibSp & Parch & Ticket & Fare & Cabin & Embarked\\\\\n",
       "\\hline\n",
       "\t577 &  62                                       & 1                                         & 1                                         & Icard, Miss. Amelie                       & female                                    & 38                                        & 0                                         & 0                                         & 113572                                    & 80                                        & B28                                       &                                          \\\\\n",
       "\t868 & 830                                       & 1                                         & 1                                         & Stone, Mrs. George Nelson (Martha Evelyn) & female                                    & 62                                        & 0                                         & 0                                         & 113572                                    & 80                                        & B28                                       &                                          \\\\\n",
       "\\end{tabular}\n"
      ],
      "text/markdown": [
       "\n",
       "| <!--/--> | PassengerId | Survived | Pclass | Name | Sex | Age | SibSp | Parch | Ticket | Fare | Cabin | Embarked |\n",
       "|---|---|---|---|---|---|---|---|---|---|---|---|---|\n",
       "| 577 |  62                                       | 1                                         | 1                                         | Icard, Miss. Amelie                       | female                                    | 38                                        | 0                                         | 0                                         | 113572                                    | 80                                        | B28                                       |                                           |\n",
       "| 868 | 830                                       | 1                                         | 1                                         | Stone, Mrs. George Nelson (Martha Evelyn) | female                                    | 62                                        | 0                                         | 0                                         | 113572                                    | 80                                        | B28                                       |                                           |\n",
       "\n"
      ],
      "text/plain": [
       "    PassengerId Survived Pclass Name                                     \n",
       "577  62         1        1      Icard, Miss. Amelie                      \n",
       "868 830         1        1      Stone, Mrs. George Nelson (Martha Evelyn)\n",
       "    Sex    Age SibSp Parch Ticket Fare Cabin Embarked\n",
       "577 female 38  0     0     113572 80   B28           \n",
       "868 female 62  0     0     113572 80   B28           "
      ]
     },
     "metadata": {},
     "output_type": "display_data"
    },
    {
     "data": {
      "text/html": [
       "<table>\n",
       "<thead><tr><th scope=col>PassengerId</th><th scope=col>Survived</th><th scope=col>Pclass</th><th scope=col>Name</th><th scope=col>Sex</th><th scope=col>Age</th><th scope=col>SibSp</th><th scope=col>Parch</th><th scope=col>Ticket</th><th scope=col>Fare</th><th scope=col>Cabin</th><th scope=col>Embarked</th></tr></thead>\n",
       "<tbody>\n",
       "</tbody>\n",
       "</table>\n"
      ],
      "text/latex": [
       "\\begin{tabular}{r|llllllllllll}\n",
       " PassengerId & Survived & Pclass & Name & Sex & Age & SibSp & Parch & Ticket & Fare & Cabin & Embarked\\\\\n",
       "\\hline\n",
       "\\end{tabular}\n"
      ],
      "text/markdown": [
       "\n",
       "| PassengerId | Survived | Pclass | Name | Sex | Age | SibSp | Parch | Ticket | Fare | Cabin | Embarked |\n",
       "|---|---|---|---|---|---|---|---|---|---|---|---|\n",
       "\n"
      ],
      "text/plain": [
       "     PassengerId Survived Pclass Name Sex Age SibSp Parch Ticket Fare Cabin\n",
       "     Embarked"
      ]
     },
     "metadata": {},
     "output_type": "display_data"
    },
    {
     "data": {
      "text/html": [
       "<table>\n",
       "<thead><tr><th scope=col>PassengerId</th><th scope=col>Survived</th><th scope=col>Pclass</th><th scope=col>Name</th><th scope=col>Sex</th><th scope=col>Age</th><th scope=col>SibSp</th><th scope=col>Parch</th><th scope=col>Ticket</th><th scope=col>Fare</th><th scope=col>Cabin</th><th scope=col>Embarked</th></tr></thead>\n",
       "<tbody>\n",
       "</tbody>\n",
       "</table>\n"
      ],
      "text/latex": [
       "\\begin{tabular}{r|llllllllllll}\n",
       " PassengerId & Survived & Pclass & Name & Sex & Age & SibSp & Parch & Ticket & Fare & Cabin & Embarked\\\\\n",
       "\\hline\n",
       "\\end{tabular}\n"
      ],
      "text/markdown": [
       "\n",
       "| PassengerId | Survived | Pclass | Name | Sex | Age | SibSp | Parch | Ticket | Fare | Cabin | Embarked |\n",
       "|---|---|---|---|---|---|---|---|---|---|---|---|\n",
       "\n"
      ],
      "text/plain": [
       "     PassengerId Survived Pclass Name Sex Age SibSp Parch Ticket Fare Cabin\n",
       "     Embarked"
      ]
     },
     "metadata": {},
     "output_type": "display_data"
    },
    {
     "data": {
      "text/html": [
       "<table>\n",
       "<thead><tr><th scope=col>PassengerId</th><th scope=col>Survived</th><th scope=col>Pclass</th><th scope=col>Name</th><th scope=col>Sex</th><th scope=col>Age</th><th scope=col>SibSp</th><th scope=col>Parch</th><th scope=col>Ticket</th><th scope=col>Fare</th><th scope=col>Cabin</th><th scope=col>Embarked</th></tr></thead>\n",
       "<tbody>\n",
       "</tbody>\n",
       "</table>\n"
      ],
      "text/latex": [
       "\\begin{tabular}{r|llllllllllll}\n",
       " PassengerId & Survived & Pclass & Name & Sex & Age & SibSp & Parch & Ticket & Fare & Cabin & Embarked\\\\\n",
       "\\hline\n",
       "\\end{tabular}\n"
      ],
      "text/markdown": [
       "\n",
       "| PassengerId | Survived | Pclass | Name | Sex | Age | SibSp | Parch | Ticket | Fare | Cabin | Embarked |\n",
       "|---|---|---|---|---|---|---|---|---|---|---|---|\n",
       "\n"
      ],
      "text/plain": [
       "     PassengerId Survived Pclass Name Sex Age SibSp Parch Ticket Fare Cabin\n",
       "     Embarked"
      ]
     },
     "metadata": {},
     "output_type": "display_data"
    }
   ],
   "source": [
    "# 연습을 위한 데이터셋 복제\n",
    "train_df_T <- train_df\n",
    "\n",
    "# 빈값 항구 찾기 _ 1\n",
    "subset(train_df_T, train_df_T$Embarked =='')\n",
    "\n",
    "# 빈값 항구 찾기 _ 2\n",
    "train_df_T[train_df_T$Embarked==\"\",] # 파이썬 방식\n",
    "\n",
    "# 빈칸 항구를 S 항구로 변경 - 1\n",
    "train_df_T$Embarked <- ifelse(train_df_T$Embarked=='','S',train_df_T$Embarked)\n",
    "train_df_T[train_df_T$Embarked==\"\",] # 빈칸 값 없는 것 확인\n",
    "\n",
    "# 빈칸 항구를 S 항구로 변경 - 2\n",
    "train_df_T <- train_df # 빈값 복구\n",
    "train_df_T[train_df_T$Embarked == '',]$Embarked <- \"S\"\n",
    "train_df_T[train_df_T$Embarked==\"\",] # 빈칸 값 없는 것 확인\n",
    "\n",
    "# 빈칸 항구를 S 항구로 변경 - 3\n",
    "train_df_T <- train_df # 빈값 복구\n",
    "train_df_T$Embarked[train_df_T$Embarked == ''] <- \"S\"\n",
    "train_df_T[train_df_T$Embarked==\"\",] # 빈칸 값 없는 것 확인\n",
    "\n",
    "\n"
   ]
  },
  {
   "cell_type": "code",
   "execution_count": 295,
   "metadata": {
    "vscode": {
     "languageId": "r"
    }
   },
   "outputs": [
    {
     "data": {
      "text/html": [
       "646"
      ],
      "text/latex": [
       "646"
      ],
      "text/markdown": [
       "646"
      ],
      "text/plain": [
       "[1] 646"
      ]
     },
     "metadata": {},
     "output_type": "display_data"
    },
    {
     "name": "stdout",
     "output_type": "stream",
     "text": [
      "'data.frame':\t891 obs. of  12 variables:\n",
      " $ PassengerId: int  1 5 6 7 8 13 14 15 17 19 ...\n",
      " $ Survived   : int  0 0 0 0 0 0 0 0 0 0 ...\n",
      " $ Pclass     : int  3 3 3 1 3 3 3 3 3 3 ...\n",
      " $ Name       : Factor w/ 891 levels \"Abbing, Mr. Anthony\",..: 109 16 555 516 625 730 29 841 683 840 ...\n",
      " $ Sex        : Factor w/ 2 levels \"female\",\"male\": 2 2 2 2 2 2 2 1 2 1 ...\n",
      " $ Age        : num  22 35 NA 54 2 20 39 14 2 31 ...\n",
      " $ SibSp      : int  1 0 0 0 3 0 1 0 4 1 ...\n",
      " $ Parch      : int  0 0 0 0 1 0 5 0 1 0 ...\n",
      " $ Ticket     : Factor w/ 681 levels \"110152\",\"110413\",..: 524 473 276 86 396 536 334 414 481 302 ...\n",
      " $ Fare       : num  7.25 8.05 8.46 51.86 21.07 ...\n",
      " $ Cabin      : Factor w/ 148 levels \"\",\"A10\",\"A14\",..: 1 1 1 131 1 1 1 1 1 1 ...\n",
      " $ Embarked   : Factor w/ 3 levels \"C\",\"Q\",\"S\": 3 3 2 3 3 3 3 3 2 3 ...\n"
     ]
    }
   ],
   "source": [
    "# 본 데이터에 적용\n",
    "train_df$Embarked[train_df$Embarked == ''] <- \"S\"\n",
    "# S 항구 탑승인원\n",
    "sum(train_df$Embarked == 'S')\n",
    "# str(train_df)\n",
    "\n",
    "# factor 정리\n",
    "train_df$Embarked <- factor(train_df$Embarked)\n",
    "str(train_df)\n"
   ]
  },
  {
   "cell_type": "code",
   "execution_count": 349,
   "metadata": {
    "vscode": {
     "languageId": "r"
    }
   },
   "outputs": [
    {
     "data": {
      "image/png": "[encoded data removed]",
      "text/plain": [
       "Plot with title “항구별 객실 등급별 인원”"
      ]
     },
     "metadata": {},
     "output_type": "display_data"
    }
   ],
   "source": [
    "# 항구별 승선 인원\n",
    "par(family = 'AppleGothic', bg = 'white' ,mfrow =c(2,2))\n",
    "bp <- barplot(table(train_df$Embarked),\n",
    "    main = '항구별 승선 인원',\n",
    "    xlab= '항구별',\n",
    "    ylab= '인원수',\n",
    "    ylim= c(0,700),\n",
    "    col = c('blue', 'red','yellow'),\n",
    "    cex.axis=0.75,\n",
    "    cex.lab = 0.8,\n",
    "\n",
    ")\n",
    "text(bp , table(train_df$Embarked), paste(table(train_df$Embarked),'명'), pos=3 ,cex=0.6)\n",
    "\n",
    "# 항구별 승선 인원 성별 분류\n",
    "par(family = 'AppleGothic', bg = 'white')\n",
    "bp<-barplot(table(train_df$Sex ,train_df$Embarked),\n",
    "    main = '항구별 성별 승선 인원',\n",
    "    xlab= '항구별/성별',\n",
    "    ylab= '인원수',\n",
    "    ylim= c(0,500),\n",
    "    col = c('red' , 'blue'),\n",
    "    beside =T,\n",
    "    cex.axis=0.75,\n",
    "    cex.lab = 0.8,\n",
    "\n",
    ")\n",
    "legend(1,450,\n",
    "    legend = rownames(table(train_df$Sex ,train_df$Embarked)),\n",
    "    fill = c('red' , 'blue'),\n",
    "    cex = 0.7\n",
    ")\n",
    "text(bp ,table(train_df$Sex ,train_df$Embarked),paste(table(train_df$Sex ,train_df$Embarked),'명'),pos=3 ,cex=0.6 )\n",
    "\n",
    "# 항구별 생존 인원 \n",
    "par(family = 'AppleGothic', bg = 'white')\n",
    "bp<-barplot(table(train_df$Survived ,train_df$Embarked),\n",
    "    main = '항구별 생존 인원',\n",
    "    xlab= '항구별',\n",
    "    ylab= '인원수',\n",
    "    ylim= c(0,500),\n",
    "    col = c('red' , 'blue'),\n",
    "    beside =T,\n",
    "    cex.axis=0.75,\n",
    "    cex.lab = 0.8,\n",
    "\n",
    ")\n",
    "legend(1,450,\n",
    "    legend = c('death','survive'),\n",
    "    fill = c('red' , 'blue'),\n",
    "    cex = 0.7\n",
    ")\n",
    "text(bp ,table(train_df$Survived ,train_df$Embarked),paste(table(train_df$Survived ,train_df$Embarked),'명'),pos=3 ,cex=0.6)\n",
    "\n",
    "# 항구별 객실 등급별 인원\n",
    "par(family = 'AppleGothic', bg = 'white')\n",
    "bp<-barplot(table(train_df$Pclass ,train_df$Embarked),\n",
    "    main = '항구별 객실 등급별 인원',\n",
    "    xlab= '항구별 / 객실 등급',\n",
    "    ylab= '인원수',\n",
    "    ylim= c(0,500),\n",
    "    col = c('red' , 'blue','yellow'),\n",
    "    beside =T,\n",
    "    cex.axis=0.75,\n",
    "    cex.lab = 0.8,\n",
    "\n",
    ")\n",
    "legend(1,450,\n",
    "    legend = rownames(table(train_df$Pclass ,train_df$Embarked)),\n",
    "    fill = c('red' , 'blue','yellow'),\n",
    "    cex = 0.7\n",
    ")\n",
    "text(bp ,table(train_df$Pclass ,train_df$Embarked),paste(table(train_df$Pclass ,train_df$Embarked),'명'),pos=3 ,cex=0.6)"
   ]
  },
  {
   "cell_type": "markdown",
   "metadata": {},
   "source": [
    "> [Survived] <- [Sex, Pclass,Embarked]"
   ]
  },
  {
   "cell_type": "markdown",
   "metadata": {},
   "source": [
    "# 곤듀님 왔다감 ^_^* "
   ]
  },
  {
   "cell_type": "markdown",
   "metadata": {},
   "source": [
    "## RandomForest로 예측모델 생성"
   ]
  },
  {
   "cell_type": "code",
   "execution_count": 363,
   "metadata": {
    "vscode": {
     "languageId": "r"
    }
   },
   "outputs": [],
   "source": [
    "# 복사본\n",
    "train_df_T <- train_df"
   ]
  },
  {
   "cell_type": "code",
   "execution_count": 364,
   "metadata": {
    "vscode": {
     "languageId": "r"
    }
   },
   "outputs": [
    {
     "data": {
      "text/html": [
       "<table>\n",
       "<thead><tr><th scope=col>Survived</th><th scope=col>Sex</th><th scope=col>Pclass</th><th scope=col>Embarked</th></tr></thead>\n",
       "<tbody>\n",
       "\t<tr><td>0   </td><td>male</td><td>3   </td><td>S   </td></tr>\n",
       "\t<tr><td>0   </td><td>male</td><td>3   </td><td>S   </td></tr>\n",
       "\t<tr><td>0   </td><td>male</td><td>3   </td><td>Q   </td></tr>\n",
       "\t<tr><td>0   </td><td>male</td><td>1   </td><td>S   </td></tr>\n",
       "\t<tr><td>0   </td><td>male</td><td>3   </td><td>S   </td></tr>\n",
       "\t<tr><td>0   </td><td>male</td><td>3   </td><td>S   </td></tr>\n",
       "</tbody>\n",
       "</table>\n"
      ],
      "text/latex": [
       "\\begin{tabular}{r|llll}\n",
       " Survived & Sex & Pclass & Embarked\\\\\n",
       "\\hline\n",
       "\t 0    & male & 3    & S   \\\\\n",
       "\t 0    & male & 3    & S   \\\\\n",
       "\t 0    & male & 3    & Q   \\\\\n",
       "\t 0    & male & 1    & S   \\\\\n",
       "\t 0    & male & 3    & S   \\\\\n",
       "\t 0    & male & 3    & S   \\\\\n",
       "\\end{tabular}\n"
      ],
      "text/markdown": [
       "\n",
       "| Survived | Sex | Pclass | Embarked |\n",
       "|---|---|---|---|\n",
       "| 0    | male | 3    | S    |\n",
       "| 0    | male | 3    | S    |\n",
       "| 0    | male | 3    | Q    |\n",
       "| 0    | male | 1    | S    |\n",
       "| 0    | male | 3    | S    |\n",
       "| 0    | male | 3    | S    |\n",
       "\n"
      ],
      "text/plain": [
       "  Survived Sex  Pclass Embarked\n",
       "1 0        male 3      S       \n",
       "2 0        male 3      S       \n",
       "3 0        male 3      Q       \n",
       "4 0        male 1      S       \n",
       "5 0        male 3      S       \n",
       "6 0        male 3      S       "
      ]
     },
     "metadata": {},
     "output_type": "display_data"
    }
   ],
   "source": [
    "# 예측을 위한 컬럼 확인\n",
    "target_col <- c(\"Survived\" , 'Sex','Pclass','Embarked')\n",
    "head(train_df_T[,target_col])"
   ]
  },
  {
   "cell_type": "code",
   "execution_count": 365,
   "metadata": {
    "vscode": {
     "languageId": "r"
    }
   },
   "outputs": [
    {
     "data": {
      "text/html": [
       "<table>\n",
       "<thead><tr><th scope=col>PassengerId</th><th scope=col>Survived</th><th scope=col>Pclass</th><th scope=col>Name</th><th scope=col>Sex</th><th scope=col>Age</th><th scope=col>SibSp</th><th scope=col>Parch</th><th scope=col>Ticket</th><th scope=col>Fare</th><th scope=col>Cabin</th><th scope=col>Embarked</th><th scope=col>SexCode</th></tr></thead>\n",
       "<tbody>\n",
       "\t<tr><td> 1                                                     </td><td>0                                                      </td><td>3                                                      </td><td>Braund, Mr. Owen Harris                                </td><td>male                                                   </td><td>22                                                     </td><td>1                                                      </td><td>0                                                      </td><td>A/5 21171                                              </td><td> 7.2500                                                </td><td>                                                       </td><td>S                                                      </td><td>0                                                      </td></tr>\n",
       "\t<tr><td> 5                                                     </td><td>0                                                      </td><td>3                                                      </td><td>Allen, Mr. William Henry                               </td><td>male                                                   </td><td>35                                                     </td><td>0                                                      </td><td>0                                                      </td><td>373450                                                 </td><td> 8.0500                                                </td><td>                                                       </td><td>S                                                      </td><td>0                                                      </td></tr>\n",
       "\t<tr><td> 6                                                     </td><td>0                                                      </td><td>3                                                      </td><td>Moran, Mr. James                                       </td><td>male                                                   </td><td>NA                                                     </td><td>0                                                      </td><td>0                                                      </td><td>330877                                                 </td><td> 8.4583                                                </td><td>                                                       </td><td>Q                                                      </td><td>0                                                      </td></tr>\n",
       "\t<tr><td> 7                                                     </td><td>0                                                      </td><td>1                                                      </td><td>McCarthy, Mr. Timothy J                                </td><td>male                                                   </td><td>54                                                     </td><td>0                                                      </td><td>0                                                      </td><td>17463                                                  </td><td>51.8625                                                </td><td>E46                                                    </td><td>S                                                      </td><td>0                                                      </td></tr>\n",
       "\t<tr><td> 8                                                     </td><td>0                                                      </td><td>3                                                      </td><td>Palsson, Master. Gosta Leonard                         </td><td>male                                                   </td><td> 2                                                     </td><td>3                                                      </td><td>1                                                      </td><td>349909                                                 </td><td>21.0750                                                </td><td>                                                       </td><td>S                                                      </td><td>0                                                      </td></tr>\n",
       "\t<tr><td>13                                                     </td><td>0                                                      </td><td>3                                                      </td><td>Saundercock, Mr. William Henry                         </td><td>male                                                   </td><td>20                                                     </td><td>0                                                      </td><td>0                                                      </td><td>A/5. 2151                                              </td><td> 8.0500                                                </td><td>                                                       </td><td>S                                                      </td><td>0                                                      </td></tr>\n",
       "\t<tr><td>14                                                     </td><td>0                                                      </td><td>3                                                      </td><td>Andersson, Mr. Anders Johan                            </td><td>male                                                   </td><td>39                                                     </td><td>1                                                      </td><td>5                                                      </td><td>347082                                                 </td><td>31.2750                                                </td><td>                                                       </td><td>S                                                      </td><td>0                                                      </td></tr>\n",
       "\t<tr><td>15                                                     </td><td>0                                                      </td><td>3                                                      </td><td>Vestrom, Miss. Hulda Amanda Adolfina                   </td><td>female                                                 </td><td>14                                                     </td><td>0                                                      </td><td>0                                                      </td><td>350406                                                 </td><td> 7.8542                                                </td><td>                                                       </td><td>S                                                      </td><td>1                                                      </td></tr>\n",
       "\t<tr><td>17                                                     </td><td>0                                                      </td><td>3                                                      </td><td>Rice, Master. Eugene                                   </td><td>male                                                   </td><td> 2                                                     </td><td>4                                                      </td><td>1                                                      </td><td>382652                                                 </td><td>29.1250                                                </td><td>                                                       </td><td>Q                                                      </td><td>0                                                      </td></tr>\n",
       "\t<tr><td>19                                                     </td><td>0                                                      </td><td>3                                                      </td><td>Vander Planke, Mrs. Julius (Emelia Maria Vandemoortele)</td><td>female                                                 </td><td>31                                                     </td><td>1                                                      </td><td>0                                                      </td><td>345763                                                 </td><td>18.0000                                                </td><td>                                                       </td><td>S                                                      </td><td>1                                                      </td></tr>\n",
       "</tbody>\n",
       "</table>\n"
      ],
      "text/latex": [
       "\\begin{tabular}{r|lllllllllllll}\n",
       " PassengerId & Survived & Pclass & Name & Sex & Age & SibSp & Parch & Ticket & Fare & Cabin & Embarked & SexCode\\\\\n",
       "\\hline\n",
       "\t  1                                                      & 0                                                       & 3                                                       & Braund, Mr. Owen Harris                                 & male                                                    & 22                                                      & 1                                                       & 0                                                       & A/5 21171                                               &  7.2500                                                 &                                                         & S                                                       & 0                                                      \\\\\n",
       "\t  5                                                      & 0                                                       & 3                                                       & Allen, Mr. William Henry                                & male                                                    & 35                                                      & 0                                                       & 0                                                       & 373450                                                  &  8.0500                                                 &                                                         & S                                                       & 0                                                      \\\\\n",
       "\t  6                                                      & 0                                                       & 3                                                       & Moran, Mr. James                                        & male                                                    & NA                                                      & 0                                                       & 0                                                       & 330877                                                  &  8.4583                                                 &                                                         & Q                                                       & 0                                                      \\\\\n",
       "\t  7                                                      & 0                                                       & 1                                                       & McCarthy, Mr. Timothy J                                 & male                                                    & 54                                                      & 0                                                       & 0                                                       & 17463                                                   & 51.8625                                                 & E46                                                     & S                                                       & 0                                                      \\\\\n",
       "\t  8                                                      & 0                                                       & 3                                                       & Palsson, Master. Gosta Leonard                          & male                                                    &  2                                                      & 3                                                       & 1                                                       & 349909                                                  & 21.0750                                                 &                                                         & S                                                       & 0                                                      \\\\\n",
       "\t 13                                                      & 0                                                       & 3                                                       & Saundercock, Mr. William Henry                          & male                                                    & 20                                                      & 0                                                       & 0                                                       & A/5. 2151                                               &  8.0500                                                 &                                                         & S                                                       & 0                                                      \\\\\n",
       "\t 14                                                      & 0                                                       & 3                                                       & Andersson, Mr. Anders Johan                             & male                                                    & 39                                                      & 1                                                       & 5                                                       & 347082                                                  & 31.2750                                                 &                                                         & S                                                       & 0                                                      \\\\\n",
       "\t 15                                                      & 0                                                       & 3                                                       & Vestrom, Miss. Hulda Amanda Adolfina                    & female                                                  & 14                                                      & 0                                                       & 0                                                       & 350406                                                  &  7.8542                                                 &                                                         & S                                                       & 1                                                      \\\\\n",
       "\t 17                                                      & 0                                                       & 3                                                       & Rice, Master. Eugene                                    & male                                                    &  2                                                      & 4                                                       & 1                                                       & 382652                                                  & 29.1250                                                 &                                                         & Q                                                       & 0                                                      \\\\\n",
       "\t 19                                                      & 0                                                       & 3                                                       & Vander Planke, Mrs. Julius (Emelia Maria Vandemoortele) & female                                                  & 31                                                      & 1                                                       & 0                                                       & 345763                                                  & 18.0000                                                 &                                                         & S                                                       & 1                                                      \\\\\n",
       "\\end{tabular}\n"
      ],
      "text/markdown": [
       "\n",
       "| PassengerId | Survived | Pclass | Name | Sex | Age | SibSp | Parch | Ticket | Fare | Cabin | Embarked | SexCode |\n",
       "|---|---|---|---|---|---|---|---|---|---|---|---|---|\n",
       "|  1                                                      | 0                                                       | 3                                                       | Braund, Mr. Owen Harris                                 | male                                                    | 22                                                      | 1                                                       | 0                                                       | A/5 21171                                               |  7.2500                                                 |                                                         | S                                                       | 0                                                       |\n",
       "|  5                                                      | 0                                                       | 3                                                       | Allen, Mr. William Henry                                | male                                                    | 35                                                      | 0                                                       | 0                                                       | 373450                                                  |  8.0500                                                 |                                                         | S                                                       | 0                                                       |\n",
       "|  6                                                      | 0                                                       | 3                                                       | Moran, Mr. James                                        | male                                                    | NA                                                      | 0                                                       | 0                                                       | 330877                                                  |  8.4583                                                 |                                                         | Q                                                       | 0                                                       |\n",
       "|  7                                                      | 0                                                       | 1                                                       | McCarthy, Mr. Timothy J                                 | male                                                    | 54                                                      | 0                                                       | 0                                                       | 17463                                                   | 51.8625                                                 | E46                                                     | S                                                       | 0                                                       |\n",
       "|  8                                                      | 0                                                       | 3                                                       | Palsson, Master. Gosta Leonard                          | male                                                    |  2                                                      | 3                                                       | 1                                                       | 349909                                                  | 21.0750                                                 |                                                         | S                                                       | 0                                                       |\n",
       "| 13                                                      | 0                                                       | 3                                                       | Saundercock, Mr. William Henry                          | male                                                    | 20                                                      | 0                                                       | 0                                                       | A/5. 2151                                               |  8.0500                                                 |                                                         | S                                                       | 0                                                       |\n",
       "| 14                                                      | 0                                                       | 3                                                       | Andersson, Mr. Anders Johan                             | male                                                    | 39                                                      | 1                                                       | 5                                                       | 347082                                                  | 31.2750                                                 |                                                         | S                                                       | 0                                                       |\n",
       "| 15                                                      | 0                                                       | 3                                                       | Vestrom, Miss. Hulda Amanda Adolfina                    | female                                                  | 14                                                      | 0                                                       | 0                                                       | 350406                                                  |  7.8542                                                 |                                                         | S                                                       | 1                                                       |\n",
       "| 17                                                      | 0                                                       | 3                                                       | Rice, Master. Eugene                                    | male                                                    |  2                                                      | 4                                                       | 1                                                       | 382652                                                  | 29.1250                                                 |                                                         | Q                                                       | 0                                                       |\n",
       "| 19                                                      | 0                                                       | 3                                                       | Vander Planke, Mrs. Julius (Emelia Maria Vandemoortele) | female                                                  | 31                                                      | 1                                                       | 0                                                       | 345763                                                  | 18.0000                                                 |                                                         | S                                                       | 1                                                       |\n",
       "\n"
      ],
      "text/plain": [
       "   PassengerId Survived Pclass\n",
       "1   1          0        3     \n",
       "2   5          0        3     \n",
       "3   6          0        3     \n",
       "4   7          0        1     \n",
       "5   8          0        3     \n",
       "6  13          0        3     \n",
       "7  14          0        3     \n",
       "8  15          0        3     \n",
       "9  17          0        3     \n",
       "10 19          0        3     \n",
       "   Name                                                    Sex    Age SibSp\n",
       "1  Braund, Mr. Owen Harris                                 male   22  1    \n",
       "2  Allen, Mr. William Henry                                male   35  0    \n",
       "3  Moran, Mr. James                                        male   NA  0    \n",
       "4  McCarthy, Mr. Timothy J                                 male   54  0    \n",
       "5  Palsson, Master. Gosta Leonard                          male    2  3    \n",
       "6  Saundercock, Mr. William Henry                          male   20  0    \n",
       "7  Andersson, Mr. Anders Johan                             male   39  1    \n",
       "8  Vestrom, Miss. Hulda Amanda Adolfina                    female 14  0    \n",
       "9  Rice, Master. Eugene                                    male    2  4    \n",
       "10 Vander Planke, Mrs. Julius (Emelia Maria Vandemoortele) female 31  1    \n",
       "   Parch Ticket    Fare    Cabin Embarked SexCode\n",
       "1  0     A/5 21171  7.2500       S        0      \n",
       "2  0     373450     8.0500       S        0      \n",
       "3  0     330877     8.4583       Q        0      \n",
       "4  0     17463     51.8625 E46   S        0      \n",
       "5  1     349909    21.0750       S        0      \n",
       "6  0     A/5. 2151  8.0500       S        0      \n",
       "7  5     347082    31.2750       S        0      \n",
       "8  0     350406     7.8542       S        1      \n",
       "9  1     382652    29.1250       Q        0      \n",
       "10 0     345763    18.0000       S        1      "
      ]
     },
     "metadata": {},
     "output_type": "display_data"
    },
    {
     "data": {
      "text/html": [
       "<table>\n",
       "<thead><tr><th scope=col>PassengerId</th><th scope=col>Survived</th><th scope=col>Pclass</th><th scope=col>Name</th><th scope=col>Age</th><th scope=col>SibSp</th><th scope=col>Parch</th><th scope=col>Ticket</th><th scope=col>Fare</th><th scope=col>Cabin</th><th scope=col>Embarked</th><th scope=col>SexCode</th></tr></thead>\n",
       "<tbody>\n",
       "\t<tr><td> 1                            </td><td>0                             </td><td>3                             </td><td>Braund, Mr. Owen Harris       </td><td>22                            </td><td>1                             </td><td>0                             </td><td>A/5 21171                     </td><td> 7.2500                       </td><td>                              </td><td>S                             </td><td>0                             </td></tr>\n",
       "\t<tr><td> 5                            </td><td>0                             </td><td>3                             </td><td>Allen, Mr. William Henry      </td><td>35                            </td><td>0                             </td><td>0                             </td><td>373450                        </td><td> 8.0500                       </td><td>                              </td><td>S                             </td><td>0                             </td></tr>\n",
       "\t<tr><td> 6                            </td><td>0                             </td><td>3                             </td><td>Moran, Mr. James              </td><td>NA                            </td><td>0                             </td><td>0                             </td><td>330877                        </td><td> 8.4583                       </td><td>                              </td><td>Q                             </td><td>0                             </td></tr>\n",
       "\t<tr><td> 7                            </td><td>0                             </td><td>1                             </td><td>McCarthy, Mr. Timothy J       </td><td>54                            </td><td>0                             </td><td>0                             </td><td>17463                         </td><td>51.8625                       </td><td>E46                           </td><td>S                             </td><td>0                             </td></tr>\n",
       "\t<tr><td> 8                            </td><td>0                             </td><td>3                             </td><td>Palsson, Master. Gosta Leonard</td><td> 2                            </td><td>3                             </td><td>1                             </td><td>349909                        </td><td>21.0750                       </td><td>                              </td><td>S                             </td><td>0                             </td></tr>\n",
       "\t<tr><td>13                            </td><td>0                             </td><td>3                             </td><td>Saundercock, Mr. William Henry</td><td>20                            </td><td>0                             </td><td>0                             </td><td>A/5. 2151                     </td><td> 8.0500                       </td><td>                              </td><td>S                             </td><td>0                             </td></tr>\n",
       "</tbody>\n",
       "</table>\n"
      ],
      "text/latex": [
       "\\begin{tabular}{r|llllllllllll}\n",
       " PassengerId & Survived & Pclass & Name & Age & SibSp & Parch & Ticket & Fare & Cabin & Embarked & SexCode\\\\\n",
       "\\hline\n",
       "\t  1                             & 0                              & 3                              & Braund, Mr. Owen Harris        & 22                             & 1                              & 0                              & A/5 21171                      &  7.2500                        &                                & S                              & 0                             \\\\\n",
       "\t  5                             & 0                              & 3                              & Allen, Mr. William Henry       & 35                             & 0                              & 0                              & 373450                         &  8.0500                        &                                & S                              & 0                             \\\\\n",
       "\t  6                             & 0                              & 3                              & Moran, Mr. James               & NA                             & 0                              & 0                              & 330877                         &  8.4583                        &                                & Q                              & 0                             \\\\\n",
       "\t  7                             & 0                              & 1                              & McCarthy, Mr. Timothy J        & 54                             & 0                              & 0                              & 17463                          & 51.8625                        & E46                            & S                              & 0                             \\\\\n",
       "\t  8                             & 0                              & 3                              & Palsson, Master. Gosta Leonard &  2                             & 3                              & 1                              & 349909                         & 21.0750                        &                                & S                              & 0                             \\\\\n",
       "\t 13                             & 0                              & 3                              & Saundercock, Mr. William Henry & 20                             & 0                              & 0                              & A/5. 2151                      &  8.0500                        &                                & S                              & 0                             \\\\\n",
       "\\end{tabular}\n"
      ],
      "text/markdown": [
       "\n",
       "| PassengerId | Survived | Pclass | Name | Age | SibSp | Parch | Ticket | Fare | Cabin | Embarked | SexCode |\n",
       "|---|---|---|---|---|---|---|---|---|---|---|---|\n",
       "|  1                             | 0                              | 3                              | Braund, Mr. Owen Harris        | 22                             | 1                              | 0                              | A/5 21171                      |  7.2500                        |                                | S                              | 0                              |\n",
       "|  5                             | 0                              | 3                              | Allen, Mr. William Henry       | 35                             | 0                              | 0                              | 373450                         |  8.0500                        |                                | S                              | 0                              |\n",
       "|  6                             | 0                              | 3                              | Moran, Mr. James               | NA                             | 0                              | 0                              | 330877                         |  8.4583                        |                                | Q                              | 0                              |\n",
       "|  7                             | 0                              | 1                              | McCarthy, Mr. Timothy J        | 54                             | 0                              | 0                              | 17463                          | 51.8625                        | E46                            | S                              | 0                              |\n",
       "|  8                             | 0                              | 3                              | Palsson, Master. Gosta Leonard |  2                             | 3                              | 1                              | 349909                         | 21.0750                        |                                | S                              | 0                              |\n",
       "| 13                             | 0                              | 3                              | Saundercock, Mr. William Henry | 20                             | 0                              | 0                              | A/5. 2151                      |  8.0500                        |                                | S                              | 0                              |\n",
       "\n"
      ],
      "text/plain": [
       "  PassengerId Survived Pclass Name                           Age SibSp Parch\n",
       "1  1          0        3      Braund, Mr. Owen Harris        22  1     0    \n",
       "2  5          0        3      Allen, Mr. William Henry       35  0     0    \n",
       "3  6          0        3      Moran, Mr. James               NA  0     0    \n",
       "4  7          0        1      McCarthy, Mr. Timothy J        54  0     0    \n",
       "5  8          0        3      Palsson, Master. Gosta Leonard  2  3     1    \n",
       "6 13          0        3      Saundercock, Mr. William Henry 20  0     0    \n",
       "  Ticket    Fare    Cabin Embarked SexCode\n",
       "1 A/5 21171  7.2500       S        0      \n",
       "2 373450     8.0500       S        0      \n",
       "3 330877     8.4583       Q        0      \n",
       "4 17463     51.8625 E46   S        0      \n",
       "5 349909    21.0750       S        0      \n",
       "6 A/5. 2151  8.0500       S        0      "
      ]
     },
     "metadata": {},
     "output_type": "display_data"
    }
   ],
   "source": [
    "# Sex 컬럼을 숫자로 전환\n",
    "train_df_T$SexCode[train_df_T$Sex == \"male\"] <- 0\n",
    "train_df_T$SexCode[train_df_T$Sex == \"female\"] <- 1\n",
    "\n",
    "head(train_df_T,10)\n",
    "\n",
    "# Sex 컬럼 삭제\n",
    "train_df_T <- subset(train_df_T , select = -Sex)\n",
    "head(train_df_T)"
   ]
  },
  {
   "cell_type": "code",
   "execution_count": 366,
   "metadata": {
    "vscode": {
     "languageId": "r"
    }
   },
   "outputs": [
    {
     "data": {
      "text/html": [
       "<table>\n",
       "<thead><tr><th scope=col>Survived</th><th scope=col>SexCode</th><th scope=col>Pclass</th><th scope=col>Embarked</th></tr></thead>\n",
       "<tbody>\n",
       "\t<tr><td>0</td><td>0</td><td>3</td><td>S</td></tr>\n",
       "\t<tr><td>0</td><td>0</td><td>3</td><td>S</td></tr>\n",
       "\t<tr><td>0</td><td>0</td><td>3</td><td>Q</td></tr>\n",
       "\t<tr><td>0</td><td>0</td><td>1</td><td>S</td></tr>\n",
       "\t<tr><td>0</td><td>0</td><td>3</td><td>S</td></tr>\n",
       "\t<tr><td>0</td><td>0</td><td>3</td><td>S</td></tr>\n",
       "</tbody>\n",
       "</table>\n"
      ],
      "text/latex": [
       "\\begin{tabular}{r|llll}\n",
       " Survived & SexCode & Pclass & Embarked\\\\\n",
       "\\hline\n",
       "\t 0 & 0 & 3 & S\\\\\n",
       "\t 0 & 0 & 3 & S\\\\\n",
       "\t 0 & 0 & 3 & Q\\\\\n",
       "\t 0 & 0 & 1 & S\\\\\n",
       "\t 0 & 0 & 3 & S\\\\\n",
       "\t 0 & 0 & 3 & S\\\\\n",
       "\\end{tabular}\n"
      ],
      "text/markdown": [
       "\n",
       "| Survived | SexCode | Pclass | Embarked |\n",
       "|---|---|---|---|\n",
       "| 0 | 0 | 3 | S |\n",
       "| 0 | 0 | 3 | S |\n",
       "| 0 | 0 | 3 | Q |\n",
       "| 0 | 0 | 1 | S |\n",
       "| 0 | 0 | 3 | S |\n",
       "| 0 | 0 | 3 | S |\n",
       "\n"
      ],
      "text/plain": [
       "  Survived SexCode Pclass Embarked\n",
       "1 0        0       3      S       \n",
       "2 0        0       3      S       \n",
       "3 0        0       3      Q       \n",
       "4 0        0       1      S       \n",
       "5 0        0       3      S       \n",
       "6 0        0       3      S       "
      ]
     },
     "metadata": {},
     "output_type": "display_data"
    }
   ],
   "source": [
    "# 타겟코드 다시 정리\n",
    "target_col <- c(\"Survived\" , 'SexCode','Pclass','Embarked')\n",
    "head(train_df_T[,target_col])"
   ]
  },
  {
   "cell_type": "markdown",
   "metadata": {},
   "source": [
    "### Embarked를 숫자로 전환\n",
    "C = 0, S = 1 , Q = 2 -> 맞긴 맞지만 좋은 생각이 아니다.\n",
    "2 * S = Q , S + S = Q -> 이런 오류가 생긴다 \n",
    "\n",
    "### One-Hot Encoding 방법\n",
    "C == [1,0,0]\n",
    "S == [0,1,0]\n",
    "Q == [0,0,1]\n",
    "처럼 행렬로 만들면 덧셈과 뺄셈에 때에 각각 계산이 굉장히 안전해 진다.\n",
    "R은 내부적으로 1은 TRUE , 0은 False로 인식한다."
   ]
  },
  {
   "cell_type": "code",
   "execution_count": 367,
   "metadata": {
    "vscode": {
     "languageId": "r"
    }
   },
   "outputs": [
    {
     "data": {
      "text/html": [
       "<table>\n",
       "<thead><tr><th scope=col>Embarked</th><th scope=col>Embarked_C</th><th scope=col>Embarked_S</th><th scope=col>Embarked_Q</th></tr></thead>\n",
       "<tbody>\n",
       "\t<tr><td>S    </td><td>FALSE</td><td> TRUE</td><td>FALSE</td></tr>\n",
       "\t<tr><td>S    </td><td>FALSE</td><td> TRUE</td><td>FALSE</td></tr>\n",
       "\t<tr><td>Q    </td><td>FALSE</td><td>FALSE</td><td> TRUE</td></tr>\n",
       "\t<tr><td>S    </td><td>FALSE</td><td> TRUE</td><td>FALSE</td></tr>\n",
       "\t<tr><td>S    </td><td>FALSE</td><td> TRUE</td><td>FALSE</td></tr>\n",
       "\t<tr><td>S    </td><td>FALSE</td><td> TRUE</td><td>FALSE</td></tr>\n",
       "</tbody>\n",
       "</table>\n"
      ],
      "text/latex": [
       "\\begin{tabular}{r|llll}\n",
       " Embarked & Embarked\\_C & Embarked\\_S & Embarked\\_Q\\\\\n",
       "\\hline\n",
       "\t S     & FALSE &  TRUE & FALSE\\\\\n",
       "\t S     & FALSE &  TRUE & FALSE\\\\\n",
       "\t Q     & FALSE & FALSE &  TRUE\\\\\n",
       "\t S     & FALSE &  TRUE & FALSE\\\\\n",
       "\t S     & FALSE &  TRUE & FALSE\\\\\n",
       "\t S     & FALSE &  TRUE & FALSE\\\\\n",
       "\\end{tabular}\n"
      ],
      "text/markdown": [
       "\n",
       "| Embarked | Embarked_C | Embarked_S | Embarked_Q |\n",
       "|---|---|---|---|\n",
       "| S     | FALSE |  TRUE | FALSE |\n",
       "| S     | FALSE |  TRUE | FALSE |\n",
       "| Q     | FALSE | FALSE |  TRUE |\n",
       "| S     | FALSE |  TRUE | FALSE |\n",
       "| S     | FALSE |  TRUE | FALSE |\n",
       "| S     | FALSE |  TRUE | FALSE |\n",
       "\n"
      ],
      "text/plain": [
       "  Embarked Embarked_C Embarked_S Embarked_Q\n",
       "1 S        FALSE       TRUE      FALSE     \n",
       "2 S        FALSE       TRUE      FALSE     \n",
       "3 Q        FALSE      FALSE       TRUE     \n",
       "4 S        FALSE       TRUE      FALSE     \n",
       "5 S        FALSE       TRUE      FALSE     \n",
       "6 S        FALSE       TRUE      FALSE     "
      ]
     },
     "metadata": {},
     "output_type": "display_data"
    }
   ],
   "source": [
    "train_df_T$Embarked_C = train_df_T$Embarked == \"C\" \n",
    "train_df_T$Embarked_S = train_df_T$Embarked == \"S\" \n",
    "train_df_T$Embarked_Q = train_df_T$Embarked == \"Q\" \n",
    "\n",
    "head(train_df_T[c('Embarked','Embarked_C','Embarked_S','Embarked_Q')])"
   ]
  },
  {
   "cell_type": "code",
   "execution_count": 370,
   "metadata": {
    "vscode": {
     "languageId": "r"
    }
   },
   "outputs": [
    {
     "data": {
      "text/html": [
       "<table>\n",
       "<thead><tr><th scope=col>Survived</th><th scope=col>SexCode</th><th scope=col>Pclass</th><th scope=col>Embarked_C</th><th scope=col>Embarked_S</th><th scope=col>Embarked_Q</th></tr></thead>\n",
       "<tbody>\n",
       "\t<tr><td>0    </td><td>0    </td><td>3    </td><td>FALSE</td><td> TRUE</td><td>FALSE</td></tr>\n",
       "\t<tr><td>0    </td><td>0    </td><td>3    </td><td>FALSE</td><td> TRUE</td><td>FALSE</td></tr>\n",
       "\t<tr><td>0    </td><td>0    </td><td>3    </td><td>FALSE</td><td>FALSE</td><td> TRUE</td></tr>\n",
       "\t<tr><td>0    </td><td>0    </td><td>1    </td><td>FALSE</td><td> TRUE</td><td>FALSE</td></tr>\n",
       "\t<tr><td>0    </td><td>0    </td><td>3    </td><td>FALSE</td><td> TRUE</td><td>FALSE</td></tr>\n",
       "\t<tr><td>0    </td><td>0    </td><td>3    </td><td>FALSE</td><td> TRUE</td><td>FALSE</td></tr>\n",
       "</tbody>\n",
       "</table>\n"
      ],
      "text/latex": [
       "\\begin{tabular}{r|llllll}\n",
       " Survived & SexCode & Pclass & Embarked\\_C & Embarked\\_S & Embarked\\_Q\\\\\n",
       "\\hline\n",
       "\t 0     & 0     & 3     & FALSE &  TRUE & FALSE\\\\\n",
       "\t 0     & 0     & 3     & FALSE &  TRUE & FALSE\\\\\n",
       "\t 0     & 0     & 3     & FALSE & FALSE &  TRUE\\\\\n",
       "\t 0     & 0     & 1     & FALSE &  TRUE & FALSE\\\\\n",
       "\t 0     & 0     & 3     & FALSE &  TRUE & FALSE\\\\\n",
       "\t 0     & 0     & 3     & FALSE &  TRUE & FALSE\\\\\n",
       "\\end{tabular}\n"
      ],
      "text/markdown": [
       "\n",
       "| Survived | SexCode | Pclass | Embarked_C | Embarked_S | Embarked_Q |\n",
       "|---|---|---|---|---|---|\n",
       "| 0     | 0     | 3     | FALSE |  TRUE | FALSE |\n",
       "| 0     | 0     | 3     | FALSE |  TRUE | FALSE |\n",
       "| 0     | 0     | 3     | FALSE | FALSE |  TRUE |\n",
       "| 0     | 0     | 1     | FALSE |  TRUE | FALSE |\n",
       "| 0     | 0     | 3     | FALSE |  TRUE | FALSE |\n",
       "| 0     | 0     | 3     | FALSE |  TRUE | FALSE |\n",
       "\n"
      ],
      "text/plain": [
       "  Survived SexCode Pclass Embarked_C Embarked_S Embarked_Q\n",
       "1 0        0       3      FALSE       TRUE      FALSE     \n",
       "2 0        0       3      FALSE       TRUE      FALSE     \n",
       "3 0        0       3      FALSE      FALSE       TRUE     \n",
       "4 0        0       1      FALSE       TRUE      FALSE     \n",
       "5 0        0       3      FALSE       TRUE      FALSE     \n",
       "6 0        0       3      FALSE       TRUE      FALSE     "
      ]
     },
     "metadata": {},
     "output_type": "display_data"
    }
   ],
   "source": [
    "# 타겟코드 다시 정리\n",
    "target_col <- c(\"Survived\" , 'SexCode','Pclass','Embarked_C','Embarked_S','Embarked_Q')\n",
    "head(train_df_T[,target_col])"
   ]
  },
  {
   "cell_type": "code",
   "execution_count": 372,
   "metadata": {
    "vscode": {
     "languageId": "r"
    }
   },
   "outputs": [
    {
     "data": {
      "text/html": [
       "<table>\n",
       "<thead><tr><th scope=col>Survived</th><th scope=col>SexCode</th><th scope=col>Pclass</th><th scope=col>Embarked_C</th><th scope=col>Embarked_S</th><th scope=col>Embarked_Q</th></tr></thead>\n",
       "<tbody>\n",
       "\t<tr><td>0    </td><td>0    </td><td>3    </td><td>FALSE</td><td> TRUE</td><td>FALSE</td></tr>\n",
       "\t<tr><td>0    </td><td>0    </td><td>3    </td><td>FALSE</td><td> TRUE</td><td>FALSE</td></tr>\n",
       "\t<tr><td>0    </td><td>0    </td><td>3    </td><td>FALSE</td><td>FALSE</td><td> TRUE</td></tr>\n",
       "\t<tr><td>0    </td><td>0    </td><td>1    </td><td>FALSE</td><td> TRUE</td><td>FALSE</td></tr>\n",
       "\t<tr><td>0    </td><td>0    </td><td>3    </td><td>FALSE</td><td> TRUE</td><td>FALSE</td></tr>\n",
       "\t<tr><td>0    </td><td>0    </td><td>3    </td><td>FALSE</td><td> TRUE</td><td>FALSE</td></tr>\n",
       "</tbody>\n",
       "</table>\n"
      ],
      "text/latex": [
       "\\begin{tabular}{r|llllll}\n",
       " Survived & SexCode & Pclass & Embarked\\_C & Embarked\\_S & Embarked\\_Q\\\\\n",
       "\\hline\n",
       "\t 0     & 0     & 3     & FALSE &  TRUE & FALSE\\\\\n",
       "\t 0     & 0     & 3     & FALSE &  TRUE & FALSE\\\\\n",
       "\t 0     & 0     & 3     & FALSE & FALSE &  TRUE\\\\\n",
       "\t 0     & 0     & 1     & FALSE &  TRUE & FALSE\\\\\n",
       "\t 0     & 0     & 3     & FALSE &  TRUE & FALSE\\\\\n",
       "\t 0     & 0     & 3     & FALSE &  TRUE & FALSE\\\\\n",
       "\\end{tabular}\n"
      ],
      "text/markdown": [
       "\n",
       "| Survived | SexCode | Pclass | Embarked_C | Embarked_S | Embarked_Q |\n",
       "|---|---|---|---|---|---|\n",
       "| 0     | 0     | 3     | FALSE |  TRUE | FALSE |\n",
       "| 0     | 0     | 3     | FALSE |  TRUE | FALSE |\n",
       "| 0     | 0     | 3     | FALSE | FALSE |  TRUE |\n",
       "| 0     | 0     | 1     | FALSE |  TRUE | FALSE |\n",
       "| 0     | 0     | 3     | FALSE |  TRUE | FALSE |\n",
       "| 0     | 0     | 3     | FALSE |  TRUE | FALSE |\n",
       "\n"
      ],
      "text/plain": [
       "  Survived SexCode Pclass Embarked_C Embarked_S Embarked_Q\n",
       "1 0        0       3      FALSE       TRUE      FALSE     \n",
       "2 0        0       3      FALSE       TRUE      FALSE     \n",
       "3 0        0       3      FALSE      FALSE       TRUE     \n",
       "4 0        0       1      FALSE       TRUE      FALSE     \n",
       "5 0        0       3      FALSE       TRUE      FALSE     \n",
       "6 0        0       3      FALSE       TRUE      FALSE     "
      ]
     },
     "metadata": {},
     "output_type": "display_data"
    },
    {
     "name": "stdout",
     "output_type": "stream",
     "text": [
      "'data.frame':\t891 obs. of  6 variables:\n",
      " $ Survived  : int  0 0 0 0 0 0 0 0 0 0 ...\n",
      " $ SexCode   : num  0 0 0 0 0 0 0 1 0 1 ...\n",
      " $ Pclass    : int  3 3 3 1 3 3 3 3 3 3 ...\n",
      " $ Embarked_C: logi  FALSE FALSE FALSE FALSE FALSE FALSE ...\n",
      " $ Embarked_S: logi  TRUE TRUE FALSE TRUE TRUE TRUE ...\n",
      " $ Embarked_Q: logi  FALSE FALSE TRUE FALSE FALSE FALSE ...\n"
     ]
    }
   ],
   "source": [
    "# 데이터셋 새로 만들기\n",
    "train_data <- train_df_T[,target_col]\n",
    "head(train_data)\n",
    "str(train_data)"
   ]
  },
  {
   "cell_type": "code",
   "execution_count": 437,
   "metadata": {
    "vscode": {
     "languageId": "r"
    }
   },
   "outputs": [],
   "source": [
    "# Sampling\n",
    "set.seed(1234)\n",
    "samp <- createDataPartition(train_data$Survived, p=0.7, list=F)\n",
    "# 학습용\n",
    "data.train <- train_data[samp,]\n",
    "# 검증용\n",
    "data.test <- train_data[-samp,]\n",
    "\n",
    "# 문제 및 정답 만들기\n",
    "x <- subset(data.test, select = -Survived)\n",
    "y <- data.test$Survived\n"
   ]
  },
  {
   "cell_type": "code",
   "execution_count": 438,
   "metadata": {
    "vscode": {
     "languageId": "r"
    }
   },
   "outputs": [
    {
     "data": {
      "text/html": [
       "0"
      ],
      "text/latex": [
       "0"
      ],
      "text/markdown": [
       "0"
      ],
      "text/plain": [
       "[1] 0"
      ]
     },
     "metadata": {},
     "output_type": "display_data"
    },
    {
     "data": {
      "text/plain": [
       "                   y\n",
       "pred                 0  1\n",
       "  0.229457161251172 77 12\n",
       "  0.273039175700199 12  2\n",
       "  0.293434856171774 22  6\n",
       "  0.32865970146674  15  8\n",
       "  0.348585074712486  8  2\n",
       "  0.400756676858172  1  0\n",
       "  0.413781356739698 15 14\n",
       "  0.438782097650849  6  5\n",
       "  0.56865773494729   4  6\n",
       "  0.580887127781153  2 15\n",
       "  0.593013969495393  0 15\n",
       "  0.618187873616651  3  6\n",
       "  0.729800516458406  0  1\n",
       "  0.741100163580865  1  9"
      ]
     },
     "metadata": {},
     "output_type": "display_data"
    },
    {
     "data": {
      "text/html": [
       "<dl class=dl-horizontal>\n",
       "\t<dt>5</dt>\n",
       "\t\t<dd>0</dd>\n",
       "\t<dt>6</dt>\n",
       "\t\t<dd>0</dd>\n",
       "\t<dt>7</dt>\n",
       "\t\t<dd>0</dd>\n",
       "\t<dt>8</dt>\n",
       "\t\t<dd>0</dd>\n",
       "\t<dt>9</dt>\n",
       "\t\t<dd>0</dd>\n",
       "\t<dt>16</dt>\n",
       "\t\t<dd>0</dd>\n",
       "</dl>\n"
      ],
      "text/latex": [
       "\\begin{description*}\n",
       "\\item[5] 0\n",
       "\\item[6] 0\n",
       "\\item[7] 0\n",
       "\\item[8] 0\n",
       "\\item[9] 0\n",
       "\\item[16] 0\n",
       "\\end{description*}\n"
      ],
      "text/markdown": [
       "5\n",
       ":   06\n",
       ":   07\n",
       ":   08\n",
       ":   09\n",
       ":   016\n",
       ":   0\n",
       "\n"
      ],
      "text/plain": [
       " 5  6  7  8  9 16 \n",
       " 0  0  0  0  0  0 "
      ]
     },
     "metadata": {},
     "output_type": "display_data"
    },
    {
     "data": {
      "text/html": [
       "0.779026217228464"
      ],
      "text/latex": [
       "0.779026217228464"
      ],
      "text/markdown": [
       "0.779026217228464"
      ],
      "text/plain": [
       "[1] 0.7790262"
      ]
     },
     "metadata": {},
     "output_type": "display_data"
    },
    {
     "data": {
      "text/plain": [
       "    y\n",
       "pred   0   1\n",
       "   0 156  49\n",
       "   1  10  52"
      ]
     },
     "metadata": {},
     "output_type": "display_data"
    }
   ],
   "source": [
    "# 랜덤포레스트\n",
    "# 학습시키기 \n",
    "model.rf <- randomForest(Survived ~ . , data = data.train , ntree = 100 )\n",
    "\n",
    "# 검증하기 \n",
    "pred <- predict(model.rf , x)\n",
    "\n",
    "# 예측력과 오분류포\n",
    "mean(pred == y)\n",
    "table(pred , y) \n",
    "## Survived가 int값으로 들어가 있기 때문에 예측을 0,1로 하는게 아니라 주관식으로 계산해서 0.22,0.58 등 계산 값을 예측해버린다.\n",
    "## (파이썬?) sigmoid 함수를 사용해야 한다. 0하고1사이의 값만 내놓는다. 0.5 기준으로 0 , 1 로 판단한다\n",
    "\n",
    "# 해결방법 1 ) 우리가 조건울 주어서 2지선다로 바꾼것\n",
    "pred[pred <= 0.5] <- 0\n",
    "pred[pred > 0.5] <- 1\n",
    "head(pred)\n",
    "mean(pred == y)\n",
    "table(pred , y) \n"
   ]
  },
  {
   "cell_type": "markdown",
   "metadata": {},
   "source": [
    "--- \n",
    "### Survived를 factor로 변환 후에 randomForest 실행"
   ]
  },
  {
   "cell_type": "code",
   "execution_count": 439,
   "metadata": {
    "vscode": {
     "languageId": "r"
    }
   },
   "outputs": [
    {
     "data": {
      "text/html": [
       "0.779026217228464"
      ],
      "text/latex": [
       "0.779026217228464"
      ],
      "text/markdown": [
       "0.779026217228464"
      ],
      "text/plain": [
       "[1] 0.7790262"
      ]
     },
     "metadata": {},
     "output_type": "display_data"
    },
    {
     "data": {
      "text/plain": [
       "    y\n",
       "pred   0   1\n",
       "   0 156  49\n",
       "   1  10  52"
      ]
     },
     "metadata": {},
     "output_type": "display_data"
    }
   ],
   "source": [
    "data.train$Survived <- as.factor(data.train$Survived)\n",
    "data.test$Survived <- as.factor(data.test$Survived)\n",
    "# 학습시키기 \n",
    "model.rf <- randomForest(Survived ~ . , data = data.train , ntree = 100 )\n",
    "# 문제 및 정답 만들기\n",
    "x <- subset(data.test, select = -Survived)\n",
    "y <- data.test$Survived\n",
    "# 검증하기 \n",
    "pred <- predict(model.rf , x)\n",
    "# 예측력과 오분류포\n",
    "mean(pred == y)\n",
    "table(pred , y) # 사망자는 잘 맞추지만 생존자는 반밖에 못맞춘다\n"
   ]
  },
  {
   "cell_type": "markdown",
   "metadata": {},
   "source": [
    "## 인공신경망, 의사결정나무, 랜덤포레스트, SVM, 로지스틱 으로 분석해보기"
   ]
  },
  {
   "cell_type": "code",
   "execution_count": 668,
   "metadata": {
    "vscode": {
     "languageId": "r"
    }
   },
   "outputs": [
    {
     "name": "stdout",
     "output_type": "stream",
     "text": [
      "# weights:  28\n",
      "initial  value 448.106235 \n",
      "iter  10 value 245.657865\n",
      "iter  20 value 216.453537\n",
      "iter  30 value 212.662010\n",
      "iter  40 value 211.854763\n",
      "iter  50 value 210.005079\n",
      "iter  60 value 209.647383\n",
      "iter  70 value 206.594890\n",
      "iter  80 value 205.776304\n",
      "iter  90 value 205.366176\n",
      "iter 100 value 205.236318\n",
      "final  value 205.236318 \n",
      "stopped after 100 iterations\n"
     ]
    },
    {
     "data": {
      "text/html": [
       "0.822429906542056"
      ],
      "text/latex": [
       "0.822429906542056"
      ],
      "text/markdown": [
       "0.822429906542056"
      ],
      "text/plain": [
       "[1] 0.8224299"
      ]
     },
     "metadata": {},
     "output_type": "display_data"
    },
    {
     "data": {
      "text/plain": [
       "    y\n",
       "pred   0   1\n",
       "   0 126  37\n",
       "   1   1  50"
      ]
     },
     "metadata": {},
     "output_type": "display_data"
    },
    {
     "data": {
      "text/html": [
       "0.803738317757009"
      ],
      "text/latex": [
       "0.803738317757009"
      ],
      "text/markdown": [
       "0.803738317757009"
      ],
      "text/plain": [
       "[1] 0.8037383"
      ]
     },
     "metadata": {},
     "output_type": "display_data"
    },
    {
     "data": {
      "text/plain": [
       "    y\n",
       "pred   0   1\n",
       "   0 120  35\n",
       "   1   7  52"
      ]
     },
     "metadata": {},
     "output_type": "display_data"
    },
    {
     "data": {
      "text/html": [
       "0.785046728971963"
      ],
      "text/latex": [
       "0.785046728971963"
      ],
      "text/markdown": [
       "0.785046728971963"
      ],
      "text/plain": [
       "[1] 0.7850467"
      ]
     },
     "metadata": {},
     "output_type": "display_data"
    },
    {
     "data": {
      "text/plain": [
       "    y\n",
       "pred   0   1\n",
       "   0 101  20\n",
       "   1  26  67"
      ]
     },
     "metadata": {},
     "output_type": "display_data"
    },
    {
     "name": "stdout",
     "output_type": "stream",
     "text": [
      "# weights:  9 (8 variable)\n",
      "initial  value 346.573590 \n",
      "iter  10 value 227.455480\n",
      "final  value 227.434646 \n",
      "converged\n"
     ]
    },
    {
     "data": {
      "text/html": [
       "0.771028037383178"
      ],
      "text/latex": [
       "0.771028037383178"
      ],
      "text/markdown": [
       "0.771028037383178"
      ],
      "text/plain": [
       "[1] 0.771028"
      ]
     },
     "metadata": {},
     "output_type": "display_data"
    },
    {
     "data": {
      "text/plain": [
       "    y\n",
       "pred 0 1\n",
       "   0    \n",
       "   1    "
      ]
     },
     "metadata": {},
     "output_type": "display_data"
    }
   ],
   "source": [
    "\n",
    "# 인공신경망\n",
    "model.nnet <- nnet(Survived ~ . , data=data.train, size = 3)\n",
    "# 검증\n",
    "pred <- predict(model.nnet, x, type='class')\n",
    "# 예측력과 오분류포\n",
    "mean(pred == y)\n",
    "table(pred , y)\n",
    "\n",
    "# 의사결정나무\n",
    "model.ctree <- ctree(Survived ~ . , data=data.train )\n",
    "# 검증\n",
    "pred <- predict(model.ctree, x)\n",
    "# 예측력과 오분류포\n",
    "mean(pred == y)\n",
    "table(pred , y)\n",
    "\n",
    "# SVM\n",
    "model.svm = svm(Survived ~ . , data=data.train )\n",
    "# 검증\n",
    "pred <- predict(model.svm, x)\n",
    "# 예측력과 오분류포\n",
    "mean(pred == y)\n",
    "table(pred , y)\n",
    "\n",
    "# 로지스틱\n",
    "model.mt <- multinom(Survived ~ . , data=data.train )\n",
    "# 검증하기\n",
    "pred <- predict(model.mt , x)\n",
    "# 예측력과 오분류포\n",
    "mean(pred == y)\n",
    "table(pred , y) + as.table(matrix(nrow=2,ncol=2))"
   ]
  },
  {
   "cell_type": "code",
   "execution_count": 1017,
   "metadata": {
    "vscode": {
     "languageId": "r"
    }
   },
   "outputs": [
    {
     "data": {
      "text/html": [
       "<table>\n",
       "<thead><tr><th></th><th scope=col>Survived</th><th scope=col>SexCode</th><th scope=col>Pclass</th><th scope=col>Embarked_C</th><th scope=col>Embarked_S</th><th scope=col>Embarked_Q</th><th scope=col>Age_c</th><th scope=col>Age_a</th><th scope=col>Fare_r</th><th scope=col>Fare_h</th><th scope=col>isAlone</th><th scope=col>notAlone</th><th scope=col>chp1</th><th scope=col>chp2</th><th scope=col>chp3</th><th scope=col>fep1</th><th scope=col>fep2</th><th scope=col>fep3</th><th scope=col>nationE</th><th scope=col>nationF</th></tr></thead>\n",
       "<tbody>\n",
       "\t<tr><th scope=row>1</th><td>0    </td><td>0    </td><td>3    </td><td>FALSE</td><td>TRUE </td><td>FALSE</td><td>FALSE</td><td> TRUE</td><td> TRUE</td><td>FALSE</td><td>FALSE</td><td> TRUE</td><td>FALSE</td><td>FALSE</td><td>FALSE</td><td>FALSE</td><td>FALSE</td><td>FALSE</td><td>TRUE </td><td>FALSE</td></tr>\n",
       "\t<tr><th scope=row>2</th><td>0    </td><td>0    </td><td>3    </td><td>FALSE</td><td>TRUE </td><td>FALSE</td><td>FALSE</td><td> TRUE</td><td> TRUE</td><td>FALSE</td><td> TRUE</td><td>FALSE</td><td>FALSE</td><td>FALSE</td><td>FALSE</td><td>FALSE</td><td>FALSE</td><td>FALSE</td><td>TRUE </td><td>FALSE</td></tr>\n",
       "\t<tr><th scope=row>4</th><td>0    </td><td>0    </td><td>1    </td><td>FALSE</td><td>TRUE </td><td>FALSE</td><td>FALSE</td><td> TRUE</td><td>FALSE</td><td> TRUE</td><td> TRUE</td><td>FALSE</td><td>FALSE</td><td>FALSE</td><td>FALSE</td><td>FALSE</td><td>FALSE</td><td>FALSE</td><td>TRUE </td><td>FALSE</td></tr>\n",
       "\t<tr><th scope=row>5</th><td>0    </td><td>0    </td><td>3    </td><td>FALSE</td><td>TRUE </td><td>FALSE</td><td> TRUE</td><td>FALSE</td><td> TRUE</td><td>FALSE</td><td>FALSE</td><td> TRUE</td><td>FALSE</td><td>FALSE</td><td> TRUE</td><td>FALSE</td><td>FALSE</td><td>FALSE</td><td>TRUE </td><td>FALSE</td></tr>\n",
       "\t<tr><th scope=row>6</th><td>0    </td><td>0    </td><td>3    </td><td>FALSE</td><td>TRUE </td><td>FALSE</td><td>FALSE</td><td> TRUE</td><td> TRUE</td><td>FALSE</td><td> TRUE</td><td>FALSE</td><td>FALSE</td><td>FALSE</td><td>FALSE</td><td>FALSE</td><td>FALSE</td><td>FALSE</td><td>TRUE </td><td>FALSE</td></tr>\n",
       "\t<tr><th scope=row>7</th><td>0    </td><td>0    </td><td>3    </td><td>FALSE</td><td>TRUE </td><td>FALSE</td><td>FALSE</td><td> TRUE</td><td> TRUE</td><td>FALSE</td><td>FALSE</td><td> TRUE</td><td>FALSE</td><td>FALSE</td><td>FALSE</td><td>FALSE</td><td>FALSE</td><td>FALSE</td><td>TRUE </td><td>FALSE</td></tr>\n",
       "</tbody>\n",
       "</table>\n"
      ],
      "text/latex": [
       "\\begin{tabular}{r|llllllllllllllllllll}\n",
       "  & Survived & SexCode & Pclass & Embarked\\_C & Embarked\\_S & Embarked\\_Q & Age\\_c & Age\\_a & Fare\\_r & Fare\\_h & isAlone & notAlone & chp1 & chp2 & chp3 & fep1 & fep2 & fep3 & nationE & nationF\\\\\n",
       "\\hline\n",
       "\t1 & 0     & 0     & 3     & FALSE & TRUE  & FALSE & FALSE &  TRUE &  TRUE & FALSE & FALSE &  TRUE & FALSE & FALSE & FALSE & FALSE & FALSE & FALSE & TRUE  & FALSE\\\\\n",
       "\t2 & 0     & 0     & 3     & FALSE & TRUE  & FALSE & FALSE &  TRUE &  TRUE & FALSE &  TRUE & FALSE & FALSE & FALSE & FALSE & FALSE & FALSE & FALSE & TRUE  & FALSE\\\\\n",
       "\t4 & 0     & 0     & 1     & FALSE & TRUE  & FALSE & FALSE &  TRUE & FALSE &  TRUE &  TRUE & FALSE & FALSE & FALSE & FALSE & FALSE & FALSE & FALSE & TRUE  & FALSE\\\\\n",
       "\t5 & 0     & 0     & 3     & FALSE & TRUE  & FALSE &  TRUE & FALSE &  TRUE & FALSE & FALSE &  TRUE & FALSE & FALSE &  TRUE & FALSE & FALSE & FALSE & TRUE  & FALSE\\\\\n",
       "\t6 & 0     & 0     & 3     & FALSE & TRUE  & FALSE & FALSE &  TRUE &  TRUE & FALSE &  TRUE & FALSE & FALSE & FALSE & FALSE & FALSE & FALSE & FALSE & TRUE  & FALSE\\\\\n",
       "\t7 & 0     & 0     & 3     & FALSE & TRUE  & FALSE & FALSE &  TRUE &  TRUE & FALSE & FALSE &  TRUE & FALSE & FALSE & FALSE & FALSE & FALSE & FALSE & TRUE  & FALSE\\\\\n",
       "\\end{tabular}\n"
      ],
      "text/markdown": [
       "\n",
       "| <!--/--> | Survived | SexCode | Pclass | Embarked_C | Embarked_S | Embarked_Q | Age_c | Age_a | Fare_r | Fare_h | isAlone | notAlone | chp1 | chp2 | chp3 | fep1 | fep2 | fep3 | nationE | nationF |\n",
       "|---|---|---|---|---|---|---|---|---|---|---|---|---|---|---|---|---|---|---|---|---|\n",
       "| 1 | 0     | 0     | 3     | FALSE | TRUE  | FALSE | FALSE |  TRUE |  TRUE | FALSE | FALSE |  TRUE | FALSE | FALSE | FALSE | FALSE | FALSE | FALSE | TRUE  | FALSE |\n",
       "| 2 | 0     | 0     | 3     | FALSE | TRUE  | FALSE | FALSE |  TRUE |  TRUE | FALSE |  TRUE | FALSE | FALSE | FALSE | FALSE | FALSE | FALSE | FALSE | TRUE  | FALSE |\n",
       "| 4 | 0     | 0     | 1     | FALSE | TRUE  | FALSE | FALSE |  TRUE | FALSE |  TRUE |  TRUE | FALSE | FALSE | FALSE | FALSE | FALSE | FALSE | FALSE | TRUE  | FALSE |\n",
       "| 5 | 0     | 0     | 3     | FALSE | TRUE  | FALSE |  TRUE | FALSE |  TRUE | FALSE | FALSE |  TRUE | FALSE | FALSE |  TRUE | FALSE | FALSE | FALSE | TRUE  | FALSE |\n",
       "| 6 | 0     | 0     | 3     | FALSE | TRUE  | FALSE | FALSE |  TRUE |  TRUE | FALSE |  TRUE | FALSE | FALSE | FALSE | FALSE | FALSE | FALSE | FALSE | TRUE  | FALSE |\n",
       "| 7 | 0     | 0     | 3     | FALSE | TRUE  | FALSE | FALSE |  TRUE |  TRUE | FALSE | FALSE |  TRUE | FALSE | FALSE | FALSE | FALSE | FALSE | FALSE | TRUE  | FALSE |\n",
       "\n"
      ],
      "text/plain": [
       "  Survived SexCode Pclass Embarked_C Embarked_S Embarked_Q Age_c Age_a Fare_r\n",
       "1 0        0       3      FALSE      TRUE       FALSE      FALSE  TRUE  TRUE \n",
       "2 0        0       3      FALSE      TRUE       FALSE      FALSE  TRUE  TRUE \n",
       "4 0        0       1      FALSE      TRUE       FALSE      FALSE  TRUE FALSE \n",
       "5 0        0       3      FALSE      TRUE       FALSE       TRUE FALSE  TRUE \n",
       "6 0        0       3      FALSE      TRUE       FALSE      FALSE  TRUE  TRUE \n",
       "7 0        0       3      FALSE      TRUE       FALSE      FALSE  TRUE  TRUE \n",
       "  Fare_h isAlone notAlone chp1  chp2  chp3  fep1  fep2  fep3  nationE nationF\n",
       "1 FALSE  FALSE    TRUE    FALSE FALSE FALSE FALSE FALSE FALSE TRUE    FALSE  \n",
       "2 FALSE   TRUE   FALSE    FALSE FALSE FALSE FALSE FALSE FALSE TRUE    FALSE  \n",
       "4  TRUE   TRUE   FALSE    FALSE FALSE FALSE FALSE FALSE FALSE TRUE    FALSE  \n",
       "5 FALSE  FALSE    TRUE    FALSE FALSE  TRUE FALSE FALSE FALSE TRUE    FALSE  \n",
       "6 FALSE   TRUE   FALSE    FALSE FALSE FALSE FALSE FALSE FALSE TRUE    FALSE  \n",
       "7 FALSE  FALSE    TRUE    FALSE FALSE FALSE FALSE FALSE FALSE TRUE    FALSE  "
      ]
     },
     "metadata": {},
     "output_type": "display_data"
    },
    {
     "data": {
      "text/plain": [
       "\n",
       "  0   1 \n",
       "424 290 "
      ]
     },
     "metadata": {},
     "output_type": "display_data"
    },
    {
     "data": {
      "text/html": [
       "714"
      ],
      "text/latex": [
       "714"
      ],
      "text/markdown": [
       "714"
      ],
      "text/plain": [
       "[1] 714"
      ]
     },
     "metadata": {},
     "output_type": "display_data"
    }
   ],
   "source": [
    "train_df_na <- subset(train_df , !is.na(Age))\n",
    "\n",
    "# Sex 컬럼을 숫자로 전환\n",
    "train_df_na$SexCode[train_df_na$Sex == \"male\"] <- 0\n",
    "train_df_na$SexCode[train_df_na$Sex == \"female\"] <- 1\n",
    "# 필요없는 컬럼 삭제\n",
    "train_df_na <- train_df_na[,-c(1,5,9,11)]\n",
    "\n",
    "train_df_na$Embarked_C = train_df_na$Embarked == \"C\" \n",
    "train_df_na$Embarked_S = train_df_na$Embarked == \"S\" \n",
    "train_df_na$Embarked_Q = train_df_na$Embarked == \"Q\" \n",
    "# 어린이 기준\n",
    "train_df_na$Age_c = train_df_na$Age < 16\n",
    "train_df_na$Age_a = train_df_na$Age >= 16\n",
    "\n",
    "# 운임비 평균 기준 \n",
    "# 평균보다 낮다 2/3가 사망, 평균보다 높다 2/3이 생존\n",
    "# summary(train_df_na$Fare)\n",
    "# table(train_df_na[train_df_na$Fare<=34.69,]$Survived)\n",
    "# table(train_df_na[train_df_na$Fare>34.69,]$Survived)\n",
    "# 컬럼 추가\n",
    "train_df_na$Fare_r = train_df_na$Fare<=34.69\n",
    "train_df_na$Fare_h = train_df_na$Fare>34.69\n",
    "\n",
    "# 가족과 함께 / 혼자\n",
    "# table(train_df_na[train_df_na$Parch == 0 & train_df_na$SibSp == 0,]$Survived)\n",
    "# table(train_df_na[train_df_na$Parch != 0 | train_df_na$SibSp != 0,]$Survived)\n",
    "train_df_na$isAlone = train_df_na$Parch == 0 & train_df_na$SibSp == 0\n",
    "train_df_na$notAlone = train_df_na$Parch != 0 | train_df_na$SibSp != 0\n",
    "\n",
    "# 등급별 여성과 어린이(중학생이하)\n",
    "train_df_na$chp1 = train_df_na$Age<16 & train_df_na$Pclass == 1\n",
    "train_df_na$chp2 = train_df_na$Age<16 & train_df_na$Pclass == 2\n",
    "train_df_na$chp3 = train_df_na$Age<16 & train_df_na$Pclass == 3\n",
    "train_df_na$fep1 = train_df_na$SexCode==1 & train_df_na$Pclass == 1\n",
    "train_df_na$fep2 = train_df_na$SexCode==1 & train_df_na$Pclass == 2\n",
    "train_df_na$fep3 = train_df_na$SexCode==1 & train_df_na$Pclass == 3\n",
    "\n",
    "# 국적 (출항지 기준 영국/C)\n",
    "train_df_na$nationE = train_df_na$Embarked == 'S' | train_df_na$Embarked == 'Q'\n",
    "train_df_na$nationF = train_df_na$Embarked == 'C'\n",
    "\n",
    "\n",
    "# 국적 , 나이대 , 운임비? , \n",
    "\n",
    "# 타겟코드 \n",
    "target_col <- c(\"Survived\" , 'SexCode','Pclass','Embarked_C','Embarked_S','Embarked_Q' ,'Age_c','Age_a', 'Fare_r','Fare_h','isAlone','notAlone',\n",
    "    'chp1','chp2','chp3','fep1','fep2','fep3','nationE','nationF') #\n",
    "\n",
    "# 데이터셋 새로 만들기\n",
    "train_data <- train_df_na[,target_col]\n",
    "train_data$Survived <- as.factor(train_data$Survived)\n",
    "head(train_data)\n",
    "# str(train_data)\n",
    "\n",
    "table(train_df_na$Survived) # 0 424 / 1  290 \n",
    "nrow(train_df_na) # 714\n",
    "#head(train_df_na)"
   ]
  },
  {
   "cell_type": "code",
   "execution_count": 932,
   "metadata": {
    "vscode": {
     "languageId": "r"
    }
   },
   "outputs": [
    {
     "data": {
      "text/plain": [
       "\n",
       " 0  1 \n",
       "34 49 "
      ]
     },
     "metadata": {},
     "output_type": "display_data"
    },
    {
     "data": {
      "text/plain": [
       "\n",
       "  0   1 \n",
       "373 211 "
      ]
     },
     "metadata": {},
     "output_type": "display_data"
    },
    {
     "data": {
      "text/plain": [
       "\n",
       " 0  1 \n",
       "51 79 "
      ]
     },
     "metadata": {},
     "output_type": "display_data"
    }
   ],
   "source": [
    "# summary(train_df_na$Age)\n",
    "# table(train_df_na[train_df_na$Age<16 & train_df_na$Pclass == 1 ,]$Survived)\n",
    "# table(train_df_na[train_df_na$Age<16 & train_df_na$Pclass == 2 ,]$Survived)\n",
    "# table(train_df_na[train_df_na$Age<16 & train_df_na$Pclass == 3 ,]$Survived)\n",
    "# table(train_df_na[train_df_na$SexCode==1 & train_df_na$Pclass == 1 ,]$Survived)\n",
    "# table(train_df_na[train_df_na$SexCode==1 & train_df_na$Pclass == 2 ,]$Survived)\n",
    "# table(train_df_na[train_df_na$SexCode==1 & train_df_na$Pclass == 3 ,]$Survived)\n",
    "table(train_df_na[train_df_na$Age<16,]$Survived)\n",
    "\n",
    "table(train_df_na[train_df_na$Embarked == 'S' | train_df_na$Embarked == 'Q',]$Survived)\n",
    "table(train_df_na[train_df_na$Embarked == 'C',]$Survived)\n"
   ]
  },
  {
   "cell_type": "code",
   "execution_count": 618,
   "metadata": {
    "vscode": {
     "languageId": "r"
    }
   },
   "outputs": [
    {
     "data": {
      "text/html": [
       "59.3837535014006"
      ],
      "text/latex": [
       "59.3837535014006"
      ],
      "text/markdown": [
       "59.3837535014006"
      ],
      "text/plain": [
       "[1] 59.38375"
      ]
     },
     "metadata": {},
     "output_type": "display_data"
    },
    {
     "data": {
      "text/html": [
       "40.6162464985994"
      ],
      "text/latex": [
       "40.6162464985994"
      ],
      "text/markdown": [
       "40.6162464985994"
      ],
      "text/plain": [
       "[1] 40.61625"
      ]
     },
     "metadata": {},
     "output_type": "display_data"
    }
   ],
   "source": [
    "424/714 * 100\n",
    "290/714 * 100"
   ]
  },
  {
   "cell_type": "code",
   "execution_count": 970,
   "metadata": {
    "vscode": {
     "languageId": "r"
    }
   },
   "outputs": [],
   "source": [
    "# Sampling\n",
    "set.seed(1234)\n",
    "samp <- createDataPartition(train_data$Survived, p=0.7, list=F)\n",
    "\n",
    "# 학습용\n",
    "data.train <- train_data[samp,]\n",
    "# 검증용\n",
    "data.test <- train_data[-samp,]\n",
    "\n",
    "# 문제 및 정답 만들기\n",
    "x <- subset(data.test, select = -Survived)\n",
    "y <- data.test$Survived\n"
   ]
  },
  {
   "cell_type": "code",
   "execution_count": 610,
   "metadata": {
    "vscode": {
     "languageId": "r"
    }
   },
   "outputs": [
    {
     "data": {
      "text/html": [
       "0.707547169811321"
      ],
      "text/latex": [
       "0.707547169811321"
      ],
      "text/markdown": [
       "0.707547169811321"
      ],
      "text/plain": [
       "[1] 0.7075472"
      ]
     },
     "metadata": {},
     "output_type": "display_data"
    },
    {
     "data": {
      "text/html": [
       "0.862068965517241"
      ],
      "text/latex": [
       "0.862068965517241"
      ],
      "text/markdown": [
       "0.862068965517241"
      ],
      "text/plain": [
       "[1] 0.862069"
      ]
     },
     "metadata": {},
     "output_type": "display_data"
    }
   ],
   "source": [
    "# set.seed(1234)\n",
    "# samp <- c(sample(1:424, 300) , sample(425:714, 250))\n",
    "\n",
    "# # 학습용\n",
    "# data.train <- train_data[samp,]\n",
    "# # 검증용\n",
    "# data.test <- train_data[-samp,]\n",
    "\n",
    "# # 문제 및 정답 만들기\n",
    "# x <- subset(data.test, select = -Survived)\n",
    "# y <- data.test$Survived"
   ]
  },
  {
   "cell_type": "code",
   "execution_count": 981,
   "metadata": {
    "vscode": {
     "languageId": "r"
    }
   },
   "outputs": [
    {
     "data": {
      "text/html": [
       "0.822429906542056"
      ],
      "text/latex": [
       "0.822429906542056"
      ],
      "text/markdown": [
       "0.822429906542056"
      ],
      "text/plain": [
       "[1] 0.8224299"
      ]
     },
     "metadata": {},
     "output_type": "display_data"
    },
    {
     "data": {
      "text/plain": [
       "    y\n",
       "pred   0   1\n",
       "   0 116  27\n",
       "   1  11  60"
      ]
     },
     "metadata": {},
     "output_type": "display_data"
    },
    {
     "name": "stdout",
     "output_type": "stream",
     "text": [
      "# weights:  64\n",
      "initial  value 325.120907 \n",
      "iter  10 value 208.239066\n",
      "iter  20 value 199.303836\n",
      "iter  30 value 195.613202\n",
      "iter  40 value 194.851635\n",
      "iter  50 value 194.656570\n",
      "iter  60 value 194.606412\n",
      "iter  70 value 194.593019\n",
      "iter  80 value 194.589138\n",
      "iter  90 value 194.588879\n",
      "iter 100 value 194.588762\n",
      "final  value 194.588762 \n",
      "stopped after 100 iterations\n"
     ]
    },
    {
     "data": {
      "text/html": [
       "0.803738317757009"
      ],
      "text/latex": [
       "0.803738317757009"
      ],
      "text/markdown": [
       "0.803738317757009"
      ],
      "text/plain": [
       "[1] 0.8037383"
      ]
     },
     "metadata": {},
     "output_type": "display_data"
    },
    {
     "data": {
      "text/plain": [
       "    y\n",
       "pred   0   1\n",
       "   0 113  28\n",
       "   1  14  59"
      ]
     },
     "metadata": {},
     "output_type": "display_data"
    },
    {
     "data": {
      "text/html": [
       "0.813084112149533"
      ],
      "text/latex": [
       "0.813084112149533"
      ],
      "text/markdown": [
       "0.813084112149533"
      ],
      "text/plain": [
       "[1] 0.8130841"
      ]
     },
     "metadata": {},
     "output_type": "display_data"
    },
    {
     "data": {
      "text/plain": [
       "    y\n",
       "pred   0   1\n",
       "   0 126  39\n",
       "   1   1  48"
      ]
     },
     "metadata": {},
     "output_type": "display_data"
    },
    {
     "data": {
      "text/html": [
       "0.803738317757009"
      ],
      "text/latex": [
       "0.803738317757009"
      ],
      "text/markdown": [
       "0.803738317757009"
      ],
      "text/plain": [
       "[1] 0.8037383"
      ]
     },
     "metadata": {},
     "output_type": "display_data"
    },
    {
     "data": {
      "text/plain": [
       "    y\n",
       "pred   0   1\n",
       "   0 112  27\n",
       "   1  15  60"
      ]
     },
     "metadata": {},
     "output_type": "display_data"
    },
    {
     "name": "stdout",
     "output_type": "stream",
     "text": [
      "# weights:  21 (20 variable)\n",
      "initial  value 346.573590 \n",
      "iter  10 value 220.586630\n",
      "iter  20 value 210.104525\n",
      "iter  30 value 210.094230\n",
      "final  value 210.094104 \n",
      "converged\n"
     ]
    },
    {
     "data": {
      "text/html": [
       "0.822429906542056"
      ],
      "text/latex": [
       "0.822429906542056"
      ],
      "text/markdown": [
       "0.822429906542056"
      ],
      "text/plain": [
       "[1] 0.8224299"
      ]
     },
     "metadata": {},
     "output_type": "display_data"
    },
    {
     "name": "stdout",
     "output_type": "stream",
     "text": [
      "    y\n",
      "pred   0   1\n",
      "   0 119  30\n",
      "   1   8  57\n"
     ]
    }
   ],
   "source": [
    "# 랜덤포레스트\n",
    "# 학습시키기 \n",
    "model.rf <- randomForest(Survived ~ . , data = data.train , ntree = 100 )\n",
    "# 검증하기 \n",
    "pred <- predict(model.rf , x)\n",
    "# 예측력과 오분류포\n",
    "mean(pred == y)\n",
    "table(pred , y) \n",
    "\n",
    "# 인공신경망\n",
    "model.nnet <- nnet(Survived ~ . , data=data.train, size = 3)\n",
    "# 검증\n",
    "pred <- predict(model.nnet, x, type='class')\n",
    "# 예측력과 오분류포\n",
    "mean(pred == y)\n",
    "table(pred , y)\n",
    "\n",
    "# 의사결정나무\n",
    "model.ctree <- ctree(Survived ~ . , data=data.train )\n",
    "# 검증\n",
    "pred <- predict(model.ctree, x)\n",
    "# 예측력과 오분류포\n",
    "mean(pred == y)\n",
    "table(pred , y)\n",
    "\n",
    "# SVM\n",
    "model.svm = svm(Survived ~ . , data=data.train )\n",
    "# 검증\n",
    "pred <- predict(model.svm, x)\n",
    "# 예측력과 오분류포\n",
    "mean(pred == y)\n",
    "table(pred , y)\n",
    "\n",
    "# 로지스틱\n",
    "model.mt <- multinom(Survived ~ . , data=data.train )\n",
    "# 검증하기\n",
    "pred <- predict(model.mt , x)\n",
    "# 예측력과 오분류포\n",
    "mean(pred == y)\n",
    "as.matrix(table(pred , y)) "
   ]
  },
  {
   "cell_type": "markdown",
   "metadata": {},
   "source": [
    "1) set.seed(1234)\n",
    "2) 5번 평균값으로 쓴다 \n",
    "3) "
   ]
  },
  {
   "cell_type": "code",
   "execution_count": 1004,
   "metadata": {
    "vscode": {
     "languageId": "r"
    }
   },
   "outputs": [],
   "source": [
    "인공신경망 <- function(data){\n",
    "\n",
    "  model <- nnet(Survived ~ . , data=data.train, size = 3)\n",
    "\n",
    "  rtn = 0\n",
    "  \n",
    "  for(i in 1:5){\n",
    "    pred <- predict(model, x, type = \"class\")\n",
    "    rtn <- rtn + mean(pred == y)\n",
    "    table(pred,y) \n",
    "  }\n",
    "\n",
    "  rtn <- round(rtn / 5 , 8)\n",
    "  \n",
    "  return(rtn)\n",
    "}"
   ]
  },
  {
   "cell_type": "code",
   "execution_count": 1005,
   "metadata": {
    "vscode": {
     "languageId": "r"
    }
   },
   "outputs": [],
   "source": [
    "의사결정나무 <- function(data){\n",
    "\n",
    "  model <- ctree(Survived ~ . , data = data.train)\n",
    "\n",
    "  rtn = 0\n",
    "\n",
    "  for(i in 1:5){\n",
    "    pred <- predict(model, x)\n",
    "    rtn <- rtn + mean(pred == y)\n",
    "  }\n",
    "\n",
    "  rtn <- round(rtn / 5,8)\n",
    "\n",
    "  return(rtn)\n",
    "}"
   ]
  },
  {
   "cell_type": "code",
   "execution_count": 1006,
   "metadata": {
    "vscode": {
     "languageId": "r"
    }
   },
   "outputs": [],
   "source": [
    "RF <- function(data){\n",
    "\n",
    "  model <- randomForest(Survived ~ . , data = data.train, ntree = 100)\n",
    "\n",
    "  rtn = 0\n",
    "\n",
    "  for(i in 1:5){\n",
    "    pred <- predict(model, x)\n",
    "    rtn <- rtn + mean(pred == y)\n",
    "  }\n",
    "\n",
    "  rtn <- round(rtn / 5,8)\n",
    "  \n",
    "  return(rtn)\n",
    "}"
   ]
  },
  {
   "cell_type": "code",
   "execution_count": 1007,
   "metadata": {
    "vscode": {
     "languageId": "r"
    }
   },
   "outputs": [],
   "source": [
    "SVM <- function(data){\n",
    "\n",
    "  model <- svm(Survived ~ . , data=data.train)\n",
    "\n",
    "  rtn = 0\n",
    "\n",
    "  for(i in 1:5){\n",
    "    pred <- predict(model, x)\n",
    "    rtn <- rtn + mean(pred == y)\n",
    "  }\n",
    "\n",
    "  rtn <- round(rtn / 5,8)\n",
    "\n",
    "  return(rtn)\n",
    "}"
   ]
  },
  {
   "cell_type": "code",
   "execution_count": 1008,
   "metadata": {
    "vscode": {
     "languageId": "r"
    }
   },
   "outputs": [],
   "source": [
    "다항로지스틱 <- function(data){\n",
    "\n",
    "  model <- multinom(Survived ~ . , data=data.train)\n",
    "\n",
    "\n",
    "  rtn = 0\n",
    "\n",
    "  for(i in 1:5){\n",
    "    pred <- predict(model, x)\n",
    "    rtn <- rtn + mean(pred == y)\n",
    "  }\n",
    "\n",
    "  rtn <- round(rtn / 5,8)\n",
    "  \n",
    "  return(rtn)\n",
    "}"
   ]
  },
  {
   "cell_type": "code",
   "execution_count": 1009,
   "metadata": {
    "vscode": {
     "languageId": "r"
    }
   },
   "outputs": [
    {
     "data": {
      "text/html": [
       "<table>\n",
       "<thead><tr><th></th><th scope=col>Survived</th><th scope=col>SexCode</th><th scope=col>Pclass</th><th scope=col>Embarked_C</th><th scope=col>Embarked_S</th><th scope=col>Embarked_Q</th><th scope=col>Age_c</th><th scope=col>Age_a</th><th scope=col>Fare_r</th><th scope=col>Fare_h</th><th scope=col>isAlone</th><th scope=col>notAlone</th><th scope=col>chp1</th><th scope=col>chp2</th><th scope=col>chp3</th><th scope=col>fep1</th><th scope=col>fep2</th><th scope=col>fep3</th><th scope=col>nationE</th><th scope=col>nationF</th></tr></thead>\n",
       "<tbody>\n",
       "\t<tr><th scope=row>1</th><td>0    </td><td>0    </td><td>3    </td><td>FALSE</td><td>TRUE </td><td>FALSE</td><td>FALSE</td><td> TRUE</td><td> TRUE</td><td>FALSE</td><td>FALSE</td><td> TRUE</td><td>FALSE</td><td>FALSE</td><td>FALSE</td><td>FALSE</td><td>FALSE</td><td>FALSE</td><td>TRUE </td><td>FALSE</td></tr>\n",
       "\t<tr><th scope=row>2</th><td>0    </td><td>0    </td><td>3    </td><td>FALSE</td><td>TRUE </td><td>FALSE</td><td>FALSE</td><td> TRUE</td><td> TRUE</td><td>FALSE</td><td> TRUE</td><td>FALSE</td><td>FALSE</td><td>FALSE</td><td>FALSE</td><td>FALSE</td><td>FALSE</td><td>FALSE</td><td>TRUE </td><td>FALSE</td></tr>\n",
       "\t<tr><th scope=row>4</th><td>0    </td><td>0    </td><td>1    </td><td>FALSE</td><td>TRUE </td><td>FALSE</td><td>FALSE</td><td> TRUE</td><td>FALSE</td><td> TRUE</td><td> TRUE</td><td>FALSE</td><td>FALSE</td><td>FALSE</td><td>FALSE</td><td>FALSE</td><td>FALSE</td><td>FALSE</td><td>TRUE </td><td>FALSE</td></tr>\n",
       "\t<tr><th scope=row>5</th><td>0    </td><td>0    </td><td>3    </td><td>FALSE</td><td>TRUE </td><td>FALSE</td><td> TRUE</td><td>FALSE</td><td> TRUE</td><td>FALSE</td><td>FALSE</td><td> TRUE</td><td>FALSE</td><td>FALSE</td><td> TRUE</td><td>FALSE</td><td>FALSE</td><td>FALSE</td><td>TRUE </td><td>FALSE</td></tr>\n",
       "\t<tr><th scope=row>6</th><td>0    </td><td>0    </td><td>3    </td><td>FALSE</td><td>TRUE </td><td>FALSE</td><td>FALSE</td><td> TRUE</td><td> TRUE</td><td>FALSE</td><td> TRUE</td><td>FALSE</td><td>FALSE</td><td>FALSE</td><td>FALSE</td><td>FALSE</td><td>FALSE</td><td>FALSE</td><td>TRUE </td><td>FALSE</td></tr>\n",
       "\t<tr><th scope=row>7</th><td>0    </td><td>0    </td><td>3    </td><td>FALSE</td><td>TRUE </td><td>FALSE</td><td>FALSE</td><td> TRUE</td><td> TRUE</td><td>FALSE</td><td>FALSE</td><td> TRUE</td><td>FALSE</td><td>FALSE</td><td>FALSE</td><td>FALSE</td><td>FALSE</td><td>FALSE</td><td>TRUE </td><td>FALSE</td></tr>\n",
       "</tbody>\n",
       "</table>\n"
      ],
      "text/latex": [
       "\\begin{tabular}{r|llllllllllllllllllll}\n",
       "  & Survived & SexCode & Pclass & Embarked\\_C & Embarked\\_S & Embarked\\_Q & Age\\_c & Age\\_a & Fare\\_r & Fare\\_h & isAlone & notAlone & chp1 & chp2 & chp3 & fep1 & fep2 & fep3 & nationE & nationF\\\\\n",
       "\\hline\n",
       "\t1 & 0     & 0     & 3     & FALSE & TRUE  & FALSE & FALSE &  TRUE &  TRUE & FALSE & FALSE &  TRUE & FALSE & FALSE & FALSE & FALSE & FALSE & FALSE & TRUE  & FALSE\\\\\n",
       "\t2 & 0     & 0     & 3     & FALSE & TRUE  & FALSE & FALSE &  TRUE &  TRUE & FALSE &  TRUE & FALSE & FALSE & FALSE & FALSE & FALSE & FALSE & FALSE & TRUE  & FALSE\\\\\n",
       "\t4 & 0     & 0     & 1     & FALSE & TRUE  & FALSE & FALSE &  TRUE & FALSE &  TRUE &  TRUE & FALSE & FALSE & FALSE & FALSE & FALSE & FALSE & FALSE & TRUE  & FALSE\\\\\n",
       "\t5 & 0     & 0     & 3     & FALSE & TRUE  & FALSE &  TRUE & FALSE &  TRUE & FALSE & FALSE &  TRUE & FALSE & FALSE &  TRUE & FALSE & FALSE & FALSE & TRUE  & FALSE\\\\\n",
       "\t6 & 0     & 0     & 3     & FALSE & TRUE  & FALSE & FALSE &  TRUE &  TRUE & FALSE &  TRUE & FALSE & FALSE & FALSE & FALSE & FALSE & FALSE & FALSE & TRUE  & FALSE\\\\\n",
       "\t7 & 0     & 0     & 3     & FALSE & TRUE  & FALSE & FALSE &  TRUE &  TRUE & FALSE & FALSE &  TRUE & FALSE & FALSE & FALSE & FALSE & FALSE & FALSE & TRUE  & FALSE\\\\\n",
       "\\end{tabular}\n"
      ],
      "text/markdown": [
       "\n",
       "| <!--/--> | Survived | SexCode | Pclass | Embarked_C | Embarked_S | Embarked_Q | Age_c | Age_a | Fare_r | Fare_h | isAlone | notAlone | chp1 | chp2 | chp3 | fep1 | fep2 | fep3 | nationE | nationF |\n",
       "|---|---|---|---|---|---|---|---|---|---|---|---|---|---|---|---|---|---|---|---|---|\n",
       "| 1 | 0     | 0     | 3     | FALSE | TRUE  | FALSE | FALSE |  TRUE |  TRUE | FALSE | FALSE |  TRUE | FALSE | FALSE | FALSE | FALSE | FALSE | FALSE | TRUE  | FALSE |\n",
       "| 2 | 0     | 0     | 3     | FALSE | TRUE  | FALSE | FALSE |  TRUE |  TRUE | FALSE |  TRUE | FALSE | FALSE | FALSE | FALSE | FALSE | FALSE | FALSE | TRUE  | FALSE |\n",
       "| 4 | 0     | 0     | 1     | FALSE | TRUE  | FALSE | FALSE |  TRUE | FALSE |  TRUE |  TRUE | FALSE | FALSE | FALSE | FALSE | FALSE | FALSE | FALSE | TRUE  | FALSE |\n",
       "| 5 | 0     | 0     | 3     | FALSE | TRUE  | FALSE |  TRUE | FALSE |  TRUE | FALSE | FALSE |  TRUE | FALSE | FALSE |  TRUE | FALSE | FALSE | FALSE | TRUE  | FALSE |\n",
       "| 6 | 0     | 0     | 3     | FALSE | TRUE  | FALSE | FALSE |  TRUE |  TRUE | FALSE |  TRUE | FALSE | FALSE | FALSE | FALSE | FALSE | FALSE | FALSE | TRUE  | FALSE |\n",
       "| 7 | 0     | 0     | 3     | FALSE | TRUE  | FALSE | FALSE |  TRUE |  TRUE | FALSE | FALSE |  TRUE | FALSE | FALSE | FALSE | FALSE | FALSE | FALSE | TRUE  | FALSE |\n",
       "\n"
      ],
      "text/plain": [
       "  Survived SexCode Pclass Embarked_C Embarked_S Embarked_Q Age_c Age_a Fare_r\n",
       "1 0        0       3      FALSE      TRUE       FALSE      FALSE  TRUE  TRUE \n",
       "2 0        0       3      FALSE      TRUE       FALSE      FALSE  TRUE  TRUE \n",
       "4 0        0       1      FALSE      TRUE       FALSE      FALSE  TRUE FALSE \n",
       "5 0        0       3      FALSE      TRUE       FALSE       TRUE FALSE  TRUE \n",
       "6 0        0       3      FALSE      TRUE       FALSE      FALSE  TRUE  TRUE \n",
       "7 0        0       3      FALSE      TRUE       FALSE      FALSE  TRUE  TRUE \n",
       "  Fare_h isAlone notAlone chp1  chp2  chp3  fep1  fep2  fep3  nationE nationF\n",
       "1 FALSE  FALSE    TRUE    FALSE FALSE FALSE FALSE FALSE FALSE TRUE    FALSE  \n",
       "2 FALSE   TRUE   FALSE    FALSE FALSE FALSE FALSE FALSE FALSE TRUE    FALSE  \n",
       "4  TRUE   TRUE   FALSE    FALSE FALSE FALSE FALSE FALSE FALSE TRUE    FALSE  \n",
       "5 FALSE  FALSE    TRUE    FALSE FALSE  TRUE FALSE FALSE FALSE TRUE    FALSE  \n",
       "6 FALSE   TRUE   FALSE    FALSE FALSE FALSE FALSE FALSE FALSE TRUE    FALSE  \n",
       "7 FALSE  FALSE    TRUE    FALSE FALSE FALSE FALSE FALSE FALSE TRUE    FALSE  "
      ]
     },
     "metadata": {},
     "output_type": "display_data"
    }
   ],
   "source": [
    "head(train_data)\n",
    "set.seed(1234)\n",
    "samp <- createDataPartition(train_data$Survived, p=0.7, list=F)\n",
    "  # 학습용\n",
    "  data.train <- train_data[samp,]\n",
    "  # 검증용\n",
    "  data.test <- train_data[-samp,]\n",
    "\n",
    "  # 문제 및 정답 만들기\n",
    "  x <- subset(data.test, select = -Survived)\n",
    "  y <- data.test$Survived"
   ]
  },
  {
   "cell_type": "code",
   "execution_count": 1016,
   "metadata": {
    "vscode": {
     "languageId": "r"
    }
   },
   "outputs": [
    {
     "name": "stdout",
     "output_type": "stream",
     "text": [
      "# weights:  64\n",
      "initial  value 409.644150 \n",
      "iter  10 value 215.775754\n",
      "iter  20 value 202.923021\n",
      "iter  30 value 199.769758\n",
      "iter  40 value 198.649262\n",
      "iter  50 value 197.597494\n",
      "iter  60 value 197.427502\n",
      "iter  70 value 197.400611\n",
      "iter  80 value 197.398668\n",
      "final  value 197.398643 \n",
      "converged\n",
      "# weights:  21 (20 variable)\n",
      "initial  value 346.573590 \n",
      "iter  10 value 220.586630\n",
      "iter  20 value 210.104525\n",
      "iter  30 value 210.094230\n",
      "final  value 210.094104 \n",
      "converged\n"
     ]
    },
    {
     "data": {
      "text/html": [
       "<table>\n",
       "<thead><tr><th></th><th scope=col>예측력</th></tr></thead>\n",
       "<tbody>\n",
       "\t<tr><th scope=row>인공신경망</th><td>0.8037383</td></tr>\n",
       "\t<tr><th scope=row>의사결정나무</th><td>0.8130841</td></tr>\n",
       "\t<tr><th scope=row>RandomForest</th><td>0.8037383</td></tr>\n",
       "\t<tr><th scope=row>SVM</th><td>0.8037383</td></tr>\n",
       "\t<tr><th scope=row>로지스틱회귀분석</th><td>0.8224299</td></tr>\n",
       "</tbody>\n",
       "</table>\n"
      ],
      "text/latex": [
       "\\begin{tabular}{r|l}\n",
       "  & 예측력\\\\\n",
       "\\hline\n",
       "\t인공신경망 & 0.8037383\\\\\n",
       "\t의사결정나무 & 0.8130841\\\\\n",
       "\tRandomForest & 0.8037383\\\\\n",
       "\tSVM & 0.8037383\\\\\n",
       "\t로지스틱회귀분석 & 0.8224299\\\\\n",
       "\\end{tabular}\n"
      ],
      "text/markdown": [
       "\n",
       "| <!--/--> | 예측력 |\n",
       "|---|---|\n",
       "| 인공신경망 | 0.8037383 |\n",
       "| 의사결정나무 | 0.8130841 |\n",
       "| RandomForest | 0.8037383 |\n",
       "| SVM | 0.8037383 |\n",
       "| 로지스틱회귀분석 | 0.8224299 |\n",
       "\n"
      ],
      "text/plain": [
       "                 예측력   \n",
       "인공신경망       0.8037383\n",
       "의사결정나무     0.8130841\n",
       "RandomForest     0.8037383\n",
       "SVM              0.8037383\n",
       "로지스틱회귀분석 0.8224299"
      ]
     },
     "metadata": {},
     "output_type": "display_data"
    }
   ],
   "source": [
    "예측력 <- c(인공신경망(train_data), 의사결정나무(train_data), RF(train_data), SVM(train_data), 다항로지스틱(train_data))\n",
    "result <- data.frame(예측력)\n",
    "rownames(result) = c('인공신경망', '의사결정나무', 'RandomForest', 'SVM', '로지스틱회귀분석')\n",
    "\n",
    "result"
   ]
  },
  {
   "cell_type": "code",
   "execution_count": 984,
   "metadata": {
    "vscode": {
     "languageId": "r"
    }
   },
   "outputs": [
    {
     "data": {
      "text/html": [
       "<table>\n",
       "<tbody>\n",
       "\t<tr><td>0</td><td>0</td></tr>\n",
       "\t<tr><td>0</td><td>0</td></tr>\n",
       "</tbody>\n",
       "</table>\n"
      ],
      "text/latex": [
       "\\begin{tabular}{ll}\n",
       "\t 0 & 0\\\\\n",
       "\t 0 & 0\\\\\n",
       "\\end{tabular}\n"
      ],
      "text/markdown": [
       "\n",
       "| 0 | 0 |\n",
       "| 0 | 0 |\n",
       "\n"
      ],
      "text/plain": [
       "     [,1] [,2]\n",
       "[1,] 0    0   \n",
       "[2,] 0    0   "
      ]
     },
     "metadata": {},
     "output_type": "display_data"
    }
   ],
   "source": [
    "matrix(nrow=2,ncol=2 ,0)"
   ]
  },
  {
   "cell_type": "markdown",
   "metadata": {},
   "source": [
    "### 오분류표 평균 구하기 어렵당"
   ]
  },
  {
   "cell_type": "code",
   "execution_count": 998,
   "metadata": {
    "vscode": {
     "languageId": "r"
    }
   },
   "outputs": [],
   "source": [
    "인공신경망t <- function(data){\n",
    "  rtn = matrix(nrow=2,ncol=2,0)\n",
    "  \n",
    "  for(i in 1:5){\n",
    "    model <- nnet(Survived ~ . , data=data.train, size = 3)\n",
    "    pred <- predict(model, x, type = \"class\")\n",
    "    rtn <- rtn + as.matrix(table(pred,y))\n",
    "  }\n",
    "\n",
    "  rtn <- rtn /5\n",
    "  \n",
    "  return(rtn)\n",
    "}"
   ]
  },
  {
   "cell_type": "code",
   "execution_count": 999,
   "metadata": {
    "vscode": {
     "languageId": "r"
    }
   },
   "outputs": [],
   "source": [
    "의사결정나무t <- function(data){\n",
    "  rtn = matrix(nrow=2,ncol=2,0)\n",
    "\n",
    "  for(i in 1:5){\n",
    "    model <- ctree(Survived ~ . , data = data.train)\n",
    "    pred <- predict(model, x)\n",
    "    rtn <- rtn + as.matrix(table(pred,y))\n",
    "  }\n",
    "\n",
    "  rtn <- rtn / 5\n",
    "\n",
    "  return(rtn)\n",
    "}"
   ]
  },
  {
   "cell_type": "code",
   "execution_count": 1000,
   "metadata": {
    "vscode": {
     "languageId": "r"
    }
   },
   "outputs": [],
   "source": [
    "RFt <- function(data){\n",
    "  rtn = matrix(nrow=2,ncol=2,0)\n",
    "\n",
    "  for(i in 1:5){\n",
    "    model <- randomForest(Survived ~ . , data = data.train, ntree = 100)\n",
    "    pred <- predict(model, x)\n",
    "    rtn <- rtn + as.matrix(table(pred,y))\n",
    "  }\n",
    "\n",
    "  rtn <- rtn / 5\n",
    "  \n",
    "  return(rtn)\n",
    "}"
   ]
  },
  {
   "cell_type": "code",
   "execution_count": 1001,
   "metadata": {
    "vscode": {
     "languageId": "r"
    }
   },
   "outputs": [],
   "source": [
    "SVMt <- function(data){\n",
    "\n",
    "  rtn = matrix(nrow=2,ncol=2,0)\n",
    "\n",
    "  for(i in 1:5){\n",
    "    model <- svm(Survived ~ . , data=data.train)\n",
    "    pred <- predict(model, x)\n",
    "    rtn <- rtn + as.matrix(table(pred,y))\n",
    "  }\n",
    "\n",
    "  rtn <- rtn / 5\n",
    "\n",
    "  return(rtn)\n",
    "}"
   ]
  },
  {
   "cell_type": "code",
   "execution_count": 1002,
   "metadata": {
    "vscode": {
     "languageId": "r"
    }
   },
   "outputs": [],
   "source": [
    "다항로지스틱t <- function(data){\n",
    "\n",
    "  rtn = matrix(nrow=2,ncol=2,0)\n",
    "\n",
    "  for(i in 1:5){\n",
    "    model <- multinom(Survived ~ . , data=data.train)\n",
    "    pred <- predict(model, x)\n",
    "    rtn <- rtn + as.matrix(table(pred,y))\n",
    "  }\n",
    "\n",
    "  rtn <- rtn / 5\n",
    "  \n",
    "  return(rtn)\n",
    "}"
   ]
  },
  {
   "cell_type": "code",
   "execution_count": 1003,
   "metadata": {
    "vscode": {
     "languageId": "r"
    }
   },
   "outputs": [
    {
     "name": "stdout",
     "output_type": "stream",
     "text": [
      "# weights:  64\n",
      "initial  value 348.502894 \n",
      "iter  10 value 223.838980\n",
      "iter  20 value 207.690247\n",
      "iter  30 value 201.336815\n",
      "iter  40 value 198.746665\n",
      "iter  50 value 198.345334\n",
      "iter  60 value 198.234013\n",
      "iter  70 value 198.146086\n",
      "iter  80 value 198.111532\n",
      "iter  90 value 198.079487\n",
      "iter 100 value 198.061267\n",
      "final  value 198.061267 \n",
      "stopped after 100 iterations\n",
      "# weights:  64\n",
      "initial  value 343.414156 \n",
      "iter  10 value 217.193837\n",
      "iter  20 value 200.674111\n",
      "iter  30 value 197.063044\n",
      "iter  40 value 195.904180\n",
      "iter  50 value 195.556556\n",
      "iter  60 value 195.494928\n",
      "iter  70 value 195.491880\n",
      "iter  80 value 195.480597\n",
      "iter  90 value 195.478842\n",
      "iter 100 value 195.477774\n",
      "final  value 195.477774 \n",
      "stopped after 100 iterations\n",
      "# weights:  64\n",
      "initial  value 344.141440 \n",
      "iter  10 value 244.932038\n",
      "iter  20 value 205.217959\n",
      "iter  30 value 200.337105\n",
      "iter  40 value 199.052851\n",
      "iter  50 value 198.717549\n",
      "iter  60 value 198.466215\n",
      "iter  70 value 198.406702\n",
      "iter  80 value 198.350300\n",
      "iter  90 value 198.337008\n",
      "iter 100 value 198.288358\n",
      "final  value 198.288358 \n",
      "stopped after 100 iterations\n",
      "# weights:  64\n",
      "initial  value 336.596621 \n",
      "iter  10 value 214.794174\n",
      "iter  20 value 207.543842\n",
      "iter  30 value 201.591637\n",
      "iter  40 value 201.043406\n",
      "iter  50 value 200.451065\n",
      "iter  60 value 199.957458\n",
      "iter  70 value 199.465031\n",
      "iter  80 value 199.275106\n",
      "iter  90 value 199.256798\n",
      "iter 100 value 199.198751\n",
      "final  value 199.198751 \n",
      "stopped after 100 iterations\n",
      "# weights:  64\n",
      "initial  value 342.573639 \n",
      "iter  10 value 216.613353\n",
      "iter  20 value 201.851539\n",
      "iter  30 value 198.589358\n",
      "iter  40 value 196.101775\n",
      "iter  50 value 194.743367\n",
      "iter  60 value 194.275089\n",
      "iter  70 value 194.161309\n",
      "iter  80 value 193.800737\n",
      "iter  90 value 193.798898\n",
      "final  value 193.798862 \n",
      "converged\n"
     ]
    },
    {
     "data": {
      "text/plain": [
       "    y\n",
       "pred     0     1\n",
       "   0 109.2  25.4\n",
       "   1  17.8  61.6"
      ]
     },
     "metadata": {},
     "output_type": "display_data"
    },
    {
     "data": {
      "text/plain": [
       "    y\n",
       "pred   0   1\n",
       "   0 126  39\n",
       "   1   1  48"
      ]
     },
     "metadata": {},
     "output_type": "display_data"
    },
    {
     "data": {
      "text/plain": [
       "    y\n",
       "pred     0     1\n",
       "   0 115.8  28.0\n",
       "   1  11.2  59.0"
      ]
     },
     "metadata": {},
     "output_type": "display_data"
    },
    {
     "data": {
      "text/plain": [
       "    y\n",
       "pred   0   1\n",
       "   0 112  27\n",
       "   1  15  60"
      ]
     },
     "metadata": {},
     "output_type": "display_data"
    },
    {
     "name": "stdout",
     "output_type": "stream",
     "text": [
      "# weights:  21 (20 variable)\n",
      "initial  value 346.573590 \n",
      "iter  10 value 220.586630\n",
      "iter  20 value 210.104525\n",
      "iter  30 value 210.094230\n",
      "final  value 210.094104 \n",
      "converged\n",
      "# weights:  21 (20 variable)\n",
      "initial  value 346.573590 \n",
      "iter  10 value 220.586630\n",
      "iter  20 value 210.104525\n",
      "iter  30 value 210.094230\n",
      "final  value 210.094104 \n",
      "converged\n",
      "# weights:  21 (20 variable)\n",
      "initial  value 346.573590 \n",
      "iter  10 value 220.586630\n",
      "iter  20 value 210.104525\n",
      "iter  30 value 210.094230\n",
      "final  value 210.094104 \n",
      "converged\n",
      "# weights:  21 (20 variable)\n",
      "initial  value 346.573590 \n",
      "iter  10 value 220.586630\n",
      "iter  20 value 210.104525\n",
      "iter  30 value 210.094230\n",
      "final  value 210.094104 \n",
      "converged\n",
      "# weights:  21 (20 variable)\n",
      "initial  value 346.573590 \n",
      "iter  10 value 220.586630\n",
      "iter  20 value 210.104525\n",
      "iter  30 value 210.094230\n",
      "final  value 210.094104 \n",
      "converged\n"
     ]
    },
    {
     "data": {
      "text/plain": [
       "    y\n",
       "pred   0   1\n",
       "   0 119  30\n",
       "   1   8  57"
      ]
     },
     "metadata": {},
     "output_type": "display_data"
    }
   ],
   "source": [
    "인공신경망t(train_data)\n",
    "의사결정나무t(train_data)\n",
    "RFt(train_data)\n",
    "SVMt(train_data) \n",
    "다항로지스틱t(train_data)\n"
   ]
  },
  {
   "cell_type": "code",
   "execution_count": null,
   "metadata": {
    "vscode": {
     "languageId": "r"
    }
   },
   "outputs": [],
   "source": []
  },
  {
   "cell_type": "code",
   "execution_count": null,
   "metadata": {
    "vscode": {
     "languageId": "r"
    }
   },
   "outputs": [],
   "source": []
  }
 ],
 "metadata": {
  "kernelspec": {
   "display_name": "R",
   "language": "R",
   "name": "ir"
  },
  "language_info": {
   "codemirror_mode": "r",
   "file_extension": ".r",
   "mimetype": "text/x-r-source",
   "name": "R",
   "pygments_lexer": "r",
   "version": "3.6.1"
  },
  "orig_nbformat": 4
 },
 "nbformat": 4,
 "nbformat_minor": 2
}
