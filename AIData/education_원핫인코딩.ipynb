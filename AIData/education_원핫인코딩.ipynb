{
 "cells": [
  {
   "cell_type": "code",
   "execution_count": 1,
   "metadata": {
    "vscode": {
     "languageId": "r"
    }
   },
   "outputs": [
    {
     "name": "stderr",
     "output_type": "stream",
     "text": [
      "Loading required package: lattice\n",
      "Loading required package: ggplot2\n",
      "Registered S3 methods overwritten by 'ggplot2':\n",
      "  method         from \n",
      "  [.quosures     rlang\n",
      "  c.quosures     rlang\n",
      "  print.quosures rlang\n",
      "\n",
      "Attaching package: ‘dplyr’\n",
      "\n",
      "The following objects are masked from ‘package:stats’:\n",
      "\n",
      "    filter, lag\n",
      "\n",
      "The following objects are masked from ‘package:base’:\n",
      "\n",
      "    intersect, setdiff, setequal, union\n",
      "\n",
      "randomForest 4.6-14\n",
      "Type rfNews() to see new features/changes/bug fixes.\n",
      "\n",
      "Attaching package: ‘randomForest’\n",
      "\n",
      "The following object is masked from ‘package:dplyr’:\n",
      "\n",
      "    combine\n",
      "\n",
      "The following object is masked from ‘package:ggplot2’:\n",
      "\n",
      "    margin\n",
      "\n",
      "Loading required package: grid\n",
      "Loading required package: mvtnorm\n",
      "Loading required package: modeltools\n",
      "Loading required package: stats4\n",
      "Loading required package: strucchange\n",
      "Loading required package: zoo\n",
      "\n",
      "Attaching package: ‘zoo’\n",
      "\n",
      "The following objects are masked from ‘package:base’:\n",
      "\n",
      "    as.Date, as.Date.numeric\n",
      "\n",
      "Loading required package: sandwich\n"
     ]
    }
   ],
   "source": [
    "library(caret)\n",
    "library(dplyr)\n",
    "options(warn = -1)\n",
    "library(caret)\n",
    "library(nnet)\n",
    "library(e1071)\n",
    "library(randomForest)\n",
    "library(party)\n",
    "library(NbClust)"
   ]
  },
  {
   "cell_type": "code",
   "execution_count": 1,
   "metadata": {
    "vscode": {
     "languageId": "r"
    }
   },
   "outputs": [
    {
     "ename": "ERROR",
     "evalue": "Error in make.names(col.names, unique = TRUE): '<c3><e2><b9><df>'에서 유효하지 않은 멀티바이트 문자열이 있습니다\n",
     "output_type": "error",
     "traceback": [
      "Error in make.names(col.names, unique = TRUE): '<c3><e2><b9><df>'에서 유효하지 않은 멀티바이트 문자열이 있습니다\nTraceback:\n",
      "1. read.csv(\"rproject/OpenOASIS.csv\")",
      "2. read.table(file = file, header = header, sep = sep, quote = quote, \n .     dec = dec, fill = fill, comment.char = comment.char, ...)",
      "3. make.names(col.names, unique = TRUE)"
     ]
    }
   ],
   "source": [
    "오아시스 <- read.csv('rproject/OpenOASIS.csv')"
   ]
  },
  {
   "cell_type": "code",
   "execution_count": null,
   "metadata": {
    "vscode": {
     "languageId": "r"
    }
   },
   "outputs": [],
   "source": []
  },
  {
   "cell_type": "code",
   "execution_count": 23,
   "metadata": {
    "vscode": {
     "languageId": "r"
    }
   },
   "outputs": [
    {
     "data": {
      "text/html": [
       "<table>\n",
       "<thead><tr><th scope=col>소요시간</th><th scope=col>일차</th><th scope=col>출발시간</th></tr></thead>\n",
       "<tbody>\n",
       "\t<tr><td> 91</td><td>0  </td><td>0  </td></tr>\n",
       "\t<tr><td>132</td><td>1  </td><td>0  </td></tr>\n",
       "\t<tr><td> 83</td><td>2  </td><td>0  </td></tr>\n",
       "\t<tr><td> 87</td><td>3  </td><td>0  </td></tr>\n",
       "\t<tr><td> 84</td><td>4  </td><td>0  </td></tr>\n",
       "\t<tr><td> 88</td><td>0  </td><td>1  </td></tr>\n",
       "</tbody>\n",
       "</table>\n"
      ],
      "text/latex": [
       "\\begin{tabular}{r|lll}\n",
       " 소요시간 & 일차 & 출발시간\\\\\n",
       "\\hline\n",
       "\t  91 & 0   & 0  \\\\\n",
       "\t 132 & 1   & 0  \\\\\n",
       "\t  83 & 2   & 0  \\\\\n",
       "\t  87 & 3   & 0  \\\\\n",
       "\t  84 & 4   & 0  \\\\\n",
       "\t  88 & 0   & 1  \\\\\n",
       "\\end{tabular}\n"
      ],
      "text/markdown": [
       "\n",
       "| 소요시간 | 일차 | 출발시간 |\n",
       "|---|---|---|\n",
       "|  91 | 0   | 0   |\n",
       "| 132 | 1   | 0   |\n",
       "|  83 | 2   | 0   |\n",
       "|  87 | 3   | 0   |\n",
       "|  84 | 4   | 0   |\n",
       "|  88 | 0   | 1   |\n",
       "\n"
      ],
      "text/plain": [
       "  소요시간 일차 출발시간\n",
       "1  91      0    0       \n",
       "2 132      1    0       \n",
       "3  83      2    0       \n",
       "4  87      3    0       \n",
       "5  84      4    0       \n",
       "6  88      0    1       "
      ]
     },
     "metadata": {},
     "output_type": "display_data"
    },
    {
     "data": {
      "text/html": [
       "<table>\n",
       "<thead><tr><th></th><th scope=col>소요시간</th><th scope=col>출발시간</th></tr></thead>\n",
       "<tbody>\n",
       "\t<tr><th scope=row>47</th><td>149</td><td>9  </td></tr>\n",
       "\t<tr><th scope=row>167</th><td>177</td><td>9  </td></tr>\n",
       "\t<tr><th scope=row>287</th><td>182</td><td>9  </td></tr>\n",
       "\t<tr><th scope=row>407</th><td>111</td><td>9  </td></tr>\n",
       "\t<tr><th scope=row>527</th><td>144</td><td>9  </td></tr>\n",
       "\t<tr><th scope=row>647</th><td>156</td><td>9  </td></tr>\n",
       "</tbody>\n",
       "</table>\n"
      ],
      "text/latex": [
       "\\begin{tabular}{r|ll}\n",
       "  & 소요시간 & 출발시간\\\\\n",
       "\\hline\n",
       "\t47 & 149 & 9  \\\\\n",
       "\t167 & 177 & 9  \\\\\n",
       "\t287 & 182 & 9  \\\\\n",
       "\t407 & 111 & 9  \\\\\n",
       "\t527 & 144 & 9  \\\\\n",
       "\t647 & 156 & 9  \\\\\n",
       "\\end{tabular}\n"
      ],
      "text/markdown": [
       "\n",
       "| <!--/--> | 소요시간 | 출발시간 |\n",
       "|---|---|---|\n",
       "| 47 | 149 | 9   |\n",
       "| 167 | 177 | 9   |\n",
       "| 287 | 182 | 9   |\n",
       "| 407 | 111 | 9   |\n",
       "| 527 | 144 | 9   |\n",
       "| 647 | 156 | 9   |\n",
       "\n"
      ],
      "text/plain": [
       "    소요시간 출발시간\n",
       "47  149      9       \n",
       "167 177      9       \n",
       "287 182      9       \n",
       "407 111      9       \n",
       "527 144      9       \n",
       "647 156      9       "
      ]
     },
     "metadata": {},
     "output_type": "display_data"
    }
   ],
   "source": [
    "df <- read.csv('rproject/서울대전최종.csv')[,c(4,2,3)]\n",
    "head(df)\n",
    "dfsub <- subset(df, (일차==1 & 출발시간 ==9))[,c(1,3)] # 0일차 소요시간-출발시간\n",
    "head(dfsub)\n"
   ]
  },
  {
   "cell_type": "code",
   "execution_count": 53,
   "metadata": {
    "vscode": {
     "languageId": "r"
    }
   },
   "outputs": [
    {
     "data": {
      "text/plain": [
       "\n",
       "Call:\n",
       "lm(formula = 소요시간 ~ ., data = dfsub)\n",
       "\n",
       "Coefficients:\n",
       "(Intercept)     출발시간  \n",
       "      147.7           NA  \n"
      ]
     },
     "metadata": {},
     "output_type": "display_data"
    },
    {
     "data": {
      "text/plain": [
       "\n",
       "Call:\n",
       "lm(formula = 소요시간 ~ ., data = dfsub)\n",
       "\n",
       "Residuals:\n",
       "   Min     1Q Median     3Q    Max \n",
       "-43.75 -12.00   4.75  15.75  34.25 \n",
       "\n",
       "Coefficients: (1 not defined because of singularities)\n",
       "            Estimate Std. Error t value Pr(>|t|)    \n",
       "(Intercept)  147.750      9.913    14.9 1.47e-06 ***\n",
       "출발시간          NA         NA      NA       NA    \n",
       "---\n",
       "Signif. codes:  0 ‘***’ 0.001 ‘**’ 0.01 ‘*’ 0.05 ‘.’ 0.1 ‘ ’ 1\n",
       "\n",
       "Residual standard error: 28.04 on 7 degrees of freedom\n"
      ]
     },
     "metadata": {},
     "output_type": "display_data"
    },
    {
     "data": {
      "text/html": [
       "<dl class=dl-horizontal>\n",
       "\t<dt>47</dt>\n",
       "\t\t<dd>1.24999999999998</dd>\n",
       "\t<dt>167</dt>\n",
       "\t\t<dd>29.25</dd>\n",
       "\t<dt>287</dt>\n",
       "\t\t<dd>34.25</dd>\n",
       "\t<dt>407</dt>\n",
       "\t\t<dd>-36.75</dd>\n",
       "\t<dt>527</dt>\n",
       "\t\t<dd>-3.75</dd>\n",
       "\t<dt>647</dt>\n",
       "\t\t<dd>8.25</dd>\n",
       "\t<dt>767</dt>\n",
       "\t\t<dd>-43.75</dd>\n",
       "\t<dt>887</dt>\n",
       "\t\t<dd>11.25</dd>\n",
       "</dl>\n"
      ],
      "text/latex": [
       "\\begin{description*}\n",
       "\\item[47] 1.24999999999998\n",
       "\\item[167] 29.25\n",
       "\\item[287] 34.25\n",
       "\\item[407] -36.75\n",
       "\\item[527] -3.75\n",
       "\\item[647] 8.25\n",
       "\\item[767] -43.75\n",
       "\\item[887] 11.25\n",
       "\\end{description*}\n"
      ],
      "text/markdown": [
       "47\n",
       ":   1.24999999999998167\n",
       ":   29.25287\n",
       ":   34.25407\n",
       ":   -36.75527\n",
       ":   -3.75647\n",
       ":   8.25767\n",
       ":   -43.75887\n",
       ":   11.25\n",
       "\n"
      ],
      "text/plain": [
       "    47    167    287    407    527    647    767    887 \n",
       "  1.25  29.25  34.25 -36.75  -3.75   8.25 -43.75  11.25 "
      ]
     },
     "metadata": {},
     "output_type": "display_data"
    }
   ],
   "source": [
    "model <- lm(소요시간 ~ . , data = dfsub)\n",
    "model\n",
    "summary(model)\n",
    "model$residuals"
   ]
  },
  {
   "cell_type": "code",
   "execution_count": 51,
   "metadata": {
    "vscode": {
     "languageId": "r"
    }
   },
   "outputs": [
    {
     "data": {
      "text/html": [
       "<table>\n",
       "<thead><tr><th></th><th scope=col>소요시간</th><th scope=col>일차</th><th scope=col>출발시간</th><th scope=col>V4</th></tr></thead>\n",
       "<tbody>\n",
       "\t<tr><th scope=row>6</th><td> 88</td><td>0  </td><td> 1 </td><td>0  </td></tr>\n",
       "\t<tr><th scope=row>9</th><td> 85</td><td>3  </td><td> 1 </td><td>0  </td></tr>\n",
       "\t<tr><th scope=row>11</th><td> 88</td><td>0  </td><td> 2 </td><td>0  </td></tr>\n",
       "\t<tr><th scope=row>13</th><td>102</td><td>2  </td><td> 2 </td><td>0  </td></tr>\n",
       "\t<tr><th scope=row>14</th><td> 89</td><td>3  </td><td> 2 </td><td>0  </td></tr>\n",
       "\t<tr><th scope=row>16</th><td> 87</td><td>0  </td><td> 3 </td><td>0  </td></tr>\n",
       "\t<tr><th scope=row>20</th><td> 79</td><td>4  </td><td> 3 </td><td>0  </td></tr>\n",
       "\t<tr><th scope=row>24</th><td> 85</td><td>3  </td><td> 4 </td><td>0  </td></tr>\n",
       "\t<tr><th scope=row>25</th><td> 84</td><td>4  </td><td> 4 </td><td>0  </td></tr>\n",
       "\t<tr><th scope=row>34</th><td> 81</td><td>3  </td><td> 6 </td><td>0  </td></tr>\n",
       "\t<tr><th scope=row>43</th><td> 94</td><td>2  </td><td> 8 </td><td>0  </td></tr>\n",
       "\t<tr><th scope=row>47</th><td>149</td><td>1  </td><td> 9 </td><td>0  </td></tr>\n",
       "\t<tr><th scope=row>48</th><td> 97</td><td>2  </td><td> 9 </td><td>0  </td></tr>\n",
       "\t<tr><th scope=row>49</th><td> 86</td><td>3  </td><td> 9 </td><td>0  </td></tr>\n",
       "\t<tr><th scope=row>50</th><td> 90</td><td>4  </td><td> 9 </td><td>0  </td></tr>\n",
       "\t<tr><th scope=row>56</th><td> 94</td><td>0  </td><td>11 </td><td>0  </td></tr>\n",
       "\t<tr><th scope=row>57</th><td>166</td><td>1  </td><td>11 </td><td>0  </td></tr>\n",
       "\t<tr><th scope=row>63</th><td> 99</td><td>2  </td><td>12 </td><td>0  </td></tr>\n",
       "\t<tr><th scope=row>65</th><td> 89</td><td>4  </td><td>12 </td><td>0  </td></tr>\n",
       "\t<tr><th scope=row>67</th><td>137</td><td>1  </td><td>13 </td><td>0  </td></tr>\n",
       "\t<tr><th scope=row>72</th><td> 92</td><td>1  </td><td>14 </td><td>0  </td></tr>\n",
       "\t<tr><th scope=row>73</th><td>108</td><td>2  </td><td>14 </td><td>0  </td></tr>\n",
       "\t<tr><th scope=row>83</th><td>121</td><td>2  </td><td>16 </td><td>0  </td></tr>\n",
       "\t<tr><th scope=row>84</th><td>107</td><td>3  </td><td>16 </td><td>0  </td></tr>\n",
       "\t<tr><th scope=row>89</th><td>106</td><td>3  </td><td>17 </td><td>0  </td></tr>\n",
       "\t<tr><th scope=row>93</th><td>160</td><td>2  </td><td>18 </td><td>0  </td></tr>\n",
       "\t<tr><th scope=row>95</th><td>167</td><td>4  </td><td>18 </td><td>0  </td></tr>\n",
       "\t<tr><th scope=row>96</th><td> 91</td><td>0  </td><td>19 </td><td>0  </td></tr>\n",
       "\t<tr><th scope=row>98</th><td>156</td><td>2  </td><td>19 </td><td>0  </td></tr>\n",
       "\t<tr><th scope=row>108</th><td>128</td><td>2  </td><td>21 </td><td>0  </td></tr>\n",
       "\t<tr><th scope=row>...</th><td>...</td><td>...</td><td>...</td><td>...</td></tr>\n",
       "\t<tr><th scope=row>877</th><td>155</td><td>1  </td><td> 7 </td><td>0  </td></tr>\n",
       "\t<tr><th scope=row>878</th><td> 93</td><td>2  </td><td> 7 </td><td>0  </td></tr>\n",
       "\t<tr><th scope=row>880</th><td> 80</td><td>4  </td><td> 7 </td><td>0  </td></tr>\n",
       "\t<tr><th scope=row>881</th><td> 93</td><td>0  </td><td> 8 </td><td>0  </td></tr>\n",
       "\t<tr><th scope=row>890</th><td> 79</td><td>4  </td><td> 9 </td><td>0  </td></tr>\n",
       "\t<tr><th scope=row>894</th><td> 85</td><td>3  </td><td>10 </td><td>0  </td></tr>\n",
       "\t<tr><th scope=row>899</th><td> 83</td><td>3  </td><td>11 </td><td>0  </td></tr>\n",
       "\t<tr><th scope=row>900</th><td> 84</td><td>4  </td><td>11 </td><td>0  </td></tr>\n",
       "\t<tr><th scope=row>904</th><td> 89</td><td>3  </td><td>12 </td><td>0  </td></tr>\n",
       "\t<tr><th scope=row>906</th><td>106</td><td>0  </td><td>13 </td><td>0  </td></tr>\n",
       "\t<tr><th scope=row>908</th><td>111</td><td>2  </td><td>13 </td><td>0  </td></tr>\n",
       "\t<tr><th scope=row>909</th><td> 93</td><td>3  </td><td>13 </td><td>0  </td></tr>\n",
       "\t<tr><th scope=row>910</th><td> 86</td><td>4  </td><td>13 </td><td>0  </td></tr>\n",
       "\t<tr><th scope=row>911</th><td> 91</td><td>0  </td><td>14 </td><td>0  </td></tr>\n",
       "\t<tr><th scope=row>917</th><td> 91</td><td>1  </td><td>15 </td><td>0  </td></tr>\n",
       "\t<tr><th scope=row>920</th><td>170</td><td>4  </td><td>15 </td><td>0  </td></tr>\n",
       "\t<tr><th scope=row>921</th><td> 89</td><td>0  </td><td>16 </td><td>0  </td></tr>\n",
       "\t<tr><th scope=row>922</th><td> 86</td><td>1  </td><td>16 </td><td>0  </td></tr>\n",
       "\t<tr><th scope=row>924</th><td>145</td><td>3  </td><td>16 </td><td>0  </td></tr>\n",
       "\t<tr><th scope=row>926</th><td> 89</td><td>0  </td><td>17 </td><td>0  </td></tr>\n",
       "\t<tr><th scope=row>928</th><td>100</td><td>2  </td><td>17 </td><td>0  </td></tr>\n",
       "\t<tr><th scope=row>929</th><td>139</td><td>3  </td><td>17 </td><td>0  </td></tr>\n",
       "\t<tr><th scope=row>930</th><td>142</td><td>4  </td><td>17 </td><td>0  </td></tr>\n",
       "\t<tr><th scope=row>932</th><td> 94</td><td>1  </td><td>18 </td><td>0  </td></tr>\n",
       "\t<tr><th scope=row>933</th><td> 98</td><td>2  </td><td>18 </td><td>0  </td></tr>\n",
       "\t<tr><th scope=row>939</th><td>147</td><td>3  </td><td>19 </td><td>0  </td></tr>\n",
       "\t<tr><th scope=row>941</th><td> 88</td><td>0  </td><td>20 </td><td>0  </td></tr>\n",
       "\t<tr><th scope=row>943</th><td> 93</td><td>2  </td><td>20 </td><td>0  </td></tr>\n",
       "\t<tr><th scope=row>944</th><td>132</td><td>3  </td><td>20 </td><td>0  </td></tr>\n",
       "\t<tr><th scope=row>959</th><td>102</td><td>3  </td><td>23 </td><td>0  </td></tr>\n",
       "</tbody>\n",
       "</table>\n"
      ],
      "text/latex": [
       "\\begin{tabular}{r|llll}\n",
       "  & 소요시간 & 일차 & 출발시간 & V4\\\\\n",
       "\\hline\n",
       "\t6 &  88 & 0   &  1  & 0  \\\\\n",
       "\t9 &  85 & 3   &  1  & 0  \\\\\n",
       "\t11 &  88 & 0   &  2  & 0  \\\\\n",
       "\t13 & 102 & 2   &  2  & 0  \\\\\n",
       "\t14 &  89 & 3   &  2  & 0  \\\\\n",
       "\t16 &  87 & 0   &  3  & 0  \\\\\n",
       "\t20 &  79 & 4   &  3  & 0  \\\\\n",
       "\t24 &  85 & 3   &  4  & 0  \\\\\n",
       "\t25 &  84 & 4   &  4  & 0  \\\\\n",
       "\t34 &  81 & 3   &  6  & 0  \\\\\n",
       "\t43 &  94 & 2   &  8  & 0  \\\\\n",
       "\t47 & 149 & 1   &  9  & 0  \\\\\n",
       "\t48 &  97 & 2   &  9  & 0  \\\\\n",
       "\t49 &  86 & 3   &  9  & 0  \\\\\n",
       "\t50 &  90 & 4   &  9  & 0  \\\\\n",
       "\t56 &  94 & 0   & 11  & 0  \\\\\n",
       "\t57 & 166 & 1   & 11  & 0  \\\\\n",
       "\t63 &  99 & 2   & 12  & 0  \\\\\n",
       "\t65 &  89 & 4   & 12  & 0  \\\\\n",
       "\t67 & 137 & 1   & 13  & 0  \\\\\n",
       "\t72 &  92 & 1   & 14  & 0  \\\\\n",
       "\t73 & 108 & 2   & 14  & 0  \\\\\n",
       "\t83 & 121 & 2   & 16  & 0  \\\\\n",
       "\t84 & 107 & 3   & 16  & 0  \\\\\n",
       "\t89 & 106 & 3   & 17  & 0  \\\\\n",
       "\t93 & 160 & 2   & 18  & 0  \\\\\n",
       "\t95 & 167 & 4   & 18  & 0  \\\\\n",
       "\t96 &  91 & 0   & 19  & 0  \\\\\n",
       "\t98 & 156 & 2   & 19  & 0  \\\\\n",
       "\t108 & 128 & 2   & 21  & 0  \\\\\n",
       "\t... & ... & ... & ... & ...\\\\\n",
       "\t877 & 155 & 1   &  7  & 0  \\\\\n",
       "\t878 &  93 & 2   &  7  & 0  \\\\\n",
       "\t880 &  80 & 4   &  7  & 0  \\\\\n",
       "\t881 &  93 & 0   &  8  & 0  \\\\\n",
       "\t890 &  79 & 4   &  9  & 0  \\\\\n",
       "\t894 &  85 & 3   & 10  & 0  \\\\\n",
       "\t899 &  83 & 3   & 11  & 0  \\\\\n",
       "\t900 &  84 & 4   & 11  & 0  \\\\\n",
       "\t904 &  89 & 3   & 12  & 0  \\\\\n",
       "\t906 & 106 & 0   & 13  & 0  \\\\\n",
       "\t908 & 111 & 2   & 13  & 0  \\\\\n",
       "\t909 &  93 & 3   & 13  & 0  \\\\\n",
       "\t910 &  86 & 4   & 13  & 0  \\\\\n",
       "\t911 &  91 & 0   & 14  & 0  \\\\\n",
       "\t917 &  91 & 1   & 15  & 0  \\\\\n",
       "\t920 & 170 & 4   & 15  & 0  \\\\\n",
       "\t921 &  89 & 0   & 16  & 0  \\\\\n",
       "\t922 &  86 & 1   & 16  & 0  \\\\\n",
       "\t924 & 145 & 3   & 16  & 0  \\\\\n",
       "\t926 &  89 & 0   & 17  & 0  \\\\\n",
       "\t928 & 100 & 2   & 17  & 0  \\\\\n",
       "\t929 & 139 & 3   & 17  & 0  \\\\\n",
       "\t930 & 142 & 4   & 17  & 0  \\\\\n",
       "\t932 &  94 & 1   & 18  & 0  \\\\\n",
       "\t933 &  98 & 2   & 18  & 0  \\\\\n",
       "\t939 & 147 & 3   & 19  & 0  \\\\\n",
       "\t941 &  88 & 0   & 20  & 0  \\\\\n",
       "\t943 &  93 & 2   & 20  & 0  \\\\\n",
       "\t944 & 132 & 3   & 20  & 0  \\\\\n",
       "\t959 & 102 & 3   & 23  & 0  \\\\\n",
       "\\end{tabular}\n"
      ],
      "text/markdown": [
       "\n",
       "| <!--/--> | 소요시간 | 일차 | 출발시간 | V4 |\n",
       "|---|---|---|---|---|\n",
       "| 6 |  88 | 0   |  1  | 0   |\n",
       "| 9 |  85 | 3   |  1  | 0   |\n",
       "| 11 |  88 | 0   |  2  | 0   |\n",
       "| 13 | 102 | 2   |  2  | 0   |\n",
       "| 14 |  89 | 3   |  2  | 0   |\n",
       "| 16 |  87 | 0   |  3  | 0   |\n",
       "| 20 |  79 | 4   |  3  | 0   |\n",
       "| 24 |  85 | 3   |  4  | 0   |\n",
       "| 25 |  84 | 4   |  4  | 0   |\n",
       "| 34 |  81 | 3   |  6  | 0   |\n",
       "| 43 |  94 | 2   |  8  | 0   |\n",
       "| 47 | 149 | 1   |  9  | 0   |\n",
       "| 48 |  97 | 2   |  9  | 0   |\n",
       "| 49 |  86 | 3   |  9  | 0   |\n",
       "| 50 |  90 | 4   |  9  | 0   |\n",
       "| 56 |  94 | 0   | 11  | 0   |\n",
       "| 57 | 166 | 1   | 11  | 0   |\n",
       "| 63 |  99 | 2   | 12  | 0   |\n",
       "| 65 |  89 | 4   | 12  | 0   |\n",
       "| 67 | 137 | 1   | 13  | 0   |\n",
       "| 72 |  92 | 1   | 14  | 0   |\n",
       "| 73 | 108 | 2   | 14  | 0   |\n",
       "| 83 | 121 | 2   | 16  | 0   |\n",
       "| 84 | 107 | 3   | 16  | 0   |\n",
       "| 89 | 106 | 3   | 17  | 0   |\n",
       "| 93 | 160 | 2   | 18  | 0   |\n",
       "| 95 | 167 | 4   | 18  | 0   |\n",
       "| 96 |  91 | 0   | 19  | 0   |\n",
       "| 98 | 156 | 2   | 19  | 0   |\n",
       "| 108 | 128 | 2   | 21  | 0   |\n",
       "| ... | ... | ... | ... | ... |\n",
       "| 877 | 155 | 1   |  7  | 0   |\n",
       "| 878 |  93 | 2   |  7  | 0   |\n",
       "| 880 |  80 | 4   |  7  | 0   |\n",
       "| 881 |  93 | 0   |  8  | 0   |\n",
       "| 890 |  79 | 4   |  9  | 0   |\n",
       "| 894 |  85 | 3   | 10  | 0   |\n",
       "| 899 |  83 | 3   | 11  | 0   |\n",
       "| 900 |  84 | 4   | 11  | 0   |\n",
       "| 904 |  89 | 3   | 12  | 0   |\n",
       "| 906 | 106 | 0   | 13  | 0   |\n",
       "| 908 | 111 | 2   | 13  | 0   |\n",
       "| 909 |  93 | 3   | 13  | 0   |\n",
       "| 910 |  86 | 4   | 13  | 0   |\n",
       "| 911 |  91 | 0   | 14  | 0   |\n",
       "| 917 |  91 | 1   | 15  | 0   |\n",
       "| 920 | 170 | 4   | 15  | 0   |\n",
       "| 921 |  89 | 0   | 16  | 0   |\n",
       "| 922 |  86 | 1   | 16  | 0   |\n",
       "| 924 | 145 | 3   | 16  | 0   |\n",
       "| 926 |  89 | 0   | 17  | 0   |\n",
       "| 928 | 100 | 2   | 17  | 0   |\n",
       "| 929 | 139 | 3   | 17  | 0   |\n",
       "| 930 | 142 | 4   | 17  | 0   |\n",
       "| 932 |  94 | 1   | 18  | 0   |\n",
       "| 933 |  98 | 2   | 18  | 0   |\n",
       "| 939 | 147 | 3   | 19  | 0   |\n",
       "| 941 |  88 | 0   | 20  | 0   |\n",
       "| 943 |  93 | 2   | 20  | 0   |\n",
       "| 944 | 132 | 3   | 20  | 0   |\n",
       "| 959 | 102 | 3   | 23  | 0   |\n",
       "\n"
      ],
      "text/plain": [
       "    소요시간 일차 출발시간 V4 \n",
       "6    88      0     1       0  \n",
       "9    85      3     1       0  \n",
       "11   88      0     2       0  \n",
       "13  102      2     2       0  \n",
       "14   89      3     2       0  \n",
       "16   87      0     3       0  \n",
       "20   79      4     3       0  \n",
       "24   85      3     4       0  \n",
       "25   84      4     4       0  \n",
       "34   81      3     6       0  \n",
       "43   94      2     8       0  \n",
       "47  149      1     9       0  \n",
       "48   97      2     9       0  \n",
       "49   86      3     9       0  \n",
       "50   90      4     9       0  \n",
       "56   94      0    11       0  \n",
       "57  166      1    11       0  \n",
       "63   99      2    12       0  \n",
       "65   89      4    12       0  \n",
       "67  137      1    13       0  \n",
       "72   92      1    14       0  \n",
       "73  108      2    14       0  \n",
       "83  121      2    16       0  \n",
       "84  107      3    16       0  \n",
       "89  106      3    17       0  \n",
       "93  160      2    18       0  \n",
       "95  167      4    18       0  \n",
       "96   91      0    19       0  \n",
       "98  156      2    19       0  \n",
       "108 128      2    21       0  \n",
       "... ...      ...  ...      ...\n",
       "877 155      1     7       0  \n",
       "878  93      2     7       0  \n",
       "880  80      4     7       0  \n",
       "881  93      0     8       0  \n",
       "890  79      4     9       0  \n",
       "894  85      3    10       0  \n",
       "899  83      3    11       0  \n",
       "900  84      4    11       0  \n",
       "904  89      3    12       0  \n",
       "906 106      0    13       0  \n",
       "908 111      2    13       0  \n",
       "909  93      3    13       0  \n",
       "910  86      4    13       0  \n",
       "911  91      0    14       0  \n",
       "917  91      1    15       0  \n",
       "920 170      4    15       0  \n",
       "921  89      0    16       0  \n",
       "922  86      1    16       0  \n",
       "924 145      3    16       0  \n",
       "926  89      0    17       0  \n",
       "928 100      2    17       0  \n",
       "929 139      3    17       0  \n",
       "930 142      4    17       0  \n",
       "932  94      1    18       0  \n",
       "933  98      2    18       0  \n",
       "939 147      3    19       0  \n",
       "941  88      0    20       0  \n",
       "943  93      2    20       0  \n",
       "944 132      3    20       0  \n",
       "959 102      3    23       0  "
      ]
     },
     "metadata": {},
     "output_type": "display_data"
    },
    {
     "name": "stdout",
     "output_type": "stream",
     "text": [
      "# weights:  520 (387 variable)\n",
      "initial  value 3280.718220 \n",
      "iter  10 value 2882.891889\n",
      "iter  20 value 2824.663422\n",
      "iter  30 value 2719.725476\n",
      "iter  40 value 2658.159737\n",
      "iter  50 value 2624.552775\n",
      "iter  60 value 2606.021249\n",
      "iter  70 value 2595.590919\n",
      "iter  80 value 2584.302117\n",
      "iter  90 value 2570.264409\n",
      "iter 100 value 2559.599636\n",
      "final  value 2559.599636 \n",
      "stopped after 100 iterations\n"
     ]
    },
    {
     "data": {
      "text/html": [
       "<table>\n",
       "<thead><tr><th></th><th scope=col>pred_rf</th><th scope=col>y</th></tr></thead>\n",
       "<tbody>\n",
       "\t<tr><th scope=row>6</th><td> 88.86625</td><td> 88      </td></tr>\n",
       "\t<tr><th scope=row>9</th><td> 85.05164</td><td> 85      </td></tr>\n",
       "\t<tr><th scope=row>11</th><td> 87.74366</td><td> 88      </td></tr>\n",
       "\t<tr><th scope=row>13</th><td> 88.18982</td><td>102      </td></tr>\n",
       "\t<tr><th scope=row>14</th><td> 86.19488</td><td> 89      </td></tr>\n",
       "\t<tr><th scope=row>16</th><td> 90.58846</td><td> 87      </td></tr>\n",
       "\t<tr><th scope=row>20</th><td> 85.60154</td><td> 79      </td></tr>\n",
       "\t<tr><th scope=row>24</th><td> 86.14951</td><td> 85      </td></tr>\n",
       "\t<tr><th scope=row>25</th><td> 85.60872</td><td> 84      </td></tr>\n",
       "\t<tr><th scope=row>34</th><td> 86.51230</td><td> 81      </td></tr>\n",
       "\t<tr><th scope=row>43</th><td> 96.02848</td><td> 94      </td></tr>\n",
       "\t<tr><th scope=row>47</th><td>137.65927</td><td>149      </td></tr>\n",
       "\t<tr><th scope=row>48</th><td> 94.82817</td><td> 97      </td></tr>\n",
       "\t<tr><th scope=row>49</th><td> 84.80341</td><td> 86      </td></tr>\n",
       "\t<tr><th scope=row>50</th><td> 88.22254</td><td> 90      </td></tr>\n",
       "\t<tr><th scope=row>56</th><td> 94.46501</td><td> 94      </td></tr>\n",
       "\t<tr><th scope=row>57</th><td>145.07158</td><td>166      </td></tr>\n",
       "\t<tr><th scope=row>63</th><td>110.72541</td><td> 99      </td></tr>\n",
       "\t<tr><th scope=row>65</th><td> 98.15505</td><td> 89      </td></tr>\n",
       "\t<tr><th scope=row>67</th><td>144.38225</td><td>137      </td></tr>\n",
       "\t<tr><th scope=row>72</th><td>115.91581</td><td> 92      </td></tr>\n",
       "\t<tr><th scope=row>73</th><td>107.04117</td><td>108      </td></tr>\n",
       "\t<tr><th scope=row>83</th><td>105.81358</td><td>121      </td></tr>\n",
       "\t<tr><th scope=row>84</th><td> 71.03411</td><td>107      </td></tr>\n",
       "\t<tr><th scope=row>89</th><td> 69.38136</td><td>106      </td></tr>\n",
       "\t<tr><th scope=row>93</th><td>114.43724</td><td>160      </td></tr>\n",
       "\t<tr><th scope=row>95</th><td>132.53707</td><td>167      </td></tr>\n",
       "\t<tr><th scope=row>96</th><td>114.48645</td><td> 91      </td></tr>\n",
       "\t<tr><th scope=row>98</th><td>108.85119</td><td>156      </td></tr>\n",
       "\t<tr><th scope=row>108</th><td>100.47878</td><td>128      </td></tr>\n",
       "\t<tr><th scope=row>...</th><td>...</td><td>...</td></tr>\n",
       "\t<tr><th scope=row>877</th><td>134.69436</td><td>155      </td></tr>\n",
       "\t<tr><th scope=row>878</th><td> 94.53878</td><td> 93      </td></tr>\n",
       "\t<tr><th scope=row>880</th><td> 87.35086</td><td> 80      </td></tr>\n",
       "\t<tr><th scope=row>881</th><td> 91.34190</td><td> 93      </td></tr>\n",
       "\t<tr><th scope=row>890</th><td> 88.22254</td><td> 79      </td></tr>\n",
       "\t<tr><th scope=row>894</th><td> 84.82930</td><td> 85      </td></tr>\n",
       "\t<tr><th scope=row>899</th><td> 88.48078</td><td> 83      </td></tr>\n",
       "\t<tr><th scope=row>900</th><td> 93.70723</td><td> 84      </td></tr>\n",
       "\t<tr><th scope=row>904</th><td> 91.03626</td><td> 89      </td></tr>\n",
       "\t<tr><th scope=row>906</th><td>104.17467</td><td>106      </td></tr>\n",
       "\t<tr><th scope=row>908</th><td>110.92471</td><td>111      </td></tr>\n",
       "\t<tr><th scope=row>909</th><td> 92.38913</td><td> 93      </td></tr>\n",
       "\t<tr><th scope=row>910</th><td>102.86709</td><td> 86      </td></tr>\n",
       "\t<tr><th scope=row>911</th><td> 92.45786</td><td> 91      </td></tr>\n",
       "\t<tr><th scope=row>917</th><td>114.77824</td><td> 91      </td></tr>\n",
       "\t<tr><th scope=row>920</th><td>131.22560</td><td>170      </td></tr>\n",
       "\t<tr><th scope=row>921</th><td> 98.03450</td><td> 89      </td></tr>\n",
       "\t<tr><th scope=row>922</th><td>116.94792</td><td> 86      </td></tr>\n",
       "\t<tr><th scope=row>924</th><td> 71.03411</td><td>145      </td></tr>\n",
       "\t<tr><th scope=row>926</th><td>100.19328</td><td> 89      </td></tr>\n",
       "\t<tr><th scope=row>928</th><td>115.81244</td><td>100      </td></tr>\n",
       "\t<tr><th scope=row>929</th><td> 69.38136</td><td>139      </td></tr>\n",
       "\t<tr><th scope=row>930</th><td>129.86084</td><td>142      </td></tr>\n",
       "\t<tr><th scope=row>932</th><td>103.40738</td><td> 94      </td></tr>\n",
       "\t<tr><th scope=row>933</th><td>114.43724</td><td> 98      </td></tr>\n",
       "\t<tr><th scope=row>939</th><td> 77.47823</td><td>147      </td></tr>\n",
       "\t<tr><th scope=row>941</th><td>118.02665</td><td> 88      </td></tr>\n",
       "\t<tr><th scope=row>943</th><td>114.13042</td><td> 93      </td></tr>\n",
       "\t<tr><th scope=row>944</th><td> 82.92015</td><td>132      </td></tr>\n",
       "\t<tr><th scope=row>959</th><td> 70.44441</td><td>102      </td></tr>\n",
       "</tbody>\n",
       "</table>\n"
      ],
      "text/latex": [
       "\\begin{tabular}{r|ll}\n",
       "  & pred\\_rf & y\\\\\n",
       "\\hline\n",
       "\t6 &  88.86625 &  88      \\\\\n",
       "\t9 &  85.05164 &  85      \\\\\n",
       "\t11 &  87.74366 &  88      \\\\\n",
       "\t13 &  88.18982 & 102      \\\\\n",
       "\t14 &  86.19488 &  89      \\\\\n",
       "\t16 &  90.58846 &  87      \\\\\n",
       "\t20 &  85.60154 &  79      \\\\\n",
       "\t24 &  86.14951 &  85      \\\\\n",
       "\t25 &  85.60872 &  84      \\\\\n",
       "\t34 &  86.51230 &  81      \\\\\n",
       "\t43 &  96.02848 &  94      \\\\\n",
       "\t47 & 137.65927 & 149      \\\\\n",
       "\t48 &  94.82817 &  97      \\\\\n",
       "\t49 &  84.80341 &  86      \\\\\n",
       "\t50 &  88.22254 &  90      \\\\\n",
       "\t56 &  94.46501 &  94      \\\\\n",
       "\t57 & 145.07158 & 166      \\\\\n",
       "\t63 & 110.72541 &  99      \\\\\n",
       "\t65 &  98.15505 &  89      \\\\\n",
       "\t67 & 144.38225 & 137      \\\\\n",
       "\t72 & 115.91581 &  92      \\\\\n",
       "\t73 & 107.04117 & 108      \\\\\n",
       "\t83 & 105.81358 & 121      \\\\\n",
       "\t84 &  71.03411 & 107      \\\\\n",
       "\t89 &  69.38136 & 106      \\\\\n",
       "\t93 & 114.43724 & 160      \\\\\n",
       "\t95 & 132.53707 & 167      \\\\\n",
       "\t96 & 114.48645 &  91      \\\\\n",
       "\t98 & 108.85119 & 156      \\\\\n",
       "\t108 & 100.47878 & 128      \\\\\n",
       "\t... & ... & ...\\\\\n",
       "\t877 & 134.69436 & 155      \\\\\n",
       "\t878 &  94.53878 &  93      \\\\\n",
       "\t880 &  87.35086 &  80      \\\\\n",
       "\t881 &  91.34190 &  93      \\\\\n",
       "\t890 &  88.22254 &  79      \\\\\n",
       "\t894 &  84.82930 &  85      \\\\\n",
       "\t899 &  88.48078 &  83      \\\\\n",
       "\t900 &  93.70723 &  84      \\\\\n",
       "\t904 &  91.03626 &  89      \\\\\n",
       "\t906 & 104.17467 & 106      \\\\\n",
       "\t908 & 110.92471 & 111      \\\\\n",
       "\t909 &  92.38913 &  93      \\\\\n",
       "\t910 & 102.86709 &  86      \\\\\n",
       "\t911 &  92.45786 &  91      \\\\\n",
       "\t917 & 114.77824 &  91      \\\\\n",
       "\t920 & 131.22560 & 170      \\\\\n",
       "\t921 &  98.03450 &  89      \\\\\n",
       "\t922 & 116.94792 &  86      \\\\\n",
       "\t924 &  71.03411 & 145      \\\\\n",
       "\t926 & 100.19328 &  89      \\\\\n",
       "\t928 & 115.81244 & 100      \\\\\n",
       "\t929 &  69.38136 & 139      \\\\\n",
       "\t930 & 129.86084 & 142      \\\\\n",
       "\t932 & 103.40738 &  94      \\\\\n",
       "\t933 & 114.43724 &  98      \\\\\n",
       "\t939 &  77.47823 & 147      \\\\\n",
       "\t941 & 118.02665 &  88      \\\\\n",
       "\t943 & 114.13042 &  93      \\\\\n",
       "\t944 &  82.92015 & 132      \\\\\n",
       "\t959 &  70.44441 & 102      \\\\\n",
       "\\end{tabular}\n"
      ],
      "text/markdown": [
       "\n",
       "| <!--/--> | pred_rf | y |\n",
       "|---|---|---|\n",
       "| 6 |  88.86625 |  88       |\n",
       "| 9 |  85.05164 |  85       |\n",
       "| 11 |  87.74366 |  88       |\n",
       "| 13 |  88.18982 | 102       |\n",
       "| 14 |  86.19488 |  89       |\n",
       "| 16 |  90.58846 |  87       |\n",
       "| 20 |  85.60154 |  79       |\n",
       "| 24 |  86.14951 |  85       |\n",
       "| 25 |  85.60872 |  84       |\n",
       "| 34 |  86.51230 |  81       |\n",
       "| 43 |  96.02848 |  94       |\n",
       "| 47 | 137.65927 | 149       |\n",
       "| 48 |  94.82817 |  97       |\n",
       "| 49 |  84.80341 |  86       |\n",
       "| 50 |  88.22254 |  90       |\n",
       "| 56 |  94.46501 |  94       |\n",
       "| 57 | 145.07158 | 166       |\n",
       "| 63 | 110.72541 |  99       |\n",
       "| 65 |  98.15505 |  89       |\n",
       "| 67 | 144.38225 | 137       |\n",
       "| 72 | 115.91581 |  92       |\n",
       "| 73 | 107.04117 | 108       |\n",
       "| 83 | 105.81358 | 121       |\n",
       "| 84 |  71.03411 | 107       |\n",
       "| 89 |  69.38136 | 106       |\n",
       "| 93 | 114.43724 | 160       |\n",
       "| 95 | 132.53707 | 167       |\n",
       "| 96 | 114.48645 |  91       |\n",
       "| 98 | 108.85119 | 156       |\n",
       "| 108 | 100.47878 | 128       |\n",
       "| ... | ... | ... |\n",
       "| 877 | 134.69436 | 155       |\n",
       "| 878 |  94.53878 |  93       |\n",
       "| 880 |  87.35086 |  80       |\n",
       "| 881 |  91.34190 |  93       |\n",
       "| 890 |  88.22254 |  79       |\n",
       "| 894 |  84.82930 |  85       |\n",
       "| 899 |  88.48078 |  83       |\n",
       "| 900 |  93.70723 |  84       |\n",
       "| 904 |  91.03626 |  89       |\n",
       "| 906 | 104.17467 | 106       |\n",
       "| 908 | 110.92471 | 111       |\n",
       "| 909 |  92.38913 |  93       |\n",
       "| 910 | 102.86709 |  86       |\n",
       "| 911 |  92.45786 |  91       |\n",
       "| 917 | 114.77824 |  91       |\n",
       "| 920 | 131.22560 | 170       |\n",
       "| 921 |  98.03450 |  89       |\n",
       "| 922 | 116.94792 |  86       |\n",
       "| 924 |  71.03411 | 145       |\n",
       "| 926 | 100.19328 |  89       |\n",
       "| 928 | 115.81244 | 100       |\n",
       "| 929 |  69.38136 | 139       |\n",
       "| 930 | 129.86084 | 142       |\n",
       "| 932 | 103.40738 |  94       |\n",
       "| 933 | 114.43724 |  98       |\n",
       "| 939 |  77.47823 | 147       |\n",
       "| 941 | 118.02665 |  88       |\n",
       "| 943 | 114.13042 |  93       |\n",
       "| 944 |  82.92015 | 132       |\n",
       "| 959 |  70.44441 | 102       |\n",
       "\n"
      ],
      "text/plain": [
       "    pred_rf   y  \n",
       "6    88.86625  88\n",
       "9    85.05164  85\n",
       "11   87.74366  88\n",
       "13   88.18982 102\n",
       "14   86.19488  89\n",
       "16   90.58846  87\n",
       "20   85.60154  79\n",
       "24   86.14951  85\n",
       "25   85.60872  84\n",
       "34   86.51230  81\n",
       "43   96.02848  94\n",
       "47  137.65927 149\n",
       "48   94.82817  97\n",
       "49   84.80341  86\n",
       "50   88.22254  90\n",
       "56   94.46501  94\n",
       "57  145.07158 166\n",
       "63  110.72541  99\n",
       "65   98.15505  89\n",
       "67  144.38225 137\n",
       "72  115.91581  92\n",
       "73  107.04117 108\n",
       "83  105.81358 121\n",
       "84   71.03411 107\n",
       "89   69.38136 106\n",
       "93  114.43724 160\n",
       "95  132.53707 167\n",
       "96  114.48645  91\n",
       "98  108.85119 156\n",
       "108 100.47878 128\n",
       "... ...       ...\n",
       "877 134.69436 155\n",
       "878  94.53878  93\n",
       "880  87.35086  80\n",
       "881  91.34190  93\n",
       "890  88.22254  79\n",
       "894  84.82930  85\n",
       "899  88.48078  83\n",
       "900  93.70723  84\n",
       "904  91.03626  89\n",
       "906 104.17467 106\n",
       "908 110.92471 111\n",
       "909  92.38913  93\n",
       "910 102.86709  86\n",
       "911  92.45786  91\n",
       "917 114.77824  91\n",
       "920 131.22560 170\n",
       "921  98.03450  89\n",
       "922 116.94792  86\n",
       "924  71.03411 145\n",
       "926 100.19328  89\n",
       "928 115.81244 100\n",
       "929  69.38136 139\n",
       "930 129.86084 142\n",
       "932 103.40738  94\n",
       "933 114.43724  98\n",
       "939  77.47823 147\n",
       "941 118.02665  88\n",
       "943 114.13042  93\n",
       "944  82.92015 132\n",
       "959  70.44441 102"
      ]
     },
     "metadata": {},
     "output_type": "display_data"
    },
    {
     "data": {
      "text/html": [
       "0.754166666666667"
      ],
      "text/latex": [
       "0.754166666666667"
      ],
      "text/markdown": [
       "0.754166666666667"
      ],
      "text/plain": [
       "[1] 0.7541667"
      ]
     },
     "metadata": {},
     "output_type": "display_data"
    }
   ],
   "source": [
    "\n",
    "\n",
    "samp <- createDataPartition(df$소요시간, p=0.7, list=F)\n",
    "data.tr <- df[samp,]\n",
    "data.test <- df[-samp,]\n",
    "\n",
    "x <- subset(data.test, select = -소요시간)\n",
    "y <- data.test$소요시간\n",
    "\n",
    "\n",
    "\n",
    "\n",
    "오차 계산해 넣기\n",
    "for (i in 0:4){\n",
    "  for(j in 0:23){\n",
    "    # i일차 j시 소요시간~출발시간\n",
    "    dfsub <- subset(df, (일차==i & 출발시간 ==j))[,c(1,3)]\n",
    "    \n",
    "  }\n",
    "}\n",
    "\n",
    "\n",
    "\n",
    "\n",
    "\n",
    "\n",
    "data.test[,4] = 0\n",
    "data.test\n",
    "# df\n",
    "\n",
    "model_rf <- randomForest(소요시간 ~ . , data = data.tr, ntree = 100)\n",
    "model_mn <- multinom(소요시간 ~ . , data=data.tr)\n",
    "model_svm <- svm(소요시간 ~ . , data=data.tr)\n",
    "\n",
    "pred_rf <- predict(model_rf, x)\n",
    "pred_mn <- predict(model_mn, x)\n",
    "pred_svm <- predict(model_svm, x)\n",
    "\n",
    "data.frame(pred_rf, y)\n",
    "\n",
    "# 예측력_rf <- mean((pred_rf - 오차 < y) & (pred_rf + 오차 > y))\n",
    "# 예측력_mn <- mean(pred_mn == y)\n",
    "# 예측력_svm <- mean(pred_svm == y)\n",
    "\n",
    "\n",
    "예측력_rf\n",
    "# 예측력_mn\n",
    "# 예측력_svm"
   ]
  },
  {
   "cell_type": "code",
   "execution_count": null,
   "metadata": {
    "vscode": {
     "languageId": "r"
    }
   },
   "outputs": [],
   "source": []
  },
  {
   "cell_type": "code",
   "execution_count": 3,
   "metadata": {
    "vscode": {
     "languageId": "r"
    }
   },
   "outputs": [
    {
     "data": {
      "text/html": [
       "<table>\n",
       "<thead><tr><th scope=col>년도</th><th scope=col>일차</th><th scope=col>출발시간</th><th scope=col>소요시간</th></tr></thead>\n",
       "<tbody>\n",
       "\t<tr><td>2013</td><td>0   </td><td>0   </td><td> 91 </td></tr>\n",
       "\t<tr><td>2013</td><td>1   </td><td>0   </td><td>132 </td></tr>\n",
       "\t<tr><td>2013</td><td>2   </td><td>0   </td><td> 83 </td></tr>\n",
       "\t<tr><td>2013</td><td>3   </td><td>0   </td><td> 87 </td></tr>\n",
       "\t<tr><td>2013</td><td>4   </td><td>0   </td><td> 84 </td></tr>\n",
       "\t<tr><td>2013</td><td>0   </td><td>1   </td><td> 88 </td></tr>\n",
       "</tbody>\n",
       "</table>\n"
      ],
      "text/latex": [
       "\\begin{tabular}{r|llll}\n",
       " 년도 & 일차 & 출발시간 & 소요시간\\\\\n",
       "\\hline\n",
       "\t 2013 & 0    & 0    &  91 \\\\\n",
       "\t 2013 & 1    & 0    & 132 \\\\\n",
       "\t 2013 & 2    & 0    &  83 \\\\\n",
       "\t 2013 & 3    & 0    &  87 \\\\\n",
       "\t 2013 & 4    & 0    &  84 \\\\\n",
       "\t 2013 & 0    & 1    &  88 \\\\\n",
       "\\end{tabular}\n"
      ],
      "text/markdown": [
       "\n",
       "| 년도 | 일차 | 출발시간 | 소요시간 |\n",
       "|---|---|---|---|\n",
       "| 2013 | 0    | 0    |  91  |\n",
       "| 2013 | 1    | 0    | 132  |\n",
       "| 2013 | 2    | 0    |  83  |\n",
       "| 2013 | 3    | 0    |  87  |\n",
       "| 2013 | 4    | 0    |  84  |\n",
       "| 2013 | 0    | 1    |  88  |\n",
       "\n"
      ],
      "text/plain": [
       "  년도 일차 출발시간 소요시간\n",
       "1 2013 0    0         91     \n",
       "2 2013 1    0        132     \n",
       "3 2013 2    0         83     \n",
       "4 2013 3    0         87     \n",
       "5 2013 4    0         84     \n",
       "6 2013 0    1         88     "
      ]
     },
     "metadata": {},
     "output_type": "display_data"
    }
   ],
   "source": []
  },
  {
   "cell_type": "code",
   "execution_count": 4,
   "metadata": {
    "vscode": {
     "languageId": "r"
    }
   },
   "outputs": [],
   "source": [
    "par(family = 'AppleGothic', bg = '#fafafa', mfrow=c(2,2))"
   ]
  },
  {
   "cell_type": "code",
   "execution_count": 5,
   "metadata": {
    "vscode": {
     "languageId": "r"
    }
   },
   "outputs": [
    {
     "data": {
      "text/html": [
       "<table>\n",
       "<thead><tr><th scope=col>edunum</th><th scope=col>age</th><th scope=col>class</th><th scope=col>marital</th><th scope=col>occupation</th><th scope=col>relationship</th><th scope=col>race</th><th scope=col>sex</th></tr></thead>\n",
       "<tbody>\n",
       "\t<tr><td>13                 </td><td>39                 </td><td> State-gov         </td><td> Never-married     </td><td> Adm-clerical      </td><td> Not-in-family     </td><td> White             </td><td> Male              </td></tr>\n",
       "\t<tr><td>13                 </td><td>50                 </td><td> Self-emp-not-inc  </td><td> Married-civ-spouse</td><td> Exec-managerial   </td><td> Husband           </td><td> White             </td><td> Male              </td></tr>\n",
       "\t<tr><td> 9                 </td><td>38                 </td><td> Private           </td><td> Divorced          </td><td> Handlers-cleaners </td><td> Not-in-family     </td><td> White             </td><td> Male              </td></tr>\n",
       "\t<tr><td> 7                 </td><td>53                 </td><td> Private           </td><td> Married-civ-spouse</td><td> Handlers-cleaners </td><td> Husband           </td><td> Black             </td><td> Male              </td></tr>\n",
       "\t<tr><td>13                 </td><td>28                 </td><td> Private           </td><td> Married-civ-spouse</td><td> Prof-specialty    </td><td> Wife              </td><td> Black             </td><td> Female            </td></tr>\n",
       "\t<tr><td>14                 </td><td>37                 </td><td> Private           </td><td> Married-civ-spouse</td><td> Exec-managerial   </td><td> Wife              </td><td> White             </td><td> Female            </td></tr>\n",
       "</tbody>\n",
       "</table>\n"
      ],
      "text/latex": [
       "\\begin{tabular}{r|llllllll}\n",
       " edunum & age & class & marital & occupation & relationship & race & sex\\\\\n",
       "\\hline\n",
       "\t 13                  & 39                  &  State-gov          &  Never-married      &  Adm-clerical       &  Not-in-family      &  White              &  Male              \\\\\n",
       "\t 13                  & 50                  &  Self-emp-not-inc   &  Married-civ-spouse &  Exec-managerial    &  Husband            &  White              &  Male              \\\\\n",
       "\t  9                  & 38                  &  Private            &  Divorced           &  Handlers-cleaners  &  Not-in-family      &  White              &  Male              \\\\\n",
       "\t  7                  & 53                  &  Private            &  Married-civ-spouse &  Handlers-cleaners  &  Husband            &  Black              &  Male              \\\\\n",
       "\t 13                  & 28                  &  Private            &  Married-civ-spouse &  Prof-specialty     &  Wife               &  Black              &  Female            \\\\\n",
       "\t 14                  & 37                  &  Private            &  Married-civ-spouse &  Exec-managerial    &  Wife               &  White              &  Female            \\\\\n",
       "\\end{tabular}\n"
      ],
      "text/markdown": [
       "\n",
       "| edunum | age | class | marital | occupation | relationship | race | sex |\n",
       "|---|---|---|---|---|---|---|---|\n",
       "| 13                  | 39                  |  State-gov          |  Never-married      |  Adm-clerical       |  Not-in-family      |  White              |  Male               |\n",
       "| 13                  | 50                  |  Self-emp-not-inc   |  Married-civ-spouse |  Exec-managerial    |  Husband            |  White              |  Male               |\n",
       "|  9                  | 38                  |  Private            |  Divorced           |  Handlers-cleaners  |  Not-in-family      |  White              |  Male               |\n",
       "|  7                  | 53                  |  Private            |  Married-civ-spouse |  Handlers-cleaners  |  Husband            |  Black              |  Male               |\n",
       "| 13                  | 28                  |  Private            |  Married-civ-spouse |  Prof-specialty     |  Wife               |  Black              |  Female             |\n",
       "| 14                  | 37                  |  Private            |  Married-civ-spouse |  Exec-managerial    |  Wife               |  White              |  Female             |\n",
       "\n"
      ],
      "text/plain": [
       "  edunum age class             marital             occupation        \n",
       "1 13     39   State-gov         Never-married       Adm-clerical     \n",
       "2 13     50   Self-emp-not-inc  Married-civ-spouse  Exec-managerial  \n",
       "3  9     38   Private           Divorced            Handlers-cleaners\n",
       "4  7     53   Private           Married-civ-spouse  Handlers-cleaners\n",
       "5 13     28   Private           Married-civ-spouse  Prof-specialty   \n",
       "6 14     37   Private           Married-civ-spouse  Exec-managerial  \n",
       "  relationship   race   sex    \n",
       "1  Not-in-family  White  Male  \n",
       "2  Husband        White  Male  \n",
       "3  Not-in-family  White  Male  \n",
       "4  Husband        Black  Male  \n",
       "5  Wife           Black  Female\n",
       "6  Wife           White  Female"
      ]
     },
     "metadata": {},
     "output_type": "display_data"
    },
    {
     "name": "stdout",
     "output_type": "stream",
     "text": [
      "'data.frame':\t32561 obs. of  8 variables:\n",
      " $ edunum      : int  13 13 9 7 13 14 5 9 14 13 ...\n",
      " $ age         : int  39 50 38 53 28 37 49 52 31 42 ...\n",
      " $ class       : Factor w/ 9 levels \" ?\",\" Federal-gov\",..: 8 7 5 5 5 5 5 7 5 5 ...\n",
      " $ marital     : Factor w/ 7 levels \" Divorced\",\" Married-AF-spouse\",..: 5 3 1 3 3 3 4 3 5 3 ...\n",
      " $ occupation  : Factor w/ 15 levels \" ?\",\" Adm-clerical\",..: 2 5 7 7 11 5 9 5 11 5 ...\n",
      " $ relationship: Factor w/ 6 levels \" Husband\",\" Not-in-family\",..: 2 1 2 1 6 6 2 1 2 1 ...\n",
      " $ race        : Factor w/ 5 levels \" Amer-Indian-Eskimo\",..: 5 5 5 3 3 5 3 5 5 5 ...\n",
      " $ sex         : Factor w/ 2 levels \" Female\",\" Male\": 2 2 2 2 1 1 1 2 1 2 ...\n"
     ]
    },
    {
     "data": {
      "text/html": [
       "'age'"
      ],
      "text/latex": [
       "'age'"
      ],
      "text/markdown": [
       "'age'"
      ],
      "text/plain": [
       "[1] \"age\""
      ]
     },
     "metadata": {},
     "output_type": "display_data"
    }
   ],
   "source": [
    "df <- read.csv('rproject/salary.csv')[,c(5,1,2,6,7,8,9,10)]\n",
    "colnames(df) <- c('edunum', 'age', 'class', 'marital', 'occupation', 'relationship', 'race','sex')\n",
    "head(df)\n",
    "str(df)\n",
    "colnames(df)[2]\n"
   ]
  },
  {
   "cell_type": "code",
   "execution_count": 8,
   "metadata": {
    "vscode": {
     "languageId": "r"
    }
   },
   "outputs": [
    {
     "data": {
      "text/html": [
       "<table>\n",
       "<thead><tr><th scope=col>edunum</th><th scope=col>age</th><th scope=col>class</th><th scope=col>marital</th><th scope=col>occupation</th><th scope=col>relationship</th><th scope=col>race</th><th scope=col>sex</th></tr></thead>\n",
       "<tbody>\n",
       "\t<tr><td>13</td><td>39</td><td>8 </td><td>5 </td><td> 2</td><td>2 </td><td>5 </td><td>2 </td></tr>\n",
       "\t<tr><td>13</td><td>50</td><td>7 </td><td>3 </td><td> 5</td><td>1 </td><td>5 </td><td>2 </td></tr>\n",
       "\t<tr><td> 9</td><td>38</td><td>5 </td><td>1 </td><td> 7</td><td>2 </td><td>5 </td><td>2 </td></tr>\n",
       "\t<tr><td> 7</td><td>53</td><td>5 </td><td>3 </td><td> 7</td><td>1 </td><td>3 </td><td>2 </td></tr>\n",
       "\t<tr><td>13</td><td>28</td><td>5 </td><td>3 </td><td>11</td><td>6 </td><td>3 </td><td>1 </td></tr>\n",
       "\t<tr><td>14</td><td>37</td><td>5 </td><td>3 </td><td> 5</td><td>6 </td><td>5 </td><td>1 </td></tr>\n",
       "</tbody>\n",
       "</table>\n"
      ],
      "text/latex": [
       "\\begin{tabular}{r|llllllll}\n",
       " edunum & age & class & marital & occupation & relationship & race & sex\\\\\n",
       "\\hline\n",
       "\t 13 & 39 & 8  & 5  &  2 & 2  & 5  & 2 \\\\\n",
       "\t 13 & 50 & 7  & 3  &  5 & 1  & 5  & 2 \\\\\n",
       "\t  9 & 38 & 5  & 1  &  7 & 2  & 5  & 2 \\\\\n",
       "\t  7 & 53 & 5  & 3  &  7 & 1  & 3  & 2 \\\\\n",
       "\t 13 & 28 & 5  & 3  & 11 & 6  & 3  & 1 \\\\\n",
       "\t 14 & 37 & 5  & 3  &  5 & 6  & 5  & 1 \\\\\n",
       "\\end{tabular}\n"
      ],
      "text/markdown": [
       "\n",
       "| edunum | age | class | marital | occupation | relationship | race | sex |\n",
       "|---|---|---|---|---|---|---|---|\n",
       "| 13 | 39 | 8  | 5  |  2 | 2  | 5  | 2  |\n",
       "| 13 | 50 | 7  | 3  |  5 | 1  | 5  | 2  |\n",
       "|  9 | 38 | 5  | 1  |  7 | 2  | 5  | 2  |\n",
       "|  7 | 53 | 5  | 3  |  7 | 1  | 3  | 2  |\n",
       "| 13 | 28 | 5  | 3  | 11 | 6  | 3  | 1  |\n",
       "| 14 | 37 | 5  | 3  |  5 | 6  | 5  | 1  |\n",
       "\n"
      ],
      "text/plain": [
       "  edunum age class marital occupation relationship race sex\n",
       "1 13     39  8     5        2         2            5    2  \n",
       "2 13     50  7     3        5         1            5    2  \n",
       "3  9     38  5     1        7         2            5    2  \n",
       "4  7     53  5     3        7         1            3    2  \n",
       "5 13     28  5     3       11         6            3    1  \n",
       "6 14     37  5     3        5         6            5    1  "
      ]
     },
     "metadata": {},
     "output_type": "display_data"
    },
    {
     "data": {
      "text/html": [
       "<table>\n",
       "<thead><tr><th scope=col>edunum</th></tr></thead>\n",
       "<tbody>\n",
       "\t<tr><td>13</td></tr>\n",
       "\t<tr><td>13</td></tr>\n",
       "\t<tr><td> 9</td></tr>\n",
       "\t<tr><td> 7</td></tr>\n",
       "\t<tr><td>13</td></tr>\n",
       "\t<tr><td>14</td></tr>\n",
       "</tbody>\n",
       "</table>\n"
      ],
      "text/latex": [
       "\\begin{tabular}{r|l}\n",
       " edunum\\\\\n",
       "\\hline\n",
       "\t 13\\\\\n",
       "\t 13\\\\\n",
       "\t  9\\\\\n",
       "\t  7\\\\\n",
       "\t 13\\\\\n",
       "\t 14\\\\\n",
       "\\end{tabular}\n"
      ],
      "text/markdown": [
       "\n",
       "| edunum |\n",
       "|---|\n",
       "| 13 |\n",
       "| 13 |\n",
       "|  9 |\n",
       "|  7 |\n",
       "| 13 |\n",
       "| 14 |\n",
       "\n"
      ],
      "text/plain": [
       "  edunum\n",
       "1 13    \n",
       "2 13    \n",
       "3  9    \n",
       "4  7    \n",
       "5 13    \n",
       "6 14    "
      ]
     },
     "metadata": {},
     "output_type": "display_data"
    },
    {
     "name": "stdout",
     "output_type": "stream",
     "text": [
      "'data.frame':\t32561 obs. of  45 variables:\n",
      " $ edunum        : Factor w/ 16 levels \"1\",\"2\",\"3\",\"4\",..: 13 13 9 7 13 14 5 9 14 13 ...\n",
      " $ class_1       : logi  FALSE FALSE FALSE FALSE FALSE FALSE ...\n",
      " $ class_2       : logi  FALSE FALSE FALSE FALSE FALSE FALSE ...\n",
      " $ class_3       : logi  FALSE FALSE FALSE FALSE FALSE FALSE ...\n",
      " $ class_4       : logi  FALSE FALSE FALSE FALSE FALSE FALSE ...\n",
      " $ class_5       : logi  FALSE FALSE TRUE TRUE TRUE TRUE ...\n",
      " $ class_6       : logi  FALSE FALSE FALSE FALSE FALSE FALSE ...\n",
      " $ class_7       : logi  FALSE TRUE FALSE FALSE FALSE FALSE ...\n",
      " $ class_8       : logi  TRUE FALSE FALSE FALSE FALSE FALSE ...\n",
      " $ class_9       : logi  FALSE FALSE FALSE FALSE FALSE FALSE ...\n",
      " $ marital_1     : logi  FALSE FALSE TRUE FALSE FALSE FALSE ...\n",
      " $ marital_2     : logi  FALSE FALSE FALSE FALSE FALSE FALSE ...\n",
      " $ marital_3     : logi  FALSE TRUE FALSE TRUE TRUE TRUE ...\n",
      " $ marital_4     : logi  FALSE FALSE FALSE FALSE FALSE FALSE ...\n",
      " $ marital_5     : logi  TRUE FALSE FALSE FALSE FALSE FALSE ...\n",
      " $ marital_6     : logi  FALSE FALSE FALSE FALSE FALSE FALSE ...\n",
      " $ marital_7     : logi  FALSE FALSE FALSE FALSE FALSE FALSE ...\n",
      " $ occupation_1  : logi  FALSE FALSE FALSE FALSE FALSE FALSE ...\n",
      " $ occupation_2  : logi  TRUE FALSE FALSE FALSE FALSE FALSE ...\n",
      " $ occupation_3  : logi  FALSE FALSE FALSE FALSE FALSE FALSE ...\n",
      " $ occupation_4  : logi  FALSE FALSE FALSE FALSE FALSE FALSE ...\n",
      " $ occupation_5  : logi  FALSE TRUE FALSE FALSE FALSE TRUE ...\n",
      " $ occupation_6  : logi  FALSE FALSE FALSE FALSE FALSE FALSE ...\n",
      " $ occupation_7  : logi  FALSE FALSE TRUE TRUE FALSE FALSE ...\n",
      " $ occupation_8  : logi  FALSE FALSE FALSE FALSE FALSE FALSE ...\n",
      " $ occupation_9  : logi  FALSE FALSE FALSE FALSE FALSE FALSE ...\n",
      " $ occupation_10 : logi  FALSE FALSE FALSE FALSE FALSE FALSE ...\n",
      " $ occupation_11 : logi  FALSE FALSE FALSE FALSE TRUE FALSE ...\n",
      " $ occupation_12 : logi  FALSE FALSE FALSE FALSE FALSE FALSE ...\n",
      " $ occupation_13 : logi  FALSE FALSE FALSE FALSE FALSE FALSE ...\n",
      " $ occupation_14 : logi  FALSE FALSE FALSE FALSE FALSE FALSE ...\n",
      " $ occupation_15 : logi  FALSE FALSE FALSE FALSE FALSE FALSE ...\n",
      " $ relationship_1: logi  FALSE TRUE FALSE TRUE FALSE FALSE ...\n",
      " $ relationship_2: logi  TRUE FALSE TRUE FALSE FALSE FALSE ...\n",
      " $ relationship_3: logi  FALSE FALSE FALSE FALSE FALSE FALSE ...\n",
      " $ relationship_4: logi  FALSE FALSE FALSE FALSE FALSE FALSE ...\n",
      " $ relationship_5: logi  FALSE FALSE FALSE FALSE FALSE FALSE ...\n",
      " $ relationship_6: logi  FALSE FALSE FALSE FALSE TRUE TRUE ...\n",
      " $ race_1        : logi  FALSE FALSE FALSE FALSE FALSE FALSE ...\n",
      " $ race_2        : logi  FALSE FALSE FALSE FALSE FALSE FALSE ...\n",
      " $ race_3        : logi  FALSE FALSE FALSE TRUE TRUE FALSE ...\n",
      " $ race_4        : logi  FALSE FALSE FALSE FALSE FALSE FALSE ...\n",
      " $ race_5        : logi  TRUE TRUE TRUE FALSE FALSE TRUE ...\n",
      " $ sex_1         : logi  FALSE FALSE FALSE FALSE TRUE TRUE ...\n",
      " $ sex_2         : logi  TRUE TRUE TRUE TRUE FALSE FALSE ...\n"
     ]
    }
   ],
   "source": [
    "for(i in 3:8){\n",
    "  df[,i] <- as.numeric(df[,i])\n",
    "}\n",
    "head(df)\n",
    "\n",
    "ohi <- data.frame(edunum = df$edunum)\n",
    "head(ohi)\n",
    "\n",
    "count <- 2\n",
    "for (i in 3:8){\n",
    "  for(j in sort(unique(df[,i]))){\n",
    "    ohi <- cbind(ohi, df[,i] == j)\n",
    "    colnames(ohi)[count] <- paste(colnames(df)[i],\"_\",j,sep='')\n",
    "    count = count + 1\n",
    "  }\n",
    "}\n",
    "ohi[,1] <- as.factor(ohi[,1])\n",
    "str(ohi)"
   ]
  },
  {
   "cell_type": "code",
   "execution_count": 9,
   "metadata": {
    "vscode": {
     "languageId": "r"
    }
   },
   "outputs": [
    {
     "name": "stdout",
     "output_type": "stream",
     "text": [
      "# weights:  736 (675 variable)\n",
      "initial  value 63220.568045 \n",
      "iter  10 value 45453.626346\n",
      "iter  20 value 44999.033009\n",
      "iter  30 value 43858.779471\n",
      "iter  40 value 42020.430676\n",
      "iter  50 value 41498.887686\n",
      "iter  60 value 40803.474651\n",
      "iter  70 value 40424.926471\n",
      "iter  80 value 40158.713664\n",
      "iter  90 value 40041.277880\n",
      "iter 100 value 39996.125558\n",
      "final  value 39996.125558 \n",
      "stopped after 100 iterations\n"
     ]
    },
    {
     "data": {
      "text/html": [
       "0.418783206903965"
      ],
      "text/latex": [
       "0.418783206903965"
      ],
      "text/markdown": [
       "0.418783206903965"
      ],
      "text/plain": [
       "[1] 0.4187832"
      ]
     },
     "metadata": {},
     "output_type": "display_data"
    },
    {
     "data": {
      "text/html": [
       "0.403980221737662"
      ],
      "text/latex": [
       "0.403980221737662"
      ],
      "text/markdown": [
       "0.403980221737662"
      ],
      "text/plain": [
       "[1] 0.4039802"
      ]
     },
     "metadata": {},
     "output_type": "display_data"
    },
    {
     "data": {
      "text/html": [
       "0.395903074229907"
      ],
      "text/latex": [
       "0.395903074229907"
      ],
      "text/markdown": [
       "0.395903074229907"
      ],
      "text/plain": [
       "[1] 0.3959031"
      ]
     },
     "metadata": {},
     "output_type": "display_data"
    }
   ],
   "source": [
    "samp <- createDataPartition(ohi$edunum, p=0.7, list=F)\n",
    "data.tr <- ohi[samp,]\n",
    "data.test <- ohi[-samp,]\n",
    "\n",
    "x <- subset(ohi, select = -edunum)\n",
    "y <- ohi$edunum\n",
    "\n",
    "model_rf <- randomForest(edunum ~ . , data = data.tr, ntree = 100)\n",
    "model_mn <- multinom(edunum ~ . , data=data.tr)\n",
    "model_svm <- svm(edunum ~ . , data=data.tr)\n",
    "\n",
    "pred_rf <- predict(model_rf, x)\n",
    "pred_mn <- predict(model_mn, x)\n",
    "pred_svm <- predict(model_svm, x)\n",
    "\n",
    "예측력_rf <- mean(pred_rf == y)\n",
    "예측력_mn <- mean(pred_mn == y)\n",
    "예측력_svm <- mean(pred_svm == y)\n",
    "\n",
    "예측력_rf\n",
    "예측력_mn\n",
    "예측력_svm"
   ]
  },
  {
   "cell_type": "markdown",
   "metadata": {},
   "source": []
  },
  {
   "cell_type": "code",
   "execution_count": null,
   "metadata": {
    "vscode": {
     "languageId": "r"
    }
   },
   "outputs": [],
   "source": []
  }
 ],
 "metadata": {
  "kernelspec": {
   "display_name": "R",
   "language": "R",
   "name": "ir"
  },
  "language_info": {
   "codemirror_mode": "r",
   "file_extension": ".r",
   "mimetype": "text/x-r-source",
   "name": "R",
   "pygments_lexer": "r",
   "version": "3.6.1"
  },
  "orig_nbformat": 4
 },
 "nbformat": 4,
 "nbformat_minor": 2
}
