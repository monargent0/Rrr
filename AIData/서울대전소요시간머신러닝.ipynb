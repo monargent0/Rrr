{
 "cells": [
  {
   "cell_type": "code",
   "execution_count": 2,
   "metadata": {
    "vscode": {
     "languageId": "r"
    }
   },
   "outputs": [],
   "source": [
    "library(caret)\n",
    "library(dplyr)\n",
    "options(warn = -1)\n",
    "library(caret)\n",
    "library(nnet)\n",
    "library(e1071)\n",
    "library(randomForest)\n",
    "library(party)\n",
    "library(NbClust)"
   ]
  },
  {
   "cell_type": "code",
   "execution_count": 513,
   "metadata": {
    "vscode": {
     "languageId": "r"
    }
   },
   "outputs": [
    {
     "data": {
      "text/html": [
       "<table>\n",
       "<thead><tr><th scope=col>날짜</th><th scope=col>일차</th><th scope=col>출발시간</th><th scope=col>소요시간</th></tr></thead>\n",
       "<tbody>\n",
       "\t<tr><td>2013-02-08</td><td>0         </td><td>0         </td><td> 91       </td></tr>\n",
       "\t<tr><td>2013-02-09</td><td>1         </td><td>0         </td><td>132       </td></tr>\n",
       "\t<tr><td>2013-02-10</td><td>2         </td><td>0         </td><td> 83       </td></tr>\n",
       "\t<tr><td>2013-02-11</td><td>3         </td><td>0         </td><td> 87       </td></tr>\n",
       "\t<tr><td>2013-02-12</td><td>4         </td><td>0         </td><td> 84       </td></tr>\n",
       "\t<tr><td>2013-02-08</td><td>0         </td><td>1         </td><td> 88       </td></tr>\n",
       "</tbody>\n",
       "</table>\n"
      ],
      "text/latex": [
       "\\begin{tabular}{r|llll}\n",
       " 날짜 & 일차 & 출발시간 & 소요시간\\\\\n",
       "\\hline\n",
       "\t 2013-02-08 & 0          & 0          &  91       \\\\\n",
       "\t 2013-02-09 & 1          & 0          & 132       \\\\\n",
       "\t 2013-02-10 & 2          & 0          &  83       \\\\\n",
       "\t 2013-02-11 & 3          & 0          &  87       \\\\\n",
       "\t 2013-02-12 & 4          & 0          &  84       \\\\\n",
       "\t 2013-02-08 & 0          & 1          &  88       \\\\\n",
       "\\end{tabular}\n"
      ],
      "text/markdown": [
       "\n",
       "| 날짜 | 일차 | 출발시간 | 소요시간 |\n",
       "|---|---|---|---|\n",
       "| 2013-02-08 | 0          | 0          |  91        |\n",
       "| 2013-02-09 | 1          | 0          | 132        |\n",
       "| 2013-02-10 | 2          | 0          |  83        |\n",
       "| 2013-02-11 | 3          | 0          |  87        |\n",
       "| 2013-02-12 | 4          | 0          |  84        |\n",
       "| 2013-02-08 | 0          | 1          |  88        |\n",
       "\n"
      ],
      "text/plain": [
       "  날짜       일차 출발시간 소요시간\n",
       "1 2013-02-08 0    0         91     \n",
       "2 2013-02-09 1    0        132     \n",
       "3 2013-02-10 2    0         83     \n",
       "4 2013-02-11 3    0         87     \n",
       "5 2013-02-12 4    0         84     \n",
       "6 2013-02-08 0    1         88     "
      ]
     },
     "metadata": {},
     "output_type": "display_data"
    }
   ],
   "source": [
    "서울대전앞뒤2일 <- read.csv('rproject/alldata.csv')[,1:4]\n",
    "서울대전앞뒤2일[,1] <- as.Date(서울대전앞뒤2일[,1])\n",
    "head(서울대전앞뒤2일)\n"
   ]
  },
  {
   "cell_type": "code",
   "execution_count": 514,
   "metadata": {
    "vscode": {
     "languageId": "r"
    }
   },
   "outputs": [
    {
     "data": {
      "text/html": [
       "68.3087719298246"
      ],
      "text/latex": [
       "68.3087719298246"
      ],
      "text/markdown": [
       "68.3087719298246"
      ],
      "text/plain": [
       "[1] 68.30877"
      ]
     },
     "metadata": {},
     "output_type": "display_data"
    }
   ],
   "source": [
    "sum <- 0\n",
    "\n",
    "for (i in 1:100){\n",
    "  samp <- createDataPartition(서울대전앞뒤2일$소요시간, p=0.7, list=F)\n",
    "  data.tr <- 서울대전앞뒤2일[samp,]\n",
    "  data.test <- 서울대전앞뒤2일[-samp,]\n",
    "\n",
    "  x <- subset(data.test, select = -소요시간)\n",
    "  y <- data.test$소요시간\n",
    "\n",
    "  model_rf <- randomForest(소요시간 ~ . , data = data.tr, ntree = 100)\n",
    "  pred_rf <- predict(model_rf, x)\n",
    "  예측력_rf <- mean((pred_rf*0.9 < y) & (pred_rf*1.1 > y)) \n",
    "  sum <- sum + 예측력_rf\n",
    "}\n",
    "\n",
    "sum\n",
    "\n"
   ]
  },
  {
   "cell_type": "markdown",
   "metadata": {},
   "source": []
  },
  {
   "cell_type": "code",
   "execution_count": 515,
   "metadata": {
    "vscode": {
     "languageId": "r"
    }
   },
   "outputs": [
    {
     "ename": "ERROR",
     "evalue": "Error in eval(expr, envir, enclos): 객체 '다'를 찾을 수 없습니다\n",
     "output_type": "error",
     "traceback": [
      "Error in eval(expr, envir, enclos): 객체 '다'를 찾을 수 없습니다\nTraceback:\n"
     ]
    }
   ],
   "source": [
    "다 : 66.8\n",
    "1:4 : 68.3"
   ]
  },
  {
   "cell_type": "code",
   "execution_count": null,
   "metadata": {
    "vscode": {
     "languageId": "r"
    }
   },
   "outputs": [],
   "source": []
  }
 ],
 "metadata": {
  "kernelspec": {
   "display_name": "R",
   "language": "R",
   "name": "ir"
  },
  "language_info": {
   "codemirror_mode": "r",
   "file_extension": ".r",
   "mimetype": "text/x-r-source",
   "name": "R",
   "pygments_lexer": "r",
   "version": "3.6.1"
  },
  "orig_nbformat": 4
 },
 "nbformat": 4,
 "nbformat_minor": 2
}
