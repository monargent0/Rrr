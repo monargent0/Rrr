{
 "cells": [
  {
   "cell_type": "markdown",
   "metadata": {},
   "source": [
    "# Mushroom\n",
    "http://archive.ics.uci.edu/ml/datasets/Mushroom\n",
    "- 8124종류의 버섯의 특징과 독의 유무를 정리해 놓은 데이터셋\n",
    "- 버섯 모양의 특징을 기반으로 독의 유무를 판단\n",
    "\n",
    "한 줄(row)이 버섯의 한 종류.\n",
    "1번째 컬럼은 독의 유무 : 독(p) , 식물 (e)\n",
    "2번쨰 컬럼은 버섯의 모리모양 : b(벨 형태), c(원뿔), x(볼록), f(평평), k(혹), s(오목)\n",
    "4번째 컬럼은 버섯의 머리색 : n(갈색), b(황갈색), c(연한 갈색), g(회색)\n",
    "\n",
    "- 자세한 내용은 위의 사이트에서 확인\n",
    "\n",
    "- 인공신경망, 의사결정나무, 랜덤포레스트, SVM, 로지스틱 회귀분석 "
   ]
  },
  {
   "cell_type": "code",
   "execution_count": 2,
   "metadata": {
    "vscode": {
     "languageId": "r"
    }
   },
   "outputs": [
    {
     "name": "stderr",
     "output_type": "stream",
     "text": [
      "Loading required package: lattice\n",
      "Loading required package: ggplot2\n",
      "Registered S3 methods overwritten by 'ggplot2':\n",
      "  method         from \n",
      "  [.quosures     rlang\n",
      "  c.quosures     rlang\n",
      "  print.quosures rlang\n",
      "randomForest 4.6-14\n",
      "Type rfNews() to see new features/changes/bug fixes.\n",
      "\n",
      "Attaching package: ‘randomForest’\n",
      "\n",
      "The following object is masked from ‘package:ggplot2’:\n",
      "\n",
      "    margin\n",
      "\n",
      "Loading required package: grid\n",
      "Loading required package: mvtnorm\n",
      "Loading required package: modeltools\n",
      "Loading required package: stats4\n",
      "Loading required package: strucchange\n",
      "Loading required package: zoo\n",
      "\n",
      "Attaching package: ‘zoo’\n",
      "\n",
      "The following objects are masked from ‘package:base’:\n",
      "\n",
      "    as.Date, as.Date.numeric\n",
      "\n",
      "Loading required package: sandwich\n",
      "\n",
      "Attaching package: ‘dplyr’\n",
      "\n",
      "The following object is masked from ‘package:randomForest’:\n",
      "\n",
      "    combine\n",
      "\n",
      "The following objects are masked from ‘package:stats’:\n",
      "\n",
      "    filter, lag\n",
      "\n",
      "The following objects are masked from ‘package:base’:\n",
      "\n",
      "    intersect, setdiff, setequal, union\n",
      "\n"
     ]
    }
   ],
   "source": [
    "options(warn = -1)\n",
    "library(caret)\n",
    "library(nnet)\n",
    "library(e1071)\n",
    "library(randomForest)\n",
    "library(party)\n",
    "\n",
    "\n",
    "library(dplyr)"
   ]
  },
  {
   "cell_type": "markdown",
   "metadata": {},
   "source": [
    "### archive.ics.uci.edu/ml/datasets/Mushroom > 데이터셋 많음\n",
    "- 8024종류의 버섯의 특징과 독의 유무를 정리한 데이터셋\n",
    "- 버섯 모양의 특징을 기반으로 독의 유무를 판단\n",
    "\n",
    "한 줄(row)이 버섯 한 종류\n",
    "- p 컬럼(1): p - poison, e - eatable\n",
    "- x 컬럼(2): 버섯의 머리모양 b: 벨형태, c: 원뿔형태, x: 볼록형태, f: 평평, k: 혹, s: 오목\n",
    "- n 컬럼(4): 버섯의 머리색 n(갈색), b(황갈색), c(연한갈색), g(회색)\n",
    "\n",
    "* 자세한 내용은 위의 사이트에서 확인"
   ]
  },
  {
   "cell_type": "code",
   "execution_count": 2,
   "metadata": {
    "vscode": {
     "languageId": "r"
    }
   },
   "outputs": [],
   "source": [
    "IGN <- function(data.tr, x, y){\n",
    "  model <- nnet(V1 ~ . , data = data.tr, size=3 )\n",
    "  pred <- predict(model, x, type = \"class\")\n",
    "  return(mean(pred == y))\n",
    "}"
   ]
  },
  {
   "cell_type": "code",
   "execution_count": 3,
   "metadata": {
    "vscode": {
     "languageId": "r"
    }
   },
   "outputs": [],
   "source": [
    "DMT <- function(data.tr, x, y){\n",
    "  model <- ctree(V1 ~ . , data = data.tr )\n",
    "  pred <- predict(model, x)\n",
    "  return(mean(pred == y))\n",
    "}"
   ]
  },
  {
   "cell_type": "code",
   "execution_count": 4,
   "metadata": {
    "vscode": {
     "languageId": "r"
    }
   },
   "outputs": [],
   "source": [
    "RF <- function(data.tr, x, y){\n",
    "  model <- randomForest(V1 ~ . , data = data.tr, ntree = 100 )\n",
    "  pred <- predict(model, x)\n",
    "  return(mean(pred == y))\n",
    "}\n"
   ]
  },
  {
   "cell_type": "code",
   "execution_count": 5,
   "metadata": {
    "vscode": {
     "languageId": "r"
    }
   },
   "outputs": [],
   "source": [
    "SVM <- function(data.tr, x, y){\n",
    "  model = svm(V1 ~ . , data=data.tr)\n",
    "  pred <- predict(model, x)\n",
    "  return(mean(pred == y))\n",
    "}\n"
   ]
  },
  {
   "cell_type": "code",
   "execution_count": 6,
   "metadata": {
    "vscode": {
     "languageId": "r"
    }
   },
   "outputs": [],
   "source": [
    "MRR <- function(data.tr, x, y){\n",
    "  model = multinom(V1 ~ . , data=data.tr)\n",
    "  pred <- predict(model, x)\n",
    "  return(mean(pred == y))\n",
    "}"
   ]
  },
  {
   "cell_type": "code",
   "execution_count": 10,
   "metadata": {
    "vscode": {
     "languageId": "r"
    }
   },
   "outputs": [],
   "source": [
    "반복수행 <- function(n){\n",
    "\n",
    "  m <- read.csv('../Data/mushroom.csv', header=F)[, -17]\n",
    "\n",
    "  samp <- createDataPartition(m$V1, p=0.7, list=F)\n",
    "\n",
    "  # 학습용 데이터 만들기\n",
    "  data.tr <- m[samp,]\n",
    "  # 검증용 데이터 만들기\n",
    "  data.test <- m[-samp,]\n",
    "  # 문제 및 정답 만들기\n",
    "  x <- subset(data.test, select = -V1)\n",
    "  y <- data.test$V1\n",
    "\n",
    "\n",
    "  ignS = 0\n",
    "  dmtS = 0\n",
    "  rfS = 0\n",
    "  svmS = 0\n",
    "  mrrS = 0\n",
    "\n",
    "  for(i in 1:n){\n",
    "    ignS = ignS + IGN(data.tr, x, y)\n",
    "    dmtS = dmtS + DMT(data.tr, x, y)\n",
    "    rfS = rfS + RF(data.tr, x, y)\n",
    "    svmS = svmS + SVM(data.tr, x, y)\n",
    "    mrrS = mrrS + MRR(data.tr, x, y)\n",
    "  }\n",
    "\n",
    "  예측력 <- c(ignS, dmtS, rfS, svmS, mrrS)\n",
    "  예측력 <- round(예측력 / n , 8)\n",
    "  result <- data.frame(예측력)\n",
    "  rownames(result) = c('인공신경망', '의사결정나무', 'RandmForest', 'SVM', '로지스틱회귀분석')\n",
    "\n",
    "  return(result)\n",
    "}"
   ]
  },
  {
   "cell_type": "code",
   "execution_count": 11,
   "metadata": {
    "vscode": {
     "languageId": "r"
    }
   },
   "outputs": [
    {
     "name": "stdout",
     "output_type": "stream",
     "text": [
      "# weights:  292\n",
      "initial  value 3830.060632 \n",
      "iter  10 value 445.910451\n",
      "iter  20 value 155.250497\n",
      "iter  30 value 108.791286\n",
      "iter  40 value 77.695082\n",
      "iter  50 value 21.385897\n",
      "iter  60 value 15.408340\n",
      "iter  70 value 13.262888\n",
      "iter  80 value 13.212786\n",
      "iter  90 value 12.594686\n",
      "iter 100 value 0.020628\n",
      "final  value 0.020628 \n",
      "stopped after 100 iterations\n",
      "# weights:  97 (96 variable)\n",
      "initial  value 3942.621163 \n",
      "iter  10 value 147.193626\n",
      "iter  20 value 15.289145\n",
      "iter  30 value 1.591655\n",
      "iter  40 value 0.591773\n",
      "iter  50 value 0.216603\n",
      "iter  60 value 0.067702\n",
      "iter  70 value 0.022862\n",
      "iter  80 value 0.011356\n",
      "iter  90 value 0.002589\n",
      "iter 100 value 0.001715\n",
      "final  value 0.001715 \n",
      "stopped after 100 iterations\n",
      "# weights:  292\n",
      "initial  value 3883.103236 \n",
      "iter  10 value 210.586389\n",
      "iter  20 value 34.951549\n",
      "iter  30 value 22.003600\n",
      "iter  40 value 0.050388\n",
      "iter  50 value 0.000178\n",
      "final  value 0.000098 \n",
      "converged\n",
      "# weights:  97 (96 variable)\n",
      "initial  value 3942.621163 \n",
      "iter  10 value 147.193626\n",
      "iter  20 value 15.289145\n",
      "iter  30 value 1.591655\n",
      "iter  40 value 0.591773\n",
      "iter  50 value 0.216603\n",
      "iter  60 value 0.067702\n",
      "iter  70 value 0.022862\n",
      "iter  80 value 0.011356\n",
      "iter  90 value 0.002589\n",
      "iter 100 value 0.001715\n",
      "final  value 0.001715 \n",
      "stopped after 100 iterations\n",
      "# weights:  292\n",
      "initial  value 3850.147180 \n",
      "iter  10 value 264.023409\n",
      "iter  20 value 25.352398\n",
      "iter  30 value 23.738641\n",
      "iter  40 value 23.438548\n",
      "iter  50 value 19.994921\n",
      "iter  60 value 13.988439\n",
      "iter  70 value 13.982714\n",
      "iter  80 value 13.977773\n",
      "iter  80 value 13.977773\n",
      "iter  80 value 13.977773\n",
      "final  value 13.977773 \n",
      "converged\n",
      "# weights:  97 (96 variable)\n",
      "initial  value 3942.621163 \n",
      "iter  10 value 147.193626\n",
      "iter  20 value 15.289145\n",
      "iter  30 value 1.591655\n",
      "iter  40 value 0.591773\n",
      "iter  50 value 0.216603\n",
      "iter  60 value 0.067702\n",
      "iter  70 value 0.022862\n",
      "iter  80 value 0.011356\n",
      "iter  90 value 0.002589\n",
      "iter 100 value 0.001715\n",
      "final  value 0.001715 \n",
      "stopped after 100 iterations\n",
      "# weights:  292\n",
      "initial  value 4102.119738 \n",
      "iter  10 value 552.486747\n",
      "iter  20 value 270.394972\n",
      "iter  30 value 260.822193\n",
      "iter  40 value 260.710941\n",
      "iter  50 value 260.706937\n",
      "final  value 260.705754 \n",
      "converged\n",
      "# weights:  97 (96 variable)\n",
      "initial  value 3942.621163 \n",
      "iter  10 value 147.193626\n",
      "iter  20 value 15.289145\n",
      "iter  30 value 1.591655\n",
      "iter  40 value 0.591773\n",
      "iter  50 value 0.216603\n",
      "iter  60 value 0.067702\n",
      "iter  70 value 0.022862\n",
      "iter  80 value 0.011356\n",
      "iter  90 value 0.002589\n",
      "iter 100 value 0.001715\n",
      "final  value 0.001715 \n",
      "stopped after 100 iterations\n",
      "# weights:  292\n",
      "initial  value 4029.537186 \n",
      "iter  10 value 449.870913\n",
      "iter  20 value 254.406004\n",
      "iter  30 value 254.234159\n",
      "iter  40 value 254.231219\n",
      "final  value 254.230960 \n",
      "converged\n",
      "# weights:  97 (96 variable)\n",
      "initial  value 3942.621163 \n",
      "iter  10 value 147.193626\n",
      "iter  20 value 15.289145\n",
      "iter  30 value 1.591655\n",
      "iter  40 value 0.591773\n",
      "iter  50 value 0.216603\n",
      "iter  60 value 0.067702\n",
      "iter  70 value 0.022862\n",
      "iter  80 value 0.011356\n",
      "iter  90 value 0.002589\n",
      "iter 100 value 0.001715\n",
      "final  value 0.001715 \n",
      "stopped after 100 iterations\n"
     ]
    },
    {
     "data": {
      "text/html": [
       "<table>\n",
       "<thead><tr><th></th><th scope=col>예측력</th></tr></thead>\n",
       "<tbody>\n",
       "\t<tr><th scope=row>인공신경망</th><td>0.9943350</td></tr>\n",
       "\t<tr><th scope=row>의사결정나무</th><td>0.9979474</td></tr>\n",
       "\t<tr><th scope=row>RandmForest</th><td>1.0000000</td></tr>\n",
       "\t<tr><th scope=row>SVM</th><td>0.9946634</td></tr>\n",
       "\t<tr><th scope=row>로지스틱회귀분석</th><td>1.0000000</td></tr>\n",
       "</tbody>\n",
       "</table>\n"
      ],
      "text/latex": [
       "\\begin{tabular}{r|l}\n",
       "  & 예측력\\\\\n",
       "\\hline\n",
       "\t인공신경망 & 0.9943350\\\\\n",
       "\t의사결정나무 & 0.9979474\\\\\n",
       "\tRandmForest & 1.0000000\\\\\n",
       "\tSVM & 0.9946634\\\\\n",
       "\t로지스틱회귀분석 & 1.0000000\\\\\n",
       "\\end{tabular}\n"
      ],
      "text/markdown": [
       "\n",
       "| <!--/--> | 예측력 |\n",
       "|---|---|\n",
       "| 인공신경망 | 0.9943350 |\n",
       "| 의사결정나무 | 0.9979474 |\n",
       "| RandmForest | 1.0000000 |\n",
       "| SVM | 0.9946634 |\n",
       "| 로지스틱회귀분석 | 1.0000000 |\n",
       "\n"
      ],
      "text/plain": [
       "                 예측력   \n",
       "인공신경망       0.9943350\n",
       "의사결정나무     0.9979474\n",
       "RandmForest      1.0000000\n",
       "SVM              0.9946634\n",
       "로지스틱회귀분석 1.0000000"
      ]
     },
     "metadata": {},
     "output_type": "display_data"
    }
   ],
   "source": [
    "반복수행(5)\n"
   ]
  },
  {
   "cell_type": "code",
   "execution_count": 13,
   "metadata": {
    "vscode": {
     "languageId": "r"
    }
   },
   "outputs": [
    {
     "name": "stdout",
     "output_type": "stream",
     "text": [
      "# weights:  292\n",
      "initial  value 4011.357250 \n",
      "iter  10 value 676.746936\n",
      "iter  20 value 47.909277\n",
      "iter  30 value 0.519085\n",
      "iter  40 value 0.021931\n",
      "iter  50 value 0.003386\n",
      "iter  60 value 0.000538\n",
      "iter  70 value 0.000164\n",
      "iter  80 value 0.000159\n",
      "final  value 0.000087 \n",
      "converged\n",
      "# weights:  97 (96 variable)\n",
      "initial  value 3942.621163 \n",
      "iter  10 value 138.301992\n",
      "iter  20 value 16.496836\n",
      "iter  30 value 1.416622\n",
      "iter  40 value 0.524633\n",
      "iter  50 value 0.155748\n",
      "iter  60 value 0.057190\n",
      "iter  70 value 0.015528\n",
      "iter  80 value 0.008608\n",
      "iter  90 value 0.001606\n",
      "iter 100 value 0.001075\n",
      "final  value 0.001075 \n",
      "stopped after 100 iterations\n",
      "1 0.9987685 1 0.9971264 1# weights:  292\n",
      "initial  value 3961.694133 \n",
      "iter  10 value 364.880774\n",
      "iter  20 value 231.301397\n",
      "iter  30 value 17.580511\n",
      "iter  40 value 0.543402\n",
      "iter  50 value 0.116868\n",
      "iter  60 value 0.008757\n",
      "iter  70 value 0.003402\n",
      "iter  80 value 0.000243\n",
      "iter  90 value 0.000243\n",
      "iter 100 value 0.000234\n",
      "final  value 0.000234 \n",
      "stopped after 100 iterations\n",
      "# weights:  97 (96 variable)\n",
      "initial  value 3942.621163 \n",
      "iter  10 value 138.301992\n",
      "iter  20 value 16.496836\n",
      "iter  30 value 1.416622\n",
      "iter  40 value 0.524633\n",
      "iter  50 value 0.155748\n",
      "iter  60 value 0.057190\n",
      "iter  70 value 0.015528\n",
      "iter  80 value 0.008608\n",
      "iter  90 value 0.001606\n",
      "iter 100 value 0.001075\n",
      "final  value 0.001075 \n",
      "stopped after 100 iterations\n",
      "1.999179 1.997537 2 1.994253 2# weights:  292\n",
      "initial  value 4512.550840 \n",
      "iter  10 value 370.678992\n",
      "iter  20 value 63.697135\n",
      "iter  30 value 42.154771\n",
      "iter  40 value 33.392113\n",
      "iter  50 value 24.844527\n",
      "iter  60 value 23.842436\n",
      "iter  70 value 21.747156\n",
      "iter  80 value 16.297149\n",
      "iter  90 value 0.365736\n",
      "iter 100 value 0.007432\n",
      "final  value 0.007432 \n",
      "stopped after 100 iterations\n",
      "# weights:  97 (96 variable)\n",
      "initial  value 3942.621163 \n",
      "iter  10 value 138.301992\n",
      "iter  20 value 16.496836\n",
      "iter  30 value 1.416622\n",
      "iter  40 value 0.524633\n",
      "iter  50 value 0.155748\n",
      "iter  60 value 0.057190\n",
      "iter  70 value 0.015528\n",
      "iter  80 value 0.008608\n",
      "iter  90 value 0.001606\n",
      "iter 100 value 0.001075\n",
      "final  value 0.001075 \n",
      "stopped after 100 iterations\n",
      "2.999179 2.996305 3 2.991379 3# weights:  292\n",
      "initial  value 4425.716768 \n",
      "iter  10 value 1527.193457\n",
      "iter  20 value 598.764699\n",
      "iter  30 value 296.472650\n",
      "iter  40 value 287.657389\n",
      "iter  50 value 286.380846\n",
      "iter  60 value 286.377823\n",
      "iter  70 value 286.377407\n",
      "final  value 286.377363 \n",
      "converged\n",
      "# weights:  97 (96 variable)\n",
      "initial  value 3942.621163 \n",
      "iter  10 value 138.301992\n",
      "iter  20 value 16.496836\n",
      "iter  30 value 1.416622\n",
      "iter  40 value 0.524633\n",
      "iter  50 value 0.155748\n",
      "iter  60 value 0.057190\n",
      "iter  70 value 0.015528\n",
      "iter  80 value 0.008608\n",
      "iter  90 value 0.001606\n",
      "iter 100 value 0.001075\n",
      "final  value 0.001075 \n",
      "stopped after 100 iterations\n",
      "3.989737 3.995074 4 3.988506 4# weights:  292\n",
      "initial  value 4259.890705 \n",
      "iter  10 value 608.300652\n",
      "iter  20 value 257.770420\n",
      "iter  30 value 252.757347\n",
      "iter  40 value 229.728887\n",
      "iter  50 value 41.830289\n",
      "iter  60 value 36.924269\n",
      "iter  70 value 36.900238\n",
      "iter  80 value 36.899516\n",
      "iter  90 value 36.898481\n",
      "final  value 36.898420 \n",
      "converged\n",
      "# weights:  97 (96 variable)\n",
      "initial  value 3942.621163 \n",
      "iter  10 value 138.301992\n",
      "iter  20 value 16.496836\n",
      "iter  30 value 1.416622\n",
      "iter  40 value 0.524633\n",
      "iter  50 value 0.155748\n",
      "iter  60 value 0.057190\n",
      "iter  70 value 0.015528\n",
      "iter  80 value 0.008608\n",
      "iter  90 value 0.001606\n",
      "iter 100 value 0.001075\n",
      "final  value 0.001075 \n",
      "stopped after 100 iterations\n",
      "4.988506 4.993842 5 4.985632 5"
     ]
    }
   ],
   "source": [
    "m <- read.csv('../Data/mushroom.csv', header=F)[, -17]\n",
    "\n",
    "samp <- createDataPartition(m$V1, p=0.7, list=F)\n",
    "\n",
    "# 학습용 데이터 만들기\n",
    "data.tr <- m[samp,]\n",
    "# 검증용 데이터 만들기\n",
    "data.test <- m[-samp,]\n",
    "# 문제 및 정답 만들기\n",
    "x <- subset(data.test, select = -V1)\n",
    "y <- data.test$V1\n",
    "ignS = 0\n",
    "dmtS = 0\n",
    "rfS = 0\n",
    "svmS = 0\n",
    "mrrS = 0\n",
    "\n",
    "for(i in 1:5){\n",
    "  ignS = ignS + IGN(data.tr, x, y)\n",
    "  dmtS = dmtS + DMT(data.tr, x, y)\n",
    "  rfS = rfS + RF(data.tr, x, y)\n",
    "  svmS = svmS + SVM(data.tr, x, y)\n",
    "  mrrS = mrrS + MRR(data.tr, x, y)\n",
    "\n",
    "  cat(ignS , dmtS , rfS , svmS, mrrS)\n",
    "}"
   ]
  },
  {
   "cell_type": "code",
   "execution_count": 4,
   "metadata": {
    "vscode": {
     "languageId": "r"
    }
   },
   "outputs": [
    {
     "name": "stdout",
     "output_type": "stream",
     "text": [
      "'data.frame':\t8124 obs. of  23 variables:\n",
      " $ V1 : Factor w/ 2 levels \"e\",\"p\": 2 1 1 2 1 1 1 1 2 1 ...\n",
      " $ V2 : Factor w/ 6 levels \"b\",\"c\",\"f\",\"k\",..: 6 6 1 6 6 6 1 1 6 1 ...\n",
      " $ V3 : Factor w/ 4 levels \"f\",\"g\",\"s\",\"y\": 3 3 3 4 3 4 3 4 4 3 ...\n",
      " $ V4 : Factor w/ 10 levels \"b\",\"c\",\"e\",\"g\",..: 5 10 9 9 4 10 9 9 9 10 ...\n",
      " $ V5 : Factor w/ 2 levels \"f\",\"t\": 2 2 2 2 1 2 2 2 2 2 ...\n",
      " $ V6 : Factor w/ 9 levels \"a\",\"c\",\"f\",\"l\",..: 7 1 4 7 6 1 1 4 7 1 ...\n",
      " $ V7 : Factor w/ 2 levels \"a\",\"f\": 2 2 2 2 2 2 2 2 2 2 ...\n",
      " $ V8 : Factor w/ 2 levels \"c\",\"w\": 1 1 1 1 2 1 1 1 1 1 ...\n",
      " $ V9 : Factor w/ 2 levels \"b\",\"n\": 2 1 1 2 1 1 1 1 2 1 ...\n",
      " $ V10: Factor w/ 12 levels \"b\",\"e\",\"g\",\"h\",..: 5 5 6 6 5 6 3 6 8 3 ...\n",
      " $ V11: Factor w/ 2 levels \"e\",\"t\": 1 1 1 1 2 1 1 1 1 1 ...\n",
      " $ V12: Factor w/ 5 levels \"?\",\"b\",\"c\",\"e\",..: 4 3 3 4 4 3 3 3 4 3 ...\n",
      " $ V13: Factor w/ 4 levels \"f\",\"k\",\"s\",\"y\": 3 3 3 3 3 3 3 3 3 3 ...\n",
      " $ V14: Factor w/ 4 levels \"f\",\"k\",\"s\",\"y\": 3 3 3 3 3 3 3 3 3 3 ...\n",
      " $ V15: Factor w/ 9 levels \"b\",\"c\",\"e\",\"g\",..: 8 8 8 8 8 8 8 8 8 8 ...\n",
      " $ V16: Factor w/ 9 levels \"b\",\"c\",\"e\",\"g\",..: 8 8 8 8 8 8 8 8 8 8 ...\n",
      " $ V17: Factor w/ 1 level \"p\": 1 1 1 1 1 1 1 1 1 1 ...\n",
      " $ V18: Factor w/ 4 levels \"n\",\"o\",\"w\",\"y\": 3 3 3 3 3 3 3 3 3 3 ...\n",
      " $ V19: Factor w/ 3 levels \"n\",\"o\",\"t\": 2 2 2 2 2 2 2 2 2 2 ...\n",
      " $ V20: Factor w/ 5 levels \"e\",\"f\",\"l\",\"n\",..: 5 5 5 5 1 5 5 5 5 5 ...\n",
      " $ V21: Factor w/ 9 levels \"b\",\"h\",\"k\",\"n\",..: 3 4 4 3 4 3 3 4 3 3 ...\n",
      " $ V22: Factor w/ 6 levels \"a\",\"c\",\"n\",\"s\",..: 4 3 3 4 1 3 3 4 5 4 ...\n",
      " $ V23: Factor w/ 7 levels \"d\",\"g\",\"l\",\"m\",..: 6 2 4 6 2 2 4 4 2 4 ...\n"
     ]
    },
    {
     "data": {
      "text/plain": [
       " V1       V2       V3             V4       V5             V6       V7      \n",
       " e:4208   b: 452   f:2320   n      :2284   f:4748   n      :3528   a: 210  \n",
       " p:3916   c:   4   g:   4   g      :1840   t:3376   f      :2160   f:7914  \n",
       "          f:3152   s:2556   e      :1500            s      : 576           \n",
       "          k: 828   y:3244   y      :1072            y      : 576           \n",
       "          s:  32            w      :1040            a      : 400           \n",
       "          x:3656            b      : 168            l      : 400           \n",
       "                            (Other): 220            (Other): 484           \n",
       " V8       V9            V10       V11      V12      V13      V14     \n",
       " c:6812   b:5612   b      :1728   e:3516   ?:2480   f: 552   f: 600  \n",
       " w:1312   n:2512   p      :1492   t:4608   b:3776   k:2372   k:2304  \n",
       "                   w      :1202            c: 556   s:5176   s:4936  \n",
       "                   n      :1048            e:1120   y:  24   y: 284  \n",
       "                   g      : 752            r: 192                    \n",
       "                   h      : 732                                      \n",
       "                   (Other):1170                                      \n",
       "      V15            V16       V17      V18      V19      V20     \n",
       " w      :4464   w      :4384   p:8124   n:  96   n:  36   e:2776  \n",
       " p      :1872   p      :1872            o:  96   o:7488   f:  48  \n",
       " g      : 576   g      : 576            w:7924   t: 600   l:1296  \n",
       " n      : 448   n      : 512            y:   8            n:  36  \n",
       " b      : 432   b      : 432                              p:3968  \n",
       " o      : 192   o      : 192                                      \n",
       " (Other): 140   (Other): 156                                      \n",
       "      V21       V22      V23     \n",
       " w      :2388   a: 384   d:3148  \n",
       " n      :1968   c: 340   g:2148  \n",
       " k      :1872   n: 400   l: 832  \n",
       " h      :1632   s:1248   m: 292  \n",
       " r      :  72   v:4040   p:1144  \n",
       " b      :  48   y:1712   u: 368  \n",
       " (Other): 144            w: 192  "
      ]
     },
     "metadata": {},
     "output_type": "display_data"
    }
   ],
   "source": [
    "m <- read.csv('../Data/mushroom.csv', header=F)\n",
    "str(m) # 전부 팩터 ,\n",
    "m <- arrange(m , m$V1) \n",
    "summary(m) # e,p의 갯수가 다르다. 다만, 비율이 6:4 (데이터가 많은 경우 7:3 10만건, 딥러닝 1000만건)까지는 그냥 사용해도 된다. (데이터 : 데이터값 하나, 샘플 : row 한줄, 데이터셋 : 전체 데이터)\n",
    "\n",
    "# 팩터를 숫자로 변환 해도 의미없는 숫자값이다. 행렬데이터로 바꿔야 함. \n",
    "# 행렬로 사용한다. 남성 1,여성 2 보다 0, 1 로 하는것이 낫다 \n"
   ]
  },
  {
   "cell_type": "code",
   "execution_count": 24,
   "metadata": {
    "vscode": {
     "languageId": "r"
    }
   },
   "outputs": [
    {
     "data": {
      "text/html": [
       "<table>\n",
       "<thead><tr><th scope=col>V1_e</th><th scope=col>V1_p</th><th scope=col>V2_b</th><th scope=col>V2_c</th><th scope=col>V2_f</th><th scope=col>V2_k</th><th scope=col>V2_s</th><th scope=col>V2_x</th><th scope=col>V3_f</th><th scope=col>V3_g</th><th scope=col>...</th><th scope=col>V22_s</th><th scope=col>V22_v</th><th scope=col>V22_y</th><th scope=col>V23_d</th><th scope=col>V23_g</th><th scope=col>V23_l</th><th scope=col>V23_m</th><th scope=col>V23_p</th><th scope=col>V23_u</th><th scope=col>V23_w</th></tr></thead>\n",
       "<tbody>\n",
       "\t<tr><td>1  </td><td>0  </td><td>0  </td><td>0  </td><td>0  </td><td>0  </td><td>0  </td><td>1  </td><td>0  </td><td>0  </td><td>...</td><td>0  </td><td>0  </td><td>0  </td><td>0  </td><td>1  </td><td>0  </td><td>0  </td><td>0  </td><td>0  </td><td>0  </td></tr>\n",
       "\t<tr><td>1  </td><td>0  </td><td>1  </td><td>0  </td><td>0  </td><td>0  </td><td>0  </td><td>0  </td><td>0  </td><td>0  </td><td>...</td><td>0  </td><td>0  </td><td>0  </td><td>0  </td><td>0  </td><td>0  </td><td>1  </td><td>0  </td><td>0  </td><td>0  </td></tr>\n",
       "\t<tr><td>1  </td><td>0  </td><td>0  </td><td>0  </td><td>0  </td><td>0  </td><td>0  </td><td>1  </td><td>0  </td><td>0  </td><td>...</td><td>0  </td><td>0  </td><td>0  </td><td>0  </td><td>1  </td><td>0  </td><td>0  </td><td>0  </td><td>0  </td><td>0  </td></tr>\n",
       "\t<tr><td>1  </td><td>0  </td><td>0  </td><td>0  </td><td>0  </td><td>0  </td><td>0  </td><td>1  </td><td>0  </td><td>0  </td><td>...</td><td>0  </td><td>0  </td><td>0  </td><td>0  </td><td>1  </td><td>0  </td><td>0  </td><td>0  </td><td>0  </td><td>0  </td></tr>\n",
       "\t<tr><td>1  </td><td>0  </td><td>1  </td><td>0  </td><td>0  </td><td>0  </td><td>0  </td><td>0  </td><td>0  </td><td>0  </td><td>...</td><td>0  </td><td>0  </td><td>0  </td><td>0  </td><td>0  </td><td>0  </td><td>1  </td><td>0  </td><td>0  </td><td>0  </td></tr>\n",
       "\t<tr><td>1  </td><td>0  </td><td>1  </td><td>0  </td><td>0  </td><td>0  </td><td>0  </td><td>0  </td><td>0  </td><td>0  </td><td>...</td><td>1  </td><td>0  </td><td>0  </td><td>0  </td><td>0  </td><td>0  </td><td>1  </td><td>0  </td><td>0  </td><td>0  </td></tr>\n",
       "</tbody>\n",
       "</table>\n"
      ],
      "text/latex": [
       "\\begin{tabular}{r|lllllllllllllllllllllllllllllllllllllllllllllllllllllllllllllllllllllllllllllllllllllllllllllllllllllllllllllllllllllll}\n",
       " V1\\_e & V1\\_p & V2\\_b & V2\\_c & V2\\_f & V2\\_k & V2\\_s & V2\\_x & V3\\_f & V3\\_g & ... & V22\\_s & V22\\_v & V22\\_y & V23\\_d & V23\\_g & V23\\_l & V23\\_m & V23\\_p & V23\\_u & V23\\_w\\\\\n",
       "\\hline\n",
       "\t 1   & 0   & 0   & 0   & 0   & 0   & 0   & 1   & 0   & 0   & ... & 0   & 0   & 0   & 0   & 1   & 0   & 0   & 0   & 0   & 0  \\\\\n",
       "\t 1   & 0   & 1   & 0   & 0   & 0   & 0   & 0   & 0   & 0   & ... & 0   & 0   & 0   & 0   & 0   & 0   & 1   & 0   & 0   & 0  \\\\\n",
       "\t 1   & 0   & 0   & 0   & 0   & 0   & 0   & 1   & 0   & 0   & ... & 0   & 0   & 0   & 0   & 1   & 0   & 0   & 0   & 0   & 0  \\\\\n",
       "\t 1   & 0   & 0   & 0   & 0   & 0   & 0   & 1   & 0   & 0   & ... & 0   & 0   & 0   & 0   & 1   & 0   & 0   & 0   & 0   & 0  \\\\\n",
       "\t 1   & 0   & 1   & 0   & 0   & 0   & 0   & 0   & 0   & 0   & ... & 0   & 0   & 0   & 0   & 0   & 0   & 1   & 0   & 0   & 0  \\\\\n",
       "\t 1   & 0   & 1   & 0   & 0   & 0   & 0   & 0   & 0   & 0   & ... & 1   & 0   & 0   & 0   & 0   & 0   & 1   & 0   & 0   & 0  \\\\\n",
       "\\end{tabular}\n"
      ],
      "text/markdown": [
       "\n",
       "| V1_e | V1_p | V2_b | V2_c | V2_f | V2_k | V2_s | V2_x | V3_f | V3_g | ... | V22_s | V22_v | V22_y | V23_d | V23_g | V23_l | V23_m | V23_p | V23_u | V23_w |\n",
       "|---|---|---|---|---|---|---|---|---|---|---|---|---|---|---|---|---|---|---|---|---|\n",
       "| 1   | 0   | 0   | 0   | 0   | 0   | 0   | 1   | 0   | 0   | ... | 0   | 0   | 0   | 0   | 1   | 0   | 0   | 0   | 0   | 0   |\n",
       "| 1   | 0   | 1   | 0   | 0   | 0   | 0   | 0   | 0   | 0   | ... | 0   | 0   | 0   | 0   | 0   | 0   | 1   | 0   | 0   | 0   |\n",
       "| 1   | 0   | 0   | 0   | 0   | 0   | 0   | 1   | 0   | 0   | ... | 0   | 0   | 0   | 0   | 1   | 0   | 0   | 0   | 0   | 0   |\n",
       "| 1   | 0   | 0   | 0   | 0   | 0   | 0   | 1   | 0   | 0   | ... | 0   | 0   | 0   | 0   | 1   | 0   | 0   | 0   | 0   | 0   |\n",
       "| 1   | 0   | 1   | 0   | 0   | 0   | 0   | 0   | 0   | 0   | ... | 0   | 0   | 0   | 0   | 0   | 0   | 1   | 0   | 0   | 0   |\n",
       "| 1   | 0   | 1   | 0   | 0   | 0   | 0   | 0   | 0   | 0   | ... | 1   | 0   | 0   | 0   | 0   | 0   | 1   | 0   | 0   | 0   |\n",
       "\n"
      ],
      "text/plain": [
       "  V1_e V1_p V2_b V2_c V2_f V2_k V2_s V2_x V3_f V3_g ... V22_s V22_v V22_y V23_d\n",
       "1 1    0    0    0    0    0    0    1    0    0    ... 0     0     0     0    \n",
       "2 1    0    1    0    0    0    0    0    0    0    ... 0     0     0     0    \n",
       "3 1    0    0    0    0    0    0    1    0    0    ... 0     0     0     0    \n",
       "4 1    0    0    0    0    0    0    1    0    0    ... 0     0     0     0    \n",
       "5 1    0    1    0    0    0    0    0    0    0    ... 0     0     0     0    \n",
       "6 1    0    1    0    0    0    0    0    0    0    ... 1     0     0     0    \n",
       "  V23_g V23_l V23_m V23_p V23_u V23_w\n",
       "1 1     0     0     0     0     0    \n",
       "2 0     0     1     0     0     0    \n",
       "3 1     0     0     0     0     0    \n",
       "4 1     0     0     0     0     0    \n",
       "5 0     0     1     0     0     0    \n",
       "6 0     0     1     0     0     0    "
      ]
     },
     "metadata": {},
     "output_type": "display_data"
    }
   ],
   "source": [
    "# 원핫인코딩 범주형 데이터~\n",
    "library(mltools)\n",
    "library(data.table)\n",
    "\n",
    "head(one_hot(as.data.table(m)))\n"
   ]
  },
  {
   "cell_type": "code",
   "execution_count": 22,
   "metadata": {
    "vscode": {
     "languageId": "r"
    }
   },
   "outputs": [
    {
     "ename": "ERROR",
     "evalue": "Error in `contrasts<-`(`*tmp*`, value = contr.funs[1 + isOF[nn]]): contrasts can be applied only to factors with 2 or more levels\n",
     "output_type": "error",
     "traceback": [
      "Error in `contrasts<-`(`*tmp*`, value = contr.funs[1 + isOF[nn]]): contrasts can be applied only to factors with 2 or more levels\nTraceback:\n",
      "1. data.frame(predict(dummy, newdata = m))",
      "2. predict(dummy, newdata = m)",
      "3. predict.dummyVars(dummy, newdata = m)",
      "4. model.matrix(Terms, m)",
      "5. model.matrix.default(Terms, m)",
      "6. `contrasts<-`(`*tmp*`, value = contr.funs[1 + isOF[nn]])",
      "7. stop(\"contrasts can be applied only to factors with 2 or more levels\")"
     ]
    }
   ],
   "source": [
    "dummy <- dummyVars(~., data = m)\n",
    "mm <- data.frame(predict(dummy, newdata = m))"
   ]
  },
  {
   "cell_type": "code",
   "execution_count": null,
   "metadata": {
    "vscode": {
     "languageId": "r"
    }
   },
   "outputs": [],
   "source": [
    "# 서울열린데이터광장에서 하고싶은 데이터로 주제 정해서 만들기\n",
    "# 컬럼갯수 300개 이상\n",
    "# 목요일에 시작"
   ]
  },
  {
   "cell_type": "markdown",
   "metadata": {},
   "source": [
    "> 5/9 수업끗"
   ]
  }
 ],
 "metadata": {
  "kernelspec": {
   "display_name": "R",
   "language": "R",
   "name": "ir"
  },
  "language_info": {
   "codemirror_mode": "r",
   "file_extension": ".r",
   "mimetype": "text/x-r-source",
   "name": "R",
   "pygments_lexer": "r",
   "version": "3.6.1"
  },
  "orig_nbformat": 4
 },
 "nbformat": 4,
 "nbformat_minor": 2
}
