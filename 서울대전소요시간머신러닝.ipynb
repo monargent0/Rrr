{
 "cells": [
  {
   "cell_type": "code",
   "execution_count": 6,
   "metadata": {
    "vscode": {
     "languageId": "r"
    }
   },
   "outputs": [
    {
     "name": "stderr",
     "output_type": "stream",
     "text": [
      "Loading required package: lattice\n",
      "Loading required package: ggplot2\n",
      "Registered S3 methods overwritten by 'ggplot2':\n",
      "  method         from \n",
      "  [.quosures     rlang\n",
      "  c.quosures     rlang\n",
      "  print.quosures rlang\n",
      "\n",
      "Attaching package: ‘dplyr’\n",
      "\n",
      "The following objects are masked from ‘package:stats’:\n",
      "\n",
      "    filter, lag\n",
      "\n",
      "The following objects are masked from ‘package:base’:\n",
      "\n",
      "    intersect, setdiff, setequal, union\n",
      "\n",
      "randomForest 4.6-14\n",
      "Type rfNews() to see new features/changes/bug fixes.\n",
      "\n",
      "Attaching package: ‘randomForest’\n",
      "\n",
      "The following object is masked from ‘package:dplyr’:\n",
      "\n",
      "    combine\n",
      "\n",
      "The following object is masked from ‘package:ggplot2’:\n",
      "\n",
      "    margin\n",
      "\n",
      "Loading required package: grid\n",
      "Loading required package: mvtnorm\n",
      "Loading required package: modeltools\n",
      "Loading required package: stats4\n",
      "Loading required package: strucchange\n",
      "Loading required package: zoo\n",
      "\n",
      "Attaching package: ‘zoo’\n",
      "\n",
      "The following objects are masked from ‘package:base’:\n",
      "\n",
      "    as.Date, as.Date.numeric\n",
      "\n",
      "Loading required package: sandwich\n"
     ]
    }
   ],
   "source": [
    "library(caret)\n",
    "library(dplyr)\n",
    "options(warn = -1)\n",
    "library(caret)\n",
    "library(nnet)\n",
    "library(e1071)\n",
    "library(randomForest)\n",
    "library(party)\n",
    "library(NbClust)"
   ]
  },
  {
   "cell_type": "code",
   "execution_count": 27,
   "metadata": {
    "vscode": {
     "languageId": "r"
    }
   },
   "outputs": [
    {
     "data": {
      "text/html": [
       "<table>\n",
       "<thead><tr><th scope=col>날짜</th><th scope=col>일차</th><th scope=col>출발시간</th><th scope=col>소요시간</th></tr></thead>\n",
       "<tbody>\n",
       "\t<tr><td>2013-02-08</td><td>0         </td><td>0         </td><td> 91       </td></tr>\n",
       "\t<tr><td>2013-02-09</td><td>1         </td><td>0         </td><td>132       </td></tr>\n",
       "\t<tr><td>2013-02-10</td><td>2         </td><td>0         </td><td> 83       </td></tr>\n",
       "\t<tr><td>2013-02-11</td><td>3         </td><td>0         </td><td> 87       </td></tr>\n",
       "\t<tr><td>2013-02-12</td><td>4         </td><td>0         </td><td> 84       </td></tr>\n",
       "\t<tr><td>2013-02-08</td><td>0         </td><td>1         </td><td> 88       </td></tr>\n",
       "</tbody>\n",
       "</table>\n"
      ],
      "text/latex": [
       "\\begin{tabular}{r|llll}\n",
       " 날짜 & 일차 & 출발시간 & 소요시간\\\\\n",
       "\\hline\n",
       "\t 2013-02-08 & 0          & 0          &  91       \\\\\n",
       "\t 2013-02-09 & 1          & 0          & 132       \\\\\n",
       "\t 2013-02-10 & 2          & 0          &  83       \\\\\n",
       "\t 2013-02-11 & 3          & 0          &  87       \\\\\n",
       "\t 2013-02-12 & 4          & 0          &  84       \\\\\n",
       "\t 2013-02-08 & 0          & 1          &  88       \\\\\n",
       "\\end{tabular}\n"
      ],
      "text/markdown": [
       "\n",
       "| 날짜 | 일차 | 출발시간 | 소요시간 |\n",
       "|---|---|---|---|\n",
       "| 2013-02-08 | 0          | 0          |  91        |\n",
       "| 2013-02-09 | 1          | 0          | 132        |\n",
       "| 2013-02-10 | 2          | 0          |  83        |\n",
       "| 2013-02-11 | 3          | 0          |  87        |\n",
       "| 2013-02-12 | 4          | 0          |  84        |\n",
       "| 2013-02-08 | 0          | 1          |  88        |\n",
       "\n"
      ],
      "text/plain": [
       "  날짜       일차 출발시간 소요시간\n",
       "1 2013-02-08 0    0         91     \n",
       "2 2013-02-09 1    0        132     \n",
       "3 2013-02-10 2    0         83     \n",
       "4 2013-02-11 3    0         87     \n",
       "5 2013-02-12 4    0         84     \n",
       "6 2013-02-08 0    1         88     "
      ]
     },
     "metadata": {},
     "output_type": "display_data"
    }
   ],
   "source": [
    "서울대전앞뒤2일 <- read.csv('../AIData/alldata.csv')[,-c(5,6:9)]\n",
    "# 서울대전앞뒤2일 <- read.csv('../AIData/2019수정버전.csv')\n",
    "서울대전앞뒤2일$날짜 <- as.Date(서울대전앞뒤2일$날짜)\n",
    "head(서울대전앞뒤2일)\n",
    "# str(서울대전앞뒤2일)"
   ]
  },
  {
   "cell_type": "code",
   "execution_count": 32,
   "metadata": {
    "vscode": {
     "languageId": "r"
    }
   },
   "outputs": [
    {
     "data": {
      "text/html": [
       "82.4965277777778"
      ],
      "text/latex": [
       "82.4965277777778"
      ],
      "text/markdown": [
       "82.4965277777778"
      ],
      "text/plain": [
       "[1] 82.49653"
      ]
     },
     "metadata": {},
     "output_type": "display_data"
    }
   ],
   "source": [
    "sum <- 0\n",
    "\n",
    "for (i in 1:100){\n",
    "  samp <- createDataPartition(서울대전앞뒤2일$출발시간, p=0.7, list=F)\n",
    "  data.tr <- 서울대전앞뒤2일[samp,]\n",
    "  data.test <- 서울대전앞뒤2일[-samp,]\n",
    "\n",
    "  x <- subset(data.test, select = -소요시간)\n",
    "  y <- data.test$소요시간\n",
    "\n",
    "  model_rf <- randomForest(소요시간 ~ . , data = data.tr, ntree = 100)\n",
    "  pred_rf <- predict(model_rf, x)\n",
    "  예측력_rf <- mean((pred_rf*0.85 < y) & (pred_rf*1.15 > y)) \n",
    "  sum <- sum + 예측력_rf\n",
    "}\n",
    "\n",
    "sum"
   ]
  },
  {
   "cell_type": "markdown",
   "metadata": {},
   "source": [
    "82.6527777777778\n",
    "81.75\n",
    "81.8784722222222\n",
    "82.4965277777778\n"
   ]
  },
  {
   "cell_type": "markdown",
   "metadata": {
    "vscode": {
     "languageId": "r"
    }
   },
   "source": [
    "81.7351916376307\n",
    "82.034843205575\n",
    "82.2473867595819\n",
    "\n",
    "81.8680555555555\n",
    "82.1631944444445"
   ]
  }
 ],
 "metadata": {
  "kernelspec": {
   "display_name": "R",
   "language": "R",
   "name": "ir"
  },
  "language_info": {
   "codemirror_mode": "r",
   "file_extension": ".r",
   "mimetype": "text/x-r-source",
   "name": "R",
   "pygments_lexer": "r",
   "version": "3.6.1"
  },
  "orig_nbformat": 4
 },
 "nbformat": 4,
 "nbformat_minor": 2
}
