{
 "cells": [
  {
   "cell_type": "code",
   "execution_count": 3,
   "metadata": {
    "vscode": {
     "languageId": "r"
    }
   },
   "outputs": [
    {
     "name": "stdout",
     "output_type": "stream",
     "text": [
      "'data.frame':\t40 obs. of  26 variables:\n",
      " $ 시간 : chr  \"2013. 2. 8\" \"2013. 2. 9\" \"2013. 2. 10\" \"2013. 2. 11\" ...\n",
      " $ 날짜 : int  0 1 2 3 4 0 1 2 3 4 ...\n",
      " $ X00시: int  91 132 83 87 84 84 155 81 82 80 ...\n",
      " $ X01시: int  88 129 82 85 82 82 158 82 82 80 ...\n",
      " $ X02시: int  88 121 102 89 78 82 150 83 87 83 ...\n",
      " $ X03시: int  87 124 100 84 79 83 146 85 83 82 ...\n",
      " $ X04시: int  91 119 93 85 84 80 154 87 82 85 ...\n",
      " $ X05시: int  97 118 106 81 79 81 148 87 82 87 ...\n",
      " $ X06시: int  96 128 100 81 80 83 152 89 80 0 ...\n",
      " $ X07시: int  89 133 97 80 89 84 168 87 80 81 ...\n",
      " $ X08시: int  90 133 94 80 87 85 174 90 79 81 ...\n",
      " $ X09시: int  91 149 97 86 90 85 177 89 79 82 ...\n",
      " $ X10시: int  91 163 95 80 90 87 203 87 81 84 ...\n",
      " $ X11시: int  94 166 94 85 89 92 205 88 82 84 ...\n",
      " $ X12시: int  101 162 99 87 89 102 225 97 85 87 ...\n",
      " $ X13시: int  118 137 105 92 89 113 216 107 88 89 ...\n",
      " $ X14시: int  91 92 108 137 115 88 91 88 119 206 ...\n",
      " $ X15시: int  91 93 117 123 125 89 89 89 135 187 ...\n",
      " $ X16시: int  88 93 121 107 136 88 92 91 146 172 ...\n",
      " $ X17시: int  88 94 156 106 149 90 88 94 133 157 ...\n",
      " $ X18시: int  91 93 160 98 167 89 95 90 144 146 ...\n",
      " $ X19시: int  91 94 156 93 185 96 91 98 168 134 ...\n",
      " $ X20시: int  87 95 145 93 202 86 85 102 161 121 ...\n",
      " $ X21시: int  92 92 128 91 211 88 90 90 144 110 ...\n",
      " $ X22시: int  91 86 116 88 212 87 87 96 127 102 ...\n",
      " $ X23시: int  88 85 107 89 183 85 85 87 114 99 ...\n"
     ]
    }
   ],
   "source": [
    "data <- read.csv('../AIData/서울대전.csv', header = TRUE, stringsAsFactors = FALSE)\n",
    "str(data)"
   ]
  },
  {
   "cell_type": "code",
   "execution_count": 122,
   "metadata": {
    "vscode": {
     "languageId": "r"
    }
   },
   "outputs": [],
   "source": [
    "십삼년 <- data[1:5,]\n",
    "영 <- 십삼년[1,3:26]\n",
    "일 <- 십삼년[2,3:26]\n",
    "이 <- 십삼년[3,3:26]\n",
    "삼 <- 십삼년[4,3:26]\n",
    "사 <- 십삼년[5,3:26]\n",
    "출발시간 <- 0:23"
   ]
  },
  {
   "cell_type": "code",
   "execution_count": 125,
   "metadata": {
    "vscode": {
     "languageId": "r"
    }
   },
   "outputs": [
    {
     "data": {
      "text/html": [
       "<table>\n",
       "<thead><tr><th></th><th scope=col></th><th scope=col>출발시간</th><th scope=col>1</th></tr></thead>\n",
       "<tbody>\n",
       "\t<tr><th scope=row>X00시</th><td>0  </td><td> 0 </td><td> 91</td></tr>\n",
       "\t<tr><th scope=row>X01시</th><td>0  </td><td> 1 </td><td> 88</td></tr>\n",
       "\t<tr><th scope=row>X02시</th><td>0  </td><td> 2 </td><td> 88</td></tr>\n",
       "\t<tr><th scope=row>X03시</th><td>0  </td><td> 3 </td><td> 87</td></tr>\n",
       "\t<tr><th scope=row>X04시</th><td>0  </td><td> 4 </td><td> 91</td></tr>\n",
       "\t<tr><th scope=row>X05시</th><td>0  </td><td> 5 </td><td> 97</td></tr>\n",
       "\t<tr><th scope=row>X06시</th><td>0  </td><td> 6 </td><td> 96</td></tr>\n",
       "\t<tr><th scope=row>X07시</th><td>0  </td><td> 7 </td><td> 89</td></tr>\n",
       "\t<tr><th scope=row>X08시</th><td>0  </td><td> 8 </td><td> 90</td></tr>\n",
       "\t<tr><th scope=row>X09시</th><td>0  </td><td> 9 </td><td> 91</td></tr>\n",
       "\t<tr><th scope=row>X10시</th><td>0  </td><td>10 </td><td> 91</td></tr>\n",
       "\t<tr><th scope=row>X11시</th><td>0  </td><td>11 </td><td> 94</td></tr>\n",
       "\t<tr><th scope=row>X12시</th><td>0  </td><td>12 </td><td>101</td></tr>\n",
       "\t<tr><th scope=row>X13시</th><td>0  </td><td>13 </td><td>118</td></tr>\n",
       "\t<tr><th scope=row>X14시</th><td>0  </td><td>14 </td><td> 91</td></tr>\n",
       "\t<tr><th scope=row>X15시</th><td>0  </td><td>15 </td><td> 91</td></tr>\n",
       "\t<tr><th scope=row>X16시</th><td>0  </td><td>16 </td><td> 88</td></tr>\n",
       "\t<tr><th scope=row>X17시</th><td>0  </td><td>17 </td><td> 88</td></tr>\n",
       "\t<tr><th scope=row>X18시</th><td>0  </td><td>18 </td><td> 91</td></tr>\n",
       "\t<tr><th scope=row>X19시</th><td>0  </td><td>19 </td><td> 91</td></tr>\n",
       "\t<tr><th scope=row>X20시</th><td>0  </td><td>20 </td><td> 87</td></tr>\n",
       "\t<tr><th scope=row>X21시</th><td>0  </td><td>21 </td><td> 92</td></tr>\n",
       "\t<tr><th scope=row>X22시</th><td>0  </td><td>22 </td><td> 91</td></tr>\n",
       "\t<tr><th scope=row>X23시</th><td>0  </td><td>23 </td><td> 88</td></tr>\n",
       "</tbody>\n",
       "</table>\n"
      ],
      "text/latex": [
       "\\begin{tabular}{r|lll}\n",
       "  &  & 출발시간 & 1\\\\\n",
       "\\hline\n",
       "\tX00시 & 0   &  0  &  91\\\\\n",
       "\tX01시 & 0   &  1  &  88\\\\\n",
       "\tX02시 & 0   &  2  &  88\\\\\n",
       "\tX03시 & 0   &  3  &  87\\\\\n",
       "\tX04시 & 0   &  4  &  91\\\\\n",
       "\tX05시 & 0   &  5  &  97\\\\\n",
       "\tX06시 & 0   &  6  &  96\\\\\n",
       "\tX07시 & 0   &  7  &  89\\\\\n",
       "\tX08시 & 0   &  8  &  90\\\\\n",
       "\tX09시 & 0   &  9  &  91\\\\\n",
       "\tX10시 & 0   & 10  &  91\\\\\n",
       "\tX11시 & 0   & 11  &  94\\\\\n",
       "\tX12시 & 0   & 12  & 101\\\\\n",
       "\tX13시 & 0   & 13  & 118\\\\\n",
       "\tX14시 & 0   & 14  &  91\\\\\n",
       "\tX15시 & 0   & 15  &  91\\\\\n",
       "\tX16시 & 0   & 16  &  88\\\\\n",
       "\tX17시 & 0   & 17  &  88\\\\\n",
       "\tX18시 & 0   & 18  &  91\\\\\n",
       "\tX19시 & 0   & 19  &  91\\\\\n",
       "\tX20시 & 0   & 20  &  87\\\\\n",
       "\tX21시 & 0   & 21  &  92\\\\\n",
       "\tX22시 & 0   & 22  &  91\\\\\n",
       "\tX23시 & 0   & 23  &  88\\\\\n",
       "\\end{tabular}\n"
      ],
      "text/markdown": [
       "\n",
       "| <!--/--> |  | 출발시간 | 1 |\n",
       "|---|---|---|---|\n",
       "| X00시 | 0   |  0  |  91 |\n",
       "| X01시 | 0   |  1  |  88 |\n",
       "| X02시 | 0   |  2  |  88 |\n",
       "| X03시 | 0   |  3  |  87 |\n",
       "| X04시 | 0   |  4  |  91 |\n",
       "| X05시 | 0   |  5  |  97 |\n",
       "| X06시 | 0   |  6  |  96 |\n",
       "| X07시 | 0   |  7  |  89 |\n",
       "| X08시 | 0   |  8  |  90 |\n",
       "| X09시 | 0   |  9  |  91 |\n",
       "| X10시 | 0   | 10  |  91 |\n",
       "| X11시 | 0   | 11  |  94 |\n",
       "| X12시 | 0   | 12  | 101 |\n",
       "| X13시 | 0   | 13  | 118 |\n",
       "| X14시 | 0   | 14  |  91 |\n",
       "| X15시 | 0   | 15  |  91 |\n",
       "| X16시 | 0   | 16  |  88 |\n",
       "| X17시 | 0   | 17  |  88 |\n",
       "| X18시 | 0   | 18  |  91 |\n",
       "| X19시 | 0   | 19  |  91 |\n",
       "| X20시 | 0   | 20  |  87 |\n",
       "| X21시 | 0   | 21  |  92 |\n",
       "| X22시 | 0   | 22  |  91 |\n",
       "| X23시 | 0   | 23  |  88 |\n",
       "\n"
      ],
      "text/plain": [
       "        출발시간 1  \n",
       "X00시 0  0        91\n",
       "X01시 0  1        88\n",
       "X02시 0  2        88\n",
       "X03시 0  3        87\n",
       "X04시 0  4        91\n",
       "X05시 0  5        97\n",
       "X06시 0  6        96\n",
       "X07시 0  7        89\n",
       "X08시 0  8        90\n",
       "X09시 0  9        91\n",
       "X10시 0 10        91\n",
       "X11시 0 11        94\n",
       "X12시 0 12       101\n",
       "X13시 0 13       118\n",
       "X14시 0 14        91\n",
       "X15시 0 15        91\n",
       "X16시 0 16        88\n",
       "X17시 0 17        88\n",
       "X18시 0 18        91\n",
       "X19시 0 19        91\n",
       "X20시 0 20        87\n",
       "X21시 0 21        92\n",
       "X22시 0 22        91\n",
       "X23시 0 23        88"
      ]
     },
     "metadata": {},
     "output_type": "display_data"
    }
   ],
   "source": [
    "ze"
   ]
  },
  {
   "cell_type": "code",
   "execution_count": 124,
   "metadata": {
    "vscode": {
     "languageId": "r"
    }
   },
   "outputs": [],
   "source": [
    "ze <- cbind(c(0), 출발시간,t(영))\n",
    "on <- cbind(1,출발시간,t(일))\n",
    "tw <- cbind(2,출발시간,t(이))\n",
    "th <- cbind(3,출발시간,t(삼))\n",
    "fo <- cbind(4,출발시간,t(사))"
   ]
  },
  {
   "cell_type": "code",
   "execution_count": 126,
   "metadata": {
    "vscode": {
     "languageId": "r"
    }
   },
   "outputs": [],
   "source": [
    "tlqtka <- rbind(ze, on, tw , th,fo)\n",
    "rownames(tlqtka) <- c()"
   ]
  },
  {
   "cell_type": "code",
   "execution_count": 128,
   "metadata": {
    "vscode": {
     "languageId": "r"
    }
   },
   "outputs": [],
   "source": [
    "tlqtka <- cbind(c(2013), tlqtka)\n",
    "tlqtka <- data.frame(tlqtka)"
   ]
  },
  {
   "cell_type": "code",
   "execution_count": 46,
   "metadata": {
    "vscode": {
     "languageId": "r"
    }
   },
   "outputs": [],
   "source": [
    "library(dplyr)"
   ]
  },
  {
   "cell_type": "code",
   "execution_count": 130,
   "metadata": {
    "vscode": {
     "languageId": "r"
    }
   },
   "outputs": [],
   "source": [
    "십삼 <- arrange(tlqtka, 출발시간 )"
   ]
  },
  {
   "cell_type": "code",
   "execution_count": 132,
   "metadata": {
    "vscode": {
     "languageId": "r"
    }
   },
   "outputs": [
    {
     "data": {
      "text/html": [
       "<table>\n",
       "<thead><tr><th scope=col>V1</th><th scope=col>V2</th><th scope=col>출발시간</th><th scope=col>X1</th></tr></thead>\n",
       "<tbody>\n",
       "\t<tr><td>2013</td><td>0   </td><td>0   </td><td> 91 </td></tr>\n",
       "\t<tr><td>2013</td><td>1   </td><td>0   </td><td>132 </td></tr>\n",
       "\t<tr><td>2013</td><td>2   </td><td>0   </td><td> 83 </td></tr>\n",
       "\t<tr><td>2013</td><td>3   </td><td>0   </td><td> 87 </td></tr>\n",
       "\t<tr><td>2013</td><td>4   </td><td>0   </td><td> 84 </td></tr>\n",
       "\t<tr><td>2013</td><td>0   </td><td>1   </td><td> 88 </td></tr>\n",
       "</tbody>\n",
       "</table>\n"
      ],
      "text/latex": [
       "\\begin{tabular}{r|llll}\n",
       " V1 & V2 & 출발시간 & X1\\\\\n",
       "\\hline\n",
       "\t 2013 & 0    & 0    &  91 \\\\\n",
       "\t 2013 & 1    & 0    & 132 \\\\\n",
       "\t 2013 & 2    & 0    &  83 \\\\\n",
       "\t 2013 & 3    & 0    &  87 \\\\\n",
       "\t 2013 & 4    & 0    &  84 \\\\\n",
       "\t 2013 & 0    & 1    &  88 \\\\\n",
       "\\end{tabular}\n"
      ],
      "text/markdown": [
       "\n",
       "| V1 | V2 | 출발시간 | X1 |\n",
       "|---|---|---|---|\n",
       "| 2013 | 0    | 0    |  91  |\n",
       "| 2013 | 1    | 0    | 132  |\n",
       "| 2013 | 2    | 0    |  83  |\n",
       "| 2013 | 3    | 0    |  87  |\n",
       "| 2013 | 4    | 0    |  84  |\n",
       "| 2013 | 0    | 1    |  88  |\n",
       "\n"
      ],
      "text/plain": [
       "  V1   V2 출발시간 X1 \n",
       "1 2013 0  0         91\n",
       "2 2013 1  0        132\n",
       "3 2013 2  0         83\n",
       "4 2013 3  0         87\n",
       "5 2013 4  0         84\n",
       "6 2013 0  1         88"
      ]
     },
     "metadata": {},
     "output_type": "display_data"
    },
    {
     "data": {
      "text/html": [
       "<table>\n",
       "<thead><tr><th></th><th scope=col>시간</th><th scope=col>날짜</th><th scope=col>X00시</th><th scope=col>X01시</th><th scope=col>X02시</th><th scope=col>X03시</th><th scope=col>X04시</th><th scope=col>X05시</th><th scope=col>X06시</th><th scope=col>X07시</th><th scope=col>...</th><th scope=col>X14시</th><th scope=col>X15시</th><th scope=col>X16시</th><th scope=col>X17시</th><th scope=col>X18시</th><th scope=col>X19시</th><th scope=col>X20시</th><th scope=col>X21시</th><th scope=col>X22시</th><th scope=col>X23시</th></tr></thead>\n",
       "<tbody>\n",
       "\t<tr><th scope=row>6</th><td>2014. 1. 29</td><td>0          </td><td> 84        </td><td> 82        </td><td> 82        </td><td> 83        </td><td> 80        </td><td> 81        </td><td> 83        </td><td> 84        </td><td>...        </td><td> 88        </td><td> 89        </td><td> 88        </td><td> 90        </td><td> 89        </td><td> 96        </td><td> 86        </td><td> 88        </td><td> 87        </td><td> 85        </td></tr>\n",
       "\t<tr><th scope=row>7</th><td>2014. 1. 30</td><td>1          </td><td>155        </td><td>158        </td><td>150        </td><td>146        </td><td>154        </td><td>148        </td><td>152        </td><td>168        </td><td>...        </td><td> 91        </td><td> 89        </td><td> 92        </td><td> 88        </td><td> 95        </td><td> 91        </td><td> 85        </td><td> 90        </td><td> 87        </td><td> 85        </td></tr>\n",
       "\t<tr><th scope=row>8</th><td>2014. 1. 31</td><td>2          </td><td> 81        </td><td> 82        </td><td> 83        </td><td> 85        </td><td> 87        </td><td> 87        </td><td> 89        </td><td> 87        </td><td>...        </td><td> 88        </td><td> 89        </td><td> 91        </td><td> 94        </td><td> 90        </td><td> 98        </td><td>102        </td><td> 90        </td><td> 96        </td><td> 87        </td></tr>\n",
       "\t<tr><th scope=row>9</th><td>2014. 2. 1 </td><td>3          </td><td> 82        </td><td> 82        </td><td> 87        </td><td> 83        </td><td> 82        </td><td> 82        </td><td> 80        </td><td> 80        </td><td>...        </td><td>119        </td><td>135        </td><td>146        </td><td>133        </td><td>144        </td><td>168        </td><td>161        </td><td>144        </td><td>127        </td><td>114        </td></tr>\n",
       "\t<tr><th scope=row>10</th><td>2014. 2. 2 </td><td>4          </td><td> 80        </td><td> 80        </td><td> 83        </td><td> 82        </td><td> 85        </td><td> 87        </td><td>  0        </td><td> 81        </td><td>...        </td><td>206        </td><td>187        </td><td>172        </td><td>157        </td><td>146        </td><td>134        </td><td>121        </td><td>110        </td><td>102        </td><td> 99        </td></tr>\n",
       "</tbody>\n",
       "</table>\n"
      ],
      "text/latex": [
       "\\begin{tabular}{r|llllllllllllllllllllllllll}\n",
       "  & 시간 & 날짜 & X00시 & X01시 & X02시 & X03시 & X04시 & X05시 & X06시 & X07시 & ... & X14시 & X15시 & X16시 & X17시 & X18시 & X19시 & X20시 & X21시 & X22시 & X23시\\\\\n",
       "\\hline\n",
       "\t6 & 2014. 1. 29 & 0           &  84         &  82         &  82         &  83         &  80         &  81         &  83         &  84         & ...         &  88         &  89         &  88         &  90         &  89         &  96         &  86         &  88         &  87         &  85        \\\\\n",
       "\t7 & 2014. 1. 30 & 1           & 155         & 158         & 150         & 146         & 154         & 148         & 152         & 168         & ...         &  91         &  89         &  92         &  88         &  95         &  91         &  85         &  90         &  87         &  85        \\\\\n",
       "\t8 & 2014. 1. 31 & 2           &  81         &  82         &  83         &  85         &  87         &  87         &  89         &  87         & ...         &  88         &  89         &  91         &  94         &  90         &  98         & 102         &  90         &  96         &  87        \\\\\n",
       "\t9 & 2014. 2. 1  & 3           &  82         &  82         &  87         &  83         &  82         &  82         &  80         &  80         & ...         & 119         & 135         & 146         & 133         & 144         & 168         & 161         & 144         & 127         & 114        \\\\\n",
       "\t10 & 2014. 2. 2  & 4           &  80         &  80         &  83         &  82         &  85         &  87         &   0         &  81         & ...         & 206         & 187         & 172         & 157         & 146         & 134         & 121         & 110         & 102         &  99        \\\\\n",
       "\\end{tabular}\n"
      ],
      "text/markdown": [
       "\n",
       "| <!--/--> | 시간 | 날짜 | X00시 | X01시 | X02시 | X03시 | X04시 | X05시 | X06시 | X07시 | ... | X14시 | X15시 | X16시 | X17시 | X18시 | X19시 | X20시 | X21시 | X22시 | X23시 |\n",
       "|---|---|---|---|---|---|---|---|---|---|---|---|---|---|---|---|---|---|---|---|---|---|\n",
       "| 6 | 2014. 1. 29 | 0           |  84         |  82         |  82         |  83         |  80         |  81         |  83         |  84         | ...         |  88         |  89         |  88         |  90         |  89         |  96         |  86         |  88         |  87         |  85         |\n",
       "| 7 | 2014. 1. 30 | 1           | 155         | 158         | 150         | 146         | 154         | 148         | 152         | 168         | ...         |  91         |  89         |  92         |  88         |  95         |  91         |  85         |  90         |  87         |  85         |\n",
       "| 8 | 2014. 1. 31 | 2           |  81         |  82         |  83         |  85         |  87         |  87         |  89         |  87         | ...         |  88         |  89         |  91         |  94         |  90         |  98         | 102         |  90         |  96         |  87         |\n",
       "| 9 | 2014. 2. 1  | 3           |  82         |  82         |  87         |  83         |  82         |  82         |  80         |  80         | ...         | 119         | 135         | 146         | 133         | 144         | 168         | 161         | 144         | 127         | 114         |\n",
       "| 10 | 2014. 2. 2  | 4           |  80         |  80         |  83         |  82         |  85         |  87         |   0         |  81         | ...         | 206         | 187         | 172         | 157         | 146         | 134         | 121         | 110         | 102         |  99         |\n",
       "\n"
      ],
      "text/plain": [
       "   시간        날짜 X00시 X01시 X02시 X03시 X04시 X05시 X06시 X07시 ... X14시\n",
       "6  2014. 1. 29 0     84    82    82    83    80    81    83    84   ...  88  \n",
       "7  2014. 1. 30 1    155   158   150   146   154   148   152   168   ...  91  \n",
       "8  2014. 1. 31 2     81    82    83    85    87    87    89    87   ...  88  \n",
       "9  2014. 2. 1  3     82    82    87    83    82    82    80    80   ... 119  \n",
       "10 2014. 2. 2  4     80    80    83    82    85    87     0    81   ... 206  \n",
       "   X15시 X16시 X17시 X18시 X19시 X20시 X21시 X22시 X23시\n",
       "6   89    88    90    89    96    86    88    87    85  \n",
       "7   89    92    88    95    91    85    90    87    85  \n",
       "8   89    91    94    90    98   102    90    96    87  \n",
       "9  135   146   133   144   168   161   144   127   114  \n",
       "10 187   172   157   146   134   121   110   102    99  "
      ]
     },
     "metadata": {},
     "output_type": "display_data"
    }
   ],
   "source": [
    "head(십삼)\n",
    "data[6:10,]"
   ]
  },
  {
   "cell_type": "code",
   "execution_count": 117,
   "metadata": {
    "vscode": {
     "languageId": "r"
    }
   },
   "outputs": [],
   "source": [
    "# 13 14 15 16 17 18 19 20\n",
    "십삼년 <- data[36:40,]\n",
    "영 <- 십삼년[1,3:26]\n",
    "일 <- 십삼년[2,3:26]\n",
    "이 <- 십삼년[3,3:26]\n",
    "삼 <- 십삼년[4,3:26]\n",
    "사 <- 십삼년[5,3:26]\n",
    "ze <- cbind(0,출발시간,t(영))\n",
    "on <- cbind(1,출발시간,t(일))\n",
    "tw <- cbind(2,출발시간,t(이))\n",
    "th <- cbind(3,출발시간,t(삼))\n",
    "fo <- cbind(4,출발시간,t(사))\n",
    "tlqtka <- rbind(ze, on, tw , th,fo)\n",
    "rownames(tlqtka) <- c()\n",
    "tlqtka <- cbind(c(2020), tlqtka)\n",
    "tlqtka <- data.frame(tlqtka)\n",
    "이십 <- arrange(tlqtka, 출발시간)"
   ]
  },
  {
   "cell_type": "code",
   "execution_count": 135,
   "metadata": {
    "vscode": {
     "languageId": "r"
    }
   },
   "outputs": [],
   "source": [
    "최종데이터 <- rbind(십삼, 십사, 십오, 십육,십칠,십팔,십구,이십)\n",
    "# colnames(십삼) <- c('년도', '일차' , '출발시간', '소요시간')\n",
    "# colnames(십사) <- c('년도', '일차' ,'출발시간', '소요시간')\n",
    "# colnames(십오) <- c('년도', '일차' ,'출발시간', '소요시간')\n",
    "# colnames(십육) <- c('년도', '일차' ,'출발시간', '소요시간')\n",
    "# colnames(십칠) <- c('년도', '일차' ,'출발시간', '소요시간')\n",
    "# colnames(십팔) <- c('년도', '일차' ,'출발시간', '소요시간')\n",
    "# colnames(십구) <- c('년도', '일차' ,'출발시간', '소요시간')\n",
    "# colnames(이십) <- c('년도', '일차' ,'출발시간', '소요시간')"
   ]
  },
  {
   "cell_type": "code",
   "execution_count": 136,
   "metadata": {
    "vscode": {
     "languageId": "r"
    }
   },
   "outputs": [
    {
     "name": "stdout",
     "output_type": "stream",
     "text": [
      "'data.frame':\t960 obs. of  4 variables:\n",
      " $ 년도    : num  2013 2013 2013 2013 2013 ...\n",
      " $ 일차    : num  0 1 2 3 4 0 1 2 3 4 ...\n",
      " $ 출발시간: num  0 0 0 0 0 1 1 1 1 1 ...\n",
      " $ 소요시간: num  91 132 83 87 84 88 129 82 85 82 ...\n"
     ]
    }
   ],
   "source": [
    "str(최종데이터)"
   ]
  },
  {
   "cell_type": "code",
   "execution_count": 139,
   "metadata": {
    "vscode": {
     "languageId": "r"
    }
   },
   "outputs": [
    {
     "data": {
      "text/html": [
       "<table>\n",
       "<thead><tr><th></th><th scope=col>년도</th><th scope=col>일차</th><th scope=col>출발시간</th><th scope=col>소요시간</th></tr></thead>\n",
       "<tbody>\n",
       "\t<tr><th scope=row>100</th><td>2013</td><td>4   </td><td>19  </td><td>185 </td></tr>\n",
       "\t<tr><th scope=row>101</th><td>2013</td><td>0   </td><td>20  </td><td> 87 </td></tr>\n",
       "\t<tr><th scope=row>102</th><td>2013</td><td>1   </td><td>20  </td><td> 95 </td></tr>\n",
       "\t<tr><th scope=row>103</th><td>2013</td><td>2   </td><td>20  </td><td>145 </td></tr>\n",
       "\t<tr><th scope=row>104</th><td>2013</td><td>3   </td><td>20  </td><td> 93 </td></tr>\n",
       "\t<tr><th scope=row>105</th><td>2013</td><td>4   </td><td>20  </td><td>202 </td></tr>\n",
       "\t<tr><th scope=row>106</th><td>2013</td><td>0   </td><td>21  </td><td> 92 </td></tr>\n",
       "\t<tr><th scope=row>107</th><td>2013</td><td>1   </td><td>21  </td><td> 92 </td></tr>\n",
       "\t<tr><th scope=row>108</th><td>2013</td><td>2   </td><td>21  </td><td>128 </td></tr>\n",
       "\t<tr><th scope=row>109</th><td>2013</td><td>3   </td><td>21  </td><td> 91 </td></tr>\n",
       "\t<tr><th scope=row>110</th><td>2013</td><td>4   </td><td>21  </td><td>211 </td></tr>\n",
       "\t<tr><th scope=row>111</th><td>2013</td><td>0   </td><td>22  </td><td> 91 </td></tr>\n",
       "\t<tr><th scope=row>112</th><td>2013</td><td>1   </td><td>22  </td><td> 86 </td></tr>\n",
       "\t<tr><th scope=row>113</th><td>2013</td><td>2   </td><td>22  </td><td>116 </td></tr>\n",
       "\t<tr><th scope=row>114</th><td>2013</td><td>3   </td><td>22  </td><td> 88 </td></tr>\n",
       "\t<tr><th scope=row>115</th><td>2013</td><td>4   </td><td>22  </td><td>212 </td></tr>\n",
       "\t<tr><th scope=row>116</th><td>2013</td><td>0   </td><td>23  </td><td> 88 </td></tr>\n",
       "\t<tr><th scope=row>117</th><td>2013</td><td>1   </td><td>23  </td><td> 85 </td></tr>\n",
       "\t<tr><th scope=row>118</th><td>2013</td><td>2   </td><td>23  </td><td>107 </td></tr>\n",
       "\t<tr><th scope=row>119</th><td>2013</td><td>3   </td><td>23  </td><td> 89 </td></tr>\n",
       "\t<tr><th scope=row>120</th><td>2013</td><td>4   </td><td>23  </td><td>183 </td></tr>\n",
       "\t<tr><th scope=row>121</th><td>2014</td><td>0   </td><td> 0  </td><td> 84 </td></tr>\n",
       "\t<tr><th scope=row>122</th><td>2014</td><td>1   </td><td> 0  </td><td>155 </td></tr>\n",
       "\t<tr><th scope=row>123</th><td>2014</td><td>2   </td><td> 0  </td><td> 81 </td></tr>\n",
       "\t<tr><th scope=row>124</th><td>2014</td><td>3   </td><td> 0  </td><td> 82 </td></tr>\n",
       "\t<tr><th scope=row>125</th><td>2014</td><td>4   </td><td> 0  </td><td> 80 </td></tr>\n",
       "\t<tr><th scope=row>126</th><td>2014</td><td>0   </td><td> 1  </td><td> 82 </td></tr>\n",
       "\t<tr><th scope=row>127</th><td>2014</td><td>1   </td><td> 1  </td><td>158 </td></tr>\n",
       "\t<tr><th scope=row>128</th><td>2014</td><td>2   </td><td> 1  </td><td> 82 </td></tr>\n",
       "\t<tr><th scope=row>129</th><td>2014</td><td>3   </td><td> 1  </td><td> 82 </td></tr>\n",
       "\t<tr><th scope=row>130</th><td>2014</td><td>4   </td><td> 1  </td><td> 80 </td></tr>\n",
       "\t<tr><th scope=row>131</th><td>2014</td><td>0   </td><td> 2  </td><td> 82 </td></tr>\n",
       "\t<tr><th scope=row>132</th><td>2014</td><td>1   </td><td> 2  </td><td>150 </td></tr>\n",
       "\t<tr><th scope=row>133</th><td>2014</td><td>2   </td><td> 2  </td><td> 83 </td></tr>\n",
       "\t<tr><th scope=row>134</th><td>2014</td><td>3   </td><td> 2  </td><td> 87 </td></tr>\n",
       "\t<tr><th scope=row>135</th><td>2014</td><td>4   </td><td> 2  </td><td> 83 </td></tr>\n",
       "\t<tr><th scope=row>136</th><td>2014</td><td>0   </td><td> 3  </td><td> 83 </td></tr>\n",
       "\t<tr><th scope=row>137</th><td>2014</td><td>1   </td><td> 3  </td><td>146 </td></tr>\n",
       "\t<tr><th scope=row>138</th><td>2014</td><td>2   </td><td> 3  </td><td> 85 </td></tr>\n",
       "\t<tr><th scope=row>139</th><td>2014</td><td>3   </td><td> 3  </td><td> 83 </td></tr>\n",
       "\t<tr><th scope=row>140</th><td>2014</td><td>4   </td><td> 3  </td><td> 82 </td></tr>\n",
       "\t<tr><th scope=row>141</th><td>2014</td><td>0   </td><td> 4  </td><td> 80 </td></tr>\n",
       "\t<tr><th scope=row>142</th><td>2014</td><td>1   </td><td> 4  </td><td>154 </td></tr>\n",
       "\t<tr><th scope=row>143</th><td>2014</td><td>2   </td><td> 4  </td><td> 87 </td></tr>\n",
       "\t<tr><th scope=row>144</th><td>2014</td><td>3   </td><td> 4  </td><td> 82 </td></tr>\n",
       "\t<tr><th scope=row>145</th><td>2014</td><td>4   </td><td> 4  </td><td> 85 </td></tr>\n",
       "\t<tr><th scope=row>146</th><td>2014</td><td>0   </td><td> 5  </td><td> 81 </td></tr>\n",
       "\t<tr><th scope=row>147</th><td>2014</td><td>1   </td><td> 5  </td><td>148 </td></tr>\n",
       "\t<tr><th scope=row>148</th><td>2014</td><td>2   </td><td> 5  </td><td> 87 </td></tr>\n",
       "\t<tr><th scope=row>149</th><td>2014</td><td>3   </td><td> 5  </td><td> 82 </td></tr>\n",
       "\t<tr><th scope=row>150</th><td>2014</td><td>4   </td><td> 5  </td><td> 87 </td></tr>\n",
       "</tbody>\n",
       "</table>\n"
      ],
      "text/latex": [
       "\\begin{tabular}{r|llll}\n",
       "  & 년도 & 일차 & 출발시간 & 소요시간\\\\\n",
       "\\hline\n",
       "\t100 & 2013 & 4    & 19   & 185 \\\\\n",
       "\t101 & 2013 & 0    & 20   &  87 \\\\\n",
       "\t102 & 2013 & 1    & 20   &  95 \\\\\n",
       "\t103 & 2013 & 2    & 20   & 145 \\\\\n",
       "\t104 & 2013 & 3    & 20   &  93 \\\\\n",
       "\t105 & 2013 & 4    & 20   & 202 \\\\\n",
       "\t106 & 2013 & 0    & 21   &  92 \\\\\n",
       "\t107 & 2013 & 1    & 21   &  92 \\\\\n",
       "\t108 & 2013 & 2    & 21   & 128 \\\\\n",
       "\t109 & 2013 & 3    & 21   &  91 \\\\\n",
       "\t110 & 2013 & 4    & 21   & 211 \\\\\n",
       "\t111 & 2013 & 0    & 22   &  91 \\\\\n",
       "\t112 & 2013 & 1    & 22   &  86 \\\\\n",
       "\t113 & 2013 & 2    & 22   & 116 \\\\\n",
       "\t114 & 2013 & 3    & 22   &  88 \\\\\n",
       "\t115 & 2013 & 4    & 22   & 212 \\\\\n",
       "\t116 & 2013 & 0    & 23   &  88 \\\\\n",
       "\t117 & 2013 & 1    & 23   &  85 \\\\\n",
       "\t118 & 2013 & 2    & 23   & 107 \\\\\n",
       "\t119 & 2013 & 3    & 23   &  89 \\\\\n",
       "\t120 & 2013 & 4    & 23   & 183 \\\\\n",
       "\t121 & 2014 & 0    &  0   &  84 \\\\\n",
       "\t122 & 2014 & 1    &  0   & 155 \\\\\n",
       "\t123 & 2014 & 2    &  0   &  81 \\\\\n",
       "\t124 & 2014 & 3    &  0   &  82 \\\\\n",
       "\t125 & 2014 & 4    &  0   &  80 \\\\\n",
       "\t126 & 2014 & 0    &  1   &  82 \\\\\n",
       "\t127 & 2014 & 1    &  1   & 158 \\\\\n",
       "\t128 & 2014 & 2    &  1   &  82 \\\\\n",
       "\t129 & 2014 & 3    &  1   &  82 \\\\\n",
       "\t130 & 2014 & 4    &  1   &  80 \\\\\n",
       "\t131 & 2014 & 0    &  2   &  82 \\\\\n",
       "\t132 & 2014 & 1    &  2   & 150 \\\\\n",
       "\t133 & 2014 & 2    &  2   &  83 \\\\\n",
       "\t134 & 2014 & 3    &  2   &  87 \\\\\n",
       "\t135 & 2014 & 4    &  2   &  83 \\\\\n",
       "\t136 & 2014 & 0    &  3   &  83 \\\\\n",
       "\t137 & 2014 & 1    &  3   & 146 \\\\\n",
       "\t138 & 2014 & 2    &  3   &  85 \\\\\n",
       "\t139 & 2014 & 3    &  3   &  83 \\\\\n",
       "\t140 & 2014 & 4    &  3   &  82 \\\\\n",
       "\t141 & 2014 & 0    &  4   &  80 \\\\\n",
       "\t142 & 2014 & 1    &  4   & 154 \\\\\n",
       "\t143 & 2014 & 2    &  4   &  87 \\\\\n",
       "\t144 & 2014 & 3    &  4   &  82 \\\\\n",
       "\t145 & 2014 & 4    &  4   &  85 \\\\\n",
       "\t146 & 2014 & 0    &  5   &  81 \\\\\n",
       "\t147 & 2014 & 1    &  5   & 148 \\\\\n",
       "\t148 & 2014 & 2    &  5   &  87 \\\\\n",
       "\t149 & 2014 & 3    &  5   &  82 \\\\\n",
       "\t150 & 2014 & 4    &  5   &  87 \\\\\n",
       "\\end{tabular}\n"
      ],
      "text/markdown": [
       "\n",
       "| <!--/--> | 년도 | 일차 | 출발시간 | 소요시간 |\n",
       "|---|---|---|---|---|\n",
       "| 100 | 2013 | 4    | 19   | 185  |\n",
       "| 101 | 2013 | 0    | 20   |  87  |\n",
       "| 102 | 2013 | 1    | 20   |  95  |\n",
       "| 103 | 2013 | 2    | 20   | 145  |\n",
       "| 104 | 2013 | 3    | 20   |  93  |\n",
       "| 105 | 2013 | 4    | 20   | 202  |\n",
       "| 106 | 2013 | 0    | 21   |  92  |\n",
       "| 107 | 2013 | 1    | 21   |  92  |\n",
       "| 108 | 2013 | 2    | 21   | 128  |\n",
       "| 109 | 2013 | 3    | 21   |  91  |\n",
       "| 110 | 2013 | 4    | 21   | 211  |\n",
       "| 111 | 2013 | 0    | 22   |  91  |\n",
       "| 112 | 2013 | 1    | 22   |  86  |\n",
       "| 113 | 2013 | 2    | 22   | 116  |\n",
       "| 114 | 2013 | 3    | 22   |  88  |\n",
       "| 115 | 2013 | 4    | 22   | 212  |\n",
       "| 116 | 2013 | 0    | 23   |  88  |\n",
       "| 117 | 2013 | 1    | 23   |  85  |\n",
       "| 118 | 2013 | 2    | 23   | 107  |\n",
       "| 119 | 2013 | 3    | 23   |  89  |\n",
       "| 120 | 2013 | 4    | 23   | 183  |\n",
       "| 121 | 2014 | 0    |  0   |  84  |\n",
       "| 122 | 2014 | 1    |  0   | 155  |\n",
       "| 123 | 2014 | 2    |  0   |  81  |\n",
       "| 124 | 2014 | 3    |  0   |  82  |\n",
       "| 125 | 2014 | 4    |  0   |  80  |\n",
       "| 126 | 2014 | 0    |  1   |  82  |\n",
       "| 127 | 2014 | 1    |  1   | 158  |\n",
       "| 128 | 2014 | 2    |  1   |  82  |\n",
       "| 129 | 2014 | 3    |  1   |  82  |\n",
       "| 130 | 2014 | 4    |  1   |  80  |\n",
       "| 131 | 2014 | 0    |  2   |  82  |\n",
       "| 132 | 2014 | 1    |  2   | 150  |\n",
       "| 133 | 2014 | 2    |  2   |  83  |\n",
       "| 134 | 2014 | 3    |  2   |  87  |\n",
       "| 135 | 2014 | 4    |  2   |  83  |\n",
       "| 136 | 2014 | 0    |  3   |  83  |\n",
       "| 137 | 2014 | 1    |  3   | 146  |\n",
       "| 138 | 2014 | 2    |  3   |  85  |\n",
       "| 139 | 2014 | 3    |  3   |  83  |\n",
       "| 140 | 2014 | 4    |  3   |  82  |\n",
       "| 141 | 2014 | 0    |  4   |  80  |\n",
       "| 142 | 2014 | 1    |  4   | 154  |\n",
       "| 143 | 2014 | 2    |  4   |  87  |\n",
       "| 144 | 2014 | 3    |  4   |  82  |\n",
       "| 145 | 2014 | 4    |  4   |  85  |\n",
       "| 146 | 2014 | 0    |  5   |  81  |\n",
       "| 147 | 2014 | 1    |  5   | 148  |\n",
       "| 148 | 2014 | 2    |  5   |  87  |\n",
       "| 149 | 2014 | 3    |  5   |  82  |\n",
       "| 150 | 2014 | 4    |  5   |  87  |\n",
       "\n"
      ],
      "text/plain": [
       "    년도 일차 출발시간 소요시간\n",
       "100 2013 4    19       185     \n",
       "101 2013 0    20        87     \n",
       "102 2013 1    20        95     \n",
       "103 2013 2    20       145     \n",
       "104 2013 3    20        93     \n",
       "105 2013 4    20       202     \n",
       "106 2013 0    21        92     \n",
       "107 2013 1    21        92     \n",
       "108 2013 2    21       128     \n",
       "109 2013 3    21        91     \n",
       "110 2013 4    21       211     \n",
       "111 2013 0    22        91     \n",
       "112 2013 1    22        86     \n",
       "113 2013 2    22       116     \n",
       "114 2013 3    22        88     \n",
       "115 2013 4    22       212     \n",
       "116 2013 0    23        88     \n",
       "117 2013 1    23        85     \n",
       "118 2013 2    23       107     \n",
       "119 2013 3    23        89     \n",
       "120 2013 4    23       183     \n",
       "121 2014 0     0        84     \n",
       "122 2014 1     0       155     \n",
       "123 2014 2     0        81     \n",
       "124 2014 3     0        82     \n",
       "125 2014 4     0        80     \n",
       "126 2014 0     1        82     \n",
       "127 2014 1     1       158     \n",
       "128 2014 2     1        82     \n",
       "129 2014 3     1        82     \n",
       "130 2014 4     1        80     \n",
       "131 2014 0     2        82     \n",
       "132 2014 1     2       150     \n",
       "133 2014 2     2        83     \n",
       "134 2014 3     2        87     \n",
       "135 2014 4     2        83     \n",
       "136 2014 0     3        83     \n",
       "137 2014 1     3       146     \n",
       "138 2014 2     3        85     \n",
       "139 2014 3     3        83     \n",
       "140 2014 4     3        82     \n",
       "141 2014 0     4        80     \n",
       "142 2014 1     4       154     \n",
       "143 2014 2     4        87     \n",
       "144 2014 3     4        82     \n",
       "145 2014 4     4        85     \n",
       "146 2014 0     5        81     \n",
       "147 2014 1     5       148     \n",
       "148 2014 2     5        87     \n",
       "149 2014 3     5        82     \n",
       "150 2014 4     5        87     "
      ]
     },
     "metadata": {},
     "output_type": "display_data"
    }
   ],
   "source": [
    "최종데이터[100:150,]"
   ]
  },
  {
   "cell_type": "code",
   "execution_count": 140,
   "metadata": {
    "vscode": {
     "languageId": "r"
    }
   },
   "outputs": [],
   "source": [
    "write.csv(최종데이터, \"../AIData/서울대전최종.csv\", row.names=F)"
   ]
  },
  {
   "cell_type": "code",
   "execution_count": 141,
   "metadata": {
    "vscode": {
     "languageId": "r"
    }
   },
   "outputs": [
    {
     "data": {
      "text/html": [
       "960"
      ],
      "text/latex": [
       "960"
      ],
      "text/markdown": [
       "960"
      ],
      "text/plain": [
       "[1] 960"
      ]
     },
     "metadata": {},
     "output_type": "display_data"
    }
   ],
   "source": [
    "24*5*8"
   ]
  },
  {
   "cell_type": "code",
   "execution_count": null,
   "metadata": {
    "vscode": {
     "languageId": "r"
    }
   },
   "outputs": [],
   "source": []
  }
 ],
 "metadata": {
  "kernelspec": {
   "display_name": "R",
   "language": "R",
   "name": "ir"
  },
  "language_info": {
   "codemirror_mode": "r",
   "file_extension": ".r",
   "mimetype": "text/x-r-source",
   "name": "R",
   "pygments_lexer": "r",
   "version": "3.6.1"
  },
  "orig_nbformat": 4
 },
 "nbformat": 4,
 "nbformat_minor": 2
}
