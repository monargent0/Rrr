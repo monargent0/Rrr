{
 "cells": [
  {
   "cell_type": "markdown",
   "metadata": {},
   "source": [
    "# 가설 증명 / TEST"
   ]
  },
  {
   "cell_type": "markdown",
   "metadata": {},
   "source": [
    "# 카이제곱 검정 \n",
    ": 두 범주형(category) 변수가 서로 상관이 있는지 판단하는 통계적 검정 방법. <br>\n",
    "예) 학력, 성별, 직업의 만족도(매우나쁨 (1)~ 매우좋음(5)) \n",
    "\n",
    "### 아동별 장난감 보유 현황\n",
    "- 귀무가설 (당연한 것, 분석할 가치가 없는것) : child 1과 child2의 장난감 보유수에 대한 만족도는 차이가 없다.\n",
    "- 대립가설 (분석할 것) : child1과 child2의 장난감 보유수에 대한 만독도는 차이가 있다."
   ]
  },
  {
   "cell_type": "code",
   "execution_count": 6,
   "metadata": {
    "vscode": {
     "languageId": "r"
    }
   },
   "outputs": [
    {
     "data": {
      "text/html": [
       "<table>\n",
       "<thead><tr><th></th><th scope=col>child1</th><th scope=col>child2</th></tr></thead>\n",
       "<tbody>\n",
       "\t<tr><th scope=row>car</th><td> 5</td><td>4 </td></tr>\n",
       "\t<tr><th scope=row>truck</th><td>11</td><td>7 </td></tr>\n",
       "\t<tr><th scope=row>doll</th><td> 1</td><td>3 </td></tr>\n",
       "</tbody>\n",
       "</table>\n"
      ],
      "text/latex": [
       "\\begin{tabular}{r|ll}\n",
       "  & child1 & child2\\\\\n",
       "\\hline\n",
       "\tcar &  5 & 4 \\\\\n",
       "\ttruck & 11 & 7 \\\\\n",
       "\tdoll &  1 & 3 \\\\\n",
       "\\end{tabular}\n"
      ],
      "text/markdown": [
       "\n",
       "| <!--/--> | child1 | child2 |\n",
       "|---|---|---|\n",
       "| car |  5 | 4  |\n",
       "| truck | 11 | 7  |\n",
       "| doll |  1 | 3  |\n",
       "\n"
      ],
      "text/plain": [
       "      child1 child2\n",
       "car    5     4     \n",
       "truck 11     7     \n",
       "doll   1     3     "
      ]
     },
     "metadata": {},
     "output_type": "display_data"
    }
   ],
   "source": [
    "# child 별 장난감 보유 현황 데이터\n",
    "child1 <- c(5,11,1)\n",
    "child2 <- c(4,7,3)\n",
    "\n",
    "#분석을 위해 데이터 합치기\n",
    "Toy <- cbind(child1,child2)\n",
    "rownames(Toy) <- c(\"car\",\"truck\",\"doll\")\n",
    "Toy"
   ]
  },
  {
   "cell_type": "code",
   "execution_count": 8,
   "metadata": {
    "vscode": {
     "languageId": "r"
    }
   },
   "outputs": [
    {
     "name": "stderr",
     "output_type": "stream",
     "text": [
      "Warning message in chisq.test(Toy):\n",
      "“Chi-squared approximation may be incorrect”"
     ]
    },
    {
     "data": {
      "text/plain": [
       "\n",
       "\tPearson's Chi-squared test\n",
       "\n",
       "data:  Toy\n",
       "X-squared = 1.7258, df = 2, p-value = 0.4219\n"
      ]
     },
     "metadata": {},
     "output_type": "display_data"
    },
    {
     "data": {
      "text/html": [
       "0.986241382612456"
      ],
      "text/latex": [
       "0.986241382612456"
      ],
      "text/markdown": [
       "0.986241382612456"
      ],
      "text/plain": [
       "[1] 0.9862414"
      ]
     },
     "metadata": {},
     "output_type": "display_data"
    }
   ],
   "source": [
    "# 카이제곱 검정 실시 \n",
    "chisq.test(Toy)\n",
    "# 해석 p-value 가 중요하다\n",
    "cor(child1, child2) # 98퍼 : child1,2가 쌍둥이처럼 비슷한 데이터다. 분석할 이유가 없음"
   ]
  },
  {
   "cell_type": "markdown",
   "metadata": {},
   "source": [
    "### 결론\n",
    "p-value = 0.4219 > 0.05(95% 신뢰구간) -> 귀무가설을 기각할 수 없음 , 대립가설을 체택할 수 없음 <br>\n",
    "= 데이터의 40%가 사용할 수 없다 : 못 쓰는 데이터다 \n",
    "> child1과 child2의 데이터는 통계적으로 큰 차이가 없다.\n",
    "\n",
    "p-value는 0에 가까울수록 좋다. 미리 정해진 유의수준(일반적으로 0.05) 보다 작으면 대립가설을 체택하고 유의수준보다 크면 귀무가설을 체택한다."
   ]
  },
  {
   "cell_type": "markdown",
   "metadata": {},
   "source": [
    "### 메세지 : 카이제곱의 근사값이 정확하지 않을 수도 있다.\n",
    "- 데이터량이 적은 경우 발생"
   ]
  },
  {
   "cell_type": "markdown",
   "metadata": {},
   "source": [
    "# 피셔검정\n",
    "데이터 갯수가 적을때 사용"
   ]
  },
  {
   "cell_type": "code",
   "execution_count": 10,
   "metadata": {
    "vscode": {
     "languageId": "r"
    }
   },
   "outputs": [
    {
     "data": {
      "text/plain": [
       "\n",
       "\tFisher's Exact Test for Count Data\n",
       "\n",
       "data:  Toy\n",
       "p-value = 0.5165\n",
       "alternative hypothesis: two.sided\n"
      ]
     },
     "metadata": {},
     "output_type": "display_data"
    }
   ],
   "source": [
    "fisher.test(Toy)\n",
    "\n",
    "# p-value = 0.5165 > 0.05 --> 귀무가설"
   ]
  },
  {
   "cell_type": "markdown",
   "metadata": {},
   "source": [
    "---\n",
    "# t - 검정\n",
    "소비자원 <br>\n",
    "예) 광고 '배터리 타임 1000시간(평균값)' , 소비자 '배터리 타임 ? '\n",
    "퀄리티를 일정하게 뽑는 양산기술이 있는지 판단하는데 사용"
   ]
  },
  {
   "cell_type": "code",
   "execution_count": null,
   "metadata": {
    "vscode": {
     "languageId": "r"
    }
   },
   "outputs": [],
   "source": [
    "# 귀무가설 : 건전지 수명은 1000시간이다.\n",
    "# 대립가설 : 건전지의 수명은 1000시간이 아니다."
   ]
  },
  {
   "cell_type": "code",
   "execution_count": 14,
   "metadata": {
    "vscode": {
     "languageId": "r"
    }
   },
   "outputs": [
    {
     "data": {
      "text/plain": [
       "\n",
       "\tShapiro-Wilk normality test\n",
       "\n",
       "data:  bat\n",
       "W = 0.97706, p-value = 0.9469\n"
      ]
     },
     "metadata": {},
     "output_type": "display_data"
    },
    {
     "data": {
      "text/plain": [
       "\n",
       "\tOne Sample t-test\n",
       "\n",
       "data:  bat\n",
       "t = 0.25891, df = 7, p-value = 0.8032\n",
       "alternative hypothesis: true mean is not equal to 1000\n",
       "95 percent confidence interval:\n",
       "  984.7508 1018.9992\n",
       "sample estimates:\n",
       "mean of x \n",
       " 1001.875 \n"
      ]
     },
     "metadata": {},
     "output_type": "display_data"
    }
   ],
   "source": [
    "bat <- c(980, 1008, 968, 1032, 1012, 1002, 996, 1017)\n",
    "\n",
    "# 데이터의 분포가 정규분포인지 확인한다 (진짜 확실한 데이터인지 확인한다) ---> Shapiro-Wilk 검정을 실시\n",
    "# 귀무가설 : 자료가 정규분포를 따른다\n",
    "# 대립가설 : 자료가 정규분포를 따르지 않는다\n",
    "\n",
    "shapiro.test(bat)\n",
    "# p-value = 0.9758 > 0.05 ---> 귀무가설\n",
    "\n",
    "# t - 검정 실시\n",
    "t.test(bat, mu = 1000, alternative = \"two.sided\")\n",
    "\n",
    "## t.test 옵션\n",
    "# mu : 비교하는 대상의 평균\n",
    "# alternative - two.sided : 데이터가 평균에 따른다\n",
    "# alternative - greater : 데이터가 평균보다 크다\n",
    "# alternative - less : 데이터가 평균보다 작다\n",
    "\n",
    "# p-value = 0.8032 > 0.05 ---> 귀무가설: 건전지의 수명은 1000시간이다.\n",
    "# 현재 데이터의 평균 1001.875\n",
    "# 95% 신뢰구간 984.7508 ~ 1018.9992\n"
   ]
  },
  {
   "cell_type": "markdown",
   "metadata": {},
   "source": [
    "> 5/4 끗"
   ]
  },
  {
   "cell_type": "code",
   "execution_count": null,
   "metadata": {
    "vscode": {
     "languageId": "r"
    }
   },
   "outputs": [],
   "source": []
  }
 ],
 "metadata": {
  "kernelspec": {
   "display_name": "R",
   "language": "R",
   "name": "ir"
  },
  "language_info": {
   "codemirror_mode": "r",
   "file_extension": ".r",
   "mimetype": "text/x-r-source",
   "name": "R",
   "pygments_lexer": "r",
   "version": "3.6.1"
  },
  "orig_nbformat": 4
 },
 "nbformat": 4,
 "nbformat_minor": 2
}
