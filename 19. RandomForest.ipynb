{
 "cells": [
  {
   "cell_type": "code",
   "execution_count": 1,
   "metadata": {
    "vscode": {
     "languageId": "r"
    }
   },
   "outputs": [],
   "source": [
    "# Ensemble (앙상블기법) : Model들을 같이 엮어서 사용하는 방법 / 예측력이 높다 "
   ]
  },
  {
   "cell_type": "code",
   "execution_count": 8,
   "metadata": {
    "vscode": {
     "languageId": "r"
    }
   },
   "outputs": [],
   "source": [
    "library(randomForest)\n",
    "library(caret) # createDataPartition"
   ]
  },
  {
   "cell_type": "code",
   "execution_count": 16,
   "metadata": {
    "vscode": {
     "languageId": "r"
    }
   },
   "outputs": [],
   "source": [
    "# Sampling (공통)\n",
    "set.seed(1234)\n",
    "samp <- createDataPartition(iris$Species, p=0.7, list=F) # 0.7 0.75 0.8 정도를 많이 사용. 데이터 많을 때는 0.8 사용 추천\n",
    "# 학습용 데이터 만들기 \n",
    "data.tr <- iris[samp,]\n",
    "# 검증용 데이터 만들기\n",
    "data.test <- iris[-samp,]\n",
    "# 문제 및 정답 만들기\n",
    "x <- subset(data.test, select = -Species)\n",
    "y <- data.test$Species"
   ]
  },
  {
   "cell_type": "code",
   "execution_count": 18,
   "metadata": {
    "vscode": {
     "languageId": "r"
    }
   },
   "outputs": [],
   "source": [
    "# 학습시키기 \n",
    "model.rf <- randomForest(Species ~ . , data = data.tr , ntree = 100 ) # ctree를 몇개 쓸거냐 : ntree, 기본값 100 , 객관,주관식을 따지지 않는다. \n",
    "# 앙상블 기법중에서는 제일 잘 만들어졌다고 평가, R에서는 앙상블을 못만든다. 파이썬에서 배움. \n"
   ]
  },
  {
   "cell_type": "code",
   "execution_count": 19,
   "metadata": {
    "vscode": {
     "languageId": "r"
    }
   },
   "outputs": [],
   "source": [
    "# 검증하기 \n",
    "pred <- predict(model.rf , x)"
   ]
  },
  {
   "cell_type": "code",
   "execution_count": 20,
   "metadata": {
    "vscode": {
     "languageId": "r"
    }
   },
   "outputs": [
    {
     "data": {
      "text/html": [
       "0.933333333333333"
      ],
      "text/latex": [
       "0.933333333333333"
      ],
      "text/markdown": [
       "0.933333333333333"
      ],
      "text/plain": [
       "[1] 0.9333333"
      ]
     },
     "metadata": {},
     "output_type": "display_data"
    },
    {
     "data": {
      "text/plain": [
       "            y\n",
       "pred         setosa versicolor virginica\n",
       "  setosa         15          0         0\n",
       "  versicolor      0         12         0\n",
       "  virginica       0          3        15"
      ]
     },
     "metadata": {},
     "output_type": "display_data"
    }
   ],
   "source": [
    "# 예측력과 오류분포\n",
    "mean(pred == y)\n",
    "table(pred , y)"
   ]
  },
  {
   "cell_type": "code",
   "execution_count": null,
   "metadata": {
    "vscode": {
     "languageId": "r"
    }
   },
   "outputs": [],
   "source": []
  }
 ],
 "metadata": {
  "kernelspec": {
   "display_name": "R",
   "language": "R",
   "name": "ir"
  },
  "language_info": {
   "codemirror_mode": "r",
   "file_extension": ".r",
   "mimetype": "text/x-r-source",
   "name": "R",
   "pygments_lexer": "r",
   "version": "3.6.1"
  },
  "orig_nbformat": 4
 },
 "nbformat": 4,
 "nbformat_minor": 2
}
