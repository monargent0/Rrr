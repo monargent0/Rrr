{
 "cells": [
  {
   "cell_type": "markdown",
   "metadata": {},
   "source": [
    "# 1880년 부터 2014까지의 미국의 아기 이름을 정리해놓은 데이터 셋"
   ]
  },
  {
   "cell_type": "code",
   "execution_count": 8,
   "metadata": {
    "vscode": {
     "languageId": "r"
    }
   },
   "outputs": [
    {
     "data": {
      "text/html": [
       "<table>\n",
       "<thead><tr><th scope=col>Name</th><th scope=col>Gender</th><th scope=col>Count</th><th scope=col>Year</th><th scope=col>Year.Rank</th></tr></thead>\n",
       "<tbody>\n",
       "\t<tr><td>Mary                  </td><td>F                     </td><td>7065                  </td><td>01/01/1880 12:00:00 AM</td><td>1                     </td></tr>\n",
       "\t<tr><td>Anna                  </td><td>F                     </td><td>2604                  </td><td>01/01/1880 12:00:00 AM</td><td>2                     </td></tr>\n",
       "\t<tr><td>Emma                  </td><td>F                     </td><td>2003                  </td><td>01/01/1880 12:00:00 AM</td><td>3                     </td></tr>\n",
       "\t<tr><td>Elizabeth             </td><td>F                     </td><td>1939                  </td><td>01/01/1880 12:00:00 AM</td><td>4                     </td></tr>\n",
       "\t<tr><td>Minnie                </td><td>F                     </td><td>1746                  </td><td>01/01/1880 12:00:00 AM</td><td>5                     </td></tr>\n",
       "\t<tr><td>Margaret              </td><td>F                     </td><td>1578                  </td><td>01/01/1880 12:00:00 AM</td><td>6                     </td></tr>\n",
       "</tbody>\n",
       "</table>\n"
      ],
      "text/latex": [
       "\\begin{tabular}{r|lllll}\n",
       " Name & Gender & Count & Year & Year.Rank\\\\\n",
       "\\hline\n",
       "\t Mary                   & F                      & 7065                   & 01/01/1880 12:00:00 AM & 1                     \\\\\n",
       "\t Anna                   & F                      & 2604                   & 01/01/1880 12:00:00 AM & 2                     \\\\\n",
       "\t Emma                   & F                      & 2003                   & 01/01/1880 12:00:00 AM & 3                     \\\\\n",
       "\t Elizabeth              & F                      & 1939                   & 01/01/1880 12:00:00 AM & 4                     \\\\\n",
       "\t Minnie                 & F                      & 1746                   & 01/01/1880 12:00:00 AM & 5                     \\\\\n",
       "\t Margaret               & F                      & 1578                   & 01/01/1880 12:00:00 AM & 6                     \\\\\n",
       "\\end{tabular}\n"
      ],
      "text/markdown": [
       "\n",
       "| Name | Gender | Count | Year | Year.Rank |\n",
       "|---|---|---|---|---|\n",
       "| Mary                   | F                      | 7065                   | 01/01/1880 12:00:00 AM | 1                      |\n",
       "| Anna                   | F                      | 2604                   | 01/01/1880 12:00:00 AM | 2                      |\n",
       "| Emma                   | F                      | 2003                   | 01/01/1880 12:00:00 AM | 3                      |\n",
       "| Elizabeth              | F                      | 1939                   | 01/01/1880 12:00:00 AM | 4                      |\n",
       "| Minnie                 | F                      | 1746                   | 01/01/1880 12:00:00 AM | 5                      |\n",
       "| Margaret               | F                      | 1578                   | 01/01/1880 12:00:00 AM | 6                      |\n",
       "\n"
      ],
      "text/plain": [
       "  Name      Gender Count Year                   Year.Rank\n",
       "1 Mary      F      7065  01/01/1880 12:00:00 AM 1        \n",
       "2 Anna      F      2604  01/01/1880 12:00:00 AM 2        \n",
       "3 Emma      F      2003  01/01/1880 12:00:00 AM 3        \n",
       "4 Elizabeth F      1939  01/01/1880 12:00:00 AM 4        \n",
       "5 Minnie    F      1746  01/01/1880 12:00:00 AM 5        \n",
       "6 Margaret  F      1578  01/01/1880 12:00:00 AM 6        "
      ]
     },
     "metadata": {},
     "output_type": "display_data"
    }
   ],
   "source": [
    "baby <- read.csv(\"../Data/R_Baby_Names_1880-2014.csv\", stringsAsFactors = F)\n",
    "head(baby)"
   ]
  },
  {
   "cell_type": "code",
   "execution_count": 13,
   "metadata": {
    "vscode": {
     "languageId": "r"
    }
   },
   "outputs": [
    {
     "data": {
      "text/html": [
       "<table>\n",
       "<thead><tr><th></th><th scope=col>Name</th><th scope=col>Gender</th><th scope=col>Count</th><th scope=col>Year</th><th scope=col>Year.Rank</th></tr></thead>\n",
       "<tbody>\n",
       "\t<tr><th scope=row>1825383</th><td>Zyel   </td><td>M      </td><td>5      </td><td>2014   </td><td>13972  </td></tr>\n",
       "\t<tr><th scope=row>1825384</th><td>Zykeem </td><td>M      </td><td>5      </td><td>2014   </td><td>13973  </td></tr>\n",
       "\t<tr><th scope=row>1825385</th><td>Zymeer </td><td>M      </td><td>5      </td><td>2014   </td><td>13974  </td></tr>\n",
       "\t<tr><th scope=row>1825386</th><td>Zymiere</td><td>M      </td><td>5      </td><td>2014   </td><td>13975  </td></tr>\n",
       "\t<tr><th scope=row>1825387</th><td>Zyran  </td><td>M      </td><td>5      </td><td>2014   </td><td>13976  </td></tr>\n",
       "\t<tr><th scope=row>1825388</th><td>Zyrin  </td><td>M      </td><td>5      </td><td>2014   </td><td>13977  </td></tr>\n",
       "</tbody>\n",
       "</table>\n"
      ],
      "text/latex": [
       "\\begin{tabular}{r|lllll}\n",
       "  & Name & Gender & Count & Year & Year.Rank\\\\\n",
       "\\hline\n",
       "\t1825383 & Zyel    & M       & 5       & 2014    & 13972  \\\\\n",
       "\t1825384 & Zykeem  & M       & 5       & 2014    & 13973  \\\\\n",
       "\t1825385 & Zymeer  & M       & 5       & 2014    & 13974  \\\\\n",
       "\t1825386 & Zymiere & M       & 5       & 2014    & 13975  \\\\\n",
       "\t1825387 & Zyran   & M       & 5       & 2014    & 13976  \\\\\n",
       "\t1825388 & Zyrin   & M       & 5       & 2014    & 13977  \\\\\n",
       "\\end{tabular}\n"
      ],
      "text/markdown": [
       "\n",
       "| <!--/--> | Name | Gender | Count | Year | Year.Rank |\n",
       "|---|---|---|---|---|---|\n",
       "| 1825383 | Zyel    | M       | 5       | 2014    | 13972   |\n",
       "| 1825384 | Zykeem  | M       | 5       | 2014    | 13973   |\n",
       "| 1825385 | Zymeer  | M       | 5       | 2014    | 13974   |\n",
       "| 1825386 | Zymiere | M       | 5       | 2014    | 13975   |\n",
       "| 1825387 | Zyran   | M       | 5       | 2014    | 13976   |\n",
       "| 1825388 | Zyrin   | M       | 5       | 2014    | 13977   |\n",
       "\n"
      ],
      "text/plain": [
       "        Name    Gender Count Year Year.Rank\n",
       "1825383 Zyel    M      5     2014 13972    \n",
       "1825384 Zykeem  M      5     2014 13973    \n",
       "1825385 Zymeer  M      5     2014 13974    \n",
       "1825386 Zymiere M      5     2014 13975    \n",
       "1825387 Zyran   M      5     2014 13976    \n",
       "1825388 Zyrin   M      5     2014 13977    "
      ]
     },
     "metadata": {},
     "output_type": "display_data"
    },
    {
     "name": "stdout",
     "output_type": "stream",
     "text": [
      "'data.frame':\t1825388 obs. of  5 variables:\n",
      " $ Name     : chr  \"Mary\" \"Anna\" \"Emma\" \"Elizabeth\" ...\n",
      " $ Gender   : chr  \"F\" \"F\" \"F\" \"F\" ...\n",
      " $ Count    : int  7065 2604 2003 1939 1746 1578 1472 1414 1320 1288 ...\n",
      " $ Year     : chr  \"1880\" \"1880\" \"1880\" \"1880\" ...\n",
      " $ Year.Rank: int  1 2 3 4 5 6 7 8 9 10 ...\n",
      "'data.frame':\t1825388 obs. of  5 variables:\n",
      " $ Name     : chr  \"Mary\" \"Anna\" \"Emma\" \"Elizabeth\" ...\n",
      " $ Gender   : Factor w/ 2 levels \"F\",\"M\": 1 1 1 1 1 1 1 1 1 1 ...\n",
      " $ Count    : int  7065 2604 2003 1939 1746 1578 1472 1414 1320 1288 ...\n",
      " $ Year     : chr  \"1880\" \"1880\" \"1880\" \"1880\" ...\n",
      " $ Year.Rank: int  1 2 3 4 5 6 7 8 9 10 ...\n"
     ]
    }
   ],
   "source": [
    "tail(baby)\n",
    "# Year 데이터에 쓸데없는 글자(1월1일 12시)들이 들어가 있다 \n",
    "str(baby) \n",
    "# Name이 Factor로 들어가 있다, \n",
    "baby$Gender <- as.factor(baby$Gender)\n",
    "# 성별은 Factor로 있어야 한다\n",
    "str(baby)"
   ]
  },
  {
   "cell_type": "code",
   "execution_count": 9,
   "metadata": {
    "vscode": {
     "languageId": "r"
    }
   },
   "outputs": [
    {
     "data": {
      "text/html": [
       "<table>\n",
       "<thead><tr><th scope=col>Name</th><th scope=col>Gender</th><th scope=col>Count</th><th scope=col>Year</th><th scope=col>Year.Rank</th></tr></thead>\n",
       "<tbody>\n",
       "\t<tr><td>Mary     </td><td>F        </td><td>7065     </td><td>1880     </td><td>1        </td></tr>\n",
       "\t<tr><td>Anna     </td><td>F        </td><td>2604     </td><td>1880     </td><td>2        </td></tr>\n",
       "\t<tr><td>Emma     </td><td>F        </td><td>2003     </td><td>1880     </td><td>3        </td></tr>\n",
       "\t<tr><td>Elizabeth</td><td>F        </td><td>1939     </td><td>1880     </td><td>4        </td></tr>\n",
       "\t<tr><td>Minnie   </td><td>F        </td><td>1746     </td><td>1880     </td><td>5        </td></tr>\n",
       "\t<tr><td>Margaret </td><td>F        </td><td>1578     </td><td>1880     </td><td>6        </td></tr>\n",
       "</tbody>\n",
       "</table>\n"
      ],
      "text/latex": [
       "\\begin{tabular}{r|lllll}\n",
       " Name & Gender & Count & Year & Year.Rank\\\\\n",
       "\\hline\n",
       "\t Mary      & F         & 7065      & 1880      & 1        \\\\\n",
       "\t Anna      & F         & 2604      & 1880      & 2        \\\\\n",
       "\t Emma      & F         & 2003      & 1880      & 3        \\\\\n",
       "\t Elizabeth & F         & 1939      & 1880      & 4        \\\\\n",
       "\t Minnie    & F         & 1746      & 1880      & 5        \\\\\n",
       "\t Margaret  & F         & 1578      & 1880      & 6        \\\\\n",
       "\\end{tabular}\n"
      ],
      "text/markdown": [
       "\n",
       "| Name | Gender | Count | Year | Year.Rank |\n",
       "|---|---|---|---|---|\n",
       "| Mary      | F         | 7065      | 1880      | 1         |\n",
       "| Anna      | F         | 2604      | 1880      | 2         |\n",
       "| Emma      | F         | 2003      | 1880      | 3         |\n",
       "| Elizabeth | F         | 1939      | 1880      | 4         |\n",
       "| Minnie    | F         | 1746      | 1880      | 5         |\n",
       "| Margaret  | F         | 1578      | 1880      | 6         |\n",
       "\n"
      ],
      "text/plain": [
       "  Name      Gender Count Year Year.Rank\n",
       "1 Mary      F      7065  1880 1        \n",
       "2 Anna      F      2604  1880 2        \n",
       "3 Emma      F      2003  1880 3        \n",
       "4 Elizabeth F      1939  1880 4        \n",
       "5 Minnie    F      1746  1880 5        \n",
       "6 Margaret  F      1578  1880 6        "
      ]
     },
     "metadata": {},
     "output_type": "display_data"
    }
   ],
   "source": [
    "# baby의 YEAR부분 정리하기\n",
    "baby$Year <- substr(baby$Year, 7, 10)\n",
    "head(baby)"
   ]
  },
  {
   "cell_type": "code",
   "execution_count": 10,
   "metadata": {
    "vscode": {
     "languageId": "r"
    }
   },
   "outputs": [],
   "source": [
    "# 저장하기\n",
    "write.csv(baby , \"../Data/baby.csv\", row.names = F)"
   ]
  },
  {
   "cell_type": "code",
   "execution_count": 14,
   "metadata": {
    "vscode": {
     "languageId": "r"
    }
   },
   "outputs": [
    {
     "data": {
      "text/plain": [
       "     Name           Gender          Count             Year          \n",
       " Length:1825388     F:1081660   Min.   :    5.0   Length:1825388    \n",
       " Class :character   M: 743728   1st Qu.:    7.0   Class :character  \n",
       " Mode  :character               Median :   12.0   Mode  :character  \n",
       "                                Mean   :  184.7                     \n",
       "                                3rd Qu.:   32.0                     \n",
       "                                Max.   :99680.0                     \n",
       "   Year.Rank    \n",
       " Min.   :    1  \n",
       " 1st Qu.: 1790  \n",
       " Median : 4009  \n",
       " Mean   : 5301  \n",
       " 3rd Qu.: 7820  \n",
       " Max.   :20548  "
      ]
     },
     "metadata": {},
     "output_type": "display_data"
    }
   ],
   "source": [
    "summary(baby) \n",
    "# 여자아이 값이 더 큰 것은 여자아이 이름 종류가 더 많은 것이지 성비가 여자가 높다는 뜻이 아니다"
   ]
  },
  {
   "cell_type": "code",
   "execution_count": 28,
   "metadata": {
    "vscode": {
     "languageId": "r"
    }
   },
   "outputs": [
    {
     "data": {
      "text/html": [
       "1081660"
      ],
      "text/latex": [
       "1081660"
      ],
      "text/markdown": [
       "1081660"
      ],
      "text/plain": [
       "[1] 1081660"
      ]
     },
     "metadata": {},
     "output_type": "display_data"
    },
    {
     "data": {
      "text/html": [
       "743728"
      ],
      "text/latex": [
       "743728"
      ],
      "text/markdown": [
       "743728"
      ],
      "text/plain": [
       "[1] 743728"
      ]
     },
     "metadata": {},
     "output_type": "display_data"
    },
    {
     "data": {
      "text/html": [
       "64911"
      ],
      "text/latex": [
       "64911"
      ],
      "text/markdown": [
       "64911"
      ],
      "text/plain": [
       "[1] 64911"
      ]
     },
     "metadata": {},
     "output_type": "display_data"
    }
   ],
   "source": [
    "# 인구분포 현황 그래프 그리기 \n",
    "# baby에서 여자아이만 Female이라는 dataset을 만들고 row 수 구하기\n",
    "Female <- subset(baby, Gender == 'F')\n",
    "nrow(Female)\n",
    "Male <- subset(baby, Gender == 'M')\n",
    "nrow(Male)\n",
    "Female$Gender <- factor(Female$Gender)\n",
    "Male$Gender <- factor(Male$Gender)\n",
    "\n",
    "# 여자아이 이름 중복 제거하고 갯수 구하기\n",
    "length(unique(Female$Name))"
   ]
  },
  {
   "cell_type": "code",
   "execution_count": 32,
   "metadata": {
    "vscode": {
     "languageId": "r"
    }
   },
   "outputs": [
    {
     "data": {
      "text/html": [
       "<ol class=list-inline>\n",
       "\t<li>'Mary'</li>\n",
       "\t<li>'Anna'</li>\n",
       "\t<li>'Emma'</li>\n",
       "\t<li>'Elizabeth'</li>\n",
       "\t<li>'Minnie'</li>\n",
       "\t<li>'Margaret'</li>\n",
       "\t<li>'Ida'</li>\n",
       "\t<li>'Alice'</li>\n",
       "\t<li>'Bertha'</li>\n",
       "\t<li>'Sarah'</li>\n",
       "\t<li>'Annie'</li>\n",
       "\t<li>'Clara'</li>\n",
       "\t<li>'Ella'</li>\n",
       "\t<li>'Florence'</li>\n",
       "\t<li>'Cora'</li>\n",
       "\t<li>'Martha'</li>\n",
       "\t<li>'Laura'</li>\n",
       "\t<li>'Nellie'</li>\n",
       "\t<li>'Grace'</li>\n",
       "\t<li>'Carrie'</li>\n",
       "</ol>\n"
      ],
      "text/latex": [
       "\\begin{enumerate*}\n",
       "\\item 'Mary'\n",
       "\\item 'Anna'\n",
       "\\item 'Emma'\n",
       "\\item 'Elizabeth'\n",
       "\\item 'Minnie'\n",
       "\\item 'Margaret'\n",
       "\\item 'Ida'\n",
       "\\item 'Alice'\n",
       "\\item 'Bertha'\n",
       "\\item 'Sarah'\n",
       "\\item 'Annie'\n",
       "\\item 'Clara'\n",
       "\\item 'Ella'\n",
       "\\item 'Florence'\n",
       "\\item 'Cora'\n",
       "\\item 'Martha'\n",
       "\\item 'Laura'\n",
       "\\item 'Nellie'\n",
       "\\item 'Grace'\n",
       "\\item 'Carrie'\n",
       "\\end{enumerate*}\n"
      ],
      "text/markdown": [
       "1. 'Mary'\n",
       "2. 'Anna'\n",
       "3. 'Emma'\n",
       "4. 'Elizabeth'\n",
       "5. 'Minnie'\n",
       "6. 'Margaret'\n",
       "7. 'Ida'\n",
       "8. 'Alice'\n",
       "9. 'Bertha'\n",
       "10. 'Sarah'\n",
       "11. 'Annie'\n",
       "12. 'Clara'\n",
       "13. 'Ella'\n",
       "14. 'Florence'\n",
       "15. 'Cora'\n",
       "16. 'Martha'\n",
       "17. 'Laura'\n",
       "18. 'Nellie'\n",
       "19. 'Grace'\n",
       "20. 'Carrie'\n",
       "\n",
       "\n"
      ],
      "text/plain": [
       " [1] \"Mary\"      \"Anna\"      \"Emma\"      \"Elizabeth\" \"Minnie\"    \"Margaret\" \n",
       " [7] \"Ida\"       \"Alice\"     \"Bertha\"    \"Sarah\"     \"Annie\"     \"Clara\"    \n",
       "[13] \"Ella\"      \"Florence\"  \"Cora\"      \"Martha\"    \"Laura\"     \"Nellie\"   \n",
       "[19] \"Grace\"     \"Carrie\"   "
      ]
     },
     "metadata": {},
     "output_type": "display_data"
    }
   ],
   "source": [
    "# 유일한 여자아이 이름 20개만 출력하기 \n",
    "head(unique(Female$Name), 20)"
   ]
  },
  {
   "cell_type": "code",
   "execution_count": null,
   "metadata": {
    "vscode": {
     "languageId": "r"
    }
   },
   "outputs": [],
   "source": []
  }
 ],
 "metadata": {
  "kernelspec": {
   "display_name": "R",
   "language": "R",
   "name": "ir"
  },
  "language_info": {
   "codemirror_mode": "r",
   "file_extension": ".r",
   "mimetype": "text/x-r-source",
   "name": "R",
   "pygments_lexer": "r",
   "version": "3.6.1"
  },
  "orig_nbformat": 4
 },
 "nbformat": 4,
 "nbformat_minor": 2
}
