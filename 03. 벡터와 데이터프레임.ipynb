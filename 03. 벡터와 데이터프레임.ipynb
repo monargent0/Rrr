{
 "cells": [
  {
   "cell_type": "code",
   "execution_count": 5,
   "metadata": {
    "vscode": {
     "languageId": "r"
    }
   },
   "outputs": [
    {
     "name": "stdout",
     "output_type": "stream",
     "text": [
      " [1] \"red\"  \"blue\" \"red\"  \"blue\" \"red\"  \"blue\" \"red\"  \"blue\" \"red\"  \"blue\"\n",
      "[11] \"red\"  \"blue\" \"red\"  \"blue\" \"red\"  \"blue\" \"red\"  \"blue\" \"red\"  \"blue\"\n",
      "[21] \"red\"  \"blue\" \"red\"  \"blue\" \"red\"  \"blue\" \"red\"  \"blue\" \"red\"  \"blue\"\n",
      "[31] \"red\"  \"blue\" \"red\"  \"blue\" \"red\"  \"blue\" \"red\"  \"blue\" \"red\"  \"blue\"\n",
      " [1]  1  3  5  1  2  3  4  5  6  7  8  9 10  1  3  5  7  9  1  2  3  1  2  3\n",
      " [1]  1  3  5  1  2  3  4  5  6  7  8  9 10  1  3  5  7  9  1  2  3  1  2  3\n"
     ]
    }
   ],
   "source": [
    "# red라는 글자와 blue라는 글자를 20개 만들기\n",
    "# red , blue , red , blue\n",
    "print(rep(c(\"red\",\"blue\"),20))\n",
    "\n",
    "# 135 12345678910 13579 123123 \n",
    "print(c(seq(1,5,2), 1:10 , seq(1,9,2) , rep(1:3,2)))\n",
    "print(c(c(1,3,5), 1:10 , seq(1,9,2) , rep(1:3,2)))"
   ]
  },
  {
   "cell_type": "code",
   "execution_count": 6,
   "metadata": {
    "vscode": {
     "languageId": "r"
    }
   },
   "outputs": [
    {
     "data": {
      "text/html": [
       "<table>\n",
       "<thead><tr><th scope=col>Sepal.Length</th><th scope=col>Sepal.Width</th><th scope=col>Petal.Length</th><th scope=col>Petal.Width</th><th scope=col>Species</th></tr></thead>\n",
       "<tbody>\n",
       "\t<tr><td>5.1   </td><td>3.5   </td><td>1.4   </td><td>0.2   </td><td>setosa</td></tr>\n",
       "\t<tr><td>4.9   </td><td>3.0   </td><td>1.4   </td><td>0.2   </td><td>setosa</td></tr>\n",
       "\t<tr><td>4.7   </td><td>3.2   </td><td>1.3   </td><td>0.2   </td><td>setosa</td></tr>\n",
       "\t<tr><td>4.6   </td><td>3.1   </td><td>1.5   </td><td>0.2   </td><td>setosa</td></tr>\n",
       "\t<tr><td>5.0   </td><td>3.6   </td><td>1.4   </td><td>0.2   </td><td>setosa</td></tr>\n",
       "</tbody>\n",
       "</table>\n"
      ],
      "text/latex": [
       "\\begin{tabular}{r|lllll}\n",
       " Sepal.Length & Sepal.Width & Petal.Length & Petal.Width & Species\\\\\n",
       "\\hline\n",
       "\t 5.1    & 3.5    & 1.4    & 0.2    & setosa\\\\\n",
       "\t 4.9    & 3.0    & 1.4    & 0.2    & setosa\\\\\n",
       "\t 4.7    & 3.2    & 1.3    & 0.2    & setosa\\\\\n",
       "\t 4.6    & 3.1    & 1.5    & 0.2    & setosa\\\\\n",
       "\t 5.0    & 3.6    & 1.4    & 0.2    & setosa\\\\\n",
       "\\end{tabular}\n"
      ],
      "text/markdown": [
       "\n",
       "| Sepal.Length | Sepal.Width | Petal.Length | Petal.Width | Species |\n",
       "|---|---|---|---|---|\n",
       "| 5.1    | 3.5    | 1.4    | 0.2    | setosa |\n",
       "| 4.9    | 3.0    | 1.4    | 0.2    | setosa |\n",
       "| 4.7    | 3.2    | 1.3    | 0.2    | setosa |\n",
       "| 4.6    | 3.1    | 1.5    | 0.2    | setosa |\n",
       "| 5.0    | 3.6    | 1.4    | 0.2    | setosa |\n",
       "\n"
      ],
      "text/plain": [
       "  Sepal.Length Sepal.Width Petal.Length Petal.Width Species\n",
       "1 5.1          3.5         1.4          0.2         setosa \n",
       "2 4.9          3.0         1.4          0.2         setosa \n",
       "3 4.7          3.2         1.3          0.2         setosa \n",
       "4 4.6          3.1         1.5          0.2         setosa \n",
       "5 5.0          3.6         1.4          0.2         setosa "
      ]
     },
     "metadata": {},
     "output_type": "display_data"
    },
    {
     "data": {
      "text/html": [
       "<table>\n",
       "<thead><tr><th scope=col>Sepal.Length</th><th scope=col>Petal.Length</th></tr></thead>\n",
       "<tbody>\n",
       "\t<tr><td>5.1</td><td>1.4</td></tr>\n",
       "\t<tr><td>4.9</td><td>1.4</td></tr>\n",
       "\t<tr><td>4.7</td><td>1.3</td></tr>\n",
       "\t<tr><td>4.6</td><td>1.5</td></tr>\n",
       "\t<tr><td>5.0</td><td>1.4</td></tr>\n",
       "</tbody>\n",
       "</table>\n"
      ],
      "text/latex": [
       "\\begin{tabular}{r|ll}\n",
       " Sepal.Length & Petal.Length\\\\\n",
       "\\hline\n",
       "\t 5.1 & 1.4\\\\\n",
       "\t 4.9 & 1.4\\\\\n",
       "\t 4.7 & 1.3\\\\\n",
       "\t 4.6 & 1.5\\\\\n",
       "\t 5.0 & 1.4\\\\\n",
       "\\end{tabular}\n"
      ],
      "text/markdown": [
       "\n",
       "| Sepal.Length | Petal.Length |\n",
       "|---|---|\n",
       "| 5.1 | 1.4 |\n",
       "| 4.9 | 1.4 |\n",
       "| 4.7 | 1.3 |\n",
       "| 4.6 | 1.5 |\n",
       "| 5.0 | 1.4 |\n",
       "\n"
      ],
      "text/plain": [
       "  Sepal.Length Petal.Length\n",
       "1 5.1          1.4         \n",
       "2 4.9          1.4         \n",
       "3 4.7          1.3         \n",
       "4 4.6          1.5         \n",
       "5 5.0          1.4         "
      ]
     },
     "metadata": {},
     "output_type": "display_data"
    }
   ],
   "source": [
    "# 데이터프레임\n",
    "# iris의 1~5번째 줄의 데이터만 추출해서 변수(데이터프레임)로 만들기\n",
    "head(iris, 5)\n",
    "irisHead <- iris[1:5,] # 행열 지정해서 불러오기 DB이름[ 행 , 열 ] / 전체를 불러올땐 공백\n",
    "iris[1:5 , c(1,3)]"
   ]
  },
  {
   "cell_type": "code",
   "execution_count": 7,
   "metadata": {
    "vscode": {
     "languageId": "r"
    }
   },
   "outputs": [
    {
     "data": {
      "text/html": [
       "<table>\n",
       "<thead><tr><th></th><th scope=col>1</th><th scope=col>2</th><th scope=col>3</th><th scope=col>4</th><th scope=col>5</th></tr></thead>\n",
       "<tbody>\n",
       "\t<tr><th scope=row>Sepal.Length</th><td>5.1   </td><td>4.9   </td><td>4.7   </td><td>4.6   </td><td>5.0   </td></tr>\n",
       "\t<tr><th scope=row>Sepal.Width</th><td>3.5   </td><td>3.0   </td><td>3.2   </td><td>3.1   </td><td>3.6   </td></tr>\n",
       "\t<tr><th scope=row>Petal.Length</th><td>1.4   </td><td>1.4   </td><td>1.3   </td><td>1.5   </td><td>1.4   </td></tr>\n",
       "\t<tr><th scope=row>Petal.Width</th><td>0.2   </td><td>0.2   </td><td>0.2   </td><td>0.2   </td><td>0.2   </td></tr>\n",
       "\t<tr><th scope=row>Species</th><td>setosa</td><td>setosa</td><td>setosa</td><td>setosa</td><td>setosa</td></tr>\n",
       "</tbody>\n",
       "</table>\n"
      ],
      "text/latex": [
       "\\begin{tabular}{r|lllll}\n",
       "  & 1 & 2 & 3 & 4 & 5\\\\\n",
       "\\hline\n",
       "\tSepal.Length & 5.1    & 4.9    & 4.7    & 4.6    & 5.0   \\\\\n",
       "\tSepal.Width & 3.5    & 3.0    & 3.2    & 3.1    & 3.6   \\\\\n",
       "\tPetal.Length & 1.4    & 1.4    & 1.3    & 1.5    & 1.4   \\\\\n",
       "\tPetal.Width & 0.2    & 0.2    & 0.2    & 0.2    & 0.2   \\\\\n",
       "\tSpecies & setosa & setosa & setosa & setosa & setosa\\\\\n",
       "\\end{tabular}\n"
      ],
      "text/markdown": [
       "\n",
       "| <!--/--> | 1 | 2 | 3 | 4 | 5 |\n",
       "|---|---|---|---|---|---|\n",
       "| Sepal.Length | 5.1    | 4.9    | 4.7    | 4.6    | 5.0    |\n",
       "| Sepal.Width | 3.5    | 3.0    | 3.2    | 3.1    | 3.6    |\n",
       "| Petal.Length | 1.4    | 1.4    | 1.3    | 1.5    | 1.4    |\n",
       "| Petal.Width | 0.2    | 0.2    | 0.2    | 0.2    | 0.2    |\n",
       "| Species | setosa | setosa | setosa | setosa | setosa |\n",
       "\n"
      ],
      "text/plain": [
       "             1      2      3      4      5     \n",
       "Sepal.Length 5.1    4.9    4.7    4.6    5.0   \n",
       "Sepal.Width  3.5    3.0    3.2    3.1    3.6   \n",
       "Petal.Length 1.4    1.4    1.3    1.5    1.4   \n",
       "Petal.Width  0.2    0.2    0.2    0.2    0.2   \n",
       "Species      setosa setosa setosa setosa setosa"
      ]
     },
     "metadata": {},
     "output_type": "display_data"
    }
   ],
   "source": [
    "# 행과 열을 뒤집는다.\n",
    "# 횡(가로)으로 긴 데이터는 행열을 뒤집어줘야 한다. 횡으로 긴 데이터는 분석프로그램 사용 불가능하다.\n",
    "t(irisHead)"
   ]
  },
  {
   "cell_type": "code",
   "execution_count": 8,
   "metadata": {
    "vscode": {
     "languageId": "r"
    }
   },
   "outputs": [
    {
     "data": {
      "text/html": [
       "<table>\n",
       "<thead><tr><th></th><th scope=col>Sepal.Length</th><th scope=col>Sepal.Width</th><th scope=col>Petal.Length</th><th scope=col>Petal.Width</th><th scope=col>Species</th></tr></thead>\n",
       "<tbody>\n",
       "\t<tr><th scope=row>10</th><td>4.9       </td><td>3.1       </td><td>1.5       </td><td>0.1       </td><td>setosa    </td></tr>\n",
       "\t<tr><th scope=row>20</th><td>5.1       </td><td>3.8       </td><td>1.5       </td><td>0.3       </td><td>setosa    </td></tr>\n",
       "\t<tr><th scope=row>30</th><td>4.7       </td><td>3.2       </td><td>1.6       </td><td>0.2       </td><td>setosa    </td></tr>\n",
       "\t<tr><th scope=row>40</th><td>5.1       </td><td>3.4       </td><td>1.5       </td><td>0.2       </td><td>setosa    </td></tr>\n",
       "\t<tr><th scope=row>50</th><td>5.0       </td><td>3.3       </td><td>1.4       </td><td>0.2       </td><td>setosa    </td></tr>\n",
       "\t<tr><th scope=row>60</th><td>5.2       </td><td>2.7       </td><td>3.9       </td><td>1.4       </td><td>versicolor</td></tr>\n",
       "\t<tr><th scope=row>70</th><td>5.6       </td><td>2.5       </td><td>3.9       </td><td>1.1       </td><td>versicolor</td></tr>\n",
       "\t<tr><th scope=row>80</th><td>5.7       </td><td>2.6       </td><td>3.5       </td><td>1.0       </td><td>versicolor</td></tr>\n",
       "\t<tr><th scope=row>90</th><td>5.5       </td><td>2.5       </td><td>4.0       </td><td>1.3       </td><td>versicolor</td></tr>\n",
       "\t<tr><th scope=row>100</th><td>5.7       </td><td>2.8       </td><td>4.1       </td><td>1.3       </td><td>versicolor</td></tr>\n",
       "\t<tr><th scope=row>110</th><td>7.2       </td><td>3.6       </td><td>6.1       </td><td>2.5       </td><td>virginica </td></tr>\n",
       "\t<tr><th scope=row>120</th><td>6.0       </td><td>2.2       </td><td>5.0       </td><td>1.5       </td><td>virginica </td></tr>\n",
       "\t<tr><th scope=row>130</th><td>7.2       </td><td>3.0       </td><td>5.8       </td><td>1.6       </td><td>virginica </td></tr>\n",
       "\t<tr><th scope=row>140</th><td>6.9       </td><td>3.1       </td><td>5.4       </td><td>2.1       </td><td>virginica </td></tr>\n",
       "\t<tr><th scope=row>150</th><td>5.9       </td><td>3.0       </td><td>5.1       </td><td>1.8       </td><td>virginica </td></tr>\n",
       "</tbody>\n",
       "</table>\n"
      ],
      "text/latex": [
       "\\begin{tabular}{r|lllll}\n",
       "  & Sepal.Length & Sepal.Width & Petal.Length & Petal.Width & Species\\\\\n",
       "\\hline\n",
       "\t10 & 4.9        & 3.1        & 1.5        & 0.1        & setosa    \\\\\n",
       "\t20 & 5.1        & 3.8        & 1.5        & 0.3        & setosa    \\\\\n",
       "\t30 & 4.7        & 3.2        & 1.6        & 0.2        & setosa    \\\\\n",
       "\t40 & 5.1        & 3.4        & 1.5        & 0.2        & setosa    \\\\\n",
       "\t50 & 5.0        & 3.3        & 1.4        & 0.2        & setosa    \\\\\n",
       "\t60 & 5.2        & 2.7        & 3.9        & 1.4        & versicolor\\\\\n",
       "\t70 & 5.6        & 2.5        & 3.9        & 1.1        & versicolor\\\\\n",
       "\t80 & 5.7        & 2.6        & 3.5        & 1.0        & versicolor\\\\\n",
       "\t90 & 5.5        & 2.5        & 4.0        & 1.3        & versicolor\\\\\n",
       "\t100 & 5.7        & 2.8        & 4.1        & 1.3        & versicolor\\\\\n",
       "\t110 & 7.2        & 3.6        & 6.1        & 2.5        & virginica \\\\\n",
       "\t120 & 6.0        & 2.2        & 5.0        & 1.5        & virginica \\\\\n",
       "\t130 & 7.2        & 3.0        & 5.8        & 1.6        & virginica \\\\\n",
       "\t140 & 6.9        & 3.1        & 5.4        & 2.1        & virginica \\\\\n",
       "\t150 & 5.9        & 3.0        & 5.1        & 1.8        & virginica \\\\\n",
       "\\end{tabular}\n"
      ],
      "text/markdown": [
       "\n",
       "| <!--/--> | Sepal.Length | Sepal.Width | Petal.Length | Petal.Width | Species |\n",
       "|---|---|---|---|---|---|\n",
       "| 10 | 4.9        | 3.1        | 1.5        | 0.1        | setosa     |\n",
       "| 20 | 5.1        | 3.8        | 1.5        | 0.3        | setosa     |\n",
       "| 30 | 4.7        | 3.2        | 1.6        | 0.2        | setosa     |\n",
       "| 40 | 5.1        | 3.4        | 1.5        | 0.2        | setosa     |\n",
       "| 50 | 5.0        | 3.3        | 1.4        | 0.2        | setosa     |\n",
       "| 60 | 5.2        | 2.7        | 3.9        | 1.4        | versicolor |\n",
       "| 70 | 5.6        | 2.5        | 3.9        | 1.1        | versicolor |\n",
       "| 80 | 5.7        | 2.6        | 3.5        | 1.0        | versicolor |\n",
       "| 90 | 5.5        | 2.5        | 4.0        | 1.3        | versicolor |\n",
       "| 100 | 5.7        | 2.8        | 4.1        | 1.3        | versicolor |\n",
       "| 110 | 7.2        | 3.6        | 6.1        | 2.5        | virginica  |\n",
       "| 120 | 6.0        | 2.2        | 5.0        | 1.5        | virginica  |\n",
       "| 130 | 7.2        | 3.0        | 5.8        | 1.6        | virginica  |\n",
       "| 140 | 6.9        | 3.1        | 5.4        | 2.1        | virginica  |\n",
       "| 150 | 5.9        | 3.0        | 5.1        | 1.8        | virginica  |\n",
       "\n"
      ],
      "text/plain": [
       "    Sepal.Length Sepal.Width Petal.Length Petal.Width Species   \n",
       "10  4.9          3.1         1.5          0.1         setosa    \n",
       "20  5.1          3.8         1.5          0.3         setosa    \n",
       "30  4.7          3.2         1.6          0.2         setosa    \n",
       "40  5.1          3.4         1.5          0.2         setosa    \n",
       "50  5.0          3.3         1.4          0.2         setosa    \n",
       "60  5.2          2.7         3.9          1.4         versicolor\n",
       "70  5.6          2.5         3.9          1.1         versicolor\n",
       "80  5.7          2.6         3.5          1.0         versicolor\n",
       "90  5.5          2.5         4.0          1.3         versicolor\n",
       "100 5.7          2.8         4.1          1.3         versicolor\n",
       "110 7.2          3.6         6.1          2.5         virginica \n",
       "120 6.0          2.2         5.0          1.5         virginica \n",
       "130 7.2          3.0         5.8          1.6         virginica \n",
       "140 6.9          3.1         5.4          2.1         virginica \n",
       "150 5.9          3.0         5.1          1.8         virginica "
      ]
     },
     "metadata": {},
     "output_type": "display_data"
    }
   ],
   "source": [
    "# iris에서 150개 데이터 중 10번 부터 10씩 증가하여 15개만 Sampling하기\n",
    "iris[seq(0,nrow(iris),10),]\n",
    "# 정렬이 잘 되어 있는지, 데이터의 대략적인 모습을 볼 수 있다. 어떤 컬럼을 Feature로 쓸 수 있을지\n",
    "# Feature 특징, 머신러닝의 타겟 , ML[Target] <- [Feature,@,@,@,] 분석가가 피쳐를 정해줌, 따라서 데이터가 약간 적어도 가능 / 딥러닝은 피쳐를 정해주지 않는다."
   ]
  },
  {
   "cell_type": "code",
   "execution_count": 9,
   "metadata": {
    "vscode": {
     "languageId": "r"
    }
   },
   "outputs": [
    {
     "data": {
      "text/html": [
       "150"
      ],
      "text/latex": [
       "150"
      ],
      "text/markdown": [
       "150"
      ],
      "text/plain": [
       "[1] 150"
      ]
     },
     "metadata": {},
     "output_type": "display_data"
    },
    {
     "data": {
      "text/html": [
       "5"
      ],
      "text/latex": [
       "5"
      ],
      "text/markdown": [
       "5"
      ],
      "text/plain": [
       "[1] 5"
      ]
     },
     "metadata": {},
     "output_type": "display_data"
    }
   ],
   "source": [
    "length(iris$Sepal.Length)\n",
    "length(iris)"
   ]
  },
  {
   "cell_type": "code",
   "execution_count": 10,
   "metadata": {
    "vscode": {
     "languageId": "r"
    }
   },
   "outputs": [
    {
     "data": {
      "text/html": [
       "150"
      ],
      "text/latex": [
       "150"
      ],
      "text/markdown": [
       "150"
      ],
      "text/plain": [
       "[1] 150"
      ]
     },
     "metadata": {},
     "output_type": "display_data"
    },
    {
     "data": {
      "text/html": [
       "5"
      ],
      "text/latex": [
       "5"
      ],
      "text/markdown": [
       "5"
      ],
      "text/plain": [
       "[1] 5"
      ]
     },
     "metadata": {},
     "output_type": "display_data"
    }
   ],
   "source": [
    "nrow(iris) # row 수\n",
    "ncol(iris) # column 수"
   ]
  },
  {
   "cell_type": "code",
   "execution_count": 11,
   "metadata": {
    "vscode": {
     "languageId": "r"
    }
   },
   "outputs": [
    {
     "data": {
      "text/html": [
       "7.9"
      ],
      "text/latex": [
       "7.9"
      ],
      "text/markdown": [
       "7.9"
      ],
      "text/plain": [
       "[1] 7.9"
      ]
     },
     "metadata": {},
     "output_type": "display_data"
    },
    {
     "data": {
      "text/html": [
       "4.3"
      ],
      "text/latex": [
       "4.3"
      ],
      "text/markdown": [
       "4.3"
      ],
      "text/plain": [
       "[1] 4.3"
      ]
     },
     "metadata": {},
     "output_type": "display_data"
    },
    {
     "data": {
      "text/html": [
       "5.84333333333333"
      ],
      "text/latex": [
       "5.84333333333333"
      ],
      "text/markdown": [
       "5.84333333333333"
      ],
      "text/plain": [
       "[1] 5.843333"
      ]
     },
     "metadata": {},
     "output_type": "display_data"
    },
    {
     "data": {
      "text/html": [
       "FALSE"
      ],
      "text/latex": [
       "FALSE"
      ],
      "text/markdown": [
       "FALSE"
      ],
      "text/plain": [
       "[1] FALSE"
      ]
     },
     "metadata": {},
     "output_type": "display_data"
    }
   ],
   "source": [
    "# iris의 Sepal.Length 의 최대값과 최소값의 차이가 평균보다 큰지 확인\n",
    "max(iris$Sepal.Length)\n",
    "min(iris$Sepal.Length)\n",
    "mean(iris$Sepal.Length) \n",
    "\n",
    "(max(iris$Sepal.Length) - min(iris$Sepal.Length)) > mean(iris$Sepal.Length) "
   ]
  },
  {
   "cell_type": "code",
   "execution_count": 12,
   "metadata": {
    "vscode": {
     "languageId": "r"
    }
   },
   "outputs": [
    {
     "data": {
      "text/html": [
       "<table>\n",
       "<thead><tr><th scope=col>Sepal.Length</th><th scope=col>Sepal.Width</th></tr></thead>\n",
       "<tbody>\n",
       "\t<tr><td>5.1</td><td>3.5</td></tr>\n",
       "\t<tr><td>4.9</td><td>3.0</td></tr>\n",
       "\t<tr><td>4.7</td><td>3.2</td></tr>\n",
       "\t<tr><td>4.6</td><td>3.1</td></tr>\n",
       "\t<tr><td>5.0</td><td>3.6</td></tr>\n",
       "\t<tr><td>5.4</td><td>3.9</td></tr>\n",
       "\t<tr><td>4.6</td><td>3.4</td></tr>\n",
       "\t<tr><td>5.0</td><td>3.4</td></tr>\n",
       "\t<tr><td>4.4</td><td>2.9</td></tr>\n",
       "\t<tr><td>4.9</td><td>3.1</td></tr>\n",
       "</tbody>\n",
       "</table>\n"
      ],
      "text/latex": [
       "\\begin{tabular}{r|ll}\n",
       " Sepal.Length & Sepal.Width\\\\\n",
       "\\hline\n",
       "\t 5.1 & 3.5\\\\\n",
       "\t 4.9 & 3.0\\\\\n",
       "\t 4.7 & 3.2\\\\\n",
       "\t 4.6 & 3.1\\\\\n",
       "\t 5.0 & 3.6\\\\\n",
       "\t 5.4 & 3.9\\\\\n",
       "\t 4.6 & 3.4\\\\\n",
       "\t 5.0 & 3.4\\\\\n",
       "\t 4.4 & 2.9\\\\\n",
       "\t 4.9 & 3.1\\\\\n",
       "\\end{tabular}\n"
      ],
      "text/markdown": [
       "\n",
       "| Sepal.Length | Sepal.Width |\n",
       "|---|---|\n",
       "| 5.1 | 3.5 |\n",
       "| 4.9 | 3.0 |\n",
       "| 4.7 | 3.2 |\n",
       "| 4.6 | 3.1 |\n",
       "| 5.0 | 3.6 |\n",
       "| 5.4 | 3.9 |\n",
       "| 4.6 | 3.4 |\n",
       "| 5.0 | 3.4 |\n",
       "| 4.4 | 2.9 |\n",
       "| 4.9 | 3.1 |\n",
       "\n"
      ],
      "text/plain": [
       "   Sepal.Length Sepal.Width\n",
       "1  5.1          3.5        \n",
       "2  4.9          3.0        \n",
       "3  4.7          3.2        \n",
       "4  4.6          3.1        \n",
       "5  5.0          3.6        \n",
       "6  5.4          3.9        \n",
       "7  4.6          3.4        \n",
       "8  5.0          3.4        \n",
       "9  4.4          2.9        \n",
       "10 4.9          3.1        "
      ]
     },
     "metadata": {},
     "output_type": "display_data"
    },
    {
     "data": {
      "text/html": [
       "<table>\n",
       "<thead><tr><th scope=col>Sepal.Length</th><th scope=col>Sepal.Width</th></tr></thead>\n",
       "<tbody>\n",
       "\t<tr><td>5.1</td><td>3.5</td></tr>\n",
       "\t<tr><td>4.9</td><td>3.0</td></tr>\n",
       "\t<tr><td>4.7</td><td>3.2</td></tr>\n",
       "\t<tr><td>4.6</td><td>3.1</td></tr>\n",
       "\t<tr><td>5.0</td><td>3.6</td></tr>\n",
       "\t<tr><td>5.4</td><td>3.9</td></tr>\n",
       "\t<tr><td>4.6</td><td>3.4</td></tr>\n",
       "\t<tr><td>5.0</td><td>3.4</td></tr>\n",
       "\t<tr><td>4.4</td><td>2.9</td></tr>\n",
       "\t<tr><td>4.9</td><td>3.1</td></tr>\n",
       "</tbody>\n",
       "</table>\n"
      ],
      "text/latex": [
       "\\begin{tabular}{r|ll}\n",
       " Sepal.Length & Sepal.Width\\\\\n",
       "\\hline\n",
       "\t 5.1 & 3.5\\\\\n",
       "\t 4.9 & 3.0\\\\\n",
       "\t 4.7 & 3.2\\\\\n",
       "\t 4.6 & 3.1\\\\\n",
       "\t 5.0 & 3.6\\\\\n",
       "\t 5.4 & 3.9\\\\\n",
       "\t 4.6 & 3.4\\\\\n",
       "\t 5.0 & 3.4\\\\\n",
       "\t 4.4 & 2.9\\\\\n",
       "\t 4.9 & 3.1\\\\\n",
       "\\end{tabular}\n"
      ],
      "text/markdown": [
       "\n",
       "| Sepal.Length | Sepal.Width |\n",
       "|---|---|\n",
       "| 5.1 | 3.5 |\n",
       "| 4.9 | 3.0 |\n",
       "| 4.7 | 3.2 |\n",
       "| 4.6 | 3.1 |\n",
       "| 5.0 | 3.6 |\n",
       "| 5.4 | 3.9 |\n",
       "| 4.6 | 3.4 |\n",
       "| 5.0 | 3.4 |\n",
       "| 4.4 | 2.9 |\n",
       "| 4.9 | 3.1 |\n",
       "\n"
      ],
      "text/plain": [
       "   Sepal.Length Sepal.Width\n",
       "1  5.1          3.5        \n",
       "2  4.9          3.0        \n",
       "3  4.7          3.2        \n",
       "4  4.6          3.1        \n",
       "5  5.0          3.6        \n",
       "6  5.4          3.9        \n",
       "7  4.6          3.4        \n",
       "8  5.0          3.4        \n",
       "9  4.4          2.9        \n",
       "10 4.9          3.1        "
      ]
     },
     "metadata": {},
     "output_type": "display_data"
    }
   ],
   "source": [
    "# iris에서 1~10까지의 데이터 중 Sepal.Length와 Sepal.Width만 출력\n",
    "iris[1:10,1:2]\n",
    "iris[1:10, c(\"Sepal.Length\", \"Sepal.Width\")]"
   ]
  },
  {
   "cell_type": "code",
   "execution_count": 13,
   "metadata": {
    "vscode": {
     "languageId": "r"
    }
   },
   "outputs": [
    {
     "data": {
      "text/html": [
       "<table>\n",
       "<thead><tr><th scope=col>Sepal.Length</th><th scope=col>Sepal.Width</th><th scope=col>Petal.Length</th><th scope=col>Petal.Width</th><th scope=col>Species</th></tr></thead>\n",
       "<tbody>\n",
       "\t<tr><td>5.1   </td><td>3.5   </td><td>1.4   </td><td>0.2   </td><td>setosa</td></tr>\n",
       "\t<tr><td>4.9   </td><td>3.0   </td><td>1.4   </td><td>0.2   </td><td>setosa</td></tr>\n",
       "\t<tr><td>4.7   </td><td>3.2   </td><td>1.3   </td><td>0.2   </td><td>setosa</td></tr>\n",
       "\t<tr><td>4.6   </td><td>3.1   </td><td>1.5   </td><td>0.2   </td><td>setosa</td></tr>\n",
       "\t<tr><td>5.0   </td><td>3.6   </td><td>1.4   </td><td>0.2   </td><td>setosa</td></tr>\n",
       "\t<tr><td>5.4   </td><td>3.9   </td><td>1.7   </td><td>0.4   </td><td>setosa</td></tr>\n",
       "</tbody>\n",
       "</table>\n"
      ],
      "text/latex": [
       "\\begin{tabular}{r|lllll}\n",
       " Sepal.Length & Sepal.Width & Petal.Length & Petal.Width & Species\\\\\n",
       "\\hline\n",
       "\t 5.1    & 3.5    & 1.4    & 0.2    & setosa\\\\\n",
       "\t 4.9    & 3.0    & 1.4    & 0.2    & setosa\\\\\n",
       "\t 4.7    & 3.2    & 1.3    & 0.2    & setosa\\\\\n",
       "\t 4.6    & 3.1    & 1.5    & 0.2    & setosa\\\\\n",
       "\t 5.0    & 3.6    & 1.4    & 0.2    & setosa\\\\\n",
       "\t 5.4    & 3.9    & 1.7    & 0.4    & setosa\\\\\n",
       "\\end{tabular}\n"
      ],
      "text/markdown": [
       "\n",
       "| Sepal.Length | Sepal.Width | Petal.Length | Petal.Width | Species |\n",
       "|---|---|---|---|---|\n",
       "| 5.1    | 3.5    | 1.4    | 0.2    | setosa |\n",
       "| 4.9    | 3.0    | 1.4    | 0.2    | setosa |\n",
       "| 4.7    | 3.2    | 1.3    | 0.2    | setosa |\n",
       "| 4.6    | 3.1    | 1.5    | 0.2    | setosa |\n",
       "| 5.0    | 3.6    | 1.4    | 0.2    | setosa |\n",
       "| 5.4    | 3.9    | 1.7    | 0.4    | setosa |\n",
       "\n"
      ],
      "text/plain": [
       "  Sepal.Length Sepal.Width Petal.Length Petal.Width Species\n",
       "1 5.1          3.5         1.4          0.2         setosa \n",
       "2 4.9          3.0         1.4          0.2         setosa \n",
       "3 4.7          3.2         1.3          0.2         setosa \n",
       "4 4.6          3.1         1.5          0.2         setosa \n",
       "5 5.0          3.6         1.4          0.2         setosa \n",
       "6 5.4          3.9         1.7          0.4         setosa "
      ]
     },
     "metadata": {},
     "output_type": "display_data"
    },
    {
     "data": {
      "text/html": [
       "<table>\n",
       "<thead><tr><th></th><th scope=col>Sepal.Length</th><th scope=col>Sepal.Width</th><th scope=col>Petal.Length</th><th scope=col>Petal.Width</th><th scope=col>Species</th></tr></thead>\n",
       "<tbody>\n",
       "\t<tr><th scope=row>145</th><td>6.7      </td><td>3.3      </td><td>5.7      </td><td>2.5      </td><td>virginica</td></tr>\n",
       "\t<tr><th scope=row>146</th><td>6.7      </td><td>3.0      </td><td>5.2      </td><td>2.3      </td><td>virginica</td></tr>\n",
       "\t<tr><th scope=row>147</th><td>6.3      </td><td>2.5      </td><td>5.0      </td><td>1.9      </td><td>virginica</td></tr>\n",
       "\t<tr><th scope=row>148</th><td>6.5      </td><td>3.0      </td><td>5.2      </td><td>2.0      </td><td>virginica</td></tr>\n",
       "\t<tr><th scope=row>149</th><td>6.2      </td><td>3.4      </td><td>5.4      </td><td>2.3      </td><td>virginica</td></tr>\n",
       "\t<tr><th scope=row>150</th><td>5.9      </td><td>3.0      </td><td>5.1      </td><td>1.8      </td><td>virginica</td></tr>\n",
       "</tbody>\n",
       "</table>\n"
      ],
      "text/latex": [
       "\\begin{tabular}{r|lllll}\n",
       "  & Sepal.Length & Sepal.Width & Petal.Length & Petal.Width & Species\\\\\n",
       "\\hline\n",
       "\t145 & 6.7       & 3.3       & 5.7       & 2.5       & virginica\\\\\n",
       "\t146 & 6.7       & 3.0       & 5.2       & 2.3       & virginica\\\\\n",
       "\t147 & 6.3       & 2.5       & 5.0       & 1.9       & virginica\\\\\n",
       "\t148 & 6.5       & 3.0       & 5.2       & 2.0       & virginica\\\\\n",
       "\t149 & 6.2       & 3.4       & 5.4       & 2.3       & virginica\\\\\n",
       "\t150 & 5.9       & 3.0       & 5.1       & 1.8       & virginica\\\\\n",
       "\\end{tabular}\n"
      ],
      "text/markdown": [
       "\n",
       "| <!--/--> | Sepal.Length | Sepal.Width | Petal.Length | Petal.Width | Species |\n",
       "|---|---|---|---|---|---|\n",
       "| 145 | 6.7       | 3.3       | 5.7       | 2.5       | virginica |\n",
       "| 146 | 6.7       | 3.0       | 5.2       | 2.3       | virginica |\n",
       "| 147 | 6.3       | 2.5       | 5.0       | 1.9       | virginica |\n",
       "| 148 | 6.5       | 3.0       | 5.2       | 2.0       | virginica |\n",
       "| 149 | 6.2       | 3.4       | 5.4       | 2.3       | virginica |\n",
       "| 150 | 5.9       | 3.0       | 5.1       | 1.8       | virginica |\n",
       "\n"
      ],
      "text/plain": [
       "    Sepal.Length Sepal.Width Petal.Length Petal.Width Species  \n",
       "145 6.7          3.3         5.7          2.5         virginica\n",
       "146 6.7          3.0         5.2          2.3         virginica\n",
       "147 6.3          2.5         5.0          1.9         virginica\n",
       "148 6.5          3.0         5.2          2.0         virginica\n",
       "149 6.2          3.4         5.4          2.3         virginica\n",
       "150 5.9          3.0         5.1          1.8         virginica"
      ]
     },
     "metadata": {},
     "output_type": "display_data"
    },
    {
     "name": "stdout",
     "output_type": "stream",
     "text": [
      "'data.frame':\t150 obs. of  5 variables:\n",
      " $ Sepal.Length: num  5.1 4.9 4.7 4.6 5 5.4 4.6 5 4.4 4.9 ...\n",
      " $ Sepal.Width : num  3.5 3 3.2 3.1 3.6 3.9 3.4 3.4 2.9 3.1 ...\n",
      " $ Petal.Length: num  1.4 1.4 1.3 1.5 1.4 1.7 1.4 1.5 1.4 1.5 ...\n",
      " $ Petal.Width : num  0.2 0.2 0.2 0.2 0.2 0.4 0.3 0.2 0.2 0.1 ...\n",
      " $ Species     : Factor w/ 3 levels \"setosa\",\"versicolor\",..: 1 1 1 1 1 1 1 1 1 1 ...\n"
     ]
    },
    {
     "data": {
      "text/plain": [
       "  Sepal.Length    Sepal.Width     Petal.Length    Petal.Width   \n",
       " Min.   :4.300   Min.   :2.000   Min.   :1.000   Min.   :0.100  \n",
       " 1st Qu.:5.100   1st Qu.:2.800   1st Qu.:1.600   1st Qu.:0.300  \n",
       " Median :5.800   Median :3.000   Median :4.350   Median :1.300  \n",
       " Mean   :5.843   Mean   :3.057   Mean   :3.758   Mean   :1.199  \n",
       " 3rd Qu.:6.400   3rd Qu.:3.300   3rd Qu.:5.100   3rd Qu.:1.800  \n",
       " Max.   :7.900   Max.   :4.400   Max.   :6.900   Max.   :2.500  \n",
       "       Species  \n",
       " setosa    :50  \n",
       " versicolor:50  \n",
       " virginica :50  \n",
       "                \n",
       "                \n",
       "                "
      ]
     },
     "metadata": {},
     "output_type": "display_data"
    }
   ],
   "source": [
    "# 데이터를 처음 받았을 떄\n",
    "head(iris)\n",
    "tail(iris) # index 카운트 확인\n",
    "str(iris) # 컬럼이름, 갯수, 형식 확인 가능, factor 확인\n",
    "summary(iris) # 중간값과 평균이 차이가 많이 나는지, 최소값 최대값 평균값 으로 데이터의 모양을 파악, 어떻게 수정해야 할지  \n",
    "# 각각 컬럼별로 따로 놀고있는 데이터들을 연관성있게 정리하는 작업이 정규화이다. (log 등)\n"
   ]
  },
  {
   "cell_type": "code",
   "execution_count": 14,
   "metadata": {
    "vscode": {
     "languageId": "r"
    }
   },
   "outputs": [
    {
     "name": "stdout",
     "output_type": "stream",
     "text": [
      "  [1] \"setosa\"     \"setosa\"     \"setosa\"     \"setosa\"     \"setosa\"    \n",
      "  [6] \"setosa\"     \"setosa\"     \"setosa\"     \"setosa\"     \"setosa\"    \n",
      " [11] \"setosa\"     \"setosa\"     \"setosa\"     \"setosa\"     \"setosa\"    \n",
      " [16] \"setosa\"     \"setosa\"     \"setosa\"     \"setosa\"     \"setosa\"    \n",
      " [21] \"setosa\"     \"setosa\"     \"setosa\"     \"setosa\"     \"setosa\"    \n",
      " [26] \"setosa\"     \"setosa\"     \"setosa\"     \"setosa\"     \"setosa\"    \n",
      " [31] \"setosa\"     \"setosa\"     \"setosa\"     \"setosa\"     \"setosa\"    \n",
      " [36] \"setosa\"     \"setosa\"     \"setosa\"     \"setosa\"     \"setosa\"    \n",
      " [41] \"setosa\"     \"setosa\"     \"setosa\"     \"setosa\"     \"setosa\"    \n",
      " [46] \"setosa\"     \"setosa\"     \"setosa\"     \"setosa\"     \"setosa\"    \n",
      " [51] \"versicolor\" \"versicolor\" \"versicolor\" \"versicolor\" \"versicolor\"\n",
      " [56] \"versicolor\" \"versicolor\" \"versicolor\" \"versicolor\" \"versicolor\"\n",
      " [61] \"versicolor\" \"versicolor\" \"versicolor\" \"versicolor\" \"versicolor\"\n",
      " [66] \"versicolor\" \"versicolor\" \"versicolor\" \"versicolor\" \"versicolor\"\n",
      " [71] \"versicolor\" \"versicolor\" \"versicolor\" \"versicolor\" \"versicolor\"\n",
      " [76] \"versicolor\" \"versicolor\" \"versicolor\" \"versicolor\" \"versicolor\"\n",
      " [81] \"versicolor\" \"versicolor\" \"versicolor\" \"versicolor\" \"versicolor\"\n",
      " [86] \"versicolor\" \"versicolor\" \"versicolor\" \"versicolor\" \"versicolor\"\n",
      " [91] \"versicolor\" \"versicolor\" \"versicolor\" \"versicolor\" \"versicolor\"\n",
      " [96] \"versicolor\" \"versicolor\" \"versicolor\" \"versicolor\" \"versicolor\"\n",
      "[101] \"virginica\"  \"virginica\"  \"virginica\"  \"virginica\"  \"virginica\" \n",
      "[106] \"virginica\"  \"virginica\"  \"virginica\"  \"virginica\"  \"virginica\" \n",
      "[111] \"virginica\"  \"virginica\"  \"virginica\"  \"virginica\"  \"virginica\" \n",
      "[116] \"virginica\"  \"virginica\"  \"virginica\"  \"virginica\"  \"virginica\" \n",
      "[121] \"virginica\"  \"virginica\"  \"virginica\"  \"virginica\"  \"virginica\" \n",
      "[126] \"virginica\"  \"virginica\"  \"virginica\"  \"virginica\"  \"virginica\" \n",
      "[131] \"virginica\"  \"virginica\"  \"virginica\"  \"virginica\"  \"virginica\" \n",
      "[136] \"virginica\"  \"virginica\"  \"virginica\"  \"virginica\"  \"virginica\" \n",
      "[141] \"virginica\"  \"virginica\"  \"virginica\"  \"virginica\"  \"virginica\" \n",
      "[146] \"virginica\"  \"virginica\"  \"virginica\"  \"virginica\"  \"virginica\" \n",
      "  [1] 1 1 1 1 1 1 1 1 1 1 1 1 1 1 1 1 1 1 1 1 1 1 1 1 1 1 1 1 1 1 1 1 1 1 1 1 1\n",
      " [38] 1 1 1 1 1 1 1 1 1 1 1 1 1 2 2 2 2 2 2 2 2 2 2 2 2 2 2 2 2 2 2 2 2 2 2 2 2\n",
      " [75] 2 2 2 2 2 2 2 2 2 2 2 2 2 2 2 2 2 2 2 2 2 2 2 2 2 2 3 3 3 3 3 3 3 3 3 3 3\n",
      "[112] 3 3 3 3 3 3 3 3 3 3 3 3 3 3 3 3 3 3 3 3 3 3 3 3 3 3 3 3 3 3 3 3 3 3 3 3 3\n",
      "[149] 3 3\n"
     ]
    }
   ],
   "source": [
    "# factor Type인 Species 에서 문자와 숫자로 각각 가져오기\n",
    "print(as.character(iris$Species))\n",
    "print(as.numeric(iris$Species))\n"
   ]
  },
  {
   "cell_type": "markdown",
   "metadata": {},
   "source": [
    "---\n",
    "# 벡터 계산 "
   ]
  },
  {
   "cell_type": "code",
   "execution_count": 15,
   "metadata": {
    "vscode": {
     "languageId": "r"
    }
   },
   "outputs": [
    {
     "name": "stdout",
     "output_type": "stream",
     "text": [
      "[1]  4  7 10 13 16\n"
     ]
    }
   ],
   "source": [
    "x <- c(3,6,9,12,15)\n",
    "print(x + 1)"
   ]
  },
  {
   "cell_type": "code",
   "execution_count": 16,
   "metadata": {
    "vscode": {
     "languageId": "r"
    }
   },
   "outputs": [
    {
     "name": "stdout",
     "output_type": "stream",
     "text": [
      "[1]  4  8 12 16 20\n"
     ]
    }
   ],
   "source": [
    "print(x + 1:5) # 같은 번지수 끼리 더해짐"
   ]
  },
  {
   "cell_type": "code",
   "execution_count": 17,
   "metadata": {
    "vscode": {
     "languageId": "r"
    }
   },
   "outputs": [
    {
     "name": "stderr",
     "output_type": "stream",
     "text": [
      "Warning message in x + 1:2:\n",
      "“두 객체의 길이가 서로 배수관계에 있지 않습니다”"
     ]
    },
    {
     "name": "stdout",
     "output_type": "stream",
     "text": [
      "[1]  4  8 10 14 16\n"
     ]
    }
   ],
   "source": [
    "print(x + 1:2) # 이렇게 쓰면 데이터 엉망됨 "
   ]
  },
  {
   "cell_type": "code",
   "execution_count": 18,
   "metadata": {
    "vscode": {
     "languageId": "r"
    }
   },
   "outputs": [
    {
     "data": {
      "text/html": [
       "<ol class=list-inline>\n",
       "\t<li>3</li>\n",
       "\t<li>5</li>\n",
       "\t<li>6</li>\n",
       "\t<li>12</li>\n",
       "\t<li>15</li>\n",
       "\t<li>1</li>\n",
       "\t<li>2</li>\n",
       "\t<li>3</li>\n",
       "\t<li>4</li>\n",
       "\t<li>5</li>\n",
       "</ol>\n"
      ],
      "text/latex": [
       "\\begin{enumerate*}\n",
       "\\item 3\n",
       "\\item 5\n",
       "\\item 6\n",
       "\\item 12\n",
       "\\item 15\n",
       "\\item 1\n",
       "\\item 2\n",
       "\\item 3\n",
       "\\item 4\n",
       "\\item 5\n",
       "\\end{enumerate*}\n"
      ],
      "text/markdown": [
       "1. 3\n",
       "2. 5\n",
       "3. 6\n",
       "4. 12\n",
       "5. 15\n",
       "6. 1\n",
       "7. 2\n",
       "8. 3\n",
       "9. 4\n",
       "10. 5\n",
       "\n",
       "\n"
      ],
      "text/plain": [
       " [1]  3  5  6 12 15  1  2  3  4  5"
      ]
     },
     "metadata": {},
     "output_type": "display_data"
    }
   ],
   "source": [
    "# 벡터 합치기\n",
    "\n",
    "x <- c(3,5,6,12,15)\n",
    "y <- 1:5\n",
    "\n",
    "append(x,y)"
   ]
  },
  {
   "cell_type": "code",
   "execution_count": 19,
   "metadata": {
    "vscode": {
     "languageId": "r"
    }
   },
   "outputs": [
    {
     "data": {
      "text/html": [
       "300"
      ],
      "text/latex": [
       "300"
      ],
      "text/markdown": [
       "300"
      ],
      "text/plain": [
       "[1] 300"
      ]
     },
     "metadata": {},
     "output_type": "display_data"
    }
   ],
   "source": [
    "length( append(iris$Sepal.Length, iris$Sepal.Width) )"
   ]
  },
  {
   "cell_type": "code",
   "execution_count": 20,
   "metadata": {
    "vscode": {
     "languageId": "r"
    }
   },
   "outputs": [
    {
     "data": {
      "text/html": [
       "300"
      ],
      "text/latex": [
       "300"
      ],
      "text/markdown": [
       "300"
      ],
      "text/plain": [
       "[1] 300"
      ]
     },
     "metadata": {},
     "output_type": "display_data"
    }
   ],
   "source": [
    "length( c(iris$Sepal.Length, iris$Sepal.Width) )"
   ]
  },
  {
   "cell_type": "code",
   "execution_count": 21,
   "metadata": {
    "vscode": {
     "languageId": "r"
    }
   },
   "outputs": [
    {
     "name": "stdout",
     "output_type": "stream",
     "text": [
      " [1] 5.1 4.9 4.7 4.6 5.0 5.4 4.4 4.8 4.3 5.8 5.7 5.2 5.5 4.5 5.3 7.0 6.4 6.9 6.5\n",
      "[20] 6.3 6.6 5.9 6.0 6.1 5.6 6.7 6.2 6.8 7.1 7.6 7.3 7.2 7.7 7.4 7.9\n"
     ]
    },
    {
     "data": {
      "text/html": [
       "23.33"
      ],
      "text/latex": [
       "23.33"
      ],
      "text/markdown": [
       "23.33"
      ],
      "text/plain": [
       "[1] 23.33"
      ]
     },
     "metadata": {},
     "output_type": "display_data"
    },
    {
     "data": {
      "text/html": [
       "76.67"
      ],
      "text/latex": [
       "76.67"
      ],
      "text/markdown": [
       "76.67"
      ],
      "text/plain": [
       "[1] 76.67"
      ]
     },
     "metadata": {},
     "output_type": "display_data"
    }
   ],
   "source": [
    "# iris의 Sepal.Length의 중복되지 않은 갯수의 percent구하기\n",
    "print(unique(iris$Sepal.Length))\n",
    "round(length(unique(iris$Sepal.Length)) / length(iris$Sepal.Length) * 100, 2)\n",
    "# iris의 Sepal.Length의 중복된 갯수의 percent 구하기\n",
    "round((length(iris$Sepal.Length) - length(unique(iris$Sepal.Length))) / length(iris$Sepal.Length) * 100 , 2)"
   ]
  },
  {
   "cell_type": "markdown",
   "metadata": {},
   "source": [
    "# 문자열 관련 함수 "
   ]
  },
  {
   "cell_type": "code",
   "execution_count": 22,
   "metadata": {
    "vscode": {
     "languageId": "r"
    }
   },
   "outputs": [
    {
     "name": "stdout",
     "output_type": "stream",
     "text": [
      "[1] \"a\" \"b\" \"c\" \"d\" \"e\"\n",
      "[1] \"a\" \"b\"\n"
     ]
    },
    {
     "data": {
      "text/html": [
       "'a b'"
      ],
      "text/latex": [
       "'a b'"
      ],
      "text/markdown": [
       "'a b'"
      ],
      "text/plain": [
       "[1] \"a b\""
      ]
     },
     "metadata": {},
     "output_type": "display_data"
    }
   ],
   "source": [
    "x <- c('a', 'b', 'c', 'd', 'e')\n",
    "print(x)\n",
    "print(x[1:2])\n",
    "# 합쳐서 출력 \n",
    "paste(x[1], x[2])"
   ]
  },
  {
   "cell_type": "code",
   "execution_count": 23,
   "metadata": {
    "vscode": {
     "languageId": "r"
    }
   },
   "outputs": [
    {
     "data": {
      "text/html": [
       "'Hello World!'"
      ],
      "text/latex": [
       "'Hello World!'"
      ],
      "text/markdown": [
       "'Hello World!'"
      ],
      "text/plain": [
       "[1] \"Hello World!\""
      ]
     },
     "metadata": {},
     "output_type": "display_data"
    }
   ],
   "source": [
    "paste(\"Hello\", \"World!\")"
   ]
  },
  {
   "cell_type": "code",
   "execution_count": 24,
   "metadata": {
    "vscode": {
     "languageId": "r"
    }
   },
   "outputs": [
    {
     "data": {
      "text/html": [
       "'setosa : versicolor : virginica'"
      ],
      "text/latex": [
       "'setosa : versicolor : virginica'"
      ],
      "text/markdown": [
       "'setosa : versicolor : virginica'"
      ],
      "text/plain": [
       "[1] \"setosa : versicolor : virginica\""
      ]
     },
     "metadata": {},
     "output_type": "display_data"
    }
   ],
   "source": [
    "# iris의 1, 51, 101번의 Species 만 한꺼번에 출력하기\n",
    "\n",
    "paste(iris$Species[1] , \":\" , iris$Species[51] , \":\", iris$Species[101] )\n"
   ]
  },
  {
   "cell_type": "code",
   "execution_count": 25,
   "metadata": {
    "vscode": {
     "languageId": "r"
    }
   },
   "outputs": [
    {
     "name": "stdout",
     "output_type": "stream",
     "text": [
      "Hello\n",
      "World!"
     ]
    },
    {
     "data": {
      "text/html": [
       "'Hello'"
      ],
      "text/latex": [
       "'Hello'"
      ],
      "text/markdown": [
       "'Hello'"
      ],
      "text/plain": [
       "[1] \"Hello\""
      ]
     },
     "metadata": {},
     "output_type": "display_data"
    },
    {
     "data": {
      "text/plain": [
       "NULL"
      ]
     },
     "metadata": {},
     "output_type": "display_data"
    }
   ],
   "source": [
    "# 문자열 출력\n",
    "a <- paste(\"Hello\")\n",
    "b <- cat(\"Hello\\nWorld!\") \n",
    "#cat(\"Hello\",\"\\nWorld!\")\n",
    "a # 'Hello'\n",
    "b # NULL\n",
    "# cat은 출력만 , paste는 벡터 형성,  cat은 변수선언 불가, paste 변수 지정 가능"
   ]
  },
  {
   "cell_type": "code",
   "execution_count": 26,
   "metadata": {
    "vscode": {
     "languageId": "r"
    }
   },
   "outputs": [
    {
     "name": "stdout",
     "output_type": "stream",
     "text": [
      "90\t80\t70"
     ]
    }
   ],
   "source": [
    "cat(\"90\\t80\\t70\")"
   ]
  },
  {
   "cell_type": "code",
   "execution_count": 27,
   "metadata": {
    "vscode": {
     "languageId": "r"
    }
   },
   "outputs": [
    {
     "data": {
      "text/html": [
       "'010-1111-2222'"
      ],
      "text/latex": [
       "'010-1111-2222'"
      ],
      "text/markdown": [
       "'010-1111-2222'"
      ],
      "text/plain": [
       "[1] \"010-1111-2222\""
      ]
     },
     "metadata": {},
     "output_type": "display_data"
    }
   ],
   "source": [
    "paste(\"010\",\"1111\",\"2222\", sep=\"-\") # sep 기본값이 한칸 공백 , 변경해서 사용할 수 있다"
   ]
  },
  {
   "cell_type": "markdown",
   "metadata": {},
   "source": [
    "# 문자열 추출하기 "
   ]
  },
  {
   "cell_type": "code",
   "execution_count": 28,
   "metadata": {
    "vscode": {
     "languageId": "r"
    }
   },
   "outputs": [
    {
     "data": {
      "text/html": [
       "'bcde'"
      ],
      "text/latex": [
       "'bcde'"
      ],
      "text/markdown": [
       "'bcde'"
      ],
      "text/plain": [
       "[1] \"bcde\""
      ]
     },
     "metadata": {},
     "output_type": "display_data"
    },
    {
     "data": {
      "text/html": [
       "'나다라마'"
      ],
      "text/latex": [
       "'나다라마'"
      ],
      "text/markdown": [
       "'나다라마'"
      ],
      "text/plain": [
       "[1] \"나다라마\""
      ]
     },
     "metadata": {},
     "output_type": "display_data"
    }
   ],
   "source": [
    "str01 <- \"abcdefghijklmnop\"\n",
    "substring(str01, 2, 5)\n",
    "str02 <- \"가나다라마바사\"\n",
    "substring(str02, 2,5) "
   ]
  },
  {
   "cell_type": "code",
   "execution_count": 29,
   "metadata": {
    "vscode": {
     "languageId": "r"
    }
   },
   "outputs": [
    {
     "name": "stdout",
     "output_type": "stream",
     "text": [
      "[1]  6.463973 15.977798  8.770562 17.777331 18.868878\n"
     ]
    },
    {
     "data": {
      "text/html": [
       "1"
      ],
      "text/latex": [
       "1"
      ],
      "text/markdown": [
       "1"
      ],
      "text/plain": [
       "[1] 1"
      ]
     },
     "metadata": {},
     "output_type": "display_data"
    }
   ],
   "source": [
    "# EX : 출력되는 x 중 4와 7 사이에 있는 것은 몇개 인가?\n",
    "set.seed(123) #난수 고정, 수업에서만 사용 현업에서는 사용 불가\n",
    "x <- runif(5, 1, 20)\n",
    "print(x)\n",
    "sum(x >= 4 & x <=7)"
   ]
  },
  {
   "cell_type": "markdown",
   "metadata": {},
   "source": [
    "# 행렬 (Matrix)"
   ]
  },
  {
   "cell_type": "code",
   "execution_count": 30,
   "metadata": {
    "vscode": {
     "languageId": "r"
    }
   },
   "outputs": [],
   "source": [
    "# 행렬 : 2차원 자료를 저장하는 자료형 (Type) \n",
    "# 행렬은 데이터 형태가 모두 일치 되어야 구성이 된다. \n",
    "\n",
    "# Vector로 행렬 만들기 \n",
    "vec1 <- c(1,2,3)\n",
    "vec2 <- c(4,5,6)\n",
    "vec3 <- c(7,8,9)\n"
   ]
  },
  {
   "cell_type": "code",
   "execution_count": 31,
   "metadata": {
    "vscode": {
     "languageId": "r"
    }
   },
   "outputs": [],
   "source": [
    "# 행으로 붙이기 : rbind (row binding)\n",
    "mat1 <- rbind(vec1, vec2, vec3) \n",
    "# 기존 컬럼 추가 데이터 값이 들어왔을 때 사용"
   ]
  },
  {
   "cell_type": "code",
   "execution_count": 32,
   "metadata": {
    "vscode": {
     "languageId": "r"
    }
   },
   "outputs": [],
   "source": [
    "# 열로 붙이기 : cbind (column binding)\n",
    "mat2 <- cbind(vec1, vec2, vec3)\n",
    "# 새로운 데이터(컬럼)가 추가되었을 때 사용\n"
   ]
  },
  {
   "cell_type": "code",
   "execution_count": 33,
   "metadata": {
    "vscode": {
     "languageId": "r"
    }
   },
   "outputs": [],
   "source": [
    "# iris의 1~5번 데이터만 추출하여 irisHead라는 변수에 넣기\n",
    "irisHead <- head(iris, 5)\n",
    "\n",
    "# irisHead에 새로운 데이터 1,1,1,1,setosa추가하기\n",
    "irisHead <- rbind(irisHead, c(1,1,1,1,'setosa'))\n",
    "\n",
    "# irisHead에 abc라는 컬럼과 2,2,2,2,2의 데이터 추가하기\n",
    "abc <- rep(2,6)\n",
    "irisHead <- cbind(irisHead, abc)\n",
    "# irisHead <- cbind(irisHead, abc=rep(2,6)) # 한줄로 끝내기\n",
    "\n"
   ]
  },
  {
   "cell_type": "code",
   "execution_count": 34,
   "metadata": {
    "vscode": {
     "languageId": "r"
    }
   },
   "outputs": [],
   "source": [
    "# iris의 1~5번 데이터만 추출하여 irisHead라는 데이터셋 만들기\n",
    "\n",
    "irisHead = iris[1:5,]\n",
    "\n",
    "irisHead <- cbind(irisHead,Length=irisHead$Sepal.Length + irisHead$Petal.Length) # Matrix 방식\n"
   ]
  },
  {
   "cell_type": "markdown",
   "metadata": {},
   "source": [
    "> matrix는 모든 type이 같아야 함 (ex. mat1,2), dataframe은 여러 type이 들어갈 수 있음 (ex. iris)"
   ]
  },
  {
   "cell_type": "code",
   "execution_count": 35,
   "metadata": {
    "vscode": {
     "languageId": "r"
    }
   },
   "outputs": [],
   "source": [
    "# 컬럼이름 지정해서 추가, 반복 실행해도 여러번 추가되지 않는다.\n",
    "irisHead$Length <- irisHead$Sepal.Length + irisHead$Petal.Length # dataframe\n",
    "# 데이터프레임 컬럼 추가할때는 꼭 이렇게 추가해야 한다."
   ]
  },
  {
   "cell_type": "code",
   "execution_count": 36,
   "metadata": {
    "vscode": {
     "languageId": "r"
    }
   },
   "outputs": [
    {
     "data": {
      "text/html": [
       "<table>\n",
       "<thead><tr><th scope=col>Sepal.Length</th><th scope=col>Sepal.Width</th><th scope=col>Petal.Length</th><th scope=col>Petal.Width</th><th scope=col>Species</th><th scope=col>Length</th></tr></thead>\n",
       "<tbody>\n",
       "\t<tr><td>5.1   </td><td>3.5   </td><td>1.4   </td><td>0.2   </td><td>setosa</td><td>6.5   </td></tr>\n",
       "\t<tr><td>4.9   </td><td>3.0   </td><td>1.4   </td><td>0.2   </td><td>setosa</td><td>6.3   </td></tr>\n",
       "\t<tr><td>4.7   </td><td>3.2   </td><td>1.3   </td><td>0.2   </td><td>setosa</td><td>6.0   </td></tr>\n",
       "\t<tr><td>4.6   </td><td>3.1   </td><td>1.5   </td><td>0.2   </td><td>setosa</td><td>6.1   </td></tr>\n",
       "\t<tr><td>5.0   </td><td>3.6   </td><td>1.4   </td><td>0.2   </td><td>setosa</td><td>6.4   </td></tr>\n",
       "</tbody>\n",
       "</table>\n"
      ],
      "text/latex": [
       "\\begin{tabular}{r|llllll}\n",
       " Sepal.Length & Sepal.Width & Petal.Length & Petal.Width & Species & Length\\\\\n",
       "\\hline\n",
       "\t 5.1    & 3.5    & 1.4    & 0.2    & setosa & 6.5   \\\\\n",
       "\t 4.9    & 3.0    & 1.4    & 0.2    & setosa & 6.3   \\\\\n",
       "\t 4.7    & 3.2    & 1.3    & 0.2    & setosa & 6.0   \\\\\n",
       "\t 4.6    & 3.1    & 1.5    & 0.2    & setosa & 6.1   \\\\\n",
       "\t 5.0    & 3.6    & 1.4    & 0.2    & setosa & 6.4   \\\\\n",
       "\\end{tabular}\n"
      ],
      "text/markdown": [
       "\n",
       "| Sepal.Length | Sepal.Width | Petal.Length | Petal.Width | Species | Length |\n",
       "|---|---|---|---|---|---|\n",
       "| 5.1    | 3.5    | 1.4    | 0.2    | setosa | 6.5    |\n",
       "| 4.9    | 3.0    | 1.4    | 0.2    | setosa | 6.3    |\n",
       "| 4.7    | 3.2    | 1.3    | 0.2    | setosa | 6.0    |\n",
       "| 4.6    | 3.1    | 1.5    | 0.2    | setosa | 6.1    |\n",
       "| 5.0    | 3.6    | 1.4    | 0.2    | setosa | 6.4    |\n",
       "\n"
      ],
      "text/plain": [
       "  Sepal.Length Sepal.Width Petal.Length Petal.Width Species Length\n",
       "1 5.1          3.5         1.4          0.2         setosa  6.5   \n",
       "2 4.9          3.0         1.4          0.2         setosa  6.3   \n",
       "3 4.7          3.2         1.3          0.2         setosa  6.0   \n",
       "4 4.6          3.1         1.5          0.2         setosa  6.1   \n",
       "5 5.0          3.6         1.4          0.2         setosa  6.4   "
      ]
     },
     "metadata": {},
     "output_type": "display_data"
    }
   ],
   "source": [
    "irisHead"
   ]
  },
  {
   "cell_type": "code",
   "execution_count": 37,
   "metadata": {
    "vscode": {
     "languageId": "r"
    }
   },
   "outputs": [
    {
     "data": {
      "text/html": [
       "'matrix'"
      ],
      "text/latex": [
       "'matrix'"
      ],
      "text/markdown": [
       "'matrix'"
      ],
      "text/plain": [
       "[1] \"matrix\""
      ]
     },
     "metadata": {},
     "output_type": "display_data"
    },
    {
     "data": {
      "text/html": [
       "'data.frame'"
      ],
      "text/latex": [
       "'data.frame'"
      ],
      "text/markdown": [
       "'data.frame'"
      ],
      "text/plain": [
       "[1] \"data.frame\""
      ]
     },
     "metadata": {},
     "output_type": "display_data"
    }
   ],
   "source": [
    "# iris 에서 Sepal.Length와 Sepal.Width만 추출하여 irisM이라는 '데이터프레임' 만들기\n",
    "sl <- iris$Sepal.Length\n",
    "sw <- iris$Sepal.Width\n",
    "# 오답 \n",
    "irisM <- cbind(sl,sw) # 데이터프레임이 아니다. 행렬(Matrix)이다. \n",
    "class(irisM)\n",
    "# 정답\n",
    "irisM <- as.data.frame(irisM) # 데이터프레임으로 형변환\n",
    "class(irisM)"
   ]
  },
  {
   "cell_type": "code",
   "execution_count": 38,
   "metadata": {
    "vscode": {
     "languageId": "r"
    }
   },
   "outputs": [
    {
     "data": {
      "text/html": [
       "<table>\n",
       "<tbody>\n",
       "\t<tr><th scope=row>vec1</th><td>1</td><td>2</td><td>3</td></tr>\n",
       "\t<tr><th scope=row>vec2</th><td>4</td><td>5</td><td>6</td></tr>\n",
       "\t<tr><th scope=row>vec3</th><td>7</td><td>8</td><td>9</td></tr>\n",
       "</tbody>\n",
       "</table>\n"
      ],
      "text/latex": [
       "\\begin{tabular}{r|lll}\n",
       "\tvec1 & 1 & 2 & 3\\\\\n",
       "\tvec2 & 4 & 5 & 6\\\\\n",
       "\tvec3 & 7 & 8 & 9\\\\\n",
       "\\end{tabular}\n"
      ],
      "text/markdown": [
       "\n",
       "| vec1 | 1 | 2 | 3 |\n",
       "| vec2 | 4 | 5 | 6 |\n",
       "| vec3 | 7 | 8 | 9 |\n",
       "\n"
      ],
      "text/plain": [
       "     [,1] [,2] [,3]\n",
       "vec1 1    2    3   \n",
       "vec2 4    5    6   \n",
       "vec3 7    8    9   "
      ]
     },
     "metadata": {},
     "output_type": "display_data"
    },
    {
     "data": {
      "text/html": [
       "'matrix'"
      ],
      "text/latex": [
       "'matrix'"
      ],
      "text/markdown": [
       "'matrix'"
      ],
      "text/plain": [
       "[1] \"matrix\""
      ]
     },
     "metadata": {},
     "output_type": "display_data"
    }
   ],
   "source": [
    "# mat1의 컬럼 이름 추가\n",
    "mat1\n",
    "class(mat1)\n",
    "colnames(mat1) <- c(\"A\",\"B\",\"C\")"
   ]
  },
  {
   "cell_type": "code",
   "execution_count": 39,
   "metadata": {
    "vscode": {
     "languageId": "r"
    }
   },
   "outputs": [
    {
     "data": {
      "text/html": [
       "'data.frame'"
      ],
      "text/latex": [
       "'data.frame'"
      ],
      "text/markdown": [
       "'data.frame'"
      ],
      "text/plain": [
       "[1] \"data.frame\""
      ]
     },
     "metadata": {},
     "output_type": "display_data"
    }
   ],
   "source": [
    "mat1D <- as.data.frame(mat1)\n",
    "class(mat1D)"
   ]
  },
  {
   "cell_type": "code",
   "execution_count": 40,
   "metadata": {
    "vscode": {
     "languageId": "r"
    }
   },
   "outputs": [
    {
     "data": {
      "text/html": [
       "<table>\n",
       "<thead><tr><th scope=col>vec1</th><th scope=col>vec2</th><th scope=col>vec3</th></tr></thead>\n",
       "<tbody>\n",
       "\t<tr><td>1</td><td>4</td><td>7</td></tr>\n",
       "\t<tr><td>2</td><td>5</td><td>8</td></tr>\n",
       "\t<tr><td>3</td><td>6</td><td>9</td></tr>\n",
       "</tbody>\n",
       "</table>\n"
      ],
      "text/latex": [
       "\\begin{tabular}{lll}\n",
       " vec1 & vec2 & vec3\\\\\n",
       "\\hline\n",
       "\t 1 & 4 & 7\\\\\n",
       "\t 2 & 5 & 8\\\\\n",
       "\t 3 & 6 & 9\\\\\n",
       "\\end{tabular}\n"
      ],
      "text/markdown": [
       "\n",
       "| vec1 | vec2 | vec3 |\n",
       "|---|---|---|\n",
       "| 1 | 4 | 7 |\n",
       "| 2 | 5 | 8 |\n",
       "| 3 | 6 | 9 |\n",
       "\n"
      ],
      "text/plain": [
       "     vec1 vec2 vec3\n",
       "[1,] 1    4    7   \n",
       "[2,] 2    5    8   \n",
       "[3,] 3    6    9   "
      ]
     },
     "metadata": {},
     "output_type": "display_data"
    },
    {
     "name": "stdout",
     "output_type": "stream",
     "text": [
      "  vec1 vec2 vec3\n",
      "1    1    4    7\n",
      "2    2    5    8\n",
      "3    3    6    9\n"
     ]
    },
    {
     "data": {
      "text/html": [
       "'data.frame'"
      ],
      "text/latex": [
       "'data.frame'"
      ],
      "text/markdown": [
       "'data.frame'"
      ],
      "text/plain": [
       "[1] \"data.frame\""
      ]
     },
     "metadata": {},
     "output_type": "display_data"
    }
   ],
   "source": [
    "# mat2에 row이름 추가\n",
    "mat2\n",
    "rownames(mat2) <- 1:3\n",
    "print(mat2)\n",
    "mat2D <- as.data.frame(mat2)\n",
    "class(mat2D)"
   ]
  },
  {
   "cell_type": "code",
   "execution_count": 41,
   "metadata": {
    "vscode": {
     "languageId": "r"
    }
   },
   "outputs": [
    {
     "data": {
      "text/html": [
       "<table>\n",
       "<thead><tr><th></th><th scope=col>A</th><th scope=col>B</th><th scope=col>C</th></tr></thead>\n",
       "<tbody>\n",
       "\t<tr><th scope=row>vec1</th><td>1</td><td>2</td><td>3</td></tr>\n",
       "\t<tr><th scope=row>vec2</th><td>4</td><td>5</td><td>6</td></tr>\n",
       "\t<tr><th scope=row>vec3</th><td>7</td><td>8</td><td>9</td></tr>\n",
       "</tbody>\n",
       "</table>\n"
      ],
      "text/latex": [
       "\\begin{tabular}{r|lll}\n",
       "  & A & B & C\\\\\n",
       "\\hline\n",
       "\tvec1 & 1 & 2 & 3\\\\\n",
       "\tvec2 & 4 & 5 & 6\\\\\n",
       "\tvec3 & 7 & 8 & 9\\\\\n",
       "\\end{tabular}\n"
      ],
      "text/markdown": [
       "\n",
       "| <!--/--> | A | B | C |\n",
       "|---|---|---|---|\n",
       "| vec1 | 1 | 2 | 3 |\n",
       "| vec2 | 4 | 5 | 6 |\n",
       "| vec3 | 7 | 8 | 9 |\n",
       "\n"
      ],
      "text/plain": [
       "     A B C\n",
       "vec1 1 2 3\n",
       "vec2 4 5 6\n",
       "vec3 7 8 9"
      ]
     },
     "metadata": {},
     "output_type": "display_data"
    },
    {
     "data": {
      "text/html": [
       "<table>\n",
       "<thead><tr><th scope=col>A</th><th scope=col>B</th><th scope=col>C</th></tr></thead>\n",
       "<tbody>\n",
       "\t<tr><td>1</td><td>4</td><td>7</td></tr>\n",
       "\t<tr><td>2</td><td>5</td><td>8</td></tr>\n",
       "\t<tr><td>3</td><td>6</td><td>9</td></tr>\n",
       "</tbody>\n",
       "</table>\n"
      ],
      "text/latex": [
       "\\begin{tabular}{r|lll}\n",
       " A & B & C\\\\\n",
       "\\hline\n",
       "\t 1 & 4 & 7\\\\\n",
       "\t 2 & 5 & 8\\\\\n",
       "\t 3 & 6 & 9\\\\\n",
       "\\end{tabular}\n"
      ],
      "text/markdown": [
       "\n",
       "| A | B | C |\n",
       "|---|---|---|\n",
       "| 1 | 4 | 7 |\n",
       "| 2 | 5 | 8 |\n",
       "| 3 | 6 | 9 |\n",
       "\n"
      ],
      "text/plain": [
       "  A B C\n",
       "1 1 4 7\n",
       "2 2 5 8\n",
       "3 3 6 9"
      ]
     },
     "metadata": {},
     "output_type": "display_data"
    },
    {
     "name": "stdout",
     "output_type": "stream",
     "text": [
      "     A B C\n",
      "vec1 1 2 3\n",
      "vec2 4 5 6\n",
      "vec3 7 8 9\n",
      "1    1 4 7\n",
      "2    2 5 8\n",
      "3    3 6 9\n"
     ]
    }
   ],
   "source": [
    "# mat1D와 maat2D를 하나의 DataSet으로 만들기\n",
    "mat1D\n",
    "colnames(mat2D) <- colnames(mat1D) # 일일이 쓰지 않는다\n",
    "mat2D\n",
    "\n",
    "mat3 = rbind(mat1D,mat2D)\n",
    "\n",
    "mat3D <- as.data.frame(mat3)\n",
    "\n",
    "print(mat3D)"
   ]
  },
  {
   "cell_type": "markdown",
   "metadata": {},
   "source": [
    "---\n",
    "# DataFrame\n",
    "- 다양한 자료형으로 구성된 2차원 형태의 데이터 구조"
   ]
  },
  {
   "cell_type": "code",
   "execution_count": 42,
   "metadata": {
    "vscode": {
     "languageId": "r"
    }
   },
   "outputs": [],
   "source": [
    "# 벡터로 데이터프레임 만들기 \n",
    "no <- 1:4\n",
    "name <- c('Apple', 'Banana', 'Peach', 'Berry')\n",
    "price <- c(500,400,300,200)\n",
    "qty <- c(5,2,7,9)"
   ]
  },
  {
   "cell_type": "code",
   "execution_count": 43,
   "metadata": {
    "vscode": {
     "languageId": "r"
    }
   },
   "outputs": [
    {
     "data": {
      "text/html": [
       "<table>\n",
       "<thead><tr><th scope=col>번호</th><th scope=col>상품명</th><th scope=col>금액</th><th scope=col>재고량</th></tr></thead>\n",
       "<tbody>\n",
       "\t<tr><td>1     </td><td>Apple </td><td>500   </td><td>5     </td></tr>\n",
       "\t<tr><td>2     </td><td>Banana</td><td>400   </td><td>2     </td></tr>\n",
       "\t<tr><td>3     </td><td>Peach </td><td>300   </td><td>7     </td></tr>\n",
       "\t<tr><td>4     </td><td>Berry </td><td>200   </td><td>9     </td></tr>\n",
       "</tbody>\n",
       "</table>\n"
      ],
      "text/latex": [
       "\\begin{tabular}{r|llll}\n",
       " 번호 & 상품명 & 금액 & 재고량\\\\\n",
       "\\hline\n",
       "\t 1      & Apple  & 500    & 5     \\\\\n",
       "\t 2      & Banana & 400    & 2     \\\\\n",
       "\t 3      & Peach  & 300    & 7     \\\\\n",
       "\t 4      & Berry  & 200    & 9     \\\\\n",
       "\\end{tabular}\n"
      ],
      "text/markdown": [
       "\n",
       "| 번호 | 상품명 | 금액 | 재고량 |\n",
       "|---|---|---|---|\n",
       "| 1      | Apple  | 500    | 5      |\n",
       "| 2      | Banana | 400    | 2      |\n",
       "| 3      | Peach  | 300    | 7      |\n",
       "| 4      | Berry  | 200    | 9      |\n",
       "\n"
      ],
      "text/plain": [
       "  번호 상품명 금액 재고량\n",
       "1 1    Apple  500  5     \n",
       "2 2    Banana 400  2     \n",
       "3 3    Peach  300  7     \n",
       "4 4    Berry  200  9     "
      ]
     },
     "metadata": {},
     "output_type": "display_data"
    }
   ],
   "source": [
    "# 데이터프레임 ***중요*** 머신러닝, AI는 데이터프레임으로 공부한다 \n",
    "fruit <- data.frame(no, name, price, qty, stringsAsFactors=F) # stringsAsFactors=F, factor 해제, factor는 문자,숫자 가지고 있음 메모리가 두배\n",
    "# fruit <- data.frame(번호=no, 상품명=name, 금액=price, 재고량=qty) # 한번에 열 이름까지 변경해서 데이터프레임 생성\n",
    "colnames(fruit) <- c('번호', '상품명', '금액', '재고량')\n",
    "fruit"
   ]
  },
  {
   "cell_type": "code",
   "execution_count": 44,
   "metadata": {
    "vscode": {
     "languageId": "r"
    }
   },
   "outputs": [
    {
     "name": "stdout",
     "output_type": "stream",
     "text": [
      "'data.frame':\t4 obs. of  4 variables:\n",
      " $ 번호  : int  1 2 3 4\n",
      " $ 상품명: chr  \"Apple\" \"Banana\" \"Peach\" \"Berry\"\n",
      " $ 금액  : num  500 400 300 200\n",
      " $ 재고량: num  5 2 7 9\n"
     ]
    },
    {
     "data": {
      "text/plain": [
       "      번호         상품명               금액         재고량    \n",
       " Min.   :1.00   Length:4           Min.   :200   Min.   :2.00  \n",
       " 1st Qu.:1.75   Class :character   1st Qu.:275   1st Qu.:4.25  \n",
       " Median :2.50   Mode  :character   Median :350   Median :6.00  \n",
       " Mean   :2.50                      Mean   :350   Mean   :5.75  \n",
       " 3rd Qu.:3.25                      3rd Qu.:425   3rd Qu.:7.50  \n",
       " Max.   :4.00                      Max.   :500   Max.   :9.00  "
      ]
     },
     "metadata": {},
     "output_type": "display_data"
    }
   ],
   "source": [
    "str(fruit)\n",
    "summary(fruit)"
   ]
  },
  {
   "cell_type": "code",
   "execution_count": 45,
   "metadata": {
    "vscode": {
     "languageId": "r"
    }
   },
   "outputs": [
    {
     "data": {
      "text/html": [
       "<table>\n",
       "<thead><tr><th scope=col>상품명</th><th scope=col>재고량</th></tr></thead>\n",
       "<tbody>\n",
       "\t<tr><td>Apple </td><td>5     </td></tr>\n",
       "\t<tr><td>Banana</td><td>2     </td></tr>\n",
       "\t<tr><td>Peach </td><td>7     </td></tr>\n",
       "\t<tr><td>Berry </td><td>9     </td></tr>\n",
       "</tbody>\n",
       "</table>\n"
      ],
      "text/latex": [
       "\\begin{tabular}{r|ll}\n",
       " 상품명 & 재고량\\\\\n",
       "\\hline\n",
       "\t Apple  & 5     \\\\\n",
       "\t Banana & 2     \\\\\n",
       "\t Peach  & 7     \\\\\n",
       "\t Berry  & 9     \\\\\n",
       "\\end{tabular}\n"
      ],
      "text/markdown": [
       "\n",
       "| 상품명 | 재고량 |\n",
       "|---|---|\n",
       "| Apple  | 5      |\n",
       "| Banana | 2      |\n",
       "| Peach  | 7      |\n",
       "| Berry  | 9      |\n",
       "\n"
      ],
      "text/plain": [
       "  상품명 재고량\n",
       "1 Apple  5     \n",
       "2 Banana 2     \n",
       "3 Peach  7     \n",
       "4 Berry  9     "
      ]
     },
     "metadata": {},
     "output_type": "display_data"
    }
   ],
   "source": [
    "# fruit에서 상품명과 재고량만 보기\n",
    "fruit[,c(\"상품명\",\"재고량\")]"
   ]
  },
  {
   "cell_type": "code",
   "execution_count": 46,
   "metadata": {
    "vscode": {
     "languageId": "r"
    }
   },
   "outputs": [
    {
     "data": {
      "text/html": [
       "<table>\n",
       "<thead><tr><th scope=col>상품명</th><th scope=col>금액</th><th scope=col>재고량</th></tr></thead>\n",
       "<tbody>\n",
       "\t<tr><td>Apple </td><td>500   </td><td>5     </td></tr>\n",
       "\t<tr><td>Banana</td><td>400   </td><td>2     </td></tr>\n",
       "\t<tr><td>Peach </td><td>300   </td><td>7     </td></tr>\n",
       "\t<tr><td>Berry </td><td>200   </td><td>9     </td></tr>\n",
       "</tbody>\n",
       "</table>\n"
      ],
      "text/latex": [
       "\\begin{tabular}{r|lll}\n",
       " 상품명 & 금액 & 재고량\\\\\n",
       "\\hline\n",
       "\t Apple  & 500    & 5     \\\\\n",
       "\t Banana & 400    & 2     \\\\\n",
       "\t Peach  & 300    & 7     \\\\\n",
       "\t Berry  & 200    & 9     \\\\\n",
       "\\end{tabular}\n"
      ],
      "text/markdown": [
       "\n",
       "| 상품명 | 금액 | 재고량 |\n",
       "|---|---|---|\n",
       "| Apple  | 500    | 5      |\n",
       "| Banana | 400    | 2      |\n",
       "| Peach  | 300    | 7      |\n",
       "| Berry  | 200    | 9      |\n",
       "\n"
      ],
      "text/plain": [
       "  상품명 금액 재고량\n",
       "1 Apple  500  5     \n",
       "2 Banana 400  2     \n",
       "3 Peach  300  7     \n",
       "4 Berry  200  9     "
      ]
     },
     "metadata": {},
     "output_type": "display_data"
    }
   ],
   "source": [
    "# fruit에서 번호를 제외한 모든 내용 보기\n",
    "fruit[,-1]"
   ]
  },
  {
   "cell_type": "code",
   "execution_count": 47,
   "metadata": {
    "vscode": {
     "languageId": "r"
    }
   },
   "outputs": [
    {
     "data": {
      "text/html": [
       "<table>\n",
       "<thead><tr><th></th><th scope=col>상품명</th><th scope=col>금액</th><th scope=col>재고량</th></tr></thead>\n",
       "<tbody>\n",
       "\t<tr><th scope=row>1</th><td>Apple</td><td>500  </td><td>5    </td></tr>\n",
       "\t<tr><th scope=row>3</th><td>Peach</td><td>300  </td><td>7    </td></tr>\n",
       "</tbody>\n",
       "</table>\n"
      ],
      "text/latex": [
       "\\begin{tabular}{r|lll}\n",
       "  & 상품명 & 금액 & 재고량\\\\\n",
       "\\hline\n",
       "\t1 & Apple & 500   & 5    \\\\\n",
       "\t3 & Peach & 300   & 7    \\\\\n",
       "\\end{tabular}\n"
      ],
      "text/markdown": [
       "\n",
       "| <!--/--> | 상품명 | 금액 | 재고량 |\n",
       "|---|---|---|---|\n",
       "| 1 | Apple | 500   | 5     |\n",
       "| 3 | Peach | 300   | 7     |\n",
       "\n"
      ],
      "text/plain": [
       "  상품명 금액 재고량\n",
       "1 Apple  500  5     \n",
       "3 Peach  300  7     "
      ]
     },
     "metadata": {},
     "output_type": "display_data"
    }
   ],
   "source": [
    "# fruit에서 2,4번 행을 제외한 상품명, 금액, 재고량만 출력하기\n",
    "fruit[-c(2,4),c('상품명','금액','재고량')]"
   ]
  },
  {
   "cell_type": "code",
   "execution_count": 48,
   "metadata": {
    "vscode": {
     "languageId": "r"
    }
   },
   "outputs": [
    {
     "data": {
      "text/html": [
       "<table>\n",
       "<thead><tr><th scope=col>번호</th><th scope=col>상품명</th><th scope=col>금액</th><th scope=col>재고량</th><th scope=col>재고금액</th></tr></thead>\n",
       "<tbody>\n",
       "\t<tr><td>1     </td><td>Apple </td><td>500   </td><td>5     </td><td>2500  </td></tr>\n",
       "\t<tr><td>2     </td><td>Banana</td><td>400   </td><td>2     </td><td> 800  </td></tr>\n",
       "\t<tr><td>3     </td><td>Peach </td><td>300   </td><td>7     </td><td>2100  </td></tr>\n",
       "\t<tr><td>4     </td><td>Berry </td><td>200   </td><td>9     </td><td>1800  </td></tr>\n",
       "</tbody>\n",
       "</table>\n"
      ],
      "text/latex": [
       "\\begin{tabular}{r|lllll}\n",
       " 번호 & 상품명 & 금액 & 재고량 & 재고금액\\\\\n",
       "\\hline\n",
       "\t 1      & Apple  & 500    & 5      & 2500  \\\\\n",
       "\t 2      & Banana & 400    & 2      &  800  \\\\\n",
       "\t 3      & Peach  & 300    & 7      & 2100  \\\\\n",
       "\t 4      & Berry  & 200    & 9      & 1800  \\\\\n",
       "\\end{tabular}\n"
      ],
      "text/markdown": [
       "\n",
       "| 번호 | 상품명 | 금액 | 재고량 | 재고금액 |\n",
       "|---|---|---|---|---|\n",
       "| 1      | Apple  | 500    | 5      | 2500   |\n",
       "| 2      | Banana | 400    | 2      |  800   |\n",
       "| 3      | Peach  | 300    | 7      | 2100   |\n",
       "| 4      | Berry  | 200    | 9      | 1800   |\n",
       "\n"
      ],
      "text/plain": [
       "  번호 상품명 금액 재고량 재고금액\n",
       "1 1    Apple  500  5      2500    \n",
       "2 2    Banana 400  2       800    \n",
       "3 3    Peach  300  7      2100    \n",
       "4 4    Berry  200  9      1800    "
      ]
     },
     "metadata": {},
     "output_type": "display_data"
    }
   ],
   "source": [
    "# 재고금액 (금액*재고량) 이라는 컬럼 생성하여 fruit에 붙이기\n",
    "fruit$재고금액 = fruit$금액 * fruit$재고량\n",
    "fruit\n"
   ]
  },
  {
   "cell_type": "code",
   "execution_count": 49,
   "metadata": {
    "vscode": {
     "languageId": "r"
    }
   },
   "outputs": [
    {
     "data": {
      "text/html": [
       "<table>\n",
       "<thead><tr><th scope=col>번호</th><th scope=col>상품명</th><th scope=col>금액</th><th scope=col>재고량</th><th scope=col>재고금액</th><th scope=col>원산지</th></tr></thead>\n",
       "<tbody>\n",
       "\t<tr><td>1     </td><td>Apple </td><td>500   </td><td>5     </td><td>2500  </td><td>한국  </td></tr>\n",
       "\t<tr><td>2     </td><td>Banana</td><td>400   </td><td>2     </td><td> 800  </td><td>태국  </td></tr>\n",
       "\t<tr><td>3     </td><td>Peach </td><td>300   </td><td>7     </td><td>2100  </td><td>한국  </td></tr>\n",
       "\t<tr><td>4     </td><td>Berry </td><td>200   </td><td>9     </td><td>1800  </td><td>중국  </td></tr>\n",
       "</tbody>\n",
       "</table>\n"
      ],
      "text/latex": [
       "\\begin{tabular}{r|llllll}\n",
       " 번호 & 상품명 & 금액 & 재고량 & 재고금액 & 원산지\\\\\n",
       "\\hline\n",
       "\t 1      & Apple  & 500    & 5      & 2500   & 한국  \\\\\n",
       "\t 2      & Banana & 400    & 2      &  800   & 태국  \\\\\n",
       "\t 3      & Peach  & 300    & 7      & 2100   & 한국  \\\\\n",
       "\t 4      & Berry  & 200    & 9      & 1800   & 중국  \\\\\n",
       "\\end{tabular}\n"
      ],
      "text/markdown": [
       "\n",
       "| 번호 | 상품명 | 금액 | 재고량 | 재고금액 | 원산지 |\n",
       "|---|---|---|---|---|---|\n",
       "| 1      | Apple  | 500    | 5      | 2500   | 한국   |\n",
       "| 2      | Banana | 400    | 2      |  800   | 태국   |\n",
       "| 3      | Peach  | 300    | 7      | 2100   | 한국   |\n",
       "| 4      | Berry  | 200    | 9      | 1800   | 중국   |\n",
       "\n"
      ],
      "text/plain": [
       "  번호 상품명 금액 재고량 재고금액 원산지\n",
       "1 1    Apple  500  5      2500     한국  \n",
       "2 2    Banana 400  2       800     태국  \n",
       "3 3    Peach  300  7      2100     한국  \n",
       "4 4    Berry  200  9      1800     중국  "
      ]
     },
     "metadata": {},
     "output_type": "display_data"
    }
   ],
   "source": [
    "# 원산지 컬럼 추가하기\n",
    "fruit$원산지 = c('한국','태국','한국','중국')\n",
    "fruit"
   ]
  },
  {
   "cell_type": "markdown",
   "metadata": {},
   "source": [
    "---\n",
    "# 외부 File 불러오기"
   ]
  },
  {
   "cell_type": "code",
   "execution_count": 50,
   "metadata": {
    "vscode": {
     "languageId": "r"
    }
   },
   "outputs": [
    {
     "data": {
      "text/html": [
       "<table>\n",
       "<thead><tr><th scope=col>사번</th><th scope=col>이름</th><th scope=col>급여</th></tr></thead>\n",
       "<tbody>\n",
       "\t<tr><td>101 </td><td>hong</td><td>150 </td></tr>\n",
       "\t<tr><td>201 </td><td>lee </td><td>250 </td></tr>\n",
       "\t<tr><td>301 </td><td>kim </td><td>300 </td></tr>\n",
       "</tbody>\n",
       "</table>\n"
      ],
      "text/latex": [
       "\\begin{tabular}{r|lll}\n",
       " 사번 & 이름 & 급여\\\\\n",
       "\\hline\n",
       "\t 101  & hong & 150 \\\\\n",
       "\t 201  & lee  & 250 \\\\\n",
       "\t 301  & kim  & 300 \\\\\n",
       "\\end{tabular}\n"
      ],
      "text/markdown": [
       "\n",
       "| 사번 | 이름 | 급여 |\n",
       "|---|---|---|\n",
       "| 101  | hong | 150  |\n",
       "| 201  | lee  | 250  |\n",
       "| 301  | kim  | 300  |\n",
       "\n"
      ],
      "text/plain": [
       "  사번 이름 급여\n",
       "1 101  hong 150 \n",
       "2 201  lee  250 \n",
       "3 301  kim  300 "
      ]
     },
     "metadata": {},
     "output_type": "display_data"
    }
   ],
   "source": [
    "# txt file 불러오기\n",
    "# 데이터 구분이 공백, 탭 일때는 알아서 인식 됨, / 는 구분되지 않으므로 sep = \"/\"로 구분하는 옵션을 주어야 한다. \n",
    "# 헤더 구분을 안하면 컬럼이름으로 쓰인 값들이 chr형식으로 들어가 숫자 데이터도 글자로 인식되어 버린다.\n",
    "txtEmp <- read.table(\"../Data/emp.txt\", header = T, sep = \"/\", fileEncoding = 'utf-8', stringsAsFactors = F) # header가 있다\n",
    "txtEmp\n"
   ]
  },
  {
   "cell_type": "code",
   "execution_count": 51,
   "metadata": {
    "vscode": {
     "languageId": "r"
    }
   },
   "outputs": [
    {
     "name": "stdout",
     "output_type": "stream",
     "text": [
      "'data.frame':\t3 obs. of  3 variables:\n",
      " $ 사번: int  101 201 301\n",
      " $ 이름: chr  \"hong\" \"lee\" \"kim\"\n",
      " $ 급여: int  150 250 300\n"
     ]
    }
   ],
   "source": [
    "str(txtEmp)"
   ]
  },
  {
   "cell_type": "code",
   "execution_count": 52,
   "metadata": {
    "vscode": {
     "languageId": "r"
    }
   },
   "outputs": [
    {
     "data": {
      "text/html": [
       "<table>\n",
       "<thead><tr><th scope=col>사번</th><th scope=col>이름</th><th scope=col>급여</th></tr></thead>\n",
       "<tbody>\n",
       "\t<tr><td>101   </td><td>홍길동</td><td>150   </td></tr>\n",
       "\t<tr><td>102   </td><td>이순신</td><td>450   </td></tr>\n",
       "\t<tr><td>103   </td><td>강감찬</td><td>500   </td></tr>\n",
       "\t<tr><td>104   </td><td>유관순</td><td>350   </td></tr>\n",
       "\t<tr><td>105   </td><td>김유신</td><td>400   </td></tr>\n",
       "</tbody>\n",
       "</table>\n"
      ],
      "text/latex": [
       "\\begin{tabular}{r|lll}\n",
       " 사번 & 이름 & 급여\\\\\n",
       "\\hline\n",
       "\t 101    & 홍길동 & 150   \\\\\n",
       "\t 102    & 이순신 & 450   \\\\\n",
       "\t 103    & 강감찬 & 500   \\\\\n",
       "\t 104    & 유관순 & 350   \\\\\n",
       "\t 105    & 김유신 & 400   \\\\\n",
       "\\end{tabular}\n"
      ],
      "text/markdown": [
       "\n",
       "| 사번 | 이름 | 급여 |\n",
       "|---|---|---|\n",
       "| 101    | 홍길동 | 150    |\n",
       "| 102    | 이순신 | 450    |\n",
       "| 103    | 강감찬 | 500    |\n",
       "| 104    | 유관순 | 350    |\n",
       "| 105    | 김유신 | 400    |\n",
       "\n"
      ],
      "text/plain": [
       "  사번 이름   급여\n",
       "1 101  홍길동 150 \n",
       "2 102  이순신 450 \n",
       "3 103  강감찬 500 \n",
       "4 104  유관순 350 \n",
       "5 105  김유신 400 "
      ]
     },
     "metadata": {},
     "output_type": "display_data"
    },
    {
     "name": "stdout",
     "output_type": "stream",
     "text": [
      "'data.frame':\t5 obs. of  3 variables:\n",
      " $ 사번: int  101 102 103 104 105\n",
      " $ 이름: chr  \"홍길동\" \"이순신\" \"강감찬\" \"유관순\" ...\n",
      " $ 급여: int  150 450 500 350 400\n"
     ]
    }
   ],
   "source": [
    "# csv(Comma Seperated Value)\n",
    "csvEmp <- read.csv(\"../Data/emp2.csv\" , header=F, stringsAsFactors=F)\n",
    "# 사번, 이름, 급여로 컬럼 변경하기\n",
    "colnames(csvEmp) = c(\"사번\",\"이름\",\"급여\")\n",
    "csvEmp\n",
    "str(csvEmp)"
   ]
  },
  {
   "cell_type": "markdown",
   "metadata": {},
   "source": [
    "> 4/26 수업 끗"
   ]
  },
  {
   "cell_type": "code",
   "execution_count": 2,
   "metadata": {
    "vscode": {
     "languageId": "r"
    }
   },
   "outputs": [
    {
     "data": {
      "text/html": [
       "<table>\n",
       "<thead><tr><th scope=col>x</th><th scope=col>y</th><th scope=col>z</th></tr></thead>\n",
       "<tbody>\n",
       "\t<tr><td>1 </td><td> 2</td><td>a </td></tr>\n",
       "\t<tr><td>2 </td><td> 4</td><td>b </td></tr>\n",
       "\t<tr><td>3 </td><td> 6</td><td>c </td></tr>\n",
       "\t<tr><td>4 </td><td> 8</td><td>d </td></tr>\n",
       "\t<tr><td>5 </td><td>10</td><td>e </td></tr>\n",
       "</tbody>\n",
       "</table>\n"
      ],
      "text/latex": [
       "\\begin{tabular}{r|lll}\n",
       " x & y & z\\\\\n",
       "\\hline\n",
       "\t 1  &  2 & a \\\\\n",
       "\t 2  &  4 & b \\\\\n",
       "\t 3  &  6 & c \\\\\n",
       "\t 4  &  8 & d \\\\\n",
       "\t 5  & 10 & e \\\\\n",
       "\\end{tabular}\n"
      ],
      "text/markdown": [
       "\n",
       "| x | y | z |\n",
       "|---|---|---|\n",
       "| 1  |  2 | a  |\n",
       "| 2  |  4 | b  |\n",
       "| 3  |  6 | c  |\n",
       "| 4  |  8 | d  |\n",
       "| 5  | 10 | e  |\n",
       "\n"
      ],
      "text/plain": [
       "  x y  z\n",
       "1 1  2 a\n",
       "2 2  4 b\n",
       "3 3  6 c\n",
       "4 4  8 d\n",
       "5 5 10 e"
      ]
     },
     "metadata": {},
     "output_type": "display_data"
    }
   ],
   "source": [
    "df <- data.frame(x=1:5, y=seq(2,10,2), z=c('a','b','c','d','e'))\n",
    "df"
   ]
  },
  {
   "cell_type": "code",
   "execution_count": 3,
   "metadata": {
    "vscode": {
     "languageId": "r"
    }
   },
   "outputs": [
    {
     "name": "stdout",
     "output_type": "stream",
     "text": [
      "x컬럼의 합계는 15 이고 y컬름의 합계는 30 입니다."
     ]
    }
   ],
   "source": [
    "# x컬럼의 합계는 15이고 y컬럼의 합계는 30입니다\n",
    "cat(\"x컬럼의 합계는\", sum(df$x),\"이고 y컬름의 합계는\", sum(df$y),\"입니다.\")"
   ]
  },
  {
   "cell_type": "markdown",
   "metadata": {
    "vscode": {
     "languageId": "r"
    }
   },
   "source": [
    "### 함수를 부르는 함수"
   ]
  },
  {
   "cell_type": "code",
   "execution_count": 4,
   "metadata": {
    "vscode": {
     "languageId": "r"
    }
   },
   "outputs": [
    {
     "data": {
      "text/html": [
       "<dl class=dl-horizontal>\n",
       "\t<dt>x</dt>\n",
       "\t\t<dd>15</dd>\n",
       "\t<dt>y</dt>\n",
       "\t\t<dd>30</dd>\n",
       "</dl>\n"
      ],
      "text/latex": [
       "\\begin{description*}\n",
       "\\item[x] 15\n",
       "\\item[y] 30\n",
       "\\end{description*}\n"
      ],
      "text/markdown": [
       "x\n",
       ":   15y\n",
       ":   30\n",
       "\n"
      ],
      "text/plain": [
       " x  y \n",
       "15 30 "
      ]
     },
     "metadata": {},
     "output_type": "display_data"
    },
    {
     "data": {
      "text/html": [
       "<dl class=dl-horizontal>\n",
       "\t<dt>x</dt>\n",
       "\t\t<dd>3</dd>\n",
       "\t<dt>y</dt>\n",
       "\t\t<dd>6</dd>\n",
       "</dl>\n"
      ],
      "text/latex": [
       "\\begin{description*}\n",
       "\\item[x] 3\n",
       "\\item[y] 6\n",
       "\\end{description*}\n"
      ],
      "text/markdown": [
       "x\n",
       ":   3y\n",
       ":   6\n",
       "\n"
      ],
      "text/plain": [
       "x y \n",
       "3 6 "
      ]
     },
     "metadata": {},
     "output_type": "display_data"
    },
    {
     "data": {
      "text/html": [
       "<dl class=dl-horizontal>\n",
       "\t<dt>x</dt>\n",
       "\t\t<dd>1.58113883008419</dd>\n",
       "\t<dt>y</dt>\n",
       "\t\t<dd>3.16227766016838</dd>\n",
       "</dl>\n"
      ],
      "text/latex": [
       "\\begin{description*}\n",
       "\\item[x] 1.58113883008419\n",
       "\\item[y] 3.16227766016838\n",
       "\\end{description*}\n"
      ],
      "text/markdown": [
       "x\n",
       ":   1.58113883008419y\n",
       ":   3.16227766016838\n",
       "\n"
      ],
      "text/plain": [
       "       x        y \n",
       "1.581139 3.162278 "
      ]
     },
     "metadata": {},
     "output_type": "display_data"
    }
   ],
   "source": [
    "# 데이터 프레임에 함수 적용 (열방향) # 가로방향 1, 세로방향 2 # 데이터가 엄청 많을떄는 apply를 써야한다\n",
    "apply(df[,1:2], 2, sum)\n",
    "apply(df[,1:2], 2, mean)\n",
    "apply(df[,1:2], 2, sd)"
   ]
  },
  {
   "cell_type": "code",
   "execution_count": 56,
   "metadata": {
    "vscode": {
     "languageId": "r"
    }
   },
   "outputs": [
    {
     "data": {
      "text/html": [
       "<ol class=list-inline>\n",
       "\t<li>3</li>\n",
       "\t<li>6</li>\n",
       "\t<li>9</li>\n",
       "\t<li>12</li>\n",
       "\t<li>15</li>\n",
       "</ol>\n"
      ],
      "text/latex": [
       "\\begin{enumerate*}\n",
       "\\item 3\n",
       "\\item 6\n",
       "\\item 9\n",
       "\\item 12\n",
       "\\item 15\n",
       "\\end{enumerate*}\n"
      ],
      "text/markdown": [
       "1. 3\n",
       "2. 6\n",
       "3. 9\n",
       "4. 12\n",
       "5. 15\n",
       "\n",
       "\n"
      ],
      "text/plain": [
       "[1]  3  6  9 12 15"
      ]
     },
     "metadata": {},
     "output_type": "display_data"
    },
    {
     "data": {
      "text/html": [
       "<ol class=list-inline>\n",
       "\t<li>1.5</li>\n",
       "\t<li>3</li>\n",
       "\t<li>4.5</li>\n",
       "\t<li>6</li>\n",
       "\t<li>7.5</li>\n",
       "</ol>\n"
      ],
      "text/latex": [
       "\\begin{enumerate*}\n",
       "\\item 1.5\n",
       "\\item 3\n",
       "\\item 4.5\n",
       "\\item 6\n",
       "\\item 7.5\n",
       "\\end{enumerate*}\n"
      ],
      "text/markdown": [
       "1. 1.5\n",
       "2. 3\n",
       "3. 4.5\n",
       "4. 6\n",
       "5. 7.5\n",
       "\n",
       "\n"
      ],
      "text/plain": [
       "[1] 1.5 3.0 4.5 6.0 7.5"
      ]
     },
     "metadata": {},
     "output_type": "display_data"
    },
    {
     "data": {
      "text/html": [
       "<ol class=list-inline>\n",
       "\t<li>0.707106781186548</li>\n",
       "\t<li>1.4142135623731</li>\n",
       "\t<li>2.12132034355964</li>\n",
       "\t<li>2.82842712474619</li>\n",
       "\t<li>3.53553390593274</li>\n",
       "</ol>\n"
      ],
      "text/latex": [
       "\\begin{enumerate*}\n",
       "\\item 0.707106781186548\n",
       "\\item 1.4142135623731\n",
       "\\item 2.12132034355964\n",
       "\\item 2.82842712474619\n",
       "\\item 3.53553390593274\n",
       "\\end{enumerate*}\n"
      ],
      "text/markdown": [
       "1. 0.707106781186548\n",
       "2. 1.4142135623731\n",
       "3. 2.12132034355964\n",
       "4. 2.82842712474619\n",
       "5. 3.53553390593274\n",
       "\n",
       "\n"
      ],
      "text/plain": [
       "[1] 0.7071068 1.4142136 2.1213203 2.8284271 3.5355339"
      ]
     },
     "metadata": {},
     "output_type": "display_data"
    }
   ],
   "source": [
    "# 데이터프레임에 함수 적용 (행방향)\n",
    "apply(df[,1:2], 1, sum)\n",
    "apply(df[,1:2], 1, mean)\n",
    "apply(df[,1:2], 1, sd)"
   ]
  },
  {
   "cell_type": "code",
   "execution_count": 5,
   "metadata": {
    "vscode": {
     "languageId": "r"
    }
   },
   "outputs": [
    {
     "data": {
      "text/html": [
       "<table>\n",
       "<thead><tr><th scope=col>x</th><th scope=col>y</th><th scope=col>z</th><th scope=col>Hap</th></tr></thead>\n",
       "<tbody>\n",
       "\t<tr><td>1 </td><td> 2</td><td>a </td><td> 3</td></tr>\n",
       "\t<tr><td>2 </td><td> 4</td><td>b </td><td> 6</td></tr>\n",
       "\t<tr><td>3 </td><td> 6</td><td>c </td><td> 9</td></tr>\n",
       "\t<tr><td>4 </td><td> 8</td><td>d </td><td>12</td></tr>\n",
       "\t<tr><td>5 </td><td>10</td><td>e </td><td>15</td></tr>\n",
       "</tbody>\n",
       "</table>\n"
      ],
      "text/latex": [
       "\\begin{tabular}{r|llll}\n",
       " x & y & z & Hap\\\\\n",
       "\\hline\n",
       "\t 1  &  2 & a  &  3\\\\\n",
       "\t 2  &  4 & b  &  6\\\\\n",
       "\t 3  &  6 & c  &  9\\\\\n",
       "\t 4  &  8 & d  & 12\\\\\n",
       "\t 5  & 10 & e  & 15\\\\\n",
       "\\end{tabular}\n"
      ],
      "text/markdown": [
       "\n",
       "| x | y | z | Hap |\n",
       "|---|---|---|---|\n",
       "| 1  |  2 | a  |  3 |\n",
       "| 2  |  4 | b  |  6 |\n",
       "| 3  |  6 | c  |  9 |\n",
       "| 4  |  8 | d  | 12 |\n",
       "| 5  | 10 | e  | 15 |\n",
       "\n"
      ],
      "text/plain": [
       "  x y  z Hap\n",
       "1 1  2 a  3 \n",
       "2 2  4 b  6 \n",
       "3 3  6 c  9 \n",
       "4 4  8 d 12 \n",
       "5 5 10 e 15 "
      ]
     },
     "metadata": {},
     "output_type": "display_data"
    }
   ],
   "source": [
    "# df에 Hap이라는 컬럼을 만들어서 행방향의 합계 구하기\n",
    "df$Hap <- apply(df[,1:2] , 1, sum)\n",
    "\n",
    "df"
   ]
  },
  {
   "cell_type": "code",
   "execution_count": 60,
   "metadata": {
    "vscode": {
     "languageId": "r"
    }
   },
   "outputs": [
    {
     "data": {
      "text/html": [
       "<table>\n",
       "<thead><tr><th></th><th scope=col>x</th><th scope=col>y</th><th scope=col>z</th><th scope=col>Hap</th></tr></thead>\n",
       "<tbody>\n",
       "\t<tr><th scope=row>3</th><td>3 </td><td> 6</td><td>c </td><td> 9</td></tr>\n",
       "\t<tr><th scope=row>4</th><td>4 </td><td> 8</td><td>d </td><td>12</td></tr>\n",
       "\t<tr><th scope=row>5</th><td>5 </td><td>10</td><td>e </td><td>15</td></tr>\n",
       "</tbody>\n",
       "</table>\n"
      ],
      "text/latex": [
       "\\begin{tabular}{r|llll}\n",
       "  & x & y & z & Hap\\\\\n",
       "\\hline\n",
       "\t3 & 3  &  6 & c  &  9\\\\\n",
       "\t4 & 4  &  8 & d  & 12\\\\\n",
       "\t5 & 5  & 10 & e  & 15\\\\\n",
       "\\end{tabular}\n"
      ],
      "text/markdown": [
       "\n",
       "| <!--/--> | x | y | z | Hap |\n",
       "|---|---|---|---|---|\n",
       "| 3 | 3  |  6 | c  |  9 |\n",
       "| 4 | 4  |  8 | d  | 12 |\n",
       "| 5 | 5  | 10 | e  | 15 |\n",
       "\n"
      ],
      "text/plain": [
       "  x y  z Hap\n",
       "3 3  6 c  9 \n",
       "4 4  8 d 12 \n",
       "5 5 10 e 15 "
      ]
     },
     "metadata": {},
     "output_type": "display_data"
    },
    {
     "data": {
      "text/html": [
       "<table>\n",
       "<thead><tr><th></th><th scope=col>x</th><th scope=col>y</th><th scope=col>z</th><th scope=col>Hap</th></tr></thead>\n",
       "<tbody>\n",
       "\t<tr><th scope=row>4</th><td>4 </td><td> 8</td><td>d </td><td>12</td></tr>\n",
       "\t<tr><th scope=row>5</th><td>5 </td><td>10</td><td>e </td><td>15</td></tr>\n",
       "</tbody>\n",
       "</table>\n"
      ],
      "text/latex": [
       "\\begin{tabular}{r|llll}\n",
       "  & x & y & z & Hap\\\\\n",
       "\\hline\n",
       "\t4 & 4  &  8 & d  & 12\\\\\n",
       "\t5 & 5  & 10 & e  & 15\\\\\n",
       "\\end{tabular}\n"
      ],
      "text/markdown": [
       "\n",
       "| <!--/--> | x | y | z | Hap |\n",
       "|---|---|---|---|---|\n",
       "| 4 | 4  |  8 | d  | 12 |\n",
       "| 5 | 5  | 10 | e  | 15 |\n",
       "\n"
      ],
      "text/plain": [
       "  x y  z Hap\n",
       "4 4  8 d 12 \n",
       "5 5 10 e 15 "
      ]
     },
     "metadata": {},
     "output_type": "display_data"
    }
   ],
   "source": [
    "# 부분집합 쵸큼중요 # subset( 어디에서, 조건 )\n",
    "subset(df, x >= 3) \n",
    "subset(df, x >= 3 & y >= 8) "
   ]
  },
  {
   "cell_type": "code",
   "execution_count": 6,
   "metadata": {
    "vscode": {
     "languageId": "r"
    }
   },
   "outputs": [
    {
     "data": {
      "text/html": [
       "<table>\n",
       "<thead><tr><th></th><th scope=col>x</th><th scope=col>y</th><th scope=col>z</th><th scope=col>Hap</th></tr></thead>\n",
       "<tbody>\n",
       "\t<tr><th scope=row>4</th><td>4 </td><td> 8</td><td>d </td><td>12</td></tr>\n",
       "\t<tr><th scope=row>5</th><td>5 </td><td>10</td><td>e </td><td>15</td></tr>\n",
       "</tbody>\n",
       "</table>\n"
      ],
      "text/latex": [
       "\\begin{tabular}{r|llll}\n",
       "  & x & y & z & Hap\\\\\n",
       "\\hline\n",
       "\t4 & 4  &  8 & d  & 12\\\\\n",
       "\t5 & 5  & 10 & e  & 15\\\\\n",
       "\\end{tabular}\n"
      ],
      "text/markdown": [
       "\n",
       "| <!--/--> | x | y | z | Hap |\n",
       "|---|---|---|---|---|\n",
       "| 4 | 4  |  8 | d  | 12 |\n",
       "| 5 | 5  | 10 | e  | 15 |\n",
       "\n"
      ],
      "text/plain": [
       "  x y  z Hap\n",
       "4 4  8 d 12 \n",
       "5 5 10 e 15 "
      ]
     },
     "metadata": {},
     "output_type": "display_data"
    },
    {
     "data": {
      "text/html": [
       "<table>\n",
       "<thead><tr><th></th><th scope=col>x</th><th scope=col>y</th></tr></thead>\n",
       "<tbody>\n",
       "\t<tr><th scope=row>4</th><td>4 </td><td> 8</td></tr>\n",
       "\t<tr><th scope=row>5</th><td>5 </td><td>10</td></tr>\n",
       "</tbody>\n",
       "</table>\n"
      ],
      "text/latex": [
       "\\begin{tabular}{r|ll}\n",
       "  & x & y\\\\\n",
       "\\hline\n",
       "\t4 & 4  &  8\\\\\n",
       "\t5 & 5  & 10\\\\\n",
       "\\end{tabular}\n"
      ],
      "text/markdown": [
       "\n",
       "| <!--/--> | x | y |\n",
       "|---|---|---|\n",
       "| 4 | 4  |  8 |\n",
       "| 5 | 5  | 10 |\n",
       "\n"
      ],
      "text/plain": [
       "  x y \n",
       "4 4  8\n",
       "5 5 10"
      ]
     },
     "metadata": {},
     "output_type": "display_data"
    },
    {
     "data": {
      "text/html": [
       "<ol class=list-inline>\n",
       "\t<li>4</li>\n",
       "\t<li>5</li>\n",
       "</ol>\n"
      ],
      "text/latex": [
       "\\begin{enumerate*}\n",
       "\\item 4\n",
       "\\item 5\n",
       "\\end{enumerate*}\n"
      ],
      "text/markdown": [
       "1. 4\n",
       "2. 5\n",
       "\n",
       "\n"
      ],
      "text/plain": [
       "[1] 4 5"
      ]
     },
     "metadata": {},
     "output_type": "display_data"
    },
    {
     "data": {
      "text/html": [
       "<dl class=dl-horizontal>\n",
       "\t<dt>x</dt>\n",
       "\t\t<dd>9</dd>\n",
       "\t<dt>y</dt>\n",
       "\t\t<dd>18</dd>\n",
       "</dl>\n"
      ],
      "text/latex": [
       "\\begin{description*}\n",
       "\\item[x] 9\n",
       "\\item[y] 18\n",
       "\\end{description*}\n"
      ],
      "text/markdown": [
       "x\n",
       ":   9y\n",
       ":   18\n",
       "\n"
      ],
      "text/plain": [
       " x  y \n",
       " 9 18 "
      ]
     },
     "metadata": {},
     "output_type": "display_data"
    },
    {
     "data": {
      "text/html": [
       "<strong>x:</strong> 9"
      ],
      "text/latex": [
       "\\textbf{x:} 9"
      ],
      "text/markdown": [
       "**x:** 9"
      ],
      "text/plain": [
       "x \n",
       "9 "
      ]
     },
     "metadata": {},
     "output_type": "display_data"
    }
   ],
   "source": [
    "# 조건을 계속 붙여서 원하는 모습으로 볼 수 있다.\n",
    "subset(df, x >= 3 & y >= 8)\n",
    "subset(df, x >= 3 & y >= 8)[ , 1:2]\n",
    "subset(df, x >= 3 & y >= 8)[ , 1:2][ , 1]\n",
    "\n",
    "# 4번행과 5번행의 x컬럼과 y컬럼의 합계를 구하기\n",
    "apply(subset(df, x >= 3 & y >= 8)[,1:2] , 2, sum)\n",
    "apply(subset(df, x >= 3 & y >= 8)[,1:2] , 2, sum)[1]"
   ]
  },
  {
   "cell_type": "markdown",
   "metadata": {
    "vscode": {
     "languageId": "r"
    }
   },
   "source": [
    "---\n",
    "### 두개 이상의 데이터프레임 병합하기\n",
    "#### sql의 join과 비슷"
   ]
  },
  {
   "cell_type": "code",
   "execution_count": 12,
   "metadata": {
    "vscode": {
     "languageId": "r"
    }
   },
   "outputs": [
    {
     "data": {
      "text/html": [
       "<table>\n",
       "<thead><tr><th scope=col>id</th><th scope=col>height</th></tr></thead>\n",
       "<tbody>\n",
       "\t<tr><td>1  </td><td>160</td></tr>\n",
       "\t<tr><td>2  </td><td>170</td></tr>\n",
       "\t<tr><td>3  </td><td>180</td></tr>\n",
       "</tbody>\n",
       "</table>\n"
      ],
      "text/latex": [
       "\\begin{tabular}{r|ll}\n",
       " id & height\\\\\n",
       "\\hline\n",
       "\t 1   & 160\\\\\n",
       "\t 2   & 170\\\\\n",
       "\t 3   & 180\\\\\n",
       "\\end{tabular}\n"
      ],
      "text/markdown": [
       "\n",
       "| id | height |\n",
       "|---|---|\n",
       "| 1   | 160 |\n",
       "| 2   | 170 |\n",
       "| 3   | 180 |\n",
       "\n"
      ],
      "text/plain": [
       "  id height\n",
       "1 1  160   \n",
       "2 2  170   \n",
       "3 3  180   "
      ]
     },
     "metadata": {},
     "output_type": "display_data"
    },
    {
     "data": {
      "text/html": [
       "<table>\n",
       "<thead><tr><th scope=col>id</th><th scope=col>weight</th></tr></thead>\n",
       "<tbody>\n",
       "\t<tr><td>2 </td><td>70</td></tr>\n",
       "\t<tr><td>1 </td><td>60</td></tr>\n",
       "\t<tr><td>3 </td><td>80</td></tr>\n",
       "</tbody>\n",
       "</table>\n"
      ],
      "text/latex": [
       "\\begin{tabular}{r|ll}\n",
       " id & weight\\\\\n",
       "\\hline\n",
       "\t 2  & 70\\\\\n",
       "\t 1  & 60\\\\\n",
       "\t 3  & 80\\\\\n",
       "\\end{tabular}\n"
      ],
      "text/markdown": [
       "\n",
       "| id | weight |\n",
       "|---|---|\n",
       "| 2  | 70 |\n",
       "| 1  | 60 |\n",
       "| 3  | 80 |\n",
       "\n"
      ],
      "text/plain": [
       "  id weight\n",
       "1 2  70    \n",
       "2 1  60    \n",
       "3 3  80    "
      ]
     },
     "metadata": {},
     "output_type": "display_data"
    }
   ],
   "source": [
    "# Case 1 : Key값이 되는 컬럼이 동일하고, data의 갯수도 동일한 경우 (데이터 정제가 잘 되있는 경우)\n",
    "height <- data.frame(id=1:3, height=c(160, 170, 180)) ; height\n",
    "weight <- data.frame(id=c('2','1','3'), weight=c(70,60,80)) ; weight"
   ]
  },
  {
   "cell_type": "code",
   "execution_count": 11,
   "metadata": {
    "vscode": {
     "languageId": "r"
    }
   },
   "outputs": [
    {
     "data": {
      "text/html": [
       "<table>\n",
       "<thead><tr><th scope=col>id</th><th scope=col>height</th><th scope=col>weight</th></tr></thead>\n",
       "<tbody>\n",
       "\t<tr><td>1  </td><td>160</td><td>60 </td></tr>\n",
       "\t<tr><td>2  </td><td>170</td><td>70 </td></tr>\n",
       "\t<tr><td>3  </td><td>180</td><td>80 </td></tr>\n",
       "</tbody>\n",
       "</table>\n"
      ],
      "text/latex": [
       "\\begin{tabular}{r|lll}\n",
       " id & height & weight\\\\\n",
       "\\hline\n",
       "\t 1   & 160 & 60 \\\\\n",
       "\t 2   & 170 & 70 \\\\\n",
       "\t 3   & 180 & 80 \\\\\n",
       "\\end{tabular}\n"
      ],
      "text/markdown": [
       "\n",
       "| id | height | weight |\n",
       "|---|---|---|\n",
       "| 1   | 160 | 60  |\n",
       "| 2   | 170 | 70  |\n",
       "| 3   | 180 | 80  |\n",
       "\n"
      ],
      "text/plain": [
       "  id height weight\n",
       "1 1  160    60    \n",
       "2 2  170    70    \n",
       "3 3  180    80    "
      ]
     },
     "metadata": {},
     "output_type": "display_data"
    }
   ],
   "source": [
    "# 병합\n",
    "merge(height,weight)"
   ]
  },
  {
   "cell_type": "code",
   "execution_count": 13,
   "metadata": {
    "vscode": {
     "languageId": "r"
    }
   },
   "outputs": [
    {
     "data": {
      "text/html": [
       "<table>\n",
       "<thead><tr><th scope=col>id</th><th scope=col>height</th></tr></thead>\n",
       "<tbody>\n",
       "\t<tr><td>1  </td><td>160</td></tr>\n",
       "\t<tr><td>2  </td><td>170</td></tr>\n",
       "\t<tr><td>3  </td><td>180</td></tr>\n",
       "</tbody>\n",
       "</table>\n"
      ],
      "text/latex": [
       "\\begin{tabular}{r|ll}\n",
       " id & height\\\\\n",
       "\\hline\n",
       "\t 1   & 160\\\\\n",
       "\t 2   & 170\\\\\n",
       "\t 3   & 180\\\\\n",
       "\\end{tabular}\n"
      ],
      "text/markdown": [
       "\n",
       "| id | height |\n",
       "|---|---|\n",
       "| 1   | 160 |\n",
       "| 2   | 170 |\n",
       "| 3   | 180 |\n",
       "\n"
      ],
      "text/plain": [
       "  id height\n",
       "1 1  160   \n",
       "2 2  170   \n",
       "3 3  180   "
      ]
     },
     "metadata": {},
     "output_type": "display_data"
    },
    {
     "data": {
      "text/html": [
       "<table>\n",
       "<thead><tr><th scope=col>ad</th><th scope=col>weight</th></tr></thead>\n",
       "<tbody>\n",
       "\t<tr><td>2 </td><td>70</td></tr>\n",
       "\t<tr><td>1 </td><td>60</td></tr>\n",
       "</tbody>\n",
       "</table>\n"
      ],
      "text/latex": [
       "\\begin{tabular}{r|ll}\n",
       " ad & weight\\\\\n",
       "\\hline\n",
       "\t 2  & 70\\\\\n",
       "\t 1  & 60\\\\\n",
       "\\end{tabular}\n"
      ],
      "text/markdown": [
       "\n",
       "| ad | weight |\n",
       "|---|---|\n",
       "| 2  | 70 |\n",
       "| 1  | 60 |\n",
       "\n"
      ],
      "text/plain": [
       "  ad weight\n",
       "1 2  70    \n",
       "2 1  60    "
      ]
     },
     "metadata": {},
     "output_type": "display_data"
    }
   ],
   "source": [
    "# Case 2 : key값이 되는 컬럼이 동일하지 않고 , 각각의 data 갯수도 다를 경우\n",
    "height <- data.frame(id=1:3, height=c(160,170,180)) ; height\n",
    "weight <- data.frame(ad=c(2,1) , weight=c(70,60)) ; weight"
   ]
  },
  {
   "cell_type": "code",
   "execution_count": 14,
   "metadata": {
    "vscode": {
     "languageId": "r"
    }
   },
   "outputs": [
    {
     "data": {
      "text/html": [
       "<table>\n",
       "<thead><tr><th scope=col>id</th><th scope=col>height</th><th scope=col>ad</th><th scope=col>weight</th></tr></thead>\n",
       "<tbody>\n",
       "\t<tr><td>1  </td><td>160</td><td>2  </td><td>70 </td></tr>\n",
       "\t<tr><td>2  </td><td>170</td><td>2  </td><td>70 </td></tr>\n",
       "\t<tr><td>3  </td><td>180</td><td>2  </td><td>70 </td></tr>\n",
       "\t<tr><td>1  </td><td>160</td><td>1  </td><td>60 </td></tr>\n",
       "\t<tr><td>2  </td><td>170</td><td>1  </td><td>60 </td></tr>\n",
       "\t<tr><td>3  </td><td>180</td><td>1  </td><td>60 </td></tr>\n",
       "</tbody>\n",
       "</table>\n"
      ],
      "text/latex": [
       "\\begin{tabular}{r|llll}\n",
       " id & height & ad & weight\\\\\n",
       "\\hline\n",
       "\t 1   & 160 & 2   & 70 \\\\\n",
       "\t 2   & 170 & 2   & 70 \\\\\n",
       "\t 3   & 180 & 2   & 70 \\\\\n",
       "\t 1   & 160 & 1   & 60 \\\\\n",
       "\t 2   & 170 & 1   & 60 \\\\\n",
       "\t 3   & 180 & 1   & 60 \\\\\n",
       "\\end{tabular}\n"
      ],
      "text/markdown": [
       "\n",
       "| id | height | ad | weight |\n",
       "|---|---|---|---|\n",
       "| 1   | 160 | 2   | 70  |\n",
       "| 2   | 170 | 2   | 70  |\n",
       "| 3   | 180 | 2   | 70  |\n",
       "| 1   | 160 | 1   | 60  |\n",
       "| 2   | 170 | 1   | 60  |\n",
       "| 3   | 180 | 1   | 60  |\n",
       "\n"
      ],
      "text/plain": [
       "  id height ad weight\n",
       "1 1  160    2  70    \n",
       "2 2  170    2  70    \n",
       "3 3  180    2  70    \n",
       "4 1  160    1  60    \n",
       "5 2  170    1  60    \n",
       "6 3  180    1  60    "
      ]
     },
     "metadata": {},
     "output_type": "display_data"
    }
   ],
   "source": [
    "# 그냥 병합\n",
    "## 중복되면서 나온다\n",
    "merge(height,weight) "
   ]
  },
  {
   "cell_type": "code",
   "execution_count": 15,
   "metadata": {
    "vscode": {
     "languageId": "r"
    }
   },
   "outputs": [
    {
     "data": {
      "text/html": [
       "<table>\n",
       "<thead><tr><th scope=col>id</th><th scope=col>height</th><th scope=col>weight</th></tr></thead>\n",
       "<tbody>\n",
       "\t<tr><td>1  </td><td>160</td><td>60 </td></tr>\n",
       "\t<tr><td>2  </td><td>170</td><td>70 </td></tr>\n",
       "</tbody>\n",
       "</table>\n"
      ],
      "text/latex": [
       "\\begin{tabular}{r|lll}\n",
       " id & height & weight\\\\\n",
       "\\hline\n",
       "\t 1   & 160 & 60 \\\\\n",
       "\t 2   & 170 & 70 \\\\\n",
       "\\end{tabular}\n"
      ],
      "text/markdown": [
       "\n",
       "| id | height | weight |\n",
       "|---|---|---|\n",
       "| 1   | 160 | 60  |\n",
       "| 2   | 170 | 70  |\n",
       "\n"
      ],
      "text/plain": [
       "  id height weight\n",
       "1 1  160    60    \n",
       "2 2  170    70    "
      ]
     },
     "metadata": {},
     "output_type": "display_data"
    }
   ],
   "source": [
    "# key를 정의하기 : data가 적은 쪽의 기준으로 merge 한다. (교집합)\n",
    "## by. : key 값이라고 알려준다. \n",
    "merge(x=height, y=weight, by.x='id', by.y='ad')"
   ]
  },
  {
   "cell_type": "code",
   "execution_count": 16,
   "metadata": {
    "vscode": {
     "languageId": "r"
    }
   },
   "outputs": [
    {
     "data": {
      "text/html": [
       "<table>\n",
       "<thead><tr><th scope=col>id</th><th scope=col>height</th><th scope=col>weight</th></tr></thead>\n",
       "<tbody>\n",
       "\t<tr><td>1  </td><td>160</td><td>60 </td></tr>\n",
       "\t<tr><td>2  </td><td>170</td><td>70 </td></tr>\n",
       "\t<tr><td>3  </td><td>180</td><td>NA </td></tr>\n",
       "</tbody>\n",
       "</table>\n"
      ],
      "text/latex": [
       "\\begin{tabular}{r|lll}\n",
       " id & height & weight\\\\\n",
       "\\hline\n",
       "\t 1   & 160 & 60 \\\\\n",
       "\t 2   & 170 & 70 \\\\\n",
       "\t 3   & 180 & NA \\\\\n",
       "\\end{tabular}\n"
      ],
      "text/markdown": [
       "\n",
       "| id | height | weight |\n",
       "|---|---|---|\n",
       "| 1   | 160 | 60  |\n",
       "| 2   | 170 | 70  |\n",
       "| 3   | 180 | NA  |\n",
       "\n"
      ],
      "text/plain": [
       "  id height weight\n",
       "1 1  160    60    \n",
       "2 2  170    70    \n",
       "3 3  180    NA    "
      ]
     },
     "metadata": {},
     "output_type": "display_data"
    }
   ],
   "source": [
    "# data가 많은 쪽의 기준으로 merge (합집합) ## 보통 이걸로 사용\n",
    "# 옵션 추가  all.x = T : x는 모두 보여준다 true\n",
    "merge(x=height, y=weight, by.x='id', by.y='ad', all.x = T)"
   ]
  },
  {
   "cell_type": "markdown",
   "metadata": {},
   "source": [
    "### 행렬 함수로 행렬 만들기"
   ]
  },
  {
   "cell_type": "code",
   "execution_count": 17,
   "metadata": {
    "vscode": {
     "languageId": "r"
    }
   },
   "outputs": [
    {
     "data": {
      "text/html": [
       "<table>\n",
       "<tbody>\n",
       "\t<tr><td> 1</td></tr>\n",
       "\t<tr><td> 2</td></tr>\n",
       "\t<tr><td> 3</td></tr>\n",
       "\t<tr><td> 4</td></tr>\n",
       "\t<tr><td> 5</td></tr>\n",
       "\t<tr><td> 6</td></tr>\n",
       "\t<tr><td> 7</td></tr>\n",
       "\t<tr><td> 8</td></tr>\n",
       "\t<tr><td> 9</td></tr>\n",
       "\t<tr><td>10</td></tr>\n",
       "</tbody>\n",
       "</table>\n"
      ],
      "text/latex": [
       "\\begin{tabular}{l}\n",
       "\t  1\\\\\n",
       "\t  2\\\\\n",
       "\t  3\\\\\n",
       "\t  4\\\\\n",
       "\t  5\\\\\n",
       "\t  6\\\\\n",
       "\t  7\\\\\n",
       "\t  8\\\\\n",
       "\t  9\\\\\n",
       "\t 10\\\\\n",
       "\\end{tabular}\n"
      ],
      "text/markdown": [
       "\n",
       "|  1 |\n",
       "|  2 |\n",
       "|  3 |\n",
       "|  4 |\n",
       "|  5 |\n",
       "|  6 |\n",
       "|  7 |\n",
       "|  8 |\n",
       "|  9 |\n",
       "| 10 |\n",
       "\n"
      ],
      "text/plain": [
       "      [,1]\n",
       " [1,]  1  \n",
       " [2,]  2  \n",
       " [3,]  3  \n",
       " [4,]  4  \n",
       " [5,]  5  \n",
       " [6,]  6  \n",
       " [7,]  7  \n",
       " [8,]  8  \n",
       " [9,]  9  \n",
       "[10,] 10  "
      ]
     },
     "metadata": {},
     "output_type": "display_data"
    }
   ],
   "source": [
    "matrix(1:10)"
   ]
  },
  {
   "cell_type": "code",
   "execution_count": 18,
   "metadata": {
    "vscode": {
     "languageId": "r"
    }
   },
   "outputs": [
    {
     "data": {
      "text/html": [
       "<table>\n",
       "<tbody>\n",
       "\t<tr><td>1 </td><td>3 </td><td>5 </td><td>7 </td><td> 9</td></tr>\n",
       "\t<tr><td>2 </td><td>4 </td><td>6 </td><td>8 </td><td>10</td></tr>\n",
       "</tbody>\n",
       "</table>\n"
      ],
      "text/latex": [
       "\\begin{tabular}{lllll}\n",
       "\t 1  & 3  & 5  & 7  &  9\\\\\n",
       "\t 2  & 4  & 6  & 8  & 10\\\\\n",
       "\\end{tabular}\n"
      ],
      "text/markdown": [
       "\n",
       "| 1  | 3  | 5  | 7  |  9 |\n",
       "| 2  | 4  | 6  | 8  | 10 |\n",
       "\n"
      ],
      "text/plain": [
       "     [,1] [,2] [,3] [,4] [,5]\n",
       "[1,] 1    3    5    7     9  \n",
       "[2,] 2    4    6    8    10  "
      ]
     },
     "metadata": {},
     "output_type": "display_data"
    }
   ],
   "source": [
    "matrix(1:10, nrow=2)"
   ]
  },
  {
   "cell_type": "code",
   "execution_count": 21,
   "metadata": {
    "vscode": {
     "languageId": "r"
    }
   },
   "outputs": [
    {
     "name": "stderr",
     "output_type": "stream",
     "text": [
      "Warning message in matrix(1:10, nrow = 3, ncol = 3):\n",
      "“데이터의 길이[10]가 행의 개수[3]의 배수가 되지 않습니다”"
     ]
    },
    {
     "data": {
      "text/html": [
       "<table>\n",
       "<tbody>\n",
       "\t<tr><td>1</td><td>4</td><td>7</td></tr>\n",
       "\t<tr><td>2</td><td>5</td><td>8</td></tr>\n",
       "\t<tr><td>3</td><td>6</td><td>9</td></tr>\n",
       "</tbody>\n",
       "</table>\n"
      ],
      "text/latex": [
       "\\begin{tabular}{lll}\n",
       "\t 1 & 4 & 7\\\\\n",
       "\t 2 & 5 & 8\\\\\n",
       "\t 3 & 6 & 9\\\\\n",
       "\\end{tabular}\n"
      ],
      "text/markdown": [
       "\n",
       "| 1 | 4 | 7 |\n",
       "| 2 | 5 | 8 |\n",
       "| 3 | 6 | 9 |\n",
       "\n"
      ],
      "text/plain": [
       "     [,1] [,2] [,3]\n",
       "[1,] 1    4    7   \n",
       "[2,] 2    5    8   \n",
       "[3,] 3    6    9   "
      ]
     },
     "metadata": {},
     "output_type": "display_data"
    },
    {
     "name": "stderr",
     "output_type": "stream",
     "text": [
      "Warning message in matrix(1:10, ncol = 3):\n",
      "“데이터의 길이[10]가 행의 개수[4]의 배수가 되지 않습니다”"
     ]
    },
    {
     "data": {
      "text/html": [
       "<table>\n",
       "<tbody>\n",
       "\t<tr><td>1 </td><td>5 </td><td> 9</td></tr>\n",
       "\t<tr><td>2 </td><td>6 </td><td>10</td></tr>\n",
       "\t<tr><td>3 </td><td>7 </td><td> 1</td></tr>\n",
       "\t<tr><td>4 </td><td>8 </td><td> 2</td></tr>\n",
       "</tbody>\n",
       "</table>\n"
      ],
      "text/latex": [
       "\\begin{tabular}{lll}\n",
       "\t 1  & 5  &  9\\\\\n",
       "\t 2  & 6  & 10\\\\\n",
       "\t 3  & 7  &  1\\\\\n",
       "\t 4  & 8  &  2\\\\\n",
       "\\end{tabular}\n"
      ],
      "text/markdown": [
       "\n",
       "| 1  | 5  |  9 |\n",
       "| 2  | 6  | 10 |\n",
       "| 3  | 7  |  1 |\n",
       "| 4  | 8  |  2 |\n",
       "\n"
      ],
      "text/plain": [
       "     [,1] [,2] [,3]\n",
       "[1,] 1    5     9  \n",
       "[2,] 2    6    10  \n",
       "[3,] 3    7     1  \n",
       "[4,] 4    8     2  "
      ]
     },
     "metadata": {},
     "output_type": "display_data"
    },
    {
     "name": "stderr",
     "output_type": "stream",
     "text": [
      "Warning message in matrix(1:10, nrow = 3):\n",
      "“데이터의 길이[10]가 행의 개수[3]의 배수가 되지 않습니다”"
     ]
    },
    {
     "data": {
      "text/html": [
       "<table>\n",
       "<tbody>\n",
       "\t<tr><td>1 </td><td>4 </td><td>7 </td><td>10</td></tr>\n",
       "\t<tr><td>2 </td><td>5 </td><td>8 </td><td> 1</td></tr>\n",
       "\t<tr><td>3 </td><td>6 </td><td>9 </td><td> 2</td></tr>\n",
       "</tbody>\n",
       "</table>\n"
      ],
      "text/latex": [
       "\\begin{tabular}{llll}\n",
       "\t 1  & 4  & 7  & 10\\\\\n",
       "\t 2  & 5  & 8  &  1\\\\\n",
       "\t 3  & 6  & 9  &  2\\\\\n",
       "\\end{tabular}\n"
      ],
      "text/markdown": [
       "\n",
       "| 1  | 4  | 7  | 10 |\n",
       "| 2  | 5  | 8  |  1 |\n",
       "| 3  | 6  | 9  |  2 |\n",
       "\n"
      ],
      "text/plain": [
       "     [,1] [,2] [,3] [,4]\n",
       "[1,] 1    4    7    10  \n",
       "[2,] 2    5    8     1  \n",
       "[3,] 3    6    9     2  "
      ]
     },
     "metadata": {},
     "output_type": "display_data"
    }
   ],
   "source": [
    "matrix(1:10, nrow=3, ncol=3)\n",
    "matrix(1:10, ncol=3)\n",
    "matrix(1:10, nrow=3) \n",
    "# 벡터는 빈 값 두지 않음, 반복해서 채운다"
   ]
  },
  {
   "cell_type": "markdown",
   "metadata": {},
   "source": [
    "### List\n",
    "- Type이 다른 자료구조로 생성이 가능하다\n",
    "- key와 value 값으로 구성된다 \n",
    "- java의 딕셔너리 ?"
   ]
  },
  {
   "cell_type": "code",
   "execution_count": 26,
   "metadata": {
    "vscode": {
     "languageId": "r"
    }
   },
   "outputs": [
    {
     "data": {
      "text/html": [
       "<dl>\n",
       "\t<dt>$name</dt>\n",
       "\t\t<dd>'홍길동'</dd>\n",
       "\t<dt>$address</dt>\n",
       "\t\t<dd>'서울'</dd>\n",
       "\t<dt>$Tel</dt>\n",
       "\t\t<dd>'010-1111-2222'</dd>\n",
       "\t<dt>$pay</dt>\n",
       "\t\t<dd>300</dd>\n",
       "</dl>\n"
      ],
      "text/latex": [
       "\\begin{description}\n",
       "\\item[\\$name] '홍길동'\n",
       "\\item[\\$address] '서울'\n",
       "\\item[\\$Tel] '010-1111-2222'\n",
       "\\item[\\$pay] 300\n",
       "\\end{description}\n"
      ],
      "text/markdown": [
       "$name\n",
       ":   '홍길동'\n",
       "$address\n",
       ":   '서울'\n",
       "$Tel\n",
       ":   '010-1111-2222'\n",
       "$pay\n",
       ":   300\n",
       "\n",
       "\n"
      ],
      "text/plain": [
       "$name\n",
       "[1] \"홍길동\"\n",
       "\n",
       "$address\n",
       "[1] \"서울\"\n",
       "\n",
       "$Tel\n",
       "[1] \"010-1111-2222\"\n",
       "\n",
       "$pay\n",
       "[1] 300\n"
      ]
     },
     "metadata": {},
     "output_type": "display_data"
    },
    {
     "data": {
      "text/html": [
       "'홍길동'"
      ],
      "text/latex": [
       "'홍길동'"
      ],
      "text/markdown": [
       "'홍길동'"
      ],
      "text/plain": [
       "[1] \"홍길동\""
      ]
     },
     "metadata": {},
     "output_type": "display_data"
    }
   ],
   "source": [
    "member <- list(name='홍길동', address='서울', Tel='010-1111-2222' ,pay=300)\n",
    "member\n",
    "member$name"
   ]
  },
  {
   "cell_type": "code",
   "execution_count": 27,
   "metadata": {
    "vscode": {
     "languageId": "r"
    }
   },
   "outputs": [
    {
     "data": {
      "text/html": [
       "<dl>\n",
       "\t<dt>$name</dt>\n",
       "\t\t<dd>'홍길동'</dd>\n",
       "\t<dt>$address</dt>\n",
       "\t\t<dd>'서울'</dd>\n",
       "\t<dt>$Tel</dt>\n",
       "\t\t<dd>'010-1111-2222'</dd>\n",
       "\t<dt>$pay</dt>\n",
       "\t\t<dd>300</dd>\n",
       "\t<dt>$birth</dt>\n",
       "\t\t<dd>'1998-08-08'</dd>\n",
       "</dl>\n"
      ],
      "text/latex": [
       "\\begin{description}\n",
       "\\item[\\$name] '홍길동'\n",
       "\\item[\\$address] '서울'\n",
       "\\item[\\$Tel] '010-1111-2222'\n",
       "\\item[\\$pay] 300\n",
       "\\item[\\$birth] '1998-08-08'\n",
       "\\end{description}\n"
      ],
      "text/markdown": [
       "$name\n",
       ":   '홍길동'\n",
       "$address\n",
       ":   '서울'\n",
       "$Tel\n",
       ":   '010-1111-2222'\n",
       "$pay\n",
       ":   300\n",
       "$birth\n",
       ":   '1998-08-08'\n",
       "\n",
       "\n"
      ],
      "text/plain": [
       "$name\n",
       "[1] \"홍길동\"\n",
       "\n",
       "$address\n",
       "[1] \"서울\"\n",
       "\n",
       "$Tel\n",
       "[1] \"010-1111-2222\"\n",
       "\n",
       "$pay\n",
       "[1] 300\n",
       "\n",
       "$birth\n",
       "[1] \"1998-08-08\"\n"
      ]
     },
     "metadata": {},
     "output_type": "display_data"
    }
   ],
   "source": [
    "# 컬럼 추가\n",
    "member$birth <- '1998-08-08'\n",
    "member"
   ]
  },
  {
   "cell_type": "markdown",
   "metadata": {},
   "source": [
    "---\n",
    "# 문자열 처리\n",
    "수집한 데이터의 필요한 문자열을 자르고, 교체하고, 추출하는 작업 : 데이터 정제\n",
    "\n",
    "패키지 이용 ( 자바의 import ) , 한 PC에 한번만 설치하면 된다. 사용하려면 불러오기는 해야함\n",
    "### stringr package 사용\n",
    "- str_length() : 문자열 길이\n",
    "- str_c() : 문자열 연결\n",
    "- str_sub() : 범위에 해당하는 문자열 생성\n",
    "- str_split() : 구분자를  기준으로 문자열을 분리하여 부분 생성\n",
    "- str_replace() : 문자열에서 기존 문자열을 특정 문자열로 변환 / str_replace_all() # 천단위 쉼표가 있는 데이터 '123,456' 1) replace(_all)으로 , 를 공백으로 바꾼다 2) as.numeric으로 문자열데이터를 숫자로 바꾼다 \n",
    "- str_extract() : 문자열에서 특정 문자열 패턴의 첫번째 문자열 추출 / str_extract_all()\n",
    "- str_locate() : 문자열에서 특정 문자열 패턴의 첫번째 위치 추출 / str_locate_all()"
   ]
  },
  {
   "cell_type": "code",
   "execution_count": 29,
   "metadata": {
    "vscode": {
     "languageId": "r"
    }
   },
   "outputs": [],
   "source": [
    "# 패키지 불러오기\n",
    "library(stringr)"
   ]
  },
  {
   "cell_type": "code",
   "execution_count": 30,
   "metadata": {
    "vscode": {
     "languageId": "r"
    }
   },
   "outputs": [],
   "source": [
    "string <- 'hongkildong105yoube1002kwanwoo25장비2005'"
   ]
  },
  {
   "cell_type": "code",
   "execution_count": 41,
   "metadata": {
    "vscode": {
     "languageId": "r"
    }
   },
   "outputs": [
    {
     "name": "stdout",
     "output_type": "stream",
     "text": [
      "[[1]]\n",
      "[1] \"hon\" \"gki\" \"ldo\" \"you\" \"kwa\" \"nwo\"\n",
      "\n"
     ]
    }
   ],
   "source": [
    "# a-z 까지의 영문자가 연속으로 3개 발견된 문자열 추출 ## 정규식 사용\n",
    "print(str_extract_all(string, \"[a-z]{3}\"))\n"
   ]
  },
  {
   "cell_type": "code",
   "execution_count": 43,
   "metadata": {
    "vscode": {
     "languageId": "r"
    }
   },
   "outputs": [
    {
     "data": {
      "text/html": [
       "<ol>\n",
       "\t<li><ol class=list-inline>\n",
       "\t<li>'hongk'</li>\n",
       "\t<li>'ildon'</li>\n",
       "\t<li>'yoube'</li>\n",
       "\t<li>'kwanw'</li>\n",
       "</ol>\n",
       "</li>\n",
       "</ol>\n"
      ],
      "text/latex": [
       "\\begin{enumerate}\n",
       "\\item \\begin{enumerate*}\n",
       "\\item 'hongk'\n",
       "\\item 'ildon'\n",
       "\\item 'yoube'\n",
       "\\item 'kwanw'\n",
       "\\end{enumerate*}\n",
       "\n",
       "\\end{enumerate}\n"
      ],
      "text/markdown": [
       "1. 1. 'hongk'\n",
       "2. 'ildon'\n",
       "3. 'yoube'\n",
       "4. 'kwanw'\n",
       "\n",
       "\n",
       "\n",
       "\n",
       "\n"
      ],
      "text/plain": [
       "[[1]]\n",
       "[1] \"hongk\" \"ildon\" \"yoube\" \"kwanw\"\n"
      ]
     },
     "metadata": {},
     "output_type": "display_data"
    }
   ],
   "source": [
    "# a-z 까지의 영문자가 연속으로 3-5개 발견된 문자열 추출 \n",
    "str_extract_all(string, \"[a-z]{3,5}\")"
   ]
  },
  {
   "cell_type": "code",
   "execution_count": 51,
   "metadata": {
    "vscode": {
     "languageId": "r"
    }
   },
   "outputs": [
    {
     "data": {
      "text/html": [
       "'list'"
      ],
      "text/latex": [
       "'list'"
      ],
      "text/markdown": [
       "'list'"
      ],
      "text/plain": [
       "[1] \"list\""
      ]
     },
     "metadata": {},
     "output_type": "display_data"
    },
    {
     "data": {
      "text/html": [
       "'character'"
      ],
      "text/latex": [
       "'character'"
      ],
      "text/markdown": [
       "'character'"
      ],
      "text/plain": [
       "[1] \"character\""
      ]
     },
     "metadata": {},
     "output_type": "display_data"
    },
    {
     "data": {
      "text/html": [
       "'hongkildong'"
      ],
      "text/latex": [
       "'hongkildong'"
      ],
      "text/markdown": [
       "'hongkildong'"
      ],
      "text/plain": [
       "[1] \"hongkildong\""
      ]
     },
     "metadata": {},
     "output_type": "display_data"
    }
   ],
   "source": [
    "# a-z 까지의 영문자가 연속으로 1개이상 발견된 문자열 추출 \n",
    "aaa <- str_extract_all(string, \"[a-z]{1,}\")\n",
    "\n",
    "class(aaa) # list\n",
    "bbb <- unlist(aaa) # list형식 해제\n",
    "class(bbb)\n",
    "bbb[1]"
   ]
  },
  {
   "cell_type": "code",
   "execution_count": 60,
   "metadata": {
    "vscode": {
     "languageId": "r"
    }
   },
   "outputs": [
    {
     "data": {
      "text/html": [
       "<ol>\n",
       "\t<li><ol class=list-inline>\n",
       "\t<li>'105'</li>\n",
       "\t<li>'1002'</li>\n",
       "\t<li>'25'</li>\n",
       "\t<li>'2005'</li>\n",
       "</ol>\n",
       "</li>\n",
       "</ol>\n"
      ],
      "text/latex": [
       "\\begin{enumerate}\n",
       "\\item \\begin{enumerate*}\n",
       "\\item '105'\n",
       "\\item '1002'\n",
       "\\item '25'\n",
       "\\item '2005'\n",
       "\\end{enumerate*}\n",
       "\n",
       "\\end{enumerate}\n"
      ],
      "text/markdown": [
       "1. 1. '105'\n",
       "2. '1002'\n",
       "3. '25'\n",
       "4. '2005'\n",
       "\n",
       "\n",
       "\n",
       "\n",
       "\n"
      ],
      "text/plain": [
       "[[1]]\n",
       "[1] \"105\"  \"1002\" \"25\"   \"2005\"\n"
      ]
     },
     "metadata": {},
     "output_type": "display_data"
    },
    {
     "data": {
      "text/html": [
       "3137"
      ],
      "text/latex": [
       "3137"
      ],
      "text/markdown": [
       "3137"
      ],
      "text/plain": [
       "[1] 3137"
      ]
     },
     "metadata": {},
     "output_type": "display_data"
    }
   ],
   "source": [
    "# string에서 숫자만 출력하여 합계 구하기\n",
    "str_extract_all(string, \"[0-9]{1,}\")\n",
    "sum(as.numeric(unlist(str_extract_all(string, \"[0-9]{1,}\"))))"
   ]
  },
  {
   "cell_type": "code",
   "execution_count": 62,
   "metadata": {
    "vscode": {
     "languageId": "r"
    }
   },
   "outputs": [
    {
     "data": {
      "text/html": [
       "<ol>\n",
       "\t<li>'장비'</li>\n",
       "</ol>\n"
      ],
      "text/latex": [
       "\\begin{enumerate}\n",
       "\\item '장비'\n",
       "\\end{enumerate}\n"
      ],
      "text/markdown": [
       "1. '장비'\n",
       "\n",
       "\n"
      ],
      "text/plain": [
       "[[1]]\n",
       "[1] \"장비\"\n"
      ]
     },
     "metadata": {},
     "output_type": "display_data"
    }
   ],
   "source": [
    "# 한글만 추출하기\n",
    "str_extract_all(string, \"[가-힣]{1,}\")"
   ]
  },
  {
   "cell_type": "code",
   "execution_count": 65,
   "metadata": {
    "vscode": {
     "languageId": "r"
    }
   },
   "outputs": [
    {
     "data": {
      "text/html": [
       "<ol>\n",
       "\t<li><ol class=list-inline>\n",
       "\t<li>'105'</li>\n",
       "\t<li>'1002'</li>\n",
       "\t<li>'25장비2005'</li>\n",
       "</ol>\n",
       "</li>\n",
       "</ol>\n"
      ],
      "text/latex": [
       "\\begin{enumerate}\n",
       "\\item \\begin{enumerate*}\n",
       "\\item '105'\n",
       "\\item '1002'\n",
       "\\item '25장비2005'\n",
       "\\end{enumerate*}\n",
       "\n",
       "\\end{enumerate}\n"
      ],
      "text/markdown": [
       "1. 1. '105'\n",
       "2. '1002'\n",
       "3. '25장비2005'\n",
       "\n",
       "\n",
       "\n",
       "\n",
       "\n"
      ],
      "text/plain": [
       "[[1]]\n",
       "[1] \"105\"        \"1002\"       \"25장비2005\"\n"
      ]
     },
     "metadata": {},
     "output_type": "display_data"
    }
   ],
   "source": [
    "# 영문자를 제외한 문자 출력하기\n",
    "str_extract_all(string, \"[^a-z]{1,}\")"
   ]
  },
  {
   "cell_type": "code",
   "execution_count": 66,
   "metadata": {
    "vscode": {
     "languageId": "r"
    }
   },
   "outputs": [
    {
     "data": {
      "text/html": [
       "38"
      ],
      "text/latex": [
       "38"
      ],
      "text/markdown": [
       "38"
      ],
      "text/plain": [
       "[1] 38"
      ]
     },
     "metadata": {},
     "output_type": "display_data"
    }
   ],
   "source": [
    "# 문자열 길이 구하기\n",
    "str_length(string)"
   ]
  },
  {
   "cell_type": "code",
   "execution_count": 67,
   "metadata": {
    "vscode": {
     "languageId": "r"
    }
   },
   "outputs": [
    {
     "data": {
      "text/html": [
       "<table>\n",
       "<thead><tr><th scope=col>start</th><th scope=col>end</th></tr></thead>\n",
       "<tbody>\n",
       "\t<tr><td>33</td><td>34</td></tr>\n",
       "</tbody>\n",
       "</table>\n"
      ],
      "text/latex": [
       "\\begin{tabular}{ll}\n",
       " start & end\\\\\n",
       "\\hline\n",
       "\t 33 & 34\\\\\n",
       "\\end{tabular}\n"
      ],
      "text/markdown": [
       "\n",
       "| start | end |\n",
       "|---|---|\n",
       "| 33 | 34 |\n",
       "\n"
      ],
      "text/plain": [
       "     start end\n",
       "[1,] 33    34 "
      ]
     },
     "metadata": {},
     "output_type": "display_data"
    }
   ],
   "source": [
    "# 문자열 위치 구하기\n",
    "str_locate(string, \"장비\")"
   ]
  },
  {
   "cell_type": "code",
   "execution_count": 73,
   "metadata": {
    "vscode": {
     "languageId": "r"
    }
   },
   "outputs": [
    {
     "data": {
      "text/html": [
       "'hongkildong105yoube1002kwanwoo25'"
      ],
      "text/latex": [
       "'hongkildong105yoube1002kwanwoo25'"
      ],
      "text/markdown": [
       "'hongkildong105yoube1002kwanwoo25'"
      ],
      "text/plain": [
       "[1] \"hongkildong105yoube1002kwanwoo25\""
      ]
     },
     "metadata": {},
     "output_type": "display_data"
    },
    {
     "data": {
      "text/html": [
       "33"
      ],
      "text/latex": [
       "33"
      ],
      "text/markdown": [
       "33"
      ],
      "text/plain": [
       "[1] 33"
      ]
     },
     "metadata": {},
     "output_type": "display_data"
    },
    {
     "data": {
      "text/html": [
       "'hongkildong105yoube1002kwanwoo25'"
      ],
      "text/latex": [
       "'hongkildong105yoube1002kwanwoo25'"
      ],
      "text/markdown": [
       "'hongkildong105yoube1002kwanwoo25'"
      ],
      "text/plain": [
       "[1] \"hongkildong105yoube1002kwanwoo25\""
      ]
     },
     "metadata": {},
     "output_type": "display_data"
    }
   ],
   "source": [
    "# 부분 문자열 추출\n",
    "str_sub(string, 1, 32)\n",
    "str_locate(string, '장비')[1]\n",
    "\n",
    "# '장비'의 위치가 유동적일때\n",
    "str_sub(string, 1, str_locate(string, '장비')[1] - 1)"
   ]
  },
  {
   "cell_type": "code",
   "execution_count": 75,
   "metadata": {
    "vscode": {
     "languageId": "r"
    }
   },
   "outputs": [
    {
     "data": {
      "text/html": [
       "'HONGKILDONG105YOUBE1002KWANWOO25장비2005'"
      ],
      "text/latex": [
       "'HONGKILDONG105YOUBE1002KWANWOO25장비2005'"
      ],
      "text/markdown": [
       "'HONGKILDONG105YOUBE1002KWANWOO25장비2005'"
      ],
      "text/plain": [
       "[1] \"HONGKILDONG105YOUBE1002KWANWOO25장비2005\""
      ]
     },
     "metadata": {},
     "output_type": "display_data"
    },
    {
     "data": {
      "text/html": [
       "'hongkildong105yoube1002kwanwoo25장비2005'"
      ],
      "text/latex": [
       "'hongkildong105yoube1002kwanwoo25장비2005'"
      ],
      "text/markdown": [
       "'hongkildong105yoube1002kwanwoo25장비2005'"
      ],
      "text/plain": [
       "[1] \"hongkildong105yoube1002kwanwoo25장비2005\""
      ]
     },
     "metadata": {},
     "output_type": "display_data"
    }
   ],
   "source": [
    "# 대문자, 소문자 변경하기\n",
    "str_to_upper(string)\n",
    "str_to_lower(string)\n"
   ]
  },
  {
   "cell_type": "code",
   "execution_count": 84,
   "metadata": {
    "vscode": {
     "languageId": "r"
    }
   },
   "outputs": [
    {
     "data": {
      "text/html": [
       "'홍길동35,유비45,관우25,장비20'"
      ],
      "text/latex": [
       "'홍길동35,유비45,관우25,장비20'"
      ],
      "text/markdown": [
       "'홍길동35,유비45,관우25,장비20'"
      ],
      "text/plain": [
       "[1] \"홍길동35,유비45,관우25,장비20\""
      ]
     },
     "metadata": {},
     "output_type": "display_data"
    }
   ],
   "source": [
    "# 문자열 교체하기\n",
    "string <- str_replace(string, 'hongkildong105', '홍길동35,')\n",
    "string <- str_replace(string, 'yoube1002' , '유비45,')\n",
    "string <- str_replace(string, 'kwanwoo25' , '관우25,')\n",
    "string <- str_replace(string, '2005' , '20')\n",
    "string"
   ]
  },
  {
   "cell_type": "code",
   "execution_count": 85,
   "metadata": {
    "vscode": {
     "languageId": "r"
    }
   },
   "outputs": [
    {
     "data": {
      "text/html": [
       "<ol>\n",
       "\t<li><ol class=list-inline>\n",
       "\t<li>'홍길동35'</li>\n",
       "\t<li>'유비45'</li>\n",
       "\t<li>'관우25'</li>\n",
       "\t<li>'장비20'</li>\n",
       "</ol>\n",
       "</li>\n",
       "</ol>\n"
      ],
      "text/latex": [
       "\\begin{enumerate}\n",
       "\\item \\begin{enumerate*}\n",
       "\\item '홍길동35'\n",
       "\\item '유비45'\n",
       "\\item '관우25'\n",
       "\\item '장비20'\n",
       "\\end{enumerate*}\n",
       "\n",
       "\\end{enumerate}\n"
      ],
      "text/markdown": [
       "1. 1. '홍길동35'\n",
       "2. '유비45'\n",
       "3. '관우25'\n",
       "4. '장비20'\n",
       "\n",
       "\n",
       "\n",
       "\n",
       "\n"
      ],
      "text/plain": [
       "[[1]]\n",
       "[1] \"홍길동35\" \"유비45\"   \"관우25\"   \"장비20\"  \n"
      ]
     },
     "metadata": {},
     "output_type": "display_data"
    }
   ],
   "source": [
    "# 문자열 분리하기\n",
    "str_split(string, ',')"
   ]
  },
  {
   "cell_type": "code",
   "execution_count": 89,
   "metadata": {
    "vscode": {
     "languageId": "r"
    }
   },
   "outputs": [
    {
     "data": {
      "text/html": [
       "'numeric'"
      ],
      "text/latex": [
       "'numeric'"
      ],
      "text/markdown": [
       "'numeric'"
      ],
      "text/plain": [
       "[1] \"numeric\""
      ]
     },
     "metadata": {},
     "output_type": "display_data"
    }
   ],
   "source": [
    "# 천단위 쉼표가 들어간 문자열을 숫자열로 변경하기\n",
    "price <- '123,456,789'\n",
    "\n",
    "p <- as.numeric(str_replace_all(price, ',', ''))\n",
    "class(p)"
   ]
  },
  {
   "cell_type": "code",
   "execution_count": null,
   "metadata": {
    "vscode": {
     "languageId": "r"
    }
   },
   "outputs": [],
   "source": []
  }
 ],
 "metadata": {
  "kernelspec": {
   "display_name": "R",
   "language": "R",
   "name": "ir"
  },
  "language_info": {
   "codemirror_mode": "r",
   "file_extension": ".r",
   "mimetype": "text/x-r-source",
   "name": "R",
   "pygments_lexer": "r",
   "version": "3.6.1"
  }
 },
 "nbformat": 4,
 "nbformat_minor": 2
}
