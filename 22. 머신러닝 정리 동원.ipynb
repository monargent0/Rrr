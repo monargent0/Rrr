{
 "cells": [
  {
   "cell_type": "markdown",
   "metadata": {},
   "source": [
    "# 인공신경망\n",
    "# 의사결정나무\n",
    "# Random Forest\n",
    "# SVM\n",
    "# 다항 로지스틱 회귀분석"
   ]
  },
  {
   "cell_type": "code",
   "execution_count": 15,
   "metadata": {
    "vscode": {
     "languageId": "r"
    }
   },
   "outputs": [],
   "source": [
    "options(warn = -1)\n",
    "library(caret)\n",
    "library(nnet)\n",
    "library(e1071)\n",
    "library(randomForest)\n",
    "library(party)"
   ]
  },
  {
   "cell_type": "code",
   "execution_count": 65,
   "metadata": {
    "vscode": {
     "languageId": "r"
    }
   },
   "outputs": [],
   "source": [
    "인공신경망 <- function(irr){\n",
    "\n",
    "  ir <- irr  \n",
    "\n",
    "  samp <- createDataPartition(ir$Species, p=0.7, list=F)\n",
    "  data.tr <- iris[samp,]\n",
    "  data.test <- iris[-samp,]\n",
    "\n",
    "  x <- subset(data.test, select = -Species)\n",
    "  y = data.test$Species\n",
    "\n",
    "  model <- nnet(Species ~ . , data = data.tr, size=3 )\n",
    "\n",
    "  rtn = 0\n",
    "\n",
    "  for(i in 1:5){\n",
    "    pred <- predict(model, x, type = \"class\")\n",
    "    rtn <- rtn + mean(pred == y)\n",
    "  }\n",
    "\n",
    "  rtn <- round(rtn / 5,8)\n",
    "  \n",
    "  return(rtn)\n",
    "}"
   ]
  },
  {
   "cell_type": "code",
   "execution_count": 64,
   "metadata": {
    "vscode": {
     "languageId": "r"
    }
   },
   "outputs": [],
   "source": [
    "의사결정나무 <- function(irr){\n",
    "\n",
    "  ir <- irr  \n",
    "\n",
    "  samp <- createDataPartition(ir$Species, p=0.7, list=F)\n",
    "  data.tr <- iris[samp,]\n",
    "  data.test <- iris[-samp,]\n",
    "\n",
    "  x <- subset(data.test, select = -Species)\n",
    "  y = data.test$Species\n",
    "\n",
    "  model <- ctree(Species ~ . , data = data.tr)\n",
    "\n",
    "  rtn = 0\n",
    "\n",
    "  for(i in 1:5){\n",
    "    pred <- predict(model, x)\n",
    "    rtn <- rtn + mean(pred == y)\n",
    "  }\n",
    "\n",
    "  rtn <- round(rtn / 5,8)\n",
    "\n",
    "  return(rtn)\n",
    "}"
   ]
  },
  {
   "cell_type": "code",
   "execution_count": 68,
   "metadata": {
    "vscode": {
     "languageId": "r"
    }
   },
   "outputs": [],
   "source": [
    "RF <- function(irr){\n",
    "\n",
    "  ir <- irr  \n",
    "\n",
    "  samp <- createDataPartition(ir$Species, p=0.7, list=F)\n",
    "  data.tr <- iris[samp,]\n",
    "  data.test <- iris[-samp,]\n",
    "\n",
    "  x <- subset(data.test, select = -Species)\n",
    "  y = data.test$Species\n",
    "\n",
    "  model <- randomForest(Species ~ . , data = data.tr, ntree = 100)\n",
    "\n",
    "  rtn = 0\n",
    "\n",
    "  for(i in 1:5){\n",
    "    pred <- predict(model, x)\n",
    "    rtn <- rtn + mean(pred == y)\n",
    "  }\n",
    "\n",
    "  rtn <- round(rtn / 5,8)\n",
    "  \n",
    "  return(rtn)\n",
    "}"
   ]
  },
  {
   "cell_type": "code",
   "execution_count": 79,
   "metadata": {
    "vscode": {
     "languageId": "r"
    }
   },
   "outputs": [],
   "source": [
    "SVM <- function(irr){\n",
    "\n",
    "  ir <- irr  \n",
    "\n",
    "  ir <- data.frame(scale(irr[,-5]))\n",
    "  ir$Species <- irr$Species\n",
    "\n",
    "  samp <- createDataPartition(ir$Species, p=0.7, list=F)\n",
    "  data.tr <- iris[samp,]\n",
    "  data.test <- iris[-samp,]\n",
    "\n",
    "  x <- subset(data.test, select = -Species)\n",
    "  y = data.test$Species\n",
    "\n",
    "  model <- svm(Species ~ . , data=data.tr)\n",
    "\n",
    "  rtn = 0\n",
    "\n",
    "  for(i in 1:5){\n",
    "    pred <- predict(model, x)\n",
    "    rtn <- rtn + mean(pred == y)\n",
    "  }\n",
    "\n",
    "  rtn <- round(rtn / 5,8)\n",
    "\n",
    "  return(rtn)\n",
    "}"
   ]
  },
  {
   "cell_type": "code",
   "execution_count": 80,
   "metadata": {
    "vscode": {
     "languageId": "r"
    }
   },
   "outputs": [],
   "source": [
    "다항로지스틱 <- function(irr){\n",
    "\n",
    "  ir <- irr  \n",
    "\n",
    "  ir <- data.frame(scale(irr[,-5]))\n",
    "  ir$Species <- irr$Species\n",
    "\n",
    "  samp <- createDataPartition(ir$Species, p=0.7, list=F)\n",
    "  data.tr <- iris[samp,]\n",
    "  data.test <- iris[-samp,]\n",
    "\n",
    "  x <- subset(data.test, select = -Species)\n",
    "  y = data.test$Species\n",
    "\n",
    "  model <- multinom(Species ~ . , data=data.tr)\n",
    "\n",
    "\n",
    "  rtn = 0\n",
    "\n",
    "  for(i in 1:5){\n",
    "    pred <- predict(model, x)\n",
    "    rtn <- rtn + mean(pred == y)\n",
    "  }\n",
    "\n",
    "  rtn <- round(rtn / 5,8)\n",
    "  \n",
    "  return(rtn)\n",
    "}"
   ]
  },
  {
   "cell_type": "code",
   "execution_count": 86,
   "metadata": {
    "vscode": {
     "languageId": "r"
    }
   },
   "outputs": [
    {
     "name": "stdout",
     "output_type": "stream",
     "text": [
      "# weights:  27\n",
      "initial  value 148.980951 \n",
      "iter  10 value 53.372685\n",
      "iter  20 value 18.237303\n",
      "iter  30 value 5.383441\n",
      "iter  40 value 4.583498\n",
      "iter  50 value 4.570118\n",
      "iter  60 value 4.569500\n",
      "iter  60 value 4.569500\n",
      "iter  60 value 4.569500\n",
      "final  value 4.569500 \n",
      "converged\n",
      "# weights:  18 (10 variable)\n",
      "initial  value 115.354290 \n",
      "iter  10 value 10.937719\n",
      "iter  20 value 3.349780\n",
      "iter  30 value 2.905533\n",
      "iter  40 value 2.535144\n",
      "iter  50 value 2.435425\n",
      "iter  60 value 2.406059\n",
      "iter  70 value 1.804256\n",
      "iter  80 value 1.770173\n",
      "iter  90 value 1.738900\n",
      "iter 100 value 1.672192\n",
      "final  value 1.672192 \n",
      "stopped after 100 iterations\n"
     ]
    },
    {
     "data": {
      "text/html": [
       "<table>\n",
       "<thead><tr><th></th><th scope=col>예측력</th></tr></thead>\n",
       "<tbody>\n",
       "\t<tr><th scope=row>인공신경망</th><td>0.9777778</td></tr>\n",
       "\t<tr><th scope=row>의사결정나무</th><td>0.9777778</td></tr>\n",
       "\t<tr><th scope=row>RandomForest</th><td>0.9333333</td></tr>\n",
       "\t<tr><th scope=row>SVM</th><td>0.9777778</td></tr>\n",
       "\t<tr><th scope=row>로지스틱회귀분석</th><td>0.9555556</td></tr>\n",
       "</tbody>\n",
       "</table>\n"
      ],
      "text/latex": [
       "\\begin{tabular}{r|l}\n",
       "  & 예측력\\\\\n",
       "\\hline\n",
       "\t인공신경망 & 0.9777778\\\\\n",
       "\t의사결정나무 & 0.9777778\\\\\n",
       "\tRandomForest & 0.9333333\\\\\n",
       "\tSVM & 0.9777778\\\\\n",
       "\t로지스틱회귀분석 & 0.9555556\\\\\n",
       "\\end{tabular}\n"
      ],
      "text/markdown": [
       "\n",
       "| <!--/--> | 예측력 |\n",
       "|---|---|\n",
       "| 인공신경망 | 0.9777778 |\n",
       "| 의사결정나무 | 0.9777778 |\n",
       "| RandomForest | 0.9333333 |\n",
       "| SVM | 0.9777778 |\n",
       "| 로지스틱회귀분석 | 0.9555556 |\n",
       "\n"
      ],
      "text/plain": [
       "                 예측력   \n",
       "인공신경망       0.9777778\n",
       "의사결정나무     0.9777778\n",
       "RandomForest     0.9333333\n",
       "SVM              0.9777778\n",
       "로지스틱회귀분석 0.9555556"
      ]
     },
     "metadata": {},
     "output_type": "display_data"
    }
   ],
   "source": [
    "예측력 <- c(인공신경망(iris), 의사결정나무(iris), RF(iris), SVM(iris), 다항로지스틱(iris))\n",
    "result <- data.frame(예측력)\n",
    "rownames(result) = c('인공신경망', '의사결정나무', 'RandomForest', 'SVM', '로지스틱회귀분석')\n",
    "\n",
    "result"
   ]
  }
 ],
 "metadata": {
  "kernelspec": {
   "display_name": "R",
   "language": "R",
   "name": "ir"
  },
  "language_info": {
   "codemirror_mode": "r",
   "file_extension": ".r",
   "mimetype": "text/x-r-source",
   "name": "R",
   "pygments_lexer": "r",
   "version": "3.6.1"
  },
  "orig_nbformat": 4
 },
 "nbformat": 4,
 "nbformat_minor": 2
}
