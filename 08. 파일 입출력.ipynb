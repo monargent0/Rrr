{
 "cells": [
  {
   "cell_type": "code",
   "execution_count": 1,
   "metadata": {
    "vscode": {
     "languageId": "r"
    }
   },
   "outputs": [],
   "source": [
    "no <- 1:4\n",
    "name <- c(\"Apple\", 'Banana', \"Peach\", \"Berry\")\n",
    "price <- c(500,200,200,50)\n",
    "qty <- c(5,4,3,2)"
   ]
  },
  {
   "cell_type": "code",
   "execution_count": 2,
   "metadata": {
    "vscode": {
     "languageId": "r"
    }
   },
   "outputs": [
    {
     "data": {
      "text/html": [
       "<table>\n",
       "<thead><tr><th scope=col>번호</th><th scope=col>제품</th><th scope=col>금액</th><th scope=col>수량</th></tr></thead>\n",
       "<tbody>\n",
       "\t<tr><td>1     </td><td>Apple </td><td>500   </td><td>5     </td></tr>\n",
       "\t<tr><td>2     </td><td>Banana</td><td>200   </td><td>4     </td></tr>\n",
       "\t<tr><td>3     </td><td>Peach </td><td>200   </td><td>3     </td></tr>\n",
       "\t<tr><td>4     </td><td>Berry </td><td> 50   </td><td>2     </td></tr>\n",
       "</tbody>\n",
       "</table>\n"
      ],
      "text/latex": [
       "\\begin{tabular}{r|llll}\n",
       " 번호 & 제품 & 금액 & 수량\\\\\n",
       "\\hline\n",
       "\t 1      & Apple  & 500    & 5     \\\\\n",
       "\t 2      & Banana & 200    & 4     \\\\\n",
       "\t 3      & Peach  & 200    & 3     \\\\\n",
       "\t 4      & Berry  &  50    & 2     \\\\\n",
       "\\end{tabular}\n"
      ],
      "text/markdown": [
       "\n",
       "| 번호 | 제품 | 금액 | 수량 |\n",
       "|---|---|---|---|\n",
       "| 1      | Apple  | 500    | 5      |\n",
       "| 2      | Banana | 200    | 4      |\n",
       "| 3      | Peach  | 200    | 3      |\n",
       "| 4      | Berry  |  50    | 2      |\n",
       "\n"
      ],
      "text/plain": [
       "  번호 제품   금액 수량\n",
       "1 1    Apple  500  5   \n",
       "2 2    Banana 200  4   \n",
       "3 3    Peach  200  3   \n",
       "4 4    Berry   50  2   "
      ]
     },
     "metadata": {},
     "output_type": "display_data"
    }
   ],
   "source": [
    "# 데이터프레임으로 합치기\n",
    "fruit <- data.frame(번호=no,제품=name,금액=price,수량=qty)\n",
    "fruit"
   ]
  },
  {
   "cell_type": "code",
   "execution_count": 3,
   "metadata": {
    "vscode": {
     "languageId": "r"
    }
   },
   "outputs": [
    {
     "data": {
      "text/html": [
       "<ol class=list-inline>\n",
       "\t<li>'fruit'</li>\n",
       "\t<li>'name'</li>\n",
       "\t<li>'no'</li>\n",
       "\t<li>'price'</li>\n",
       "\t<li>'qty'</li>\n",
       "</ol>\n"
      ],
      "text/latex": [
       "\\begin{enumerate*}\n",
       "\\item 'fruit'\n",
       "\\item 'name'\n",
       "\\item 'no'\n",
       "\\item 'price'\n",
       "\\item 'qty'\n",
       "\\end{enumerate*}\n"
      ],
      "text/markdown": [
       "1. 'fruit'\n",
       "2. 'name'\n",
       "3. 'no'\n",
       "4. 'price'\n",
       "5. 'qty'\n",
       "\n",
       "\n"
      ],
      "text/plain": [
       "[1] \"fruit\" \"name\"  \"no\"    \"price\" \"qty\"  "
      ]
     },
     "metadata": {},
     "output_type": "display_data"
    }
   ],
   "source": [
    "# 현재 메모리에 있는 변수 보기\n",
    "ls()"
   ]
  },
  {
   "cell_type": "code",
   "execution_count": 4,
   "metadata": {
    "vscode": {
     "languageId": "r"
    }
   },
   "outputs": [],
   "source": [
    "# 메모리 형태로 파일 보관\n",
    "save(no, fruit, name, file=\"../Data/testFruit.txt\") \n",
    "# 파일 형태는 아무거나 상관 없음"
   ]
  },
  {
   "cell_type": "code",
   "execution_count": 5,
   "metadata": {
    "vscode": {
     "languageId": "r"
    }
   },
   "outputs": [],
   "source": [
    "rm(no, fruit, name)"
   ]
  },
  {
   "cell_type": "code",
   "execution_count": 6,
   "metadata": {
    "vscode": {
     "languageId": "r"
    }
   },
   "outputs": [],
   "source": [
    "# 메모리로 불러오기\n",
    "load(\"../Data/testFruit.txt\")"
   ]
  },
  {
   "cell_type": "code",
   "execution_count": 7,
   "metadata": {
    "vscode": {
     "languageId": "r"
    }
   },
   "outputs": [],
   "source": [
    "# fruit를 csv로 저장하기 \n",
    "write.csv(fruit, \"../Data/fruit.csv\")"
   ]
  },
  {
   "cell_type": "code",
   "execution_count": 8,
   "metadata": {
    "vscode": {
     "languageId": "r"
    }
   },
   "outputs": [],
   "source": [
    "fruit2 <- read.csv(\"../Data/fruit.csv\") # x라는 컬럼이 하나 추가되었다. x = rownames"
   ]
  },
  {
   "cell_type": "code",
   "execution_count": 9,
   "metadata": {
    "vscode": {
     "languageId": "r"
    }
   },
   "outputs": [],
   "source": [
    "write.csv(fruit2, \"../Data/fruit2.csv\")"
   ]
  },
  {
   "cell_type": "code",
   "execution_count": 10,
   "metadata": {
    "vscode": {
     "languageId": "r"
    }
   },
   "outputs": [
    {
     "data": {
      "text/html": [
       "<table>\n",
       "<thead><tr><th scope=col>X.1</th><th scope=col>X</th><th scope=col>번호</th><th scope=col>제품</th><th scope=col>금액</th><th scope=col>수량</th></tr></thead>\n",
       "<tbody>\n",
       "\t<tr><td>1     </td><td>1     </td><td>1     </td><td>Apple </td><td>500   </td><td>5     </td></tr>\n",
       "\t<tr><td>2     </td><td>2     </td><td>2     </td><td>Banana</td><td>200   </td><td>4     </td></tr>\n",
       "\t<tr><td>3     </td><td>3     </td><td>3     </td><td>Peach </td><td>200   </td><td>3     </td></tr>\n",
       "\t<tr><td>4     </td><td>4     </td><td>4     </td><td>Berry </td><td> 50   </td><td>2     </td></tr>\n",
       "</tbody>\n",
       "</table>\n"
      ],
      "text/latex": [
       "\\begin{tabular}{r|llllll}\n",
       " X.1 & X & 번호 & 제품 & 금액 & 수량\\\\\n",
       "\\hline\n",
       "\t 1      & 1      & 1      & Apple  & 500    & 5     \\\\\n",
       "\t 2      & 2      & 2      & Banana & 200    & 4     \\\\\n",
       "\t 3      & 3      & 3      & Peach  & 200    & 3     \\\\\n",
       "\t 4      & 4      & 4      & Berry  &  50    & 2     \\\\\n",
       "\\end{tabular}\n"
      ],
      "text/markdown": [
       "\n",
       "| X.1 | X | 번호 | 제품 | 금액 | 수량 |\n",
       "|---|---|---|---|---|---|\n",
       "| 1      | 1      | 1      | Apple  | 500    | 5      |\n",
       "| 2      | 2      | 2      | Banana | 200    | 4      |\n",
       "| 3      | 3      | 3      | Peach  | 200    | 3      |\n",
       "| 4      | 4      | 4      | Berry  |  50    | 2      |\n",
       "\n"
      ],
      "text/plain": [
       "  X.1 X 번호 제품   금액 수량\n",
       "1 1   1 1    Apple  500  5   \n",
       "2 2   2 2    Banana 200  4   \n",
       "3 3   3 3    Peach  200  3   \n",
       "4 4   4 4    Berry   50  2   "
      ]
     },
     "metadata": {},
     "output_type": "display_data"
    }
   ],
   "source": [
    "# rownames가 계속 쌓인다\n",
    "read.csv(\"../Data/fruit2.csv\") "
   ]
  },
  {
   "cell_type": "code",
   "execution_count": 11,
   "metadata": {
    "vscode": {
     "languageId": "r"
    }
   },
   "outputs": [],
   "source": [
    "# 저장시 주의 사항 : row names가 필요치 않으면 저장하지 말아야 한다.\n",
    "write.csv(fruit, \"../Data/fruit.csv\", row.names=F)"
   ]
  },
  {
   "cell_type": "code",
   "execution_count": 12,
   "metadata": {
    "vscode": {
     "languageId": "r"
    }
   },
   "outputs": [
    {
     "data": {
      "text/html": [
       "<table>\n",
       "<thead><tr><th scope=col>번호</th><th scope=col>제품</th><th scope=col>금액</th><th scope=col>수량</th></tr></thead>\n",
       "<tbody>\n",
       "\t<tr><td>1     </td><td>Apple </td><td>500   </td><td>5     </td></tr>\n",
       "\t<tr><td>2     </td><td>Banana</td><td>200   </td><td>4     </td></tr>\n",
       "\t<tr><td>3     </td><td>Peach </td><td>200   </td><td>3     </td></tr>\n",
       "\t<tr><td>4     </td><td>Berry </td><td> 50   </td><td>2     </td></tr>\n",
       "</tbody>\n",
       "</table>\n"
      ],
      "text/latex": [
       "\\begin{tabular}{r|llll}\n",
       " 번호 & 제품 & 금액 & 수량\\\\\n",
       "\\hline\n",
       "\t 1      & Apple  & 500    & 5     \\\\\n",
       "\t 2      & Banana & 200    & 4     \\\\\n",
       "\t 3      & Peach  & 200    & 3     \\\\\n",
       "\t 4      & Berry  &  50    & 2     \\\\\n",
       "\\end{tabular}\n"
      ],
      "text/markdown": [
       "\n",
       "| 번호 | 제품 | 금액 | 수량 |\n",
       "|---|---|---|---|\n",
       "| 1      | Apple  | 500    | 5      |\n",
       "| 2      | Banana | 200    | 4      |\n",
       "| 3      | Peach  | 200    | 3      |\n",
       "| 4      | Berry  |  50    | 2      |\n",
       "\n"
      ],
      "text/plain": [
       "  번호 제품   금액 수량\n",
       "1 1    Apple  500  5   \n",
       "2 2    Banana 200  4   \n",
       "3 3    Peach  200  3   \n",
       "4 4    Berry   50  2   "
      ]
     },
     "metadata": {},
     "output_type": "display_data"
    }
   ],
   "source": [
    "read.csv(\"../Data/fruit.csv\")"
   ]
  },
  {
   "cell_type": "markdown",
   "metadata": {},
   "source": [
    "# 세계 GDP 순위 데이터 정제 및 차트 만들기"
   ]
  },
  {
   "cell_type": "code",
   "execution_count": 13,
   "metadata": {
    "vscode": {
     "languageId": "r"
    }
   },
   "outputs": [
    {
     "data": {
      "text/html": [
       "<table>\n",
       "<thead><tr><th scope=col>X</th><th scope=col>Gross.domestic.product.2018</th><th scope=col>X.1</th><th scope=col>X.2</th><th scope=col>X.3</th><th scope=col>X.4</th></tr></thead>\n",
       "<tbody>\n",
       "\t<tr><td>              </td><td>              </td><td>NA            </td><td>              </td><td>              </td><td>              </td></tr>\n",
       "\t<tr><td>              </td><td>              </td><td>NA            </td><td>              </td><td>(millions of  </td><td>              </td></tr>\n",
       "\t<tr><td>              </td><td>Ranking       </td><td>NA            </td><td>Economy       </td><td>US dollars)   </td><td>              </td></tr>\n",
       "\t<tr><td>              </td><td>              </td><td>NA            </td><td>              </td><td>              </td><td>              </td></tr>\n",
       "\t<tr><td>USA           </td><td>1             </td><td>NA            </td><td>United States </td><td> 20,494,100   </td><td>              </td></tr>\n",
       "\t<tr><td>CHN           </td><td>2             </td><td>NA            </td><td>China         </td><td> 13,608,152   </td><td>              </td></tr>\n",
       "\t<tr><td>JPN           </td><td>3             </td><td>NA            </td><td>Japan         </td><td> 4,970,916    </td><td>              </td></tr>\n",
       "\t<tr><td>DEU           </td><td>4             </td><td>NA            </td><td>Germany       </td><td> 3,996,759    </td><td>              </td></tr>\n",
       "\t<tr><td>GBR           </td><td>5             </td><td>NA            </td><td>United Kingdom</td><td> 2,825,208    </td><td>              </td></tr>\n",
       "\t<tr><td>FRA           </td><td>6             </td><td>NA            </td><td>France        </td><td> 2,777,535    </td><td>              </td></tr>\n",
       "</tbody>\n",
       "</table>\n"
      ],
      "text/latex": [
       "\\begin{tabular}{r|llllll}\n",
       " X & Gross.domestic.product.2018 & X.1 & X.2 & X.3 & X.4\\\\\n",
       "\\hline\n",
       "\t                &                & NA             &                &                &               \\\\\n",
       "\t                &                & NA             &                & (millions of   &               \\\\\n",
       "\t                & Ranking        & NA             & Economy        & US dollars)    &               \\\\\n",
       "\t                &                & NA             &                &                &               \\\\\n",
       "\t USA            & 1              & NA             & United States  &  20,494,100    &               \\\\\n",
       "\t CHN            & 2              & NA             & China          &  13,608,152    &               \\\\\n",
       "\t JPN            & 3              & NA             & Japan          &  4,970,916     &               \\\\\n",
       "\t DEU            & 4              & NA             & Germany        &  3,996,759     &               \\\\\n",
       "\t GBR            & 5              & NA             & United Kingdom &  2,825,208     &               \\\\\n",
       "\t FRA            & 6              & NA             & France         &  2,777,535     &               \\\\\n",
       "\\end{tabular}\n"
      ],
      "text/markdown": [
       "\n",
       "| X | Gross.domestic.product.2018 | X.1 | X.2 | X.3 | X.4 |\n",
       "|---|---|---|---|---|---|\n",
       "|                |                | NA             |                |                |                |\n",
       "|                |                | NA             |                | (millions of   |                |\n",
       "|                | Ranking        | NA             | Economy        | US dollars)    |                |\n",
       "|                |                | NA             |                |                |                |\n",
       "| USA            | 1              | NA             | United States  |  20,494,100    |                |\n",
       "| CHN            | 2              | NA             | China          |  13,608,152    |                |\n",
       "| JPN            | 3              | NA             | Japan          |  4,970,916     |                |\n",
       "| DEU            | 4              | NA             | Germany        |  3,996,759     |                |\n",
       "| GBR            | 5              | NA             | United Kingdom |  2,825,208     |                |\n",
       "| FRA            | 6              | NA             | France         |  2,777,535     |                |\n",
       "\n"
      ],
      "text/plain": [
       "   X   Gross.domestic.product.2018 X.1 X.2            X.3          X.4\n",
       "1                                  NA                                 \n",
       "2                                  NA                 (millions of    \n",
       "3      Ranking                     NA  Economy        US dollars)     \n",
       "4                                  NA                                 \n",
       "5  USA 1                           NA  United States   20,494,100     \n",
       "6  CHN 2                           NA  China           13,608,152     \n",
       "7  JPN 3                           NA  Japan           4,970,916      \n",
       "8  DEU 4                           NA  Germany         3,996,759      \n",
       "9  GBR 5                           NA  United Kingdom  2,825,208      \n",
       "10 FRA 6                           NA  France          2,777,535      "
      ]
     },
     "metadata": {},
     "output_type": "display_data"
    },
    {
     "data": {
      "text/html": [
       "<table>\n",
       "<thead><tr><th></th><th scope=col>X</th><th scope=col>Gross.domestic.product.2018</th><th scope=col>X.1</th><th scope=col>X.2</th><th scope=col>X.3</th><th scope=col>X.4</th></tr></thead>\n",
       "<tbody>\n",
       "\t<tr><th scope=row>319</th><td>  </td><td>  </td><td>NA</td><td>  </td><td>  </td><td>  </td></tr>\n",
       "\t<tr><th scope=row>320</th><td>  </td><td>  </td><td>NA</td><td>  </td><td>  </td><td>  </td></tr>\n",
       "\t<tr><th scope=row>321</th><td>  </td><td>  </td><td>NA</td><td>  </td><td>  </td><td>  </td></tr>\n",
       "\t<tr><th scope=row>322</th><td>  </td><td>  </td><td>NA</td><td>  </td><td>  </td><td>  </td></tr>\n",
       "\t<tr><th scope=row>323</th><td>  </td><td>  </td><td>NA</td><td>  </td><td>  </td><td>  </td></tr>\n",
       "\t<tr><th scope=row>324</th><td>  </td><td>  </td><td>NA</td><td>  </td><td>  </td><td>  </td></tr>\n",
       "\t<tr><th scope=row>325</th><td>  </td><td>  </td><td>NA</td><td>  </td><td>  </td><td>  </td></tr>\n",
       "\t<tr><th scope=row>326</th><td>  </td><td>  </td><td>NA</td><td>  </td><td>  </td><td>  </td></tr>\n",
       "\t<tr><th scope=row>327</th><td>  </td><td>  </td><td>NA</td><td>  </td><td>  </td><td>  </td></tr>\n",
       "\t<tr><th scope=row>328</th><td>  </td><td>  </td><td>NA</td><td>  </td><td>  </td><td>  </td></tr>\n",
       "</tbody>\n",
       "</table>\n"
      ],
      "text/latex": [
       "\\begin{tabular}{r|llllll}\n",
       "  & X & Gross.domestic.product.2018 & X.1 & X.2 & X.3 & X.4\\\\\n",
       "\\hline\n",
       "\t319 &    &    & NA &    &    &   \\\\\n",
       "\t320 &    &    & NA &    &    &   \\\\\n",
       "\t321 &    &    & NA &    &    &   \\\\\n",
       "\t322 &    &    & NA &    &    &   \\\\\n",
       "\t323 &    &    & NA &    &    &   \\\\\n",
       "\t324 &    &    & NA &    &    &   \\\\\n",
       "\t325 &    &    & NA &    &    &   \\\\\n",
       "\t326 &    &    & NA &    &    &   \\\\\n",
       "\t327 &    &    & NA &    &    &   \\\\\n",
       "\t328 &    &    & NA &    &    &   \\\\\n",
       "\\end{tabular}\n"
      ],
      "text/markdown": [
       "\n",
       "| <!--/--> | X | Gross.domestic.product.2018 | X.1 | X.2 | X.3 | X.4 |\n",
       "|---|---|---|---|---|---|---|\n",
       "| 319 |    |    | NA |    |    |    |\n",
       "| 320 |    |    | NA |    |    |    |\n",
       "| 321 |    |    | NA |    |    |    |\n",
       "| 322 |    |    | NA |    |    |    |\n",
       "| 323 |    |    | NA |    |    |    |\n",
       "| 324 |    |    | NA |    |    |    |\n",
       "| 325 |    |    | NA |    |    |    |\n",
       "| 326 |    |    | NA |    |    |    |\n",
       "| 327 |    |    | NA |    |    |    |\n",
       "| 328 |    |    | NA |    |    |    |\n",
       "\n"
      ],
      "text/plain": [
       "    X Gross.domestic.product.2018 X.1 X.2 X.3 X.4\n",
       "319                               NA             \n",
       "320                               NA             \n",
       "321                               NA             \n",
       "322                               NA             \n",
       "323                               NA             \n",
       "324                               NA             \n",
       "325                               NA             \n",
       "326                               NA             \n",
       "327                               NA             \n",
       "328                               NA             "
      ]
     },
     "metadata": {},
     "output_type": "display_data"
    }
   ],
   "source": [
    "# Data Set 불러오기 \n",
    "GDP_ranking <- read.csv(\"../Data/GDP.csv\") \n",
    "head(GDP_ranking, 10)\n",
    "tail(GDP_ranking ,10)\n",
    "# 우리가 필요한 데이터 나라,순위,이름,값"
   ]
  },
  {
   "cell_type": "code",
   "execution_count": 14,
   "metadata": {
    "vscode": {
     "languageId": "r"
    }
   },
   "outputs": [
    {
     "data": {
      "text/html": [
       "<table>\n",
       "<thead><tr><th></th><th scope=col>X</th><th scope=col>Gross.domestic.product.2018</th><th scope=col>X.2</th><th scope=col>X.3</th></tr></thead>\n",
       "<tbody>\n",
       "\t<tr><th scope=row>5</th><td>USA           </td><td>1             </td><td>United States </td><td> 20,494,100   </td></tr>\n",
       "\t<tr><th scope=row>6</th><td>CHN           </td><td>2             </td><td>China         </td><td> 13,608,152   </td></tr>\n",
       "\t<tr><th scope=row>7</th><td>JPN           </td><td>3             </td><td>Japan         </td><td> 4,970,916    </td></tr>\n",
       "\t<tr><th scope=row>8</th><td>DEU           </td><td>4             </td><td>Germany       </td><td> 3,996,759    </td></tr>\n",
       "\t<tr><th scope=row>9</th><td>GBR           </td><td>5             </td><td>United Kingdom</td><td> 2,825,208    </td></tr>\n",
       "\t<tr><th scope=row>10</th><td>FRA           </td><td>6             </td><td>France        </td><td> 2,777,535    </td></tr>\n",
       "</tbody>\n",
       "</table>\n"
      ],
      "text/latex": [
       "\\begin{tabular}{r|llll}\n",
       "  & X & Gross.domestic.product.2018 & X.2 & X.3\\\\\n",
       "\\hline\n",
       "\t5 & USA            & 1              & United States  &  20,494,100   \\\\\n",
       "\t6 & CHN            & 2              & China          &  13,608,152   \\\\\n",
       "\t7 & JPN            & 3              & Japan          &  4,970,916    \\\\\n",
       "\t8 & DEU            & 4              & Germany        &  3,996,759    \\\\\n",
       "\t9 & GBR            & 5              & United Kingdom &  2,825,208    \\\\\n",
       "\t10 & FRA            & 6              & France         &  2,777,535    \\\\\n",
       "\\end{tabular}\n"
      ],
      "text/markdown": [
       "\n",
       "| <!--/--> | X | Gross.domestic.product.2018 | X.2 | X.3 |\n",
       "|---|---|---|---|---|\n",
       "| 5 | USA            | 1              | United States  |  20,494,100    |\n",
       "| 6 | CHN            | 2              | China          |  13,608,152    |\n",
       "| 7 | JPN            | 3              | Japan          |  4,970,916     |\n",
       "| 8 | DEU            | 4              | Germany        |  3,996,759     |\n",
       "| 9 | GBR            | 5              | United Kingdom |  2,825,208     |\n",
       "| 10 | FRA            | 6              | France         |  2,777,535     |\n",
       "\n"
      ],
      "text/plain": [
       "   X   Gross.domestic.product.2018 X.2            X.3         \n",
       "5  USA 1                           United States   20,494,100 \n",
       "6  CHN 2                           China           13,608,152 \n",
       "7  JPN 3                           Japan           4,970,916  \n",
       "8  DEU 4                           Germany         3,996,759  \n",
       "9  GBR 5                           United Kingdom  2,825,208  \n",
       "10 FRA 6                           France          2,777,535  "
      ]
     },
     "metadata": {},
     "output_type": "display_data"
    }
   ],
   "source": [
    "GDP_ranking2 <- GDP_ranking[-c(1:4),c(1,2,4,5)]\n",
    "head(GDP_ranking2)"
   ]
  },
  {
   "cell_type": "code",
   "execution_count": 15,
   "metadata": {
    "vscode": {
     "languageId": "r"
    }
   },
   "outputs": [
    {
     "data": {
      "text/html": [
       "<table>\n",
       "<thead><tr><th></th><th scope=col>X</th><th scope=col>Gross.domestic.product.2018</th><th scope=col>X.2</th><th scope=col>X.3</th></tr></thead>\n",
       "<tbody>\n",
       "\t<tr><th scope=row>5</th><td>USA               </td><td>1                 </td><td>United States     </td><td> 20,494,100       </td></tr>\n",
       "\t<tr><th scope=row>6</th><td>CHN               </td><td>2                 </td><td>China             </td><td> 13,608,152       </td></tr>\n",
       "\t<tr><th scope=row>7</th><td>JPN               </td><td>3                 </td><td>Japan             </td><td> 4,970,916        </td></tr>\n",
       "\t<tr><th scope=row>8</th><td>DEU               </td><td>4                 </td><td>Germany           </td><td> 3,996,759        </td></tr>\n",
       "\t<tr><th scope=row>9</th><td>GBR               </td><td>5                 </td><td>United Kingdom    </td><td> 2,825,208        </td></tr>\n",
       "\t<tr><th scope=row>10</th><td>FRA               </td><td>6                 </td><td>France            </td><td> 2,777,535        </td></tr>\n",
       "\t<tr><th scope=row>11</th><td>IND               </td><td>7                 </td><td>India             </td><td> 2,726,323        </td></tr>\n",
       "\t<tr><th scope=row>12</th><td>ITA               </td><td>8                 </td><td>Italy             </td><td> 2,073,902        </td></tr>\n",
       "\t<tr><th scope=row>13</th><td>BRA               </td><td>9                 </td><td>Brazil            </td><td> 1,868,626        </td></tr>\n",
       "\t<tr><th scope=row>14</th><td>CAN               </td><td>10                </td><td>Canada            </td><td> 1,712,510        </td></tr>\n",
       "\t<tr><th scope=row>15</th><td>RUS               </td><td>11                </td><td>Russian Federation</td><td> 1,657,554        </td></tr>\n",
       "\t<tr><th scope=row>16</th><td>KOR               </td><td>12                </td><td>Korea, Rep.       </td><td> 1,619,424        </td></tr>\n",
       "\t<tr><th scope=row>17</th><td>AUS               </td><td>13                </td><td>Australia         </td><td> 1,432,195        </td></tr>\n",
       "\t<tr><th scope=row>18</th><td>ESP               </td><td>14                </td><td>Spain             </td><td> 1,426,189        </td></tr>\n",
       "\t<tr><th scope=row>19</th><td>MEX               </td><td>15                </td><td>Mexico            </td><td> 1,223,809        </td></tr>\n",
       "</tbody>\n",
       "</table>\n"
      ],
      "text/latex": [
       "\\begin{tabular}{r|llll}\n",
       "  & X & Gross.domestic.product.2018 & X.2 & X.3\\\\\n",
       "\\hline\n",
       "\t5 & USA                & 1                  & United States      &  20,494,100       \\\\\n",
       "\t6 & CHN                & 2                  & China              &  13,608,152       \\\\\n",
       "\t7 & JPN                & 3                  & Japan              &  4,970,916        \\\\\n",
       "\t8 & DEU                & 4                  & Germany            &  3,996,759        \\\\\n",
       "\t9 & GBR                & 5                  & United Kingdom     &  2,825,208        \\\\\n",
       "\t10 & FRA                & 6                  & France             &  2,777,535        \\\\\n",
       "\t11 & IND                & 7                  & India              &  2,726,323        \\\\\n",
       "\t12 & ITA                & 8                  & Italy              &  2,073,902        \\\\\n",
       "\t13 & BRA                & 9                  & Brazil             &  1,868,626        \\\\\n",
       "\t14 & CAN                & 10                 & Canada             &  1,712,510        \\\\\n",
       "\t15 & RUS                & 11                 & Russian Federation &  1,657,554        \\\\\n",
       "\t16 & KOR                & 12                 & Korea, Rep.        &  1,619,424        \\\\\n",
       "\t17 & AUS                & 13                 & Australia          &  1,432,195        \\\\\n",
       "\t18 & ESP                & 14                 & Spain              &  1,426,189        \\\\\n",
       "\t19 & MEX                & 15                 & Mexico             &  1,223,809        \\\\\n",
       "\\end{tabular}\n"
      ],
      "text/markdown": [
       "\n",
       "| <!--/--> | X | Gross.domestic.product.2018 | X.2 | X.3 |\n",
       "|---|---|---|---|---|\n",
       "| 5 | USA                | 1                  | United States      |  20,494,100        |\n",
       "| 6 | CHN                | 2                  | China              |  13,608,152        |\n",
       "| 7 | JPN                | 3                  | Japan              |  4,970,916         |\n",
       "| 8 | DEU                | 4                  | Germany            |  3,996,759         |\n",
       "| 9 | GBR                | 5                  | United Kingdom     |  2,825,208         |\n",
       "| 10 | FRA                | 6                  | France             |  2,777,535         |\n",
       "| 11 | IND                | 7                  | India              |  2,726,323         |\n",
       "| 12 | ITA                | 8                  | Italy              |  2,073,902         |\n",
       "| 13 | BRA                | 9                  | Brazil             |  1,868,626         |\n",
       "| 14 | CAN                | 10                 | Canada             |  1,712,510         |\n",
       "| 15 | RUS                | 11                 | Russian Federation |  1,657,554         |\n",
       "| 16 | KOR                | 12                 | Korea, Rep.        |  1,619,424         |\n",
       "| 17 | AUS                | 13                 | Australia          |  1,432,195         |\n",
       "| 18 | ESP                | 14                 | Spain              |  1,426,189         |\n",
       "| 19 | MEX                | 15                 | Mexico             |  1,223,809         |\n",
       "\n"
      ],
      "text/plain": [
       "   X   Gross.domestic.product.2018 X.2                X.3         \n",
       "5  USA 1                           United States       20,494,100 \n",
       "6  CHN 2                           China               13,608,152 \n",
       "7  JPN 3                           Japan               4,970,916  \n",
       "8  DEU 4                           Germany             3,996,759  \n",
       "9  GBR 5                           United Kingdom      2,825,208  \n",
       "10 FRA 6                           France              2,777,535  \n",
       "11 IND 7                           India               2,726,323  \n",
       "12 ITA 8                           Italy               2,073,902  \n",
       "13 BRA 9                           Brazil              1,868,626  \n",
       "14 CAN 10                          Canada              1,712,510  \n",
       "15 RUS 11                          Russian Federation  1,657,554  \n",
       "16 KOR 12                          Korea, Rep.         1,619,424  \n",
       "17 AUS 13                          Australia           1,432,195  \n",
       "18 ESP 14                          Spain               1,426,189  \n",
       "19 MEX 15                          Mexico              1,223,809  "
      ]
     },
     "metadata": {},
     "output_type": "display_data"
    }
   ],
   "source": [
    "# 상위 15개국만 선별한다.\n",
    "GDP_ranking15 <- GDP_ranking2[c(1:15),]\n",
    "#GDP_ranking15 <- head(GDP_ranking2, 15)\n",
    "GDP_ranking15"
   ]
  },
  {
   "cell_type": "code",
   "execution_count": 16,
   "metadata": {
    "vscode": {
     "languageId": "r"
    }
   },
   "outputs": [
    {
     "data": {
      "text/html": [
       "<table>\n",
       "<thead><tr><th></th><th scope=col>Code</th><th scope=col>Ranking</th><th scope=col>Nation</th><th scope=col>GDP</th></tr></thead>\n",
       "<tbody>\n",
       "\t<tr><th scope=row>5</th><td>USA               </td><td>1                 </td><td>United States     </td><td> 20,494,100       </td></tr>\n",
       "\t<tr><th scope=row>6</th><td>CHN               </td><td>2                 </td><td>China             </td><td> 13,608,152       </td></tr>\n",
       "\t<tr><th scope=row>7</th><td>JPN               </td><td>3                 </td><td>Japan             </td><td> 4,970,916        </td></tr>\n",
       "\t<tr><th scope=row>8</th><td>DEU               </td><td>4                 </td><td>Germany           </td><td> 3,996,759        </td></tr>\n",
       "\t<tr><th scope=row>9</th><td>GBR               </td><td>5                 </td><td>United Kingdom    </td><td> 2,825,208        </td></tr>\n",
       "\t<tr><th scope=row>10</th><td>FRA               </td><td>6                 </td><td>France            </td><td> 2,777,535        </td></tr>\n",
       "\t<tr><th scope=row>11</th><td>IND               </td><td>7                 </td><td>India             </td><td> 2,726,323        </td></tr>\n",
       "\t<tr><th scope=row>12</th><td>ITA               </td><td>8                 </td><td>Italy             </td><td> 2,073,902        </td></tr>\n",
       "\t<tr><th scope=row>13</th><td>BRA               </td><td>9                 </td><td>Brazil            </td><td> 1,868,626        </td></tr>\n",
       "\t<tr><th scope=row>14</th><td>CAN               </td><td>10                </td><td>Canada            </td><td> 1,712,510        </td></tr>\n",
       "\t<tr><th scope=row>15</th><td>RUS               </td><td>11                </td><td>Russian Federation</td><td> 1,657,554        </td></tr>\n",
       "\t<tr><th scope=row>16</th><td>KOR               </td><td>12                </td><td>Korea, Rep.       </td><td> 1,619,424        </td></tr>\n",
       "\t<tr><th scope=row>17</th><td>AUS               </td><td>13                </td><td>Australia         </td><td> 1,432,195        </td></tr>\n",
       "\t<tr><th scope=row>18</th><td>ESP               </td><td>14                </td><td>Spain             </td><td> 1,426,189        </td></tr>\n",
       "\t<tr><th scope=row>19</th><td>MEX               </td><td>15                </td><td>Mexico            </td><td> 1,223,809        </td></tr>\n",
       "</tbody>\n",
       "</table>\n"
      ],
      "text/latex": [
       "\\begin{tabular}{r|llll}\n",
       "  & Code & Ranking & Nation & GDP\\\\\n",
       "\\hline\n",
       "\t5 & USA                & 1                  & United States      &  20,494,100       \\\\\n",
       "\t6 & CHN                & 2                  & China              &  13,608,152       \\\\\n",
       "\t7 & JPN                & 3                  & Japan              &  4,970,916        \\\\\n",
       "\t8 & DEU                & 4                  & Germany            &  3,996,759        \\\\\n",
       "\t9 & GBR                & 5                  & United Kingdom     &  2,825,208        \\\\\n",
       "\t10 & FRA                & 6                  & France             &  2,777,535        \\\\\n",
       "\t11 & IND                & 7                  & India              &  2,726,323        \\\\\n",
       "\t12 & ITA                & 8                  & Italy              &  2,073,902        \\\\\n",
       "\t13 & BRA                & 9                  & Brazil             &  1,868,626        \\\\\n",
       "\t14 & CAN                & 10                 & Canada             &  1,712,510        \\\\\n",
       "\t15 & RUS                & 11                 & Russian Federation &  1,657,554        \\\\\n",
       "\t16 & KOR                & 12                 & Korea, Rep.        &  1,619,424        \\\\\n",
       "\t17 & AUS                & 13                 & Australia          &  1,432,195        \\\\\n",
       "\t18 & ESP                & 14                 & Spain              &  1,426,189        \\\\\n",
       "\t19 & MEX                & 15                 & Mexico             &  1,223,809        \\\\\n",
       "\\end{tabular}\n"
      ],
      "text/markdown": [
       "\n",
       "| <!--/--> | Code | Ranking | Nation | GDP |\n",
       "|---|---|---|---|---|\n",
       "| 5 | USA                | 1                  | United States      |  20,494,100        |\n",
       "| 6 | CHN                | 2                  | China              |  13,608,152        |\n",
       "| 7 | JPN                | 3                  | Japan              |  4,970,916         |\n",
       "| 8 | DEU                | 4                  | Germany            |  3,996,759         |\n",
       "| 9 | GBR                | 5                  | United Kingdom     |  2,825,208         |\n",
       "| 10 | FRA                | 6                  | France             |  2,777,535         |\n",
       "| 11 | IND                | 7                  | India              |  2,726,323         |\n",
       "| 12 | ITA                | 8                  | Italy              |  2,073,902         |\n",
       "| 13 | BRA                | 9                  | Brazil             |  1,868,626         |\n",
       "| 14 | CAN                | 10                 | Canada             |  1,712,510         |\n",
       "| 15 | RUS                | 11                 | Russian Federation |  1,657,554         |\n",
       "| 16 | KOR                | 12                 | Korea, Rep.        |  1,619,424         |\n",
       "| 17 | AUS                | 13                 | Australia          |  1,432,195         |\n",
       "| 18 | ESP                | 14                 | Spain              |  1,426,189         |\n",
       "| 19 | MEX                | 15                 | Mexico             |  1,223,809         |\n",
       "\n"
      ],
      "text/plain": [
       "   Code Ranking Nation             GDP         \n",
       "5  USA  1       United States       20,494,100 \n",
       "6  CHN  2       China               13,608,152 \n",
       "7  JPN  3       Japan               4,970,916  \n",
       "8  DEU  4       Germany             3,996,759  \n",
       "9  GBR  5       United Kingdom      2,825,208  \n",
       "10 FRA  6       France              2,777,535  \n",
       "11 IND  7       India               2,726,323  \n",
       "12 ITA  8       Italy               2,073,902  \n",
       "13 BRA  9       Brazil              1,868,626  \n",
       "14 CAN  10      Canada              1,712,510  \n",
       "15 RUS  11      Russian Federation  1,657,554  \n",
       "16 KOR  12      Korea, Rep.         1,619,424  \n",
       "17 AUS  13      Australia           1,432,195  \n",
       "18 ESP  14      Spain               1,426,189  \n",
       "19 MEX  15      Mexico              1,223,809  "
      ]
     },
     "metadata": {},
     "output_type": "display_data"
    }
   ],
   "source": [
    "# 컬럼이름 정의 : Code, Ranking, Nation, GDP\n",
    "colnames(GDP_ranking15) <- c('Code', 'Ranking', 'Nation', 'GDP')\n",
    "GDP_ranking15"
   ]
  },
  {
   "cell_type": "code",
   "execution_count": 17,
   "metadata": {
    "vscode": {
     "languageId": "r"
    }
   },
   "outputs": [
    {
     "name": "stdout",
     "output_type": "stream",
     "text": [
      "   Code Ranking             Nation          GDP\n",
      "1   USA       1      United States  20,494,100 \n",
      "2   CHN       2              China  13,608,152 \n",
      "3   JPN       3              Japan   4,970,916 \n",
      "4   DEU       4            Germany   3,996,759 \n",
      "5   GBR       5     United Kingdom   2,825,208 \n",
      "6   FRA       6             France   2,777,535 \n",
      "7   IND       7              India   2,726,323 \n",
      "8   ITA       8              Italy   2,073,902 \n",
      "9   BRA       9             Brazil   1,868,626 \n",
      "10  CAN      10             Canada   1,712,510 \n",
      "11  RUS      11 Russian Federation   1,657,554 \n",
      "12  KOR      12        Korea, Rep.   1,619,424 \n",
      "13  AUS      13          Australia   1,432,195 \n",
      "14  ESP      14              Spain   1,426,189 \n",
      "15  MEX      15             Mexico   1,223,809 \n"
     ]
    }
   ],
   "source": [
    "# rownames 새로 구성하기 (인덱스 번호 정리하기)\n",
    "rownames(GDP_ranking15) <- c()\n",
    "print(GDP_ranking15)"
   ]
  },
  {
   "cell_type": "code",
   "execution_count": 18,
   "metadata": {
    "vscode": {
     "languageId": "r"
    }
   },
   "outputs": [
    {
     "name": "stdout",
     "output_type": "stream",
     "text": [
      "'data.frame':\t15 obs. of  4 variables:\n",
      " $ Code   : Factor w/ 230 levels \"\",\"ABW\",\"AFG\",..: 216 38 103 52 72 68 94 100 28 34 ...\n",
      " $ Ranking: Factor w/ 212 levels \"\",\".. Not available.  \",..: 3 114 131 142 153 164 175 186 197 4 ...\n",
      " $ Nation : Factor w/ 231 levels \"\",\"Afghanistan\",..: 219 43 104 78 218 73 95 102 28 37 ...\n",
      " $ GDP    : Factor w/ 220 levels \"\",\" .. \",\" 1,022 \",..: 78 44 137 113 77 75 74 67 20 19 ...\n"
     ]
    }
   ],
   "source": [
    "# 구조 확인\n",
    "str(GDP_ranking15)"
   ]
  },
  {
   "cell_type": "code",
   "execution_count": 19,
   "metadata": {
    "vscode": {
     "languageId": "r"
    }
   },
   "outputs": [],
   "source": [
    "# Factor의 갯수가 15개가 정상일텐데 200개 이상이다 이상하다. -> 재구성 해야한다.\n",
    "GDP_ranking15$Code <- factor(GDP_ranking15$Code) "
   ]
  },
  {
   "cell_type": "code",
   "execution_count": 20,
   "metadata": {
    "vscode": {
     "languageId": "r"
    }
   },
   "outputs": [],
   "source": [
    "# for\n",
    "for(i in 1:ncol(GDP_ranking15)){\n",
    "    GDP_ranking15[,i] <- factor(GDP_ranking15[,i])\n",
    "}"
   ]
  },
  {
   "cell_type": "code",
   "execution_count": 21,
   "metadata": {
    "vscode": {
     "languageId": "r"
    }
   },
   "outputs": [
    {
     "name": "stderr",
     "output_type": "stream",
     "text": [
      "\n",
      "Attaching package: ‘stringr’\n",
      "\n",
      "The following object is masked _by_ ‘.GlobalEnv’:\n",
      "\n",
      "    fruit\n",
      "\n"
     ]
    }
   ],
   "source": [
    "library(stringr)"
   ]
  },
  {
   "cell_type": "code",
   "execution_count": 22,
   "metadata": {
    "vscode": {
     "languageId": "r"
    }
   },
   "outputs": [
    {
     "data": {
      "text/html": [
       "<table>\n",
       "<thead><tr><th scope=col>Code</th><th scope=col>Ranking</th><th scope=col>Nation</th><th scope=col>GDP</th></tr></thead>\n",
       "<tbody>\n",
       "\t<tr><td>USA               </td><td>1                 </td><td>United States     </td><td>20494100          </td></tr>\n",
       "\t<tr><td>CHN               </td><td>2                 </td><td>China             </td><td>13608152          </td></tr>\n",
       "\t<tr><td>JPN               </td><td>3                 </td><td>Japan             </td><td> 4970916          </td></tr>\n",
       "\t<tr><td>DEU               </td><td>4                 </td><td>Germany           </td><td> 3996759          </td></tr>\n",
       "\t<tr><td>GBR               </td><td>5                 </td><td>United Kingdom    </td><td> 2825208          </td></tr>\n",
       "\t<tr><td>FRA               </td><td>6                 </td><td>France            </td><td> 2777535          </td></tr>\n",
       "\t<tr><td>IND               </td><td>7                 </td><td>India             </td><td> 2726323          </td></tr>\n",
       "\t<tr><td>ITA               </td><td>8                 </td><td>Italy             </td><td> 2073902          </td></tr>\n",
       "\t<tr><td>BRA               </td><td>9                 </td><td>Brazil            </td><td> 1868626          </td></tr>\n",
       "\t<tr><td>CAN               </td><td>10                </td><td>Canada            </td><td> 1712510          </td></tr>\n",
       "\t<tr><td>RUS               </td><td>11                </td><td>Russian Federation</td><td> 1657554          </td></tr>\n",
       "\t<tr><td>KOR               </td><td>12                </td><td>Korea, Rep.       </td><td> 1619424          </td></tr>\n",
       "\t<tr><td>AUS               </td><td>13                </td><td>Australia         </td><td> 1432195          </td></tr>\n",
       "\t<tr><td>ESP               </td><td>14                </td><td>Spain             </td><td> 1426189          </td></tr>\n",
       "\t<tr><td>MEX               </td><td>15                </td><td>Mexico            </td><td> 1223809          </td></tr>\n",
       "</tbody>\n",
       "</table>\n"
      ],
      "text/latex": [
       "\\begin{tabular}{r|llll}\n",
       " Code & Ranking & Nation & GDP\\\\\n",
       "\\hline\n",
       "\t USA                & 1                  & United States      & 20494100          \\\\\n",
       "\t CHN                & 2                  & China              & 13608152          \\\\\n",
       "\t JPN                & 3                  & Japan              &  4970916          \\\\\n",
       "\t DEU                & 4                  & Germany            &  3996759          \\\\\n",
       "\t GBR                & 5                  & United Kingdom     &  2825208          \\\\\n",
       "\t FRA                & 6                  & France             &  2777535          \\\\\n",
       "\t IND                & 7                  & India              &  2726323          \\\\\n",
       "\t ITA                & 8                  & Italy              &  2073902          \\\\\n",
       "\t BRA                & 9                  & Brazil             &  1868626          \\\\\n",
       "\t CAN                & 10                 & Canada             &  1712510          \\\\\n",
       "\t RUS                & 11                 & Russian Federation &  1657554          \\\\\n",
       "\t KOR                & 12                 & Korea, Rep.        &  1619424          \\\\\n",
       "\t AUS                & 13                 & Australia          &  1432195          \\\\\n",
       "\t ESP                & 14                 & Spain              &  1426189          \\\\\n",
       "\t MEX                & 15                 & Mexico             &  1223809          \\\\\n",
       "\\end{tabular}\n"
      ],
      "text/markdown": [
       "\n",
       "| Code | Ranking | Nation | GDP |\n",
       "|---|---|---|---|\n",
       "| USA                | 1                  | United States      | 20494100           |\n",
       "| CHN                | 2                  | China              | 13608152           |\n",
       "| JPN                | 3                  | Japan              |  4970916           |\n",
       "| DEU                | 4                  | Germany            |  3996759           |\n",
       "| GBR                | 5                  | United Kingdom     |  2825208           |\n",
       "| FRA                | 6                  | France             |  2777535           |\n",
       "| IND                | 7                  | India              |  2726323           |\n",
       "| ITA                | 8                  | Italy              |  2073902           |\n",
       "| BRA                | 9                  | Brazil             |  1868626           |\n",
       "| CAN                | 10                 | Canada             |  1712510           |\n",
       "| RUS                | 11                 | Russian Federation |  1657554           |\n",
       "| KOR                | 12                 | Korea, Rep.        |  1619424           |\n",
       "| AUS                | 13                 | Australia          |  1432195           |\n",
       "| ESP                | 14                 | Spain              |  1426189           |\n",
       "| MEX                | 15                 | Mexico             |  1223809           |\n",
       "\n"
      ],
      "text/plain": [
       "   Code Ranking Nation             GDP     \n",
       "1  USA  1       United States      20494100\n",
       "2  CHN  2       China              13608152\n",
       "3  JPN  3       Japan               4970916\n",
       "4  DEU  4       Germany             3996759\n",
       "5  GBR  5       United Kingdom      2825208\n",
       "6  FRA  6       France              2777535\n",
       "7  IND  7       India               2726323\n",
       "8  ITA  8       Italy               2073902\n",
       "9  BRA  9       Brazil              1868626\n",
       "10 CAN  10      Canada              1712510\n",
       "11 RUS  11      Russian Federation  1657554\n",
       "12 KOR  12      Korea, Rep.         1619424\n",
       "13 AUS  13      Australia           1432195\n",
       "14 ESP  14      Spain               1426189\n",
       "15 MEX  15      Mexico              1223809"
      ]
     },
     "metadata": {},
     "output_type": "display_data"
    },
    {
     "name": "stdout",
     "output_type": "stream",
     "text": [
      "'data.frame':\t15 obs. of  4 variables:\n",
      " $ Code   : Factor w/ 15 levels \"AUS\",\"BRA\",\"CAN\",..: 15 4 11 5 8 7 9 10 2 3 ...\n",
      " $ Ranking: Factor w/ 15 levels \"1\",\"10\",\"11\",..: 1 8 9 10 11 12 13 14 15 2 ...\n",
      " $ Nation : Factor w/ 15 levels \"Australia\",\"Brazil\",..: 15 4 9 6 14 5 7 8 2 3 ...\n",
      " $ GDP    : num  20494100 13608152 4970916 3996759 2825208 ...\n"
     ]
    }
   ],
   "source": [
    "# GDP 숫자로 변환 (천단위 쉼표 정리)\n",
    "GDP_ranking15$GDP <- as.numeric(str_remove_all(GDP_ranking15$GDP, ','))\n",
    "GDP_ranking15\n",
    "str(GDP_ranking15)"
   ]
  },
  {
   "cell_type": "code",
   "execution_count": 23,
   "metadata": {
    "vscode": {
     "languageId": "r"
    }
   },
   "outputs": [
    {
     "data": {
      "image/png": "[encoded data removed]",
      "text/plain": [
       "Plot with title “2018년 GDP 세계 15위 국가”"
      ]
     },
     "metadata": {},
     "output_type": "display_data"
    }
   ],
   "source": [
    "# 막대그래프 그리기\n",
    "options(scipen=100)\n",
    "options(warn = -1)\n",
    "par(family = 'AppleGothic')\n",
    "barplot(GDP_ranking15$GDP / 1000, # GDP상위 15개국 Data\n",
    "        main = \"2018년 GDP 세계 15위 국가\",\n",
    "        xlab = \"국가(Nation)\",\n",
    "        ylab = \"단위(천달러)\",\n",
    "        names = GDP_ranking15$Code,\n",
    "        cex.names = 0.7,\n",
    "        #col = c(rep(\"mistyrose\",2), rep(\"lavender\",9), \"mistyrose\", rep('lavender',3)),\n",
    "        col = ifelse(GDP_ranking15$Code == c('USA','CHN','KOR'), \"mistyrose\", \"Light steel blue\"),\n",
    "        ylim = c(0 , 25000)\n",
    "     )"
   ]
  },
  {
   "cell_type": "code",
   "execution_count": 24,
   "metadata": {
    "vscode": {
     "languageId": "r"
    }
   },
   "outputs": [
    {
     "data": {
      "image/png": "[encoded data removed]",
      "text/plain": [
       "Plot with title “2018년 GDP 세계 15위 국가”"
      ]
     },
     "metadata": {},
     "output_type": "display_data"
    }
   ],
   "source": [
    "# GDP가 3000 이상인 국가 만 빨간색으로 표시하기\n",
    "options(scipen=100)\n",
    "options(warn = -1)\n",
    "par(family = 'AppleGothic')\n",
    "barplot(GDP_ranking15$GDP / 1000, # GDP상위 15개국 Data\n",
    "        main = \"2018년 GDP 세계 15위 국가\",\n",
    "        xlab = \"국가(Nation)\",\n",
    "        ylab = \"단위(천달러)\",\n",
    "        names = GDP_ranking15$Code,\n",
    "        cex.names = 0.7,\n",
    "        col = ifelse(GDP_ranking15$GDP/1000 >= 3000, \"mistyrose\", \"Light steel blue\"),\n",
    "        ylim = c(0 , 25000)\n",
    "     )\n"
   ]
  },
  {
   "cell_type": "markdown",
   "metadata": {},
   "source": [
    "---\n",
    "# 데이터 처리\n",
    "##### 주구장창 쓸거임"
   ]
  },
  {
   "cell_type": "code",
   "execution_count": 25,
   "metadata": {
    "vscode": {
     "languageId": "r"
    }
   },
   "outputs": [
    {
     "name": "stderr",
     "output_type": "stream",
     "text": [
      "\n",
      "Attaching package: ‘dplyr’\n",
      "\n",
      "The following objects are masked from ‘package:stats’:\n",
      "\n",
      "    filter, lag\n",
      "\n",
      "The following objects are masked from ‘package:base’:\n",
      "\n",
      "    intersect, setdiff, setequal, union\n",
      "\n"
     ]
    }
   ],
   "source": [
    "# 데이터 정렬하기\n",
    "library(dplyr)"
   ]
  },
  {
   "cell_type": "code",
   "execution_count": 26,
   "metadata": {
    "vscode": {
     "languageId": "r"
    }
   },
   "outputs": [
    {
     "data": {
      "text/html": [
       "<table>\n",
       "<thead><tr><th scope=col>Sepal.Length</th><th scope=col>Sepal.Width</th><th scope=col>Petal.Length</th><th scope=col>Petal.Width</th><th scope=col>Species</th></tr></thead>\n",
       "<tbody>\n",
       "\t<tr><td>4.3   </td><td>3.0   </td><td>1.1   </td><td>0.1   </td><td>setosa</td></tr>\n",
       "\t<tr><td>4.4   </td><td>2.9   </td><td>1.4   </td><td>0.2   </td><td>setosa</td></tr>\n",
       "\t<tr><td>4.4   </td><td>3.0   </td><td>1.3   </td><td>0.2   </td><td>setosa</td></tr>\n",
       "\t<tr><td>4.4   </td><td>3.2   </td><td>1.3   </td><td>0.2   </td><td>setosa</td></tr>\n",
       "\t<tr><td>4.5   </td><td>2.3   </td><td>1.3   </td><td>0.3   </td><td>setosa</td></tr>\n",
       "\t<tr><td>4.6   </td><td>3.1   </td><td>1.5   </td><td>0.2   </td><td>setosa</td></tr>\n",
       "</tbody>\n",
       "</table>\n"
      ],
      "text/latex": [
       "\\begin{tabular}{r|lllll}\n",
       " Sepal.Length & Sepal.Width & Petal.Length & Petal.Width & Species\\\\\n",
       "\\hline\n",
       "\t 4.3    & 3.0    & 1.1    & 0.1    & setosa\\\\\n",
       "\t 4.4    & 2.9    & 1.4    & 0.2    & setosa\\\\\n",
       "\t 4.4    & 3.0    & 1.3    & 0.2    & setosa\\\\\n",
       "\t 4.4    & 3.2    & 1.3    & 0.2    & setosa\\\\\n",
       "\t 4.5    & 2.3    & 1.3    & 0.3    & setosa\\\\\n",
       "\t 4.6    & 3.1    & 1.5    & 0.2    & setosa\\\\\n",
       "\\end{tabular}\n"
      ],
      "text/markdown": [
       "\n",
       "| Sepal.Length | Sepal.Width | Petal.Length | Petal.Width | Species |\n",
       "|---|---|---|---|---|\n",
       "| 4.3    | 3.0    | 1.1    | 0.1    | setosa |\n",
       "| 4.4    | 2.9    | 1.4    | 0.2    | setosa |\n",
       "| 4.4    | 3.0    | 1.3    | 0.2    | setosa |\n",
       "| 4.4    | 3.2    | 1.3    | 0.2    | setosa |\n",
       "| 4.5    | 2.3    | 1.3    | 0.3    | setosa |\n",
       "| 4.6    | 3.1    | 1.5    | 0.2    | setosa |\n",
       "\n"
      ],
      "text/plain": [
       "  Sepal.Length Sepal.Width Petal.Length Petal.Width Species\n",
       "1 4.3          3.0         1.1          0.1         setosa \n",
       "2 4.4          2.9         1.4          0.2         setosa \n",
       "3 4.4          3.0         1.3          0.2         setosa \n",
       "4 4.4          3.2         1.3          0.2         setosa \n",
       "5 4.5          2.3         1.3          0.3         setosa \n",
       "6 4.6          3.1         1.5          0.2         setosa "
      ]
     },
     "metadata": {},
     "output_type": "display_data"
    }
   ],
   "source": [
    "# iris Sepal.length 기준으로 오름차순 정렬하기\n",
    "# 1차 정렬\n",
    "head(arrange(iris, Sepal.Length))"
   ]
  },
  {
   "cell_type": "code",
   "execution_count": 27,
   "metadata": {
    "vscode": {
     "languageId": "r"
    }
   },
   "outputs": [
    {
     "data": {
      "text/html": [
       "<table>\n",
       "<thead><tr><th scope=col>Sepal.Length</th><th scope=col>Sepal.Width</th><th scope=col>Petal.Length</th><th scope=col>Petal.Width</th><th scope=col>Species</th></tr></thead>\n",
       "<tbody>\n",
       "\t<tr><td>4.3   </td><td>3.0   </td><td>1.1   </td><td>0.1   </td><td>setosa</td></tr>\n",
       "\t<tr><td>4.4   </td><td>3.0   </td><td>1.3   </td><td>0.2   </td><td>setosa</td></tr>\n",
       "\t<tr><td>4.4   </td><td>3.2   </td><td>1.3   </td><td>0.2   </td><td>setosa</td></tr>\n",
       "\t<tr><td>4.4   </td><td>2.9   </td><td>1.4   </td><td>0.2   </td><td>setosa</td></tr>\n",
       "\t<tr><td>4.5   </td><td>2.3   </td><td>1.3   </td><td>0.3   </td><td>setosa</td></tr>\n",
       "\t<tr><td>4.6   </td><td>3.6   </td><td>1.0   </td><td>0.2   </td><td>setosa</td></tr>\n",
       "</tbody>\n",
       "</table>\n"
      ],
      "text/latex": [
       "\\begin{tabular}{r|lllll}\n",
       " Sepal.Length & Sepal.Width & Petal.Length & Petal.Width & Species\\\\\n",
       "\\hline\n",
       "\t 4.3    & 3.0    & 1.1    & 0.1    & setosa\\\\\n",
       "\t 4.4    & 3.0    & 1.3    & 0.2    & setosa\\\\\n",
       "\t 4.4    & 3.2    & 1.3    & 0.2    & setosa\\\\\n",
       "\t 4.4    & 2.9    & 1.4    & 0.2    & setosa\\\\\n",
       "\t 4.5    & 2.3    & 1.3    & 0.3    & setosa\\\\\n",
       "\t 4.6    & 3.6    & 1.0    & 0.2    & setosa\\\\\n",
       "\\end{tabular}\n"
      ],
      "text/markdown": [
       "\n",
       "| Sepal.Length | Sepal.Width | Petal.Length | Petal.Width | Species |\n",
       "|---|---|---|---|---|\n",
       "| 4.3    | 3.0    | 1.1    | 0.1    | setosa |\n",
       "| 4.4    | 3.0    | 1.3    | 0.2    | setosa |\n",
       "| 4.4    | 3.2    | 1.3    | 0.2    | setosa |\n",
       "| 4.4    | 2.9    | 1.4    | 0.2    | setosa |\n",
       "| 4.5    | 2.3    | 1.3    | 0.3    | setosa |\n",
       "| 4.6    | 3.6    | 1.0    | 0.2    | setosa |\n",
       "\n"
      ],
      "text/plain": [
       "  Sepal.Length Sepal.Width Petal.Length Petal.Width Species\n",
       "1 4.3          3.0         1.1          0.1         setosa \n",
       "2 4.4          3.0         1.3          0.2         setosa \n",
       "3 4.4          3.2         1.3          0.2         setosa \n",
       "4 4.4          2.9         1.4          0.2         setosa \n",
       "5 4.5          2.3         1.3          0.3         setosa \n",
       "6 4.6          3.6         1.0          0.2         setosa "
      ]
     },
     "metadata": {},
     "output_type": "display_data"
    }
   ],
   "source": [
    "# iris Sepal.Length 기준으로 정령 후 동일한 크기를 가진 데이터 발생 시 Petal.Length 기준으로 오름차순 정렬\n",
    "# 1차 정렬, 2차 정렬\n",
    "head(arrange(iris, Sepal.Length, Petal.Length))"
   ]
  },
  {
   "cell_type": "code",
   "execution_count": 28,
   "metadata": {
    "vscode": {
     "languageId": "r"
    }
   },
   "outputs": [
    {
     "data": {
      "text/html": [
       "<table>\n",
       "<thead><tr><th scope=col>Sepal.Length</th><th scope=col>Sepal.Width</th><th scope=col>Petal.Length</th><th scope=col>Petal.Width</th><th scope=col>Species</th></tr></thead>\n",
       "<tbody>\n",
       "\t<tr><td>7.9      </td><td>3.8      </td><td>6.4      </td><td>2.0      </td><td>virginica</td></tr>\n",
       "\t<tr><td>7.7      </td><td>3.8      </td><td>6.7      </td><td>2.2      </td><td>virginica</td></tr>\n",
       "\t<tr><td>7.7      </td><td>2.6      </td><td>6.9      </td><td>2.3      </td><td>virginica</td></tr>\n",
       "\t<tr><td>7.7      </td><td>2.8      </td><td>6.7      </td><td>2.0      </td><td>virginica</td></tr>\n",
       "\t<tr><td>7.7      </td><td>3.0      </td><td>6.1      </td><td>2.3      </td><td>virginica</td></tr>\n",
       "\t<tr><td>7.6      </td><td>3.0      </td><td>6.6      </td><td>2.1      </td><td>virginica</td></tr>\n",
       "</tbody>\n",
       "</table>\n"
      ],
      "text/latex": [
       "\\begin{tabular}{r|lllll}\n",
       " Sepal.Length & Sepal.Width & Petal.Length & Petal.Width & Species\\\\\n",
       "\\hline\n",
       "\t 7.9       & 3.8       & 6.4       & 2.0       & virginica\\\\\n",
       "\t 7.7       & 3.8       & 6.7       & 2.2       & virginica\\\\\n",
       "\t 7.7       & 2.6       & 6.9       & 2.3       & virginica\\\\\n",
       "\t 7.7       & 2.8       & 6.7       & 2.0       & virginica\\\\\n",
       "\t 7.7       & 3.0       & 6.1       & 2.3       & virginica\\\\\n",
       "\t 7.6       & 3.0       & 6.6       & 2.1       & virginica\\\\\n",
       "\\end{tabular}\n"
      ],
      "text/markdown": [
       "\n",
       "| Sepal.Length | Sepal.Width | Petal.Length | Petal.Width | Species |\n",
       "|---|---|---|---|---|\n",
       "| 7.9       | 3.8       | 6.4       | 2.0       | virginica |\n",
       "| 7.7       | 3.8       | 6.7       | 2.2       | virginica |\n",
       "| 7.7       | 2.6       | 6.9       | 2.3       | virginica |\n",
       "| 7.7       | 2.8       | 6.7       | 2.0       | virginica |\n",
       "| 7.7       | 3.0       | 6.1       | 2.3       | virginica |\n",
       "| 7.6       | 3.0       | 6.6       | 2.1       | virginica |\n",
       "\n"
      ],
      "text/plain": [
       "  Sepal.Length Sepal.Width Petal.Length Petal.Width Species  \n",
       "1 7.9          3.8         6.4          2.0         virginica\n",
       "2 7.7          3.8         6.7          2.2         virginica\n",
       "3 7.7          2.6         6.9          2.3         virginica\n",
       "4 7.7          2.8         6.7          2.0         virginica\n",
       "5 7.7          3.0         6.1          2.3         virginica\n",
       "6 7.6          3.0         6.6          2.1         virginica"
      ]
     },
     "metadata": {},
     "output_type": "display_data"
    }
   ],
   "source": [
    "# Sepal.Length 기준으로 내림차순 정렬\n",
    "# 내림차순 할 컬럼에 desc() 를 걸어주면 된다.\n",
    "head(arrange(iris, desc(Sepal.Length)))"
   ]
  },
  {
   "cell_type": "code",
   "execution_count": 29,
   "metadata": {
    "vscode": {
     "languageId": "r"
    }
   },
   "outputs": [
    {
     "data": {
      "text/html": [
       "<table>\n",
       "<thead><tr><th scope=col>Sepal.Length</th><th scope=col>Sepal.Width</th></tr></thead>\n",
       "<tbody>\n",
       "\t<tr><td>7.9</td><td>3.8</td></tr>\n",
       "\t<tr><td>7.7</td><td>3.8</td></tr>\n",
       "\t<tr><td>7.7</td><td>2.6</td></tr>\n",
       "\t<tr><td>7.7</td><td>2.8</td></tr>\n",
       "\t<tr><td>7.7</td><td>3.0</td></tr>\n",
       "\t<tr><td>7.6</td><td>3.0</td></tr>\n",
       "</tbody>\n",
       "</table>\n"
      ],
      "text/latex": [
       "\\begin{tabular}{r|ll}\n",
       " Sepal.Length & Sepal.Width\\\\\n",
       "\\hline\n",
       "\t 7.9 & 3.8\\\\\n",
       "\t 7.7 & 3.8\\\\\n",
       "\t 7.7 & 2.6\\\\\n",
       "\t 7.7 & 2.8\\\\\n",
       "\t 7.7 & 3.0\\\\\n",
       "\t 7.6 & 3.0\\\\\n",
       "\\end{tabular}\n"
      ],
      "text/markdown": [
       "\n",
       "| Sepal.Length | Sepal.Width |\n",
       "|---|---|\n",
       "| 7.9 | 3.8 |\n",
       "| 7.7 | 3.8 |\n",
       "| 7.7 | 2.6 |\n",
       "| 7.7 | 2.8 |\n",
       "| 7.7 | 3.0 |\n",
       "| 7.6 | 3.0 |\n",
       "\n"
      ],
      "text/plain": [
       "  Sepal.Length Sepal.Width\n",
       "1 7.9          3.8        \n",
       "2 7.7          3.8        \n",
       "3 7.7          2.6        \n",
       "4 7.7          2.8        \n",
       "5 7.7          3.0        \n",
       "6 7.6          3.0        "
      ]
     },
     "metadata": {},
     "output_type": "display_data"
    },
    {
     "data": {
      "text/html": [
       "<table>\n",
       "<thead><tr><th scope=col>Sepal.Length</th><th scope=col>Sepal.Width</th></tr></thead>\n",
       "<tbody>\n",
       "\t<tr><td>7.9</td><td>3.8</td></tr>\n",
       "\t<tr><td>7.7</td><td>3.8</td></tr>\n",
       "\t<tr><td>7.7</td><td>2.6</td></tr>\n",
       "\t<tr><td>7.7</td><td>2.8</td></tr>\n",
       "\t<tr><td>7.7</td><td>3.0</td></tr>\n",
       "\t<tr><td>7.6</td><td>3.0</td></tr>\n",
       "</tbody>\n",
       "</table>\n"
      ],
      "text/latex": [
       "\\begin{tabular}{r|ll}\n",
       " Sepal.Length & Sepal.Width\\\\\n",
       "\\hline\n",
       "\t 7.9 & 3.8\\\\\n",
       "\t 7.7 & 3.8\\\\\n",
       "\t 7.7 & 2.6\\\\\n",
       "\t 7.7 & 2.8\\\\\n",
       "\t 7.7 & 3.0\\\\\n",
       "\t 7.6 & 3.0\\\\\n",
       "\\end{tabular}\n"
      ],
      "text/markdown": [
       "\n",
       "| Sepal.Length | Sepal.Width |\n",
       "|---|---|\n",
       "| 7.9 | 3.8 |\n",
       "| 7.7 | 3.8 |\n",
       "| 7.7 | 2.6 |\n",
       "| 7.7 | 2.8 |\n",
       "| 7.7 | 3.0 |\n",
       "| 7.6 | 3.0 |\n",
       "\n"
      ],
      "text/plain": [
       "  Sepal.Length Sepal.Width\n",
       "1 7.9          3.8        \n",
       "2 7.7          3.8        \n",
       "3 7.7          2.6        \n",
       "4 7.7          2.8        \n",
       "5 7.7          3.0        \n",
       "6 7.6          3.0        "
      ]
     },
     "metadata": {},
     "output_type": "display_data"
    }
   ],
   "source": [
    "# Sepal.Length 기준으로 내림차순 정렬 후 Sepal.Length와 Sepal.Width 만 보기\n",
    "head(arrange(iris, desc(Sepal.Length))[,1:2])\n",
    "head(arrange(iris[,1:2], desc(Sepal.Length)))"
   ]
  },
  {
   "cell_type": "markdown",
   "metadata": {},
   "source": [
    "---\n",
    "# 샘플링(Sampling)\n",
    "- 샘플링한 데이터가 모집단의 의미를 가지고 있어야 가치가 있다. (meaningful)\n",
    "- 특징을 알아야 샘플링을 할 수 있다"
   ]
  },
  {
   "cell_type": "code",
   "execution_count": 30,
   "metadata": {
    "vscode": {
     "languageId": "r"
    }
   },
   "outputs": [
    {
     "data": {
      "text/html": [
       "<ol class=list-inline>\n",
       "\t<li>3</li>\n",
       "\t<li>37</li>\n",
       "\t<li>9</li>\n",
       "\t<li>36</li>\n",
       "\t<li>26</li>\n",
       "\t<li>4</li>\n",
       "</ol>\n"
      ],
      "text/latex": [
       "\\begin{enumerate*}\n",
       "\\item 3\n",
       "\\item 37\n",
       "\\item 9\n",
       "\\item 36\n",
       "\\item 26\n",
       "\\item 4\n",
       "\\end{enumerate*}\n"
      ],
      "text/markdown": [
       "1. 3\n",
       "2. 37\n",
       "3. 9\n",
       "4. 36\n",
       "5. 26\n",
       "6. 4\n",
       "\n",
       "\n"
      ],
      "text/plain": [
       "[1]  3 37  9 36 26  4"
      ]
     },
     "metadata": {},
     "output_type": "display_data"
    }
   ],
   "source": [
    "# 랜덤 샘플링 (중복값을 허용하지 않음)\n",
    "sample(1:45 , 6)"
   ]
  },
  {
   "cell_type": "code",
   "execution_count": 31,
   "metadata": {
    "vscode": {
     "languageId": "r"
    }
   },
   "outputs": [
    {
     "data": {
      "text/html": [
       "150"
      ],
      "text/latex": [
       "150"
      ],
      "text/markdown": [
       "150"
      ],
      "text/plain": [
       "[1] 150"
      ]
     },
     "metadata": {},
     "output_type": "display_data"
    },
    {
     "data": {
      "text/html": [
       "5"
      ],
      "text/latex": [
       "5"
      ],
      "text/markdown": [
       "5"
      ],
      "text/plain": [
       "[1] 5"
      ]
     },
     "metadata": {},
     "output_type": "display_data"
    }
   ],
   "source": [
    "nrow(iris)\n",
    "ncol(iris)"
   ]
  },
  {
   "cell_type": "code",
   "execution_count": 32,
   "metadata": {
    "vscode": {
     "languageId": "r"
    }
   },
   "outputs": [
    {
     "data": {
      "text/html": [
       "<ol class=list-inline>\n",
       "\t<li>112</li>\n",
       "\t<li>133</li>\n",
       "\t<li>39</li>\n",
       "\t<li>49</li>\n",
       "\t<li>67</li>\n",
       "\t<li>55</li>\n",
       "</ol>\n"
      ],
      "text/latex": [
       "\\begin{enumerate*}\n",
       "\\item 112\n",
       "\\item 133\n",
       "\\item 39\n",
       "\\item 49\n",
       "\\item 67\n",
       "\\item 55\n",
       "\\end{enumerate*}\n"
      ],
      "text/markdown": [
       "1. 112\n",
       "2. 133\n",
       "3. 39\n",
       "4. 49\n",
       "5. 67\n",
       "6. 55\n",
       "\n",
       "\n"
      ],
      "text/plain": [
       "[1] 112 133  39  49  67  55"
      ]
     },
     "metadata": {},
     "output_type": "display_data"
    }
   ],
   "source": [
    "samp <- sample(1:nrow(iris), nrow(iris)*0.7)\n",
    "head(samp)"
   ]
  },
  {
   "cell_type": "code",
   "execution_count": 33,
   "metadata": {
    "vscode": {
     "languageId": "r"
    }
   },
   "outputs": [
    {
     "data": {
      "text/html": [
       "<table>\n",
       "<thead><tr><th></th><th scope=col>Sepal.Length</th><th scope=col>Sepal.Width</th><th scope=col>Petal.Length</th><th scope=col>Petal.Width</th><th scope=col>Species</th></tr></thead>\n",
       "<tbody>\n",
       "\t<tr><th scope=row>112</th><td>6.4       </td><td>2.7       </td><td>5.3       </td><td>1.9       </td><td>virginica </td></tr>\n",
       "\t<tr><th scope=row>133</th><td>6.4       </td><td>2.8       </td><td>5.6       </td><td>2.2       </td><td>virginica </td></tr>\n",
       "\t<tr><th scope=row>39</th><td>4.4       </td><td>3.0       </td><td>1.3       </td><td>0.2       </td><td>setosa    </td></tr>\n",
       "\t<tr><th scope=row>49</th><td>5.3       </td><td>3.7       </td><td>1.5       </td><td>0.2       </td><td>setosa    </td></tr>\n",
       "\t<tr><th scope=row>67</th><td>5.6       </td><td>3.0       </td><td>4.5       </td><td>1.5       </td><td>versicolor</td></tr>\n",
       "\t<tr><th scope=row>55</th><td>6.5       </td><td>2.8       </td><td>4.6       </td><td>1.5       </td><td>versicolor</td></tr>\n",
       "</tbody>\n",
       "</table>\n"
      ],
      "text/latex": [
       "\\begin{tabular}{r|lllll}\n",
       "  & Sepal.Length & Sepal.Width & Petal.Length & Petal.Width & Species\\\\\n",
       "\\hline\n",
       "\t112 & 6.4        & 2.7        & 5.3        & 1.9        & virginica \\\\\n",
       "\t133 & 6.4        & 2.8        & 5.6        & 2.2        & virginica \\\\\n",
       "\t39 & 4.4        & 3.0        & 1.3        & 0.2        & setosa    \\\\\n",
       "\t49 & 5.3        & 3.7        & 1.5        & 0.2        & setosa    \\\\\n",
       "\t67 & 5.6        & 3.0        & 4.5        & 1.5        & versicolor\\\\\n",
       "\t55 & 6.5        & 2.8        & 4.6        & 1.5        & versicolor\\\\\n",
       "\\end{tabular}\n"
      ],
      "text/markdown": [
       "\n",
       "| <!--/--> | Sepal.Length | Sepal.Width | Petal.Length | Petal.Width | Species |\n",
       "|---|---|---|---|---|---|\n",
       "| 112 | 6.4        | 2.7        | 5.3        | 1.9        | virginica  |\n",
       "| 133 | 6.4        | 2.8        | 5.6        | 2.2        | virginica  |\n",
       "| 39 | 4.4        | 3.0        | 1.3        | 0.2        | setosa     |\n",
       "| 49 | 5.3        | 3.7        | 1.5        | 0.2        | setosa     |\n",
       "| 67 | 5.6        | 3.0        | 4.5        | 1.5        | versicolor |\n",
       "| 55 | 6.5        | 2.8        | 4.6        | 1.5        | versicolor |\n",
       "\n"
      ],
      "text/plain": [
       "    Sepal.Length Sepal.Width Petal.Length Petal.Width Species   \n",
       "112 6.4          2.7         5.3          1.9         virginica \n",
       "133 6.4          2.8         5.6          2.2         virginica \n",
       "39  4.4          3.0         1.3          0.2         setosa    \n",
       "49  5.3          3.7         1.5          0.2         setosa    \n",
       "67  5.6          3.0         4.5          1.5         versicolor\n",
       "55  6.5          2.8         4.6          1.5         versicolor"
      ]
     },
     "metadata": {},
     "output_type": "display_data"
    },
    {
     "data": {
      "text/plain": [
       "  Sepal.Length    Sepal.Width     Petal.Length    Petal.Width   \n",
       " Min.   :4.300   Min.   :2.000   Min.   :1.000   Min.   :0.100  \n",
       " 1st Qu.:5.100   1st Qu.:2.800   1st Qu.:1.500   1st Qu.:0.300  \n",
       " Median :5.800   Median :3.000   Median :4.400   Median :1.300  \n",
       " Mean   :5.825   Mean   :3.055   Mean   :3.757   Mean   :1.193  \n",
       " 3rd Qu.:6.400   3rd Qu.:3.300   3rd Qu.:5.100   3rd Qu.:1.800  \n",
       " Max.   :7.900   Max.   :4.400   Max.   :6.900   Max.   :2.500  \n",
       "       Species  \n",
       " setosa    :35  \n",
       " versicolor:35  \n",
       " virginica :35  \n",
       "                \n",
       "                \n",
       "                "
      ]
     },
     "metadata": {},
     "output_type": "display_data"
    },
    {
     "data": {
      "text/plain": [
       "  Sepal.Length    Sepal.Width     Petal.Length    Petal.Width   \n",
       " Min.   :4.300   Min.   :2.000   Min.   :1.000   Min.   :0.100  \n",
       " 1st Qu.:5.100   1st Qu.:2.800   1st Qu.:1.600   1st Qu.:0.300  \n",
       " Median :5.800   Median :3.000   Median :4.350   Median :1.300  \n",
       " Mean   :5.843   Mean   :3.057   Mean   :3.758   Mean   :1.199  \n",
       " 3rd Qu.:6.400   3rd Qu.:3.300   3rd Qu.:5.100   3rd Qu.:1.800  \n",
       " Max.   :7.900   Max.   :4.400   Max.   :6.900   Max.   :2.500  \n",
       "       Species  \n",
       " setosa    :50  \n",
       " versicolor:50  \n",
       " virginica :50  \n",
       "                \n",
       "                \n",
       "                "
      ]
     },
     "metadata": {},
     "output_type": "display_data"
    },
    {
     "data": {
      "text/plain": [
       "\n",
       "    setosa versicolor  virginica \n",
       "        35         35         35 "
      ]
     },
     "metadata": {},
     "output_type": "display_data"
    }
   ],
   "source": [
    "irisSamp <- iris[samp,]\n",
    "head(irisSamp)\n",
    "summary(irisSamp) # Species 종이 1:1:1 인 특성이 망가졌다. 샘플 실패 # 특징을 알아야 샘플링을 할 수 있다\n",
    "summary(iris) \n",
    "table(irisSamp$Species)\n"
   ]
  },
  {
   "cell_type": "code",
   "execution_count": 34,
   "metadata": {
    "vscode": {
     "languageId": "r"
    }
   },
   "outputs": [],
   "source": [
    "# iris Sampling시 Species 별로 Sampling 한다\n",
    "samp <- c(sample(1:50, 35) , sample(55:100, 35) , sample(101:150, 35))\n"
   ]
  },
  {
   "cell_type": "code",
   "execution_count": 35,
   "metadata": {
    "vscode": {
     "languageId": "r"
    }
   },
   "outputs": [
    {
     "data": {
      "text/plain": [
       "\n",
       "    setosa versicolor  virginica \n",
       "        35         35         35 "
      ]
     },
     "metadata": {},
     "output_type": "display_data"
    }
   ],
   "source": [
    "irisSamp <- iris[samp,]\n",
    "table(irisSamp$Species)"
   ]
  },
  {
   "cell_type": "code",
   "execution_count": 36,
   "metadata": {
    "vscode": {
     "languageId": "r"
    }
   },
   "outputs": [],
   "source": [
    "# Training DAta와 Test Data 분리하기\n",
    "iris.train <- iris[samp,]\n",
    "iris.test <- iris[-samp,]"
   ]
  },
  {
   "cell_type": "code",
   "execution_count": 37,
   "metadata": {
    "vscode": {
     "languageId": "r"
    }
   },
   "outputs": [
    {
     "data": {
      "text/plain": [
       "  Sepal.Length    Sepal.Width     Petal.Length    Petal.Width   \n",
       " Min.   :4.300   Min.   :2.000   Min.   :1.000   Min.   :0.100  \n",
       " 1st Qu.:5.100   1st Qu.:2.800   1st Qu.:1.500   1st Qu.:0.300  \n",
       " Median :5.800   Median :3.000   Median :4.300   Median :1.300  \n",
       " Mean   :5.812   Mean   :3.047   Mean   :3.736   Mean   :1.208  \n",
       " 3rd Qu.:6.400   3rd Qu.:3.400   3rd Qu.:5.100   3rd Qu.:1.800  \n",
       " Max.   :7.700   Max.   :4.400   Max.   :6.900   Max.   :2.500  \n",
       "       Species  \n",
       " setosa    :35  \n",
       " versicolor:35  \n",
       " virginica :35  \n",
       "                \n",
       "                \n",
       "                "
      ]
     },
     "metadata": {},
     "output_type": "display_data"
    },
    {
     "data": {
      "text/plain": [
       "  Sepal.Length    Sepal.Width     Petal.Length    Petal.Width         Species  \n",
       " Min.   :4.400   Min.   :2.200   Min.   :1.400   Min.   :0.10   setosa    :15  \n",
       " 1st Qu.:5.200   1st Qu.:2.900   1st Qu.:1.600   1st Qu.:0.20   versicolor:15  \n",
       " Median :5.900   Median :3.100   Median :4.500   Median :1.40   virginica :15  \n",
       " Mean   :5.916   Mean   :3.082   Mean   :3.809   Mean   :1.18                  \n",
       " 3rd Qu.:6.500   3rd Qu.:3.300   3rd Qu.:5.100   3rd Qu.:1.80                  \n",
       " Max.   :7.900   Max.   :4.200   Max.   :6.400   Max.   :2.50                  "
      ]
     },
     "metadata": {},
     "output_type": "display_data"
    }
   ],
   "source": [
    "summary(iris.train)\n",
    "summary(iris.test)"
   ]
  },
  {
   "cell_type": "markdown",
   "metadata": {},
   "source": [
    "--- \n",
    "# 부분 집합"
   ]
  },
  {
   "cell_type": "code",
   "execution_count": 38,
   "metadata": {
    "vscode": {
     "languageId": "r"
    }
   },
   "outputs": [
    {
     "data": {
      "text/html": [
       "<table>\n",
       "<thead><tr><th scope=col>Sepal.Length</th><th scope=col>Sepal.Width</th><th scope=col>Petal.Length</th><th scope=col>Petal.Width</th><th scope=col>Species</th></tr></thead>\n",
       "<tbody>\n",
       "\t<tr><td>5.1   </td><td>3.5   </td><td>1.4   </td><td>0.2   </td><td>setosa</td></tr>\n",
       "\t<tr><td>4.9   </td><td>3.0   </td><td>1.4   </td><td>0.2   </td><td>setosa</td></tr>\n",
       "\t<tr><td>4.7   </td><td>3.2   </td><td>1.3   </td><td>0.2   </td><td>setosa</td></tr>\n",
       "\t<tr><td>4.6   </td><td>3.1   </td><td>1.5   </td><td>0.2   </td><td>setosa</td></tr>\n",
       "\t<tr><td>5.0   </td><td>3.6   </td><td>1.4   </td><td>0.2   </td><td>setosa</td></tr>\n",
       "\t<tr><td>5.4   </td><td>3.9   </td><td>1.7   </td><td>0.4   </td><td>setosa</td></tr>\n",
       "</tbody>\n",
       "</table>\n"
      ],
      "text/latex": [
       "\\begin{tabular}{r|lllll}\n",
       " Sepal.Length & Sepal.Width & Petal.Length & Petal.Width & Species\\\\\n",
       "\\hline\n",
       "\t 5.1    & 3.5    & 1.4    & 0.2    & setosa\\\\\n",
       "\t 4.9    & 3.0    & 1.4    & 0.2    & setosa\\\\\n",
       "\t 4.7    & 3.2    & 1.3    & 0.2    & setosa\\\\\n",
       "\t 4.6    & 3.1    & 1.5    & 0.2    & setosa\\\\\n",
       "\t 5.0    & 3.6    & 1.4    & 0.2    & setosa\\\\\n",
       "\t 5.4    & 3.9    & 1.7    & 0.4    & setosa\\\\\n",
       "\\end{tabular}\n"
      ],
      "text/markdown": [
       "\n",
       "| Sepal.Length | Sepal.Width | Petal.Length | Petal.Width | Species |\n",
       "|---|---|---|---|---|\n",
       "| 5.1    | 3.5    | 1.4    | 0.2    | setosa |\n",
       "| 4.9    | 3.0    | 1.4    | 0.2    | setosa |\n",
       "| 4.7    | 3.2    | 1.3    | 0.2    | setosa |\n",
       "| 4.6    | 3.1    | 1.5    | 0.2    | setosa |\n",
       "| 5.0    | 3.6    | 1.4    | 0.2    | setosa |\n",
       "| 5.4    | 3.9    | 1.7    | 0.4    | setosa |\n",
       "\n"
      ],
      "text/plain": [
       "  Sepal.Length Sepal.Width Petal.Length Petal.Width Species\n",
       "1 5.1          3.5         1.4          0.2         setosa \n",
       "2 4.9          3.0         1.4          0.2         setosa \n",
       "3 4.7          3.2         1.3          0.2         setosa \n",
       "4 4.6          3.1         1.5          0.2         setosa \n",
       "5 5.0          3.6         1.4          0.2         setosa \n",
       "6 5.4          3.9         1.7          0.4         setosa "
      ]
     },
     "metadata": {},
     "output_type": "display_data"
    },
    {
     "data": {
      "text/plain": [
       "  Sepal.Length    Sepal.Width     Petal.Length    Petal.Width   \n",
       " Min.   :4.300   Min.   :2.300   Min.   :1.000   Min.   :0.100  \n",
       " 1st Qu.:4.800   1st Qu.:3.200   1st Qu.:1.400   1st Qu.:0.200  \n",
       " Median :5.000   Median :3.400   Median :1.500   Median :0.200  \n",
       " Mean   :5.006   Mean   :3.428   Mean   :1.462   Mean   :0.246  \n",
       " 3rd Qu.:5.200   3rd Qu.:3.675   3rd Qu.:1.575   3rd Qu.:0.300  \n",
       " Max.   :5.800   Max.   :4.400   Max.   :1.900   Max.   :0.600  \n",
       "       Species  \n",
       " setosa    :50  \n",
       " versicolor: 0  \n",
       " virginica : 0  \n",
       "                \n",
       "                \n",
       "                "
      ]
     },
     "metadata": {},
     "output_type": "display_data"
    },
    {
     "name": "stdout",
     "output_type": "stream",
     "text": [
      "'data.frame':\t50 obs. of  5 variables:\n",
      " $ Sepal.Length: num  5.1 4.9 4.7 4.6 5 5.4 4.6 5 4.4 4.9 ...\n",
      " $ Sepal.Width : num  3.5 3 3.2 3.1 3.6 3.9 3.4 3.4 2.9 3.1 ...\n",
      " $ Petal.Length: num  1.4 1.4 1.3 1.5 1.4 1.7 1.4 1.5 1.4 1.5 ...\n",
      " $ Petal.Width : num  0.2 0.2 0.2 0.2 0.2 0.4 0.3 0.2 0.2 0.1 ...\n",
      " $ Species     : Factor w/ 3 levels \"setosa\",\"versicolor\",..: 1 1 1 1 1 1 1 1 1 1 ...\n"
     ]
    }
   ],
   "source": [
    "# iris에서 Species가 Setosa인 것만 추출하여 iris_setosa라는 데이터프레임 만들기\n",
    "iris_setosa <- subset(iris, Species == 'setosa')\n",
    "head(iris_setosa)\n",
    "summary(iris_setosa)\n",
    "str(iris_setosa)"
   ]
  },
  {
   "cell_type": "code",
   "execution_count": 39,
   "metadata": {
    "vscode": {
     "languageId": "r"
    }
   },
   "outputs": [
    {
     "name": "stdout",
     "output_type": "stream",
     "text": [
      "'data.frame':\t50 obs. of  5 variables:\n",
      " $ Sepal.Length: num  5.1 4.9 4.7 4.6 5 5.4 4.6 5 4.4 4.9 ...\n",
      " $ Sepal.Width : num  3.5 3 3.2 3.1 3.6 3.9 3.4 3.4 2.9 3.1 ...\n",
      " $ Petal.Length: num  1.4 1.4 1.3 1.5 1.4 1.7 1.4 1.5 1.4 1.5 ...\n",
      " $ Petal.Width : num  0.2 0.2 0.2 0.2 0.2 0.4 0.3 0.2 0.2 0.1 ...\n",
      " $ Species     : Factor w/ 1 level \"setosa\": 1 1 1 1 1 1 1 1 1 1 ...\n"
     ]
    }
   ],
   "source": [
    "iris_setosa$Species <- factor(iris_setosa$Species)\n",
    "str(iris_setosa)"
   ]
  },
  {
   "cell_type": "code",
   "execution_count": 40,
   "metadata": {
    "vscode": {
     "languageId": "r"
    }
   },
   "outputs": [
    {
     "name": "stdout",
     "output_type": "stream",
     "text": [
      "'data.frame':\t50 obs. of  5 variables:\n",
      " $ Sepal.Length: num  7 6.4 6.9 5.5 6.5 5.7 6.3 4.9 6.6 5.2 ...\n",
      " $ Sepal.Width : num  3.2 3.2 3.1 2.3 2.8 2.8 3.3 2.4 2.9 2.7 ...\n",
      " $ Petal.Length: num  4.7 4.5 4.9 4 4.6 4.5 4.7 3.3 4.6 3.9 ...\n",
      " $ Petal.Width : num  1.4 1.5 1.5 1.3 1.5 1.3 1.6 1 1.3 1.4 ...\n",
      " $ Species     : Factor w/ 1 level \"versicolor\": 1 1 1 1 1 1 1 1 1 1 ...\n",
      "   Sepal.Length Sepal.Width Petal.Length Petal.Width    Species\n",
      "1           7.0         3.2          4.7         1.4 versicolor\n",
      "2           6.4         3.2          4.5         1.5 versicolor\n",
      "3           6.9         3.1          4.9         1.5 versicolor\n",
      "4           5.5         2.3          4.0         1.3 versicolor\n",
      "5           6.5         2.8          4.6         1.5 versicolor\n",
      "6           5.7         2.8          4.5         1.3 versicolor\n",
      "7           6.3         3.3          4.7         1.6 versicolor\n",
      "8           4.9         2.4          3.3         1.0 versicolor\n",
      "9           6.6         2.9          4.6         1.3 versicolor\n",
      "10          5.2         2.7          3.9         1.4 versicolor\n",
      "11          5.0         2.0          3.5         1.0 versicolor\n",
      "12          5.9         3.0          4.2         1.5 versicolor\n",
      "13          6.0         2.2          4.0         1.0 versicolor\n",
      "14          6.1         2.9          4.7         1.4 versicolor\n",
      "15          5.6         2.9          3.6         1.3 versicolor\n",
      "16          6.7         3.1          4.4         1.4 versicolor\n",
      "17          5.6         3.0          4.5         1.5 versicolor\n",
      "18          5.8         2.7          4.1         1.0 versicolor\n",
      "19          6.2         2.2          4.5         1.5 versicolor\n",
      "20          5.6         2.5          3.9         1.1 versicolor\n",
      "21          5.9         3.2          4.8         1.8 versicolor\n",
      "22          6.1         2.8          4.0         1.3 versicolor\n",
      "23          6.3         2.5          4.9         1.5 versicolor\n",
      "24          6.1         2.8          4.7         1.2 versicolor\n",
      "25          6.4         2.9          4.3         1.3 versicolor\n",
      "26          6.6         3.0          4.4         1.4 versicolor\n",
      "27          6.8         2.8          4.8         1.4 versicolor\n",
      "28          6.7         3.0          5.0         1.7 versicolor\n",
      "29          6.0         2.9          4.5         1.5 versicolor\n",
      "30          5.7         2.6          3.5         1.0 versicolor\n",
      "31          5.5         2.4          3.8         1.1 versicolor\n",
      "32          5.5         2.4          3.7         1.0 versicolor\n",
      "33          5.8         2.7          3.9         1.2 versicolor\n",
      "34          6.0         2.7          5.1         1.6 versicolor\n",
      "35          5.4         3.0          4.5         1.5 versicolor\n",
      "36          6.0         3.4          4.5         1.6 versicolor\n",
      "37          6.7         3.1          4.7         1.5 versicolor\n",
      "38          6.3         2.3          4.4         1.3 versicolor\n",
      "39          5.6         3.0          4.1         1.3 versicolor\n",
      "40          5.5         2.5          4.0         1.3 versicolor\n",
      "41          5.5         2.6          4.4         1.2 versicolor\n",
      "42          6.1         3.0          4.6         1.4 versicolor\n",
      "43          5.8         2.6          4.0         1.2 versicolor\n",
      "44          5.0         2.3          3.3         1.0 versicolor\n",
      "45          5.6         2.7          4.2         1.3 versicolor\n",
      "46          5.7         3.0          4.2         1.2 versicolor\n",
      "47          5.7         2.9          4.2         1.3 versicolor\n",
      "48          6.2         2.9          4.3         1.3 versicolor\n",
      "49          5.1         2.5          3.0         1.1 versicolor\n",
      "50          5.7         2.8          4.1         1.3 versicolor\n"
     ]
    }
   ],
   "source": [
    "# iris 에서 Species가 versicolor인 것만 추출하여 iris_versicolor라는 데이터프레임 만들기\n",
    "iris_versicolor <- subset(iris, Species == 'versicolor')\n",
    "iris_versicolor$Species <- factor(iris_versicolor$Species)\n",
    "rownames(iris_versicolor) = c()\n",
    "str(iris_versicolor)\n",
    "print(iris_versicolor)"
   ]
  },
  {
   "cell_type": "code",
   "execution_count": 41,
   "metadata": {
    "vscode": {
     "languageId": "r"
    }
   },
   "outputs": [
    {
     "data": {
      "text/html": [
       "22"
      ],
      "text/latex": [
       "22"
      ],
      "text/markdown": [
       "22"
      ],
      "text/plain": [
       "[1] 22"
      ]
     },
     "metadata": {},
     "output_type": "display_data"
    },
    {
     "data": {
      "text/html": [
       "<table>\n",
       "<thead><tr><th></th><th scope=col>Sepal.Length</th><th scope=col>Sepal.Width</th><th scope=col>Petal.Length</th><th scope=col>Petal.Width</th><th scope=col>Species</th></tr></thead>\n",
       "<tbody>\n",
       "\t<tr><th scope=row>1</th><td>5.1   </td><td>3.5   </td><td>1.4   </td><td>0.2   </td><td>setosa</td></tr>\n",
       "\t<tr><th scope=row>6</th><td>5.4   </td><td>3.9   </td><td>1.7   </td><td>0.4   </td><td>setosa</td></tr>\n",
       "\t<tr><th scope=row>11</th><td>5.4   </td><td>3.7   </td><td>1.5   </td><td>0.2   </td><td>setosa</td></tr>\n",
       "\t<tr><th scope=row>15</th><td>5.8   </td><td>4.0   </td><td>1.2   </td><td>0.2   </td><td>setosa</td></tr>\n",
       "\t<tr><th scope=row>16</th><td>5.7   </td><td>4.4   </td><td>1.5   </td><td>0.4   </td><td>setosa</td></tr>\n",
       "\t<tr><th scope=row>17</th><td>5.4   </td><td>3.9   </td><td>1.3   </td><td>0.4   </td><td>setosa</td></tr>\n",
       "\t<tr><th scope=row>18</th><td>5.1   </td><td>3.5   </td><td>1.4   </td><td>0.3   </td><td>setosa</td></tr>\n",
       "\t<tr><th scope=row>19</th><td>5.7   </td><td>3.8   </td><td>1.7   </td><td>0.3   </td><td>setosa</td></tr>\n",
       "\t<tr><th scope=row>20</th><td>5.1   </td><td>3.8   </td><td>1.5   </td><td>0.3   </td><td>setosa</td></tr>\n",
       "\t<tr><th scope=row>21</th><td>5.4   </td><td>3.4   </td><td>1.7   </td><td>0.2   </td><td>setosa</td></tr>\n",
       "\t<tr><th scope=row>22</th><td>5.1   </td><td>3.7   </td><td>1.5   </td><td>0.4   </td><td>setosa</td></tr>\n",
       "\t<tr><th scope=row>24</th><td>5.1   </td><td>3.3   </td><td>1.7   </td><td>0.5   </td><td>setosa</td></tr>\n",
       "\t<tr><th scope=row>28</th><td>5.2   </td><td>3.5   </td><td>1.5   </td><td>0.2   </td><td>setosa</td></tr>\n",
       "\t<tr><th scope=row>29</th><td>5.2   </td><td>3.4   </td><td>1.4   </td><td>0.2   </td><td>setosa</td></tr>\n",
       "\t<tr><th scope=row>32</th><td>5.4   </td><td>3.4   </td><td>1.5   </td><td>0.4   </td><td>setosa</td></tr>\n",
       "\t<tr><th scope=row>33</th><td>5.2   </td><td>4.1   </td><td>1.5   </td><td>0.1   </td><td>setosa</td></tr>\n",
       "\t<tr><th scope=row>34</th><td>5.5   </td><td>4.2   </td><td>1.4   </td><td>0.2   </td><td>setosa</td></tr>\n",
       "\t<tr><th scope=row>37</th><td>5.5   </td><td>3.5   </td><td>1.3   </td><td>0.2   </td><td>setosa</td></tr>\n",
       "\t<tr><th scope=row>40</th><td>5.1   </td><td>3.4   </td><td>1.5   </td><td>0.2   </td><td>setosa</td></tr>\n",
       "\t<tr><th scope=row>45</th><td>5.1   </td><td>3.8   </td><td>1.9   </td><td>0.4   </td><td>setosa</td></tr>\n",
       "\t<tr><th scope=row>47</th><td>5.1   </td><td>3.8   </td><td>1.6   </td><td>0.2   </td><td>setosa</td></tr>\n",
       "\t<tr><th scope=row>49</th><td>5.3   </td><td>3.7   </td><td>1.5   </td><td>0.2   </td><td>setosa</td></tr>\n",
       "</tbody>\n",
       "</table>\n"
      ],
      "text/latex": [
       "\\begin{tabular}{r|lllll}\n",
       "  & Sepal.Length & Sepal.Width & Petal.Length & Petal.Width & Species\\\\\n",
       "\\hline\n",
       "\t1 & 5.1    & 3.5    & 1.4    & 0.2    & setosa\\\\\n",
       "\t6 & 5.4    & 3.9    & 1.7    & 0.4    & setosa\\\\\n",
       "\t11 & 5.4    & 3.7    & 1.5    & 0.2    & setosa\\\\\n",
       "\t15 & 5.8    & 4.0    & 1.2    & 0.2    & setosa\\\\\n",
       "\t16 & 5.7    & 4.4    & 1.5    & 0.4    & setosa\\\\\n",
       "\t17 & 5.4    & 3.9    & 1.3    & 0.4    & setosa\\\\\n",
       "\t18 & 5.1    & 3.5    & 1.4    & 0.3    & setosa\\\\\n",
       "\t19 & 5.7    & 3.8    & 1.7    & 0.3    & setosa\\\\\n",
       "\t20 & 5.1    & 3.8    & 1.5    & 0.3    & setosa\\\\\n",
       "\t21 & 5.4    & 3.4    & 1.7    & 0.2    & setosa\\\\\n",
       "\t22 & 5.1    & 3.7    & 1.5    & 0.4    & setosa\\\\\n",
       "\t24 & 5.1    & 3.3    & 1.7    & 0.5    & setosa\\\\\n",
       "\t28 & 5.2    & 3.5    & 1.5    & 0.2    & setosa\\\\\n",
       "\t29 & 5.2    & 3.4    & 1.4    & 0.2    & setosa\\\\\n",
       "\t32 & 5.4    & 3.4    & 1.5    & 0.4    & setosa\\\\\n",
       "\t33 & 5.2    & 4.1    & 1.5    & 0.1    & setosa\\\\\n",
       "\t34 & 5.5    & 4.2    & 1.4    & 0.2    & setosa\\\\\n",
       "\t37 & 5.5    & 3.5    & 1.3    & 0.2    & setosa\\\\\n",
       "\t40 & 5.1    & 3.4    & 1.5    & 0.2    & setosa\\\\\n",
       "\t45 & 5.1    & 3.8    & 1.9    & 0.4    & setosa\\\\\n",
       "\t47 & 5.1    & 3.8    & 1.6    & 0.2    & setosa\\\\\n",
       "\t49 & 5.3    & 3.7    & 1.5    & 0.2    & setosa\\\\\n",
       "\\end{tabular}\n"
      ],
      "text/markdown": [
       "\n",
       "| <!--/--> | Sepal.Length | Sepal.Width | Petal.Length | Petal.Width | Species |\n",
       "|---|---|---|---|---|---|\n",
       "| 1 | 5.1    | 3.5    | 1.4    | 0.2    | setosa |\n",
       "| 6 | 5.4    | 3.9    | 1.7    | 0.4    | setosa |\n",
       "| 11 | 5.4    | 3.7    | 1.5    | 0.2    | setosa |\n",
       "| 15 | 5.8    | 4.0    | 1.2    | 0.2    | setosa |\n",
       "| 16 | 5.7    | 4.4    | 1.5    | 0.4    | setosa |\n",
       "| 17 | 5.4    | 3.9    | 1.3    | 0.4    | setosa |\n",
       "| 18 | 5.1    | 3.5    | 1.4    | 0.3    | setosa |\n",
       "| 19 | 5.7    | 3.8    | 1.7    | 0.3    | setosa |\n",
       "| 20 | 5.1    | 3.8    | 1.5    | 0.3    | setosa |\n",
       "| 21 | 5.4    | 3.4    | 1.7    | 0.2    | setosa |\n",
       "| 22 | 5.1    | 3.7    | 1.5    | 0.4    | setosa |\n",
       "| 24 | 5.1    | 3.3    | 1.7    | 0.5    | setosa |\n",
       "| 28 | 5.2    | 3.5    | 1.5    | 0.2    | setosa |\n",
       "| 29 | 5.2    | 3.4    | 1.4    | 0.2    | setosa |\n",
       "| 32 | 5.4    | 3.4    | 1.5    | 0.4    | setosa |\n",
       "| 33 | 5.2    | 4.1    | 1.5    | 0.1    | setosa |\n",
       "| 34 | 5.5    | 4.2    | 1.4    | 0.2    | setosa |\n",
       "| 37 | 5.5    | 3.5    | 1.3    | 0.2    | setosa |\n",
       "| 40 | 5.1    | 3.4    | 1.5    | 0.2    | setosa |\n",
       "| 45 | 5.1    | 3.8    | 1.9    | 0.4    | setosa |\n",
       "| 47 | 5.1    | 3.8    | 1.6    | 0.2    | setosa |\n",
       "| 49 | 5.3    | 3.7    | 1.5    | 0.2    | setosa |\n",
       "\n"
      ],
      "text/plain": [
       "   Sepal.Length Sepal.Width Petal.Length Petal.Width Species\n",
       "1  5.1          3.5         1.4          0.2         setosa \n",
       "6  5.4          3.9         1.7          0.4         setosa \n",
       "11 5.4          3.7         1.5          0.2         setosa \n",
       "15 5.8          4.0         1.2          0.2         setosa \n",
       "16 5.7          4.4         1.5          0.4         setosa \n",
       "17 5.4          3.9         1.3          0.4         setosa \n",
       "18 5.1          3.5         1.4          0.3         setosa \n",
       "19 5.7          3.8         1.7          0.3         setosa \n",
       "20 5.1          3.8         1.5          0.3         setosa \n",
       "21 5.4          3.4         1.7          0.2         setosa \n",
       "22 5.1          3.7         1.5          0.4         setosa \n",
       "24 5.1          3.3         1.7          0.5         setosa \n",
       "28 5.2          3.5         1.5          0.2         setosa \n",
       "29 5.2          3.4         1.4          0.2         setosa \n",
       "32 5.4          3.4         1.5          0.4         setosa \n",
       "33 5.2          4.1         1.5          0.1         setosa \n",
       "34 5.5          4.2         1.4          0.2         setosa \n",
       "37 5.5          3.5         1.3          0.2         setosa \n",
       "40 5.1          3.4         1.5          0.2         setosa \n",
       "45 5.1          3.8         1.9          0.4         setosa \n",
       "47 5.1          3.8         1.6          0.2         setosa \n",
       "49 5.3          3.7         1.5          0.2         setosa "
      ]
     },
     "metadata": {},
     "output_type": "display_data"
    }
   ],
   "source": [
    "# iris에서 Species가 setosa이고 Sepal.Length가 5 보다 큰 sample(data)의 갯수는?\n",
    "nrow(subset(iris, Species == 'setosa' & Sepal.Length > 5))\n",
    "subset(iris, Species == 'setosa' & Sepal.Length > 5)"
   ]
  },
  {
   "cell_type": "code",
   "execution_count": 42,
   "metadata": {
    "vscode": {
     "languageId": "r"
    }
   },
   "outputs": [
    {
     "data": {
      "text/html": [
       "<table>\n",
       "<thead><tr><th scope=col>Sepal.Length</th><th scope=col>Species</th></tr></thead>\n",
       "<tbody>\n",
       "\t<tr><td>5.1   </td><td>setosa</td></tr>\n",
       "\t<tr><td>4.9   </td><td>setosa</td></tr>\n",
       "\t<tr><td>4.7   </td><td>setosa</td></tr>\n",
       "\t<tr><td>4.6   </td><td>setosa</td></tr>\n",
       "\t<tr><td>5.0   </td><td>setosa</td></tr>\n",
       "\t<tr><td>5.4   </td><td>setosa</td></tr>\n",
       "\t<tr><td>4.6   </td><td>setosa</td></tr>\n",
       "\t<tr><td>5.0   </td><td>setosa</td></tr>\n",
       "\t<tr><td>4.4   </td><td>setosa</td></tr>\n",
       "\t<tr><td>4.9   </td><td>setosa</td></tr>\n",
       "\t<tr><td>5.4   </td><td>setosa</td></tr>\n",
       "\t<tr><td>4.8   </td><td>setosa</td></tr>\n",
       "\t<tr><td>4.8   </td><td>setosa</td></tr>\n",
       "\t<tr><td>4.3   </td><td>setosa</td></tr>\n",
       "\t<tr><td>5.8   </td><td>setosa</td></tr>\n",
       "\t<tr><td>5.7   </td><td>setosa</td></tr>\n",
       "\t<tr><td>5.4   </td><td>setosa</td></tr>\n",
       "\t<tr><td>5.1   </td><td>setosa</td></tr>\n",
       "\t<tr><td>5.7   </td><td>setosa</td></tr>\n",
       "\t<tr><td>5.1   </td><td>setosa</td></tr>\n",
       "\t<tr><td>5.4   </td><td>setosa</td></tr>\n",
       "\t<tr><td>5.1   </td><td>setosa</td></tr>\n",
       "\t<tr><td>4.6   </td><td>setosa</td></tr>\n",
       "\t<tr><td>5.1   </td><td>setosa</td></tr>\n",
       "\t<tr><td>4.8   </td><td>setosa</td></tr>\n",
       "\t<tr><td>5.0   </td><td>setosa</td></tr>\n",
       "\t<tr><td>5.0   </td><td>setosa</td></tr>\n",
       "\t<tr><td>5.2   </td><td>setosa</td></tr>\n",
       "\t<tr><td>5.2   </td><td>setosa</td></tr>\n",
       "\t<tr><td>4.7   </td><td>setosa</td></tr>\n",
       "\t<tr><td>...</td><td>...</td></tr>\n",
       "\t<tr><td>6.9      </td><td>virginica</td></tr>\n",
       "\t<tr><td>5.6      </td><td>virginica</td></tr>\n",
       "\t<tr><td>7.7      </td><td>virginica</td></tr>\n",
       "\t<tr><td>6.3      </td><td>virginica</td></tr>\n",
       "\t<tr><td>6.7      </td><td>virginica</td></tr>\n",
       "\t<tr><td>7.2      </td><td>virginica</td></tr>\n",
       "\t<tr><td>6.2      </td><td>virginica</td></tr>\n",
       "\t<tr><td>6.1      </td><td>virginica</td></tr>\n",
       "\t<tr><td>6.4      </td><td>virginica</td></tr>\n",
       "\t<tr><td>7.2      </td><td>virginica</td></tr>\n",
       "\t<tr><td>7.4      </td><td>virginica</td></tr>\n",
       "\t<tr><td>7.9      </td><td>virginica</td></tr>\n",
       "\t<tr><td>6.4      </td><td>virginica</td></tr>\n",
       "\t<tr><td>6.3      </td><td>virginica</td></tr>\n",
       "\t<tr><td>6.1      </td><td>virginica</td></tr>\n",
       "\t<tr><td>7.7      </td><td>virginica</td></tr>\n",
       "\t<tr><td>6.3      </td><td>virginica</td></tr>\n",
       "\t<tr><td>6.4      </td><td>virginica</td></tr>\n",
       "\t<tr><td>6.0      </td><td>virginica</td></tr>\n",
       "\t<tr><td>6.9      </td><td>virginica</td></tr>\n",
       "\t<tr><td>6.7      </td><td>virginica</td></tr>\n",
       "\t<tr><td>6.9      </td><td>virginica</td></tr>\n",
       "\t<tr><td>5.8      </td><td>virginica</td></tr>\n",
       "\t<tr><td>6.8      </td><td>virginica</td></tr>\n",
       "\t<tr><td>6.7      </td><td>virginica</td></tr>\n",
       "\t<tr><td>6.7      </td><td>virginica</td></tr>\n",
       "\t<tr><td>6.3      </td><td>virginica</td></tr>\n",
       "\t<tr><td>6.5      </td><td>virginica</td></tr>\n",
       "\t<tr><td>6.2      </td><td>virginica</td></tr>\n",
       "\t<tr><td>5.9      </td><td>virginica</td></tr>\n",
       "</tbody>\n",
       "</table>\n"
      ],
      "text/latex": [
       "\\begin{tabular}{r|ll}\n",
       " Sepal.Length & Species\\\\\n",
       "\\hline\n",
       "\t 5.1    & setosa\\\\\n",
       "\t 4.9    & setosa\\\\\n",
       "\t 4.7    & setosa\\\\\n",
       "\t 4.6    & setosa\\\\\n",
       "\t 5.0    & setosa\\\\\n",
       "\t 5.4    & setosa\\\\\n",
       "\t 4.6    & setosa\\\\\n",
       "\t 5.0    & setosa\\\\\n",
       "\t 4.4    & setosa\\\\\n",
       "\t 4.9    & setosa\\\\\n",
       "\t 5.4    & setosa\\\\\n",
       "\t 4.8    & setosa\\\\\n",
       "\t 4.8    & setosa\\\\\n",
       "\t 4.3    & setosa\\\\\n",
       "\t 5.8    & setosa\\\\\n",
       "\t 5.7    & setosa\\\\\n",
       "\t 5.4    & setosa\\\\\n",
       "\t 5.1    & setosa\\\\\n",
       "\t 5.7    & setosa\\\\\n",
       "\t 5.1    & setosa\\\\\n",
       "\t 5.4    & setosa\\\\\n",
       "\t 5.1    & setosa\\\\\n",
       "\t 4.6    & setosa\\\\\n",
       "\t 5.1    & setosa\\\\\n",
       "\t 4.8    & setosa\\\\\n",
       "\t 5.0    & setosa\\\\\n",
       "\t 5.0    & setosa\\\\\n",
       "\t 5.2    & setosa\\\\\n",
       "\t 5.2    & setosa\\\\\n",
       "\t 4.7    & setosa\\\\\n",
       "\t ... & ...\\\\\n",
       "\t 6.9       & virginica\\\\\n",
       "\t 5.6       & virginica\\\\\n",
       "\t 7.7       & virginica\\\\\n",
       "\t 6.3       & virginica\\\\\n",
       "\t 6.7       & virginica\\\\\n",
       "\t 7.2       & virginica\\\\\n",
       "\t 6.2       & virginica\\\\\n",
       "\t 6.1       & virginica\\\\\n",
       "\t 6.4       & virginica\\\\\n",
       "\t 7.2       & virginica\\\\\n",
       "\t 7.4       & virginica\\\\\n",
       "\t 7.9       & virginica\\\\\n",
       "\t 6.4       & virginica\\\\\n",
       "\t 6.3       & virginica\\\\\n",
       "\t 6.1       & virginica\\\\\n",
       "\t 7.7       & virginica\\\\\n",
       "\t 6.3       & virginica\\\\\n",
       "\t 6.4       & virginica\\\\\n",
       "\t 6.0       & virginica\\\\\n",
       "\t 6.9       & virginica\\\\\n",
       "\t 6.7       & virginica\\\\\n",
       "\t 6.9       & virginica\\\\\n",
       "\t 5.8       & virginica\\\\\n",
       "\t 6.8       & virginica\\\\\n",
       "\t 6.7       & virginica\\\\\n",
       "\t 6.7       & virginica\\\\\n",
       "\t 6.3       & virginica\\\\\n",
       "\t 6.5       & virginica\\\\\n",
       "\t 6.2       & virginica\\\\\n",
       "\t 5.9       & virginica\\\\\n",
       "\\end{tabular}\n"
      ],
      "text/markdown": [
       "\n",
       "| Sepal.Length | Species |\n",
       "|---|---|\n",
       "| 5.1    | setosa |\n",
       "| 4.9    | setosa |\n",
       "| 4.7    | setosa |\n",
       "| 4.6    | setosa |\n",
       "| 5.0    | setosa |\n",
       "| 5.4    | setosa |\n",
       "| 4.6    | setosa |\n",
       "| 5.0    | setosa |\n",
       "| 4.4    | setosa |\n",
       "| 4.9    | setosa |\n",
       "| 5.4    | setosa |\n",
       "| 4.8    | setosa |\n",
       "| 4.8    | setosa |\n",
       "| 4.3    | setosa |\n",
       "| 5.8    | setosa |\n",
       "| 5.7    | setosa |\n",
       "| 5.4    | setosa |\n",
       "| 5.1    | setosa |\n",
       "| 5.7    | setosa |\n",
       "| 5.1    | setosa |\n",
       "| 5.4    | setosa |\n",
       "| 5.1    | setosa |\n",
       "| 4.6    | setosa |\n",
       "| 5.1    | setosa |\n",
       "| 4.8    | setosa |\n",
       "| 5.0    | setosa |\n",
       "| 5.0    | setosa |\n",
       "| 5.2    | setosa |\n",
       "| 5.2    | setosa |\n",
       "| 4.7    | setosa |\n",
       "| ... | ... |\n",
       "| 6.9       | virginica |\n",
       "| 5.6       | virginica |\n",
       "| 7.7       | virginica |\n",
       "| 6.3       | virginica |\n",
       "| 6.7       | virginica |\n",
       "| 7.2       | virginica |\n",
       "| 6.2       | virginica |\n",
       "| 6.1       | virginica |\n",
       "| 6.4       | virginica |\n",
       "| 7.2       | virginica |\n",
       "| 7.4       | virginica |\n",
       "| 7.9       | virginica |\n",
       "| 6.4       | virginica |\n",
       "| 6.3       | virginica |\n",
       "| 6.1       | virginica |\n",
       "| 7.7       | virginica |\n",
       "| 6.3       | virginica |\n",
       "| 6.4       | virginica |\n",
       "| 6.0       | virginica |\n",
       "| 6.9       | virginica |\n",
       "| 6.7       | virginica |\n",
       "| 6.9       | virginica |\n",
       "| 5.8       | virginica |\n",
       "| 6.8       | virginica |\n",
       "| 6.7       | virginica |\n",
       "| 6.7       | virginica |\n",
       "| 6.3       | virginica |\n",
       "| 6.5       | virginica |\n",
       "| 6.2       | virginica |\n",
       "| 5.9       | virginica |\n",
       "\n"
      ],
      "text/plain": [
       "    Sepal.Length Species  \n",
       "1   5.1          setosa   \n",
       "2   4.9          setosa   \n",
       "3   4.7          setosa   \n",
       "4   4.6          setosa   \n",
       "5   5.0          setosa   \n",
       "6   5.4          setosa   \n",
       "7   4.6          setosa   \n",
       "8   5.0          setosa   \n",
       "9   4.4          setosa   \n",
       "10  4.9          setosa   \n",
       "11  5.4          setosa   \n",
       "12  4.8          setosa   \n",
       "13  4.8          setosa   \n",
       "14  4.3          setosa   \n",
       "15  5.8          setosa   \n",
       "16  5.7          setosa   \n",
       "17  5.4          setosa   \n",
       "18  5.1          setosa   \n",
       "19  5.7          setosa   \n",
       "20  5.1          setosa   \n",
       "21  5.4          setosa   \n",
       "22  5.1          setosa   \n",
       "23  4.6          setosa   \n",
       "24  5.1          setosa   \n",
       "25  4.8          setosa   \n",
       "26  5.0          setosa   \n",
       "27  5.0          setosa   \n",
       "28  5.2          setosa   \n",
       "29  5.2          setosa   \n",
       "30  4.7          setosa   \n",
       "... ...          ...      \n",
       "121 6.9          virginica\n",
       "122 5.6          virginica\n",
       "123 7.7          virginica\n",
       "124 6.3          virginica\n",
       "125 6.7          virginica\n",
       "126 7.2          virginica\n",
       "127 6.2          virginica\n",
       "128 6.1          virginica\n",
       "129 6.4          virginica\n",
       "130 7.2          virginica\n",
       "131 7.4          virginica\n",
       "132 7.9          virginica\n",
       "133 6.4          virginica\n",
       "134 6.3          virginica\n",
       "135 6.1          virginica\n",
       "136 7.7          virginica\n",
       "137 6.3          virginica\n",
       "138 6.4          virginica\n",
       "139 6.0          virginica\n",
       "140 6.9          virginica\n",
       "141 6.7          virginica\n",
       "142 6.9          virginica\n",
       "143 5.8          virginica\n",
       "144 6.8          virginica\n",
       "145 6.7          virginica\n",
       "146 6.7          virginica\n",
       "147 6.3          virginica\n",
       "148 6.5          virginica\n",
       "149 6.2          virginica\n",
       "150 5.9          virginica"
      ]
     },
     "metadata": {},
     "output_type": "display_data"
    },
    {
     "data": {
      "text/html": [
       "<table>\n",
       "<thead><tr><th scope=col>Sepal.Length</th><th scope=col>Sepal.Width</th><th scope=col>Petal.Length</th><th scope=col>Petal.Width</th></tr></thead>\n",
       "<tbody>\n",
       "\t<tr><td>5.1</td><td>3.5</td><td>1.4</td><td>0.2</td></tr>\n",
       "\t<tr><td>4.9</td><td>3.0</td><td>1.4</td><td>0.2</td></tr>\n",
       "\t<tr><td>4.7</td><td>3.2</td><td>1.3</td><td>0.2</td></tr>\n",
       "\t<tr><td>4.6</td><td>3.1</td><td>1.5</td><td>0.2</td></tr>\n",
       "\t<tr><td>5.0</td><td>3.6</td><td>1.4</td><td>0.2</td></tr>\n",
       "\t<tr><td>5.4</td><td>3.9</td><td>1.7</td><td>0.4</td></tr>\n",
       "\t<tr><td>4.6</td><td>3.4</td><td>1.4</td><td>0.3</td></tr>\n",
       "\t<tr><td>5.0</td><td>3.4</td><td>1.5</td><td>0.2</td></tr>\n",
       "\t<tr><td>4.4</td><td>2.9</td><td>1.4</td><td>0.2</td></tr>\n",
       "\t<tr><td>4.9</td><td>3.1</td><td>1.5</td><td>0.1</td></tr>\n",
       "\t<tr><td>5.4</td><td>3.7</td><td>1.5</td><td>0.2</td></tr>\n",
       "\t<tr><td>4.8</td><td>3.4</td><td>1.6</td><td>0.2</td></tr>\n",
       "\t<tr><td>4.8</td><td>3.0</td><td>1.4</td><td>0.1</td></tr>\n",
       "\t<tr><td>4.3</td><td>3.0</td><td>1.1</td><td>0.1</td></tr>\n",
       "\t<tr><td>5.8</td><td>4.0</td><td>1.2</td><td>0.2</td></tr>\n",
       "\t<tr><td>5.7</td><td>4.4</td><td>1.5</td><td>0.4</td></tr>\n",
       "\t<tr><td>5.4</td><td>3.9</td><td>1.3</td><td>0.4</td></tr>\n",
       "\t<tr><td>5.1</td><td>3.5</td><td>1.4</td><td>0.3</td></tr>\n",
       "\t<tr><td>5.7</td><td>3.8</td><td>1.7</td><td>0.3</td></tr>\n",
       "\t<tr><td>5.1</td><td>3.8</td><td>1.5</td><td>0.3</td></tr>\n",
       "\t<tr><td>5.4</td><td>3.4</td><td>1.7</td><td>0.2</td></tr>\n",
       "\t<tr><td>5.1</td><td>3.7</td><td>1.5</td><td>0.4</td></tr>\n",
       "\t<tr><td>4.6</td><td>3.6</td><td>1.0</td><td>0.2</td></tr>\n",
       "\t<tr><td>5.1</td><td>3.3</td><td>1.7</td><td>0.5</td></tr>\n",
       "\t<tr><td>4.8</td><td>3.4</td><td>1.9</td><td>0.2</td></tr>\n",
       "\t<tr><td>5.0</td><td>3.0</td><td>1.6</td><td>0.2</td></tr>\n",
       "\t<tr><td>5.0</td><td>3.4</td><td>1.6</td><td>0.4</td></tr>\n",
       "\t<tr><td>5.2</td><td>3.5</td><td>1.5</td><td>0.2</td></tr>\n",
       "\t<tr><td>5.2</td><td>3.4</td><td>1.4</td><td>0.2</td></tr>\n",
       "\t<tr><td>4.7</td><td>3.2</td><td>1.6</td><td>0.2</td></tr>\n",
       "\t<tr><td>...</td><td>...</td><td>...</td><td>...</td></tr>\n",
       "\t<tr><td>6.9</td><td>3.2</td><td>5.7</td><td>2.3</td></tr>\n",
       "\t<tr><td>5.6</td><td>2.8</td><td>4.9</td><td>2.0</td></tr>\n",
       "\t<tr><td>7.7</td><td>2.8</td><td>6.7</td><td>2.0</td></tr>\n",
       "\t<tr><td>6.3</td><td>2.7</td><td>4.9</td><td>1.8</td></tr>\n",
       "\t<tr><td>6.7</td><td>3.3</td><td>5.7</td><td>2.1</td></tr>\n",
       "\t<tr><td>7.2</td><td>3.2</td><td>6.0</td><td>1.8</td></tr>\n",
       "\t<tr><td>6.2</td><td>2.8</td><td>4.8</td><td>1.8</td></tr>\n",
       "\t<tr><td>6.1</td><td>3.0</td><td>4.9</td><td>1.8</td></tr>\n",
       "\t<tr><td>6.4</td><td>2.8</td><td>5.6</td><td>2.1</td></tr>\n",
       "\t<tr><td>7.2</td><td>3.0</td><td>5.8</td><td>1.6</td></tr>\n",
       "\t<tr><td>7.4</td><td>2.8</td><td>6.1</td><td>1.9</td></tr>\n",
       "\t<tr><td>7.9</td><td>3.8</td><td>6.4</td><td>2.0</td></tr>\n",
       "\t<tr><td>6.4</td><td>2.8</td><td>5.6</td><td>2.2</td></tr>\n",
       "\t<tr><td>6.3</td><td>2.8</td><td>5.1</td><td>1.5</td></tr>\n",
       "\t<tr><td>6.1</td><td>2.6</td><td>5.6</td><td>1.4</td></tr>\n",
       "\t<tr><td>7.7</td><td>3.0</td><td>6.1</td><td>2.3</td></tr>\n",
       "\t<tr><td>6.3</td><td>3.4</td><td>5.6</td><td>2.4</td></tr>\n",
       "\t<tr><td>6.4</td><td>3.1</td><td>5.5</td><td>1.8</td></tr>\n",
       "\t<tr><td>6.0</td><td>3.0</td><td>4.8</td><td>1.8</td></tr>\n",
       "\t<tr><td>6.9</td><td>3.1</td><td>5.4</td><td>2.1</td></tr>\n",
       "\t<tr><td>6.7</td><td>3.1</td><td>5.6</td><td>2.4</td></tr>\n",
       "\t<tr><td>6.9</td><td>3.1</td><td>5.1</td><td>2.3</td></tr>\n",
       "\t<tr><td>5.8</td><td>2.7</td><td>5.1</td><td>1.9</td></tr>\n",
       "\t<tr><td>6.8</td><td>3.2</td><td>5.9</td><td>2.3</td></tr>\n",
       "\t<tr><td>6.7</td><td>3.3</td><td>5.7</td><td>2.5</td></tr>\n",
       "\t<tr><td>6.7</td><td>3.0</td><td>5.2</td><td>2.3</td></tr>\n",
       "\t<tr><td>6.3</td><td>2.5</td><td>5.0</td><td>1.9</td></tr>\n",
       "\t<tr><td>6.5</td><td>3.0</td><td>5.2</td><td>2.0</td></tr>\n",
       "\t<tr><td>6.2</td><td>3.4</td><td>5.4</td><td>2.3</td></tr>\n",
       "\t<tr><td>5.9</td><td>3.0</td><td>5.1</td><td>1.8</td></tr>\n",
       "</tbody>\n",
       "</table>\n"
      ],
      "text/latex": [
       "\\begin{tabular}{r|llll}\n",
       " Sepal.Length & Sepal.Width & Petal.Length & Petal.Width\\\\\n",
       "\\hline\n",
       "\t 5.1 & 3.5 & 1.4 & 0.2\\\\\n",
       "\t 4.9 & 3.0 & 1.4 & 0.2\\\\\n",
       "\t 4.7 & 3.2 & 1.3 & 0.2\\\\\n",
       "\t 4.6 & 3.1 & 1.5 & 0.2\\\\\n",
       "\t 5.0 & 3.6 & 1.4 & 0.2\\\\\n",
       "\t 5.4 & 3.9 & 1.7 & 0.4\\\\\n",
       "\t 4.6 & 3.4 & 1.4 & 0.3\\\\\n",
       "\t 5.0 & 3.4 & 1.5 & 0.2\\\\\n",
       "\t 4.4 & 2.9 & 1.4 & 0.2\\\\\n",
       "\t 4.9 & 3.1 & 1.5 & 0.1\\\\\n",
       "\t 5.4 & 3.7 & 1.5 & 0.2\\\\\n",
       "\t 4.8 & 3.4 & 1.6 & 0.2\\\\\n",
       "\t 4.8 & 3.0 & 1.4 & 0.1\\\\\n",
       "\t 4.3 & 3.0 & 1.1 & 0.1\\\\\n",
       "\t 5.8 & 4.0 & 1.2 & 0.2\\\\\n",
       "\t 5.7 & 4.4 & 1.5 & 0.4\\\\\n",
       "\t 5.4 & 3.9 & 1.3 & 0.4\\\\\n",
       "\t 5.1 & 3.5 & 1.4 & 0.3\\\\\n",
       "\t 5.7 & 3.8 & 1.7 & 0.3\\\\\n",
       "\t 5.1 & 3.8 & 1.5 & 0.3\\\\\n",
       "\t 5.4 & 3.4 & 1.7 & 0.2\\\\\n",
       "\t 5.1 & 3.7 & 1.5 & 0.4\\\\\n",
       "\t 4.6 & 3.6 & 1.0 & 0.2\\\\\n",
       "\t 5.1 & 3.3 & 1.7 & 0.5\\\\\n",
       "\t 4.8 & 3.4 & 1.9 & 0.2\\\\\n",
       "\t 5.0 & 3.0 & 1.6 & 0.2\\\\\n",
       "\t 5.0 & 3.4 & 1.6 & 0.4\\\\\n",
       "\t 5.2 & 3.5 & 1.5 & 0.2\\\\\n",
       "\t 5.2 & 3.4 & 1.4 & 0.2\\\\\n",
       "\t 4.7 & 3.2 & 1.6 & 0.2\\\\\n",
       "\t ... & ... & ... & ...\\\\\n",
       "\t 6.9 & 3.2 & 5.7 & 2.3\\\\\n",
       "\t 5.6 & 2.8 & 4.9 & 2.0\\\\\n",
       "\t 7.7 & 2.8 & 6.7 & 2.0\\\\\n",
       "\t 6.3 & 2.7 & 4.9 & 1.8\\\\\n",
       "\t 6.7 & 3.3 & 5.7 & 2.1\\\\\n",
       "\t 7.2 & 3.2 & 6.0 & 1.8\\\\\n",
       "\t 6.2 & 2.8 & 4.8 & 1.8\\\\\n",
       "\t 6.1 & 3.0 & 4.9 & 1.8\\\\\n",
       "\t 6.4 & 2.8 & 5.6 & 2.1\\\\\n",
       "\t 7.2 & 3.0 & 5.8 & 1.6\\\\\n",
       "\t 7.4 & 2.8 & 6.1 & 1.9\\\\\n",
       "\t 7.9 & 3.8 & 6.4 & 2.0\\\\\n",
       "\t 6.4 & 2.8 & 5.6 & 2.2\\\\\n",
       "\t 6.3 & 2.8 & 5.1 & 1.5\\\\\n",
       "\t 6.1 & 2.6 & 5.6 & 1.4\\\\\n",
       "\t 7.7 & 3.0 & 6.1 & 2.3\\\\\n",
       "\t 6.3 & 3.4 & 5.6 & 2.4\\\\\n",
       "\t 6.4 & 3.1 & 5.5 & 1.8\\\\\n",
       "\t 6.0 & 3.0 & 4.8 & 1.8\\\\\n",
       "\t 6.9 & 3.1 & 5.4 & 2.1\\\\\n",
       "\t 6.7 & 3.1 & 5.6 & 2.4\\\\\n",
       "\t 6.9 & 3.1 & 5.1 & 2.3\\\\\n",
       "\t 5.8 & 2.7 & 5.1 & 1.9\\\\\n",
       "\t 6.8 & 3.2 & 5.9 & 2.3\\\\\n",
       "\t 6.7 & 3.3 & 5.7 & 2.5\\\\\n",
       "\t 6.7 & 3.0 & 5.2 & 2.3\\\\\n",
       "\t 6.3 & 2.5 & 5.0 & 1.9\\\\\n",
       "\t 6.5 & 3.0 & 5.2 & 2.0\\\\\n",
       "\t 6.2 & 3.4 & 5.4 & 2.3\\\\\n",
       "\t 5.9 & 3.0 & 5.1 & 1.8\\\\\n",
       "\\end{tabular}\n"
      ],
      "text/markdown": [
       "\n",
       "| Sepal.Length | Sepal.Width | Petal.Length | Petal.Width |\n",
       "|---|---|---|---|\n",
       "| 5.1 | 3.5 | 1.4 | 0.2 |\n",
       "| 4.9 | 3.0 | 1.4 | 0.2 |\n",
       "| 4.7 | 3.2 | 1.3 | 0.2 |\n",
       "| 4.6 | 3.1 | 1.5 | 0.2 |\n",
       "| 5.0 | 3.6 | 1.4 | 0.2 |\n",
       "| 5.4 | 3.9 | 1.7 | 0.4 |\n",
       "| 4.6 | 3.4 | 1.4 | 0.3 |\n",
       "| 5.0 | 3.4 | 1.5 | 0.2 |\n",
       "| 4.4 | 2.9 | 1.4 | 0.2 |\n",
       "| 4.9 | 3.1 | 1.5 | 0.1 |\n",
       "| 5.4 | 3.7 | 1.5 | 0.2 |\n",
       "| 4.8 | 3.4 | 1.6 | 0.2 |\n",
       "| 4.8 | 3.0 | 1.4 | 0.1 |\n",
       "| 4.3 | 3.0 | 1.1 | 0.1 |\n",
       "| 5.8 | 4.0 | 1.2 | 0.2 |\n",
       "| 5.7 | 4.4 | 1.5 | 0.4 |\n",
       "| 5.4 | 3.9 | 1.3 | 0.4 |\n",
       "| 5.1 | 3.5 | 1.4 | 0.3 |\n",
       "| 5.7 | 3.8 | 1.7 | 0.3 |\n",
       "| 5.1 | 3.8 | 1.5 | 0.3 |\n",
       "| 5.4 | 3.4 | 1.7 | 0.2 |\n",
       "| 5.1 | 3.7 | 1.5 | 0.4 |\n",
       "| 4.6 | 3.6 | 1.0 | 0.2 |\n",
       "| 5.1 | 3.3 | 1.7 | 0.5 |\n",
       "| 4.8 | 3.4 | 1.9 | 0.2 |\n",
       "| 5.0 | 3.0 | 1.6 | 0.2 |\n",
       "| 5.0 | 3.4 | 1.6 | 0.4 |\n",
       "| 5.2 | 3.5 | 1.5 | 0.2 |\n",
       "| 5.2 | 3.4 | 1.4 | 0.2 |\n",
       "| 4.7 | 3.2 | 1.6 | 0.2 |\n",
       "| ... | ... | ... | ... |\n",
       "| 6.9 | 3.2 | 5.7 | 2.3 |\n",
       "| 5.6 | 2.8 | 4.9 | 2.0 |\n",
       "| 7.7 | 2.8 | 6.7 | 2.0 |\n",
       "| 6.3 | 2.7 | 4.9 | 1.8 |\n",
       "| 6.7 | 3.3 | 5.7 | 2.1 |\n",
       "| 7.2 | 3.2 | 6.0 | 1.8 |\n",
       "| 6.2 | 2.8 | 4.8 | 1.8 |\n",
       "| 6.1 | 3.0 | 4.9 | 1.8 |\n",
       "| 6.4 | 2.8 | 5.6 | 2.1 |\n",
       "| 7.2 | 3.0 | 5.8 | 1.6 |\n",
       "| 7.4 | 2.8 | 6.1 | 1.9 |\n",
       "| 7.9 | 3.8 | 6.4 | 2.0 |\n",
       "| 6.4 | 2.8 | 5.6 | 2.2 |\n",
       "| 6.3 | 2.8 | 5.1 | 1.5 |\n",
       "| 6.1 | 2.6 | 5.6 | 1.4 |\n",
       "| 7.7 | 3.0 | 6.1 | 2.3 |\n",
       "| 6.3 | 3.4 | 5.6 | 2.4 |\n",
       "| 6.4 | 3.1 | 5.5 | 1.8 |\n",
       "| 6.0 | 3.0 | 4.8 | 1.8 |\n",
       "| 6.9 | 3.1 | 5.4 | 2.1 |\n",
       "| 6.7 | 3.1 | 5.6 | 2.4 |\n",
       "| 6.9 | 3.1 | 5.1 | 2.3 |\n",
       "| 5.8 | 2.7 | 5.1 | 1.9 |\n",
       "| 6.8 | 3.2 | 5.9 | 2.3 |\n",
       "| 6.7 | 3.3 | 5.7 | 2.5 |\n",
       "| 6.7 | 3.0 | 5.2 | 2.3 |\n",
       "| 6.3 | 2.5 | 5.0 | 1.9 |\n",
       "| 6.5 | 3.0 | 5.2 | 2.0 |\n",
       "| 6.2 | 3.4 | 5.4 | 2.3 |\n",
       "| 5.9 | 3.0 | 5.1 | 1.8 |\n",
       "\n"
      ],
      "text/plain": [
       "    Sepal.Length Sepal.Width Petal.Length Petal.Width\n",
       "1   5.1          3.5         1.4          0.2        \n",
       "2   4.9          3.0         1.4          0.2        \n",
       "3   4.7          3.2         1.3          0.2        \n",
       "4   4.6          3.1         1.5          0.2        \n",
       "5   5.0          3.6         1.4          0.2        \n",
       "6   5.4          3.9         1.7          0.4        \n",
       "7   4.6          3.4         1.4          0.3        \n",
       "8   5.0          3.4         1.5          0.2        \n",
       "9   4.4          2.9         1.4          0.2        \n",
       "10  4.9          3.1         1.5          0.1        \n",
       "11  5.4          3.7         1.5          0.2        \n",
       "12  4.8          3.4         1.6          0.2        \n",
       "13  4.8          3.0         1.4          0.1        \n",
       "14  4.3          3.0         1.1          0.1        \n",
       "15  5.8          4.0         1.2          0.2        \n",
       "16  5.7          4.4         1.5          0.4        \n",
       "17  5.4          3.9         1.3          0.4        \n",
       "18  5.1          3.5         1.4          0.3        \n",
       "19  5.7          3.8         1.7          0.3        \n",
       "20  5.1          3.8         1.5          0.3        \n",
       "21  5.4          3.4         1.7          0.2        \n",
       "22  5.1          3.7         1.5          0.4        \n",
       "23  4.6          3.6         1.0          0.2        \n",
       "24  5.1          3.3         1.7          0.5        \n",
       "25  4.8          3.4         1.9          0.2        \n",
       "26  5.0          3.0         1.6          0.2        \n",
       "27  5.0          3.4         1.6          0.4        \n",
       "28  5.2          3.5         1.5          0.2        \n",
       "29  5.2          3.4         1.4          0.2        \n",
       "30  4.7          3.2         1.6          0.2        \n",
       "... ...          ...         ...          ...        \n",
       "121 6.9          3.2         5.7          2.3        \n",
       "122 5.6          2.8         4.9          2.0        \n",
       "123 7.7          2.8         6.7          2.0        \n",
       "124 6.3          2.7         4.9          1.8        \n",
       "125 6.7          3.3         5.7          2.1        \n",
       "126 7.2          3.2         6.0          1.8        \n",
       "127 6.2          2.8         4.8          1.8        \n",
       "128 6.1          3.0         4.9          1.8        \n",
       "129 6.4          2.8         5.6          2.1        \n",
       "130 7.2          3.0         5.8          1.6        \n",
       "131 7.4          2.8         6.1          1.9        \n",
       "132 7.9          3.8         6.4          2.0        \n",
       "133 6.4          2.8         5.6          2.2        \n",
       "134 6.3          2.8         5.1          1.5        \n",
       "135 6.1          2.6         5.6          1.4        \n",
       "136 7.7          3.0         6.1          2.3        \n",
       "137 6.3          3.4         5.6          2.4        \n",
       "138 6.4          3.1         5.5          1.8        \n",
       "139 6.0          3.0         4.8          1.8        \n",
       "140 6.9          3.1         5.4          2.1        \n",
       "141 6.7          3.1         5.6          2.4        \n",
       "142 6.9          3.1         5.1          2.3        \n",
       "143 5.8          2.7         5.1          1.9        \n",
       "144 6.8          3.2         5.9          2.3        \n",
       "145 6.7          3.3         5.7          2.5        \n",
       "146 6.7          3.0         5.2          2.3        \n",
       "147 6.3          2.5         5.0          1.9        \n",
       "148 6.5          3.0         5.2          2.0        \n",
       "149 6.2          3.4         5.4          2.3        \n",
       "150 5.9          3.0         5.1          1.8        "
      ]
     },
     "metadata": {},
     "output_type": "display_data"
    }
   ],
   "source": [
    "# subset으로 컬럼 지우기 (행지우기는어렵)\n",
    "subset(iris, select = c(Sepal.Length, Species))\n",
    "subset(iris, select = -Species)"
   ]
  },
  {
   "cell_type": "markdown",
   "metadata": {},
   "source": [
    "---\n",
    "# 그룹 연산 함수\n",
    "- 많이 사용할거임\n",
    "- y = ax + b 를 y ~ x (이렇게 사용하는 것이 틸트)"
   ]
  },
  {
   "cell_type": "code",
   "execution_count": 43,
   "metadata": {
    "vscode": {
     "languageId": "r"
    }
   },
   "outputs": [
    {
     "data": {
      "text/html": [
       "<table>\n",
       "<thead><tr><th scope=col>Species</th><th scope=col>Sepal.Width</th></tr></thead>\n",
       "<tbody>\n",
       "\t<tr><td>setosa    </td><td>3.428     </td></tr>\n",
       "\t<tr><td>versicolor</td><td>2.770     </td></tr>\n",
       "\t<tr><td>virginica </td><td>2.974     </td></tr>\n",
       "</tbody>\n",
       "</table>\n"
      ],
      "text/latex": [
       "\\begin{tabular}{r|ll}\n",
       " Species & Sepal.Width\\\\\n",
       "\\hline\n",
       "\t setosa     & 3.428     \\\\\n",
       "\t versicolor & 2.770     \\\\\n",
       "\t virginica  & 2.974     \\\\\n",
       "\\end{tabular}\n"
      ],
      "text/markdown": [
       "\n",
       "| Species | Sepal.Width |\n",
       "|---|---|\n",
       "| setosa     | 3.428      |\n",
       "| versicolor | 2.770      |\n",
       "| virginica  | 2.974      |\n",
       "\n"
      ],
      "text/plain": [
       "  Species    Sepal.Width\n",
       "1 setosa     3.428      \n",
       "2 versicolor 2.770      \n",
       "3 virginica  2.974      "
      ]
     },
     "metadata": {},
     "output_type": "display_data"
    }
   ],
   "source": [
    "# iris에서 Species 기준으로 Sepal.Width 의 평균 구하기\n",
    "aggregate( Sepal.Width ~ Species, iris, mean) # 알아서 그룹핑 해서 평균을 내준다"
   ]
  },
  {
   "cell_type": "markdown",
   "metadata": {},
   "source": [
    "---\n",
    "# 서울시 교통사고 조사 데이터셋 "
   ]
  },
  {
   "cell_type": "code",
   "execution_count": 44,
   "metadata": {
    "vscode": {
     "languageId": "r"
    }
   },
   "outputs": [
    {
     "data": {
      "text/html": [
       "<table>\n",
       "<thead><tr><th scope=col>년도</th><th scope=col>월</th><th scope=col>자치구명</th><th scope=col>발생건수</th><th scope=col>사망자수</th><th scope=col>부상자수</th></tr></thead>\n",
       "<tbody>\n",
       "\t<tr><td>2011  </td><td>1     </td><td>종로구</td><td>115   </td><td>2     </td><td>165   </td></tr>\n",
       "\t<tr><td>2011  </td><td>2     </td><td>종로구</td><td> 99   </td><td>0     </td><td>134   </td></tr>\n",
       "\t<tr><td>2011  </td><td>3     </td><td>종로구</td><td>116   </td><td>0     </td><td>162   </td></tr>\n",
       "\t<tr><td>2011  </td><td>4     </td><td>종로구</td><td>110   </td><td>1     </td><td>153   </td></tr>\n",
       "\t<tr><td>2011  </td><td>5     </td><td>종로구</td><td>122   </td><td>0     </td><td>157   </td></tr>\n",
       "\t<tr><td>2011  </td><td>6     </td><td>종로구</td><td>116   </td><td>3     </td><td>163   </td></tr>\n",
       "</tbody>\n",
       "</table>\n"
      ],
      "text/latex": [
       "\\begin{tabular}{r|llllll}\n",
       " 년도 & 월 & 자치구명 & 발생건수 & 사망자수 & 부상자수\\\\\n",
       "\\hline\n",
       "\t 2011   & 1      & 종로구 & 115    & 2      & 165   \\\\\n",
       "\t 2011   & 2      & 종로구 &  99    & 0      & 134   \\\\\n",
       "\t 2011   & 3      & 종로구 & 116    & 0      & 162   \\\\\n",
       "\t 2011   & 4      & 종로구 & 110    & 1      & 153   \\\\\n",
       "\t 2011   & 5      & 종로구 & 122    & 0      & 157   \\\\\n",
       "\t 2011   & 6      & 종로구 & 116    & 3      & 163   \\\\\n",
       "\\end{tabular}\n"
      ],
      "text/markdown": [
       "\n",
       "| 년도 | 월 | 자치구명 | 발생건수 | 사망자수 | 부상자수 |\n",
       "|---|---|---|---|---|---|\n",
       "| 2011   | 1      | 종로구 | 115    | 2      | 165    |\n",
       "| 2011   | 2      | 종로구 |  99    | 0      | 134    |\n",
       "| 2011   | 3      | 종로구 | 116    | 0      | 162    |\n",
       "| 2011   | 4      | 종로구 | 110    | 1      | 153    |\n",
       "| 2011   | 5      | 종로구 | 122    | 0      | 157    |\n",
       "| 2011   | 6      | 종로구 | 116    | 3      | 163    |\n",
       "\n"
      ],
      "text/plain": [
       "  년도 월 자치구명 발생건수 사망자수 부상자수\n",
       "1 2011 1  종로구   115      2        165     \n",
       "2 2011 2  종로구    99      0        134     \n",
       "3 2011 3  종로구   116      0        162     \n",
       "4 2011 4  종로구   110      1        153     \n",
       "5 2011 5  종로구   122      0        157     \n",
       "6 2011 6  종로구   116      3        163     "
      ]
     },
     "metadata": {},
     "output_type": "display_data"
    },
    {
     "data": {
      "text/html": [
       "<table>\n",
       "<thead><tr><th></th><th scope=col>년도</th><th scope=col>월</th><th scope=col>자치구명</th><th scope=col>발생건수</th><th scope=col>사망자수</th><th scope=col>부상자수</th></tr></thead>\n",
       "<tbody>\n",
       "\t<tr><th scope=row>2695</th><td>2019  </td><td> 7    </td><td>강동구</td><td>146   </td><td>2     </td><td>189   </td></tr>\n",
       "\t<tr><th scope=row>2696</th><td>2019  </td><td> 8    </td><td>강동구</td><td>127   </td><td>2     </td><td>175   </td></tr>\n",
       "\t<tr><th scope=row>2697</th><td>2019  </td><td> 9    </td><td>강동구</td><td> 98   </td><td>2     </td><td>137   </td></tr>\n",
       "\t<tr><th scope=row>2698</th><td>2019  </td><td>10    </td><td>강동구</td><td>108   </td><td>1     </td><td>144   </td></tr>\n",
       "\t<tr><th scope=row>2699</th><td>2019  </td><td>11    </td><td>강동구</td><td>146   </td><td>0     </td><td>199   </td></tr>\n",
       "\t<tr><th scope=row>2700</th><td>2019  </td><td>12    </td><td>강동구</td><td>108   </td><td>1     </td><td>131   </td></tr>\n",
       "</tbody>\n",
       "</table>\n"
      ],
      "text/latex": [
       "\\begin{tabular}{r|llllll}\n",
       "  & 년도 & 월 & 자치구명 & 발생건수 & 사망자수 & 부상자수\\\\\n",
       "\\hline\n",
       "\t2695 & 2019   &  7     & 강동구 & 146    & 2      & 189   \\\\\n",
       "\t2696 & 2019   &  8     & 강동구 & 127    & 2      & 175   \\\\\n",
       "\t2697 & 2019   &  9     & 강동구 &  98    & 2      & 137   \\\\\n",
       "\t2698 & 2019   & 10     & 강동구 & 108    & 1      & 144   \\\\\n",
       "\t2699 & 2019   & 11     & 강동구 & 146    & 0      & 199   \\\\\n",
       "\t2700 & 2019   & 12     & 강동구 & 108    & 1      & 131   \\\\\n",
       "\\end{tabular}\n"
      ],
      "text/markdown": [
       "\n",
       "| <!--/--> | 년도 | 월 | 자치구명 | 발생건수 | 사망자수 | 부상자수 |\n",
       "|---|---|---|---|---|---|---|\n",
       "| 2695 | 2019   |  7     | 강동구 | 146    | 2      | 189    |\n",
       "| 2696 | 2019   |  8     | 강동구 | 127    | 2      | 175    |\n",
       "| 2697 | 2019   |  9     | 강동구 |  98    | 2      | 137    |\n",
       "| 2698 | 2019   | 10     | 강동구 | 108    | 1      | 144    |\n",
       "| 2699 | 2019   | 11     | 강동구 | 146    | 0      | 199    |\n",
       "| 2700 | 2019   | 12     | 강동구 | 108    | 1      | 131    |\n",
       "\n"
      ],
      "text/plain": [
       "     년도 월 자치구명 발생건수 사망자수 부상자수\n",
       "2695 2019  7 강동구   146      2        189     \n",
       "2696 2019  8 강동구   127      2        175     \n",
       "2697 2019  9 강동구    98      2        137     \n",
       "2698 2019 10 강동구   108      1        144     \n",
       "2699 2019 11 강동구   146      0        199     \n",
       "2700 2019 12 강동구   108      1        131     "
      ]
     },
     "metadata": {},
     "output_type": "display_data"
    },
    {
     "name": "stdout",
     "output_type": "stream",
     "text": [
      "'data.frame':\t2700 obs. of  6 variables:\n",
      " $ 년도    : int  2011 2011 2011 2011 2011 2011 2011 2011 2011 2011 ...\n",
      " $ 월      : int  1 2 3 4 5 6 7 8 9 10 ...\n",
      " $ 자치구명: Factor w/ 25 levels \"강남구\",\"강동구\",..: 23 23 23 23 23 23 23 23 23 23 ...\n",
      " $ 발생건수: int  115 99 116 110 122 116 103 122 121 135 ...\n",
      " $ 사망자수: int  2 0 0 1 0 3 1 1 2 2 ...\n",
      " $ 부상자수: int  165 134 162 153 157 163 154 171 166 193 ...\n"
     ]
    },
    {
     "data": {
      "text/plain": [
       "      년도            월           자치구명       발생건수        사망자수     \n",
       " Min.   :2011   Min.   : 1.00   강남구 : 108   Min.   : 45.0   Min.   : 0.000  \n",
       " 1st Qu.:2013   1st Qu.: 3.75   강동구 : 108   1st Qu.:100.0   1st Qu.: 0.000  \n",
       " Median :2015   Median : 6.50   강북구 : 108   Median :122.0   Median : 1.000  \n",
       " Mean   :2015   Mean   : 6.50   강서구 : 108   Mean   :133.3   Mean   : 1.207  \n",
       " 3rd Qu.:2017   3rd Qu.: 9.25   관악구 : 108   3rd Qu.:149.0   3rd Qu.: 2.000  \n",
       " Max.   :2019   Max.   :12.00   광진구 : 108   Max.   :383.0   Max.   :10.000  \n",
       "                                (Other):2052                                   \n",
       "    부상자수    \n",
       " Min.   : 55.0  \n",
       " 1st Qu.:138.0  \n",
       " Median :168.0  \n",
       " Mean   :187.4  \n",
       " 3rd Qu.:208.0  \n",
       " Max.   :552.0  \n",
       "                "
      ]
     },
     "metadata": {},
     "output_type": "display_data"
    }
   ],
   "source": [
    "# 데이터셋을 불러와서 seoul이라는 변수에 넣기\n",
    "seoul <- read.csv((\"../Data/newSeoul2019.csv\") )\n",
    "head(seoul)\n",
    "tail(seoul) \n",
    "str(seoul) \n",
    "summary(seoul) # 정규분포가 오른쪽,높은쪽으로 쏠려있음"
   ]
  },
  {
   "cell_type": "code",
   "execution_count": 45,
   "metadata": {
    "vscode": {
     "languageId": "r"
    }
   },
   "outputs": [
    {
     "data": {
      "text/html": [
       "0"
      ],
      "text/latex": [
       "0"
      ],
      "text/markdown": [
       "0"
      ],
      "text/plain": [
       "[1] 0"
      ]
     },
     "metadata": {},
     "output_type": "display_data"
    },
    {
     "name": "stdout",
     "output_type": "stream",
     "text": [
      "년도 : 0 \n",
      "월 : 0 \n",
      "자치구명 : 0 \n",
      "발생건수 : 0 \n",
      "사망자수 : 0 \n",
      "부상자수 : 0 \n"
     ]
    }
   ],
   "source": [
    "# 서울 데이터의 NA 찾기 \n",
    "sum(is.na(seoul)) # 여기서 일차적으로 확인하고 0 이면 패스 , 값이 있으면 컬럼별 NA값을 확인한다\n",
    "\n",
    "for(i in 1: ncol(seoul)){\n",
    "    cat( colnames(seoul)[i], \":\" , sum(is.na(seoul[,i])) ,\"\\n\")\n",
    "}"
   ]
  },
  {
   "cell_type": "markdown",
   "metadata": {},
   "source": [
    "## 컬럼별 데이터 확인"
   ]
  },
  {
   "cell_type": "code",
   "execution_count": 46,
   "metadata": {
    "vscode": {
     "languageId": "r"
    }
   },
   "outputs": [
    {
     "data": {
      "text/plain": [
       "\n",
       "2011 2012 2013 2014 2015 2016 2017 2018 2019 \n",
       " 300  300  300  300  300  300  300  300  300 "
      ]
     },
     "metadata": {},
     "output_type": "display_data"
    },
    {
     "data": {
      "text/plain": [
       "\n",
       "  1   2   3   4   5   6   7   8   9  10  11  12 \n",
       "225 225 225 225 225 225 225 225 225 225 225 225 "
      ]
     },
     "metadata": {},
     "output_type": "display_data"
    },
    {
     "data": {
      "text/plain": [
       "\n",
       "  강남구   강동구   강북구   강서구   관악구   광진구   구로구   금천구 \n",
       "     108      108      108      108      108      108      108      108 \n",
       "  노원구   도봉구 동대문구   동작구   마포구 서대문구   서초구   성동구 \n",
       "     108      108      108      108      108      108      108      108 \n",
       "  성북구   송파구   양천구 영등포구   용산구   은평구   종로구     중구 \n",
       "     108      108      108      108      108      108      108      108 \n",
       "  중랑구 \n",
       "     108 "
      ]
     },
     "metadata": {},
     "output_type": "display_data"
    }
   ],
   "source": [
    "# 년도별 데이터가 동일한지 확인\n",
    "table(seoul$년도)\n",
    "\n",
    "# 월 별\n",
    "table(seoul$월)\n",
    "\n",
    "# 자치구 별\n",
    "table(seoul$자치구)\n",
    "\n"
   ]
  },
  {
   "cell_type": "markdown",
   "metadata": {},
   "source": [
    "## 분석 시작"
   ]
  },
  {
   "cell_type": "code",
   "execution_count": 47,
   "metadata": {
    "vscode": {
     "languageId": "r"
    }
   },
   "outputs": [
    {
     "data": {
      "text/html": [
       "<table>\n",
       "<thead><tr><th scope=col>자치구명</th><th scope=col>발생건수</th></tr></thead>\n",
       "<tbody>\n",
       "\t<tr><td>강남구  </td><td>306.3611</td></tr>\n",
       "\t<tr><td>강동구  </td><td>118.5370</td></tr>\n",
       "\t<tr><td>강북구  </td><td>101.7870</td></tr>\n",
       "\t<tr><td>강서구  </td><td>145.4722</td></tr>\n",
       "\t<tr><td>관악구  </td><td>128.3889</td></tr>\n",
       "\t<tr><td>광진구  </td><td>103.0741</td></tr>\n",
       "</tbody>\n",
       "</table>\n"
      ],
      "text/latex": [
       "\\begin{tabular}{r|ll}\n",
       " 자치구명 & 발생건수\\\\\n",
       "\\hline\n",
       "\t 강남구   & 306.3611\\\\\n",
       "\t 강동구   & 118.5370\\\\\n",
       "\t 강북구   & 101.7870\\\\\n",
       "\t 강서구   & 145.4722\\\\\n",
       "\t 관악구   & 128.3889\\\\\n",
       "\t 광진구   & 103.0741\\\\\n",
       "\\end{tabular}\n"
      ],
      "text/markdown": [
       "\n",
       "| 자치구명 | 발생건수 |\n",
       "|---|---|\n",
       "| 강남구   | 306.3611 |\n",
       "| 강동구   | 118.5370 |\n",
       "| 강북구   | 101.7870 |\n",
       "| 강서구   | 145.4722 |\n",
       "| 관악구   | 128.3889 |\n",
       "| 광진구   | 103.0741 |\n",
       "\n"
      ],
      "text/plain": [
       "  자치구명 발생건수\n",
       "1 강남구   306.3611\n",
       "2 강동구   118.5370\n",
       "3 강북구   101.7870\n",
       "4 강서구   145.4722\n",
       "5 관악구   128.3889\n",
       "6 광진구   103.0741"
      ]
     },
     "metadata": {},
     "output_type": "display_data"
    }
   ],
   "source": [
    "# 자치구별 발생건수의 평균\n",
    "regionAcc.mean <- aggregate( 발생건수 ~ 자치구명, seoul , mean)\n",
    "head(regionAcc.mean)"
   ]
  },
  {
   "cell_type": "code",
   "execution_count": 48,
   "metadata": {
    "vscode": {
     "languageId": "r"
    }
   },
   "outputs": [
    {
     "data": {
      "text/html": [
       "<table>\n",
       "<thead><tr><th scope=col>자치구명</th><th scope=col>발생건수</th></tr></thead>\n",
       "<tbody>\n",
       "\t<tr><td>강남구   </td><td>306.36111</td></tr>\n",
       "\t<tr><td>송파구   </td><td>224.75926</td></tr>\n",
       "\t<tr><td>영등포구 </td><td>194.64815</td></tr>\n",
       "\t<tr><td>서초구   </td><td>186.48148</td></tr>\n",
       "\t<tr><td>동대문구 </td><td>153.64815</td></tr>\n",
       "\t<tr><td>강서구   </td><td>145.47222</td></tr>\n",
       "\t<tr><td>마포구   </td><td>141.51852</td></tr>\n",
       "\t<tr><td>중랑구   </td><td>138.46296</td></tr>\n",
       "\t<tr><td>성북구   </td><td>130.85185</td></tr>\n",
       "\t<tr><td>노원구   </td><td>129.21296</td></tr>\n",
       "\t<tr><td>관악구   </td><td>128.38889</td></tr>\n",
       "\t<tr><td>구로구   </td><td>126.09259</td></tr>\n",
       "\t<tr><td>양천구   </td><td>120.68519</td></tr>\n",
       "\t<tr><td>강동구   </td><td>118.53704</td></tr>\n",
       "\t<tr><td>동작구   </td><td>112.64815</td></tr>\n",
       "\t<tr><td>용산구   </td><td>110.29630</td></tr>\n",
       "\t<tr><td>중구     </td><td>110.11111</td></tr>\n",
       "\t<tr><td>종로구   </td><td>106.97222</td></tr>\n",
       "\t<tr><td>은평구   </td><td>104.32407</td></tr>\n",
       "\t<tr><td>광진구   </td><td>103.07407</td></tr>\n",
       "\t<tr><td>강북구   </td><td>101.78704</td></tr>\n",
       "\t<tr><td>성동구   </td><td> 93.19444</td></tr>\n",
       "\t<tr><td>서대문구 </td><td> 89.71296</td></tr>\n",
       "\t<tr><td>금천구   </td><td> 78.69444</td></tr>\n",
       "\t<tr><td>도봉구   </td><td> 76.40741</td></tr>\n",
       "</tbody>\n",
       "</table>\n"
      ],
      "text/latex": [
       "\\begin{tabular}{r|ll}\n",
       " 자치구명 & 발생건수\\\\\n",
       "\\hline\n",
       "\t 강남구    & 306.36111\\\\\n",
       "\t 송파구    & 224.75926\\\\\n",
       "\t 영등포구  & 194.64815\\\\\n",
       "\t 서초구    & 186.48148\\\\\n",
       "\t 동대문구  & 153.64815\\\\\n",
       "\t 강서구    & 145.47222\\\\\n",
       "\t 마포구    & 141.51852\\\\\n",
       "\t 중랑구    & 138.46296\\\\\n",
       "\t 성북구    & 130.85185\\\\\n",
       "\t 노원구    & 129.21296\\\\\n",
       "\t 관악구    & 128.38889\\\\\n",
       "\t 구로구    & 126.09259\\\\\n",
       "\t 양천구    & 120.68519\\\\\n",
       "\t 강동구    & 118.53704\\\\\n",
       "\t 동작구    & 112.64815\\\\\n",
       "\t 용산구    & 110.29630\\\\\n",
       "\t 중구      & 110.11111\\\\\n",
       "\t 종로구    & 106.97222\\\\\n",
       "\t 은평구    & 104.32407\\\\\n",
       "\t 광진구    & 103.07407\\\\\n",
       "\t 강북구    & 101.78704\\\\\n",
       "\t 성동구    &  93.19444\\\\\n",
       "\t 서대문구  &  89.71296\\\\\n",
       "\t 금천구    &  78.69444\\\\\n",
       "\t 도봉구    &  76.40741\\\\\n",
       "\\end{tabular}\n"
      ],
      "text/markdown": [
       "\n",
       "| 자치구명 | 발생건수 |\n",
       "|---|---|\n",
       "| 강남구    | 306.36111 |\n",
       "| 송파구    | 224.75926 |\n",
       "| 영등포구  | 194.64815 |\n",
       "| 서초구    | 186.48148 |\n",
       "| 동대문구  | 153.64815 |\n",
       "| 강서구    | 145.47222 |\n",
       "| 마포구    | 141.51852 |\n",
       "| 중랑구    | 138.46296 |\n",
       "| 성북구    | 130.85185 |\n",
       "| 노원구    | 129.21296 |\n",
       "| 관악구    | 128.38889 |\n",
       "| 구로구    | 126.09259 |\n",
       "| 양천구    | 120.68519 |\n",
       "| 강동구    | 118.53704 |\n",
       "| 동작구    | 112.64815 |\n",
       "| 용산구    | 110.29630 |\n",
       "| 중구      | 110.11111 |\n",
       "| 종로구    | 106.97222 |\n",
       "| 은평구    | 104.32407 |\n",
       "| 광진구    | 103.07407 |\n",
       "| 강북구    | 101.78704 |\n",
       "| 성동구    |  93.19444 |\n",
       "| 서대문구  |  89.71296 |\n",
       "| 금천구    |  78.69444 |\n",
       "| 도봉구    |  76.40741 |\n",
       "\n"
      ],
      "text/plain": [
       "   자치구명 발생건수 \n",
       "1  강남구   306.36111\n",
       "2  송파구   224.75926\n",
       "3  영등포구 194.64815\n",
       "4  서초구   186.48148\n",
       "5  동대문구 153.64815\n",
       "6  강서구   145.47222\n",
       "7  마포구   141.51852\n",
       "8  중랑구   138.46296\n",
       "9  성북구   130.85185\n",
       "10 노원구   129.21296\n",
       "11 관악구   128.38889\n",
       "12 구로구   126.09259\n",
       "13 양천구   120.68519\n",
       "14 강동구   118.53704\n",
       "15 동작구   112.64815\n",
       "16 용산구   110.29630\n",
       "17 중구     110.11111\n",
       "18 종로구   106.97222\n",
       "19 은평구   104.32407\n",
       "20 광진구   103.07407\n",
       "21 강북구   101.78704\n",
       "22 성동구    93.19444\n",
       "23 서대문구  89.71296\n",
       "24 금천구    78.69444\n",
       "25 도봉구    76.40741"
      ]
     },
     "metadata": {},
     "output_type": "display_data"
    }
   ],
   "source": [
    "# regionAcc.mean을 발생건수 기준으로 내림차순 정렬하기\n",
    "arrange(regionAcc.mean, desc(발생건수))\n",
    "# 평균값을 믿어도 되는지 ?"
   ]
  },
  {
   "cell_type": "markdown",
   "metadata": {},
   "source": [
    "> 4/28  수업 끗"
   ]
  },
  {
   "cell_type": "code",
   "execution_count": 56,
   "metadata": {
    "vscode": {
     "languageId": "r"
    }
   },
   "outputs": [
    {
     "data": {
      "text/html": [
       "<table>\n",
       "<thead><tr><th scope=col>자치구명</th><th scope=col>발생건수</th></tr></thead>\n",
       "<tbody>\n",
       "\t<tr><td>강남구  </td><td>32.92968</td></tr>\n",
       "\t<tr><td>강동구  </td><td>15.24836</td></tr>\n",
       "\t<tr><td>강북구  </td><td>14.80784</td></tr>\n",
       "\t<tr><td>강서구  </td><td>19.66659</td></tr>\n",
       "\t<tr><td>관악구  </td><td>22.62611</td></tr>\n",
       "\t<tr><td>광진구  </td><td>21.85582</td></tr>\n",
       "</tbody>\n",
       "</table>\n"
      ],
      "text/latex": [
       "\\begin{tabular}{r|ll}\n",
       " 자치구명 & 발생건수\\\\\n",
       "\\hline\n",
       "\t 강남구   & 32.92968\\\\\n",
       "\t 강동구   & 15.24836\\\\\n",
       "\t 강북구   & 14.80784\\\\\n",
       "\t 강서구   & 19.66659\\\\\n",
       "\t 관악구   & 22.62611\\\\\n",
       "\t 광진구   & 21.85582\\\\\n",
       "\\end{tabular}\n"
      ],
      "text/markdown": [
       "\n",
       "| 자치구명 | 발생건수 |\n",
       "|---|---|\n",
       "| 강남구   | 32.92968 |\n",
       "| 강동구   | 15.24836 |\n",
       "| 강북구   | 14.80784 |\n",
       "| 강서구   | 19.66659 |\n",
       "| 관악구   | 22.62611 |\n",
       "| 광진구   | 21.85582 |\n",
       "\n"
      ],
      "text/plain": [
       "  자치구명 발생건수\n",
       "1 강남구   32.92968\n",
       "2 강동구   15.24836\n",
       "3 강북구   14.80784\n",
       "4 강서구   19.66659\n",
       "5 관악구   22.62611\n",
       "6 광진구   21.85582"
      ]
     },
     "metadata": {},
     "output_type": "display_data"
    }
   ],
   "source": [
    "# 평균과 데이터의 차이를 봐야한다(표준편차) 편차가 큰 데이터는 의미가 없다\n",
    "# 자치구 별 표준 편차\n",
    "regionAcc.sd <- aggregate( 발생건수 ~ 자치구명, seoul , sd)\n",
    "head(regionAcc.sd)"
   ]
  },
  {
   "cell_type": "code",
   "execution_count": 69,
   "metadata": {
    "vscode": {
     "languageId": "r"
    }
   },
   "outputs": [
    {
     "data": {
      "text/html": [
       "<ol class=list-inline>\n",
       "\t<li>0.107486482513602</li>\n",
       "\t<li>0.128637979714391</li>\n",
       "\t<li>0.145478594491982</li>\n",
       "\t<li>0.135191404686044</li>\n",
       "\t<li>0.176231052614568</li>\n",
       "\t<li>0.212039899114969</li>\n",
       "\t<li>0.124749016022975</li>\n",
       "\t<li>0.17928452073239</li>\n",
       "\t<li>0.126995840433658</li>\n",
       "\t<li>0.157419730514435</li>\n",
       "\t<li>0.147834704654914</li>\n",
       "\t<li>0.142874348737122</li>\n",
       "\t<li>0.127987255262908</li>\n",
       "\t<li>0.13321233953876</li>\n",
       "\t<li>0.126787757202217</li>\n",
       "\t<li>0.149968744010714</li>\n",
       "\t<li>0.140177159138654</li>\n",
       "\t<li>0.134134103472243</li>\n",
       "\t<li>0.141131538089865</li>\n",
       "\t<li>0.11770976181152</li>\n",
       "\t<li>0.150124463527667</li>\n",
       "\t<li>0.184994008930331</li>\n",
       "\t<li>0.15866237808939</li>\n",
       "\t<li>0.158113260829509</li>\n",
       "\t<li>0.128571242262573</li>\n",
       "</ol>\n"
      ],
      "text/latex": [
       "\\begin{enumerate*}\n",
       "\\item 0.107486482513602\n",
       "\\item 0.128637979714391\n",
       "\\item 0.145478594491982\n",
       "\\item 0.135191404686044\n",
       "\\item 0.176231052614568\n",
       "\\item 0.212039899114969\n",
       "\\item 0.124749016022975\n",
       "\\item 0.17928452073239\n",
       "\\item 0.126995840433658\n",
       "\\item 0.157419730514435\n",
       "\\item 0.147834704654914\n",
       "\\item 0.142874348737122\n",
       "\\item 0.127987255262908\n",
       "\\item 0.13321233953876\n",
       "\\item 0.126787757202217\n",
       "\\item 0.149968744010714\n",
       "\\item 0.140177159138654\n",
       "\\item 0.134134103472243\n",
       "\\item 0.141131538089865\n",
       "\\item 0.11770976181152\n",
       "\\item 0.150124463527667\n",
       "\\item 0.184994008930331\n",
       "\\item 0.15866237808939\n",
       "\\item 0.158113260829509\n",
       "\\item 0.128571242262573\n",
       "\\end{enumerate*}\n"
      ],
      "text/markdown": [
       "1. 0.107486482513602\n",
       "2. 0.128637979714391\n",
       "3. 0.145478594491982\n",
       "4. 0.135191404686044\n",
       "5. 0.176231052614568\n",
       "6. 0.212039899114969\n",
       "7. 0.124749016022975\n",
       "8. 0.17928452073239\n",
       "9. 0.126995840433658\n",
       "10. 0.157419730514435\n",
       "11. 0.147834704654914\n",
       "12. 0.142874348737122\n",
       "13. 0.127987255262908\n",
       "14. 0.13321233953876\n",
       "15. 0.126787757202217\n",
       "16. 0.149968744010714\n",
       "17. 0.140177159138654\n",
       "18. 0.134134103472243\n",
       "19. 0.141131538089865\n",
       "20. 0.11770976181152\n",
       "21. 0.150124463527667\n",
       "22. 0.184994008930331\n",
       "23. 0.15866237808939\n",
       "24. 0.158113260829509\n",
       "25. 0.128571242262573\n",
       "\n",
       "\n"
      ],
      "text/plain": [
       " [1] 0.1074865 0.1286380 0.1454786 0.1351914 0.1762311 0.2120399 0.1247490\n",
       " [8] 0.1792845 0.1269958 0.1574197 0.1478347 0.1428743 0.1279873 0.1332123\n",
       "[15] 0.1267878 0.1499687 0.1401772 0.1341341 0.1411315 0.1177098 0.1501245\n",
       "[22] 0.1849940 0.1586624 0.1581133 0.1285712"
      ]
     },
     "metadata": {},
     "output_type": "display_data"
    }
   ],
   "source": [
    "# 자치구별 발생건수의 변동계수\n",
    "# 변동계수 cv = 표준편차 / 평균\n",
    "regionAcc.cv <- regionAcc.sd$발생건수 / regionAcc.mean$발생건수  \n",
    "regionAcc.cv"
   ]
  },
  {
   "cell_type": "code",
   "execution_count": 76,
   "metadata": {
    "vscode": {
     "languageId": "r"
    }
   },
   "outputs": [
    {
     "data": {
      "text/html": [
       "<table>\n",
       "<thead><tr><th scope=col>자치구명</th><th scope=col>변동계수</th></tr></thead>\n",
       "<tbody>\n",
       "\t<tr><td>강남구   </td><td>0.1074865</td></tr>\n",
       "\t<tr><td>영등포구 </td><td>0.1177098</td></tr>\n",
       "\t<tr><td>구로구   </td><td>0.1247490</td></tr>\n",
       "\t<tr><td>서초구   </td><td>0.1267878</td></tr>\n",
       "\t<tr><td>노원구   </td><td>0.1269958</td></tr>\n",
       "\t<tr><td>마포구   </td><td>0.1279873</td></tr>\n",
       "\t<tr><td>중랑구   </td><td>0.1285712</td></tr>\n",
       "\t<tr><td>강동구   </td><td>0.1286380</td></tr>\n",
       "\t<tr><td>서대문구 </td><td>0.1332123</td></tr>\n",
       "\t<tr><td>송파구   </td><td>0.1341341</td></tr>\n",
       "\t<tr><td>강서구   </td><td>0.1351914</td></tr>\n",
       "\t<tr><td>성북구   </td><td>0.1401772</td></tr>\n",
       "\t<tr><td>양천구   </td><td>0.1411315</td></tr>\n",
       "\t<tr><td>동작구   </td><td>0.1428743</td></tr>\n",
       "\t<tr><td>강북구   </td><td>0.1454786</td></tr>\n",
       "\t<tr><td>동대문구 </td><td>0.1478347</td></tr>\n",
       "\t<tr><td>성동구   </td><td>0.1499687</td></tr>\n",
       "\t<tr><td>용산구   </td><td>0.1501245</td></tr>\n",
       "\t<tr><td>도봉구   </td><td>0.1574197</td></tr>\n",
       "\t<tr><td>중구     </td><td>0.1581133</td></tr>\n",
       "\t<tr><td>종로구   </td><td>0.1586624</td></tr>\n",
       "\t<tr><td>관악구   </td><td>0.1762311</td></tr>\n",
       "\t<tr><td>금천구   </td><td>0.1792845</td></tr>\n",
       "\t<tr><td>은평구   </td><td>0.1849940</td></tr>\n",
       "\t<tr><td>광진구   </td><td>0.2120399</td></tr>\n",
       "</tbody>\n",
       "</table>\n"
      ],
      "text/latex": [
       "\\begin{tabular}{r|ll}\n",
       " 자치구명 & 변동계수\\\\\n",
       "\\hline\n",
       "\t 강남구    & 0.1074865\\\\\n",
       "\t 영등포구  & 0.1177098\\\\\n",
       "\t 구로구    & 0.1247490\\\\\n",
       "\t 서초구    & 0.1267878\\\\\n",
       "\t 노원구    & 0.1269958\\\\\n",
       "\t 마포구    & 0.1279873\\\\\n",
       "\t 중랑구    & 0.1285712\\\\\n",
       "\t 강동구    & 0.1286380\\\\\n",
       "\t 서대문구  & 0.1332123\\\\\n",
       "\t 송파구    & 0.1341341\\\\\n",
       "\t 강서구    & 0.1351914\\\\\n",
       "\t 성북구    & 0.1401772\\\\\n",
       "\t 양천구    & 0.1411315\\\\\n",
       "\t 동작구    & 0.1428743\\\\\n",
       "\t 강북구    & 0.1454786\\\\\n",
       "\t 동대문구  & 0.1478347\\\\\n",
       "\t 성동구    & 0.1499687\\\\\n",
       "\t 용산구    & 0.1501245\\\\\n",
       "\t 도봉구    & 0.1574197\\\\\n",
       "\t 중구      & 0.1581133\\\\\n",
       "\t 종로구    & 0.1586624\\\\\n",
       "\t 관악구    & 0.1762311\\\\\n",
       "\t 금천구    & 0.1792845\\\\\n",
       "\t 은평구    & 0.1849940\\\\\n",
       "\t 광진구    & 0.2120399\\\\\n",
       "\\end{tabular}\n"
      ],
      "text/markdown": [
       "\n",
       "| 자치구명 | 변동계수 |\n",
       "|---|---|\n",
       "| 강남구    | 0.1074865 |\n",
       "| 영등포구  | 0.1177098 |\n",
       "| 구로구    | 0.1247490 |\n",
       "| 서초구    | 0.1267878 |\n",
       "| 노원구    | 0.1269958 |\n",
       "| 마포구    | 0.1279873 |\n",
       "| 중랑구    | 0.1285712 |\n",
       "| 강동구    | 0.1286380 |\n",
       "| 서대문구  | 0.1332123 |\n",
       "| 송파구    | 0.1341341 |\n",
       "| 강서구    | 0.1351914 |\n",
       "| 성북구    | 0.1401772 |\n",
       "| 양천구    | 0.1411315 |\n",
       "| 동작구    | 0.1428743 |\n",
       "| 강북구    | 0.1454786 |\n",
       "| 동대문구  | 0.1478347 |\n",
       "| 성동구    | 0.1499687 |\n",
       "| 용산구    | 0.1501245 |\n",
       "| 도봉구    | 0.1574197 |\n",
       "| 중구      | 0.1581133 |\n",
       "| 종로구    | 0.1586624 |\n",
       "| 관악구    | 0.1762311 |\n",
       "| 금천구    | 0.1792845 |\n",
       "| 은평구    | 0.1849940 |\n",
       "| 광진구    | 0.2120399 |\n",
       "\n"
      ],
      "text/plain": [
       "   자치구명 변동계수 \n",
       "1  강남구   0.1074865\n",
       "2  영등포구 0.1177098\n",
       "3  구로구   0.1247490\n",
       "4  서초구   0.1267878\n",
       "5  노원구   0.1269958\n",
       "6  마포구   0.1279873\n",
       "7  중랑구   0.1285712\n",
       "8  강동구   0.1286380\n",
       "9  서대문구 0.1332123\n",
       "10 송파구   0.1341341\n",
       "11 강서구   0.1351914\n",
       "12 성북구   0.1401772\n",
       "13 양천구   0.1411315\n",
       "14 동작구   0.1428743\n",
       "15 강북구   0.1454786\n",
       "16 동대문구 0.1478347\n",
       "17 성동구   0.1499687\n",
       "18 용산구   0.1501245\n",
       "19 도봉구   0.1574197\n",
       "20 중구     0.1581133\n",
       "21 종로구   0.1586624\n",
       "22 관악구   0.1762311\n",
       "23 금천구   0.1792845\n",
       "24 은평구   0.1849940\n",
       "25 광진구   0.2120399"
      ]
     },
     "metadata": {},
     "output_type": "display_data"
    }
   ],
   "source": [
    "# 자치구명과 변동계수를 가진 dataframe 만들기\n",
    "regionAcc <- data.frame(자치구명 = regionAcc.sd$자치구명, 변동계수=regionAcc.cv)\n",
    "# regionAcc\n",
    "# 정렬\n",
    "arrange(regionAcc, 변동계수) # 작은값이 빈번하다는뜻이다. = 확률이 빈번하게 바뀐다.\n",
    "# 강남,영등포구 경기도권에서 서울 들어오는 입구들, 트럭이 많다, 대로라서 달리는 차가 많다, 인구가 많다, 교통량이 많다. 그 외 경기도에서 서울로 들어오는 입구 쪽 동네들이 높다 "
   ]
  },
  {
   "cell_type": "code",
   "execution_count": 211,
   "metadata": {
    "vscode": {
     "languageId": "r"
    }
   },
   "outputs": [
    {
     "data": {
      "text/html": [
       "<table>\n",
       "<thead><tr><th scope=col>자치구명</th><th scope=col>변동계수</th></tr></thead>\n",
       "<tbody>\n",
       "\t<tr><td>강남구   </td><td>0.1125485</td></tr>\n",
       "\t<tr><td>영등포구 </td><td>0.1258837</td></tr>\n",
       "\t<tr><td>노원구   </td><td>0.1283799</td></tr>\n",
       "\t<tr><td>송파구   </td><td>0.1297795</td></tr>\n",
       "\t<tr><td>서초구   </td><td>0.1352681</td></tr>\n",
       "\t<tr><td>강북구   </td><td>0.1356240</td></tr>\n",
       "\t<tr><td>중랑구   </td><td>0.1405188</td></tr>\n",
       "\t<tr><td>구로구   </td><td>0.1408256</td></tr>\n",
       "\t<tr><td>강동구   </td><td>0.1427554</td></tr>\n",
       "\t<tr><td>성북구   </td><td>0.1486599</td></tr>\n",
       "\t<tr><td>강서구   </td><td>0.1565859</td></tr>\n",
       "\t<tr><td>동작구   </td><td>0.1577050</td></tr>\n",
       "\t<tr><td>성동구   </td><td>0.1577153</td></tr>\n",
       "\t<tr><td>동대문구 </td><td>0.1593313</td></tr>\n",
       "\t<tr><td>양천구   </td><td>0.1599635</td></tr>\n",
       "\t<tr><td>중구     </td><td>0.1609844</td></tr>\n",
       "\t<tr><td>용산구   </td><td>0.1612301</td></tr>\n",
       "\t<tr><td>마포구   </td><td>0.1622381</td></tr>\n",
       "\t<tr><td>종로구   </td><td>0.1689405</td></tr>\n",
       "\t<tr><td>도봉구   </td><td>0.1777896</td></tr>\n",
       "\t<tr><td>서대문구 </td><td>0.1791661</td></tr>\n",
       "\t<tr><td>관악구   </td><td>0.1903978</td></tr>\n",
       "\t<tr><td>은평구   </td><td>0.2052181</td></tr>\n",
       "\t<tr><td>금천구   </td><td>0.2206970</td></tr>\n",
       "\t<tr><td>광진구   </td><td>0.2353976</td></tr>\n",
       "</tbody>\n",
       "</table>\n"
      ],
      "text/latex": [
       "\\begin{tabular}{r|ll}\n",
       " 자치구명 & 변동계수\\\\\n",
       "\\hline\n",
       "\t 강남구    & 0.1125485\\\\\n",
       "\t 영등포구  & 0.1258837\\\\\n",
       "\t 노원구    & 0.1283799\\\\\n",
       "\t 송파구    & 0.1297795\\\\\n",
       "\t 서초구    & 0.1352681\\\\\n",
       "\t 강북구    & 0.1356240\\\\\n",
       "\t 중랑구    & 0.1405188\\\\\n",
       "\t 구로구    & 0.1408256\\\\\n",
       "\t 강동구    & 0.1427554\\\\\n",
       "\t 성북구    & 0.1486599\\\\\n",
       "\t 강서구    & 0.1565859\\\\\n",
       "\t 동작구    & 0.1577050\\\\\n",
       "\t 성동구    & 0.1577153\\\\\n",
       "\t 동대문구  & 0.1593313\\\\\n",
       "\t 양천구    & 0.1599635\\\\\n",
       "\t 중구      & 0.1609844\\\\\n",
       "\t 용산구    & 0.1612301\\\\\n",
       "\t 마포구    & 0.1622381\\\\\n",
       "\t 종로구    & 0.1689405\\\\\n",
       "\t 도봉구    & 0.1777896\\\\\n",
       "\t 서대문구  & 0.1791661\\\\\n",
       "\t 관악구    & 0.1903978\\\\\n",
       "\t 은평구    & 0.2052181\\\\\n",
       "\t 금천구    & 0.2206970\\\\\n",
       "\t 광진구    & 0.2353976\\\\\n",
       "\\end{tabular}\n"
      ],
      "text/markdown": [
       "\n",
       "| 자치구명 | 변동계수 |\n",
       "|---|---|\n",
       "| 강남구    | 0.1125485 |\n",
       "| 영등포구  | 0.1258837 |\n",
       "| 노원구    | 0.1283799 |\n",
       "| 송파구    | 0.1297795 |\n",
       "| 서초구    | 0.1352681 |\n",
       "| 강북구    | 0.1356240 |\n",
       "| 중랑구    | 0.1405188 |\n",
       "| 구로구    | 0.1408256 |\n",
       "| 강동구    | 0.1427554 |\n",
       "| 성북구    | 0.1486599 |\n",
       "| 강서구    | 0.1565859 |\n",
       "| 동작구    | 0.1577050 |\n",
       "| 성동구    | 0.1577153 |\n",
       "| 동대문구  | 0.1593313 |\n",
       "| 양천구    | 0.1599635 |\n",
       "| 중구      | 0.1609844 |\n",
       "| 용산구    | 0.1612301 |\n",
       "| 마포구    | 0.1622381 |\n",
       "| 종로구    | 0.1689405 |\n",
       "| 도봉구    | 0.1777896 |\n",
       "| 서대문구  | 0.1791661 |\n",
       "| 관악구    | 0.1903978 |\n",
       "| 은평구    | 0.2052181 |\n",
       "| 금천구    | 0.2206970 |\n",
       "| 광진구    | 0.2353976 |\n",
       "\n"
      ],
      "text/plain": [
       "   자치구명 변동계수 \n",
       "1  강남구   0.1125485\n",
       "2  영등포구 0.1258837\n",
       "3  노원구   0.1283799\n",
       "4  송파구   0.1297795\n",
       "5  서초구   0.1352681\n",
       "6  강북구   0.1356240\n",
       "7  중랑구   0.1405188\n",
       "8  구로구   0.1408256\n",
       "9  강동구   0.1427554\n",
       "10 성북구   0.1486599\n",
       "11 강서구   0.1565859\n",
       "12 동작구   0.1577050\n",
       "13 성동구   0.1577153\n",
       "14 동대문구 0.1593313\n",
       "15 양천구   0.1599635\n",
       "16 중구     0.1609844\n",
       "17 용산구   0.1612301\n",
       "18 마포구   0.1622381\n",
       "19 종로구   0.1689405\n",
       "20 도봉구   0.1777896\n",
       "21 서대문구 0.1791661\n",
       "22 관악구   0.1903978\n",
       "23 은평구   0.2052181\n",
       "24 금천구   0.2206970\n",
       "25 광진구   0.2353976"
      ]
     },
     "metadata": {},
     "output_type": "display_data"
    }
   ],
   "source": [
    "# 서울시 교통사고 부상자수에 대한 변동계수 구하기 \n",
    "in_mean <- aggregate( 부상자수~ 자치구명, seoul , mean)\n",
    "in_sd <- aggregate( 부상자수~ 자치구명, seoul , sd)\n",
    "in_cv <- insd$부상자수 / inmean$부상자수 \n",
    "regionInjure <- data.frame(자치구명 = inmean$자치구명 , 변동계수 = incv)\n",
    "arrange(regionInjure, 변동계수)"
   ]
  },
  {
   "cell_type": "code",
   "execution_count": 223,
   "metadata": {
    "vscode": {
     "languageId": "r"
    }
   },
   "outputs": [
    {
     "data": {
      "text/html": [
       "<table>\n",
       "<thead><tr><th scope=col>자치구명</th><th scope=col>변동계수</th></tr></thead>\n",
       "<tbody>\n",
       "\t<tr><td>영등포구 </td><td>0.6293361</td></tr>\n",
       "\t<tr><td>강동구   </td><td>0.7663838</td></tr>\n",
       "\t<tr><td>강남구   </td><td>0.7864080</td></tr>\n",
       "\t<tr><td>송파구   </td><td>0.8062102</td></tr>\n",
       "\t<tr><td>서초구   </td><td>0.8277334</td></tr>\n",
       "\t<tr><td>노원구   </td><td>0.8443981</td></tr>\n",
       "\t<tr><td>은평구   </td><td>0.8527234</td></tr>\n",
       "\t<tr><td>강서구   </td><td>0.8635127</td></tr>\n",
       "\t<tr><td>관악구   </td><td>0.9202590</td></tr>\n",
       "\t<tr><td>종로구   </td><td>0.9332813</td></tr>\n",
       "\t<tr><td>동대문구 </td><td>0.9432929</td></tr>\n",
       "\t<tr><td>구로구   </td><td>0.9565578</td></tr>\n",
       "\t<tr><td>용산구   </td><td>0.9609775</td></tr>\n",
       "\t<tr><td>서대문구 </td><td>0.9634543</td></tr>\n",
       "\t<tr><td>강북구   </td><td>0.9826626</td></tr>\n",
       "\t<tr><td>성북구   </td><td>0.9886017</td></tr>\n",
       "\t<tr><td>광진구   </td><td>1.0026785</td></tr>\n",
       "\t<tr><td>성동구   </td><td>1.0422291</td></tr>\n",
       "\t<tr><td>양천구   </td><td>1.0473578</td></tr>\n",
       "\t<tr><td>마포구   </td><td>1.0556714</td></tr>\n",
       "\t<tr><td>동작구   </td><td>1.0596641</td></tr>\n",
       "\t<tr><td>중랑구   </td><td>1.1019842</td></tr>\n",
       "\t<tr><td>도봉구   </td><td>1.1260506</td></tr>\n",
       "\t<tr><td>금천구   </td><td>1.1968557</td></tr>\n",
       "\t<tr><td>중구     </td><td>1.3235261</td></tr>\n",
       "</tbody>\n",
       "</table>\n"
      ],
      "text/latex": [
       "\\begin{tabular}{r|ll}\n",
       " 자치구명 & 변동계수\\\\\n",
       "\\hline\n",
       "\t 영등포구  & 0.6293361\\\\\n",
       "\t 강동구    & 0.7663838\\\\\n",
       "\t 강남구    & 0.7864080\\\\\n",
       "\t 송파구    & 0.8062102\\\\\n",
       "\t 서초구    & 0.8277334\\\\\n",
       "\t 노원구    & 0.8443981\\\\\n",
       "\t 은평구    & 0.8527234\\\\\n",
       "\t 강서구    & 0.8635127\\\\\n",
       "\t 관악구    & 0.9202590\\\\\n",
       "\t 종로구    & 0.9332813\\\\\n",
       "\t 동대문구  & 0.9432929\\\\\n",
       "\t 구로구    & 0.9565578\\\\\n",
       "\t 용산구    & 0.9609775\\\\\n",
       "\t 서대문구  & 0.9634543\\\\\n",
       "\t 강북구    & 0.9826626\\\\\n",
       "\t 성북구    & 0.9886017\\\\\n",
       "\t 광진구    & 1.0026785\\\\\n",
       "\t 성동구    & 1.0422291\\\\\n",
       "\t 양천구    & 1.0473578\\\\\n",
       "\t 마포구    & 1.0556714\\\\\n",
       "\t 동작구    & 1.0596641\\\\\n",
       "\t 중랑구    & 1.1019842\\\\\n",
       "\t 도봉구    & 1.1260506\\\\\n",
       "\t 금천구    & 1.1968557\\\\\n",
       "\t 중구      & 1.3235261\\\\\n",
       "\\end{tabular}\n"
      ],
      "text/markdown": [
       "\n",
       "| 자치구명 | 변동계수 |\n",
       "|---|---|\n",
       "| 영등포구  | 0.6293361 |\n",
       "| 강동구    | 0.7663838 |\n",
       "| 강남구    | 0.7864080 |\n",
       "| 송파구    | 0.8062102 |\n",
       "| 서초구    | 0.8277334 |\n",
       "| 노원구    | 0.8443981 |\n",
       "| 은평구    | 0.8527234 |\n",
       "| 강서구    | 0.8635127 |\n",
       "| 관악구    | 0.9202590 |\n",
       "| 종로구    | 0.9332813 |\n",
       "| 동대문구  | 0.9432929 |\n",
       "| 구로구    | 0.9565578 |\n",
       "| 용산구    | 0.9609775 |\n",
       "| 서대문구  | 0.9634543 |\n",
       "| 강북구    | 0.9826626 |\n",
       "| 성북구    | 0.9886017 |\n",
       "| 광진구    | 1.0026785 |\n",
       "| 성동구    | 1.0422291 |\n",
       "| 양천구    | 1.0473578 |\n",
       "| 마포구    | 1.0556714 |\n",
       "| 동작구    | 1.0596641 |\n",
       "| 중랑구    | 1.1019842 |\n",
       "| 도봉구    | 1.1260506 |\n",
       "| 금천구    | 1.1968557 |\n",
       "| 중구      | 1.3235261 |\n",
       "\n"
      ],
      "text/plain": [
       "   자치구명 변동계수 \n",
       "1  영등포구 0.6293361\n",
       "2  강동구   0.7663838\n",
       "3  강남구   0.7864080\n",
       "4  송파구   0.8062102\n",
       "5  서초구   0.8277334\n",
       "6  노원구   0.8443981\n",
       "7  은평구   0.8527234\n",
       "8  강서구   0.8635127\n",
       "9  관악구   0.9202590\n",
       "10 종로구   0.9332813\n",
       "11 동대문구 0.9432929\n",
       "12 구로구   0.9565578\n",
       "13 용산구   0.9609775\n",
       "14 서대문구 0.9634543\n",
       "15 강북구   0.9826626\n",
       "16 성북구   0.9886017\n",
       "17 광진구   1.0026785\n",
       "18 성동구   1.0422291\n",
       "19 양천구   1.0473578\n",
       "20 마포구   1.0556714\n",
       "21 동작구   1.0596641\n",
       "22 중랑구   1.1019842\n",
       "23 도봉구   1.1260506\n",
       "24 금천구   1.1968557\n",
       "25 중구     1.3235261"
      ]
     },
     "metadata": {},
     "output_type": "display_data"
    }
   ],
   "source": [
    "# 서울시 교통사고 사망자수에 대한 변동계수 구하기 \n",
    "de_mean <- aggregate( 사망자수~ 자치구명, seoul , mean)\n",
    "de_sd <- aggregate( 사망자수~ 자치구명, seoul , sd)\n",
    "de_cv <- de_sd$사망자수 / de_mean$사망자수 \n",
    "regionDeath <- data.frame(자치구명 = de_mean$자치구명 , 변동계수 = de_cv)\n",
    "arrange(regionDeath, 변동계수) # 영등포, 강동구, 노원 등 외곽에서 서울들어오는 동네 한번 사고나면 크게 사고가 난다, 중구 길이 좁아 달릴수가 없어 큰 사고가 안난다, 강남 접촉사고가 많다"
   ]
  },
  {
   "cell_type": "markdown",
   "metadata": {},
   "source": [
    "상관계수 correlation ship\n",
    "\n",
    "0 ~ 0.3 : 상관없음 \n",
    "0.3 ~ 0.5 : 약한 관계\n",
    "0.5 ~ 0.7: 관계 있음\n",
    "0.7 ~ : 강한 관계"
   ]
  },
  {
   "cell_type": "code",
   "execution_count": 224,
   "metadata": {
    "vscode": {
     "languageId": "r"
    }
   },
   "outputs": [
    {
     "data": {
      "text/html": [
       "0.98089324110604"
      ],
      "text/latex": [
       "0.98089324110604"
      ],
      "text/markdown": [
       "0.98089324110604"
      ],
      "text/plain": [
       "[1] 0.9808932"
      ]
     },
     "metadata": {},
     "output_type": "display_data"
    }
   ],
   "source": [
    "# 교통사고 발생건수와 부상자수의 관계 : 상관계수 correlationship\n",
    "cor(seoul$발생건수, seoul$부상자수) \n",
    "# 98% 관계가 있다. 발생건수가 증가할수록 부상자수도 증가한다 ; 그 정도가 98%이다 \n",
    "#// 이런 관계를 보는것이 correlationship, 머신러닝에도 많이 나온다"
   ]
  },
  {
   "cell_type": "code",
   "execution_count": 225,
   "metadata": {
    "vscode": {
     "languageId": "r"
    }
   },
   "outputs": [
    {
     "data": {
      "image/png": "[encoded data removed]",
      "text/plain": [
       "plot without title"
      ]
     },
     "metadata": {},
     "output_type": "display_data"
    }
   ],
   "source": [
    "par(family = \"AppleGothic\")\n",
    "plot(seoul$발생건수 ,seoul$부상자수) # 정규분포 성립\n"
   ]
  },
  {
   "cell_type": "code",
   "execution_count": 226,
   "metadata": {
    "vscode": {
     "languageId": "r"
    }
   },
   "outputs": [
    {
     "data": {
      "text/html": [
       "0.238714776834864"
      ],
      "text/latex": [
       "0.238714776834864"
      ],
      "text/markdown": [
       "0.238714776834864"
      ],
      "text/plain": [
       "[1] 0.2387148"
      ]
     },
     "metadata": {},
     "output_type": "display_data"
    }
   ],
   "source": [
    "# 교통사고 발생건수와 사망자수의 관계 : 상관계수\n",
    "cor(seoul$발생건수, seoul$사망자수) # 24% 관련없다 , 사망자수가 교통사고수와 관계가 있으면 후진국이다.\n"
   ]
  },
  {
   "cell_type": "code",
   "execution_count": 227,
   "metadata": {
    "vscode": {
     "languageId": "r"
    }
   },
   "outputs": [
    {
     "data": {
      "image/png": "[encoded data removed]",
      "text/plain": [
       "plot without title"
      ]
     },
     "metadata": {},
     "output_type": "display_data"
    }
   ],
   "source": [
    "par(family = \"AppleGothic\")\n",
    "plot(seoul$발생건수 ,seoul$사망자수) # 의미없는 데이터"
   ]
  },
  {
   "cell_type": "code",
   "execution_count": 228,
   "metadata": {
    "vscode": {
     "languageId": "r"
    }
   },
   "outputs": [
    {
     "data": {
      "text/html": [
       "0.237301918677241"
      ],
      "text/latex": [
       "0.237301918677241"
      ],
      "text/markdown": [
       "0.237301918677241"
      ],
      "text/plain": [
       "[1] 0.2373019"
      ]
     },
     "metadata": {},
     "output_type": "display_data"
    }
   ],
   "source": [
    "# 교통사고 부상자수와 사망자수의 관계\n",
    "cor(seoul$부상자수, seoul$사망자수) # 24% 관련이 없다. 부상 - 사망 관계가 있으면 후진국이다.\n"
   ]
  },
  {
   "cell_type": "code",
   "execution_count": 229,
   "metadata": {
    "vscode": {
     "languageId": "r"
    }
   },
   "outputs": [
    {
     "data": {
      "image/png": "[encoded data removed]",
      "text/plain": [
       "plot without title"
      ]
     },
     "metadata": {},
     "output_type": "display_data"
    }
   ],
   "source": [
    "par(family = \"AppleGothic\")\n",
    "plot(seoul$부상자수 ,seoul$사망자수) # 의미없는 데이터"
   ]
  },
  {
   "cell_type": "markdown",
   "metadata": {},
   "source": [
    "--- \n",
    "# 팀플"
   ]
  },
  {
   "cell_type": "code",
   "execution_count": 270,
   "metadata": {
    "vscode": {
     "languageId": "r"
    }
   },
   "outputs": [
    {
     "data": {
      "text/html": [
       "<ol class=list-inline>\n",
       "\t<li>강남구</li>\n",
       "\t<li>강동구</li>\n",
       "\t<li>강북구</li>\n",
       "\t<li>강서구</li>\n",
       "\t<li>관악구</li>\n",
       "\t<li>광진구</li>\n",
       "\t<li>구로구</li>\n",
       "\t<li>금천구</li>\n",
       "\t<li>노원구</li>\n",
       "\t<li>도봉구</li>\n",
       "\t<li>동대문구</li>\n",
       "\t<li>동작구</li>\n",
       "\t<li>마포구</li>\n",
       "\t<li>서대문구</li>\n",
       "\t<li>서초구</li>\n",
       "\t<li>성동구</li>\n",
       "\t<li>성북구</li>\n",
       "\t<li>송파구</li>\n",
       "\t<li>양천구</li>\n",
       "\t<li>영등포구</li>\n",
       "\t<li>용산구</li>\n",
       "\t<li>은평구</li>\n",
       "\t<li>종로구</li>\n",
       "\t<li>중구</li>\n",
       "\t<li>중랑구</li>\n",
       "</ol>\n",
       "\n",
       "<details>\n",
       "\t<summary style=display:list-item;cursor:pointer>\n",
       "\t\t<strong>Levels</strong>:\n",
       "\t</summary>\n",
       "\t<ol class=list-inline>\n",
       "\t\t<li>'강남구'</li>\n",
       "\t\t<li>'강동구'</li>\n",
       "\t\t<li>'강북구'</li>\n",
       "\t\t<li>'강서구'</li>\n",
       "\t\t<li>'관악구'</li>\n",
       "\t\t<li>'광진구'</li>\n",
       "\t\t<li>'구로구'</li>\n",
       "\t\t<li>'금천구'</li>\n",
       "\t\t<li>'노원구'</li>\n",
       "\t\t<li>'도봉구'</li>\n",
       "\t\t<li>'동대문구'</li>\n",
       "\t\t<li>'동작구'</li>\n",
       "\t\t<li>'마포구'</li>\n",
       "\t\t<li>'서대문구'</li>\n",
       "\t\t<li>'서초구'</li>\n",
       "\t\t<li>'성동구'</li>\n",
       "\t\t<li>'성북구'</li>\n",
       "\t\t<li>'송파구'</li>\n",
       "\t\t<li>'양천구'</li>\n",
       "\t\t<li>'영등포구'</li>\n",
       "\t\t<li>'용산구'</li>\n",
       "\t\t<li>'은평구'</li>\n",
       "\t\t<li>'종로구'</li>\n",
       "\t\t<li>'중구'</li>\n",
       "\t\t<li>'중랑구'</li>\n",
       "\t</ol>\n",
       "</details>"
      ],
      "text/latex": [
       "\\begin{enumerate*}\n",
       "\\item 강남구\n",
       "\\item 강동구\n",
       "\\item 강북구\n",
       "\\item 강서구\n",
       "\\item 관악구\n",
       "\\item 광진구\n",
       "\\item 구로구\n",
       "\\item 금천구\n",
       "\\item 노원구\n",
       "\\item 도봉구\n",
       "\\item 동대문구\n",
       "\\item 동작구\n",
       "\\item 마포구\n",
       "\\item 서대문구\n",
       "\\item 서초구\n",
       "\\item 성동구\n",
       "\\item 성북구\n",
       "\\item 송파구\n",
       "\\item 양천구\n",
       "\\item 영등포구\n",
       "\\item 용산구\n",
       "\\item 은평구\n",
       "\\item 종로구\n",
       "\\item 중구\n",
       "\\item 중랑구\n",
       "\\end{enumerate*}\n",
       "\n",
       "\\emph{Levels}: \\begin{enumerate*}\n",
       "\\item '강남구'\n",
       "\\item '강동구'\n",
       "\\item '강북구'\n",
       "\\item '강서구'\n",
       "\\item '관악구'\n",
       "\\item '광진구'\n",
       "\\item '구로구'\n",
       "\\item '금천구'\n",
       "\\item '노원구'\n",
       "\\item '도봉구'\n",
       "\\item '동대문구'\n",
       "\\item '동작구'\n",
       "\\item '마포구'\n",
       "\\item '서대문구'\n",
       "\\item '서초구'\n",
       "\\item '성동구'\n",
       "\\item '성북구'\n",
       "\\item '송파구'\n",
       "\\item '양천구'\n",
       "\\item '영등포구'\n",
       "\\item '용산구'\n",
       "\\item '은평구'\n",
       "\\item '종로구'\n",
       "\\item '중구'\n",
       "\\item '중랑구'\n",
       "\\end{enumerate*}\n"
      ],
      "text/markdown": [
       "1. 강남구\n",
       "2. 강동구\n",
       "3. 강북구\n",
       "4. 강서구\n",
       "5. 관악구\n",
       "6. 광진구\n",
       "7. 구로구\n",
       "8. 금천구\n",
       "9. 노원구\n",
       "10. 도봉구\n",
       "11. 동대문구\n",
       "12. 동작구\n",
       "13. 마포구\n",
       "14. 서대문구\n",
       "15. 서초구\n",
       "16. 성동구\n",
       "17. 성북구\n",
       "18. 송파구\n",
       "19. 양천구\n",
       "20. 영등포구\n",
       "21. 용산구\n",
       "22. 은평구\n",
       "23. 종로구\n",
       "24. 중구\n",
       "25. 중랑구\n",
       "\n",
       "\n",
       "\n",
       "**Levels**: 1. '강남구'\n",
       "2. '강동구'\n",
       "3. '강북구'\n",
       "4. '강서구'\n",
       "5. '관악구'\n",
       "6. '광진구'\n",
       "7. '구로구'\n",
       "8. '금천구'\n",
       "9. '노원구'\n",
       "10. '도봉구'\n",
       "11. '동대문구'\n",
       "12. '동작구'\n",
       "13. '마포구'\n",
       "14. '서대문구'\n",
       "15. '서초구'\n",
       "16. '성동구'\n",
       "17. '성북구'\n",
       "18. '송파구'\n",
       "19. '양천구'\n",
       "20. '영등포구'\n",
       "21. '용산구'\n",
       "22. '은평구'\n",
       "23. '종로구'\n",
       "24. '중구'\n",
       "25. '중랑구'\n",
       "\n",
       "\n"
      ],
      "text/plain": [
       " [1] 강남구   강동구   강북구   강서구   관악구   광진구   구로구   금천구  \n",
       " [9] 노원구   도봉구   동대문구 동작구   마포구   서대문구 서초구   성동구  \n",
       "[17] 성북구   송파구   양천구   영등포구 용산구   은평구   종로구   중구    \n",
       "[25] 중랑구  \n",
       "25 Levels: 강남구 강동구 강북구 강서구 관악구 광진구 구로구 금천구 ... 중랑구"
      ]
     },
     "metadata": {},
     "output_type": "display_data"
    }
   ],
   "source": [
    "region1 <- in_mean$자치구명\n",
    "region <- in_mean$자치구명\n",
    "region <- as.character(region)\n",
    "region1"
   ]
  },
  {
   "cell_type": "code",
   "execution_count": 266,
   "metadata": {
    "vscode": {
     "languageId": "r"
    }
   },
   "outputs": [
    {
     "data": {
      "text/html": [
       "<table>\n",
       "<thead><tr><th scope=col>X2011L</th><th scope=col>X1L</th><th scope=col>X3562L</th><th scope=col>X36L</th><th scope=col>X5184L</th></tr></thead>\n",
       "<tbody>\n",
       "\t<tr><td>2011</td><td> 1  </td><td>3562</td><td>36  </td><td>5184</td></tr>\n",
       "\t<tr><td>2011</td><td> 2  </td><td>1423</td><td>13  </td><td>2080</td></tr>\n",
       "\t<tr><td>2011</td><td> 3  </td><td>1174</td><td> 7  </td><td>1648</td></tr>\n",
       "\t<tr><td>2011</td><td> 4  </td><td>1885</td><td>16  </td><td>2740</td></tr>\n",
       "\t<tr><td>2011</td><td> 5  </td><td>1737</td><td>17  </td><td>2396</td></tr>\n",
       "\t<tr><td>2011</td><td> 6  </td><td>1430</td><td>23  </td><td>2033</td></tr>\n",
       "\t<tr><td>2011</td><td> 7  </td><td>1542</td><td>15  </td><td>2226</td></tr>\n",
       "\t<tr><td>2011</td><td> 8  </td><td>1125</td><td>10  </td><td>1649</td></tr>\n",
       "\t<tr><td>2011</td><td> 9  </td><td>1529</td><td>14  </td><td>2231</td></tr>\n",
       "\t<tr><td>2011</td><td>10  </td><td> 933</td><td>15  </td><td>1279</td></tr>\n",
       "\t<tr><td>2011</td><td>11  </td><td>1777</td><td>13  </td><td>2431</td></tr>\n",
       "\t<tr><td>2011</td><td>12  </td><td>1192</td><td>13  </td><td>1676</td></tr>\n",
       "\t<tr><td>2011</td><td>13  </td><td>1623</td><td>23  </td><td>2530</td></tr>\n",
       "\t<tr><td>2011</td><td>14  </td><td>1061</td><td>14  </td><td>1496</td></tr>\n",
       "\t<tr><td>2011</td><td>15  </td><td>2048</td><td>17  </td><td>3189</td></tr>\n",
       "\t<tr><td>2011</td><td>16  </td><td>1154</td><td>21  </td><td>1603</td></tr>\n",
       "\t<tr><td>2011</td><td>17  </td><td>1569</td><td>22  </td><td>2103</td></tr>\n",
       "\t<tr><td>2011</td><td>18  </td><td>2554</td><td>36  </td><td>3632</td></tr>\n",
       "\t<tr><td>2011</td><td>19  </td><td>1444</td><td>14  </td><td>2006</td></tr>\n",
       "\t<tr><td>2011</td><td>20  </td><td>2310</td><td>28  </td><td>3326</td></tr>\n",
       "\t<tr><td>2011</td><td>21  </td><td>1170</td><td> 9  </td><td>1704</td></tr>\n",
       "\t<tr><td>2011</td><td>22  </td><td>1509</td><td>20  </td><td>2058</td></tr>\n",
       "\t<tr><td>2011</td><td>23  </td><td>1421</td><td>14  </td><td>1994</td></tr>\n",
       "\t<tr><td>2011</td><td>24  </td><td>1497</td><td>13  </td><td>2025</td></tr>\n",
       "\t<tr><td>2011</td><td>25  </td><td>1782</td><td>12  </td><td>2386</td></tr>\n",
       "\t<tr><td>2012</td><td> 1  </td><td>3843</td><td>25  </td><td>5666</td></tr>\n",
       "\t<tr><td>2012</td><td> 2  </td><td>1458</td><td>18  </td><td>2029</td></tr>\n",
       "\t<tr><td>2012</td><td> 3  </td><td>1212</td><td> 9  </td><td>1680</td></tr>\n",
       "\t<tr><td>2012</td><td> 4  </td><td>1767</td><td>25  </td><td>2573</td></tr>\n",
       "\t<tr><td>2012</td><td> 5  </td><td>1713</td><td>20  </td><td>2299</td></tr>\n",
       "\t<tr><td>...</td><td>...</td><td>...</td><td>...</td><td>...</td></tr>\n",
       "\t<tr><td>2018</td><td>21  </td><td>1330</td><td>14  </td><td>1852</td></tr>\n",
       "\t<tr><td>2018</td><td>22  </td><td>1134</td><td>12  </td><td>1580</td></tr>\n",
       "\t<tr><td>2018</td><td>23  </td><td>1134</td><td> 6  </td><td>1546</td></tr>\n",
       "\t<tr><td>2018</td><td>24  </td><td>1128</td><td> 9  </td><td>1506</td></tr>\n",
       "\t<tr><td>2018</td><td>25  </td><td>1565</td><td>10  </td><td>2135</td></tr>\n",
       "\t<tr><td>2019</td><td> 1  </td><td>3722</td><td>14  </td><td>5182</td></tr>\n",
       "\t<tr><td>2019</td><td> 2  </td><td>1414</td><td>11  </td><td>1910</td></tr>\n",
       "\t<tr><td>2019</td><td> 3  </td><td>1277</td><td> 7  </td><td>1706</td></tr>\n",
       "\t<tr><td>2019</td><td> 4  </td><td>1829</td><td>20  </td><td>2491</td></tr>\n",
       "\t<tr><td>2019</td><td> 5  </td><td>1363</td><td>10  </td><td>1755</td></tr>\n",
       "\t<tr><td>2019</td><td> 6  </td><td> 973</td><td> 3  </td><td>1316</td></tr>\n",
       "\t<tr><td>2019</td><td> 7  </td><td>1529</td><td>13  </td><td>2096</td></tr>\n",
       "\t<tr><td>2019</td><td> 8  </td><td> 920</td><td> 9  </td><td>1353</td></tr>\n",
       "\t<tr><td>2019</td><td> 9  </td><td>1703</td><td> 8  </td><td>2302</td></tr>\n",
       "\t<tr><td>2019</td><td>10  </td><td> 852</td><td> 4  </td><td>1163</td></tr>\n",
       "\t<tr><td>2019</td><td>11  </td><td>1565</td><td>15  </td><td>1988</td></tr>\n",
       "\t<tr><td>2019</td><td>12  </td><td>1406</td><td> 5  </td><td>2021</td></tr>\n",
       "\t<tr><td>2019</td><td>13  </td><td>1494</td><td> 7  </td><td>2123</td></tr>\n",
       "\t<tr><td>2019</td><td>14  </td><td>1113</td><td>14  </td><td>1609</td></tr>\n",
       "\t<tr><td>2019</td><td>15  </td><td>2418</td><td>14  </td><td>3530</td></tr>\n",
       "\t<tr><td>2019</td><td>16  </td><td>1091</td><td>13  </td><td>1439</td></tr>\n",
       "\t<tr><td>2019</td><td>17  </td><td>1509</td><td> 8  </td><td>2007</td></tr>\n",
       "\t<tr><td>2019</td><td>18  </td><td>2892</td><td>13  </td><td>4003</td></tr>\n",
       "\t<tr><td>2019</td><td>19  </td><td>1506</td><td>11  </td><td>2085</td></tr>\n",
       "\t<tr><td>2019</td><td>20  </td><td>2439</td><td>11  </td><td>3451</td></tr>\n",
       "\t<tr><td>2019</td><td>21  </td><td>1187</td><td>10  </td><td>1614</td></tr>\n",
       "\t<tr><td>2019</td><td>22  </td><td>1119</td><td> 7  </td><td>1464</td></tr>\n",
       "\t<tr><td>2019</td><td>23  </td><td>1133</td><td> 6  </td><td>1559</td></tr>\n",
       "\t<tr><td>2019</td><td>24  </td><td>1184</td><td> 5  </td><td>1615</td></tr>\n",
       "\t<tr><td>2019</td><td>25  </td><td>1620</td><td>12  </td><td>2122</td></tr>\n",
       "</tbody>\n",
       "</table>\n"
      ],
      "text/latex": [
       "\\begin{tabular}{r|lllll}\n",
       " X2011L & X1L & X3562L & X36L & X5184L\\\\\n",
       "\\hline\n",
       "\t 2011 &  1   & 3562 & 36   & 5184\\\\\n",
       "\t 2011 &  2   & 1423 & 13   & 2080\\\\\n",
       "\t 2011 &  3   & 1174 &  7   & 1648\\\\\n",
       "\t 2011 &  4   & 1885 & 16   & 2740\\\\\n",
       "\t 2011 &  5   & 1737 & 17   & 2396\\\\\n",
       "\t 2011 &  6   & 1430 & 23   & 2033\\\\\n",
       "\t 2011 &  7   & 1542 & 15   & 2226\\\\\n",
       "\t 2011 &  8   & 1125 & 10   & 1649\\\\\n",
       "\t 2011 &  9   & 1529 & 14   & 2231\\\\\n",
       "\t 2011 & 10   &  933 & 15   & 1279\\\\\n",
       "\t 2011 & 11   & 1777 & 13   & 2431\\\\\n",
       "\t 2011 & 12   & 1192 & 13   & 1676\\\\\n",
       "\t 2011 & 13   & 1623 & 23   & 2530\\\\\n",
       "\t 2011 & 14   & 1061 & 14   & 1496\\\\\n",
       "\t 2011 & 15   & 2048 & 17   & 3189\\\\\n",
       "\t 2011 & 16   & 1154 & 21   & 1603\\\\\n",
       "\t 2011 & 17   & 1569 & 22   & 2103\\\\\n",
       "\t 2011 & 18   & 2554 & 36   & 3632\\\\\n",
       "\t 2011 & 19   & 1444 & 14   & 2006\\\\\n",
       "\t 2011 & 20   & 2310 & 28   & 3326\\\\\n",
       "\t 2011 & 21   & 1170 &  9   & 1704\\\\\n",
       "\t 2011 & 22   & 1509 & 20   & 2058\\\\\n",
       "\t 2011 & 23   & 1421 & 14   & 1994\\\\\n",
       "\t 2011 & 24   & 1497 & 13   & 2025\\\\\n",
       "\t 2011 & 25   & 1782 & 12   & 2386\\\\\n",
       "\t 2012 &  1   & 3843 & 25   & 5666\\\\\n",
       "\t 2012 &  2   & 1458 & 18   & 2029\\\\\n",
       "\t 2012 &  3   & 1212 &  9   & 1680\\\\\n",
       "\t 2012 &  4   & 1767 & 25   & 2573\\\\\n",
       "\t 2012 &  5   & 1713 & 20   & 2299\\\\\n",
       "\t ... & ... & ... & ... & ...\\\\\n",
       "\t 2018 & 21   & 1330 & 14   & 1852\\\\\n",
       "\t 2018 & 22   & 1134 & 12   & 1580\\\\\n",
       "\t 2018 & 23   & 1134 &  6   & 1546\\\\\n",
       "\t 2018 & 24   & 1128 &  9   & 1506\\\\\n",
       "\t 2018 & 25   & 1565 & 10   & 2135\\\\\n",
       "\t 2019 &  1   & 3722 & 14   & 5182\\\\\n",
       "\t 2019 &  2   & 1414 & 11   & 1910\\\\\n",
       "\t 2019 &  3   & 1277 &  7   & 1706\\\\\n",
       "\t 2019 &  4   & 1829 & 20   & 2491\\\\\n",
       "\t 2019 &  5   & 1363 & 10   & 1755\\\\\n",
       "\t 2019 &  6   &  973 &  3   & 1316\\\\\n",
       "\t 2019 &  7   & 1529 & 13   & 2096\\\\\n",
       "\t 2019 &  8   &  920 &  9   & 1353\\\\\n",
       "\t 2019 &  9   & 1703 &  8   & 2302\\\\\n",
       "\t 2019 & 10   &  852 &  4   & 1163\\\\\n",
       "\t 2019 & 11   & 1565 & 15   & 1988\\\\\n",
       "\t 2019 & 12   & 1406 &  5   & 2021\\\\\n",
       "\t 2019 & 13   & 1494 &  7   & 2123\\\\\n",
       "\t 2019 & 14   & 1113 & 14   & 1609\\\\\n",
       "\t 2019 & 15   & 2418 & 14   & 3530\\\\\n",
       "\t 2019 & 16   & 1091 & 13   & 1439\\\\\n",
       "\t 2019 & 17   & 1509 &  8   & 2007\\\\\n",
       "\t 2019 & 18   & 2892 & 13   & 4003\\\\\n",
       "\t 2019 & 19   & 1506 & 11   & 2085\\\\\n",
       "\t 2019 & 20   & 2439 & 11   & 3451\\\\\n",
       "\t 2019 & 21   & 1187 & 10   & 1614\\\\\n",
       "\t 2019 & 22   & 1119 &  7   & 1464\\\\\n",
       "\t 2019 & 23   & 1133 &  6   & 1559\\\\\n",
       "\t 2019 & 24   & 1184 &  5   & 1615\\\\\n",
       "\t 2019 & 25   & 1620 & 12   & 2122\\\\\n",
       "\\end{tabular}\n"
      ],
      "text/markdown": [
       "\n",
       "| X2011L | X1L | X3562L | X36L | X5184L |\n",
       "|---|---|---|---|---|\n",
       "| 2011 |  1   | 3562 | 36   | 5184 |\n",
       "| 2011 |  2   | 1423 | 13   | 2080 |\n",
       "| 2011 |  3   | 1174 |  7   | 1648 |\n",
       "| 2011 |  4   | 1885 | 16   | 2740 |\n",
       "| 2011 |  5   | 1737 | 17   | 2396 |\n",
       "| 2011 |  6   | 1430 | 23   | 2033 |\n",
       "| 2011 |  7   | 1542 | 15   | 2226 |\n",
       "| 2011 |  8   | 1125 | 10   | 1649 |\n",
       "| 2011 |  9   | 1529 | 14   | 2231 |\n",
       "| 2011 | 10   |  933 | 15   | 1279 |\n",
       "| 2011 | 11   | 1777 | 13   | 2431 |\n",
       "| 2011 | 12   | 1192 | 13   | 1676 |\n",
       "| 2011 | 13   | 1623 | 23   | 2530 |\n",
       "| 2011 | 14   | 1061 | 14   | 1496 |\n",
       "| 2011 | 15   | 2048 | 17   | 3189 |\n",
       "| 2011 | 16   | 1154 | 21   | 1603 |\n",
       "| 2011 | 17   | 1569 | 22   | 2103 |\n",
       "| 2011 | 18   | 2554 | 36   | 3632 |\n",
       "| 2011 | 19   | 1444 | 14   | 2006 |\n",
       "| 2011 | 20   | 2310 | 28   | 3326 |\n",
       "| 2011 | 21   | 1170 |  9   | 1704 |\n",
       "| 2011 | 22   | 1509 | 20   | 2058 |\n",
       "| 2011 | 23   | 1421 | 14   | 1994 |\n",
       "| 2011 | 24   | 1497 | 13   | 2025 |\n",
       "| 2011 | 25   | 1782 | 12   | 2386 |\n",
       "| 2012 |  1   | 3843 | 25   | 5666 |\n",
       "| 2012 |  2   | 1458 | 18   | 2029 |\n",
       "| 2012 |  3   | 1212 |  9   | 1680 |\n",
       "| 2012 |  4   | 1767 | 25   | 2573 |\n",
       "| 2012 |  5   | 1713 | 20   | 2299 |\n",
       "| ... | ... | ... | ... | ... |\n",
       "| 2018 | 21   | 1330 | 14   | 1852 |\n",
       "| 2018 | 22   | 1134 | 12   | 1580 |\n",
       "| 2018 | 23   | 1134 |  6   | 1546 |\n",
       "| 2018 | 24   | 1128 |  9   | 1506 |\n",
       "| 2018 | 25   | 1565 | 10   | 2135 |\n",
       "| 2019 |  1   | 3722 | 14   | 5182 |\n",
       "| 2019 |  2   | 1414 | 11   | 1910 |\n",
       "| 2019 |  3   | 1277 |  7   | 1706 |\n",
       "| 2019 |  4   | 1829 | 20   | 2491 |\n",
       "| 2019 |  5   | 1363 | 10   | 1755 |\n",
       "| 2019 |  6   |  973 |  3   | 1316 |\n",
       "| 2019 |  7   | 1529 | 13   | 2096 |\n",
       "| 2019 |  8   |  920 |  9   | 1353 |\n",
       "| 2019 |  9   | 1703 |  8   | 2302 |\n",
       "| 2019 | 10   |  852 |  4   | 1163 |\n",
       "| 2019 | 11   | 1565 | 15   | 1988 |\n",
       "| 2019 | 12   | 1406 |  5   | 2021 |\n",
       "| 2019 | 13   | 1494 |  7   | 2123 |\n",
       "| 2019 | 14   | 1113 | 14   | 1609 |\n",
       "| 2019 | 15   | 2418 | 14   | 3530 |\n",
       "| 2019 | 16   | 1091 | 13   | 1439 |\n",
       "| 2019 | 17   | 1509 |  8   | 2007 |\n",
       "| 2019 | 18   | 2892 | 13   | 4003 |\n",
       "| 2019 | 19   | 1506 | 11   | 2085 |\n",
       "| 2019 | 20   | 2439 | 11   | 3451 |\n",
       "| 2019 | 21   | 1187 | 10   | 1614 |\n",
       "| 2019 | 22   | 1119 |  7   | 1464 |\n",
       "| 2019 | 23   | 1133 |  6   | 1559 |\n",
       "| 2019 | 24   | 1184 |  5   | 1615 |\n",
       "| 2019 | 25   | 1620 | 12   | 2122 |\n",
       "\n"
      ],
      "text/plain": [
       "    X2011L X1L X3562L X36L X5184L\n",
       "1   2011    1  3562   36   5184  \n",
       "2   2011    2  1423   13   2080  \n",
       "3   2011    3  1174    7   1648  \n",
       "4   2011    4  1885   16   2740  \n",
       "5   2011    5  1737   17   2396  \n",
       "6   2011    6  1430   23   2033  \n",
       "7   2011    7  1542   15   2226  \n",
       "8   2011    8  1125   10   1649  \n",
       "9   2011    9  1529   14   2231  \n",
       "10  2011   10   933   15   1279  \n",
       "11  2011   11  1777   13   2431  \n",
       "12  2011   12  1192   13   1676  \n",
       "13  2011   13  1623   23   2530  \n",
       "14  2011   14  1061   14   1496  \n",
       "15  2011   15  2048   17   3189  \n",
       "16  2011   16  1154   21   1603  \n",
       "17  2011   17  1569   22   2103  \n",
       "18  2011   18  2554   36   3632  \n",
       "19  2011   19  1444   14   2006  \n",
       "20  2011   20  2310   28   3326  \n",
       "21  2011   21  1170    9   1704  \n",
       "22  2011   22  1509   20   2058  \n",
       "23  2011   23  1421   14   1994  \n",
       "24  2011   24  1497   13   2025  \n",
       "25  2011   25  1782   12   2386  \n",
       "26  2012    1  3843   25   5666  \n",
       "27  2012    2  1458   18   2029  \n",
       "28  2012    3  1212    9   1680  \n",
       "29  2012    4  1767   25   2573  \n",
       "30  2012    5  1713   20   2299  \n",
       "... ...    ... ...    ...  ...   \n",
       "196 2018   21  1330   14   1852  \n",
       "197 2018   22  1134   12   1580  \n",
       "198 2018   23  1134    6   1546  \n",
       "199 2018   24  1128    9   1506  \n",
       "200 2018   25  1565   10   2135  \n",
       "201 2019    1  3722   14   5182  \n",
       "202 2019    2  1414   11   1910  \n",
       "203 2019    3  1277    7   1706  \n",
       "204 2019    4  1829   20   2491  \n",
       "205 2019    5  1363   10   1755  \n",
       "206 2019    6   973    3   1316  \n",
       "207 2019    7  1529   13   2096  \n",
       "208 2019    8   920    9   1353  \n",
       "209 2019    9  1703    8   2302  \n",
       "210 2019   10   852    4   1163  \n",
       "211 2019   11  1565   15   1988  \n",
       "212 2019   12  1406    5   2021  \n",
       "213 2019   13  1494    7   2123  \n",
       "214 2019   14  1113   14   1609  \n",
       "215 2019   15  2418   14   3530  \n",
       "216 2019   16  1091   13   1439  \n",
       "217 2019   17  1509    8   2007  \n",
       "218 2019   18  2892   13   4003  \n",
       "219 2019   19  1506   11   2085  \n",
       "220 2019   20  2439   11   3451  \n",
       "221 2019   21  1187   10   1614  \n",
       "222 2019   22  1119    7   1464  \n",
       "223 2019   23  1133    6   1559  \n",
       "224 2019   24  1184    5   1615  \n",
       "225 2019   25  1620   12   2122  "
      ]
     },
     "metadata": {},
     "output_type": "display_data"
    }
   ],
   "source": [
    "# 년도별 교통사고 발생,부상,사망자수에 대한 분석 자치구별로 나눔\n",
    "seoul.region <- data.frame()\n",
    "for(i in 2011:2019){\n",
    "    for(j in 1:25){\n",
    "        seoul.region <- rbind( seoul.region , c( i , region1[j], apply(subset(seoul, 년도 == i & 자치구명 == region1[j])[,4:6], 2 , sum) ) )\n",
    "    }\n",
    "}\n",
    "seoul.region"
   ]
  },
  {
   "cell_type": "code",
   "execution_count": 304,
   "metadata": {
    "vscode": {
     "languageId": "r"
    }
   },
   "outputs": [
    {
     "data": {
      "text/html": [
       "<table>\n",
       "<thead><tr><th scope=col>년도</th><th scope=col>자치구</th><th scope=col>발생건수</th><th scope=col>사망자수</th><th scope=col>부상자수</th></tr></thead>\n",
       "<tbody>\n",
       "\t<tr><td>2011</td><td>1   </td><td>3562</td><td>36  </td><td>5184</td></tr>\n",
       "\t<tr><td>2012</td><td>1   </td><td>3843</td><td>25  </td><td>5666</td></tr>\n",
       "\t<tr><td>2013</td><td>1   </td><td>3610</td><td>31  </td><td>5326</td></tr>\n",
       "\t<tr><td>2014</td><td>1   </td><td>3624</td><td>17  </td><td>5269</td></tr>\n",
       "\t<tr><td>2015</td><td>1   </td><td>3970</td><td>20  </td><td>5686</td></tr>\n",
       "\t<tr><td>2016</td><td>1   </td><td>3828</td><td>12  </td><td>5445</td></tr>\n",
       "\t<tr><td>2017</td><td>1   </td><td>3469</td><td>19  </td><td>4959</td></tr>\n",
       "\t<tr><td>2018</td><td>1   </td><td>3459</td><td>20  </td><td>4967</td></tr>\n",
       "\t<tr><td>2019</td><td>1   </td><td>3722</td><td>14  </td><td>5182</td></tr>\n",
       "\t<tr><td>2011</td><td>2   </td><td>1423</td><td>13  </td><td>2080</td></tr>\n",
       "\t<tr><td>2012</td><td>2   </td><td>1458</td><td>18  </td><td>2029</td></tr>\n",
       "\t<tr><td>2013</td><td>2   </td><td>1356</td><td>12  </td><td>1942</td></tr>\n",
       "\t<tr><td>2014</td><td>2   </td><td>1442</td><td>14  </td><td>2014</td></tr>\n",
       "\t<tr><td>2015</td><td>2   </td><td>1494</td><td>23  </td><td>2129</td></tr>\n",
       "\t<tr><td>2016</td><td>2   </td><td>1426</td><td>17  </td><td>1957</td></tr>\n",
       "\t<tr><td>2017</td><td>2   </td><td>1371</td><td>19  </td><td>1873</td></tr>\n",
       "\t<tr><td>2018</td><td>2   </td><td>1418</td><td>12  </td><td>1922</td></tr>\n",
       "\t<tr><td>2019</td><td>2   </td><td>1414</td><td>11  </td><td>1910</td></tr>\n",
       "\t<tr><td>2011</td><td>3   </td><td>1174</td><td> 7  </td><td>1648</td></tr>\n",
       "\t<tr><td>2012</td><td>3   </td><td>1212</td><td> 9  </td><td>1680</td></tr>\n",
       "\t<tr><td>2013</td><td>3   </td><td>1107</td><td>10  </td><td>1525</td></tr>\n",
       "\t<tr><td>2014</td><td>3   </td><td>1313</td><td>12  </td><td>1773</td></tr>\n",
       "\t<tr><td>2015</td><td>3   </td><td>1265</td><td>16  </td><td>1684</td></tr>\n",
       "\t<tr><td>2016</td><td>3   </td><td>1227</td><td>15  </td><td>1678</td></tr>\n",
       "\t<tr><td>2017</td><td>3   </td><td>1202</td><td> 9  </td><td>1567</td></tr>\n",
       "\t<tr><td>2018</td><td>3   </td><td>1216</td><td>13  </td><td>1633</td></tr>\n",
       "\t<tr><td>2019</td><td>3   </td><td>1277</td><td> 7  </td><td>1706</td></tr>\n",
       "\t<tr><td>2011</td><td>4   </td><td>1885</td><td>16  </td><td>2740</td></tr>\n",
       "\t<tr><td>2012</td><td>4   </td><td>1767</td><td>25  </td><td>2573</td></tr>\n",
       "\t<tr><td>2013</td><td>4   </td><td>1715</td><td>26  </td><td>2517</td></tr>\n",
       "\t<tr><td>...</td><td>...</td><td>...</td><td>...</td><td>...</td></tr>\n",
       "\t<tr><td>2017</td><td>22  </td><td>1067</td><td>12  </td><td>1489</td></tr>\n",
       "\t<tr><td>2018</td><td>22  </td><td>1134</td><td>12  </td><td>1580</td></tr>\n",
       "\t<tr><td>2019</td><td>22  </td><td>1119</td><td> 7  </td><td>1464</td></tr>\n",
       "\t<tr><td>2011</td><td>23  </td><td>1421</td><td>14  </td><td>1994</td></tr>\n",
       "\t<tr><td>2012</td><td>23  </td><td>1374</td><td>12  </td><td>1994</td></tr>\n",
       "\t<tr><td>2013</td><td>23  </td><td>1274</td><td>13  </td><td>1770</td></tr>\n",
       "\t<tr><td>2014</td><td>23  </td><td>1314</td><td>11  </td><td>1790</td></tr>\n",
       "\t<tr><td>2015</td><td>23  </td><td>1414</td><td> 8  </td><td>1933</td></tr>\n",
       "\t<tr><td>2016</td><td>23  </td><td>1299</td><td> 9  </td><td>1748</td></tr>\n",
       "\t<tr><td>2017</td><td>23  </td><td>1190</td><td>13  </td><td>1689</td></tr>\n",
       "\t<tr><td>2018</td><td>23  </td><td>1134</td><td> 6  </td><td>1546</td></tr>\n",
       "\t<tr><td>2019</td><td>23  </td><td>1133</td><td> 6  </td><td>1559</td></tr>\n",
       "\t<tr><td>2011</td><td>24  </td><td>1497</td><td>13  </td><td>2025</td></tr>\n",
       "\t<tr><td>2012</td><td>24  </td><td>1458</td><td>12  </td><td>2018</td></tr>\n",
       "\t<tr><td>2013</td><td>24  </td><td>1442</td><td>10  </td><td>1975</td></tr>\n",
       "\t<tr><td>2014</td><td>24  </td><td>1305</td><td> 7  </td><td>1785</td></tr>\n",
       "\t<tr><td>2015</td><td>24  </td><td>1338</td><td> 8  </td><td>1803</td></tr>\n",
       "\t<tr><td>2016</td><td>24  </td><td>1288</td><td>17  </td><td>1716</td></tr>\n",
       "\t<tr><td>2017</td><td>24  </td><td>1252</td><td> 4  </td><td>1684</td></tr>\n",
       "\t<tr><td>2018</td><td>24  </td><td>1128</td><td> 9  </td><td>1506</td></tr>\n",
       "\t<tr><td>2019</td><td>24  </td><td>1184</td><td> 5  </td><td>1615</td></tr>\n",
       "\t<tr><td>2011</td><td>25  </td><td>1782</td><td>12  </td><td>2386</td></tr>\n",
       "\t<tr><td>2012</td><td>25  </td><td>1753</td><td>11  </td><td>2401</td></tr>\n",
       "\t<tr><td>2013</td><td>25  </td><td>1716</td><td> 9  </td><td>2369</td></tr>\n",
       "\t<tr><td>2014</td><td>25  </td><td>1622</td><td>11  </td><td>2180</td></tr>\n",
       "\t<tr><td>2015</td><td>25  </td><td>1722</td><td>16  </td><td>2269</td></tr>\n",
       "\t<tr><td>2016</td><td>25  </td><td>1535</td><td> 9  </td><td>2030</td></tr>\n",
       "\t<tr><td>2017</td><td>25  </td><td>1639</td><td> 6  </td><td>2228</td></tr>\n",
       "\t<tr><td>2018</td><td>25  </td><td>1565</td><td>10  </td><td>2135</td></tr>\n",
       "\t<tr><td>2019</td><td>25  </td><td>1620</td><td>12  </td><td>2122</td></tr>\n",
       "</tbody>\n",
       "</table>\n"
      ],
      "text/latex": [
       "\\begin{tabular}{r|lllll}\n",
       " 년도 & 자치구 & 발생건수 & 사망자수 & 부상자수\\\\\n",
       "\\hline\n",
       "\t 2011 & 1    & 3562 & 36   & 5184\\\\\n",
       "\t 2012 & 1    & 3843 & 25   & 5666\\\\\n",
       "\t 2013 & 1    & 3610 & 31   & 5326\\\\\n",
       "\t 2014 & 1    & 3624 & 17   & 5269\\\\\n",
       "\t 2015 & 1    & 3970 & 20   & 5686\\\\\n",
       "\t 2016 & 1    & 3828 & 12   & 5445\\\\\n",
       "\t 2017 & 1    & 3469 & 19   & 4959\\\\\n",
       "\t 2018 & 1    & 3459 & 20   & 4967\\\\\n",
       "\t 2019 & 1    & 3722 & 14   & 5182\\\\\n",
       "\t 2011 & 2    & 1423 & 13   & 2080\\\\\n",
       "\t 2012 & 2    & 1458 & 18   & 2029\\\\\n",
       "\t 2013 & 2    & 1356 & 12   & 1942\\\\\n",
       "\t 2014 & 2    & 1442 & 14   & 2014\\\\\n",
       "\t 2015 & 2    & 1494 & 23   & 2129\\\\\n",
       "\t 2016 & 2    & 1426 & 17   & 1957\\\\\n",
       "\t 2017 & 2    & 1371 & 19   & 1873\\\\\n",
       "\t 2018 & 2    & 1418 & 12   & 1922\\\\\n",
       "\t 2019 & 2    & 1414 & 11   & 1910\\\\\n",
       "\t 2011 & 3    & 1174 &  7   & 1648\\\\\n",
       "\t 2012 & 3    & 1212 &  9   & 1680\\\\\n",
       "\t 2013 & 3    & 1107 & 10   & 1525\\\\\n",
       "\t 2014 & 3    & 1313 & 12   & 1773\\\\\n",
       "\t 2015 & 3    & 1265 & 16   & 1684\\\\\n",
       "\t 2016 & 3    & 1227 & 15   & 1678\\\\\n",
       "\t 2017 & 3    & 1202 &  9   & 1567\\\\\n",
       "\t 2018 & 3    & 1216 & 13   & 1633\\\\\n",
       "\t 2019 & 3    & 1277 &  7   & 1706\\\\\n",
       "\t 2011 & 4    & 1885 & 16   & 2740\\\\\n",
       "\t 2012 & 4    & 1767 & 25   & 2573\\\\\n",
       "\t 2013 & 4    & 1715 & 26   & 2517\\\\\n",
       "\t ... & ... & ... & ... & ...\\\\\n",
       "\t 2017 & 22   & 1067 & 12   & 1489\\\\\n",
       "\t 2018 & 22   & 1134 & 12   & 1580\\\\\n",
       "\t 2019 & 22   & 1119 &  7   & 1464\\\\\n",
       "\t 2011 & 23   & 1421 & 14   & 1994\\\\\n",
       "\t 2012 & 23   & 1374 & 12   & 1994\\\\\n",
       "\t 2013 & 23   & 1274 & 13   & 1770\\\\\n",
       "\t 2014 & 23   & 1314 & 11   & 1790\\\\\n",
       "\t 2015 & 23   & 1414 &  8   & 1933\\\\\n",
       "\t 2016 & 23   & 1299 &  9   & 1748\\\\\n",
       "\t 2017 & 23   & 1190 & 13   & 1689\\\\\n",
       "\t 2018 & 23   & 1134 &  6   & 1546\\\\\n",
       "\t 2019 & 23   & 1133 &  6   & 1559\\\\\n",
       "\t 2011 & 24   & 1497 & 13   & 2025\\\\\n",
       "\t 2012 & 24   & 1458 & 12   & 2018\\\\\n",
       "\t 2013 & 24   & 1442 & 10   & 1975\\\\\n",
       "\t 2014 & 24   & 1305 &  7   & 1785\\\\\n",
       "\t 2015 & 24   & 1338 &  8   & 1803\\\\\n",
       "\t 2016 & 24   & 1288 & 17   & 1716\\\\\n",
       "\t 2017 & 24   & 1252 &  4   & 1684\\\\\n",
       "\t 2018 & 24   & 1128 &  9   & 1506\\\\\n",
       "\t 2019 & 24   & 1184 &  5   & 1615\\\\\n",
       "\t 2011 & 25   & 1782 & 12   & 2386\\\\\n",
       "\t 2012 & 25   & 1753 & 11   & 2401\\\\\n",
       "\t 2013 & 25   & 1716 &  9   & 2369\\\\\n",
       "\t 2014 & 25   & 1622 & 11   & 2180\\\\\n",
       "\t 2015 & 25   & 1722 & 16   & 2269\\\\\n",
       "\t 2016 & 25   & 1535 &  9   & 2030\\\\\n",
       "\t 2017 & 25   & 1639 &  6   & 2228\\\\\n",
       "\t 2018 & 25   & 1565 & 10   & 2135\\\\\n",
       "\t 2019 & 25   & 1620 & 12   & 2122\\\\\n",
       "\\end{tabular}\n"
      ],
      "text/markdown": [
       "\n",
       "| 년도 | 자치구 | 발생건수 | 사망자수 | 부상자수 |\n",
       "|---|---|---|---|---|\n",
       "| 2011 | 1    | 3562 | 36   | 5184 |\n",
       "| 2012 | 1    | 3843 | 25   | 5666 |\n",
       "| 2013 | 1    | 3610 | 31   | 5326 |\n",
       "| 2014 | 1    | 3624 | 17   | 5269 |\n",
       "| 2015 | 1    | 3970 | 20   | 5686 |\n",
       "| 2016 | 1    | 3828 | 12   | 5445 |\n",
       "| 2017 | 1    | 3469 | 19   | 4959 |\n",
       "| 2018 | 1    | 3459 | 20   | 4967 |\n",
       "| 2019 | 1    | 3722 | 14   | 5182 |\n",
       "| 2011 | 2    | 1423 | 13   | 2080 |\n",
       "| 2012 | 2    | 1458 | 18   | 2029 |\n",
       "| 2013 | 2    | 1356 | 12   | 1942 |\n",
       "| 2014 | 2    | 1442 | 14   | 2014 |\n",
       "| 2015 | 2    | 1494 | 23   | 2129 |\n",
       "| 2016 | 2    | 1426 | 17   | 1957 |\n",
       "| 2017 | 2    | 1371 | 19   | 1873 |\n",
       "| 2018 | 2    | 1418 | 12   | 1922 |\n",
       "| 2019 | 2    | 1414 | 11   | 1910 |\n",
       "| 2011 | 3    | 1174 |  7   | 1648 |\n",
       "| 2012 | 3    | 1212 |  9   | 1680 |\n",
       "| 2013 | 3    | 1107 | 10   | 1525 |\n",
       "| 2014 | 3    | 1313 | 12   | 1773 |\n",
       "| 2015 | 3    | 1265 | 16   | 1684 |\n",
       "| 2016 | 3    | 1227 | 15   | 1678 |\n",
       "| 2017 | 3    | 1202 |  9   | 1567 |\n",
       "| 2018 | 3    | 1216 | 13   | 1633 |\n",
       "| 2019 | 3    | 1277 |  7   | 1706 |\n",
       "| 2011 | 4    | 1885 | 16   | 2740 |\n",
       "| 2012 | 4    | 1767 | 25   | 2573 |\n",
       "| 2013 | 4    | 1715 | 26   | 2517 |\n",
       "| ... | ... | ... | ... | ... |\n",
       "| 2017 | 22   | 1067 | 12   | 1489 |\n",
       "| 2018 | 22   | 1134 | 12   | 1580 |\n",
       "| 2019 | 22   | 1119 |  7   | 1464 |\n",
       "| 2011 | 23   | 1421 | 14   | 1994 |\n",
       "| 2012 | 23   | 1374 | 12   | 1994 |\n",
       "| 2013 | 23   | 1274 | 13   | 1770 |\n",
       "| 2014 | 23   | 1314 | 11   | 1790 |\n",
       "| 2015 | 23   | 1414 |  8   | 1933 |\n",
       "| 2016 | 23   | 1299 |  9   | 1748 |\n",
       "| 2017 | 23   | 1190 | 13   | 1689 |\n",
       "| 2018 | 23   | 1134 |  6   | 1546 |\n",
       "| 2019 | 23   | 1133 |  6   | 1559 |\n",
       "| 2011 | 24   | 1497 | 13   | 2025 |\n",
       "| 2012 | 24   | 1458 | 12   | 2018 |\n",
       "| 2013 | 24   | 1442 | 10   | 1975 |\n",
       "| 2014 | 24   | 1305 |  7   | 1785 |\n",
       "| 2015 | 24   | 1338 |  8   | 1803 |\n",
       "| 2016 | 24   | 1288 | 17   | 1716 |\n",
       "| 2017 | 24   | 1252 |  4   | 1684 |\n",
       "| 2018 | 24   | 1128 |  9   | 1506 |\n",
       "| 2019 | 24   | 1184 |  5   | 1615 |\n",
       "| 2011 | 25   | 1782 | 12   | 2386 |\n",
       "| 2012 | 25   | 1753 | 11   | 2401 |\n",
       "| 2013 | 25   | 1716 |  9   | 2369 |\n",
       "| 2014 | 25   | 1622 | 11   | 2180 |\n",
       "| 2015 | 25   | 1722 | 16   | 2269 |\n",
       "| 2016 | 25   | 1535 |  9   | 2030 |\n",
       "| 2017 | 25   | 1639 |  6   | 2228 |\n",
       "| 2018 | 25   | 1565 | 10   | 2135 |\n",
       "| 2019 | 25   | 1620 | 12   | 2122 |\n",
       "\n"
      ],
      "text/plain": [
       "    년도 자치구 발생건수 사망자수 부상자수\n",
       "1   2011 1      3562     36       5184    \n",
       "2   2012 1      3843     25       5666    \n",
       "3   2013 1      3610     31       5326    \n",
       "4   2014 1      3624     17       5269    \n",
       "5   2015 1      3970     20       5686    \n",
       "6   2016 1      3828     12       5445    \n",
       "7   2017 1      3469     19       4959    \n",
       "8   2018 1      3459     20       4967    \n",
       "9   2019 1      3722     14       5182    \n",
       "10  2011 2      1423     13       2080    \n",
       "11  2012 2      1458     18       2029    \n",
       "12  2013 2      1356     12       1942    \n",
       "13  2014 2      1442     14       2014    \n",
       "14  2015 2      1494     23       2129    \n",
       "15  2016 2      1426     17       1957    \n",
       "16  2017 2      1371     19       1873    \n",
       "17  2018 2      1418     12       1922    \n",
       "18  2019 2      1414     11       1910    \n",
       "19  2011 3      1174      7       1648    \n",
       "20  2012 3      1212      9       1680    \n",
       "21  2013 3      1107     10       1525    \n",
       "22  2014 3      1313     12       1773    \n",
       "23  2015 3      1265     16       1684    \n",
       "24  2016 3      1227     15       1678    \n",
       "25  2017 3      1202      9       1567    \n",
       "26  2018 3      1216     13       1633    \n",
       "27  2019 3      1277      7       1706    \n",
       "28  2011 4      1885     16       2740    \n",
       "29  2012 4      1767     25       2573    \n",
       "30  2013 4      1715     26       2517    \n",
       "... ...  ...    ...      ...      ...     \n",
       "196 2017 22     1067     12       1489    \n",
       "197 2018 22     1134     12       1580    \n",
       "198 2019 22     1119      7       1464    \n",
       "199 2011 23     1421     14       1994    \n",
       "200 2012 23     1374     12       1994    \n",
       "201 2013 23     1274     13       1770    \n",
       "202 2014 23     1314     11       1790    \n",
       "203 2015 23     1414      8       1933    \n",
       "204 2016 23     1299      9       1748    \n",
       "205 2017 23     1190     13       1689    \n",
       "206 2018 23     1134      6       1546    \n",
       "207 2019 23     1133      6       1559    \n",
       "208 2011 24     1497     13       2025    \n",
       "209 2012 24     1458     12       2018    \n",
       "210 2013 24     1442     10       1975    \n",
       "211 2014 24     1305      7       1785    \n",
       "212 2015 24     1338      8       1803    \n",
       "213 2016 24     1288     17       1716    \n",
       "214 2017 24     1252      4       1684    \n",
       "215 2018 24     1128      9       1506    \n",
       "216 2019 24     1184      5       1615    \n",
       "217 2011 25     1782     12       2386    \n",
       "218 2012 25     1753     11       2401    \n",
       "219 2013 25     1716      9       2369    \n",
       "220 2014 25     1622     11       2180    \n",
       "221 2015 25     1722     16       2269    \n",
       "222 2016 25     1535      9       2030    \n",
       "223 2017 25     1639      6       2228    \n",
       "224 2018 25     1565     10       2135    \n",
       "225 2019 25     1620     12       2122    "
      ]
     },
     "metadata": {},
     "output_type": "display_data"
    }
   ],
   "source": [
    "colnames(seoul.region) <- c('년도', '자치구', '발생건수','사망자수','부상자수' )\n",
    "#seoul.region\n",
    "arrange(seoul.region, 자치구)"
   ]
  },
  {
   "cell_type": "code",
   "execution_count": 242,
   "metadata": {
    "vscode": {
     "languageId": "r"
    }
   },
   "outputs": [
    {
     "data": {
      "text/html": [
       "<table>\n",
       "<thead><tr><th scope=col>X2011L</th><th scope=col>X40451L</th><th scope=col>X435L</th><th scope=col>X57625L</th></tr></thead>\n",
       "<tbody>\n",
       "\t<tr><td>2011 </td><td>40451</td><td>435  </td><td>57625</td></tr>\n",
       "\t<tr><td>2012 </td><td>40829</td><td>424  </td><td>58583</td></tr>\n",
       "\t<tr><td>2013 </td><td>39439</td><td>378  </td><td>56761</td></tr>\n",
       "\t<tr><td>2014 </td><td>40792</td><td>400  </td><td>57345</td></tr>\n",
       "\t<tr><td>2015 </td><td>41665</td><td>376  </td><td>58656</td></tr>\n",
       "\t<tr><td>2016 </td><td>40039</td><td>348  </td><td>55669</td></tr>\n",
       "\t<tr><td>2017 </td><td>38625</td><td>343  </td><td>53810</td></tr>\n",
       "\t<tr><td>2018 </td><td>38795</td><td>304  </td><td>53751</td></tr>\n",
       "\t<tr><td>2019 </td><td>39258</td><td>250  </td><td>53904</td></tr>\n",
       "</tbody>\n",
       "</table>\n"
      ],
      "text/latex": [
       "\\begin{tabular}{r|llll}\n",
       " X2011L & X40451L & X435L & X57625L\\\\\n",
       "\\hline\n",
       "\t 2011  & 40451 & 435   & 57625\\\\\n",
       "\t 2012  & 40829 & 424   & 58583\\\\\n",
       "\t 2013  & 39439 & 378   & 56761\\\\\n",
       "\t 2014  & 40792 & 400   & 57345\\\\\n",
       "\t 2015  & 41665 & 376   & 58656\\\\\n",
       "\t 2016  & 40039 & 348   & 55669\\\\\n",
       "\t 2017  & 38625 & 343   & 53810\\\\\n",
       "\t 2018  & 38795 & 304   & 53751\\\\\n",
       "\t 2019  & 39258 & 250   & 53904\\\\\n",
       "\\end{tabular}\n"
      ],
      "text/markdown": [
       "\n",
       "| X2011L | X40451L | X435L | X57625L |\n",
       "|---|---|---|---|\n",
       "| 2011  | 40451 | 435   | 57625 |\n",
       "| 2012  | 40829 | 424   | 58583 |\n",
       "| 2013  | 39439 | 378   | 56761 |\n",
       "| 2014  | 40792 | 400   | 57345 |\n",
       "| 2015  | 41665 | 376   | 58656 |\n",
       "| 2016  | 40039 | 348   | 55669 |\n",
       "| 2017  | 38625 | 343   | 53810 |\n",
       "| 2018  | 38795 | 304   | 53751 |\n",
       "| 2019  | 39258 | 250   | 53904 |\n",
       "\n"
      ],
      "text/plain": [
       "  X2011L X40451L X435L X57625L\n",
       "1 2011   40451   435   57625  \n",
       "2 2012   40829   424   58583  \n",
       "3 2013   39439   378   56761  \n",
       "4 2014   40792   400   57345  \n",
       "5 2015   41665   376   58656  \n",
       "6 2016   40039   348   55669  \n",
       "7 2017   38625   343   53810  \n",
       "8 2018   38795   304   53751  \n",
       "9 2019   39258   250   53904  "
      ]
     },
     "metadata": {},
     "output_type": "display_data"
    }
   ],
   "source": [
    "city <- in_mean$자치구명\n",
    "seoul.all <- data.frame()\n",
    "for(i in 2011:2019){\n",
    "        seoul.all <- rbind( seoul.all , c( i , apply(subset(seoul.city, 년도 == i)[,3:5], 2 , sum) ) )\n",
    "}\n",
    "seoul.all"
   ]
  },
  {
   "cell_type": "code",
   "execution_count": 244,
   "metadata": {
    "vscode": {
     "languageId": "r"
    }
   },
   "outputs": [
    {
     "data": {
      "text/html": [
       "<table>\n",
       "<thead><tr><th scope=col>년도</th><th scope=col>발생건수</th><th scope=col>사망자수</th><th scope=col>부상자수</th></tr></thead>\n",
       "<tbody>\n",
       "\t<tr><td>2011 </td><td>40451</td><td>435  </td><td>57625</td></tr>\n",
       "\t<tr><td>2012 </td><td>40829</td><td>424  </td><td>58583</td></tr>\n",
       "\t<tr><td>2013 </td><td>39439</td><td>378  </td><td>56761</td></tr>\n",
       "\t<tr><td>2014 </td><td>40792</td><td>400  </td><td>57345</td></tr>\n",
       "\t<tr><td>2015 </td><td>41665</td><td>376  </td><td>58656</td></tr>\n",
       "\t<tr><td>2016 </td><td>40039</td><td>348  </td><td>55669</td></tr>\n",
       "\t<tr><td>2017 </td><td>38625</td><td>343  </td><td>53810</td></tr>\n",
       "\t<tr><td>2018 </td><td>38795</td><td>304  </td><td>53751</td></tr>\n",
       "\t<tr><td>2019 </td><td>39258</td><td>250  </td><td>53904</td></tr>\n",
       "</tbody>\n",
       "</table>\n"
      ],
      "text/latex": [
       "\\begin{tabular}{r|llll}\n",
       " 년도 & 발생건수 & 사망자수 & 부상자수\\\\\n",
       "\\hline\n",
       "\t 2011  & 40451 & 435   & 57625\\\\\n",
       "\t 2012  & 40829 & 424   & 58583\\\\\n",
       "\t 2013  & 39439 & 378   & 56761\\\\\n",
       "\t 2014  & 40792 & 400   & 57345\\\\\n",
       "\t 2015  & 41665 & 376   & 58656\\\\\n",
       "\t 2016  & 40039 & 348   & 55669\\\\\n",
       "\t 2017  & 38625 & 343   & 53810\\\\\n",
       "\t 2018  & 38795 & 304   & 53751\\\\\n",
       "\t 2019  & 39258 & 250   & 53904\\\\\n",
       "\\end{tabular}\n"
      ],
      "text/markdown": [
       "\n",
       "| 년도 | 발생건수 | 사망자수 | 부상자수 |\n",
       "|---|---|---|---|\n",
       "| 2011  | 40451 | 435   | 57625 |\n",
       "| 2012  | 40829 | 424   | 58583 |\n",
       "| 2013  | 39439 | 378   | 56761 |\n",
       "| 2014  | 40792 | 400   | 57345 |\n",
       "| 2015  | 41665 | 376   | 58656 |\n",
       "| 2016  | 40039 | 348   | 55669 |\n",
       "| 2017  | 38625 | 343   | 53810 |\n",
       "| 2018  | 38795 | 304   | 53751 |\n",
       "| 2019  | 39258 | 250   | 53904 |\n",
       "\n"
      ],
      "text/plain": [
       "  년도 발생건수 사망자수 부상자수\n",
       "1 2011 40451    435      57625   \n",
       "2 2012 40829    424      58583   \n",
       "3 2013 39439    378      56761   \n",
       "4 2014 40792    400      57345   \n",
       "5 2015 41665    376      58656   \n",
       "6 2016 40039    348      55669   \n",
       "7 2017 38625    343      53810   \n",
       "8 2018 38795    304      53751   \n",
       "9 2019 39258    250      53904   "
      ]
     },
     "metadata": {},
     "output_type": "display_data"
    }
   ],
   "source": [
    "colnames(seoul.all) <- c('년도', '발생건수','사망자수','부상자수' )\n",
    "seoul.all"
   ]
  },
  {
   "cell_type": "code",
   "execution_count": null,
   "metadata": {
    "vscode": {
     "languageId": "r"
    }
   },
   "outputs": [],
   "source": [
    "options(scipen=100)\n",
    "options(warn = -1)\n",
    "par(family = 'AppleGothic')\n",
    "barplot(GDP_ranking15$GDP / 1000, # GDP상위 15개국 Data\n",
    "        main = \"2018년 GDP 세계 15위 국가\",\n",
    "        xlab = \"국가(Nation)\",\n",
    "        ylab = \"단위(천달러)\",\n",
    "        names = GDP_ranking15$Code,\n",
    "        cex.names = 0.7,\n",
    "        #col = c(rep(\"mistyrose\",2), rep(\"lavender\",9), \"mistyrose\", rep('lavender',3)),\n",
    "        col = ifelse(GDP_ranking15$Code == c('USA','CHN','KOR'), \"mistyrose\", \"Light steel blue\"),\n",
    "        ylim = c(0 , 25000)\n",
    "     )"
   ]
  },
  {
   "cell_type": "code",
   "execution_count": 309,
   "metadata": {
    "vscode": {
     "languageId": "r"
    }
   },
   "outputs": [
    {
     "data": {
      "image/png": "[encoded data removed]",
      "text/plain": [
       "Plot with title “2011~2019년 서울 사고 발생건수, 부상자수, 사망자수”"
      ]
     },
     "metadata": {},
     "output_type": "display_data"
    }
   ],
   "source": [
    "# 정책 속도제한? , \n",
    "my_col=rainbow(3,s=0.2)\n",
    "par(family = 'AppleGothic')\n",
    "barplot(rbind(seoul.all$발생건수,seoul.all$부상자수,seoul.all$사망자수),\n",
    "        names= seoul.all$년도,\n",
    "        beside = T,\n",
    "        main=\"2011~2019년 서울 사고 발생건수, 부상자수, 사망자수\",xlab=\"년도\",ylab=\"빈도수(회/명)\",\n",
    "        ylim=c(0,70000),\n",
    "        col = my_col\n",
    "        )\n",
    "legend(\"topright\",legend=c(\"발생건수\",\"부상자수\",\"사망자수\"),fill= my_col)\n"
   ]
  },
  {
   "cell_type": "code",
   "execution_count": 298,
   "metadata": {
    "vscode": {
     "languageId": "r"
    }
   },
   "outputs": [
    {
     "data": {
      "text/html": [
       "<table>\n",
       "<thead><tr><th scope=col>seoul$년도</th><th scope=col>발생건수</th><th scope=col>사망자수</th><th scope=col>부상자수</th></tr></thead>\n",
       "<tbody>\n",
       "\t<tr><td>2011 </td><td>40451</td><td>435  </td><td>57625</td></tr>\n",
       "\t<tr><td>2012 </td><td>40829</td><td>424  </td><td>58583</td></tr>\n",
       "\t<tr><td>2013 </td><td>39439</td><td>378  </td><td>56761</td></tr>\n",
       "\t<tr><td>2014 </td><td>40792</td><td>400  </td><td>57345</td></tr>\n",
       "\t<tr><td>2015 </td><td>41665</td><td>376  </td><td>58656</td></tr>\n",
       "\t<tr><td>2016 </td><td>40039</td><td>348  </td><td>55669</td></tr>\n",
       "\t<tr><td>2017 </td><td>38625</td><td>343  </td><td>53810</td></tr>\n",
       "\t<tr><td>2018 </td><td>38795</td><td>304  </td><td>53751</td></tr>\n",
       "\t<tr><td>2019 </td><td>39258</td><td>250  </td><td>53904</td></tr>\n",
       "</tbody>\n",
       "</table>\n"
      ],
      "text/latex": [
       "\\begin{tabular}{r|llll}\n",
       " seoul\\$년도 & 발생건수 & 사망자수 & 부상자수\\\\\n",
       "\\hline\n",
       "\t 2011  & 40451 & 435   & 57625\\\\\n",
       "\t 2012  & 40829 & 424   & 58583\\\\\n",
       "\t 2013  & 39439 & 378   & 56761\\\\\n",
       "\t 2014  & 40792 & 400   & 57345\\\\\n",
       "\t 2015  & 41665 & 376   & 58656\\\\\n",
       "\t 2016  & 40039 & 348   & 55669\\\\\n",
       "\t 2017  & 38625 & 343   & 53810\\\\\n",
       "\t 2018  & 38795 & 304   & 53751\\\\\n",
       "\t 2019  & 39258 & 250   & 53904\\\\\n",
       "\\end{tabular}\n"
      ],
      "text/markdown": [
       "\n",
       "| seoul$년도 | 발생건수 | 사망자수 | 부상자수 |\n",
       "|---|---|---|---|\n",
       "| 2011  | 40451 | 435   | 57625 |\n",
       "| 2012  | 40829 | 424   | 58583 |\n",
       "| 2013  | 39439 | 378   | 56761 |\n",
       "| 2014  | 40792 | 400   | 57345 |\n",
       "| 2015  | 41665 | 376   | 58656 |\n",
       "| 2016  | 40039 | 348   | 55669 |\n",
       "| 2017  | 38625 | 343   | 53810 |\n",
       "| 2018  | 38795 | 304   | 53751 |\n",
       "| 2019  | 39258 | 250   | 53904 |\n",
       "\n"
      ],
      "text/plain": [
       "  seoul$년도 발생건수 사망자수 부상자수\n",
       "1 2011       40451    435      57625   \n",
       "2 2012       40829    424      58583   \n",
       "3 2013       39439    378      56761   \n",
       "4 2014       40792    400      57345   \n",
       "5 2015       41665    376      58656   \n",
       "6 2016       40039    348      55669   \n",
       "7 2017       38625    343      53810   \n",
       "8 2018       38795    304      53751   \n",
       "9 2019       39258    250      53904   "
      ]
     },
     "metadata": {},
     "output_type": "display_data"
    }
   ],
   "source": [
    "#byYear <- \n",
    "aggregate(cbind(발생건수=seoul$발생건수, 사망자수=seoul$사망자수, 부상자수=seoul$부상자수)~seoul$년도, FUN=sum)"
   ]
  },
  {
   "cell_type": "code",
   "execution_count": 299,
   "metadata": {
    "vscode": {
     "languageId": "r"
    }
   },
   "outputs": [
    {
     "data": {
      "image/png": "[encoded data removed]",
      "text/plain": [
       "plot without title"
      ]
     },
     "metadata": {},
     "output_type": "display_data"
    }
   ],
   "source": [
    "par(family = \"AppleGothic\")\n",
    "plot(seoul.region$발생건수 ,seoul.region$부상자수)\n"
   ]
  },
  {
   "cell_type": "code",
   "execution_count": 300,
   "metadata": {
    "vscode": {
     "languageId": "r"
    }
   },
   "outputs": [
    {
     "data": {
      "text/plain": [
       "      년도          자치구      발생건수       사망자수        부상자수   \n",
       " Min.   :2011   Min.   : 1   Min.   : 799   Min.   : 3.00   Min.   :1061  \n",
       " 1st Qu.:2013   1st Qu.: 7   1st Qu.:1212   1st Qu.:11.00   1st Qu.:1684  \n",
       " Median :2015   Median :13   Median :1459   Median :13.00   Median :2033  \n",
       " Mean   :2015   Mean   :13   Mean   :1600   Mean   :14.48   Mean   :2249  \n",
       " 3rd Qu.:2017   3rd Qu.:19   3rd Qu.:1722   3rd Qu.:17.00   3rd Qu.:2401  \n",
       " Max.   :2019   Max.   :25   Max.   :3970   Max.   :36.00   Max.   :5686  "
      ]
     },
     "metadata": {},
     "output_type": "display_data"
    },
    {
     "data": {
      "text/plain": [
       "      년도         발생건수        사망자수      부상자수    \n",
       " Min.   :2011   Min.   :38625   Min.   :250   Min.   :53751  \n",
       " 1st Qu.:2013   1st Qu.:39258   1st Qu.:343   1st Qu.:53904  \n",
       " Median :2015   Median :40039   Median :376   Median :56761  \n",
       " Mean   :2015   Mean   :39988   Mean   :362   Mean   :56234  \n",
       " 3rd Qu.:2017   3rd Qu.:40792   3rd Qu.:400   3rd Qu.:57625  \n",
       " Max.   :2019   Max.   :41665   Max.   :435   Max.   :58656  "
      ]
     },
     "metadata": {},
     "output_type": "display_data"
    }
   ],
   "source": [
    "summary(seoul.region)\n",
    "summary(seoul.all)"
   ]
  },
  {
   "cell_type": "code",
   "execution_count": null,
   "metadata": {
    "vscode": {
     "languageId": "r"
    }
   },
   "outputs": [],
   "source": []
  }
 ],
 "metadata": {
  "kernelspec": {
   "display_name": "R",
   "language": "R",
   "name": "ir"
  },
  "language_info": {
   "codemirror_mode": "r",
   "file_extension": ".r",
   "mimetype": "text/x-r-source",
   "name": "R",
   "pygments_lexer": "r",
   "version": "3.6.1"
  },
  "orig_nbformat": 4
 },
 "nbformat": 4,
 "nbformat_minor": 2
}
