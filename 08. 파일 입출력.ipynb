{
 "cells": [
  {
   "cell_type": "code",
   "execution_count": 369,
   "metadata": {
    "vscode": {
     "languageId": "r"
    }
   },
   "outputs": [],
   "source": [
    "no <- 1:4\n",
    "name <- c(\"Apple\", 'Banana', \"Peach\", \"Berry\")\n",
    "price <- c(500,200,200,50)\n",
    "qty <- c(5,4,3,2)"
   ]
  },
  {
   "cell_type": "code",
   "execution_count": 368,
   "metadata": {
    "vscode": {
     "languageId": "r"
    }
   },
   "outputs": [
    {
     "data": {
      "text/html": [
       "<table>\n",
       "<thead><tr><th scope=col>번호</th><th scope=col>제품</th><th scope=col>금액</th><th scope=col>수량</th></tr></thead>\n",
       "<tbody>\n",
       "\t<tr><td>1     </td><td>Apple </td><td>500   </td><td>5     </td></tr>\n",
       "\t<tr><td>2     </td><td>Banana</td><td>200   </td><td>4     </td></tr>\n",
       "\t<tr><td>3     </td><td>Peach </td><td>200   </td><td>3     </td></tr>\n",
       "\t<tr><td>4     </td><td>Berry </td><td> 50   </td><td>2     </td></tr>\n",
       "</tbody>\n",
       "</table>\n"
      ],
      "text/latex": [
       "\\begin{tabular}{r|llll}\n",
       " 번호 & 제품 & 금액 & 수량\\\\\n",
       "\\hline\n",
       "\t 1      & Apple  & 500    & 5     \\\\\n",
       "\t 2      & Banana & 200    & 4     \\\\\n",
       "\t 3      & Peach  & 200    & 3     \\\\\n",
       "\t 4      & Berry  &  50    & 2     \\\\\n",
       "\\end{tabular}\n"
      ],
      "text/markdown": [
       "\n",
       "| 번호 | 제품 | 금액 | 수량 |\n",
       "|---|---|---|---|\n",
       "| 1      | Apple  | 500    | 5      |\n",
       "| 2      | Banana | 200    | 4      |\n",
       "| 3      | Peach  | 200    | 3      |\n",
       "| 4      | Berry  |  50    | 2      |\n",
       "\n"
      ],
      "text/plain": [
       "  번호 제품   금액 수량\n",
       "1 1    Apple  500  5   \n",
       "2 2    Banana 200  4   \n",
       "3 3    Peach  200  3   \n",
       "4 4    Berry   50  2   "
      ]
     },
     "metadata": {},
     "output_type": "display_data"
    }
   ],
   "source": [
    "# 데이터프레임으로 합치기\n",
    "fruit <- data.frame(번호=no,제품=name,금액=price,수량=qty)\n",
    "fruit"
   ]
  },
  {
   "cell_type": "code",
   "execution_count": 360,
   "metadata": {
    "vscode": {
     "languageId": "r"
    }
   },
   "outputs": [
    {
     "data": {
      "text/html": [
       "<ol class=list-inline>\n",
       "\t<li>'GDP_ranking'</li>\n",
       "\t<li>'GDP_ranking15'</li>\n",
       "\t<li>'GDP_ranking2'</li>\n",
       "\t<li>'fruit'</li>\n",
       "\t<li>'fruit2'</li>\n",
       "\t<li>'i'</li>\n",
       "\t<li>'iris.test'</li>\n",
       "\t<li>'iris.train'</li>\n",
       "\t<li>'irisSamp'</li>\n",
       "\t<li>'iris_setosa'</li>\n",
       "\t<li>'iris_versicolor'</li>\n",
       "\t<li>'name'</li>\n",
       "\t<li>'no'</li>\n",
       "\t<li>'price'</li>\n",
       "\t<li>'qty'</li>\n",
       "\t<li>'regionAcc.mean'</li>\n",
       "\t<li>'samp'</li>\n",
       "\t<li>'seoul'</li>\n",
       "</ol>\n"
      ],
      "text/latex": [
       "\\begin{enumerate*}\n",
       "\\item 'GDP\\_ranking'\n",
       "\\item 'GDP\\_ranking15'\n",
       "\\item 'GDP\\_ranking2'\n",
       "\\item 'fruit'\n",
       "\\item 'fruit2'\n",
       "\\item 'i'\n",
       "\\item 'iris.test'\n",
       "\\item 'iris.train'\n",
       "\\item 'irisSamp'\n",
       "\\item 'iris\\_setosa'\n",
       "\\item 'iris\\_versicolor'\n",
       "\\item 'name'\n",
       "\\item 'no'\n",
       "\\item 'price'\n",
       "\\item 'qty'\n",
       "\\item 'regionAcc.mean'\n",
       "\\item 'samp'\n",
       "\\item 'seoul'\n",
       "\\end{enumerate*}\n"
      ],
      "text/markdown": [
       "1. 'GDP_ranking'\n",
       "2. 'GDP_ranking15'\n",
       "3. 'GDP_ranking2'\n",
       "4. 'fruit'\n",
       "5. 'fruit2'\n",
       "6. 'i'\n",
       "7. 'iris.test'\n",
       "8. 'iris.train'\n",
       "9. 'irisSamp'\n",
       "10. 'iris_setosa'\n",
       "11. 'iris_versicolor'\n",
       "12. 'name'\n",
       "13. 'no'\n",
       "14. 'price'\n",
       "15. 'qty'\n",
       "16. 'regionAcc.mean'\n",
       "17. 'samp'\n",
       "18. 'seoul'\n",
       "\n",
       "\n"
      ],
      "text/plain": [
       " [1] \"GDP_ranking\"     \"GDP_ranking15\"   \"GDP_ranking2\"    \"fruit\"          \n",
       " [5] \"fruit2\"          \"i\"               \"iris.test\"       \"iris.train\"     \n",
       " [9] \"irisSamp\"        \"iris_setosa\"     \"iris_versicolor\" \"name\"           \n",
       "[13] \"no\"              \"price\"           \"qty\"             \"regionAcc.mean\" \n",
       "[17] \"samp\"            \"seoul\"          "
      ]
     },
     "metadata": {},
     "output_type": "display_data"
    }
   ],
   "source": [
    "# 현재 메모리에 있는 변수 보기\n",
    "ls()"
   ]
  },
  {
   "cell_type": "code",
   "execution_count": 355,
   "metadata": {
    "vscode": {
     "languageId": "r"
    }
   },
   "outputs": [],
   "source": [
    "# 메모리 형태로 파일 보관\n",
    "save(no, fruit, name, file=\"../Data/testFruit.txt\") \n",
    "# 파일 형태는 아무거나 상관 없음"
   ]
  },
  {
   "cell_type": "code",
   "execution_count": 371,
   "metadata": {
    "vscode": {
     "languageId": "r"
    }
   },
   "outputs": [
    {
     "ename": "ERROR",
     "evalue": "Error in eval(expr, envir, enclos): 객체 'no'를 찾을 수 없습니다\n",
     "output_type": "error",
     "traceback": [
      "Error in eval(expr, envir, enclos): 객체 'no'를 찾을 수 없습니다\nTraceback:\n"
     ]
    }
   ],
   "source": [
    "rm(no, fruit, name)"
   ]
  },
  {
   "cell_type": "code",
   "execution_count": 373,
   "metadata": {
    "vscode": {
     "languageId": "r"
    }
   },
   "outputs": [
    {
     "data": {
      "text/html": [
       "<ol class=list-inline>\n",
       "\t<li>1</li>\n",
       "\t<li>2</li>\n",
       "\t<li>3</li>\n",
       "\t<li>4</li>\n",
       "</ol>\n"
      ],
      "text/latex": [
       "\\begin{enumerate*}\n",
       "\\item 1\n",
       "\\item 2\n",
       "\\item 3\n",
       "\\item 4\n",
       "\\end{enumerate*}\n"
      ],
      "text/markdown": [
       "1. 1\n",
       "2. 2\n",
       "3. 3\n",
       "4. 4\n",
       "\n",
       "\n"
      ],
      "text/plain": [
       "[1] 1 2 3 4"
      ]
     },
     "metadata": {},
     "output_type": "display_data"
    }
   ],
   "source": [
    "# 메모리로 불러오기\n",
    "load(\"../Data/testFruit.txt\")"
   ]
  },
  {
   "cell_type": "code",
   "execution_count": 106,
   "metadata": {
    "vscode": {
     "languageId": "r"
    }
   },
   "outputs": [],
   "source": [
    "# fruit를 csv로 저장하기 \n",
    "write.csv(fruit, \"../Data/fruit.csv\")"
   ]
  },
  {
   "cell_type": "code",
   "execution_count": 107,
   "metadata": {
    "vscode": {
     "languageId": "r"
    }
   },
   "outputs": [],
   "source": [
    "fruit2 <- read.csv(\"../Data/fruit.csv\") # x라는 컬럼이 하나 추가되었다. x = rownames"
   ]
  },
  {
   "cell_type": "code",
   "execution_count": 108,
   "metadata": {
    "vscode": {
     "languageId": "r"
    }
   },
   "outputs": [],
   "source": [
    "write.csv(fruit2, \"../Data/fruit2.csv\")"
   ]
  },
  {
   "cell_type": "code",
   "execution_count": 109,
   "metadata": {
    "vscode": {
     "languageId": "r"
    }
   },
   "outputs": [
    {
     "data": {
      "text/html": [
       "<table>\n",
       "<thead><tr><th scope=col>X.1</th><th scope=col>X</th><th scope=col>번호</th><th scope=col>제품</th><th scope=col>금액</th><th scope=col>수량</th></tr></thead>\n",
       "<tbody>\n",
       "\t<tr><td>1     </td><td>1     </td><td>1     </td><td>Apple </td><td>500   </td><td>5     </td></tr>\n",
       "\t<tr><td>2     </td><td>2     </td><td>2     </td><td>Banana</td><td>200   </td><td>4     </td></tr>\n",
       "\t<tr><td>3     </td><td>3     </td><td>3     </td><td>Peach </td><td>200   </td><td>3     </td></tr>\n",
       "\t<tr><td>4     </td><td>4     </td><td>4     </td><td>Berry </td><td> 50   </td><td>2     </td></tr>\n",
       "</tbody>\n",
       "</table>\n"
      ],
      "text/latex": [
       "\\begin{tabular}{r|llllll}\n",
       " X.1 & X & 번호 & 제품 & 금액 & 수량\\\\\n",
       "\\hline\n",
       "\t 1      & 1      & 1      & Apple  & 500    & 5     \\\\\n",
       "\t 2      & 2      & 2      & Banana & 200    & 4     \\\\\n",
       "\t 3      & 3      & 3      & Peach  & 200    & 3     \\\\\n",
       "\t 4      & 4      & 4      & Berry  &  50    & 2     \\\\\n",
       "\\end{tabular}\n"
      ],
      "text/markdown": [
       "\n",
       "| X.1 | X | 번호 | 제품 | 금액 | 수량 |\n",
       "|---|---|---|---|---|---|\n",
       "| 1      | 1      | 1      | Apple  | 500    | 5      |\n",
       "| 2      | 2      | 2      | Banana | 200    | 4      |\n",
       "| 3      | 3      | 3      | Peach  | 200    | 3      |\n",
       "| 4      | 4      | 4      | Berry  |  50    | 2      |\n",
       "\n"
      ],
      "text/plain": [
       "  X.1 X 번호 제품   금액 수량\n",
       "1 1   1 1    Apple  500  5   \n",
       "2 2   2 2    Banana 200  4   \n",
       "3 3   3 3    Peach  200  3   \n",
       "4 4   4 4    Berry   50  2   "
      ]
     },
     "metadata": {},
     "output_type": "display_data"
    }
   ],
   "source": [
    "# rownames가 계속 쌓인다\n",
    "read.csv(\"../Data/fruit2.csv\") "
   ]
  },
  {
   "cell_type": "code",
   "execution_count": 110,
   "metadata": {
    "vscode": {
     "languageId": "r"
    }
   },
   "outputs": [],
   "source": [
    "# 저장시 주의 사항 : row names가 필요치 않으면 저장하지 말아야 한다.\n",
    "write.csv(fruit, \"../Data/fruit.csv\", row.names=F)"
   ]
  },
  {
   "cell_type": "code",
   "execution_count": 111,
   "metadata": {
    "vscode": {
     "languageId": "r"
    }
   },
   "outputs": [
    {
     "data": {
      "text/html": [
       "<table>\n",
       "<thead><tr><th scope=col>번호</th><th scope=col>제품</th><th scope=col>금액</th><th scope=col>수량</th></tr></thead>\n",
       "<tbody>\n",
       "\t<tr><td>1     </td><td>Apple </td><td>500   </td><td>5     </td></tr>\n",
       "\t<tr><td>2     </td><td>Banana</td><td>200   </td><td>4     </td></tr>\n",
       "\t<tr><td>3     </td><td>Peach </td><td>200   </td><td>3     </td></tr>\n",
       "\t<tr><td>4     </td><td>Berry </td><td> 50   </td><td>2     </td></tr>\n",
       "</tbody>\n",
       "</table>\n"
      ],
      "text/latex": [
       "\\begin{tabular}{r|llll}\n",
       " 번호 & 제품 & 금액 & 수량\\\\\n",
       "\\hline\n",
       "\t 1      & Apple  & 500    & 5     \\\\\n",
       "\t 2      & Banana & 200    & 4     \\\\\n",
       "\t 3      & Peach  & 200    & 3     \\\\\n",
       "\t 4      & Berry  &  50    & 2     \\\\\n",
       "\\end{tabular}\n"
      ],
      "text/markdown": [
       "\n",
       "| 번호 | 제품 | 금액 | 수량 |\n",
       "|---|---|---|---|\n",
       "| 1      | Apple  | 500    | 5      |\n",
       "| 2      | Banana | 200    | 4      |\n",
       "| 3      | Peach  | 200    | 3      |\n",
       "| 4      | Berry  |  50    | 2      |\n",
       "\n"
      ],
      "text/plain": [
       "  번호 제품   금액 수량\n",
       "1 1    Apple  500  5   \n",
       "2 2    Banana 200  4   \n",
       "3 3    Peach  200  3   \n",
       "4 4    Berry   50  2   "
      ]
     },
     "metadata": {},
     "output_type": "display_data"
    }
   ],
   "source": [
    "read.csv(\"../Data/fruit.csv\")"
   ]
  },
  {
   "cell_type": "markdown",
   "metadata": {},
   "source": [
    "# 세계 GDP 순위 데이터 정제 및 차트 만들기"
   ]
  },
  {
   "cell_type": "code",
   "execution_count": 112,
   "metadata": {
    "vscode": {
     "languageId": "r"
    }
   },
   "outputs": [
    {
     "data": {
      "text/html": [
       "<table>\n",
       "<thead><tr><th scope=col>X</th><th scope=col>Gross.domestic.product.2018</th><th scope=col>X.1</th><th scope=col>X.2</th><th scope=col>X.3</th><th scope=col>X.4</th></tr></thead>\n",
       "<tbody>\n",
       "\t<tr><td>              </td><td>              </td><td>NA            </td><td>              </td><td>              </td><td>              </td></tr>\n",
       "\t<tr><td>              </td><td>              </td><td>NA            </td><td>              </td><td>(millions of  </td><td>              </td></tr>\n",
       "\t<tr><td>              </td><td>Ranking       </td><td>NA            </td><td>Economy       </td><td>US dollars)   </td><td>              </td></tr>\n",
       "\t<tr><td>              </td><td>              </td><td>NA            </td><td>              </td><td>              </td><td>              </td></tr>\n",
       "\t<tr><td>USA           </td><td>1             </td><td>NA            </td><td>United States </td><td> 20,494,100   </td><td>              </td></tr>\n",
       "\t<tr><td>CHN           </td><td>2             </td><td>NA            </td><td>China         </td><td> 13,608,152   </td><td>              </td></tr>\n",
       "\t<tr><td>JPN           </td><td>3             </td><td>NA            </td><td>Japan         </td><td> 4,970,916    </td><td>              </td></tr>\n",
       "\t<tr><td>DEU           </td><td>4             </td><td>NA            </td><td>Germany       </td><td> 3,996,759    </td><td>              </td></tr>\n",
       "\t<tr><td>GBR           </td><td>5             </td><td>NA            </td><td>United Kingdom</td><td> 2,825,208    </td><td>              </td></tr>\n",
       "\t<tr><td>FRA           </td><td>6             </td><td>NA            </td><td>France        </td><td> 2,777,535    </td><td>              </td></tr>\n",
       "</tbody>\n",
       "</table>\n"
      ],
      "text/latex": [
       "\\begin{tabular}{r|llllll}\n",
       " X & Gross.domestic.product.2018 & X.1 & X.2 & X.3 & X.4\\\\\n",
       "\\hline\n",
       "\t                &                & NA             &                &                &               \\\\\n",
       "\t                &                & NA             &                & (millions of   &               \\\\\n",
       "\t                & Ranking        & NA             & Economy        & US dollars)    &               \\\\\n",
       "\t                &                & NA             &                &                &               \\\\\n",
       "\t USA            & 1              & NA             & United States  &  20,494,100    &               \\\\\n",
       "\t CHN            & 2              & NA             & China          &  13,608,152    &               \\\\\n",
       "\t JPN            & 3              & NA             & Japan          &  4,970,916     &               \\\\\n",
       "\t DEU            & 4              & NA             & Germany        &  3,996,759     &               \\\\\n",
       "\t GBR            & 5              & NA             & United Kingdom &  2,825,208     &               \\\\\n",
       "\t FRA            & 6              & NA             & France         &  2,777,535     &               \\\\\n",
       "\\end{tabular}\n"
      ],
      "text/markdown": [
       "\n",
       "| X | Gross.domestic.product.2018 | X.1 | X.2 | X.3 | X.4 |\n",
       "|---|---|---|---|---|---|\n",
       "|                |                | NA             |                |                |                |\n",
       "|                |                | NA             |                | (millions of   |                |\n",
       "|                | Ranking        | NA             | Economy        | US dollars)    |                |\n",
       "|                |                | NA             |                |                |                |\n",
       "| USA            | 1              | NA             | United States  |  20,494,100    |                |\n",
       "| CHN            | 2              | NA             | China          |  13,608,152    |                |\n",
       "| JPN            | 3              | NA             | Japan          |  4,970,916     |                |\n",
       "| DEU            | 4              | NA             | Germany        |  3,996,759     |                |\n",
       "| GBR            | 5              | NA             | United Kingdom |  2,825,208     |                |\n",
       "| FRA            | 6              | NA             | France         |  2,777,535     |                |\n",
       "\n"
      ],
      "text/plain": [
       "   X   Gross.domestic.product.2018 X.1 X.2            X.3          X.4\n",
       "1                                  NA                                 \n",
       "2                                  NA                 (millions of    \n",
       "3      Ranking                     NA  Economy        US dollars)     \n",
       "4                                  NA                                 \n",
       "5  USA 1                           NA  United States   20,494,100     \n",
       "6  CHN 2                           NA  China           13,608,152     \n",
       "7  JPN 3                           NA  Japan           4,970,916      \n",
       "8  DEU 4                           NA  Germany         3,996,759      \n",
       "9  GBR 5                           NA  United Kingdom  2,825,208      \n",
       "10 FRA 6                           NA  France          2,777,535      "
      ]
     },
     "metadata": {},
     "output_type": "display_data"
    },
    {
     "data": {
      "text/html": [
       "<table>\n",
       "<thead><tr><th></th><th scope=col>X</th><th scope=col>Gross.domestic.product.2018</th><th scope=col>X.1</th><th scope=col>X.2</th><th scope=col>X.3</th><th scope=col>X.4</th></tr></thead>\n",
       "<tbody>\n",
       "\t<tr><th scope=row>319</th><td>  </td><td>  </td><td>NA</td><td>  </td><td>  </td><td>  </td></tr>\n",
       "\t<tr><th scope=row>320</th><td>  </td><td>  </td><td>NA</td><td>  </td><td>  </td><td>  </td></tr>\n",
       "\t<tr><th scope=row>321</th><td>  </td><td>  </td><td>NA</td><td>  </td><td>  </td><td>  </td></tr>\n",
       "\t<tr><th scope=row>322</th><td>  </td><td>  </td><td>NA</td><td>  </td><td>  </td><td>  </td></tr>\n",
       "\t<tr><th scope=row>323</th><td>  </td><td>  </td><td>NA</td><td>  </td><td>  </td><td>  </td></tr>\n",
       "\t<tr><th scope=row>324</th><td>  </td><td>  </td><td>NA</td><td>  </td><td>  </td><td>  </td></tr>\n",
       "\t<tr><th scope=row>325</th><td>  </td><td>  </td><td>NA</td><td>  </td><td>  </td><td>  </td></tr>\n",
       "\t<tr><th scope=row>326</th><td>  </td><td>  </td><td>NA</td><td>  </td><td>  </td><td>  </td></tr>\n",
       "\t<tr><th scope=row>327</th><td>  </td><td>  </td><td>NA</td><td>  </td><td>  </td><td>  </td></tr>\n",
       "\t<tr><th scope=row>328</th><td>  </td><td>  </td><td>NA</td><td>  </td><td>  </td><td>  </td></tr>\n",
       "</tbody>\n",
       "</table>\n"
      ],
      "text/latex": [
       "\\begin{tabular}{r|llllll}\n",
       "  & X & Gross.domestic.product.2018 & X.1 & X.2 & X.3 & X.4\\\\\n",
       "\\hline\n",
       "\t319 &    &    & NA &    &    &   \\\\\n",
       "\t320 &    &    & NA &    &    &   \\\\\n",
       "\t321 &    &    & NA &    &    &   \\\\\n",
       "\t322 &    &    & NA &    &    &   \\\\\n",
       "\t323 &    &    & NA &    &    &   \\\\\n",
       "\t324 &    &    & NA &    &    &   \\\\\n",
       "\t325 &    &    & NA &    &    &   \\\\\n",
       "\t326 &    &    & NA &    &    &   \\\\\n",
       "\t327 &    &    & NA &    &    &   \\\\\n",
       "\t328 &    &    & NA &    &    &   \\\\\n",
       "\\end{tabular}\n"
      ],
      "text/markdown": [
       "\n",
       "| <!--/--> | X | Gross.domestic.product.2018 | X.1 | X.2 | X.3 | X.4 |\n",
       "|---|---|---|---|---|---|---|\n",
       "| 319 |    |    | NA |    |    |    |\n",
       "| 320 |    |    | NA |    |    |    |\n",
       "| 321 |    |    | NA |    |    |    |\n",
       "| 322 |    |    | NA |    |    |    |\n",
       "| 323 |    |    | NA |    |    |    |\n",
       "| 324 |    |    | NA |    |    |    |\n",
       "| 325 |    |    | NA |    |    |    |\n",
       "| 326 |    |    | NA |    |    |    |\n",
       "| 327 |    |    | NA |    |    |    |\n",
       "| 328 |    |    | NA |    |    |    |\n",
       "\n"
      ],
      "text/plain": [
       "    X Gross.domestic.product.2018 X.1 X.2 X.3 X.4\n",
       "319                               NA             \n",
       "320                               NA             \n",
       "321                               NA             \n",
       "322                               NA             \n",
       "323                               NA             \n",
       "324                               NA             \n",
       "325                               NA             \n",
       "326                               NA             \n",
       "327                               NA             \n",
       "328                               NA             "
      ]
     },
     "metadata": {},
     "output_type": "display_data"
    }
   ],
   "source": [
    "# Data Set 불러오기 \n",
    "GDP_ranking <- read.csv(\"../Data/GDP.csv\") \n",
    "head(GDP_ranking, 10)\n",
    "tail(GDP_ranking ,10)\n",
    "# 우리가 필요한 데이터 나라,순위,이름,값"
   ]
  },
  {
   "cell_type": "code",
   "execution_count": 113,
   "metadata": {
    "vscode": {
     "languageId": "r"
    }
   },
   "outputs": [
    {
     "data": {
      "text/html": [
       "<table>\n",
       "<thead><tr><th></th><th scope=col>X</th><th scope=col>Gross.domestic.product.2018</th><th scope=col>X.2</th><th scope=col>X.3</th></tr></thead>\n",
       "<tbody>\n",
       "\t<tr><th scope=row>5</th><td>USA           </td><td>1             </td><td>United States </td><td> 20,494,100   </td></tr>\n",
       "\t<tr><th scope=row>6</th><td>CHN           </td><td>2             </td><td>China         </td><td> 13,608,152   </td></tr>\n",
       "\t<tr><th scope=row>7</th><td>JPN           </td><td>3             </td><td>Japan         </td><td> 4,970,916    </td></tr>\n",
       "\t<tr><th scope=row>8</th><td>DEU           </td><td>4             </td><td>Germany       </td><td> 3,996,759    </td></tr>\n",
       "\t<tr><th scope=row>9</th><td>GBR           </td><td>5             </td><td>United Kingdom</td><td> 2,825,208    </td></tr>\n",
       "\t<tr><th scope=row>10</th><td>FRA           </td><td>6             </td><td>France        </td><td> 2,777,535    </td></tr>\n",
       "</tbody>\n",
       "</table>\n"
      ],
      "text/latex": [
       "\\begin{tabular}{r|llll}\n",
       "  & X & Gross.domestic.product.2018 & X.2 & X.3\\\\\n",
       "\\hline\n",
       "\t5 & USA            & 1              & United States  &  20,494,100   \\\\\n",
       "\t6 & CHN            & 2              & China          &  13,608,152   \\\\\n",
       "\t7 & JPN            & 3              & Japan          &  4,970,916    \\\\\n",
       "\t8 & DEU            & 4              & Germany        &  3,996,759    \\\\\n",
       "\t9 & GBR            & 5              & United Kingdom &  2,825,208    \\\\\n",
       "\t10 & FRA            & 6              & France         &  2,777,535    \\\\\n",
       "\\end{tabular}\n"
      ],
      "text/markdown": [
       "\n",
       "| <!--/--> | X | Gross.domestic.product.2018 | X.2 | X.3 |\n",
       "|---|---|---|---|---|\n",
       "| 5 | USA            | 1              | United States  |  20,494,100    |\n",
       "| 6 | CHN            | 2              | China          |  13,608,152    |\n",
       "| 7 | JPN            | 3              | Japan          |  4,970,916     |\n",
       "| 8 | DEU            | 4              | Germany        |  3,996,759     |\n",
       "| 9 | GBR            | 5              | United Kingdom |  2,825,208     |\n",
       "| 10 | FRA            | 6              | France         |  2,777,535     |\n",
       "\n"
      ],
      "text/plain": [
       "   X   Gross.domestic.product.2018 X.2            X.3         \n",
       "5  USA 1                           United States   20,494,100 \n",
       "6  CHN 2                           China           13,608,152 \n",
       "7  JPN 3                           Japan           4,970,916  \n",
       "8  DEU 4                           Germany         3,996,759  \n",
       "9  GBR 5                           United Kingdom  2,825,208  \n",
       "10 FRA 6                           France          2,777,535  "
      ]
     },
     "metadata": {},
     "output_type": "display_data"
    }
   ],
   "source": [
    "GDP_ranking2 <- GDP_ranking[-c(1:4),c(1,2,4,5)]\n",
    "head(GDP_ranking2)"
   ]
  },
  {
   "cell_type": "code",
   "execution_count": 114,
   "metadata": {
    "vscode": {
     "languageId": "r"
    }
   },
   "outputs": [
    {
     "data": {
      "text/html": [
       "<table>\n",
       "<thead><tr><th></th><th scope=col>X</th><th scope=col>Gross.domestic.product.2018</th><th scope=col>X.2</th><th scope=col>X.3</th></tr></thead>\n",
       "<tbody>\n",
       "\t<tr><th scope=row>5</th><td>USA               </td><td>1                 </td><td>United States     </td><td> 20,494,100       </td></tr>\n",
       "\t<tr><th scope=row>6</th><td>CHN               </td><td>2                 </td><td>China             </td><td> 13,608,152       </td></tr>\n",
       "\t<tr><th scope=row>7</th><td>JPN               </td><td>3                 </td><td>Japan             </td><td> 4,970,916        </td></tr>\n",
       "\t<tr><th scope=row>8</th><td>DEU               </td><td>4                 </td><td>Germany           </td><td> 3,996,759        </td></tr>\n",
       "\t<tr><th scope=row>9</th><td>GBR               </td><td>5                 </td><td>United Kingdom    </td><td> 2,825,208        </td></tr>\n",
       "\t<tr><th scope=row>10</th><td>FRA               </td><td>6                 </td><td>France            </td><td> 2,777,535        </td></tr>\n",
       "\t<tr><th scope=row>11</th><td>IND               </td><td>7                 </td><td>India             </td><td> 2,726,323        </td></tr>\n",
       "\t<tr><th scope=row>12</th><td>ITA               </td><td>8                 </td><td>Italy             </td><td> 2,073,902        </td></tr>\n",
       "\t<tr><th scope=row>13</th><td>BRA               </td><td>9                 </td><td>Brazil            </td><td> 1,868,626        </td></tr>\n",
       "\t<tr><th scope=row>14</th><td>CAN               </td><td>10                </td><td>Canada            </td><td> 1,712,510        </td></tr>\n",
       "\t<tr><th scope=row>15</th><td>RUS               </td><td>11                </td><td>Russian Federation</td><td> 1,657,554        </td></tr>\n",
       "\t<tr><th scope=row>16</th><td>KOR               </td><td>12                </td><td>Korea, Rep.       </td><td> 1,619,424        </td></tr>\n",
       "\t<tr><th scope=row>17</th><td>AUS               </td><td>13                </td><td>Australia         </td><td> 1,432,195        </td></tr>\n",
       "\t<tr><th scope=row>18</th><td>ESP               </td><td>14                </td><td>Spain             </td><td> 1,426,189        </td></tr>\n",
       "\t<tr><th scope=row>19</th><td>MEX               </td><td>15                </td><td>Mexico            </td><td> 1,223,809        </td></tr>\n",
       "</tbody>\n",
       "</table>\n"
      ],
      "text/latex": [
       "\\begin{tabular}{r|llll}\n",
       "  & X & Gross.domestic.product.2018 & X.2 & X.3\\\\\n",
       "\\hline\n",
       "\t5 & USA                & 1                  & United States      &  20,494,100       \\\\\n",
       "\t6 & CHN                & 2                  & China              &  13,608,152       \\\\\n",
       "\t7 & JPN                & 3                  & Japan              &  4,970,916        \\\\\n",
       "\t8 & DEU                & 4                  & Germany            &  3,996,759        \\\\\n",
       "\t9 & GBR                & 5                  & United Kingdom     &  2,825,208        \\\\\n",
       "\t10 & FRA                & 6                  & France             &  2,777,535        \\\\\n",
       "\t11 & IND                & 7                  & India              &  2,726,323        \\\\\n",
       "\t12 & ITA                & 8                  & Italy              &  2,073,902        \\\\\n",
       "\t13 & BRA                & 9                  & Brazil             &  1,868,626        \\\\\n",
       "\t14 & CAN                & 10                 & Canada             &  1,712,510        \\\\\n",
       "\t15 & RUS                & 11                 & Russian Federation &  1,657,554        \\\\\n",
       "\t16 & KOR                & 12                 & Korea, Rep.        &  1,619,424        \\\\\n",
       "\t17 & AUS                & 13                 & Australia          &  1,432,195        \\\\\n",
       "\t18 & ESP                & 14                 & Spain              &  1,426,189        \\\\\n",
       "\t19 & MEX                & 15                 & Mexico             &  1,223,809        \\\\\n",
       "\\end{tabular}\n"
      ],
      "text/markdown": [
       "\n",
       "| <!--/--> | X | Gross.domestic.product.2018 | X.2 | X.3 |\n",
       "|---|---|---|---|---|\n",
       "| 5 | USA                | 1                  | United States      |  20,494,100        |\n",
       "| 6 | CHN                | 2                  | China              |  13,608,152        |\n",
       "| 7 | JPN                | 3                  | Japan              |  4,970,916         |\n",
       "| 8 | DEU                | 4                  | Germany            |  3,996,759         |\n",
       "| 9 | GBR                | 5                  | United Kingdom     |  2,825,208         |\n",
       "| 10 | FRA                | 6                  | France             |  2,777,535         |\n",
       "| 11 | IND                | 7                  | India              |  2,726,323         |\n",
       "| 12 | ITA                | 8                  | Italy              |  2,073,902         |\n",
       "| 13 | BRA                | 9                  | Brazil             |  1,868,626         |\n",
       "| 14 | CAN                | 10                 | Canada             |  1,712,510         |\n",
       "| 15 | RUS                | 11                 | Russian Federation |  1,657,554         |\n",
       "| 16 | KOR                | 12                 | Korea, Rep.        |  1,619,424         |\n",
       "| 17 | AUS                | 13                 | Australia          |  1,432,195         |\n",
       "| 18 | ESP                | 14                 | Spain              |  1,426,189         |\n",
       "| 19 | MEX                | 15                 | Mexico             |  1,223,809         |\n",
       "\n"
      ],
      "text/plain": [
       "   X   Gross.domestic.product.2018 X.2                X.3         \n",
       "5  USA 1                           United States       20,494,100 \n",
       "6  CHN 2                           China               13,608,152 \n",
       "7  JPN 3                           Japan               4,970,916  \n",
       "8  DEU 4                           Germany             3,996,759  \n",
       "9  GBR 5                           United Kingdom      2,825,208  \n",
       "10 FRA 6                           France              2,777,535  \n",
       "11 IND 7                           India               2,726,323  \n",
       "12 ITA 8                           Italy               2,073,902  \n",
       "13 BRA 9                           Brazil              1,868,626  \n",
       "14 CAN 10                          Canada              1,712,510  \n",
       "15 RUS 11                          Russian Federation  1,657,554  \n",
       "16 KOR 12                          Korea, Rep.         1,619,424  \n",
       "17 AUS 13                          Australia           1,432,195  \n",
       "18 ESP 14                          Spain               1,426,189  \n",
       "19 MEX 15                          Mexico              1,223,809  "
      ]
     },
     "metadata": {},
     "output_type": "display_data"
    }
   ],
   "source": [
    "# 상위 15개국만 선별한다.\n",
    "GDP_ranking15 <- GDP_ranking2[c(1:15),]\n",
    "#GDP_ranking15 <- head(GDP_ranking2, 15)\n",
    "GDP_ranking15"
   ]
  },
  {
   "cell_type": "code",
   "execution_count": 115,
   "metadata": {
    "vscode": {
     "languageId": "r"
    }
   },
   "outputs": [
    {
     "data": {
      "text/html": [
       "<table>\n",
       "<thead><tr><th></th><th scope=col>Code</th><th scope=col>Ranking</th><th scope=col>Nation</th><th scope=col>GDP</th></tr></thead>\n",
       "<tbody>\n",
       "\t<tr><th scope=row>5</th><td>USA               </td><td>1                 </td><td>United States     </td><td> 20,494,100       </td></tr>\n",
       "\t<tr><th scope=row>6</th><td>CHN               </td><td>2                 </td><td>China             </td><td> 13,608,152       </td></tr>\n",
       "\t<tr><th scope=row>7</th><td>JPN               </td><td>3                 </td><td>Japan             </td><td> 4,970,916        </td></tr>\n",
       "\t<tr><th scope=row>8</th><td>DEU               </td><td>4                 </td><td>Germany           </td><td> 3,996,759        </td></tr>\n",
       "\t<tr><th scope=row>9</th><td>GBR               </td><td>5                 </td><td>United Kingdom    </td><td> 2,825,208        </td></tr>\n",
       "\t<tr><th scope=row>10</th><td>FRA               </td><td>6                 </td><td>France            </td><td> 2,777,535        </td></tr>\n",
       "\t<tr><th scope=row>11</th><td>IND               </td><td>7                 </td><td>India             </td><td> 2,726,323        </td></tr>\n",
       "\t<tr><th scope=row>12</th><td>ITA               </td><td>8                 </td><td>Italy             </td><td> 2,073,902        </td></tr>\n",
       "\t<tr><th scope=row>13</th><td>BRA               </td><td>9                 </td><td>Brazil            </td><td> 1,868,626        </td></tr>\n",
       "\t<tr><th scope=row>14</th><td>CAN               </td><td>10                </td><td>Canada            </td><td> 1,712,510        </td></tr>\n",
       "\t<tr><th scope=row>15</th><td>RUS               </td><td>11                </td><td>Russian Federation</td><td> 1,657,554        </td></tr>\n",
       "\t<tr><th scope=row>16</th><td>KOR               </td><td>12                </td><td>Korea, Rep.       </td><td> 1,619,424        </td></tr>\n",
       "\t<tr><th scope=row>17</th><td>AUS               </td><td>13                </td><td>Australia         </td><td> 1,432,195        </td></tr>\n",
       "\t<tr><th scope=row>18</th><td>ESP               </td><td>14                </td><td>Spain             </td><td> 1,426,189        </td></tr>\n",
       "\t<tr><th scope=row>19</th><td>MEX               </td><td>15                </td><td>Mexico            </td><td> 1,223,809        </td></tr>\n",
       "</tbody>\n",
       "</table>\n"
      ],
      "text/latex": [
       "\\begin{tabular}{r|llll}\n",
       "  & Code & Ranking & Nation & GDP\\\\\n",
       "\\hline\n",
       "\t5 & USA                & 1                  & United States      &  20,494,100       \\\\\n",
       "\t6 & CHN                & 2                  & China              &  13,608,152       \\\\\n",
       "\t7 & JPN                & 3                  & Japan              &  4,970,916        \\\\\n",
       "\t8 & DEU                & 4                  & Germany            &  3,996,759        \\\\\n",
       "\t9 & GBR                & 5                  & United Kingdom     &  2,825,208        \\\\\n",
       "\t10 & FRA                & 6                  & France             &  2,777,535        \\\\\n",
       "\t11 & IND                & 7                  & India              &  2,726,323        \\\\\n",
       "\t12 & ITA                & 8                  & Italy              &  2,073,902        \\\\\n",
       "\t13 & BRA                & 9                  & Brazil             &  1,868,626        \\\\\n",
       "\t14 & CAN                & 10                 & Canada             &  1,712,510        \\\\\n",
       "\t15 & RUS                & 11                 & Russian Federation &  1,657,554        \\\\\n",
       "\t16 & KOR                & 12                 & Korea, Rep.        &  1,619,424        \\\\\n",
       "\t17 & AUS                & 13                 & Australia          &  1,432,195        \\\\\n",
       "\t18 & ESP                & 14                 & Spain              &  1,426,189        \\\\\n",
       "\t19 & MEX                & 15                 & Mexico             &  1,223,809        \\\\\n",
       "\\end{tabular}\n"
      ],
      "text/markdown": [
       "\n",
       "| <!--/--> | Code | Ranking | Nation | GDP |\n",
       "|---|---|---|---|---|\n",
       "| 5 | USA                | 1                  | United States      |  20,494,100        |\n",
       "| 6 | CHN                | 2                  | China              |  13,608,152        |\n",
       "| 7 | JPN                | 3                  | Japan              |  4,970,916         |\n",
       "| 8 | DEU                | 4                  | Germany            |  3,996,759         |\n",
       "| 9 | GBR                | 5                  | United Kingdom     |  2,825,208         |\n",
       "| 10 | FRA                | 6                  | France             |  2,777,535         |\n",
       "| 11 | IND                | 7                  | India              |  2,726,323         |\n",
       "| 12 | ITA                | 8                  | Italy              |  2,073,902         |\n",
       "| 13 | BRA                | 9                  | Brazil             |  1,868,626         |\n",
       "| 14 | CAN                | 10                 | Canada             |  1,712,510         |\n",
       "| 15 | RUS                | 11                 | Russian Federation |  1,657,554         |\n",
       "| 16 | KOR                | 12                 | Korea, Rep.        |  1,619,424         |\n",
       "| 17 | AUS                | 13                 | Australia          |  1,432,195         |\n",
       "| 18 | ESP                | 14                 | Spain              |  1,426,189         |\n",
       "| 19 | MEX                | 15                 | Mexico             |  1,223,809         |\n",
       "\n"
      ],
      "text/plain": [
       "   Code Ranking Nation             GDP         \n",
       "5  USA  1       United States       20,494,100 \n",
       "6  CHN  2       China               13,608,152 \n",
       "7  JPN  3       Japan               4,970,916  \n",
       "8  DEU  4       Germany             3,996,759  \n",
       "9  GBR  5       United Kingdom      2,825,208  \n",
       "10 FRA  6       France              2,777,535  \n",
       "11 IND  7       India               2,726,323  \n",
       "12 ITA  8       Italy               2,073,902  \n",
       "13 BRA  9       Brazil              1,868,626  \n",
       "14 CAN  10      Canada              1,712,510  \n",
       "15 RUS  11      Russian Federation  1,657,554  \n",
       "16 KOR  12      Korea, Rep.         1,619,424  \n",
       "17 AUS  13      Australia           1,432,195  \n",
       "18 ESP  14      Spain               1,426,189  \n",
       "19 MEX  15      Mexico              1,223,809  "
      ]
     },
     "metadata": {},
     "output_type": "display_data"
    }
   ],
   "source": [
    "# 컬럼이름 정의 : Code, Ranking, Nation, GDP\n",
    "colnames(GDP_ranking15) <- c('Code', 'Ranking', 'Nation', 'GDP')\n",
    "GDP_ranking15"
   ]
  },
  {
   "cell_type": "code",
   "execution_count": 116,
   "metadata": {
    "vscode": {
     "languageId": "r"
    }
   },
   "outputs": [
    {
     "name": "stdout",
     "output_type": "stream",
     "text": [
      "   Code Ranking             Nation          GDP\n",
      "1   USA       1      United States  20,494,100 \n",
      "2   CHN       2              China  13,608,152 \n",
      "3   JPN       3              Japan   4,970,916 \n",
      "4   DEU       4            Germany   3,996,759 \n",
      "5   GBR       5     United Kingdom   2,825,208 \n",
      "6   FRA       6             France   2,777,535 \n",
      "7   IND       7              India   2,726,323 \n",
      "8   ITA       8              Italy   2,073,902 \n",
      "9   BRA       9             Brazil   1,868,626 \n",
      "10  CAN      10             Canada   1,712,510 \n",
      "11  RUS      11 Russian Federation   1,657,554 \n",
      "12  KOR      12        Korea, Rep.   1,619,424 \n",
      "13  AUS      13          Australia   1,432,195 \n",
      "14  ESP      14              Spain   1,426,189 \n",
      "15  MEX      15             Mexico   1,223,809 \n"
     ]
    }
   ],
   "source": [
    "# rownames 새로 구성하기 (인덱스 번호 정리하기)\n",
    "rownames(GDP_ranking15) <- c()\n",
    "print(GDP_ranking15)"
   ]
  },
  {
   "cell_type": "code",
   "execution_count": 123,
   "metadata": {
    "vscode": {
     "languageId": "r"
    }
   },
   "outputs": [
    {
     "name": "stdout",
     "output_type": "stream",
     "text": [
      "'data.frame':\t15 obs. of  4 variables:\n",
      " $ Code   : Factor w/ 15 levels \"AUS\",\"BRA\",\"CAN\",..: 15 4 11 5 8 7 9 10 2 3 ...\n",
      " $ Ranking: Factor w/ 15 levels \"1\",\"10\",\"11\",..: 1 8 9 10 11 12 13 14 15 2 ...\n",
      " $ Nation : Factor w/ 15 levels \"Australia\",\"Brazil\",..: 15 4 9 6 14 5 7 8 2 3 ...\n",
      " $ GDP    : num  20494100 13608152 4970916 3996759 2825208 ...\n"
     ]
    }
   ],
   "source": [
    "# 구조 확인\n",
    "str(GDP_ranking15)"
   ]
  },
  {
   "cell_type": "code",
   "execution_count": 118,
   "metadata": {
    "vscode": {
     "languageId": "r"
    }
   },
   "outputs": [],
   "source": [
    "# Factor의 갯수가 15개가 정상일텐데 200개 이상이다 이상하다. -> 재구성 해야한다.\n",
    "GDP_ranking15$Code <- factor(GDP_ranking15$Code) "
   ]
  },
  {
   "cell_type": "code",
   "execution_count": 119,
   "metadata": {
    "vscode": {
     "languageId": "r"
    }
   },
   "outputs": [],
   "source": [
    "# for\n",
    "for(i in 1:ncol(GDP_ranking15)){\n",
    "    GDP_ranking15[,i] <- factor(GDP_ranking15[,i])\n",
    "}"
   ]
  },
  {
   "cell_type": "code",
   "execution_count": null,
   "metadata": {
    "vscode": {
     "languageId": "r"
    }
   },
   "outputs": [],
   "source": [
    "library(stringr)"
   ]
  },
  {
   "cell_type": "code",
   "execution_count": 135,
   "metadata": {
    "vscode": {
     "languageId": "r"
    }
   },
   "outputs": [
    {
     "data": {
      "text/html": [
       "<table>\n",
       "<thead><tr><th scope=col>Code</th><th scope=col>Ranking</th><th scope=col>Nation</th><th scope=col>GDP</th></tr></thead>\n",
       "<tbody>\n",
       "\t<tr><td>USA               </td><td>1                 </td><td>United States     </td><td>20494100          </td></tr>\n",
       "\t<tr><td>CHN               </td><td>2                 </td><td>China             </td><td>13608152          </td></tr>\n",
       "\t<tr><td>JPN               </td><td>3                 </td><td>Japan             </td><td> 4970916          </td></tr>\n",
       "\t<tr><td>DEU               </td><td>4                 </td><td>Germany           </td><td> 3996759          </td></tr>\n",
       "\t<tr><td>GBR               </td><td>5                 </td><td>United Kingdom    </td><td> 2825208          </td></tr>\n",
       "\t<tr><td>FRA               </td><td>6                 </td><td>France            </td><td> 2777535          </td></tr>\n",
       "\t<tr><td>IND               </td><td>7                 </td><td>India             </td><td> 2726323          </td></tr>\n",
       "\t<tr><td>ITA               </td><td>8                 </td><td>Italy             </td><td> 2073902          </td></tr>\n",
       "\t<tr><td>BRA               </td><td>9                 </td><td>Brazil            </td><td> 1868626          </td></tr>\n",
       "\t<tr><td>CAN               </td><td>10                </td><td>Canada            </td><td> 1712510          </td></tr>\n",
       "\t<tr><td>RUS               </td><td>11                </td><td>Russian Federation</td><td> 1657554          </td></tr>\n",
       "\t<tr><td>KOR               </td><td>12                </td><td>Korea, Rep.       </td><td> 1619424          </td></tr>\n",
       "\t<tr><td>AUS               </td><td>13                </td><td>Australia         </td><td> 1432195          </td></tr>\n",
       "\t<tr><td>ESP               </td><td>14                </td><td>Spain             </td><td> 1426189          </td></tr>\n",
       "\t<tr><td>MEX               </td><td>15                </td><td>Mexico            </td><td> 1223809          </td></tr>\n",
       "</tbody>\n",
       "</table>\n"
      ],
      "text/latex": [
       "\\begin{tabular}{r|llll}\n",
       " Code & Ranking & Nation & GDP\\\\\n",
       "\\hline\n",
       "\t USA                & 1                  & United States      & 20494100          \\\\\n",
       "\t CHN                & 2                  & China              & 13608152          \\\\\n",
       "\t JPN                & 3                  & Japan              &  4970916          \\\\\n",
       "\t DEU                & 4                  & Germany            &  3996759          \\\\\n",
       "\t GBR                & 5                  & United Kingdom     &  2825208          \\\\\n",
       "\t FRA                & 6                  & France             &  2777535          \\\\\n",
       "\t IND                & 7                  & India              &  2726323          \\\\\n",
       "\t ITA                & 8                  & Italy              &  2073902          \\\\\n",
       "\t BRA                & 9                  & Brazil             &  1868626          \\\\\n",
       "\t CAN                & 10                 & Canada             &  1712510          \\\\\n",
       "\t RUS                & 11                 & Russian Federation &  1657554          \\\\\n",
       "\t KOR                & 12                 & Korea, Rep.        &  1619424          \\\\\n",
       "\t AUS                & 13                 & Australia          &  1432195          \\\\\n",
       "\t ESP                & 14                 & Spain              &  1426189          \\\\\n",
       "\t MEX                & 15                 & Mexico             &  1223809          \\\\\n",
       "\\end{tabular}\n"
      ],
      "text/markdown": [
       "\n",
       "| Code | Ranking | Nation | GDP |\n",
       "|---|---|---|---|\n",
       "| USA                | 1                  | United States      | 20494100           |\n",
       "| CHN                | 2                  | China              | 13608152           |\n",
       "| JPN                | 3                  | Japan              |  4970916           |\n",
       "| DEU                | 4                  | Germany            |  3996759           |\n",
       "| GBR                | 5                  | United Kingdom     |  2825208           |\n",
       "| FRA                | 6                  | France             |  2777535           |\n",
       "| IND                | 7                  | India              |  2726323           |\n",
       "| ITA                | 8                  | Italy              |  2073902           |\n",
       "| BRA                | 9                  | Brazil             |  1868626           |\n",
       "| CAN                | 10                 | Canada             |  1712510           |\n",
       "| RUS                | 11                 | Russian Federation |  1657554           |\n",
       "| KOR                | 12                 | Korea, Rep.        |  1619424           |\n",
       "| AUS                | 13                 | Australia          |  1432195           |\n",
       "| ESP                | 14                 | Spain              |  1426189           |\n",
       "| MEX                | 15                 | Mexico             |  1223809           |\n",
       "\n"
      ],
      "text/plain": [
       "   Code Ranking Nation             GDP     \n",
       "1  USA  1       United States      20494100\n",
       "2  CHN  2       China              13608152\n",
       "3  JPN  3       Japan               4970916\n",
       "4  DEU  4       Germany             3996759\n",
       "5  GBR  5       United Kingdom      2825208\n",
       "6  FRA  6       France              2777535\n",
       "7  IND  7       India               2726323\n",
       "8  ITA  8       Italy               2073902\n",
       "9  BRA  9       Brazil              1868626\n",
       "10 CAN  10      Canada              1712510\n",
       "11 RUS  11      Russian Federation  1657554\n",
       "12 KOR  12      Korea, Rep.         1619424\n",
       "13 AUS  13      Australia           1432195\n",
       "14 ESP  14      Spain               1426189\n",
       "15 MEX  15      Mexico              1223809"
      ]
     },
     "metadata": {},
     "output_type": "display_data"
    },
    {
     "name": "stdout",
     "output_type": "stream",
     "text": [
      "'data.frame':\t15 obs. of  4 variables:\n",
      " $ Code   : Factor w/ 15 levels \"AUS\",\"BRA\",\"CAN\",..: 15 4 11 5 8 7 9 10 2 3 ...\n",
      " $ Ranking: Factor w/ 15 levels \"1\",\"10\",\"11\",..: 1 8 9 10 11 12 13 14 15 2 ...\n",
      " $ Nation : Factor w/ 15 levels \"Australia\",\"Brazil\",..: 15 4 9 6 14 5 7 8 2 3 ...\n",
      " $ GDP    : num  20494100 13608152 4970916 3996759 2825208 ...\n"
     ]
    }
   ],
   "source": [
    "# GDP 숫자로 변환 (천단위 쉼표 정리)\n",
    "GDP_ranking15$GDP <- as.numeric(str_remove_all(GDP_ranking15$GDP, ','))\n",
    "GDP_ranking15\n",
    "str(GDP_ranking15)"
   ]
  },
  {
   "cell_type": "code",
   "execution_count": 205,
   "metadata": {
    "vscode": {
     "languageId": "r"
    }
   },
   "outputs": [
    {
     "data": {
      "image/png": "[encoded data removed]",
      "text/plain": [
       "Plot with title “2018년 GDP 세계 15위 국가”"
      ]
     },
     "metadata": {},
     "output_type": "display_data"
    }
   ],
   "source": [
    "# 막대그래프 그리기\n",
    "options(scipen=100)\n",
    "options(warn = -1)\n",
    "par(family = 'AppleGothic')\n",
    "barplot(GDP_ranking15$GDP / 1000, # GDP상위 15개국 Data\n",
    "        main = \"2018년 GDP 세계 15위 국가\",\n",
    "        xlab = \"국가(Nation)\",\n",
    "        ylab = \"단위(천달러)\",\n",
    "        names = GDP_ranking15$Code,\n",
    "        cex.names = 0.7,\n",
    "        #col = c(rep(\"mistyrose\",2), rep(\"lavender\",9), \"mistyrose\", rep('lavender',3)),\n",
    "        col = ifelse(GDP_ranking15$Code == c('USA','CHN','KOR'), \"mistyrose\", \"Light steel blue\"),\n",
    "        ylim = c(0 , 25000)\n",
    "     )"
   ]
  },
  {
   "cell_type": "code",
   "execution_count": 204,
   "metadata": {
    "vscode": {
     "languageId": "r"
    }
   },
   "outputs": [
    {
     "data": {
      "image/png": "[encoded data removed]",
      "text/plain": [
       "Plot with title “2018년 GDP 세계 15위 국가”"
      ]
     },
     "metadata": {},
     "output_type": "display_data"
    }
   ],
   "source": [
    "# GDP가 3000 이상인 국가 만 빨간색으로 표시하기\n",
    "options(scipen=100)\n",
    "options(warn = -1)\n",
    "par(family = 'AppleGothic')\n",
    "barplot(GDP_ranking15$GDP / 1000, # GDP상위 15개국 Data\n",
    "        main = \"2018년 GDP 세계 15위 국가\",\n",
    "        xlab = \"국가(Nation)\",\n",
    "        ylab = \"단위(천달러)\",\n",
    "        names = GDP_ranking15$Code,\n",
    "        cex.names = 0.7,\n",
    "        col = ifelse(GDP_ranking15$GDP/1000 >= 3000, \"mistyrose\", \"Light steel blue\"),\n",
    "        ylim = c(0 , 25000)\n",
    "     )\n"
   ]
  },
  {
   "cell_type": "markdown",
   "metadata": {},
   "source": [
    "---\n",
    "# 데이터 처리\n",
    "##### 주구장창 쓸거임"
   ]
  },
  {
   "cell_type": "code",
   "execution_count": 207,
   "metadata": {
    "vscode": {
     "languageId": "r"
    }
   },
   "outputs": [
    {
     "name": "stderr",
     "output_type": "stream",
     "text": [
      "\n",
      "Attaching package: ‘dplyr’\n",
      "\n",
      "The following objects are masked from ‘package:stats’:\n",
      "\n",
      "    filter, lag\n",
      "\n",
      "The following objects are masked from ‘package:base’:\n",
      "\n",
      "    intersect, setdiff, setequal, union\n",
      "\n"
     ]
    }
   ],
   "source": [
    "# 데이터 정렬하기\n",
    "library(dplyr)"
   ]
  },
  {
   "cell_type": "code",
   "execution_count": 214,
   "metadata": {
    "vscode": {
     "languageId": "r"
    }
   },
   "outputs": [
    {
     "data": {
      "text/html": [
       "<table>\n",
       "<thead><tr><th scope=col>Sepal.Length</th><th scope=col>Sepal.Width</th><th scope=col>Petal.Length</th><th scope=col>Petal.Width</th><th scope=col>Species</th></tr></thead>\n",
       "<tbody>\n",
       "\t<tr><td>4.3   </td><td>3.0   </td><td>1.1   </td><td>0.1   </td><td>setosa</td></tr>\n",
       "\t<tr><td>4.4   </td><td>2.9   </td><td>1.4   </td><td>0.2   </td><td>setosa</td></tr>\n",
       "\t<tr><td>4.4   </td><td>3.0   </td><td>1.3   </td><td>0.2   </td><td>setosa</td></tr>\n",
       "\t<tr><td>4.4   </td><td>3.2   </td><td>1.3   </td><td>0.2   </td><td>setosa</td></tr>\n",
       "\t<tr><td>4.5   </td><td>2.3   </td><td>1.3   </td><td>0.3   </td><td>setosa</td></tr>\n",
       "\t<tr><td>4.6   </td><td>3.1   </td><td>1.5   </td><td>0.2   </td><td>setosa</td></tr>\n",
       "</tbody>\n",
       "</table>\n"
      ],
      "text/latex": [
       "\\begin{tabular}{r|lllll}\n",
       " Sepal.Length & Sepal.Width & Petal.Length & Petal.Width & Species\\\\\n",
       "\\hline\n",
       "\t 4.3    & 3.0    & 1.1    & 0.1    & setosa\\\\\n",
       "\t 4.4    & 2.9    & 1.4    & 0.2    & setosa\\\\\n",
       "\t 4.4    & 3.0    & 1.3    & 0.2    & setosa\\\\\n",
       "\t 4.4    & 3.2    & 1.3    & 0.2    & setosa\\\\\n",
       "\t 4.5    & 2.3    & 1.3    & 0.3    & setosa\\\\\n",
       "\t 4.6    & 3.1    & 1.5    & 0.2    & setosa\\\\\n",
       "\\end{tabular}\n"
      ],
      "text/markdown": [
       "\n",
       "| Sepal.Length | Sepal.Width | Petal.Length | Petal.Width | Species |\n",
       "|---|---|---|---|---|\n",
       "| 4.3    | 3.0    | 1.1    | 0.1    | setosa |\n",
       "| 4.4    | 2.9    | 1.4    | 0.2    | setosa |\n",
       "| 4.4    | 3.0    | 1.3    | 0.2    | setosa |\n",
       "| 4.4    | 3.2    | 1.3    | 0.2    | setosa |\n",
       "| 4.5    | 2.3    | 1.3    | 0.3    | setosa |\n",
       "| 4.6    | 3.1    | 1.5    | 0.2    | setosa |\n",
       "\n"
      ],
      "text/plain": [
       "  Sepal.Length Sepal.Width Petal.Length Petal.Width Species\n",
       "1 4.3          3.0         1.1          0.1         setosa \n",
       "2 4.4          2.9         1.4          0.2         setosa \n",
       "3 4.4          3.0         1.3          0.2         setosa \n",
       "4 4.4          3.2         1.3          0.2         setosa \n",
       "5 4.5          2.3         1.3          0.3         setosa \n",
       "6 4.6          3.1         1.5          0.2         setosa "
      ]
     },
     "metadata": {},
     "output_type": "display_data"
    }
   ],
   "source": [
    "# iris Sepal.length 기준으로 오름차순 정렬하기\n",
    "# 1차 정렬\n",
    "head(arrange(iris, Sepal.Length))"
   ]
  },
  {
   "cell_type": "code",
   "execution_count": 215,
   "metadata": {
    "vscode": {
     "languageId": "r"
    }
   },
   "outputs": [
    {
     "data": {
      "text/html": [
       "<table>\n",
       "<thead><tr><th scope=col>Sepal.Length</th><th scope=col>Sepal.Width</th><th scope=col>Petal.Length</th><th scope=col>Petal.Width</th><th scope=col>Species</th></tr></thead>\n",
       "<tbody>\n",
       "\t<tr><td>4.3   </td><td>3.0   </td><td>1.1   </td><td>0.1   </td><td>setosa</td></tr>\n",
       "\t<tr><td>4.4   </td><td>3.0   </td><td>1.3   </td><td>0.2   </td><td>setosa</td></tr>\n",
       "\t<tr><td>4.4   </td><td>3.2   </td><td>1.3   </td><td>0.2   </td><td>setosa</td></tr>\n",
       "\t<tr><td>4.4   </td><td>2.9   </td><td>1.4   </td><td>0.2   </td><td>setosa</td></tr>\n",
       "\t<tr><td>4.5   </td><td>2.3   </td><td>1.3   </td><td>0.3   </td><td>setosa</td></tr>\n",
       "\t<tr><td>4.6   </td><td>3.6   </td><td>1.0   </td><td>0.2   </td><td>setosa</td></tr>\n",
       "</tbody>\n",
       "</table>\n"
      ],
      "text/latex": [
       "\\begin{tabular}{r|lllll}\n",
       " Sepal.Length & Sepal.Width & Petal.Length & Petal.Width & Species\\\\\n",
       "\\hline\n",
       "\t 4.3    & 3.0    & 1.1    & 0.1    & setosa\\\\\n",
       "\t 4.4    & 3.0    & 1.3    & 0.2    & setosa\\\\\n",
       "\t 4.4    & 3.2    & 1.3    & 0.2    & setosa\\\\\n",
       "\t 4.4    & 2.9    & 1.4    & 0.2    & setosa\\\\\n",
       "\t 4.5    & 2.3    & 1.3    & 0.3    & setosa\\\\\n",
       "\t 4.6    & 3.6    & 1.0    & 0.2    & setosa\\\\\n",
       "\\end{tabular}\n"
      ],
      "text/markdown": [
       "\n",
       "| Sepal.Length | Sepal.Width | Petal.Length | Petal.Width | Species |\n",
       "|---|---|---|---|---|\n",
       "| 4.3    | 3.0    | 1.1    | 0.1    | setosa |\n",
       "| 4.4    | 3.0    | 1.3    | 0.2    | setosa |\n",
       "| 4.4    | 3.2    | 1.3    | 0.2    | setosa |\n",
       "| 4.4    | 2.9    | 1.4    | 0.2    | setosa |\n",
       "| 4.5    | 2.3    | 1.3    | 0.3    | setosa |\n",
       "| 4.6    | 3.6    | 1.0    | 0.2    | setosa |\n",
       "\n"
      ],
      "text/plain": [
       "  Sepal.Length Sepal.Width Petal.Length Petal.Width Species\n",
       "1 4.3          3.0         1.1          0.1         setosa \n",
       "2 4.4          3.0         1.3          0.2         setosa \n",
       "3 4.4          3.2         1.3          0.2         setosa \n",
       "4 4.4          2.9         1.4          0.2         setosa \n",
       "5 4.5          2.3         1.3          0.3         setosa \n",
       "6 4.6          3.6         1.0          0.2         setosa "
      ]
     },
     "metadata": {},
     "output_type": "display_data"
    }
   ],
   "source": [
    "# iris Sepal.Length 기준으로 정령 후 동일한 크기를 가진 데이터 발생 시 Petal.Length 기준으로 오름차순 정렬\n",
    "# 1차 정렬, 2차 정렬\n",
    "head(arrange(iris, Sepal.Length, Petal.Length))"
   ]
  },
  {
   "cell_type": "code",
   "execution_count": 216,
   "metadata": {
    "vscode": {
     "languageId": "r"
    }
   },
   "outputs": [
    {
     "data": {
      "text/html": [
       "<table>\n",
       "<thead><tr><th scope=col>Sepal.Length</th><th scope=col>Sepal.Width</th><th scope=col>Petal.Length</th><th scope=col>Petal.Width</th><th scope=col>Species</th></tr></thead>\n",
       "<tbody>\n",
       "\t<tr><td>7.9      </td><td>3.8      </td><td>6.4      </td><td>2.0      </td><td>virginica</td></tr>\n",
       "\t<tr><td>7.7      </td><td>3.8      </td><td>6.7      </td><td>2.2      </td><td>virginica</td></tr>\n",
       "\t<tr><td>7.7      </td><td>2.6      </td><td>6.9      </td><td>2.3      </td><td>virginica</td></tr>\n",
       "\t<tr><td>7.7      </td><td>2.8      </td><td>6.7      </td><td>2.0      </td><td>virginica</td></tr>\n",
       "\t<tr><td>7.7      </td><td>3.0      </td><td>6.1      </td><td>2.3      </td><td>virginica</td></tr>\n",
       "\t<tr><td>7.6      </td><td>3.0      </td><td>6.6      </td><td>2.1      </td><td>virginica</td></tr>\n",
       "</tbody>\n",
       "</table>\n"
      ],
      "text/latex": [
       "\\begin{tabular}{r|lllll}\n",
       " Sepal.Length & Sepal.Width & Petal.Length & Petal.Width & Species\\\\\n",
       "\\hline\n",
       "\t 7.9       & 3.8       & 6.4       & 2.0       & virginica\\\\\n",
       "\t 7.7       & 3.8       & 6.7       & 2.2       & virginica\\\\\n",
       "\t 7.7       & 2.6       & 6.9       & 2.3       & virginica\\\\\n",
       "\t 7.7       & 2.8       & 6.7       & 2.0       & virginica\\\\\n",
       "\t 7.7       & 3.0       & 6.1       & 2.3       & virginica\\\\\n",
       "\t 7.6       & 3.0       & 6.6       & 2.1       & virginica\\\\\n",
       "\\end{tabular}\n"
      ],
      "text/markdown": [
       "\n",
       "| Sepal.Length | Sepal.Width | Petal.Length | Petal.Width | Species |\n",
       "|---|---|---|---|---|\n",
       "| 7.9       | 3.8       | 6.4       | 2.0       | virginica |\n",
       "| 7.7       | 3.8       | 6.7       | 2.2       | virginica |\n",
       "| 7.7       | 2.6       | 6.9       | 2.3       | virginica |\n",
       "| 7.7       | 2.8       | 6.7       | 2.0       | virginica |\n",
       "| 7.7       | 3.0       | 6.1       | 2.3       | virginica |\n",
       "| 7.6       | 3.0       | 6.6       | 2.1       | virginica |\n",
       "\n"
      ],
      "text/plain": [
       "  Sepal.Length Sepal.Width Petal.Length Petal.Width Species  \n",
       "1 7.9          3.8         6.4          2.0         virginica\n",
       "2 7.7          3.8         6.7          2.2         virginica\n",
       "3 7.7          2.6         6.9          2.3         virginica\n",
       "4 7.7          2.8         6.7          2.0         virginica\n",
       "5 7.7          3.0         6.1          2.3         virginica\n",
       "6 7.6          3.0         6.6          2.1         virginica"
      ]
     },
     "metadata": {},
     "output_type": "display_data"
    }
   ],
   "source": [
    "# Sepal.Length 기준으로 내림차순 정렬\n",
    "# 내림차순 할 컬럼에 desc() 를 걸어주면 된다.\n",
    "head(arrange(iris, desc(Sepal.Length)))"
   ]
  },
  {
   "cell_type": "code",
   "execution_count": 220,
   "metadata": {
    "vscode": {
     "languageId": "r"
    }
   },
   "outputs": [
    {
     "data": {
      "text/html": [
       "<table>\n",
       "<thead><tr><th scope=col>Sepal.Length</th><th scope=col>Sepal.Width</th></tr></thead>\n",
       "<tbody>\n",
       "\t<tr><td>7.9</td><td>3.8</td></tr>\n",
       "\t<tr><td>7.7</td><td>3.8</td></tr>\n",
       "\t<tr><td>7.7</td><td>2.6</td></tr>\n",
       "\t<tr><td>7.7</td><td>2.8</td></tr>\n",
       "\t<tr><td>7.7</td><td>3.0</td></tr>\n",
       "\t<tr><td>7.6</td><td>3.0</td></tr>\n",
       "</tbody>\n",
       "</table>\n"
      ],
      "text/latex": [
       "\\begin{tabular}{r|ll}\n",
       " Sepal.Length & Sepal.Width\\\\\n",
       "\\hline\n",
       "\t 7.9 & 3.8\\\\\n",
       "\t 7.7 & 3.8\\\\\n",
       "\t 7.7 & 2.6\\\\\n",
       "\t 7.7 & 2.8\\\\\n",
       "\t 7.7 & 3.0\\\\\n",
       "\t 7.6 & 3.0\\\\\n",
       "\\end{tabular}\n"
      ],
      "text/markdown": [
       "\n",
       "| Sepal.Length | Sepal.Width |\n",
       "|---|---|\n",
       "| 7.9 | 3.8 |\n",
       "| 7.7 | 3.8 |\n",
       "| 7.7 | 2.6 |\n",
       "| 7.7 | 2.8 |\n",
       "| 7.7 | 3.0 |\n",
       "| 7.6 | 3.0 |\n",
       "\n"
      ],
      "text/plain": [
       "  Sepal.Length Sepal.Width\n",
       "1 7.9          3.8        \n",
       "2 7.7          3.8        \n",
       "3 7.7          2.6        \n",
       "4 7.7          2.8        \n",
       "5 7.7          3.0        \n",
       "6 7.6          3.0        "
      ]
     },
     "metadata": {},
     "output_type": "display_data"
    },
    {
     "data": {
      "text/html": [
       "<table>\n",
       "<thead><tr><th scope=col>Sepal.Length</th><th scope=col>Sepal.Width</th></tr></thead>\n",
       "<tbody>\n",
       "\t<tr><td>7.9</td><td>3.8</td></tr>\n",
       "\t<tr><td>7.7</td><td>3.8</td></tr>\n",
       "\t<tr><td>7.7</td><td>2.6</td></tr>\n",
       "\t<tr><td>7.7</td><td>2.8</td></tr>\n",
       "\t<tr><td>7.7</td><td>3.0</td></tr>\n",
       "\t<tr><td>7.6</td><td>3.0</td></tr>\n",
       "</tbody>\n",
       "</table>\n"
      ],
      "text/latex": [
       "\\begin{tabular}{r|ll}\n",
       " Sepal.Length & Sepal.Width\\\\\n",
       "\\hline\n",
       "\t 7.9 & 3.8\\\\\n",
       "\t 7.7 & 3.8\\\\\n",
       "\t 7.7 & 2.6\\\\\n",
       "\t 7.7 & 2.8\\\\\n",
       "\t 7.7 & 3.0\\\\\n",
       "\t 7.6 & 3.0\\\\\n",
       "\\end{tabular}\n"
      ],
      "text/markdown": [
       "\n",
       "| Sepal.Length | Sepal.Width |\n",
       "|---|---|\n",
       "| 7.9 | 3.8 |\n",
       "| 7.7 | 3.8 |\n",
       "| 7.7 | 2.6 |\n",
       "| 7.7 | 2.8 |\n",
       "| 7.7 | 3.0 |\n",
       "| 7.6 | 3.0 |\n",
       "\n"
      ],
      "text/plain": [
       "  Sepal.Length Sepal.Width\n",
       "1 7.9          3.8        \n",
       "2 7.7          3.8        \n",
       "3 7.7          2.6        \n",
       "4 7.7          2.8        \n",
       "5 7.7          3.0        \n",
       "6 7.6          3.0        "
      ]
     },
     "metadata": {},
     "output_type": "display_data"
    }
   ],
   "source": [
    "# Sepal.Length 기준으로 내림차순 정렬 후 Sepal.Length와 Sepal.Width 만 보기\n",
    "head(arrange(iris, desc(Sepal.Length))[,1:2])\n",
    "head(arrange(iris[,1:2], desc(Sepal.Length)))"
   ]
  },
  {
   "cell_type": "markdown",
   "metadata": {},
   "source": [
    "---\n",
    "# 샘플링(Sampling)\n",
    "- 샘플링한 데이터가 모집단의 의미를 가지고 있어야 가치가 있다. (meaningful)\n",
    "- 특징을 알아야 샘플링을 할 수 있다"
   ]
  },
  {
   "cell_type": "code",
   "execution_count": 222,
   "metadata": {
    "vscode": {
     "languageId": "r"
    }
   },
   "outputs": [
    {
     "data": {
      "text/html": [
       "<ol class=list-inline>\n",
       "\t<li>19</li>\n",
       "\t<li>38</li>\n",
       "\t<li>27</li>\n",
       "\t<li>42</li>\n",
       "\t<li>39</li>\n",
       "\t<li>34</li>\n",
       "</ol>\n"
      ],
      "text/latex": [
       "\\begin{enumerate*}\n",
       "\\item 19\n",
       "\\item 38\n",
       "\\item 27\n",
       "\\item 42\n",
       "\\item 39\n",
       "\\item 34\n",
       "\\end{enumerate*}\n"
      ],
      "text/markdown": [
       "1. 19\n",
       "2. 38\n",
       "3. 27\n",
       "4. 42\n",
       "5. 39\n",
       "6. 34\n",
       "\n",
       "\n"
      ],
      "text/plain": [
       "[1] 19 38 27 42 39 34"
      ]
     },
     "metadata": {},
     "output_type": "display_data"
    }
   ],
   "source": [
    "# 랜덤 샘플링 (중복값을 허용하지 않음)\n",
    "sample(1:45 , 6)"
   ]
  },
  {
   "cell_type": "code",
   "execution_count": 223,
   "metadata": {
    "vscode": {
     "languageId": "r"
    }
   },
   "outputs": [
    {
     "data": {
      "text/html": [
       "150"
      ],
      "text/latex": [
       "150"
      ],
      "text/markdown": [
       "150"
      ],
      "text/plain": [
       "[1] 150"
      ]
     },
     "metadata": {},
     "output_type": "display_data"
    },
    {
     "data": {
      "text/html": [
       "5"
      ],
      "text/latex": [
       "5"
      ],
      "text/markdown": [
       "5"
      ],
      "text/plain": [
       "[1] 5"
      ]
     },
     "metadata": {},
     "output_type": "display_data"
    }
   ],
   "source": [
    "nrow(iris)\n",
    "ncol(iris)"
   ]
  },
  {
   "cell_type": "code",
   "execution_count": 230,
   "metadata": {
    "vscode": {
     "languageId": "r"
    }
   },
   "outputs": [
    {
     "data": {
      "text/html": [
       "<ol class=list-inline>\n",
       "\t<li>68</li>\n",
       "\t<li>105</li>\n",
       "\t<li>96</li>\n",
       "\t<li>18</li>\n",
       "\t<li>117</li>\n",
       "\t<li>6</li>\n",
       "</ol>\n"
      ],
      "text/latex": [
       "\\begin{enumerate*}\n",
       "\\item 68\n",
       "\\item 105\n",
       "\\item 96\n",
       "\\item 18\n",
       "\\item 117\n",
       "\\item 6\n",
       "\\end{enumerate*}\n"
      ],
      "text/markdown": [
       "1. 68\n",
       "2. 105\n",
       "3. 96\n",
       "4. 18\n",
       "5. 117\n",
       "6. 6\n",
       "\n",
       "\n"
      ],
      "text/plain": [
       "[1]  68 105  96  18 117   6"
      ]
     },
     "metadata": {},
     "output_type": "display_data"
    }
   ],
   "source": [
    "samp <- sample(1:nrow(iris), nrow(iris)*0.7)\n",
    "head(samp)"
   ]
  },
  {
   "cell_type": "code",
   "execution_count": 237,
   "metadata": {
    "vscode": {
     "languageId": "r"
    }
   },
   "outputs": [
    {
     "data": {
      "text/html": [
       "<table>\n",
       "<thead><tr><th></th><th scope=col>Sepal.Length</th><th scope=col>Sepal.Width</th><th scope=col>Petal.Length</th><th scope=col>Petal.Width</th><th scope=col>Species</th></tr></thead>\n",
       "<tbody>\n",
       "\t<tr><th scope=row>68</th><td>5.8       </td><td>2.7       </td><td>4.1       </td><td>1.0       </td><td>versicolor</td></tr>\n",
       "\t<tr><th scope=row>105</th><td>6.5       </td><td>3.0       </td><td>5.8       </td><td>2.2       </td><td>virginica </td></tr>\n",
       "\t<tr><th scope=row>96</th><td>5.7       </td><td>3.0       </td><td>4.2       </td><td>1.2       </td><td>versicolor</td></tr>\n",
       "\t<tr><th scope=row>18</th><td>5.1       </td><td>3.5       </td><td>1.4       </td><td>0.3       </td><td>setosa    </td></tr>\n",
       "\t<tr><th scope=row>117</th><td>6.5       </td><td>3.0       </td><td>5.5       </td><td>1.8       </td><td>virginica </td></tr>\n",
       "\t<tr><th scope=row>6</th><td>5.4       </td><td>3.9       </td><td>1.7       </td><td>0.4       </td><td>setosa    </td></tr>\n",
       "</tbody>\n",
       "</table>\n"
      ],
      "text/latex": [
       "\\begin{tabular}{r|lllll}\n",
       "  & Sepal.Length & Sepal.Width & Petal.Length & Petal.Width & Species\\\\\n",
       "\\hline\n",
       "\t68 & 5.8        & 2.7        & 4.1        & 1.0        & versicolor\\\\\n",
       "\t105 & 6.5        & 3.0        & 5.8        & 2.2        & virginica \\\\\n",
       "\t96 & 5.7        & 3.0        & 4.2        & 1.2        & versicolor\\\\\n",
       "\t18 & 5.1        & 3.5        & 1.4        & 0.3        & setosa    \\\\\n",
       "\t117 & 6.5        & 3.0        & 5.5        & 1.8        & virginica \\\\\n",
       "\t6 & 5.4        & 3.9        & 1.7        & 0.4        & setosa    \\\\\n",
       "\\end{tabular}\n"
      ],
      "text/markdown": [
       "\n",
       "| <!--/--> | Sepal.Length | Sepal.Width | Petal.Length | Petal.Width | Species |\n",
       "|---|---|---|---|---|---|\n",
       "| 68 | 5.8        | 2.7        | 4.1        | 1.0        | versicolor |\n",
       "| 105 | 6.5        | 3.0        | 5.8        | 2.2        | virginica  |\n",
       "| 96 | 5.7        | 3.0        | 4.2        | 1.2        | versicolor |\n",
       "| 18 | 5.1        | 3.5        | 1.4        | 0.3        | setosa     |\n",
       "| 117 | 6.5        | 3.0        | 5.5        | 1.8        | virginica  |\n",
       "| 6 | 5.4        | 3.9        | 1.7        | 0.4        | setosa     |\n",
       "\n"
      ],
      "text/plain": [
       "    Sepal.Length Sepal.Width Petal.Length Petal.Width Species   \n",
       "68  5.8          2.7         4.1          1.0         versicolor\n",
       "105 6.5          3.0         5.8          2.2         virginica \n",
       "96  5.7          3.0         4.2          1.2         versicolor\n",
       "18  5.1          3.5         1.4          0.3         setosa    \n",
       "117 6.5          3.0         5.5          1.8         virginica \n",
       "6   5.4          3.9         1.7          0.4         setosa    "
      ]
     },
     "metadata": {},
     "output_type": "display_data"
    },
    {
     "data": {
      "text/plain": [
       "  Sepal.Length    Sepal.Width     Petal.Length    Petal.Width         Species  \n",
       " Min.   :4.300   Min.   :2.000   Min.   :1.100   Min.   :0.10   setosa    :40  \n",
       " 1st Qu.:5.100   1st Qu.:2.800   1st Qu.:1.500   1st Qu.:0.20   versicolor:33  \n",
       " Median :5.700   Median :3.000   Median :4.200   Median :1.30   virginica :32  \n",
       " Mean   :5.766   Mean   :3.102   Mean   :3.584   Mean   :1.13                  \n",
       " 3rd Qu.:6.300   3rd Qu.:3.400   3rd Qu.:5.000   3rd Qu.:1.80                  \n",
       " Max.   :7.900   Max.   :4.400   Max.   :6.900   Max.   :2.50                  "
      ]
     },
     "metadata": {},
     "output_type": "display_data"
    },
    {
     "data": {
      "text/plain": [
       "  Sepal.Length    Sepal.Width     Petal.Length    Petal.Width   \n",
       " Min.   :4.300   Min.   :2.000   Min.   :1.000   Min.   :0.100  \n",
       " 1st Qu.:5.100   1st Qu.:2.800   1st Qu.:1.600   1st Qu.:0.300  \n",
       " Median :5.800   Median :3.000   Median :4.350   Median :1.300  \n",
       " Mean   :5.843   Mean   :3.057   Mean   :3.758   Mean   :1.199  \n",
       " 3rd Qu.:6.400   3rd Qu.:3.300   3rd Qu.:5.100   3rd Qu.:1.800  \n",
       " Max.   :7.900   Max.   :4.400   Max.   :6.900   Max.   :2.500  \n",
       "       Species  \n",
       " setosa    :50  \n",
       " versicolor:50  \n",
       " virginica :50  \n",
       "                \n",
       "                \n",
       "                "
      ]
     },
     "metadata": {},
     "output_type": "display_data"
    },
    {
     "data": {
      "text/plain": [
       "\n",
       "    setosa versicolor  virginica \n",
       "        40         33         32 "
      ]
     },
     "metadata": {},
     "output_type": "display_data"
    }
   ],
   "source": [
    "irisSamp <- iris[samp,]\n",
    "head(irisSamp)\n",
    "summary(irisSamp) # Species 종이 1:1:1 인 특성이 망가졌다. 샘플 실패 # 특징을 알아야 샘플링을 할 수 있다\n",
    "summary(iris) \n",
    "table(irisSamp$Species)\n"
   ]
  },
  {
   "cell_type": "code",
   "execution_count": 240,
   "metadata": {
    "vscode": {
     "languageId": "r"
    }
   },
   "outputs": [],
   "source": [
    "# iris Sampling시 Species 별로 Sampling 한다\n",
    "samp <- c(sample(1:50, 35) , sample(55:100, 35) , sample(101:150, 35))\n"
   ]
  },
  {
   "cell_type": "code",
   "execution_count": 241,
   "metadata": {
    "vscode": {
     "languageId": "r"
    }
   },
   "outputs": [
    {
     "data": {
      "text/plain": [
       "\n",
       "    setosa versicolor  virginica \n",
       "        35         35         35 "
      ]
     },
     "metadata": {},
     "output_type": "display_data"
    }
   ],
   "source": [
    "irisSamp <- iris[samp,]\n",
    "table(irisSamp$Species)"
   ]
  },
  {
   "cell_type": "code",
   "execution_count": 242,
   "metadata": {
    "vscode": {
     "languageId": "r"
    }
   },
   "outputs": [],
   "source": [
    "# Training DAta와 Test Data 분리하기\n",
    "iris.train <- iris[samp,]\n",
    "iris.test <- iris[-samp,]"
   ]
  },
  {
   "cell_type": "code",
   "execution_count": 245,
   "metadata": {
    "vscode": {
     "languageId": "r"
    }
   },
   "outputs": [
    {
     "data": {
      "text/plain": [
       "  Sepal.Length    Sepal.Width     Petal.Length    Petal.Width         Species  \n",
       " Min.   :4.400   Min.   :2.000   Min.   :1.200   Min.   :0.10   setosa    :35  \n",
       " 1st Qu.:5.100   1st Qu.:2.800   1st Qu.:1.600   1st Qu.:0.40   versicolor:35  \n",
       " Median :5.800   Median :3.000   Median :4.400   Median :1.30   virginica :35  \n",
       " Mean   :5.862   Mean   :3.086   Mean   :3.779   Mean   :1.22                  \n",
       " 3rd Qu.:6.400   3rd Qu.:3.400   3rd Qu.:5.100   3rd Qu.:1.80                  \n",
       " Max.   :7.900   Max.   :4.400   Max.   :6.900   Max.   :2.50                  "
      ]
     },
     "metadata": {},
     "output_type": "display_data"
    },
    {
     "data": {
      "text/plain": [
       "  Sepal.Length  Sepal.Width     Petal.Length    Petal.Width          Species  \n",
       " Min.   :4.3   Min.   :2.200   Min.   :1.000   Min.   :0.100   setosa    :15  \n",
       " 1st Qu.:5.1   1st Qu.:2.700   1st Qu.:1.600   1st Qu.:0.200   versicolor:15  \n",
       " Median :5.7   Median :3.000   Median :4.100   Median :1.300   virginica :15  \n",
       " Mean   :5.8   Mean   :2.991   Mean   :3.709   Mean   :1.151                  \n",
       " 3rd Qu.:6.4   3rd Qu.:3.200   3rd Qu.:5.100   3rd Qu.:1.800                  \n",
       " Max.   :7.4   Max.   :3.800   Max.   :6.300   Max.   :2.500                  "
      ]
     },
     "metadata": {},
     "output_type": "display_data"
    }
   ],
   "source": [
    "summary(iris.train)\n",
    "summary(iris.test)"
   ]
  },
  {
   "cell_type": "markdown",
   "metadata": {},
   "source": [
    "--- \n",
    "# 부분 집합"
   ]
  },
  {
   "cell_type": "code",
   "execution_count": 258,
   "metadata": {
    "vscode": {
     "languageId": "r"
    }
   },
   "outputs": [
    {
     "data": {
      "text/html": [
       "<table>\n",
       "<thead><tr><th scope=col>Sepal.Length</th><th scope=col>Sepal.Width</th><th scope=col>Petal.Length</th><th scope=col>Petal.Width</th><th scope=col>Species</th></tr></thead>\n",
       "<tbody>\n",
       "\t<tr><td>5.1   </td><td>3.5   </td><td>1.4   </td><td>0.2   </td><td>setosa</td></tr>\n",
       "\t<tr><td>4.9   </td><td>3.0   </td><td>1.4   </td><td>0.2   </td><td>setosa</td></tr>\n",
       "\t<tr><td>4.7   </td><td>3.2   </td><td>1.3   </td><td>0.2   </td><td>setosa</td></tr>\n",
       "\t<tr><td>4.6   </td><td>3.1   </td><td>1.5   </td><td>0.2   </td><td>setosa</td></tr>\n",
       "\t<tr><td>5.0   </td><td>3.6   </td><td>1.4   </td><td>0.2   </td><td>setosa</td></tr>\n",
       "\t<tr><td>5.4   </td><td>3.9   </td><td>1.7   </td><td>0.4   </td><td>setosa</td></tr>\n",
       "</tbody>\n",
       "</table>\n"
      ],
      "text/latex": [
       "\\begin{tabular}{r|lllll}\n",
       " Sepal.Length & Sepal.Width & Petal.Length & Petal.Width & Species\\\\\n",
       "\\hline\n",
       "\t 5.1    & 3.5    & 1.4    & 0.2    & setosa\\\\\n",
       "\t 4.9    & 3.0    & 1.4    & 0.2    & setosa\\\\\n",
       "\t 4.7    & 3.2    & 1.3    & 0.2    & setosa\\\\\n",
       "\t 4.6    & 3.1    & 1.5    & 0.2    & setosa\\\\\n",
       "\t 5.0    & 3.6    & 1.4    & 0.2    & setosa\\\\\n",
       "\t 5.4    & 3.9    & 1.7    & 0.4    & setosa\\\\\n",
       "\\end{tabular}\n"
      ],
      "text/markdown": [
       "\n",
       "| Sepal.Length | Sepal.Width | Petal.Length | Petal.Width | Species |\n",
       "|---|---|---|---|---|\n",
       "| 5.1    | 3.5    | 1.4    | 0.2    | setosa |\n",
       "| 4.9    | 3.0    | 1.4    | 0.2    | setosa |\n",
       "| 4.7    | 3.2    | 1.3    | 0.2    | setosa |\n",
       "| 4.6    | 3.1    | 1.5    | 0.2    | setosa |\n",
       "| 5.0    | 3.6    | 1.4    | 0.2    | setosa |\n",
       "| 5.4    | 3.9    | 1.7    | 0.4    | setosa |\n",
       "\n"
      ],
      "text/plain": [
       "  Sepal.Length Sepal.Width Petal.Length Petal.Width Species\n",
       "1 5.1          3.5         1.4          0.2         setosa \n",
       "2 4.9          3.0         1.4          0.2         setosa \n",
       "3 4.7          3.2         1.3          0.2         setosa \n",
       "4 4.6          3.1         1.5          0.2         setosa \n",
       "5 5.0          3.6         1.4          0.2         setosa \n",
       "6 5.4          3.9         1.7          0.4         setosa "
      ]
     },
     "metadata": {},
     "output_type": "display_data"
    },
    {
     "data": {
      "text/plain": [
       "  Sepal.Length    Sepal.Width     Petal.Length    Petal.Width   \n",
       " Min.   :4.300   Min.   :2.300   Min.   :1.000   Min.   :0.100  \n",
       " 1st Qu.:4.800   1st Qu.:3.200   1st Qu.:1.400   1st Qu.:0.200  \n",
       " Median :5.000   Median :3.400   Median :1.500   Median :0.200  \n",
       " Mean   :5.006   Mean   :3.428   Mean   :1.462   Mean   :0.246  \n",
       " 3rd Qu.:5.200   3rd Qu.:3.675   3rd Qu.:1.575   3rd Qu.:0.300  \n",
       " Max.   :5.800   Max.   :4.400   Max.   :1.900   Max.   :0.600  \n",
       "       Species  \n",
       " setosa    :50  \n",
       " versicolor: 0  \n",
       " virginica : 0  \n",
       "                \n",
       "                \n",
       "                "
      ]
     },
     "metadata": {},
     "output_type": "display_data"
    },
    {
     "name": "stdout",
     "output_type": "stream",
     "text": [
      "'data.frame':\t50 obs. of  5 variables:\n",
      " $ Sepal.Length: num  5.1 4.9 4.7 4.6 5 5.4 4.6 5 4.4 4.9 ...\n",
      " $ Sepal.Width : num  3.5 3 3.2 3.1 3.6 3.9 3.4 3.4 2.9 3.1 ...\n",
      " $ Petal.Length: num  1.4 1.4 1.3 1.5 1.4 1.7 1.4 1.5 1.4 1.5 ...\n",
      " $ Petal.Width : num  0.2 0.2 0.2 0.2 0.2 0.4 0.3 0.2 0.2 0.1 ...\n",
      " $ Species     : Factor w/ 3 levels \"setosa\",\"versicolor\",..: 1 1 1 1 1 1 1 1 1 1 ...\n"
     ]
    }
   ],
   "source": [
    "# iris에서 Species가 Setosa인 것만 추출하여 iris_setosa라는 데이터프레임 만들기\n",
    "iris_setosa <- subset(iris, Species == 'setosa')\n",
    "head(iris_setosa)\n",
    "summary(iris_setosa)\n",
    "str(iris_setosa)"
   ]
  },
  {
   "cell_type": "code",
   "execution_count": 261,
   "metadata": {
    "vscode": {
     "languageId": "r"
    }
   },
   "outputs": [
    {
     "name": "stdout",
     "output_type": "stream",
     "text": [
      "'data.frame':\t50 obs. of  5 variables:\n",
      " $ Sepal.Length: num  5.1 4.9 4.7 4.6 5 5.4 4.6 5 4.4 4.9 ...\n",
      " $ Sepal.Width : num  3.5 3 3.2 3.1 3.6 3.9 3.4 3.4 2.9 3.1 ...\n",
      " $ Petal.Length: num  1.4 1.4 1.3 1.5 1.4 1.7 1.4 1.5 1.4 1.5 ...\n",
      " $ Petal.Width : num  0.2 0.2 0.2 0.2 0.2 0.4 0.3 0.2 0.2 0.1 ...\n",
      " $ Species     : Factor w/ 1 level \"setosa\": 1 1 1 1 1 1 1 1 1 1 ...\n"
     ]
    }
   ],
   "source": [
    "iris_setosa$Species <- factor(iris_setosa$Species)\n",
    "str(iris_setosa)"
   ]
  },
  {
   "cell_type": "code",
   "execution_count": 277,
   "metadata": {
    "vscode": {
     "languageId": "r"
    }
   },
   "outputs": [
    {
     "name": "stdout",
     "output_type": "stream",
     "text": [
      "'data.frame':\t50 obs. of  5 variables:\n",
      " $ Sepal.Length: num  7 6.4 6.9 5.5 6.5 5.7 6.3 4.9 6.6 5.2 ...\n",
      " $ Sepal.Width : num  3.2 3.2 3.1 2.3 2.8 2.8 3.3 2.4 2.9 2.7 ...\n",
      " $ Petal.Length: num  4.7 4.5 4.9 4 4.6 4.5 4.7 3.3 4.6 3.9 ...\n",
      " $ Petal.Width : num  1.4 1.5 1.5 1.3 1.5 1.3 1.6 1 1.3 1.4 ...\n",
      " $ Species     : Factor w/ 1 level \"versicolor\": 1 1 1 1 1 1 1 1 1 1 ...\n",
      "   Sepal.Length Sepal.Width Petal.Length Petal.Width    Species\n",
      "1           7.0         3.2          4.7         1.4 versicolor\n",
      "2           6.4         3.2          4.5         1.5 versicolor\n",
      "3           6.9         3.1          4.9         1.5 versicolor\n",
      "4           5.5         2.3          4.0         1.3 versicolor\n",
      "5           6.5         2.8          4.6         1.5 versicolor\n",
      "6           5.7         2.8          4.5         1.3 versicolor\n",
      "7           6.3         3.3          4.7         1.6 versicolor\n",
      "8           4.9         2.4          3.3         1.0 versicolor\n",
      "9           6.6         2.9          4.6         1.3 versicolor\n",
      "10          5.2         2.7          3.9         1.4 versicolor\n",
      "11          5.0         2.0          3.5         1.0 versicolor\n",
      "12          5.9         3.0          4.2         1.5 versicolor\n",
      "13          6.0         2.2          4.0         1.0 versicolor\n",
      "14          6.1         2.9          4.7         1.4 versicolor\n",
      "15          5.6         2.9          3.6         1.3 versicolor\n",
      "16          6.7         3.1          4.4         1.4 versicolor\n",
      "17          5.6         3.0          4.5         1.5 versicolor\n",
      "18          5.8         2.7          4.1         1.0 versicolor\n",
      "19          6.2         2.2          4.5         1.5 versicolor\n",
      "20          5.6         2.5          3.9         1.1 versicolor\n",
      "21          5.9         3.2          4.8         1.8 versicolor\n",
      "22          6.1         2.8          4.0         1.3 versicolor\n",
      "23          6.3         2.5          4.9         1.5 versicolor\n",
      "24          6.1         2.8          4.7         1.2 versicolor\n",
      "25          6.4         2.9          4.3         1.3 versicolor\n",
      "26          6.6         3.0          4.4         1.4 versicolor\n",
      "27          6.8         2.8          4.8         1.4 versicolor\n",
      "28          6.7         3.0          5.0         1.7 versicolor\n",
      "29          6.0         2.9          4.5         1.5 versicolor\n",
      "30          5.7         2.6          3.5         1.0 versicolor\n",
      "31          5.5         2.4          3.8         1.1 versicolor\n",
      "32          5.5         2.4          3.7         1.0 versicolor\n",
      "33          5.8         2.7          3.9         1.2 versicolor\n",
      "34          6.0         2.7          5.1         1.6 versicolor\n",
      "35          5.4         3.0          4.5         1.5 versicolor\n",
      "36          6.0         3.4          4.5         1.6 versicolor\n",
      "37          6.7         3.1          4.7         1.5 versicolor\n",
      "38          6.3         2.3          4.4         1.3 versicolor\n",
      "39          5.6         3.0          4.1         1.3 versicolor\n",
      "40          5.5         2.5          4.0         1.3 versicolor\n",
      "41          5.5         2.6          4.4         1.2 versicolor\n",
      "42          6.1         3.0          4.6         1.4 versicolor\n",
      "43          5.8         2.6          4.0         1.2 versicolor\n",
      "44          5.0         2.3          3.3         1.0 versicolor\n",
      "45          5.6         2.7          4.2         1.3 versicolor\n",
      "46          5.7         3.0          4.2         1.2 versicolor\n",
      "47          5.7         2.9          4.2         1.3 versicolor\n",
      "48          6.2         2.9          4.3         1.3 versicolor\n",
      "49          5.1         2.5          3.0         1.1 versicolor\n",
      "50          5.7         2.8          4.1         1.3 versicolor\n"
     ]
    }
   ],
   "source": [
    "# iris 에서 Species가 versicolor인 것만 추출하여 iris_versicolor라는 데이터프레임 만들기\n",
    "iris_versicolor <- subset(iris, Species == 'versicolor')\n",
    "iris_versicolor$Species <- factor(iris_versicolor$Species)\n",
    "rownames(iris_versicolor) = c()\n",
    "str(iris_versicolor)\n",
    "print(iris_versicolor)"
   ]
  },
  {
   "cell_type": "code",
   "execution_count": 282,
   "metadata": {
    "vscode": {
     "languageId": "r"
    }
   },
   "outputs": [
    {
     "data": {
      "text/html": [
       "22"
      ],
      "text/latex": [
       "22"
      ],
      "text/markdown": [
       "22"
      ],
      "text/plain": [
       "[1] 22"
      ]
     },
     "metadata": {},
     "output_type": "display_data"
    },
    {
     "data": {
      "text/html": [
       "<table>\n",
       "<thead><tr><th></th><th scope=col>Sepal.Length</th><th scope=col>Sepal.Width</th><th scope=col>Petal.Length</th><th scope=col>Petal.Width</th><th scope=col>Species</th></tr></thead>\n",
       "<tbody>\n",
       "\t<tr><th scope=row>1</th><td>5.1   </td><td>3.5   </td><td>1.4   </td><td>0.2   </td><td>setosa</td></tr>\n",
       "\t<tr><th scope=row>6</th><td>5.4   </td><td>3.9   </td><td>1.7   </td><td>0.4   </td><td>setosa</td></tr>\n",
       "\t<tr><th scope=row>11</th><td>5.4   </td><td>3.7   </td><td>1.5   </td><td>0.2   </td><td>setosa</td></tr>\n",
       "\t<tr><th scope=row>15</th><td>5.8   </td><td>4.0   </td><td>1.2   </td><td>0.2   </td><td>setosa</td></tr>\n",
       "\t<tr><th scope=row>16</th><td>5.7   </td><td>4.4   </td><td>1.5   </td><td>0.4   </td><td>setosa</td></tr>\n",
       "\t<tr><th scope=row>17</th><td>5.4   </td><td>3.9   </td><td>1.3   </td><td>0.4   </td><td>setosa</td></tr>\n",
       "\t<tr><th scope=row>18</th><td>5.1   </td><td>3.5   </td><td>1.4   </td><td>0.3   </td><td>setosa</td></tr>\n",
       "\t<tr><th scope=row>19</th><td>5.7   </td><td>3.8   </td><td>1.7   </td><td>0.3   </td><td>setosa</td></tr>\n",
       "\t<tr><th scope=row>20</th><td>5.1   </td><td>3.8   </td><td>1.5   </td><td>0.3   </td><td>setosa</td></tr>\n",
       "\t<tr><th scope=row>21</th><td>5.4   </td><td>3.4   </td><td>1.7   </td><td>0.2   </td><td>setosa</td></tr>\n",
       "\t<tr><th scope=row>22</th><td>5.1   </td><td>3.7   </td><td>1.5   </td><td>0.4   </td><td>setosa</td></tr>\n",
       "\t<tr><th scope=row>24</th><td>5.1   </td><td>3.3   </td><td>1.7   </td><td>0.5   </td><td>setosa</td></tr>\n",
       "\t<tr><th scope=row>28</th><td>5.2   </td><td>3.5   </td><td>1.5   </td><td>0.2   </td><td>setosa</td></tr>\n",
       "\t<tr><th scope=row>29</th><td>5.2   </td><td>3.4   </td><td>1.4   </td><td>0.2   </td><td>setosa</td></tr>\n",
       "\t<tr><th scope=row>32</th><td>5.4   </td><td>3.4   </td><td>1.5   </td><td>0.4   </td><td>setosa</td></tr>\n",
       "\t<tr><th scope=row>33</th><td>5.2   </td><td>4.1   </td><td>1.5   </td><td>0.1   </td><td>setosa</td></tr>\n",
       "\t<tr><th scope=row>34</th><td>5.5   </td><td>4.2   </td><td>1.4   </td><td>0.2   </td><td>setosa</td></tr>\n",
       "\t<tr><th scope=row>37</th><td>5.5   </td><td>3.5   </td><td>1.3   </td><td>0.2   </td><td>setosa</td></tr>\n",
       "\t<tr><th scope=row>40</th><td>5.1   </td><td>3.4   </td><td>1.5   </td><td>0.2   </td><td>setosa</td></tr>\n",
       "\t<tr><th scope=row>45</th><td>5.1   </td><td>3.8   </td><td>1.9   </td><td>0.4   </td><td>setosa</td></tr>\n",
       "\t<tr><th scope=row>47</th><td>5.1   </td><td>3.8   </td><td>1.6   </td><td>0.2   </td><td>setosa</td></tr>\n",
       "\t<tr><th scope=row>49</th><td>5.3   </td><td>3.7   </td><td>1.5   </td><td>0.2   </td><td>setosa</td></tr>\n",
       "</tbody>\n",
       "</table>\n"
      ],
      "text/latex": [
       "\\begin{tabular}{r|lllll}\n",
       "  & Sepal.Length & Sepal.Width & Petal.Length & Petal.Width & Species\\\\\n",
       "\\hline\n",
       "\t1 & 5.1    & 3.5    & 1.4    & 0.2    & setosa\\\\\n",
       "\t6 & 5.4    & 3.9    & 1.7    & 0.4    & setosa\\\\\n",
       "\t11 & 5.4    & 3.7    & 1.5    & 0.2    & setosa\\\\\n",
       "\t15 & 5.8    & 4.0    & 1.2    & 0.2    & setosa\\\\\n",
       "\t16 & 5.7    & 4.4    & 1.5    & 0.4    & setosa\\\\\n",
       "\t17 & 5.4    & 3.9    & 1.3    & 0.4    & setosa\\\\\n",
       "\t18 & 5.1    & 3.5    & 1.4    & 0.3    & setosa\\\\\n",
       "\t19 & 5.7    & 3.8    & 1.7    & 0.3    & setosa\\\\\n",
       "\t20 & 5.1    & 3.8    & 1.5    & 0.3    & setosa\\\\\n",
       "\t21 & 5.4    & 3.4    & 1.7    & 0.2    & setosa\\\\\n",
       "\t22 & 5.1    & 3.7    & 1.5    & 0.4    & setosa\\\\\n",
       "\t24 & 5.1    & 3.3    & 1.7    & 0.5    & setosa\\\\\n",
       "\t28 & 5.2    & 3.5    & 1.5    & 0.2    & setosa\\\\\n",
       "\t29 & 5.2    & 3.4    & 1.4    & 0.2    & setosa\\\\\n",
       "\t32 & 5.4    & 3.4    & 1.5    & 0.4    & setosa\\\\\n",
       "\t33 & 5.2    & 4.1    & 1.5    & 0.1    & setosa\\\\\n",
       "\t34 & 5.5    & 4.2    & 1.4    & 0.2    & setosa\\\\\n",
       "\t37 & 5.5    & 3.5    & 1.3    & 0.2    & setosa\\\\\n",
       "\t40 & 5.1    & 3.4    & 1.5    & 0.2    & setosa\\\\\n",
       "\t45 & 5.1    & 3.8    & 1.9    & 0.4    & setosa\\\\\n",
       "\t47 & 5.1    & 3.8    & 1.6    & 0.2    & setosa\\\\\n",
       "\t49 & 5.3    & 3.7    & 1.5    & 0.2    & setosa\\\\\n",
       "\\end{tabular}\n"
      ],
      "text/markdown": [
       "\n",
       "| <!--/--> | Sepal.Length | Sepal.Width | Petal.Length | Petal.Width | Species |\n",
       "|---|---|---|---|---|---|\n",
       "| 1 | 5.1    | 3.5    | 1.4    | 0.2    | setosa |\n",
       "| 6 | 5.4    | 3.9    | 1.7    | 0.4    | setosa |\n",
       "| 11 | 5.4    | 3.7    | 1.5    | 0.2    | setosa |\n",
       "| 15 | 5.8    | 4.0    | 1.2    | 0.2    | setosa |\n",
       "| 16 | 5.7    | 4.4    | 1.5    | 0.4    | setosa |\n",
       "| 17 | 5.4    | 3.9    | 1.3    | 0.4    | setosa |\n",
       "| 18 | 5.1    | 3.5    | 1.4    | 0.3    | setosa |\n",
       "| 19 | 5.7    | 3.8    | 1.7    | 0.3    | setosa |\n",
       "| 20 | 5.1    | 3.8    | 1.5    | 0.3    | setosa |\n",
       "| 21 | 5.4    | 3.4    | 1.7    | 0.2    | setosa |\n",
       "| 22 | 5.1    | 3.7    | 1.5    | 0.4    | setosa |\n",
       "| 24 | 5.1    | 3.3    | 1.7    | 0.5    | setosa |\n",
       "| 28 | 5.2    | 3.5    | 1.5    | 0.2    | setosa |\n",
       "| 29 | 5.2    | 3.4    | 1.4    | 0.2    | setosa |\n",
       "| 32 | 5.4    | 3.4    | 1.5    | 0.4    | setosa |\n",
       "| 33 | 5.2    | 4.1    | 1.5    | 0.1    | setosa |\n",
       "| 34 | 5.5    | 4.2    | 1.4    | 0.2    | setosa |\n",
       "| 37 | 5.5    | 3.5    | 1.3    | 0.2    | setosa |\n",
       "| 40 | 5.1    | 3.4    | 1.5    | 0.2    | setosa |\n",
       "| 45 | 5.1    | 3.8    | 1.9    | 0.4    | setosa |\n",
       "| 47 | 5.1    | 3.8    | 1.6    | 0.2    | setosa |\n",
       "| 49 | 5.3    | 3.7    | 1.5    | 0.2    | setosa |\n",
       "\n"
      ],
      "text/plain": [
       "   Sepal.Length Sepal.Width Petal.Length Petal.Width Species\n",
       "1  5.1          3.5         1.4          0.2         setosa \n",
       "6  5.4          3.9         1.7          0.4         setosa \n",
       "11 5.4          3.7         1.5          0.2         setosa \n",
       "15 5.8          4.0         1.2          0.2         setosa \n",
       "16 5.7          4.4         1.5          0.4         setosa \n",
       "17 5.4          3.9         1.3          0.4         setosa \n",
       "18 5.1          3.5         1.4          0.3         setosa \n",
       "19 5.7          3.8         1.7          0.3         setosa \n",
       "20 5.1          3.8         1.5          0.3         setosa \n",
       "21 5.4          3.4         1.7          0.2         setosa \n",
       "22 5.1          3.7         1.5          0.4         setosa \n",
       "24 5.1          3.3         1.7          0.5         setosa \n",
       "28 5.2          3.5         1.5          0.2         setosa \n",
       "29 5.2          3.4         1.4          0.2         setosa \n",
       "32 5.4          3.4         1.5          0.4         setosa \n",
       "33 5.2          4.1         1.5          0.1         setosa \n",
       "34 5.5          4.2         1.4          0.2         setosa \n",
       "37 5.5          3.5         1.3          0.2         setosa \n",
       "40 5.1          3.4         1.5          0.2         setosa \n",
       "45 5.1          3.8         1.9          0.4         setosa \n",
       "47 5.1          3.8         1.6          0.2         setosa \n",
       "49 5.3          3.7         1.5          0.2         setosa "
      ]
     },
     "metadata": {},
     "output_type": "display_data"
    }
   ],
   "source": [
    "# iris에서 Species가 setosa이고 Sepal.Length가 5 보다 큰 sample(data)의 갯수는?\n",
    "nrow(subset(iris, Species == 'setosa' & Sepal.Length > 5))\n",
    "subset(iris, Species == 'setosa' & Sepal.Length > 5)"
   ]
  },
  {
   "cell_type": "code",
   "execution_count": 285,
   "metadata": {
    "vscode": {
     "languageId": "r"
    }
   },
   "outputs": [
    {
     "data": {
      "text/html": [
       "<table>\n",
       "<thead><tr><th scope=col>Sepal.Length</th><th scope=col>Species</th></tr></thead>\n",
       "<tbody>\n",
       "\t<tr><td>5.1   </td><td>setosa</td></tr>\n",
       "\t<tr><td>4.9   </td><td>setosa</td></tr>\n",
       "\t<tr><td>4.7   </td><td>setosa</td></tr>\n",
       "\t<tr><td>4.6   </td><td>setosa</td></tr>\n",
       "\t<tr><td>5.0   </td><td>setosa</td></tr>\n",
       "\t<tr><td>5.4   </td><td>setosa</td></tr>\n",
       "\t<tr><td>4.6   </td><td>setosa</td></tr>\n",
       "\t<tr><td>5.0   </td><td>setosa</td></tr>\n",
       "\t<tr><td>4.4   </td><td>setosa</td></tr>\n",
       "\t<tr><td>4.9   </td><td>setosa</td></tr>\n",
       "\t<tr><td>5.4   </td><td>setosa</td></tr>\n",
       "\t<tr><td>4.8   </td><td>setosa</td></tr>\n",
       "\t<tr><td>4.8   </td><td>setosa</td></tr>\n",
       "\t<tr><td>4.3   </td><td>setosa</td></tr>\n",
       "\t<tr><td>5.8   </td><td>setosa</td></tr>\n",
       "\t<tr><td>5.7   </td><td>setosa</td></tr>\n",
       "\t<tr><td>5.4   </td><td>setosa</td></tr>\n",
       "\t<tr><td>5.1   </td><td>setosa</td></tr>\n",
       "\t<tr><td>5.7   </td><td>setosa</td></tr>\n",
       "\t<tr><td>5.1   </td><td>setosa</td></tr>\n",
       "\t<tr><td>5.4   </td><td>setosa</td></tr>\n",
       "\t<tr><td>5.1   </td><td>setosa</td></tr>\n",
       "\t<tr><td>4.6   </td><td>setosa</td></tr>\n",
       "\t<tr><td>5.1   </td><td>setosa</td></tr>\n",
       "\t<tr><td>4.8   </td><td>setosa</td></tr>\n",
       "\t<tr><td>5.0   </td><td>setosa</td></tr>\n",
       "\t<tr><td>5.0   </td><td>setosa</td></tr>\n",
       "\t<tr><td>5.2   </td><td>setosa</td></tr>\n",
       "\t<tr><td>5.2   </td><td>setosa</td></tr>\n",
       "\t<tr><td>4.7   </td><td>setosa</td></tr>\n",
       "\t<tr><td>...</td><td>...</td></tr>\n",
       "\t<tr><td>6.9      </td><td>virginica</td></tr>\n",
       "\t<tr><td>5.6      </td><td>virginica</td></tr>\n",
       "\t<tr><td>7.7      </td><td>virginica</td></tr>\n",
       "\t<tr><td>6.3      </td><td>virginica</td></tr>\n",
       "\t<tr><td>6.7      </td><td>virginica</td></tr>\n",
       "\t<tr><td>7.2      </td><td>virginica</td></tr>\n",
       "\t<tr><td>6.2      </td><td>virginica</td></tr>\n",
       "\t<tr><td>6.1      </td><td>virginica</td></tr>\n",
       "\t<tr><td>6.4      </td><td>virginica</td></tr>\n",
       "\t<tr><td>7.2      </td><td>virginica</td></tr>\n",
       "\t<tr><td>7.4      </td><td>virginica</td></tr>\n",
       "\t<tr><td>7.9      </td><td>virginica</td></tr>\n",
       "\t<tr><td>6.4      </td><td>virginica</td></tr>\n",
       "\t<tr><td>6.3      </td><td>virginica</td></tr>\n",
       "\t<tr><td>6.1      </td><td>virginica</td></tr>\n",
       "\t<tr><td>7.7      </td><td>virginica</td></tr>\n",
       "\t<tr><td>6.3      </td><td>virginica</td></tr>\n",
       "\t<tr><td>6.4      </td><td>virginica</td></tr>\n",
       "\t<tr><td>6.0      </td><td>virginica</td></tr>\n",
       "\t<tr><td>6.9      </td><td>virginica</td></tr>\n",
       "\t<tr><td>6.7      </td><td>virginica</td></tr>\n",
       "\t<tr><td>6.9      </td><td>virginica</td></tr>\n",
       "\t<tr><td>5.8      </td><td>virginica</td></tr>\n",
       "\t<tr><td>6.8      </td><td>virginica</td></tr>\n",
       "\t<tr><td>6.7      </td><td>virginica</td></tr>\n",
       "\t<tr><td>6.7      </td><td>virginica</td></tr>\n",
       "\t<tr><td>6.3      </td><td>virginica</td></tr>\n",
       "\t<tr><td>6.5      </td><td>virginica</td></tr>\n",
       "\t<tr><td>6.2      </td><td>virginica</td></tr>\n",
       "\t<tr><td>5.9      </td><td>virginica</td></tr>\n",
       "</tbody>\n",
       "</table>\n"
      ],
      "text/latex": [
       "\\begin{tabular}{r|ll}\n",
       " Sepal.Length & Species\\\\\n",
       "\\hline\n",
       "\t 5.1    & setosa\\\\\n",
       "\t 4.9    & setosa\\\\\n",
       "\t 4.7    & setosa\\\\\n",
       "\t 4.6    & setosa\\\\\n",
       "\t 5.0    & setosa\\\\\n",
       "\t 5.4    & setosa\\\\\n",
       "\t 4.6    & setosa\\\\\n",
       "\t 5.0    & setosa\\\\\n",
       "\t 4.4    & setosa\\\\\n",
       "\t 4.9    & setosa\\\\\n",
       "\t 5.4    & setosa\\\\\n",
       "\t 4.8    & setosa\\\\\n",
       "\t 4.8    & setosa\\\\\n",
       "\t 4.3    & setosa\\\\\n",
       "\t 5.8    & setosa\\\\\n",
       "\t 5.7    & setosa\\\\\n",
       "\t 5.4    & setosa\\\\\n",
       "\t 5.1    & setosa\\\\\n",
       "\t 5.7    & setosa\\\\\n",
       "\t 5.1    & setosa\\\\\n",
       "\t 5.4    & setosa\\\\\n",
       "\t 5.1    & setosa\\\\\n",
       "\t 4.6    & setosa\\\\\n",
       "\t 5.1    & setosa\\\\\n",
       "\t 4.8    & setosa\\\\\n",
       "\t 5.0    & setosa\\\\\n",
       "\t 5.0    & setosa\\\\\n",
       "\t 5.2    & setosa\\\\\n",
       "\t 5.2    & setosa\\\\\n",
       "\t 4.7    & setosa\\\\\n",
       "\t ... & ...\\\\\n",
       "\t 6.9       & virginica\\\\\n",
       "\t 5.6       & virginica\\\\\n",
       "\t 7.7       & virginica\\\\\n",
       "\t 6.3       & virginica\\\\\n",
       "\t 6.7       & virginica\\\\\n",
       "\t 7.2       & virginica\\\\\n",
       "\t 6.2       & virginica\\\\\n",
       "\t 6.1       & virginica\\\\\n",
       "\t 6.4       & virginica\\\\\n",
       "\t 7.2       & virginica\\\\\n",
       "\t 7.4       & virginica\\\\\n",
       "\t 7.9       & virginica\\\\\n",
       "\t 6.4       & virginica\\\\\n",
       "\t 6.3       & virginica\\\\\n",
       "\t 6.1       & virginica\\\\\n",
       "\t 7.7       & virginica\\\\\n",
       "\t 6.3       & virginica\\\\\n",
       "\t 6.4       & virginica\\\\\n",
       "\t 6.0       & virginica\\\\\n",
       "\t 6.9       & virginica\\\\\n",
       "\t 6.7       & virginica\\\\\n",
       "\t 6.9       & virginica\\\\\n",
       "\t 5.8       & virginica\\\\\n",
       "\t 6.8       & virginica\\\\\n",
       "\t 6.7       & virginica\\\\\n",
       "\t 6.7       & virginica\\\\\n",
       "\t 6.3       & virginica\\\\\n",
       "\t 6.5       & virginica\\\\\n",
       "\t 6.2       & virginica\\\\\n",
       "\t 5.9       & virginica\\\\\n",
       "\\end{tabular}\n"
      ],
      "text/markdown": [
       "\n",
       "| Sepal.Length | Species |\n",
       "|---|---|\n",
       "| 5.1    | setosa |\n",
       "| 4.9    | setosa |\n",
       "| 4.7    | setosa |\n",
       "| 4.6    | setosa |\n",
       "| 5.0    | setosa |\n",
       "| 5.4    | setosa |\n",
       "| 4.6    | setosa |\n",
       "| 5.0    | setosa |\n",
       "| 4.4    | setosa |\n",
       "| 4.9    | setosa |\n",
       "| 5.4    | setosa |\n",
       "| 4.8    | setosa |\n",
       "| 4.8    | setosa |\n",
       "| 4.3    | setosa |\n",
       "| 5.8    | setosa |\n",
       "| 5.7    | setosa |\n",
       "| 5.4    | setosa |\n",
       "| 5.1    | setosa |\n",
       "| 5.7    | setosa |\n",
       "| 5.1    | setosa |\n",
       "| 5.4    | setosa |\n",
       "| 5.1    | setosa |\n",
       "| 4.6    | setosa |\n",
       "| 5.1    | setosa |\n",
       "| 4.8    | setosa |\n",
       "| 5.0    | setosa |\n",
       "| 5.0    | setosa |\n",
       "| 5.2    | setosa |\n",
       "| 5.2    | setosa |\n",
       "| 4.7    | setosa |\n",
       "| ... | ... |\n",
       "| 6.9       | virginica |\n",
       "| 5.6       | virginica |\n",
       "| 7.7       | virginica |\n",
       "| 6.3       | virginica |\n",
       "| 6.7       | virginica |\n",
       "| 7.2       | virginica |\n",
       "| 6.2       | virginica |\n",
       "| 6.1       | virginica |\n",
       "| 6.4       | virginica |\n",
       "| 7.2       | virginica |\n",
       "| 7.4       | virginica |\n",
       "| 7.9       | virginica |\n",
       "| 6.4       | virginica |\n",
       "| 6.3       | virginica |\n",
       "| 6.1       | virginica |\n",
       "| 7.7       | virginica |\n",
       "| 6.3       | virginica |\n",
       "| 6.4       | virginica |\n",
       "| 6.0       | virginica |\n",
       "| 6.9       | virginica |\n",
       "| 6.7       | virginica |\n",
       "| 6.9       | virginica |\n",
       "| 5.8       | virginica |\n",
       "| 6.8       | virginica |\n",
       "| 6.7       | virginica |\n",
       "| 6.7       | virginica |\n",
       "| 6.3       | virginica |\n",
       "| 6.5       | virginica |\n",
       "| 6.2       | virginica |\n",
       "| 5.9       | virginica |\n",
       "\n"
      ],
      "text/plain": [
       "    Sepal.Length Species  \n",
       "1   5.1          setosa   \n",
       "2   4.9          setosa   \n",
       "3   4.7          setosa   \n",
       "4   4.6          setosa   \n",
       "5   5.0          setosa   \n",
       "6   5.4          setosa   \n",
       "7   4.6          setosa   \n",
       "8   5.0          setosa   \n",
       "9   4.4          setosa   \n",
       "10  4.9          setosa   \n",
       "11  5.4          setosa   \n",
       "12  4.8          setosa   \n",
       "13  4.8          setosa   \n",
       "14  4.3          setosa   \n",
       "15  5.8          setosa   \n",
       "16  5.7          setosa   \n",
       "17  5.4          setosa   \n",
       "18  5.1          setosa   \n",
       "19  5.7          setosa   \n",
       "20  5.1          setosa   \n",
       "21  5.4          setosa   \n",
       "22  5.1          setosa   \n",
       "23  4.6          setosa   \n",
       "24  5.1          setosa   \n",
       "25  4.8          setosa   \n",
       "26  5.0          setosa   \n",
       "27  5.0          setosa   \n",
       "28  5.2          setosa   \n",
       "29  5.2          setosa   \n",
       "30  4.7          setosa   \n",
       "... ...          ...      \n",
       "121 6.9          virginica\n",
       "122 5.6          virginica\n",
       "123 7.7          virginica\n",
       "124 6.3          virginica\n",
       "125 6.7          virginica\n",
       "126 7.2          virginica\n",
       "127 6.2          virginica\n",
       "128 6.1          virginica\n",
       "129 6.4          virginica\n",
       "130 7.2          virginica\n",
       "131 7.4          virginica\n",
       "132 7.9          virginica\n",
       "133 6.4          virginica\n",
       "134 6.3          virginica\n",
       "135 6.1          virginica\n",
       "136 7.7          virginica\n",
       "137 6.3          virginica\n",
       "138 6.4          virginica\n",
       "139 6.0          virginica\n",
       "140 6.9          virginica\n",
       "141 6.7          virginica\n",
       "142 6.9          virginica\n",
       "143 5.8          virginica\n",
       "144 6.8          virginica\n",
       "145 6.7          virginica\n",
       "146 6.7          virginica\n",
       "147 6.3          virginica\n",
       "148 6.5          virginica\n",
       "149 6.2          virginica\n",
       "150 5.9          virginica"
      ]
     },
     "metadata": {},
     "output_type": "display_data"
    },
    {
     "data": {
      "text/html": [
       "<table>\n",
       "<thead><tr><th scope=col>Sepal.Length</th><th scope=col>Sepal.Width</th><th scope=col>Petal.Length</th><th scope=col>Petal.Width</th></tr></thead>\n",
       "<tbody>\n",
       "\t<tr><td>5.1</td><td>3.5</td><td>1.4</td><td>0.2</td></tr>\n",
       "\t<tr><td>4.9</td><td>3.0</td><td>1.4</td><td>0.2</td></tr>\n",
       "\t<tr><td>4.7</td><td>3.2</td><td>1.3</td><td>0.2</td></tr>\n",
       "\t<tr><td>4.6</td><td>3.1</td><td>1.5</td><td>0.2</td></tr>\n",
       "\t<tr><td>5.0</td><td>3.6</td><td>1.4</td><td>0.2</td></tr>\n",
       "\t<tr><td>5.4</td><td>3.9</td><td>1.7</td><td>0.4</td></tr>\n",
       "\t<tr><td>4.6</td><td>3.4</td><td>1.4</td><td>0.3</td></tr>\n",
       "\t<tr><td>5.0</td><td>3.4</td><td>1.5</td><td>0.2</td></tr>\n",
       "\t<tr><td>4.4</td><td>2.9</td><td>1.4</td><td>0.2</td></tr>\n",
       "\t<tr><td>4.9</td><td>3.1</td><td>1.5</td><td>0.1</td></tr>\n",
       "\t<tr><td>5.4</td><td>3.7</td><td>1.5</td><td>0.2</td></tr>\n",
       "\t<tr><td>4.8</td><td>3.4</td><td>1.6</td><td>0.2</td></tr>\n",
       "\t<tr><td>4.8</td><td>3.0</td><td>1.4</td><td>0.1</td></tr>\n",
       "\t<tr><td>4.3</td><td>3.0</td><td>1.1</td><td>0.1</td></tr>\n",
       "\t<tr><td>5.8</td><td>4.0</td><td>1.2</td><td>0.2</td></tr>\n",
       "\t<tr><td>5.7</td><td>4.4</td><td>1.5</td><td>0.4</td></tr>\n",
       "\t<tr><td>5.4</td><td>3.9</td><td>1.3</td><td>0.4</td></tr>\n",
       "\t<tr><td>5.1</td><td>3.5</td><td>1.4</td><td>0.3</td></tr>\n",
       "\t<tr><td>5.7</td><td>3.8</td><td>1.7</td><td>0.3</td></tr>\n",
       "\t<tr><td>5.1</td><td>3.8</td><td>1.5</td><td>0.3</td></tr>\n",
       "\t<tr><td>5.4</td><td>3.4</td><td>1.7</td><td>0.2</td></tr>\n",
       "\t<tr><td>5.1</td><td>3.7</td><td>1.5</td><td>0.4</td></tr>\n",
       "\t<tr><td>4.6</td><td>3.6</td><td>1.0</td><td>0.2</td></tr>\n",
       "\t<tr><td>5.1</td><td>3.3</td><td>1.7</td><td>0.5</td></tr>\n",
       "\t<tr><td>4.8</td><td>3.4</td><td>1.9</td><td>0.2</td></tr>\n",
       "\t<tr><td>5.0</td><td>3.0</td><td>1.6</td><td>0.2</td></tr>\n",
       "\t<tr><td>5.0</td><td>3.4</td><td>1.6</td><td>0.4</td></tr>\n",
       "\t<tr><td>5.2</td><td>3.5</td><td>1.5</td><td>0.2</td></tr>\n",
       "\t<tr><td>5.2</td><td>3.4</td><td>1.4</td><td>0.2</td></tr>\n",
       "\t<tr><td>4.7</td><td>3.2</td><td>1.6</td><td>0.2</td></tr>\n",
       "\t<tr><td>...</td><td>...</td><td>...</td><td>...</td></tr>\n",
       "\t<tr><td>6.9</td><td>3.2</td><td>5.7</td><td>2.3</td></tr>\n",
       "\t<tr><td>5.6</td><td>2.8</td><td>4.9</td><td>2.0</td></tr>\n",
       "\t<tr><td>7.7</td><td>2.8</td><td>6.7</td><td>2.0</td></tr>\n",
       "\t<tr><td>6.3</td><td>2.7</td><td>4.9</td><td>1.8</td></tr>\n",
       "\t<tr><td>6.7</td><td>3.3</td><td>5.7</td><td>2.1</td></tr>\n",
       "\t<tr><td>7.2</td><td>3.2</td><td>6.0</td><td>1.8</td></tr>\n",
       "\t<tr><td>6.2</td><td>2.8</td><td>4.8</td><td>1.8</td></tr>\n",
       "\t<tr><td>6.1</td><td>3.0</td><td>4.9</td><td>1.8</td></tr>\n",
       "\t<tr><td>6.4</td><td>2.8</td><td>5.6</td><td>2.1</td></tr>\n",
       "\t<tr><td>7.2</td><td>3.0</td><td>5.8</td><td>1.6</td></tr>\n",
       "\t<tr><td>7.4</td><td>2.8</td><td>6.1</td><td>1.9</td></tr>\n",
       "\t<tr><td>7.9</td><td>3.8</td><td>6.4</td><td>2.0</td></tr>\n",
       "\t<tr><td>6.4</td><td>2.8</td><td>5.6</td><td>2.2</td></tr>\n",
       "\t<tr><td>6.3</td><td>2.8</td><td>5.1</td><td>1.5</td></tr>\n",
       "\t<tr><td>6.1</td><td>2.6</td><td>5.6</td><td>1.4</td></tr>\n",
       "\t<tr><td>7.7</td><td>3.0</td><td>6.1</td><td>2.3</td></tr>\n",
       "\t<tr><td>6.3</td><td>3.4</td><td>5.6</td><td>2.4</td></tr>\n",
       "\t<tr><td>6.4</td><td>3.1</td><td>5.5</td><td>1.8</td></tr>\n",
       "\t<tr><td>6.0</td><td>3.0</td><td>4.8</td><td>1.8</td></tr>\n",
       "\t<tr><td>6.9</td><td>3.1</td><td>5.4</td><td>2.1</td></tr>\n",
       "\t<tr><td>6.7</td><td>3.1</td><td>5.6</td><td>2.4</td></tr>\n",
       "\t<tr><td>6.9</td><td>3.1</td><td>5.1</td><td>2.3</td></tr>\n",
       "\t<tr><td>5.8</td><td>2.7</td><td>5.1</td><td>1.9</td></tr>\n",
       "\t<tr><td>6.8</td><td>3.2</td><td>5.9</td><td>2.3</td></tr>\n",
       "\t<tr><td>6.7</td><td>3.3</td><td>5.7</td><td>2.5</td></tr>\n",
       "\t<tr><td>6.7</td><td>3.0</td><td>5.2</td><td>2.3</td></tr>\n",
       "\t<tr><td>6.3</td><td>2.5</td><td>5.0</td><td>1.9</td></tr>\n",
       "\t<tr><td>6.5</td><td>3.0</td><td>5.2</td><td>2.0</td></tr>\n",
       "\t<tr><td>6.2</td><td>3.4</td><td>5.4</td><td>2.3</td></tr>\n",
       "\t<tr><td>5.9</td><td>3.0</td><td>5.1</td><td>1.8</td></tr>\n",
       "</tbody>\n",
       "</table>\n"
      ],
      "text/latex": [
       "\\begin{tabular}{r|llll}\n",
       " Sepal.Length & Sepal.Width & Petal.Length & Petal.Width\\\\\n",
       "\\hline\n",
       "\t 5.1 & 3.5 & 1.4 & 0.2\\\\\n",
       "\t 4.9 & 3.0 & 1.4 & 0.2\\\\\n",
       "\t 4.7 & 3.2 & 1.3 & 0.2\\\\\n",
       "\t 4.6 & 3.1 & 1.5 & 0.2\\\\\n",
       "\t 5.0 & 3.6 & 1.4 & 0.2\\\\\n",
       "\t 5.4 & 3.9 & 1.7 & 0.4\\\\\n",
       "\t 4.6 & 3.4 & 1.4 & 0.3\\\\\n",
       "\t 5.0 & 3.4 & 1.5 & 0.2\\\\\n",
       "\t 4.4 & 2.9 & 1.4 & 0.2\\\\\n",
       "\t 4.9 & 3.1 & 1.5 & 0.1\\\\\n",
       "\t 5.4 & 3.7 & 1.5 & 0.2\\\\\n",
       "\t 4.8 & 3.4 & 1.6 & 0.2\\\\\n",
       "\t 4.8 & 3.0 & 1.4 & 0.1\\\\\n",
       "\t 4.3 & 3.0 & 1.1 & 0.1\\\\\n",
       "\t 5.8 & 4.0 & 1.2 & 0.2\\\\\n",
       "\t 5.7 & 4.4 & 1.5 & 0.4\\\\\n",
       "\t 5.4 & 3.9 & 1.3 & 0.4\\\\\n",
       "\t 5.1 & 3.5 & 1.4 & 0.3\\\\\n",
       "\t 5.7 & 3.8 & 1.7 & 0.3\\\\\n",
       "\t 5.1 & 3.8 & 1.5 & 0.3\\\\\n",
       "\t 5.4 & 3.4 & 1.7 & 0.2\\\\\n",
       "\t 5.1 & 3.7 & 1.5 & 0.4\\\\\n",
       "\t 4.6 & 3.6 & 1.0 & 0.2\\\\\n",
       "\t 5.1 & 3.3 & 1.7 & 0.5\\\\\n",
       "\t 4.8 & 3.4 & 1.9 & 0.2\\\\\n",
       "\t 5.0 & 3.0 & 1.6 & 0.2\\\\\n",
       "\t 5.0 & 3.4 & 1.6 & 0.4\\\\\n",
       "\t 5.2 & 3.5 & 1.5 & 0.2\\\\\n",
       "\t 5.2 & 3.4 & 1.4 & 0.2\\\\\n",
       "\t 4.7 & 3.2 & 1.6 & 0.2\\\\\n",
       "\t ... & ... & ... & ...\\\\\n",
       "\t 6.9 & 3.2 & 5.7 & 2.3\\\\\n",
       "\t 5.6 & 2.8 & 4.9 & 2.0\\\\\n",
       "\t 7.7 & 2.8 & 6.7 & 2.0\\\\\n",
       "\t 6.3 & 2.7 & 4.9 & 1.8\\\\\n",
       "\t 6.7 & 3.3 & 5.7 & 2.1\\\\\n",
       "\t 7.2 & 3.2 & 6.0 & 1.8\\\\\n",
       "\t 6.2 & 2.8 & 4.8 & 1.8\\\\\n",
       "\t 6.1 & 3.0 & 4.9 & 1.8\\\\\n",
       "\t 6.4 & 2.8 & 5.6 & 2.1\\\\\n",
       "\t 7.2 & 3.0 & 5.8 & 1.6\\\\\n",
       "\t 7.4 & 2.8 & 6.1 & 1.9\\\\\n",
       "\t 7.9 & 3.8 & 6.4 & 2.0\\\\\n",
       "\t 6.4 & 2.8 & 5.6 & 2.2\\\\\n",
       "\t 6.3 & 2.8 & 5.1 & 1.5\\\\\n",
       "\t 6.1 & 2.6 & 5.6 & 1.4\\\\\n",
       "\t 7.7 & 3.0 & 6.1 & 2.3\\\\\n",
       "\t 6.3 & 3.4 & 5.6 & 2.4\\\\\n",
       "\t 6.4 & 3.1 & 5.5 & 1.8\\\\\n",
       "\t 6.0 & 3.0 & 4.8 & 1.8\\\\\n",
       "\t 6.9 & 3.1 & 5.4 & 2.1\\\\\n",
       "\t 6.7 & 3.1 & 5.6 & 2.4\\\\\n",
       "\t 6.9 & 3.1 & 5.1 & 2.3\\\\\n",
       "\t 5.8 & 2.7 & 5.1 & 1.9\\\\\n",
       "\t 6.8 & 3.2 & 5.9 & 2.3\\\\\n",
       "\t 6.7 & 3.3 & 5.7 & 2.5\\\\\n",
       "\t 6.7 & 3.0 & 5.2 & 2.3\\\\\n",
       "\t 6.3 & 2.5 & 5.0 & 1.9\\\\\n",
       "\t 6.5 & 3.0 & 5.2 & 2.0\\\\\n",
       "\t 6.2 & 3.4 & 5.4 & 2.3\\\\\n",
       "\t 5.9 & 3.0 & 5.1 & 1.8\\\\\n",
       "\\end{tabular}\n"
      ],
      "text/markdown": [
       "\n",
       "| Sepal.Length | Sepal.Width | Petal.Length | Petal.Width |\n",
       "|---|---|---|---|\n",
       "| 5.1 | 3.5 | 1.4 | 0.2 |\n",
       "| 4.9 | 3.0 | 1.4 | 0.2 |\n",
       "| 4.7 | 3.2 | 1.3 | 0.2 |\n",
       "| 4.6 | 3.1 | 1.5 | 0.2 |\n",
       "| 5.0 | 3.6 | 1.4 | 0.2 |\n",
       "| 5.4 | 3.9 | 1.7 | 0.4 |\n",
       "| 4.6 | 3.4 | 1.4 | 0.3 |\n",
       "| 5.0 | 3.4 | 1.5 | 0.2 |\n",
       "| 4.4 | 2.9 | 1.4 | 0.2 |\n",
       "| 4.9 | 3.1 | 1.5 | 0.1 |\n",
       "| 5.4 | 3.7 | 1.5 | 0.2 |\n",
       "| 4.8 | 3.4 | 1.6 | 0.2 |\n",
       "| 4.8 | 3.0 | 1.4 | 0.1 |\n",
       "| 4.3 | 3.0 | 1.1 | 0.1 |\n",
       "| 5.8 | 4.0 | 1.2 | 0.2 |\n",
       "| 5.7 | 4.4 | 1.5 | 0.4 |\n",
       "| 5.4 | 3.9 | 1.3 | 0.4 |\n",
       "| 5.1 | 3.5 | 1.4 | 0.3 |\n",
       "| 5.7 | 3.8 | 1.7 | 0.3 |\n",
       "| 5.1 | 3.8 | 1.5 | 0.3 |\n",
       "| 5.4 | 3.4 | 1.7 | 0.2 |\n",
       "| 5.1 | 3.7 | 1.5 | 0.4 |\n",
       "| 4.6 | 3.6 | 1.0 | 0.2 |\n",
       "| 5.1 | 3.3 | 1.7 | 0.5 |\n",
       "| 4.8 | 3.4 | 1.9 | 0.2 |\n",
       "| 5.0 | 3.0 | 1.6 | 0.2 |\n",
       "| 5.0 | 3.4 | 1.6 | 0.4 |\n",
       "| 5.2 | 3.5 | 1.5 | 0.2 |\n",
       "| 5.2 | 3.4 | 1.4 | 0.2 |\n",
       "| 4.7 | 3.2 | 1.6 | 0.2 |\n",
       "| ... | ... | ... | ... |\n",
       "| 6.9 | 3.2 | 5.7 | 2.3 |\n",
       "| 5.6 | 2.8 | 4.9 | 2.0 |\n",
       "| 7.7 | 2.8 | 6.7 | 2.0 |\n",
       "| 6.3 | 2.7 | 4.9 | 1.8 |\n",
       "| 6.7 | 3.3 | 5.7 | 2.1 |\n",
       "| 7.2 | 3.2 | 6.0 | 1.8 |\n",
       "| 6.2 | 2.8 | 4.8 | 1.8 |\n",
       "| 6.1 | 3.0 | 4.9 | 1.8 |\n",
       "| 6.4 | 2.8 | 5.6 | 2.1 |\n",
       "| 7.2 | 3.0 | 5.8 | 1.6 |\n",
       "| 7.4 | 2.8 | 6.1 | 1.9 |\n",
       "| 7.9 | 3.8 | 6.4 | 2.0 |\n",
       "| 6.4 | 2.8 | 5.6 | 2.2 |\n",
       "| 6.3 | 2.8 | 5.1 | 1.5 |\n",
       "| 6.1 | 2.6 | 5.6 | 1.4 |\n",
       "| 7.7 | 3.0 | 6.1 | 2.3 |\n",
       "| 6.3 | 3.4 | 5.6 | 2.4 |\n",
       "| 6.4 | 3.1 | 5.5 | 1.8 |\n",
       "| 6.0 | 3.0 | 4.8 | 1.8 |\n",
       "| 6.9 | 3.1 | 5.4 | 2.1 |\n",
       "| 6.7 | 3.1 | 5.6 | 2.4 |\n",
       "| 6.9 | 3.1 | 5.1 | 2.3 |\n",
       "| 5.8 | 2.7 | 5.1 | 1.9 |\n",
       "| 6.8 | 3.2 | 5.9 | 2.3 |\n",
       "| 6.7 | 3.3 | 5.7 | 2.5 |\n",
       "| 6.7 | 3.0 | 5.2 | 2.3 |\n",
       "| 6.3 | 2.5 | 5.0 | 1.9 |\n",
       "| 6.5 | 3.0 | 5.2 | 2.0 |\n",
       "| 6.2 | 3.4 | 5.4 | 2.3 |\n",
       "| 5.9 | 3.0 | 5.1 | 1.8 |\n",
       "\n"
      ],
      "text/plain": [
       "    Sepal.Length Sepal.Width Petal.Length Petal.Width\n",
       "1   5.1          3.5         1.4          0.2        \n",
       "2   4.9          3.0         1.4          0.2        \n",
       "3   4.7          3.2         1.3          0.2        \n",
       "4   4.6          3.1         1.5          0.2        \n",
       "5   5.0          3.6         1.4          0.2        \n",
       "6   5.4          3.9         1.7          0.4        \n",
       "7   4.6          3.4         1.4          0.3        \n",
       "8   5.0          3.4         1.5          0.2        \n",
       "9   4.4          2.9         1.4          0.2        \n",
       "10  4.9          3.1         1.5          0.1        \n",
       "11  5.4          3.7         1.5          0.2        \n",
       "12  4.8          3.4         1.6          0.2        \n",
       "13  4.8          3.0         1.4          0.1        \n",
       "14  4.3          3.0         1.1          0.1        \n",
       "15  5.8          4.0         1.2          0.2        \n",
       "16  5.7          4.4         1.5          0.4        \n",
       "17  5.4          3.9         1.3          0.4        \n",
       "18  5.1          3.5         1.4          0.3        \n",
       "19  5.7          3.8         1.7          0.3        \n",
       "20  5.1          3.8         1.5          0.3        \n",
       "21  5.4          3.4         1.7          0.2        \n",
       "22  5.1          3.7         1.5          0.4        \n",
       "23  4.6          3.6         1.0          0.2        \n",
       "24  5.1          3.3         1.7          0.5        \n",
       "25  4.8          3.4         1.9          0.2        \n",
       "26  5.0          3.0         1.6          0.2        \n",
       "27  5.0          3.4         1.6          0.4        \n",
       "28  5.2          3.5         1.5          0.2        \n",
       "29  5.2          3.4         1.4          0.2        \n",
       "30  4.7          3.2         1.6          0.2        \n",
       "... ...          ...         ...          ...        \n",
       "121 6.9          3.2         5.7          2.3        \n",
       "122 5.6          2.8         4.9          2.0        \n",
       "123 7.7          2.8         6.7          2.0        \n",
       "124 6.3          2.7         4.9          1.8        \n",
       "125 6.7          3.3         5.7          2.1        \n",
       "126 7.2          3.2         6.0          1.8        \n",
       "127 6.2          2.8         4.8          1.8        \n",
       "128 6.1          3.0         4.9          1.8        \n",
       "129 6.4          2.8         5.6          2.1        \n",
       "130 7.2          3.0         5.8          1.6        \n",
       "131 7.4          2.8         6.1          1.9        \n",
       "132 7.9          3.8         6.4          2.0        \n",
       "133 6.4          2.8         5.6          2.2        \n",
       "134 6.3          2.8         5.1          1.5        \n",
       "135 6.1          2.6         5.6          1.4        \n",
       "136 7.7          3.0         6.1          2.3        \n",
       "137 6.3          3.4         5.6          2.4        \n",
       "138 6.4          3.1         5.5          1.8        \n",
       "139 6.0          3.0         4.8          1.8        \n",
       "140 6.9          3.1         5.4          2.1        \n",
       "141 6.7          3.1         5.6          2.4        \n",
       "142 6.9          3.1         5.1          2.3        \n",
       "143 5.8          2.7         5.1          1.9        \n",
       "144 6.8          3.2         5.9          2.3        \n",
       "145 6.7          3.3         5.7          2.5        \n",
       "146 6.7          3.0         5.2          2.3        \n",
       "147 6.3          2.5         5.0          1.9        \n",
       "148 6.5          3.0         5.2          2.0        \n",
       "149 6.2          3.4         5.4          2.3        \n",
       "150 5.9          3.0         5.1          1.8        "
      ]
     },
     "metadata": {},
     "output_type": "display_data"
    }
   ],
   "source": [
    "# subset으로 컬럼 지우기 (행지우기는어렵)\n",
    "subset(iris, select = c(Sepal.Length, Species))\n",
    "subset(iris, select = -Species)"
   ]
  },
  {
   "cell_type": "markdown",
   "metadata": {},
   "source": [
    "---\n",
    "# 그룹 연산 함수\n",
    "- 많이 사용할거임\n",
    "- y = ax + b 를 y ~ x (이렇게 사용하는 것이 틸트)"
   ]
  },
  {
   "cell_type": "code",
   "execution_count": 286,
   "metadata": {
    "vscode": {
     "languageId": "r"
    }
   },
   "outputs": [
    {
     "data": {
      "text/html": [
       "<table>\n",
       "<thead><tr><th scope=col>Species</th><th scope=col>Sepal.Width</th></tr></thead>\n",
       "<tbody>\n",
       "\t<tr><td>setosa    </td><td>3.428     </td></tr>\n",
       "\t<tr><td>versicolor</td><td>2.770     </td></tr>\n",
       "\t<tr><td>virginica </td><td>2.974     </td></tr>\n",
       "</tbody>\n",
       "</table>\n"
      ],
      "text/latex": [
       "\\begin{tabular}{r|ll}\n",
       " Species & Sepal.Width\\\\\n",
       "\\hline\n",
       "\t setosa     & 3.428     \\\\\n",
       "\t versicolor & 2.770     \\\\\n",
       "\t virginica  & 2.974     \\\\\n",
       "\\end{tabular}\n"
      ],
      "text/markdown": [
       "\n",
       "| Species | Sepal.Width |\n",
       "|---|---|\n",
       "| setosa     | 3.428      |\n",
       "| versicolor | 2.770      |\n",
       "| virginica  | 2.974      |\n",
       "\n"
      ],
      "text/plain": [
       "  Species    Sepal.Width\n",
       "1 setosa     3.428      \n",
       "2 versicolor 2.770      \n",
       "3 virginica  2.974      "
      ]
     },
     "metadata": {},
     "output_type": "display_data"
    }
   ],
   "source": [
    "# iris에서 Species 기준으로 Sepal.Width 의 평균 구하기\n",
    "aggregate( Sepal.Width ~ Species, iris, mean) # 알아서 그룹핑 해서 평균을 내준다"
   ]
  },
  {
   "cell_type": "markdown",
   "metadata": {},
   "source": [
    "---\n",
    "# 서울시 교통사고 조사 데이터셋 "
   ]
  },
  {
   "cell_type": "code",
   "execution_count": 332,
   "metadata": {
    "vscode": {
     "languageId": "r"
    }
   },
   "outputs": [
    {
     "data": {
      "text/html": [
       "<table>\n",
       "<thead><tr><th scope=col>년도</th><th scope=col>월</th><th scope=col>자치구명</th><th scope=col>발생건수</th><th scope=col>사망자수</th><th scope=col>부상자수</th></tr></thead>\n",
       "<tbody>\n",
       "\t<tr><td>2011  </td><td>1     </td><td>종로구</td><td>115   </td><td>2     </td><td>165   </td></tr>\n",
       "\t<tr><td>2011  </td><td>2     </td><td>종로구</td><td> 99   </td><td>0     </td><td>134   </td></tr>\n",
       "\t<tr><td>2011  </td><td>3     </td><td>종로구</td><td>116   </td><td>0     </td><td>162   </td></tr>\n",
       "\t<tr><td>2011  </td><td>4     </td><td>종로구</td><td>110   </td><td>1     </td><td>153   </td></tr>\n",
       "\t<tr><td>2011  </td><td>5     </td><td>종로구</td><td>122   </td><td>0     </td><td>157   </td></tr>\n",
       "\t<tr><td>2011  </td><td>6     </td><td>종로구</td><td>116   </td><td>3     </td><td>163   </td></tr>\n",
       "</tbody>\n",
       "</table>\n"
      ],
      "text/latex": [
       "\\begin{tabular}{r|llllll}\n",
       " 년도 & 월 & 자치구명 & 발생건수 & 사망자수 & 부상자수\\\\\n",
       "\\hline\n",
       "\t 2011   & 1      & 종로구 & 115    & 2      & 165   \\\\\n",
       "\t 2011   & 2      & 종로구 &  99    & 0      & 134   \\\\\n",
       "\t 2011   & 3      & 종로구 & 116    & 0      & 162   \\\\\n",
       "\t 2011   & 4      & 종로구 & 110    & 1      & 153   \\\\\n",
       "\t 2011   & 5      & 종로구 & 122    & 0      & 157   \\\\\n",
       "\t 2011   & 6      & 종로구 & 116    & 3      & 163   \\\\\n",
       "\\end{tabular}\n"
      ],
      "text/markdown": [
       "\n",
       "| 년도 | 월 | 자치구명 | 발생건수 | 사망자수 | 부상자수 |\n",
       "|---|---|---|---|---|---|\n",
       "| 2011   | 1      | 종로구 | 115    | 2      | 165    |\n",
       "| 2011   | 2      | 종로구 |  99    | 0      | 134    |\n",
       "| 2011   | 3      | 종로구 | 116    | 0      | 162    |\n",
       "| 2011   | 4      | 종로구 | 110    | 1      | 153    |\n",
       "| 2011   | 5      | 종로구 | 122    | 0      | 157    |\n",
       "| 2011   | 6      | 종로구 | 116    | 3      | 163    |\n",
       "\n"
      ],
      "text/plain": [
       "  년도 월 자치구명 발생건수 사망자수 부상자수\n",
       "1 2011 1  종로구   115      2        165     \n",
       "2 2011 2  종로구    99      0        134     \n",
       "3 2011 3  종로구   116      0        162     \n",
       "4 2011 4  종로구   110      1        153     \n",
       "5 2011 5  종로구   122      0        157     \n",
       "6 2011 6  종로구   116      3        163     "
      ]
     },
     "metadata": {},
     "output_type": "display_data"
    },
    {
     "data": {
      "text/html": [
       "<table>\n",
       "<thead><tr><th></th><th scope=col>년도</th><th scope=col>월</th><th scope=col>자치구명</th><th scope=col>발생건수</th><th scope=col>사망자수</th><th scope=col>부상자수</th></tr></thead>\n",
       "<tbody>\n",
       "\t<tr><th scope=row>2695</th><td>2019  </td><td> 7    </td><td>강동구</td><td>146   </td><td>2     </td><td>189   </td></tr>\n",
       "\t<tr><th scope=row>2696</th><td>2019  </td><td> 8    </td><td>강동구</td><td>127   </td><td>2     </td><td>175   </td></tr>\n",
       "\t<tr><th scope=row>2697</th><td>2019  </td><td> 9    </td><td>강동구</td><td> 98   </td><td>2     </td><td>137   </td></tr>\n",
       "\t<tr><th scope=row>2698</th><td>2019  </td><td>10    </td><td>강동구</td><td>108   </td><td>1     </td><td>144   </td></tr>\n",
       "\t<tr><th scope=row>2699</th><td>2019  </td><td>11    </td><td>강동구</td><td>146   </td><td>0     </td><td>199   </td></tr>\n",
       "\t<tr><th scope=row>2700</th><td>2019  </td><td>12    </td><td>강동구</td><td>108   </td><td>1     </td><td>131   </td></tr>\n",
       "</tbody>\n",
       "</table>\n"
      ],
      "text/latex": [
       "\\begin{tabular}{r|llllll}\n",
       "  & 년도 & 월 & 자치구명 & 발생건수 & 사망자수 & 부상자수\\\\\n",
       "\\hline\n",
       "\t2695 & 2019   &  7     & 강동구 & 146    & 2      & 189   \\\\\n",
       "\t2696 & 2019   &  8     & 강동구 & 127    & 2      & 175   \\\\\n",
       "\t2697 & 2019   &  9     & 강동구 &  98    & 2      & 137   \\\\\n",
       "\t2698 & 2019   & 10     & 강동구 & 108    & 1      & 144   \\\\\n",
       "\t2699 & 2019   & 11     & 강동구 & 146    & 0      & 199   \\\\\n",
       "\t2700 & 2019   & 12     & 강동구 & 108    & 1      & 131   \\\\\n",
       "\\end{tabular}\n"
      ],
      "text/markdown": [
       "\n",
       "| <!--/--> | 년도 | 월 | 자치구명 | 발생건수 | 사망자수 | 부상자수 |\n",
       "|---|---|---|---|---|---|---|\n",
       "| 2695 | 2019   |  7     | 강동구 | 146    | 2      | 189    |\n",
       "| 2696 | 2019   |  8     | 강동구 | 127    | 2      | 175    |\n",
       "| 2697 | 2019   |  9     | 강동구 |  98    | 2      | 137    |\n",
       "| 2698 | 2019   | 10     | 강동구 | 108    | 1      | 144    |\n",
       "| 2699 | 2019   | 11     | 강동구 | 146    | 0      | 199    |\n",
       "| 2700 | 2019   | 12     | 강동구 | 108    | 1      | 131    |\n",
       "\n"
      ],
      "text/plain": [
       "     년도 월 자치구명 발생건수 사망자수 부상자수\n",
       "2695 2019  7 강동구   146      2        189     \n",
       "2696 2019  8 강동구   127      2        175     \n",
       "2697 2019  9 강동구    98      2        137     \n",
       "2698 2019 10 강동구   108      1        144     \n",
       "2699 2019 11 강동구   146      0        199     \n",
       "2700 2019 12 강동구   108      1        131     "
      ]
     },
     "metadata": {},
     "output_type": "display_data"
    },
    {
     "name": "stdout",
     "output_type": "stream",
     "text": [
      "'data.frame':\t2700 obs. of  6 variables:\n",
      " $ 년도    : int  2011 2011 2011 2011 2011 2011 2011 2011 2011 2011 ...\n",
      " $ 월      : int  1 2 3 4 5 6 7 8 9 10 ...\n",
      " $ 자치구명: Factor w/ 25 levels \"강남구\",\"강동구\",..: 23 23 23 23 23 23 23 23 23 23 ...\n",
      " $ 발생건수: int  115 99 116 110 122 116 103 122 121 135 ...\n",
      " $ 사망자수: int  2 0 0 1 0 3 1 1 2 2 ...\n",
      " $ 부상자수: int  165 134 162 153 157 163 154 171 166 193 ...\n"
     ]
    },
    {
     "data": {
      "text/plain": [
       "      년도            월           자치구명       발생건수        사망자수     \n",
       " Min.   :2011   Min.   : 1.00   강남구 : 108   Min.   : 45.0   Min.   : 0.000  \n",
       " 1st Qu.:2013   1st Qu.: 3.75   강동구 : 108   1st Qu.:100.0   1st Qu.: 0.000  \n",
       " Median :2015   Median : 6.50   강북구 : 108   Median :122.0   Median : 1.000  \n",
       " Mean   :2015   Mean   : 6.50   강서구 : 108   Mean   :133.3   Mean   : 1.207  \n",
       " 3rd Qu.:2017   3rd Qu.: 9.25   관악구 : 108   3rd Qu.:149.0   3rd Qu.: 2.000  \n",
       " Max.   :2019   Max.   :12.00   광진구 : 108   Max.   :383.0   Max.   :10.000  \n",
       "                                (Other):2052                                   \n",
       "    부상자수    \n",
       " Min.   : 55.0  \n",
       " 1st Qu.:138.0  \n",
       " Median :168.0  \n",
       " Mean   :187.4  \n",
       " 3rd Qu.:208.0  \n",
       " Max.   :552.0  \n",
       "                "
      ]
     },
     "metadata": {},
     "output_type": "display_data"
    }
   ],
   "source": [
    "# 데이터셋을 불러와서 seoul이라는 변수에 넣기\n",
    "seoul <- read.csv((\"../Data/newSeoul2019.csv\") )\n",
    "head(seoul)\n",
    "tail(seoul) \n",
    "str(seoul) \n",
    "summary(seoul) # 정규분포가 오른쪽,높은쪽으로 쏠려있음"
   ]
  },
  {
   "cell_type": "code",
   "execution_count": 334,
   "metadata": {
    "vscode": {
     "languageId": "r"
    }
   },
   "outputs": [
    {
     "data": {
      "text/html": [
       "0"
      ],
      "text/latex": [
       "0"
      ],
      "text/markdown": [
       "0"
      ],
      "text/plain": [
       "[1] 0"
      ]
     },
     "metadata": {},
     "output_type": "display_data"
    },
    {
     "name": "stdout",
     "output_type": "stream",
     "text": [
      "년도 : 0 \n",
      "월 : 0 \n",
      "자치구명 : 0 \n",
      "발생건수 : 0 \n",
      "사망자수 : 0 \n",
      "부상자수 : 0 \n"
     ]
    }
   ],
   "source": [
    "# 서울 데이터의 NA 찾기 \n",
    "sum(is.na(seoul)) # 여기서 일차적으로 확인하고 0 이면 패스 , 값이 있으면 컬럼별 NA값을 확인한다\n",
    "\n",
    "for(i in 1: ncol(seoul)){\n",
    "    cat( colnames(seoul)[i], \":\" , sum(is.na(seoul[,i])) ,\"\\n\")\n",
    "}"
   ]
  },
  {
   "cell_type": "markdown",
   "metadata": {},
   "source": [
    "## 컬럼별 데이터 확인"
   ]
  },
  {
   "cell_type": "code",
   "execution_count": 338,
   "metadata": {
    "vscode": {
     "languageId": "r"
    }
   },
   "outputs": [
    {
     "data": {
      "text/plain": [
       "\n",
       "2011 2012 2013 2014 2015 2016 2017 2018 2019 \n",
       " 300  300  300  300  300  300  300  300  300 "
      ]
     },
     "metadata": {},
     "output_type": "display_data"
    },
    {
     "data": {
      "text/plain": [
       "\n",
       "  1   2   3   4   5   6   7   8   9  10  11  12 \n",
       "225 225 225 225 225 225 225 225 225 225 225 225 "
      ]
     },
     "metadata": {},
     "output_type": "display_data"
    },
    {
     "data": {
      "text/plain": [
       "\n",
       "  강남구   강동구   강북구   강서구   관악구   광진구   구로구   금천구 \n",
       "     108      108      108      108      108      108      108      108 \n",
       "  노원구   도봉구 동대문구   동작구   마포구 서대문구   서초구   성동구 \n",
       "     108      108      108      108      108      108      108      108 \n",
       "  성북구   송파구   양천구 영등포구   용산구   은평구   종로구     중구 \n",
       "     108      108      108      108      108      108      108      108 \n",
       "  중랑구 \n",
       "     108 "
      ]
     },
     "metadata": {},
     "output_type": "display_data"
    }
   ],
   "source": [
    "# 년도별 데이터가 동일한지 확인\n",
    "table(seoul$년도)\n",
    "\n",
    "# 월 별\n",
    "table(seoul$월)\n",
    "\n",
    "# 자치구 별\n",
    "table(seoul$자치구)\n",
    "\n"
   ]
  },
  {
   "cell_type": "markdown",
   "metadata": {},
   "source": [
    "## 분석 시작"
   ]
  },
  {
   "cell_type": "code",
   "execution_count": 348,
   "metadata": {
    "vscode": {
     "languageId": "r"
    }
   },
   "outputs": [
    {
     "data": {
      "text/html": [
       "<table>\n",
       "<thead><tr><th scope=col>자치구명</th><th scope=col>발생건수</th></tr></thead>\n",
       "<tbody>\n",
       "\t<tr><td>강남구  </td><td>306.3611</td></tr>\n",
       "\t<tr><td>강동구  </td><td>118.5370</td></tr>\n",
       "\t<tr><td>강북구  </td><td>101.7870</td></tr>\n",
       "\t<tr><td>강서구  </td><td>145.4722</td></tr>\n",
       "\t<tr><td>관악구  </td><td>128.3889</td></tr>\n",
       "\t<tr><td>광진구  </td><td>103.0741</td></tr>\n",
       "</tbody>\n",
       "</table>\n"
      ],
      "text/latex": [
       "\\begin{tabular}{r|ll}\n",
       " 자치구명 & 발생건수\\\\\n",
       "\\hline\n",
       "\t 강남구   & 306.3611\\\\\n",
       "\t 강동구   & 118.5370\\\\\n",
       "\t 강북구   & 101.7870\\\\\n",
       "\t 강서구   & 145.4722\\\\\n",
       "\t 관악구   & 128.3889\\\\\n",
       "\t 광진구   & 103.0741\\\\\n",
       "\\end{tabular}\n"
      ],
      "text/markdown": [
       "\n",
       "| 자치구명 | 발생건수 |\n",
       "|---|---|\n",
       "| 강남구   | 306.3611 |\n",
       "| 강동구   | 118.5370 |\n",
       "| 강북구   | 101.7870 |\n",
       "| 강서구   | 145.4722 |\n",
       "| 관악구   | 128.3889 |\n",
       "| 광진구   | 103.0741 |\n",
       "\n"
      ],
      "text/plain": [
       "  자치구명 발생건수\n",
       "1 강남구   306.3611\n",
       "2 강동구   118.5370\n",
       "3 강북구   101.7870\n",
       "4 강서구   145.4722\n",
       "5 관악구   128.3889\n",
       "6 광진구   103.0741"
      ]
     },
     "metadata": {},
     "output_type": "display_data"
    }
   ],
   "source": [
    "# 자치구별 발생건수의 평균\n",
    "regionAcc.mean <- aggregate( 발생건수 ~ 자치구명, seoul , mean)\n",
    "head(regionAcc.mean)"
   ]
  },
  {
   "cell_type": "code",
   "execution_count": 351,
   "metadata": {
    "vscode": {
     "languageId": "r"
    }
   },
   "outputs": [
    {
     "data": {
      "text/html": [
       "<table>\n",
       "<thead><tr><th scope=col>자치구명</th><th scope=col>발생건수</th></tr></thead>\n",
       "<tbody>\n",
       "\t<tr><td>강남구   </td><td>306.36111</td></tr>\n",
       "\t<tr><td>송파구   </td><td>224.75926</td></tr>\n",
       "\t<tr><td>영등포구 </td><td>194.64815</td></tr>\n",
       "\t<tr><td>서초구   </td><td>186.48148</td></tr>\n",
       "\t<tr><td>동대문구 </td><td>153.64815</td></tr>\n",
       "\t<tr><td>강서구   </td><td>145.47222</td></tr>\n",
       "\t<tr><td>마포구   </td><td>141.51852</td></tr>\n",
       "\t<tr><td>중랑구   </td><td>138.46296</td></tr>\n",
       "\t<tr><td>성북구   </td><td>130.85185</td></tr>\n",
       "\t<tr><td>노원구   </td><td>129.21296</td></tr>\n",
       "\t<tr><td>관악구   </td><td>128.38889</td></tr>\n",
       "\t<tr><td>구로구   </td><td>126.09259</td></tr>\n",
       "\t<tr><td>양천구   </td><td>120.68519</td></tr>\n",
       "\t<tr><td>강동구   </td><td>118.53704</td></tr>\n",
       "\t<tr><td>동작구   </td><td>112.64815</td></tr>\n",
       "\t<tr><td>용산구   </td><td>110.29630</td></tr>\n",
       "\t<tr><td>중구     </td><td>110.11111</td></tr>\n",
       "\t<tr><td>종로구   </td><td>106.97222</td></tr>\n",
       "\t<tr><td>은평구   </td><td>104.32407</td></tr>\n",
       "\t<tr><td>광진구   </td><td>103.07407</td></tr>\n",
       "\t<tr><td>강북구   </td><td>101.78704</td></tr>\n",
       "\t<tr><td>성동구   </td><td> 93.19444</td></tr>\n",
       "\t<tr><td>서대문구 </td><td> 89.71296</td></tr>\n",
       "\t<tr><td>금천구   </td><td> 78.69444</td></tr>\n",
       "\t<tr><td>도봉구   </td><td> 76.40741</td></tr>\n",
       "</tbody>\n",
       "</table>\n"
      ],
      "text/latex": [
       "\\begin{tabular}{r|ll}\n",
       " 자치구명 & 발생건수\\\\\n",
       "\\hline\n",
       "\t 강남구    & 306.36111\\\\\n",
       "\t 송파구    & 224.75926\\\\\n",
       "\t 영등포구  & 194.64815\\\\\n",
       "\t 서초구    & 186.48148\\\\\n",
       "\t 동대문구  & 153.64815\\\\\n",
       "\t 강서구    & 145.47222\\\\\n",
       "\t 마포구    & 141.51852\\\\\n",
       "\t 중랑구    & 138.46296\\\\\n",
       "\t 성북구    & 130.85185\\\\\n",
       "\t 노원구    & 129.21296\\\\\n",
       "\t 관악구    & 128.38889\\\\\n",
       "\t 구로구    & 126.09259\\\\\n",
       "\t 양천구    & 120.68519\\\\\n",
       "\t 강동구    & 118.53704\\\\\n",
       "\t 동작구    & 112.64815\\\\\n",
       "\t 용산구    & 110.29630\\\\\n",
       "\t 중구      & 110.11111\\\\\n",
       "\t 종로구    & 106.97222\\\\\n",
       "\t 은평구    & 104.32407\\\\\n",
       "\t 광진구    & 103.07407\\\\\n",
       "\t 강북구    & 101.78704\\\\\n",
       "\t 성동구    &  93.19444\\\\\n",
       "\t 서대문구  &  89.71296\\\\\n",
       "\t 금천구    &  78.69444\\\\\n",
       "\t 도봉구    &  76.40741\\\\\n",
       "\\end{tabular}\n"
      ],
      "text/markdown": [
       "\n",
       "| 자치구명 | 발생건수 |\n",
       "|---|---|\n",
       "| 강남구    | 306.36111 |\n",
       "| 송파구    | 224.75926 |\n",
       "| 영등포구  | 194.64815 |\n",
       "| 서초구    | 186.48148 |\n",
       "| 동대문구  | 153.64815 |\n",
       "| 강서구    | 145.47222 |\n",
       "| 마포구    | 141.51852 |\n",
       "| 중랑구    | 138.46296 |\n",
       "| 성북구    | 130.85185 |\n",
       "| 노원구    | 129.21296 |\n",
       "| 관악구    | 128.38889 |\n",
       "| 구로구    | 126.09259 |\n",
       "| 양천구    | 120.68519 |\n",
       "| 강동구    | 118.53704 |\n",
       "| 동작구    | 112.64815 |\n",
       "| 용산구    | 110.29630 |\n",
       "| 중구      | 110.11111 |\n",
       "| 종로구    | 106.97222 |\n",
       "| 은평구    | 104.32407 |\n",
       "| 광진구    | 103.07407 |\n",
       "| 강북구    | 101.78704 |\n",
       "| 성동구    |  93.19444 |\n",
       "| 서대문구  |  89.71296 |\n",
       "| 금천구    |  78.69444 |\n",
       "| 도봉구    |  76.40741 |\n",
       "\n"
      ],
      "text/plain": [
       "   자치구명 발생건수 \n",
       "1  강남구   306.36111\n",
       "2  송파구   224.75926\n",
       "3  영등포구 194.64815\n",
       "4  서초구   186.48148\n",
       "5  동대문구 153.64815\n",
       "6  강서구   145.47222\n",
       "7  마포구   141.51852\n",
       "8  중랑구   138.46296\n",
       "9  성북구   130.85185\n",
       "10 노원구   129.21296\n",
       "11 관악구   128.38889\n",
       "12 구로구   126.09259\n",
       "13 양천구   120.68519\n",
       "14 강동구   118.53704\n",
       "15 동작구   112.64815\n",
       "16 용산구   110.29630\n",
       "17 중구     110.11111\n",
       "18 종로구   106.97222\n",
       "19 은평구   104.32407\n",
       "20 광진구   103.07407\n",
       "21 강북구   101.78704\n",
       "22 성동구    93.19444\n",
       "23 서대문구  89.71296\n",
       "24 금천구    78.69444\n",
       "25 도봉구    76.40741"
      ]
     },
     "metadata": {},
     "output_type": "display_data"
    }
   ],
   "source": [
    "# regionAcc.mean을 발생건수 기준으로 내림차순 정렬하기\n",
    "arrange(regionAcc.mean, desc(발생건수))\n",
    "# 평균값을 믿어도 되는지 ?"
   ]
  },
  {
   "cell_type": "markdown",
   "metadata": {},
   "source": [
    "> 4/28  수업 끗"
   ]
  }
 ],
 "metadata": {
  "kernelspec": {
   "display_name": "R",
   "language": "R",
   "name": "ir"
  },
  "language_info": {
   "codemirror_mode": "r",
   "file_extension": ".r",
   "mimetype": "text/x-r-source",
   "name": "R",
   "pygments_lexer": "r",
   "version": "3.6.1"
  },
  "orig_nbformat": 4
 },
 "nbformat": 4,
 "nbformat_minor": 2
}
