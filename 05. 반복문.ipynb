{
 "cells": [
  {
   "cell_type": "markdown",
   "metadata": {},
   "source": [
    "# for 문"
   ]
  },
  {
   "cell_type": "code",
   "execution_count": 26,
   "metadata": {
    "vscode": {
     "languageId": "r"
    }
   },
   "outputs": [
    {
     "name": "stdout",
     "output_type": "stream",
     "text": [
      "[1] 1\n",
      "[1] 2\n",
      "[1] 3\n",
      "[1] 4\n",
      "[1] 5\n",
      "[1] 6\n",
      "[1] 7\n",
      "[1] 8\n",
      "[1] 9\n",
      "[1] 10\n"
     ]
    }
   ],
   "source": [
    "# 1 ~ 10 까지의 숫자 출력\n",
    "\n",
    "for (i in 1:10){\n",
    "    print(i)\n",
    "} # 1개 짜리 벡터가 10개 생김"
   ]
  },
  {
   "cell_type": "code",
   "execution_count": 27,
   "metadata": {
    "vscode": {
     "languageId": "r"
    }
   },
   "outputs": [
    {
     "name": "stdout",
     "output_type": "stream",
     "text": [
      "[1] 1\n",
      "[1] 3\n",
      "[1] 5\n"
     ]
    }
   ],
   "source": [
    "for ( i in c(1,3,5)){\n",
    "    print(i)\n",
    "}"
   ]
  },
  {
   "cell_type": "code",
   "execution_count": 28,
   "metadata": {
    "vscode": {
     "languageId": "r"
    }
   },
   "outputs": [
    {
     "name": "stdout",
     "output_type": "stream",
     "text": [
      "[1] 1\n",
      "[1] 3\n",
      "[1] 5\n",
      "[1] 7\n",
      "[1] 9\n"
     ]
    }
   ],
   "source": [
    "for (i in seq(1,10,2)){\n",
    "    print(i)\n",
    "}"
   ]
  },
  {
   "cell_type": "code",
   "execution_count": 29,
   "metadata": {
    "vscode": {
     "languageId": "r"
    }
   },
   "outputs": [
    {
     "name": "stdout",
     "output_type": "stream",
     "text": [
      "[1] 1\n",
      "[1] 1.414214\n",
      "[1] 1.732051\n",
      "[1] 2\n",
      "[1] 2.236068\n",
      "[1] 2.44949\n",
      "[1] 2.645751\n",
      "[1] 2.828427\n",
      "[1] 3\n",
      "[1] 3.162278\n"
     ]
    }
   ],
   "source": [
    "# 1~10까지의 제곱근 구하기\n",
    "for(i in 1:10){\n",
    "    print(sqrt(i))\n",
    "}"
   ]
  },
  {
   "cell_type": "code",
   "execution_count": 75,
   "metadata": {
    "vscode": {
     "languageId": "r"
    }
   },
   "outputs": [
    {
     "name": "stdout",
     "output_type": "stream",
     "text": [
      "1 => 1 \n",
      "2 => 1.414214 \n",
      "3 => 1.732051 \n",
      "4 => 2 \n",
      "5 => 2.236068 \n",
      "6 => 2.44949 \n",
      "7 => 2.645751 \n",
      "8 => 2.828427 \n",
      "9 => 3 \n",
      "10 => 3.162278 \n"
     ]
    },
    {
     "data": {
      "text/html": [
       "<ol class=list-inline>\n",
       "\t<li>0</li>\n",
       "\t<li>3.16227766016838</li>\n",
       "</ol>\n"
      ],
      "text/latex": [
       "\\begin{enumerate*}\n",
       "\\item 0\n",
       "\\item 3.16227766016838\n",
       "\\end{enumerate*}\n"
      ],
      "text/markdown": [
       "1. 0\n",
       "2. 3.16227766016838\n",
       "\n",
       "\n"
      ],
      "text/plain": [
       "[1] 0.000000 3.162278"
      ]
     },
     "metadata": {},
     "output_type": "display_data"
    }
   ],
   "source": [
    "# i => sqrt(i) 형태로 출력\n",
    "for(i in 1:10){\n",
    "    cat(i ,\"=>\" , sqrt(i), \"\\n\")\n",
    "}\n"
   ]
  },
  {
   "cell_type": "code",
   "execution_count": 42,
   "metadata": {
    "vscode": {
     "languageId": "r"
    }
   },
   "outputs": [
    {
     "data": {
      "text/html": [
       "<table>\n",
       "<thead><tr><th scope=col>q1</th><th scope=col>q2</th><th scope=col>q3</th><th scope=col>q4</th><th scope=col>q5</th></tr></thead>\n",
       "<tbody>\n",
       "\t<tr><td>2</td><td>4</td><td>4</td><td>2</td><td>2</td></tr>\n",
       "\t<tr><td>1</td><td>2</td><td>2</td><td>2</td><td>2</td></tr>\n",
       "\t<tr><td>2</td><td>3</td><td>4</td><td>3</td><td>3</td></tr>\n",
       "\t<tr><td>3</td><td>5</td><td>5</td><td>3</td><td>3</td></tr>\n",
       "\t<tr><td>3</td><td>2</td><td>4</td><td>4</td><td>4</td></tr>\n",
       "\t<tr><td>4</td><td>3</td><td>3</td><td>4</td><td>2</td></tr>\n",
       "</tbody>\n",
       "</table>\n"
      ],
      "text/latex": [
       "\\begin{tabular}{r|lllll}\n",
       " q1 & q2 & q3 & q4 & q5\\\\\n",
       "\\hline\n",
       "\t 2 & 4 & 4 & 2 & 2\\\\\n",
       "\t 1 & 2 & 2 & 2 & 2\\\\\n",
       "\t 2 & 3 & 4 & 3 & 3\\\\\n",
       "\t 3 & 5 & 5 & 3 & 3\\\\\n",
       "\t 3 & 2 & 4 & 4 & 4\\\\\n",
       "\t 4 & 3 & 3 & 4 & 2\\\\\n",
       "\\end{tabular}\n"
      ],
      "text/markdown": [
       "\n",
       "| q1 | q2 | q3 | q4 | q5 |\n",
       "|---|---|---|---|---|\n",
       "| 2 | 4 | 4 | 2 | 2 |\n",
       "| 1 | 2 | 2 | 2 | 2 |\n",
       "| 2 | 3 | 4 | 3 | 3 |\n",
       "| 3 | 5 | 5 | 3 | 3 |\n",
       "| 3 | 2 | 4 | 4 | 4 |\n",
       "| 4 | 3 | 3 | 4 | 2 |\n",
       "\n"
      ],
      "text/plain": [
       "  q1 q2 q3 q4 q5\n",
       "1 2  4  4  2  2 \n",
       "2 1  2  2  2  2 \n",
       "3 2  3  4  3  3 \n",
       "4 3  5  5  3  3 \n",
       "5 3  2  4  4  4 \n",
       "6 4  3  3  4  2 "
      ]
     },
     "metadata": {},
     "output_type": "display_data"
    }
   ],
   "source": [
    "excel <- read.csv(\"../Data/excel.csv\" )\n",
    "head(excel)"
   ]
  },
  {
   "cell_type": "code",
   "execution_count": 47,
   "metadata": {
    "vscode": {
     "languageId": "r"
    }
   },
   "outputs": [
    {
     "name": "stdout",
     "output_type": "stream",
     "text": [
      "홀수의 합은 604 이고 짝수의 합은 852 입니다."
     ]
    }
   ],
   "source": [
    "# excel 에서 q3 컬럼 데이터의 홀수의 합과 짝수의 합 구하기\n",
    "# '홀수의 합은 604이고 짝수의 합은 852입니다.'\n",
    "\n",
    "sumEven <- 0\n",
    "sumOdd <- 0\n",
    "\n",
    "for(i in excel$q3){\n",
    "    if(i %% 2 == 0){\n",
    "        sumEven = sumEven + i\n",
    "    }else{\n",
    "        sumOdd = sumOdd + i\n",
    "    }\n",
    "}\n",
    "cat(\"홀수의 합은\" , sumOdd, \"이고 짝수의 합은\", sumEven, \"입니다.\")"
   ]
  },
  {
   "cell_type": "code",
   "execution_count": 50,
   "metadata": {
    "vscode": {
     "languageId": "r"
    }
   },
   "outputs": [
    {
     "name": "stdout",
     "output_type": "stream",
     "text": [
      "q3컬럼 중 3의 배수의 합 : 216"
     ]
    }
   ],
   "source": [
    "# excel 에서 q3 컬럼 데이터 중 3의 배수의 합계 구하기\n",
    "\n",
    "sumT <- 0\n",
    "for(i in excel$q3){\n",
    "    if(i %% 3 == 0){\n",
    "        sumT = sumT + i\n",
    "    }\n",
    "}\n",
    "cat(\"q3컬럼 중 3의 배수의 합 :\", sumT)"
   ]
  },
  {
   "cell_type": "code",
   "execution_count": 58,
   "metadata": {
    "vscode": {
     "languageId": "r"
    }
   },
   "outputs": [
    {
     "name": "stdout",
     "output_type": "stream",
     "text": [
      "q3컬럼 중 3 과 4 배수의 합 : 0"
     ]
    },
    {
     "data": {
      "text/html": [
       "5"
      ],
      "text/latex": [
       "5"
      ],
      "text/markdown": [
       "5"
      ],
      "text/plain": [
       "[1] 5"
      ]
     },
     "metadata": {},
     "output_type": "display_data"
    }
   ],
   "source": [
    "# excel 에서 q3 컬럼 데이터 중 3의 배수도 되고 4의 배수도 되는 수의 합계 구하기\n",
    "\n",
    "sum1 <- 0\n",
    "for(i in excel$q3){\n",
    "    if(i %% 3 == 0 & i %% 4 == 0){\n",
    "        sum1 = sum1 + i\n",
    "    }\n",
    "}\n",
    "cat(\"q3컬럼 중 3 과 4 배수의 합 :\", sum1)\n",
    "max(excel$q3) # 최소공배수 12를 넘는 값이 없다 "
   ]
  },
  {
   "cell_type": "code",
   "execution_count": 70,
   "metadata": {
    "vscode": {
     "languageId": "r"
    }
   },
   "outputs": [
    {
     "name": "stdout",
     "output_type": "stream",
     "text": [
      "2 X 1 = 2 \n",
      "2 X 2 = 4 \n",
      "2 X 3 = 6 \n",
      "2 X 4 = 8 \n",
      "2 X 5 = 10 \n",
      "2 X 6 = 12 \n",
      "2 X 7 = 14 \n",
      "2 X 8 = 16 \n",
      "2 X 9 = 18 \n"
     ]
    }
   ],
   "source": [
    "# 구구단 2단 출력하기\n",
    "for(i in 1:9){\n",
    "    cat(\"2 X\", i, \"=\", i*2, \"\\n\")\n",
    "}"
   ]
  },
  {
   "cell_type": "code",
   "execution_count": 76,
   "metadata": {
    "vscode": {
     "languageId": "r"
    }
   },
   "outputs": [
    {
     "name": "stdout",
     "output_type": "stream",
     "text": [
      "5 X 1 = 5 \n",
      "5 X 2 = 10 \n",
      "5 X 3 = 15 \n",
      "5 X 4 = 20 \n",
      "5 X 5 = 25 \n",
      "5 X 6 = 30 \n",
      "5 X 7 = 35 \n",
      "5 X 8 = 40 \n",
      "5 X 9 = 45 \n"
     ]
    }
   ],
   "source": [
    "# 사용자로 부터 몇단을 출력할지 단수를 입력받아 구구단 출력하기 \n",
    "# 단을 입력하세요 \n",
    "num1 <- as.integer(readline(\"단을 입력하세요:\"))\n",
    "for(i in 1:9){\n",
    "    cat(num1 , \"X\", i, \"=\", i*num1, \"\\n\")\n",
    "}"
   ]
  },
  {
   "cell_type": "code",
   "execution_count": 97,
   "metadata": {
    "vscode": {
     "languageId": "r"
    }
   },
   "outputs": [
    {
     "name": "stdout",
     "output_type": "stream",
     "text": [
      "[1] \"2 X 1 = 2\"  \"2 X 2 = 4\"  \"2 X 3 = 6\"  \"2 X 4 = 8\"  \"2 X 5 = 10\"\n",
      "[6] \"2 X 6 = 12\" \"2 X 7 = 14\" \"2 X 8 = 16\" \"2 X 9 = 18\"\n"
     ]
    },
    {
     "data": {
      "text/html": [
       "<ol class=list-inline>\n",
       "\t<li>'2 X 1 = 2'</li>\n",
       "\t<li>'2 X 2 = 4'</li>\n",
       "\t<li>'2 X 3 = 6'</li>\n",
       "\t<li>'2 X 4 = 8'</li>\n",
       "\t<li>'2 X 5 = 10'</li>\n",
       "\t<li>'2 X 6 = 12'</li>\n",
       "\t<li>'2 X 7 = 14'</li>\n",
       "\t<li>'2 X 8 = 16'</li>\n",
       "\t<li>'2 X 9 = 18'</li>\n",
       "</ol>\n"
      ],
      "text/latex": [
       "\\begin{enumerate*}\n",
       "\\item '2 X 1 = 2'\n",
       "\\item '2 X 2 = 4'\n",
       "\\item '2 X 3 = 6'\n",
       "\\item '2 X 4 = 8'\n",
       "\\item '2 X 5 = 10'\n",
       "\\item '2 X 6 = 12'\n",
       "\\item '2 X 7 = 14'\n",
       "\\item '2 X 8 = 16'\n",
       "\\item '2 X 9 = 18'\n",
       "\\end{enumerate*}\n"
      ],
      "text/markdown": [
       "1. '2 X 1 = 2'\n",
       "2. '2 X 2 = 4'\n",
       "3. '2 X 3 = 6'\n",
       "4. '2 X 4 = 8'\n",
       "5. '2 X 5 = 10'\n",
       "6. '2 X 6 = 12'\n",
       "7. '2 X 7 = 14'\n",
       "8. '2 X 8 = 16'\n",
       "9. '2 X 9 = 18'\n",
       "\n",
       "\n"
      ],
      "text/plain": [
       "[1] \"2 X 1 = 2\"  \"2 X 2 = 4\"  \"2 X 3 = 6\"  \"2 X 4 = 8\"  \"2 X 5 = 10\"\n",
       "[6] \"2 X 6 = 12\" \"2 X 7 = 14\" \"2 X 8 = 16\" \"2 X 9 = 18\""
      ]
     },
     "metadata": {},
     "output_type": "display_data"
    }
   ],
   "source": [
    "# 나혼자 그냥 해보는 연습@@@\n",
    "\n",
    "a = c() # 빈 벡터만들기\n",
    "# a 벡터에 반복문 결과 값을 데이터로 넣기! \n",
    "for(i in 1:9){\n",
    "    a = c(a , paste(\"2 X\", i, \"=\", i*2))\n",
    "}\n",
    "print(a)"
   ]
  },
  {
   "cell_type": "markdown",
   "metadata": {},
   "source": [
    "### 함수 만들기 (function)\n",
    "- java method와 같음\n",
    "- package로 완성 - function이 모여서 - code가 모여서"
   ]
  },
  {
   "cell_type": "code",
   "execution_count": 90,
   "metadata": {
    "vscode": {
     "languageId": "r"
    }
   },
   "outputs": [],
   "source": [
    "# 구구단 함수 만들기 - 1 \n",
    "gugu <- function(){\n",
    "    dan <- as.integer(readline(\"단을 입력하세요:\"))\n",
    "    for(i in 1:9){\n",
    "        cat(dan , \"X\", i, \"=\", i*dan, \"\\n\")\n",
    "    }\n",
    "}"
   ]
  },
  {
   "cell_type": "code",
   "execution_count": 91,
   "metadata": {
    "vscode": {
     "languageId": "r"
    }
   },
   "outputs": [
    {
     "name": "stdout",
     "output_type": "stream",
     "text": [
      "3 X 1 = 3 \n",
      "3 X 2 = 6 \n",
      "3 X 3 = 9 \n",
      "3 X 4 = 12 \n",
      "3 X 5 = 15 \n",
      "3 X 6 = 18 \n",
      "3 X 7 = 21 \n",
      "3 X 8 = 24 \n",
      "3 X 9 = 27 \n"
     ]
    }
   ],
   "source": [
    "gugu()"
   ]
  },
  {
   "cell_type": "code",
   "execution_count": 92,
   "metadata": {
    "vscode": {
     "languageId": "r"
    }
   },
   "outputs": [],
   "source": [
    "# 구구단 함수 만들기 - 2\n",
    "gugu <- function(dan){\n",
    "    for(i in 1:9){\n",
    "        cat(dan , \"X\", i, \"=\", i*dan, \"\\n\")\n",
    "    }\n",
    "}"
   ]
  },
  {
   "cell_type": "code",
   "execution_count": 94,
   "metadata": {
    "vscode": {
     "languageId": "r"
    }
   },
   "outputs": [
    {
     "name": "stdout",
     "output_type": "stream",
     "text": [
      "5 X 1 = 5 \n",
      "5 X 2 = 10 \n",
      "5 X 3 = 15 \n",
      "5 X 4 = 20 \n",
      "5 X 5 = 25 \n",
      "5 X 6 = 30 \n",
      "5 X 7 = 35 \n",
      "5 X 8 = 40 \n",
      "5 X 9 = 45 \n"
     ]
    }
   ],
   "source": [
    "gugu(5)"
   ]
  },
  {
   "cell_type": "code",
   "execution_count": 95,
   "metadata": {
    "vscode": {
     "languageId": "r"
    }
   },
   "outputs": [],
   "source": [
    "# 구구단 함수 만들기 - 3\n",
    "gugu <- function(dan, x){\n",
    "    for(i in 1:x){\n",
    "        cat(dan , \"X\", i, \"=\", i*dan, \"\\n\")\n",
    "    }\n",
    "}"
   ]
  },
  {
   "cell_type": "code",
   "execution_count": 96,
   "metadata": {
    "vscode": {
     "languageId": "r"
    }
   },
   "outputs": [
    {
     "name": "stdout",
     "output_type": "stream",
     "text": [
      "2 X 1 = 2 \n",
      "2 X 2 = 4 \n",
      "2 X 3 = 6 \n",
      "2 X 4 = 8 \n",
      "2 X 5 = 10 \n",
      "2 X 6 = 12 \n",
      "2 X 7 = 14 \n",
      "2 X 8 = 16 \n",
      "2 X 9 = 18 \n",
      "2 X 10 = 20 \n",
      "2 X 11 = 22 \n",
      "2 X 12 = 24 \n"
     ]
    }
   ],
   "source": [
    "gugu(2,12)"
   ]
  },
  {
   "cell_type": "code",
   "execution_count": 103,
   "metadata": {
    "vscode": {
     "languageId": "r"
    }
   },
   "outputs": [
    {
     "name": "stdout",
     "output_type": "stream",
     "text": [
      "2 X 1 = 2 \n",
      "2 X 2 = 4 \n",
      "2 X 3 = 6 \n",
      "2 X 4 = 8 \n",
      "2 X 5 = 10 \n",
      "2 X 6 = 12 \n",
      "2 X 7 = 14 \n",
      "2 X 8 = 16 \n",
      "2 X 9 = 18 \n",
      "-------------- \n",
      "3 X 1 = 3 \n",
      "3 X 2 = 6 \n",
      "3 X 3 = 9 \n",
      "3 X 4 = 12 \n",
      "3 X 5 = 15 \n",
      "3 X 6 = 18 \n",
      "3 X 7 = 21 \n",
      "3 X 8 = 24 \n",
      "3 X 9 = 27 \n",
      "-------------- \n",
      "4 X 1 = 4 \n",
      "4 X 2 = 8 \n",
      "4 X 3 = 12 \n",
      "4 X 4 = 16 \n",
      "4 X 5 = 20 \n",
      "4 X 6 = 24 \n",
      "4 X 7 = 28 \n",
      "4 X 8 = 32 \n",
      "4 X 9 = 36 \n",
      "-------------- \n",
      "5 X 1 = 5 \n",
      "5 X 2 = 10 \n",
      "5 X 3 = 15 \n",
      "5 X 4 = 20 \n",
      "5 X 5 = 25 \n",
      "5 X 6 = 30 \n",
      "5 X 7 = 35 \n",
      "5 X 8 = 40 \n",
      "5 X 9 = 45 \n",
      "-------------- \n",
      "6 X 1 = 6 \n",
      "6 X 2 = 12 \n",
      "6 X 3 = 18 \n",
      "6 X 4 = 24 \n",
      "6 X 5 = 30 \n",
      "6 X 6 = 36 \n",
      "6 X 7 = 42 \n",
      "6 X 8 = 48 \n",
      "6 X 9 = 54 \n",
      "-------------- \n",
      "7 X 1 = 7 \n",
      "7 X 2 = 14 \n",
      "7 X 3 = 21 \n",
      "7 X 4 = 28 \n",
      "7 X 5 = 35 \n",
      "7 X 6 = 42 \n",
      "7 X 7 = 49 \n",
      "7 X 8 = 56 \n",
      "7 X 9 = 63 \n",
      "-------------- \n",
      "8 X 1 = 8 \n",
      "8 X 2 = 16 \n",
      "8 X 3 = 24 \n",
      "8 X 4 = 32 \n",
      "8 X 5 = 40 \n",
      "8 X 6 = 48 \n",
      "8 X 7 = 56 \n",
      "8 X 8 = 64 \n",
      "8 X 9 = 72 \n",
      "-------------- \n",
      "9 X 1 = 9 \n",
      "9 X 2 = 18 \n",
      "9 X 3 = 27 \n",
      "9 X 4 = 36 \n",
      "9 X 5 = 45 \n",
      "9 X 6 = 54 \n",
      "9 X 7 = 63 \n",
      "9 X 8 = 72 \n",
      "9 X 9 = 81 \n",
      "-------------- \n"
     ]
    }
   ],
   "source": [
    "# 구구단 전체 출력하기\n",
    "for(j in 2:9){\n",
    "    for(i in 1:9){\n",
    "        cat(j , \"X\", i, \"=\", i*j, \"\\n\")\n",
    "    }\n",
    "    cat('--------------',\"\\n\")\n",
    "}"
   ]
  },
  {
   "cell_type": "code",
   "execution_count": 111,
   "metadata": {
    "vscode": {
     "languageId": "r"
    }
   },
   "outputs": [
    {
     "name": "stdout",
     "output_type": "stream",
     "text": [
      "2 X 2 = 4 \n",
      "2 X 4 = 8 \n",
      "2 X 6 = 12 \n",
      "2 X 8 = 16 \n",
      "-------------- \n",
      "4 X 2 = 8 \n",
      "4 X 4 = 16 \n",
      "4 X 6 = 24 \n",
      "4 X 8 = 32 \n",
      "-------------- \n",
      "6 X 2 = 12 \n",
      "6 X 4 = 24 \n",
      "6 X 6 = 36 \n",
      "6 X 8 = 48 \n",
      "-------------- \n",
      "8 X 2 = 16 \n",
      "8 X 4 = 32 \n",
      "8 X 6 = 48 \n",
      "8 X 8 = 64 \n",
      "-------------- \n",
      "1 X 1 = 1 \n",
      "1 X 3 = 3 \n",
      "1 X 5 = 5 \n",
      "1 X 7 = 7 \n",
      "1 X 9 = 9 \n",
      "-------------- \n",
      "3 X 1 = 3 \n",
      "3 X 3 = 9 \n",
      "3 X 5 = 15 \n",
      "3 X 7 = 21 \n",
      "3 X 9 = 27 \n",
      "-------------- \n",
      "5 X 1 = 5 \n",
      "5 X 3 = 15 \n",
      "5 X 5 = 25 \n",
      "5 X 7 = 35 \n",
      "5 X 9 = 45 \n",
      "-------------- \n",
      "7 X 1 = 7 \n",
      "7 X 3 = 21 \n",
      "7 X 5 = 35 \n",
      "7 X 7 = 49 \n",
      "7 X 9 = 63 \n",
      "-------------- \n",
      "9 X 1 = 9 \n",
      "9 X 3 = 27 \n",
      "9 X 5 = 45 \n",
      "9 X 7 = 63 \n",
      "9 X 9 = 81 \n",
      "-------------- \n"
     ]
    }
   ],
   "source": [
    "# 구구단 곱하는 값이 짝수인 단 출력하기\n",
    "for(j in seq(2,9,2)){\n",
    "    for(i in seq(2,9,2)){\n",
    "        cat(j , \"X\", i, \"=\", i*j, \"\\n\")\n",
    "    }\n",
    "    cat('--------------',\"\\n\")\n",
    "}\n",
    "\n",
    "# 구구단 곱하는 값이 홀수인 단 출력하기\n",
    "for(j in seq(1,9,2)){\n",
    "    for(i in seq(1,9,2)){\n",
    "        cat(j , \"X\", i, \"=\", i*j, \"\\n\")\n",
    "    }\n",
    "    cat('--------------',\"\\n\")\n",
    "}"
   ]
  },
  {
   "cell_type": "code",
   "execution_count": 154,
   "metadata": {
    "vscode": {
     "languageId": "r"
    }
   },
   "outputs": [
    {
     "name": "stdout",
     "output_type": "stream",
     "text": [
      "2 X 2 = 4 \n",
      "4 X 4 = 16 \n",
      "6 X 6 = 36 \n",
      "8 X 8 = 64 \n",
      "-------------- \n"
     ]
    }
   ],
   "source": [
    "# for 문 하나로 구구단 곱하는 값이 짝수인 단 출력하기 ?? \n",
    "a <- seq(2,9,2)\n",
    "j = 0\n",
    "    for(i in seq(2,9,2)){\n",
    "        j = j+1\n",
    "        cat(i , \"X\", a[j] , \"=\", i*i, \"\\n\")\n",
    "    }\n",
    "    cat('--------------',\"\\n\")\n"
   ]
  },
  {
   "cell_type": "code",
   "execution_count": 134,
   "metadata": {
    "vscode": {
     "languageId": "r"
    }
   },
   "outputs": [
    {
     "name": "stdout",
     "output_type": "stream",
     "text": [
      "유비 : 85 \n",
      "관우 : 95 \n",
      "장비 : 89 \n",
      "유비 : 85 \n",
      "관우 : 95 \n",
      "장비 : 89 \n"
     ]
    }
   ],
   "source": [
    "# 2개의 벡터자료를 함께 출력하기\n",
    "score <- c(85, 95, 89)\n",
    "name <- c('유비', '관우', '장비')\n",
    "\n",
    "for(i in 1:length(score)){\n",
    "    cat(name[i], \":\" , score[i] , \"\\n\")\n",
    "}\n",
    "\n",
    "# for 조건이 score 일때 ##있는 부분 채우기 \n",
    "a = 1 ##\n",
    "for(i in score){\n",
    "  cat( name[a],\":\", i , \"\\n\") ##\n",
    "  a = a + 1 ##\n",
    "}\n"
   ]
  },
  {
   "cell_type": "code",
   "execution_count": 147,
   "metadata": {
    "vscode": {
     "languageId": "r"
    }
   },
   "outputs": [
    {
     "name": "stdout",
     "output_type": "stream",
     "text": [
      "유비 : 85 \n",
      "관우 : 95 \n",
      "장비 : 89 \n"
     ]
    }
   ],
   "source": [
    "# 위에서 한 것 한줄로 출력하기\n",
    "cat(paste(name,\":\",score,\"\\n\"), sep='')\n",
    "# 벡터 이해하면 for문 몰라도 됨"
   ]
  },
  {
   "cell_type": "markdown",
   "metadata": {},
   "source": [
    "---\n",
    "### while\n",
    "쓸일 없음"
   ]
  },
  {
   "cell_type": "code",
   "execution_count": 149,
   "metadata": {
    "vscode": {
     "languageId": "r"
    }
   },
   "outputs": [
    {
     "name": "stdout",
     "output_type": "stream",
     "text": [
      "[1] 1\n",
      "[1] 2\n",
      "[1] 3\n",
      "[1] 4\n",
      "[1] 5\n",
      "[1] 6\n",
      "[1] 7\n",
      "[1] 8\n",
      "[1] 9\n",
      "[1] 10\n"
     ]
    }
   ],
   "source": [
    "i <- 0\n",
    "while(i < 10){\n",
    "    i =i + 1\n",
    "    print(i)\n",
    "}"
   ]
  },
  {
   "cell_type": "markdown",
   "metadata": {},
   "source": [
    "### repeat\n",
    "시험에 자주 나온다. ()가 없는 유일한 함수, 조건이 if문으로 안에 들어가줘야 \n",
    "<br> 쓸일 없음"
   ]
  },
  {
   "cell_type": "code",
   "execution_count": 151,
   "metadata": {
    "vscode": {
     "languageId": "r"
    }
   },
   "outputs": [
    {
     "name": "stdout",
     "output_type": "stream",
     "text": [
      "[1] 1\n",
      "[1] 2\n",
      "[1] 3\n",
      "[1] 4\n",
      "[1] 5\n",
      "[1] 6\n",
      "[1] 7\n",
      "[1] 8\n",
      "[1] 9\n",
      "[1] 10\n"
     ]
    }
   ],
   "source": [
    "i <- 0\n",
    "repeat{\n",
    "    i = i + 1\n",
    "    if ( i > 10){\n",
    "        break\n",
    "    }\n",
    "    print(i)\n",
    "}"
   ]
  },
  {
   "cell_type": "markdown",
   "metadata": {},
   "source": [
    "---"
   ]
  },
  {
   "cell_type": "code",
   "execution_count": null,
   "metadata": {
    "vscode": {
     "languageId": "r"
    }
   },
   "outputs": [],
   "source": []
  }
 ],
 "metadata": {
  "kernelspec": {
   "display_name": "R",
   "language": "R",
   "name": "ir"
  },
  "language_info": {
   "codemirror_mode": "r",
   "file_extension": ".r",
   "mimetype": "text/x-r-source",
   "name": "R",
   "pygments_lexer": "r",
   "version": "3.6.1"
  },
  "orig_nbformat": 4
 },
 "nbformat": 4,
 "nbformat_minor": 2
}
