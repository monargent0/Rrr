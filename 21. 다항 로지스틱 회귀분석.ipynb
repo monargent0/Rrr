{
 "cells": [
  {
   "cell_type": "markdown",
   "metadata": {},
   "source": [
    "- class분리해주는 함수\n",
    "- 선형 회귀식"
   ]
  },
  {
   "cell_type": "code",
   "execution_count": 4,
   "metadata": {
    "vscode": {
     "languageId": "r"
    }
   },
   "outputs": [
    {
     "name": "stderr",
     "output_type": "stream",
     "text": [
      "Loading required package: lattice\n",
      "Loading required package: ggplot2\n",
      "Registered S3 methods overwritten by 'ggplot2':\n",
      "  method         from \n",
      "  [.quosures     rlang\n",
      "  c.quosures     rlang\n",
      "  print.quosures rlang\n"
     ]
    }
   ],
   "source": [
    "library(nnet)\n",
    "library(caret)"
   ]
  },
  {
   "cell_type": "code",
   "execution_count": 58,
   "metadata": {
    "vscode": {
     "languageId": "r"
    }
   },
   "outputs": [
    {
     "name": "stdout",
     "output_type": "stream",
     "text": [
      "# weights:  18 (10 variable)\n",
      "initial  value 115.354290 \n",
      "iter  10 value 9.849317\n",
      "iter  20 value 5.081824\n",
      "iter  30 value 5.036132\n",
      "iter  40 value 5.034743\n",
      "iter  50 value 5.032756\n",
      "iter  60 value 5.032654\n",
      "iter  70 value 5.032294\n",
      "iter  80 value 5.032246\n",
      "iter  90 value 5.032072\n",
      "iter 100 value 5.031978\n",
      "final  value 5.031978 \n",
      "stopped after 100 iterations\n"
     ]
    },
    {
     "data": {
      "text/html": [
       "1"
      ],
      "text/latex": [
       "1"
      ],
      "text/markdown": [
       "1"
      ],
      "text/plain": [
       "[1] 1"
      ]
     },
     "metadata": {},
     "output_type": "display_data"
    },
    {
     "data": {
      "text/plain": [
       "            y\n",
       "pred         setosa versicolor virginica\n",
       "  setosa         15          0         0\n",
       "  versicolor      0         15         0\n",
       "  virginica       0          0        15"
      ]
     },
     "metadata": {},
     "output_type": "display_data"
    }
   ],
   "source": [
    "# 다항 로지스틱 multinom\n",
    "\n",
    "# 랜덤포레스트,의사결정나무 빼고 모두 표준화를 거쳐야 한다.@@@\n",
    "## 표준화 하고 분석한 값과 표준화 하지 않고 분석 한 값이 비슷하면 표준화를 안해도 좋다. 퍼포먼스 더 좋음\n",
    "\n",
    "# 표준화\n",
    "iris1<- scale(iris[,-5])\n",
    "iris1 <- data.frame(iris1)\n",
    "iris1$Species <- iris$Species\n",
    "\n",
    "# Sampling (공통)\n",
    "# set.seed(1234)\n",
    "samp <- createDataPartition(iris1$Species, p=0.7, list=F) # 0.7 0.75 0.8 정도를 많이 사용. 데이터 많을 때는 0.8 사용 추천\n",
    "# 학습용 데이터 만들기 \n",
    "data.tr <- iris1[samp,]\n",
    "# 검증용 데이터 만들기\n",
    "data.test <- iris1[-samp,]\n",
    "# 문제와 정답 만들기\n",
    "x <- subset(data.test, select = -Species)\n",
    "y <- data.test$Species\n",
    "\n",
    "# 학습시키기\n",
    "model.mt <- multinom(Species ~ ., data = data.tr)\n",
    "\n",
    "# 검증하기\n",
    "pred <- predict(model.mt , x)\n",
    "\n",
    "# 예측율 및 오분류표\n",
    "mean(pred == y)\n",
    "table(pred , y)"
   ]
  },
  {
   "cell_type": "code",
   "execution_count": 59,
   "metadata": {
    "vscode": {
     "languageId": "r"
    }
   },
   "outputs": [
    {
     "name": "stdout",
     "output_type": "stream",
     "text": [
      "# weights:  18 (10 variable)\n",
      "initial  value 115.354290 \n",
      "iter  10 value 12.984872\n",
      "iter  20 value 5.218080\n",
      "iter  30 value 5.098141\n",
      "iter  40 value 5.037008\n",
      "iter  50 value 5.035044\n",
      "iter  60 value 5.031142\n",
      "iter  70 value 5.030474\n",
      "iter  80 value 5.030047\n",
      "final  value 5.030013 \n",
      "converged\n"
     ]
    },
    {
     "data": {
      "text/html": [
       "0.977777777777778"
      ],
      "text/latex": [
       "0.977777777777778"
      ],
      "text/markdown": [
       "0.977777777777778"
      ],
      "text/plain": [
       "[1] 0.9777778"
      ]
     },
     "metadata": {},
     "output_type": "display_data"
    },
    {
     "data": {
      "text/plain": [
       "            y\n",
       "pred         setosa versicolor virginica\n",
       "  setosa         15          0         0\n",
       "  versicolor      0         15         1\n",
       "  virginica       0          0        14"
      ]
     },
     "metadata": {},
     "output_type": "display_data"
    }
   ],
   "source": [
    "## 표준화 안한 데이터 \n",
    "\n",
    "# Sampling (공통)\n",
    "# set.seed(1234)\n",
    "samp <- createDataPartition(iris$Species, p=0.7, list=F) # 0.7 0.75 0.8 정도를 많이 사용. 데이터 많을 때는 0.8 사용 추천\n",
    "# 학습용 데이터 만들기 \n",
    "data.tr <- iris[samp,]\n",
    "# 검증용 데이터 만들기\n",
    "data.test <- iris[-samp,]\n",
    "# 문제와 정답 만들기\n",
    "x <- subset(data.test, select = -Species)\n",
    "y <- data.test$Species\n",
    "\n",
    "# 학습시키기\n",
    "model.mt <- multinom(Species ~ ., data = data.tr)\n",
    "\n",
    "# 검증하기\n",
    "pred <- predict(model.mt , x)\n",
    "\n",
    "# 예측율 및 오분류표\n",
    "mean(pred == y)\n",
    "table(pred , y)"
   ]
  },
  {
   "cell_type": "markdown",
   "metadata": {},
   "source": [
    "> 끗"
   ]
  }
 ],
 "metadata": {
  "kernelspec": {
   "display_name": "R",
   "language": "R",
   "name": "ir"
  },
  "language_info": {
   "codemirror_mode": "r",
   "file_extension": ".r",
   "mimetype": "text/x-r-source",
   "name": "R",
   "pygments_lexer": "r",
   "version": "3.6.1"
  },
  "orig_nbformat": 4
 },
 "nbformat": 4,
 "nbformat_minor": 2
}
