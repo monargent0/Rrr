{
 "cells": [
  {
   "cell_type": "markdown",
   "metadata": {},
   "source": [
    "머신러닝은 파이썬\n",
    "회귀분석과 통계(산포도?)는 R에서 해야한다"
   ]
  },
  {
   "cell_type": "markdown",
   "metadata": {},
   "source": [
    "# 손글씨 인식\n",
    "- 28 X 28 사이즈 패드에 손글씨를 써서 글씨가 써진 부분은 색깔 값이 들어가 있고 빈 부분은 0이다. 따라서 모든 데이터가 의미 있는 값이다.\n",
    "- 첫번째 칼럼은 정답 값, 한 row가 글씨 하나다. 28x28을 한줄로 풀어 쓴것이다.\n",
    "<br>지도학습; 답이 있는걸 학습 , 비지도학습; 답이 없는걸 학습시킴 , 강화학슴 ; 알파고"
   ]
  },
  {
   "cell_type": "code",
   "execution_count": 1,
   "metadata": {
    "vscode": {
     "languageId": "r"
    }
   },
   "outputs": [
    {
     "data": {
      "text/html": [
       "<table>\n",
       "<thead><tr><th scope=col>V1</th><th scope=col>V2</th><th scope=col>V3</th><th scope=col>V4</th><th scope=col>V5</th><th scope=col>V6</th><th scope=col>V7</th><th scope=col>V8</th><th scope=col>V9</th><th scope=col>V10</th><th scope=col>...</th><th scope=col>V776</th><th scope=col>V777</th><th scope=col>V778</th><th scope=col>V779</th><th scope=col>V780</th><th scope=col>V781</th><th scope=col>V782</th><th scope=col>V783</th><th scope=col>V784</th><th scope=col>V785</th></tr></thead>\n",
       "<tbody>\n",
       "\t<tr><td>5  </td><td>0  </td><td>0  </td><td>0  </td><td>0  </td><td>0  </td><td>0  </td><td>0  </td><td>0  </td><td>0  </td><td>...</td><td>0  </td><td>0  </td><td>0  </td><td>0  </td><td>0  </td><td>0  </td><td>0  </td><td>0  </td><td>0  </td><td>0  </td></tr>\n",
       "\t<tr><td>0  </td><td>0  </td><td>0  </td><td>0  </td><td>0  </td><td>0  </td><td>0  </td><td>0  </td><td>0  </td><td>0  </td><td>...</td><td>0  </td><td>0  </td><td>0  </td><td>0  </td><td>0  </td><td>0  </td><td>0  </td><td>0  </td><td>0  </td><td>0  </td></tr>\n",
       "\t<tr><td>4  </td><td>0  </td><td>0  </td><td>0  </td><td>0  </td><td>0  </td><td>0  </td><td>0  </td><td>0  </td><td>0  </td><td>...</td><td>0  </td><td>0  </td><td>0  </td><td>0  </td><td>0  </td><td>0  </td><td>0  </td><td>0  </td><td>0  </td><td>0  </td></tr>\n",
       "\t<tr><td>1  </td><td>0  </td><td>0  </td><td>0  </td><td>0  </td><td>0  </td><td>0  </td><td>0  </td><td>0  </td><td>0  </td><td>...</td><td>0  </td><td>0  </td><td>0  </td><td>0  </td><td>0  </td><td>0  </td><td>0  </td><td>0  </td><td>0  </td><td>0  </td></tr>\n",
       "\t<tr><td>9  </td><td>0  </td><td>0  </td><td>0  </td><td>0  </td><td>0  </td><td>0  </td><td>0  </td><td>0  </td><td>0  </td><td>...</td><td>0  </td><td>0  </td><td>0  </td><td>0  </td><td>0  </td><td>0  </td><td>0  </td><td>0  </td><td>0  </td><td>0  </td></tr>\n",
       "\t<tr><td>2  </td><td>0  </td><td>0  </td><td>0  </td><td>0  </td><td>0  </td><td>0  </td><td>0  </td><td>0  </td><td>0  </td><td>...</td><td>0  </td><td>0  </td><td>0  </td><td>0  </td><td>0  </td><td>0  </td><td>0  </td><td>0  </td><td>0  </td><td>0  </td></tr>\n",
       "</tbody>\n",
       "</table>\n"
      ],
      "text/latex": [
       "\\begin{tabular}{r|lllllllllllllllllllllllllllllllllllllllllllllllllllllllllllllllllllllllllllllllllllllllllllllllllllllllllllllllllllllllllllllllllllllllllllllllllllllllllllllllllllllllllllllllllllllllllllllllllllllllllllllllllllllllllllllllllllllllllllllllllllllllllllllllllllllllllllllllllllllllllllllllllllllllllllllllllllllllllllllllllllllllllllllllllllllllllllllllllllllllllllllllllllllllllllllllllllllllllllllllllllllllllllllllllllllllllllllllllllllllllllllllllllllllllllllllllllllllllllllllllllllllllllllllllllllllllllllllllllllllllllllllllllllllllllllllllllllllllllllllllllllllllllllllllllllllllllllllllllllllllllllllllllllllllllllllllllllllllllllllllllllllllllllllllllllllllllllllllllllllllllllllllllllllllllllllllllllllllllllllllllllllllllllllllllllllllllllllllllllllllllllllllllllllllllllllll}\n",
       " V1 & V2 & V3 & V4 & V5 & V6 & V7 & V8 & V9 & V10 & ... & V776 & V777 & V778 & V779 & V780 & V781 & V782 & V783 & V784 & V785\\\\\n",
       "\\hline\n",
       "\t 5   & 0   & 0   & 0   & 0   & 0   & 0   & 0   & 0   & 0   & ... & 0   & 0   & 0   & 0   & 0   & 0   & 0   & 0   & 0   & 0  \\\\\n",
       "\t 0   & 0   & 0   & 0   & 0   & 0   & 0   & 0   & 0   & 0   & ... & 0   & 0   & 0   & 0   & 0   & 0   & 0   & 0   & 0   & 0  \\\\\n",
       "\t 4   & 0   & 0   & 0   & 0   & 0   & 0   & 0   & 0   & 0   & ... & 0   & 0   & 0   & 0   & 0   & 0   & 0   & 0   & 0   & 0  \\\\\n",
       "\t 1   & 0   & 0   & 0   & 0   & 0   & 0   & 0   & 0   & 0   & ... & 0   & 0   & 0   & 0   & 0   & 0   & 0   & 0   & 0   & 0  \\\\\n",
       "\t 9   & 0   & 0   & 0   & 0   & 0   & 0   & 0   & 0   & 0   & ... & 0   & 0   & 0   & 0   & 0   & 0   & 0   & 0   & 0   & 0  \\\\\n",
       "\t 2   & 0   & 0   & 0   & 0   & 0   & 0   & 0   & 0   & 0   & ... & 0   & 0   & 0   & 0   & 0   & 0   & 0   & 0   & 0   & 0  \\\\\n",
       "\\end{tabular}\n"
      ],
      "text/markdown": [
       "\n",
       "| V1 | V2 | V3 | V4 | V5 | V6 | V7 | V8 | V9 | V10 | ... | V776 | V777 | V778 | V779 | V780 | V781 | V782 | V783 | V784 | V785 |\n",
       "|---|---|---|---|---|---|---|---|---|---|---|---|---|---|---|---|---|---|---|---|---|\n",
       "| 5   | 0   | 0   | 0   | 0   | 0   | 0   | 0   | 0   | 0   | ... | 0   | 0   | 0   | 0   | 0   | 0   | 0   | 0   | 0   | 0   |\n",
       "| 0   | 0   | 0   | 0   | 0   | 0   | 0   | 0   | 0   | 0   | ... | 0   | 0   | 0   | 0   | 0   | 0   | 0   | 0   | 0   | 0   |\n",
       "| 4   | 0   | 0   | 0   | 0   | 0   | 0   | 0   | 0   | 0   | ... | 0   | 0   | 0   | 0   | 0   | 0   | 0   | 0   | 0   | 0   |\n",
       "| 1   | 0   | 0   | 0   | 0   | 0   | 0   | 0   | 0   | 0   | ... | 0   | 0   | 0   | 0   | 0   | 0   | 0   | 0   | 0   | 0   |\n",
       "| 9   | 0   | 0   | 0   | 0   | 0   | 0   | 0   | 0   | 0   | ... | 0   | 0   | 0   | 0   | 0   | 0   | 0   | 0   | 0   | 0   |\n",
       "| 2   | 0   | 0   | 0   | 0   | 0   | 0   | 0   | 0   | 0   | ... | 0   | 0   | 0   | 0   | 0   | 0   | 0   | 0   | 0   | 0   |\n",
       "\n"
      ],
      "text/plain": [
       "  V1 V2 V3 V4 V5 V6 V7 V8 V9 V10 ... V776 V777 V778 V779 V780 V781 V782 V783\n",
       "1 5  0  0  0  0  0  0  0  0  0   ... 0    0    0    0    0    0    0    0   \n",
       "2 0  0  0  0  0  0  0  0  0  0   ... 0    0    0    0    0    0    0    0   \n",
       "3 4  0  0  0  0  0  0  0  0  0   ... 0    0    0    0    0    0    0    0   \n",
       "4 1  0  0  0  0  0  0  0  0  0   ... 0    0    0    0    0    0    0    0   \n",
       "5 9  0  0  0  0  0  0  0  0  0   ... 0    0    0    0    0    0    0    0   \n",
       "6 2  0  0  0  0  0  0  0  0  0   ... 0    0    0    0    0    0    0    0   \n",
       "  V784 V785\n",
       "1 0    0   \n",
       "2 0    0   \n",
       "3 0    0   \n",
       "4 0    0   \n",
       "5 0    0   \n",
       "6 0    0   "
      ]
     },
     "metadata": {},
     "output_type": "display_data"
    },
    {
     "data": {
      "text/html": [
       "28"
      ],
      "text/latex": [
       "28"
      ],
      "text/markdown": [
       "28"
      ],
      "text/plain": [
       "[1] 28"
      ]
     },
     "metadata": {},
     "output_type": "display_data"
    },
    {
     "name": "stdout",
     "output_type": "stream",
     "text": [
      "'data.frame':\t10000 obs. of  31 variables:\n",
      " $ V120: int  0 0 0 0 0 0 0 0 0 0 ...\n",
      " $ V121: int  0 0 0 0 0 0 0 0 0 0 ...\n",
      " $ V122: int  0 0 0 0 0 0 0 0 0 0 ...\n",
      " $ V123: int  0 0 0 0 0 0 0 0 0 0 ...\n",
      " $ V124: int  0 0 0 0 0 0 0 0 0 0 ...\n",
      " $ V125: int  0 0 0 0 0 0 0 0 0 0 ...\n",
      " $ V126: int  0 0 0 0 0 0 145 0 0 0 ...\n",
      " $ V127: int  0 0 0 0 0 0 255 0 0 0 ...\n",
      " $ V128: int  0 0 0 0 0 0 211 0 0 0 ...\n",
      " $ V129: int  0 51 0 0 0 0 31 0 0 0 ...\n",
      " $ V130: int  0 159 0 0 0 0 0 0 0 0 ...\n",
      " $ V131: int  0 253 0 0 0 0 0 0 0 0 ...\n",
      " $ V132: int  0 159 0 0 0 0 0 0 0 0 ...\n",
      " $ V133: int  0 50 0 0 0 0 0 0 0 0 ...\n",
      " $ V134: int  0 0 0 0 0 0 0 0 0 0 ...\n",
      " $ V135: int  0 0 0 0 0 0 0 0 0 0 ...\n",
      " $ V136: int  0 0 0 0 0 0 0 0 0 189 ...\n",
      " $ V137: int  0 0 0 0 0 0 0 0 0 190 ...\n",
      " $ V138: int  0 0 0 0 0 0 0 0 0 0 ...\n",
      " $ V139: int  0 0 0 0 0 0 0 0 0 0 ...\n",
      " $ V140: int  0 0 0 0 0 0 0 0 0 0 ...\n",
      " $ V141: int  0 0 0 0 0 0 0 0 0 0 ...\n",
      " $ V142: int  0 0 0 0 0 0 0 0 0 0 ...\n",
      " $ V143: int  0 0 0 0 0 0 0 0 0 0 ...\n",
      " $ V144: int  0 0 0 0 0 0 0 0 0 0 ...\n",
      " $ V145: int  0 0 0 0 0 0 0 0 0 0 ...\n",
      " $ V146: int  0 0 0 0 0 0 0 0 0 0 ...\n",
      " $ V147: int  0 0 0 0 0 0 0 0 0 0 ...\n",
      " $ V148: int  0 0 0 0 0 0 0 0 0 0 ...\n",
      " $ V149: int  0 0 0 0 0 0 0 0 0 0 ...\n",
      " $ V150: int  0 0 0 0 0 0 0 0 0 0 ...\n"
     ]
    }
   ],
   "source": [
    "# 손글씨 인식 \n",
    "mnist <- read.csv(\"../Data/train_10k.csv\" , header = F)\n",
    "head(mnist)\n",
    "\n",
    "sqrt(784) # 28\n",
    "\n",
    "str(mnist[,120:150])\n",
    "\n",
    "# mnist10 <- read.csv(\"../Data/train_10k.csv\" , header = F)\n",
    "# head(mnist10)"
   ]
  },
  {
   "cell_type": "code",
   "execution_count": 2,
   "metadata": {
    "vscode": {
     "languageId": "r"
    }
   },
   "outputs": [
    {
     "name": "stdout",
     "output_type": "stream",
     "text": [
      "                            \n",
      "                            \n",
      "                            \n",
      "                            \n",
      "                            \n",
      "            ************    \n",
      "        ****************    \n",
      "       ****************     \n",
      "       ***********          \n",
      "        ******* **          \n",
      "         *****              \n",
      "           ****             \n",
      "           ****             \n",
      "            ******          \n",
      "             ******         \n",
      "              ******        \n",
      "               *****        \n",
      "                 ****       \n",
      "              *******       \n",
      "            ********        \n",
      "          *********         \n",
      "        **********          \n",
      "      **********            \n",
      "    **********              \n",
      "    ********                \n",
      "                            \n",
      "                            \n",
      "                            \n"
     ]
    }
   ],
   "source": [
    "# Data 내용 확인하기\n",
    "num1 = seq(2, 785, 28) # start index\n",
    "num2 = seq(29, 785, 28) # finish index\n",
    "cnt = 0 \n",
    "\n",
    "for( j in 1:28){\n",
    "    n1 = as.numeric(num1[j])\n",
    "    n2 = as.numeric(num2[j])\n",
    "    for(i in seq(n1, n2, 1)){\n",
    "        if(mnist[1,i] != 0){\n",
    "            cat(\"*\")\n",
    "        }else{\n",
    "            cat(\" \")\n",
    "        }\n",
    "        cnt = cnt + 1\n",
    "        if(cnt > 27){\n",
    "            cat(\"\\n\")\n",
    "            cnt = 0\n",
    "        }\n",
    "\n",
    "    }\n",
    "}"
   ]
  },
  {
   "cell_type": "code",
   "execution_count": 3,
   "metadata": {
    "vscode": {
     "languageId": "r"
    }
   },
   "outputs": [
    {
     "name": "stderr",
     "output_type": "stream",
     "text": [
      "\n",
      "Attaching package: ‘dplyr’\n",
      "\n",
      "The following objects are masked from ‘package:stats’:\n",
      "\n",
      "    filter, lag\n",
      "\n",
      "The following objects are masked from ‘package:base’:\n",
      "\n",
      "    intersect, setdiff, setequal, union\n",
      "\n",
      "Loading required package: lattice\n",
      "Loading required package: ggplot2\n",
      "Registered S3 methods overwritten by 'ggplot2':\n",
      "  method         from \n",
      "  [.quosures     rlang\n",
      "  c.quosures     rlang\n",
      "  print.quosures rlang\n",
      "randomForest 4.6-14\n",
      "Type rfNews() to see new features/changes/bug fixes.\n",
      "\n",
      "Attaching package: ‘randomForest’\n",
      "\n",
      "The following object is masked from ‘package:ggplot2’:\n",
      "\n",
      "    margin\n",
      "\n",
      "The following object is masked from ‘package:dplyr’:\n",
      "\n",
      "    combine\n",
      "\n",
      "Loading required package: grid\n",
      "Loading required package: mvtnorm\n",
      "Loading required package: modeltools\n",
      "Loading required package: stats4\n",
      "Loading required package: strucchange\n",
      "Loading required package: zoo\n",
      "\n",
      "Attaching package: ‘zoo’\n",
      "\n",
      "The following objects are masked from ‘package:base’:\n",
      "\n",
      "    as.Date, as.Date.numeric\n",
      "\n",
      "Loading required package: sandwich\n"
     ]
    }
   ],
   "source": [
    "library(dplyr)\n",
    "library(plotrix)\n",
    "library(caret) # createDataPartition\n",
    "library(nnet)\n",
    "library(e1071)\n",
    "library(randomForest)\n",
    "library(party)"
   ]
  },
  {
   "cell_type": "code",
   "execution_count": 4,
   "metadata": {
    "vscode": {
     "languageId": "r"
    }
   },
   "outputs": [
    {
     "data": {
      "text/plain": [
       "\n",
       "   0    1    2    3    4    5    6    7    8    9 \n",
       "1001 1127  991 1032  980  863 1014 1070  944  978 "
      ]
     },
     "metadata": {},
     "output_type": "display_data"
    },
    {
     "name": "stdout",
     "output_type": "stream",
     "text": [
      "'data.frame':\t10000 obs. of  785 variables:\n",
      " $ V1  : Factor w/ 10 levels \"0\",\"1\",\"2\",\"3\",..: 1 1 1 1 1 1 1 1 1 1 ...\n",
      " $ V2  : int  0 0 0 0 0 0 0 0 0 0 ...\n",
      " $ V3  : int  0 0 0 0 0 0 0 0 0 0 ...\n",
      " $ V4  : int  0 0 0 0 0 0 0 0 0 0 ...\n",
      " $ V5  : int  0 0 0 0 0 0 0 0 0 0 ...\n",
      " $ V6  : int  0 0 0 0 0 0 0 0 0 0 ...\n",
      " $ V7  : int  0 0 0 0 0 0 0 0 0 0 ...\n",
      " $ V8  : int  0 0 0 0 0 0 0 0 0 0 ...\n",
      " $ V9  : int  0 0 0 0 0 0 0 0 0 0 ...\n",
      " $ V10 : int  0 0 0 0 0 0 0 0 0 0 ...\n",
      " $ V11 : int  0 0 0 0 0 0 0 0 0 0 ...\n",
      " $ V12 : int  0 0 0 0 0 0 0 0 0 0 ...\n",
      " $ V13 : int  0 0 0 0 0 0 0 0 0 0 ...\n",
      " $ V14 : int  0 0 0 0 0 0 0 0 0 0 ...\n",
      " $ V15 : int  0 0 0 0 0 0 0 0 0 0 ...\n",
      " $ V16 : int  0 0 0 0 0 0 0 0 0 0 ...\n",
      " $ V17 : int  0 0 0 0 0 0 0 0 0 0 ...\n",
      " $ V18 : int  0 0 0 0 0 0 0 0 0 0 ...\n",
      " $ V19 : int  0 0 0 0 0 0 0 0 0 0 ...\n",
      " $ V20 : int  0 0 0 0 0 0 0 0 0 0 ...\n",
      " $ V21 : int  0 0 0 0 0 0 0 0 0 0 ...\n",
      " $ V22 : int  0 0 0 0 0 0 0 0 0 0 ...\n",
      " $ V23 : int  0 0 0 0 0 0 0 0 0 0 ...\n",
      " $ V24 : int  0 0 0 0 0 0 0 0 0 0 ...\n",
      " $ V25 : int  0 0 0 0 0 0 0 0 0 0 ...\n",
      " $ V26 : int  0 0 0 0 0 0 0 0 0 0 ...\n",
      " $ V27 : int  0 0 0 0 0 0 0 0 0 0 ...\n",
      " $ V28 : int  0 0 0 0 0 0 0 0 0 0 ...\n",
      " $ V29 : int  0 0 0 0 0 0 0 0 0 0 ...\n",
      " $ V30 : int  0 0 0 0 0 0 0 0 0 0 ...\n",
      " $ V31 : int  0 0 0 0 0 0 0 0 0 0 ...\n",
      " $ V32 : int  0 0 0 0 0 0 0 0 0 0 ...\n",
      " $ V33 : int  0 0 0 0 0 0 0 0 0 0 ...\n",
      " $ V34 : int  0 0 0 0 0 0 0 0 0 0 ...\n",
      " $ V35 : int  0 0 0 0 0 0 0 0 0 0 ...\n",
      " $ V36 : int  0 0 0 0 0 0 0 0 0 0 ...\n",
      " $ V37 : int  0 0 0 0 0 0 0 0 0 0 ...\n",
      " $ V38 : int  0 0 0 0 0 0 0 0 0 0 ...\n",
      " $ V39 : int  0 0 0 0 0 0 0 0 0 0 ...\n",
      " $ V40 : int  0 0 0 0 0 0 0 0 0 0 ...\n",
      " $ V41 : int  0 0 0 0 0 0 0 0 0 0 ...\n",
      " $ V42 : int  0 0 0 0 0 0 0 0 0 0 ...\n",
      " $ V43 : int  0 0 0 0 0 0 0 0 0 0 ...\n",
      " $ V44 : int  0 0 0 0 0 0 0 0 0 0 ...\n",
      " $ V45 : int  0 0 0 0 0 0 0 0 0 0 ...\n",
      " $ V46 : int  0 0 0 0 0 0 0 0 0 0 ...\n",
      " $ V47 : int  0 0 0 0 0 0 0 0 0 0 ...\n",
      " $ V48 : int  0 0 0 0 0 0 0 0 0 0 ...\n",
      " $ V49 : int  0 0 0 0 0 0 0 0 0 0 ...\n",
      " $ V50 : int  0 0 0 0 0 0 0 0 0 0 ...\n",
      " $ V51 : int  0 0 0 0 0 0 0 0 0 0 ...\n",
      " $ V52 : int  0 0 0 0 0 0 0 0 0 0 ...\n",
      " $ V53 : int  0 0 0 0 0 0 0 0 0 0 ...\n",
      " $ V54 : int  0 0 0 0 0 0 0 0 0 0 ...\n",
      " $ V55 : int  0 0 0 0 0 0 0 0 0 0 ...\n",
      " $ V56 : int  0 0 0 0 0 0 0 0 0 0 ...\n",
      " $ V57 : int  0 0 0 0 0 0 0 0 0 0 ...\n",
      " $ V58 : int  0 0 0 0 0 0 0 0 0 0 ...\n",
      " $ V59 : int  0 0 0 0 0 0 0 0 0 0 ...\n",
      " $ V60 : int  0 0 0 0 0 0 0 0 0 0 ...\n",
      " $ V61 : int  0 0 0 0 0 0 0 0 0 0 ...\n",
      " $ V62 : int  0 0 0 0 0 0 0 0 0 0 ...\n",
      " $ V63 : int  0 0 0 0 0 0 0 0 0 0 ...\n",
      " $ V64 : int  0 0 0 0 0 0 0 0 0 0 ...\n",
      " $ V65 : int  0 0 0 0 0 0 0 0 0 0 ...\n",
      " $ V66 : int  0 0 0 0 0 0 0 0 0 0 ...\n",
      " $ V67 : int  0 0 0 0 0 0 0 0 0 0 ...\n",
      " $ V68 : int  0 0 0 0 0 0 0 0 0 0 ...\n",
      " $ V69 : int  0 0 0 0 0 0 0 0 0 0 ...\n",
      " $ V70 : int  0 0 0 0 0 0 0 0 0 0 ...\n",
      " $ V71 : int  0 0 0 0 0 0 0 0 0 0 ...\n",
      " $ V72 : int  0 0 0 0 0 0 0 0 0 0 ...\n",
      " $ V73 : int  0 0 0 0 0 0 0 0 0 0 ...\n",
      " $ V74 : int  0 0 0 0 0 0 0 0 0 0 ...\n",
      " $ V75 : int  0 0 0 0 0 0 0 0 0 0 ...\n",
      " $ V76 : int  0 0 0 0 0 0 0 0 0 0 ...\n",
      " $ V77 : int  0 0 0 0 0 0 0 0 0 0 ...\n",
      " $ V78 : int  0 0 0 0 0 0 0 0 0 0 ...\n",
      " $ V79 : int  0 0 0 0 0 0 0 0 0 0 ...\n",
      " $ V80 : int  0 0 0 0 0 0 0 0 0 0 ...\n",
      " $ V81 : int  0 0 0 0 0 0 0 0 0 0 ...\n",
      " $ V82 : int  0 0 0 0 0 0 0 0 0 0 ...\n",
      " $ V83 : int  0 0 0 0 0 0 0 0 0 0 ...\n",
      " $ V84 : int  0 0 0 0 0 0 0 0 0 0 ...\n",
      " $ V85 : int  0 0 0 0 0 0 0 0 0 0 ...\n",
      " $ V86 : int  0 0 0 0 0 0 0 0 0 0 ...\n",
      " $ V87 : int  0 0 0 0 0 0 0 0 0 0 ...\n",
      " $ V88 : int  0 0 0 0 0 0 0 0 0 0 ...\n",
      " $ V89 : int  0 0 0 0 0 0 0 0 0 0 ...\n",
      " $ V90 : int  0 0 0 0 0 0 0 0 0 0 ...\n",
      " $ V91 : int  0 0 0 0 0 0 0 0 0 0 ...\n",
      " $ V92 : int  0 0 0 0 0 0 0 0 0 0 ...\n",
      " $ V93 : int  0 0 0 0 0 0 0 0 0 0 ...\n",
      " $ V94 : int  0 0 0 0 0 0 0 0 0 0 ...\n",
      " $ V95 : int  0 0 0 0 0 0 0 0 0 0 ...\n",
      " $ V96 : int  0 0 0 0 0 0 0 0 0 0 ...\n",
      " $ V97 : int  0 0 0 0 0 0 0 0 0 0 ...\n",
      " $ V98 : int  0 0 0 0 0 0 0 0 0 0 ...\n",
      " $ V99 : int  0 0 0 0 0 0 0 0 0 0 ...\n",
      "  [list output truncated]\n"
     ]
    }
   ],
   "source": [
    "# 숫자 순서대로 정렬하기\n",
    "mnist <- arrange(mnist , V1)\n",
    "\n",
    "# 0~9가 몇개씩 있는지 확인\n",
    "table(mnist$V1)\n",
    "# 0   1   2   3   4   5   6   7   8   9 \n",
    "# 98 116  99  93 105  92  94 117  87 100 \n",
    "## 거의 비슷 6:4 정도로 침\n",
    "\n",
    "# V1을 Factor 로 변경하기\n",
    "mnist$V1 <- factor(mnist$V1)\n",
    "\n",
    "str(mnist)"
   ]
  },
  {
   "cell_type": "code",
   "execution_count": 7,
   "metadata": {
    "vscode": {
     "languageId": "r"
    }
   },
   "outputs": [
    {
     "data": {
      "text/html": [
       "7003"
      ],
      "text/latex": [
       "7003"
      ],
      "text/markdown": [
       "7003"
      ],
      "text/plain": [
       "[1] 7003"
      ]
     },
     "metadata": {},
     "output_type": "display_data"
    }
   ],
   "source": [
    "# Sampling\n",
    "set.seed(1234)\n",
    "samp <- createDataPartition(mnist$V1 , p=0.7, list=F)\n",
    "\n",
    "# 학습용\n",
    "data.train <- mnist[samp,]\n",
    "\n",
    "# 검증용\n",
    "data.test <- mnist[-samp,]\n",
    "\n",
    "# 문제 및 정답 만들기\n",
    "x <- subset(data.test, select = -V1)\n",
    "y <- data.test$V1"
   ]
  },
  {
   "cell_type": "code",
   "execution_count": 6,
   "metadata": {
    "vscode": {
     "languageId": "r"
    }
   },
   "outputs": [
    {
     "data": {
      "text/html": [
       "0.949282615949283"
      ],
      "text/latex": [
       "0.949282615949283"
      ],
      "text/markdown": [
       "0.949282615949283"
      ],
      "text/plain": [
       "[1] 0.9492826"
      ]
     },
     "metadata": {},
     "output_type": "display_data"
    },
    {
     "data": {
      "text/plain": [
       "    y\n",
       "pred   0   1   2   3   4   5   6   7   8   9\n",
       "   0 293   0   1   2   1   2   1   1   0   2\n",
       "   1   0 331   0   1   1   0   2   1   4   1\n",
       "   2   0   6 282   3   0   0   0   6   5   2\n",
       "   3   0   0   3 281   0   9   0   0   2   3\n",
       "   4   0   0   2   0 280   1   0   4   4   4\n",
       "   5   0   0   0   5   0 237   2   0   2   0\n",
       "   6   3   0   4   1   0   4 299   0   2   0\n",
       "   7   0   1   2   4   0   2   0 306   1   3\n",
       "   8   4   0   2   7   0   0   0   0 259   1\n",
       "   9   0   0   1   5  12   3   0   3   4 277"
      ]
     },
     "metadata": {},
     "output_type": "display_data"
    },
    {
     "data": {
      "text/html": [
       "0.7334000667334"
      ],
      "text/latex": [
       "0.7334000667334"
      ],
      "text/markdown": [
       "0.7334000667334"
      ],
      "text/plain": [
       "[1] 0.7334001"
      ]
     },
     "metadata": {},
     "output_type": "display_data"
    },
    {
     "data": {
      "text/plain": [
       "    y\n",
       "pred   0   1   2   3   4   5   6   7   8   9\n",
       "   0 266   0   8   4   3   6   9   1   9   1\n",
       "   1   0 296  13  15   1   5   1  21  10   4\n",
       "   2   8  15 217  10  14  13  20   6  14   8\n",
       "   3   0   7   4 188   9  37   4   4   3  14\n",
       "   4   0   0   0   4 181   8   3   3   4   5\n",
       "   5   7   2  10  47   8 129   5   4  12   7\n",
       "   6   6   0  14   3   9   6 239   0   4   2\n",
       "   7   7   3  11  14  26  20   7 255  10  22\n",
       "   8   6  13  19  16  14  31  16   8 213  16\n",
       "   9   0   2   1   8  29   3   0  19   4 214"
      ]
     },
     "metadata": {},
     "output_type": "display_data"
    }
   ],
   "source": [
    "# 선형회귀 식은 r에서 돌릴수 있는 양이 정해져 있음 \n",
    "\n",
    "# 랜덤포레스트\n",
    "# 학습시키기 \n",
    "model.rf <- randomForest(V1 ~ . , data = data.train , ntree = 100 )\n",
    "# 검증하기 \n",
    "pred <- predict(model.rf , x)\n",
    "# 예측력과 오분류포\n",
    "mean(pred == y)\n",
    "table(pred , y) \n",
    "\n",
    "# # 인공신경망 선형회귀\n",
    "# model.nnet <- nnet(V1 ~ . , data=data.train, size = 3)\n",
    "# # 검증\n",
    "# pred <- predict(model.nnet, x, type='class')\n",
    "# # 예측력과 오분류포\n",
    "# mean(pred == y)\n",
    "# table(pred , y)\n",
    "\n",
    "# 의사결정나무\n",
    "model.ctree <- ctree(V1 ~ . , data=data.train )\n",
    "# 검증\n",
    "pred <- predict(model.ctree, x)\n",
    "# 예측력과 오분류포\n",
    "mean(pred == y)\n",
    "table(pred , y)\n",
    "\n",
    "# # SVM 선형회귀\n",
    "# model.svm = svm(V1 ~ . , data=data.train )\n",
    "# # 검증\n",
    "# pred <- predict(model.svm, x)\n",
    "# # 예측력과 오분류포\n",
    "# mean(pred == y)\n",
    "# table(pred , y)\n",
    "\n",
    "# # 로지스틱 선형회귀\n",
    "# model.mt <- multinom(V1 ~ . , data=data.train )\n",
    "# # 검증하기\n",
    "# pred <- predict(model.mt , x)\n",
    "# # 예측력과 오분류포\n",
    "# mean(pred == y)\n",
    "# as.matrix(table(pred , y)) "
   ]
  },
  {
   "cell_type": "code",
   "execution_count": null,
   "metadata": {
    "vscode": {
     "languageId": "r"
    }
   },
   "outputs": [],
   "source": []
  }
 ],
 "metadata": {
  "kernelspec": {
   "display_name": "R",
   "language": "R",
   "name": "ir"
  },
  "language_info": {
   "codemirror_mode": "r",
   "file_extension": ".r",
   "mimetype": "text/x-r-source",
   "name": "R",
   "pygments_lexer": "r",
   "version": "3.6.1"
  },
  "orig_nbformat": 4
 },
 "nbformat": 4,
 "nbformat_minor": 2
}
