{
 "cells": [
  {
   "cell_type": "code",
   "execution_count": 2,
   "metadata": {
    "vscode": {
     "languageId": "r"
    }
   },
   "outputs": [
    {
     "name": "stdout",
     "output_type": "stream",
     "text": [
      "'data.frame':\t702 obs. of  16 variables:\n",
      " $ 기간    : int  2011 2011 2011 2011 2011 2011 2011 2011 2011 2011 ...\n",
      " $ 자치구별: chr  \"합계\" \"합계\" \"합계\" \"종로구\" ...\n",
      " $ 구분    : chr  \"발생건수\" \"사망자수\" \"부상자수\" \"발생건수\" ...\n",
      " $ 합계    : chr  \"40,451\" \"435\" \"57,625\" \"1,421\" ...\n",
      " $ X1월    : chr  \"3,038\" \"36\" \"4,429\" \"115\" ...\n",
      " $ X2월    : chr  \"2,573\" \"32\" \"3,734\" \"99\" ...\n",
      " $ X3월    : chr  \"3,126\" \"20\" \"4,513\" \"116\" ...\n",
      " $ X4월    : chr  \"3,450\" \"44\" \"4,905\" \"110\" ...\n",
      " $ X5월    : chr  \"3,603\" \"36\" \"5,036\" \"122\" ...\n",
      " $ X6월    : chr  \"3,390\" \"37\" \"4,831\" \"116\" ...\n",
      " $ X7월    : chr  \"3,529\" \"36\" \"5,067\" \"103\" ...\n",
      " $ X8월    : chr  \"3,360\" \"50\" \"4,823\" \"122\" ...\n",
      " $ X9월    : chr  \"3,433\" \"37\" \"4,893\" \"121\" ...\n",
      " $ X10월   : chr  \"3,734\" \"25\" \"5,244\" \"135\" ...\n",
      " $ X11월   : chr  \"3,701\" \"40\" \"5,150\" \"140\" ...\n",
      " $ X12월   : chr  \"3,514\" \"42\" \"5,000\" \"122\" ...\n"
     ]
    }
   ],
   "source": [
    "data <- read.table(\"DataBackup/trafficAccident_2011_2019.txt\" , header = T,stringsAsFactors = F ) \n",
    "str(data)\n",
    "data <- subset(data, 자치구별 != '합계') # 필요없는 합계 데이터 삭제\n",
    "data <- data[,-4] # 합계 컬럼 삭제\n",
    "rownames(data) <- c() # 인덱스 정리\n",
    "colnames(data) <- c(\"년도\",\"자치구명\",'구분', 1:12 ) # 컬럼이름 정리"
   ]
  },
  {
   "cell_type": "code",
   "execution_count": 3,
   "metadata": {
    "vscode": {
     "languageId": "r"
    }
   },
   "outputs": [
    {
     "data": {
      "text/html": [
       "<table>\n",
       "<thead><tr><th scope=col>년도</th><th scope=col>자치구명</th><th scope=col>구분</th><th scope=col>1</th><th scope=col>2</th><th scope=col>3</th><th scope=col>4</th><th scope=col>5</th><th scope=col>6</th><th scope=col>7</th><th scope=col>8</th><th scope=col>9</th><th scope=col>10</th><th scope=col>11</th><th scope=col>12</th></tr></thead>\n",
       "<tbody>\n",
       "\t<tr><td>2011    </td><td>종로구  </td><td>발생건수</td><td>115     </td><td>99      </td><td>116     </td><td>110     </td><td>122     </td><td>116     </td><td>103     </td><td>122     </td><td>121     </td><td>135     </td><td>140     </td><td>122     </td></tr>\n",
       "\t<tr><td>2011    </td><td>종로구  </td><td>사망자수</td><td>2       </td><td>0       </td><td>0       </td><td>1       </td><td>0       </td><td>3       </td><td>1       </td><td>1       </td><td>2       </td><td>2       </td><td>1       </td><td>1       </td></tr>\n",
       "\t<tr><td>2011    </td><td>종로구  </td><td>부상자수</td><td>165     </td><td>134     </td><td>162     </td><td>153     </td><td>157     </td><td>163     </td><td>154     </td><td>171     </td><td>166     </td><td>193     </td><td>204     </td><td>172     </td></tr>\n",
       "\t<tr><td>2011    </td><td>중구    </td><td>발생건수</td><td>108     </td><td>86      </td><td>141     </td><td>128     </td><td>121     </td><td>115     </td><td>119     </td><td>117     </td><td>140     </td><td>147     </td><td>132     </td><td>143     </td></tr>\n",
       "\t<tr><td>2011    </td><td>중구    </td><td>사망자수</td><td>0       </td><td>0       </td><td>0       </td><td>3       </td><td>1       </td><td>1       </td><td>1       </td><td>1       </td><td>1       </td><td>2       </td><td>3       </td><td>0       </td></tr>\n",
       "\t<tr><td>2011    </td><td>중구    </td><td>부상자수</td><td>159     </td><td>112     </td><td>183     </td><td>175     </td><td>165     </td><td>156     </td><td>154     </td><td>154     </td><td>181     </td><td>203     </td><td>172     </td><td>211     </td></tr>\n",
       "</tbody>\n",
       "</table>\n"
      ],
      "text/latex": [
       "\\begin{tabular}{r|lllllllllllllll}\n",
       " 년도 & 자치구명 & 구분 & 1 & 2 & 3 & 4 & 5 & 6 & 7 & 8 & 9 & 10 & 11 & 12\\\\\n",
       "\\hline\n",
       "\t 2011     & 종로구   & 발생건수 & 115      & 99       & 116      & 110      & 122      & 116      & 103      & 122      & 121      & 135      & 140      & 122     \\\\\n",
       "\t 2011     & 종로구   & 사망자수 & 2        & 0        & 0        & 1        & 0        & 3        & 1        & 1        & 2        & 2        & 1        & 1       \\\\\n",
       "\t 2011     & 종로구   & 부상자수 & 165      & 134      & 162      & 153      & 157      & 163      & 154      & 171      & 166      & 193      & 204      & 172     \\\\\n",
       "\t 2011     & 중구     & 발생건수 & 108      & 86       & 141      & 128      & 121      & 115      & 119      & 117      & 140      & 147      & 132      & 143     \\\\\n",
       "\t 2011     & 중구     & 사망자수 & 0        & 0        & 0        & 3        & 1        & 1        & 1        & 1        & 1        & 2        & 3        & 0       \\\\\n",
       "\t 2011     & 중구     & 부상자수 & 159      & 112      & 183      & 175      & 165      & 156      & 154      & 154      & 181      & 203      & 172      & 211     \\\\\n",
       "\\end{tabular}\n"
      ],
      "text/markdown": [
       "\n",
       "| 년도 | 자치구명 | 구분 | 1 | 2 | 3 | 4 | 5 | 6 | 7 | 8 | 9 | 10 | 11 | 12 |\n",
       "|---|---|---|---|---|---|---|---|---|---|---|---|---|---|---|\n",
       "| 2011     | 종로구   | 발생건수 | 115      | 99       | 116      | 110      | 122      | 116      | 103      | 122      | 121      | 135      | 140      | 122      |\n",
       "| 2011     | 종로구   | 사망자수 | 2        | 0        | 0        | 1        | 0        | 3        | 1        | 1        | 2        | 2        | 1        | 1        |\n",
       "| 2011     | 종로구   | 부상자수 | 165      | 134      | 162      | 153      | 157      | 163      | 154      | 171      | 166      | 193      | 204      | 172      |\n",
       "| 2011     | 중구     | 발생건수 | 108      | 86       | 141      | 128      | 121      | 115      | 119      | 117      | 140      | 147      | 132      | 143      |\n",
       "| 2011     | 중구     | 사망자수 | 0        | 0        | 0        | 3        | 1        | 1        | 1        | 1        | 1        | 2        | 3        | 0        |\n",
       "| 2011     | 중구     | 부상자수 | 159      | 112      | 183      | 175      | 165      | 156      | 154      | 154      | 181      | 203      | 172      | 211      |\n",
       "\n"
      ],
      "text/plain": [
       "  년도 자치구명 구분     1   2   3   4   5   6   7   8   9   10  11  12 \n",
       "1 2011 종로구   발생건수 115 99  116 110 122 116 103 122 121 135 140 122\n",
       "2 2011 종로구   사망자수 2   0   0   1   0   3   1   1   2   2   1   1  \n",
       "3 2011 종로구   부상자수 165 134 162 153 157 163 154 171 166 193 204 172\n",
       "4 2011 중구     발생건수 108 86  141 128 121 115 119 117 140 147 132 143\n",
       "5 2011 중구     사망자수 0   0   0   3   1   1   1   1   1   2   3   0  \n",
       "6 2011 중구     부상자수 159 112 183 175 165 156 154 154 181 203 172 211"
      ]
     },
     "metadata": {},
     "output_type": "display_data"
    }
   ],
   "source": [
    "# 숫자 데이터 - 값 0으로 대체하기\n",
    "for(i in 4:15){\n",
    "    data[,i] <- ifelse(data[,i] == '-', 0 , data[,i])\n",
    "}\n",
    "head(data)"
   ]
  },
  {
   "cell_type": "code",
   "execution_count": 4,
   "metadata": {
    "vscode": {
     "languageId": "r"
    }
   },
   "outputs": [],
   "source": [
    "data_s <- data.frame(년도 = integer(), 월 = integer(), 자치구명 = character(), 발생건수= integer(), 사망자수= integer(), 부상자수 = integer())\n",
    "\n",
    "for(i in seq(1,nrow(data),3) ){ # 1,4,7\n",
    "  년도 <- as.integer(data[i,1])\n",
    "  월 <- 1:12\n",
    "  자치구명 <- as.character(data[i,2])\n",
    "  발생건수 <- as.integer(t(data[i,4:15]))\n",
    "  사망자수 <- as.integer(t(data[i+1,4:15]))\n",
    "  부상자수 <- as.integer(t(data[i+2,4:15]))\n",
    "\n",
    "  누적 <- data.frame(년도, 월, 자치구명, 발생건수, 사망자수, 부상자수)\n",
    "  data_s <- rbind(data_s , 누적)\n",
    "}"
   ]
  },
  {
   "cell_type": "code",
   "execution_count": 5,
   "metadata": {
    "vscode": {
     "languageId": "r"
    }
   },
   "outputs": [
    {
     "data": {
      "text/html": [
       "<table>\n",
       "<thead><tr><th scope=col>년도</th><th scope=col>월</th><th scope=col>자치구명</th><th scope=col>발생건수</th><th scope=col>사망자수</th><th scope=col>부상자수</th></tr></thead>\n",
       "<tbody>\n",
       "\t<tr><td>2011  </td><td>1     </td><td>종로구</td><td>115   </td><td>2     </td><td>165   </td></tr>\n",
       "\t<tr><td>2011  </td><td>2     </td><td>종로구</td><td> 99   </td><td>0     </td><td>134   </td></tr>\n",
       "\t<tr><td>2011  </td><td>3     </td><td>종로구</td><td>116   </td><td>0     </td><td>162   </td></tr>\n",
       "\t<tr><td>2011  </td><td>4     </td><td>종로구</td><td>110   </td><td>1     </td><td>153   </td></tr>\n",
       "\t<tr><td>2011  </td><td>5     </td><td>종로구</td><td>122   </td><td>0     </td><td>157   </td></tr>\n",
       "\t<tr><td>2011  </td><td>6     </td><td>종로구</td><td>116   </td><td>3     </td><td>163   </td></tr>\n",
       "</tbody>\n",
       "</table>\n"
      ],
      "text/latex": [
       "\\begin{tabular}{r|llllll}\n",
       " 년도 & 월 & 자치구명 & 발생건수 & 사망자수 & 부상자수\\\\\n",
       "\\hline\n",
       "\t 2011   & 1      & 종로구 & 115    & 2      & 165   \\\\\n",
       "\t 2011   & 2      & 종로구 &  99    & 0      & 134   \\\\\n",
       "\t 2011   & 3      & 종로구 & 116    & 0      & 162   \\\\\n",
       "\t 2011   & 4      & 종로구 & 110    & 1      & 153   \\\\\n",
       "\t 2011   & 5      & 종로구 & 122    & 0      & 157   \\\\\n",
       "\t 2011   & 6      & 종로구 & 116    & 3      & 163   \\\\\n",
       "\\end{tabular}\n"
      ],
      "text/markdown": [
       "\n",
       "| 년도 | 월 | 자치구명 | 발생건수 | 사망자수 | 부상자수 |\n",
       "|---|---|---|---|---|---|\n",
       "| 2011   | 1      | 종로구 | 115    | 2      | 165    |\n",
       "| 2011   | 2      | 종로구 |  99    | 0      | 134    |\n",
       "| 2011   | 3      | 종로구 | 116    | 0      | 162    |\n",
       "| 2011   | 4      | 종로구 | 110    | 1      | 153    |\n",
       "| 2011   | 5      | 종로구 | 122    | 0      | 157    |\n",
       "| 2011   | 6      | 종로구 | 116    | 3      | 163    |\n",
       "\n"
      ],
      "text/plain": [
       "  년도 월 자치구명 발생건수 사망자수 부상자수\n",
       "1 2011 1  종로구   115      2        165     \n",
       "2 2011 2  종로구    99      0        134     \n",
       "3 2011 3  종로구   116      0        162     \n",
       "4 2011 4  종로구   110      1        153     \n",
       "5 2011 5  종로구   122      0        157     \n",
       "6 2011 6  종로구   116      3        163     "
      ]
     },
     "metadata": {},
     "output_type": "display_data"
    },
    {
     "name": "stdout",
     "output_type": "stream",
     "text": [
      "'data.frame':\t2700 obs. of  6 variables:\n",
      " $ 년도    : int  2011 2011 2011 2011 2011 2011 2011 2011 2011 2011 ...\n",
      " $ 월      : int  1 2 3 4 5 6 7 8 9 10 ...\n",
      " $ 자치구명: Factor w/ 25 levels \"종로구\",\"중구\",..: 1 1 1 1 1 1 1 1 1 1 ...\n",
      " $ 발생건수: int  115 99 116 110 122 116 103 122 121 135 ...\n",
      " $ 사망자수: int  2 0 0 1 0 3 1 1 2 2 ...\n",
      " $ 부상자수: int  165 134 162 153 157 163 154 171 166 193 ...\n"
     ]
    }
   ],
   "source": [
    "head(data_s)\n",
    "str(data_s)"
   ]
  },
  {
   "cell_type": "code",
   "execution_count": 6,
   "metadata": {
    "vscode": {
     "languageId": "r"
    }
   },
   "outputs": [],
   "source": [
    "write.csv(data_s, \"DataBackup/seoul_accident.csv\")"
   ]
  }
 ],
 "metadata": {
  "kernelspec": {
   "display_name": "R",
   "language": "R",
   "name": "ir"
  },
  "language_info": {
   "codemirror_mode": "r",
   "file_extension": ".r",
   "mimetype": "text/x-r-source",
   "name": "R",
   "pygments_lexer": "r",
   "version": "3.6.1"
  },
  "orig_nbformat": 4,
  "vscode": {
   "interpreter": {
    "hash": "810bef0b3035e40f07c94620036e9b22d0af77bc5514cda8c87fbb218e6cf332"
   }
  }
 },
 "nbformat": 4,
 "nbformat_minor": 2
}
