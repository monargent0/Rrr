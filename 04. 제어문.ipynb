{
 "cells": [
  {
   "cell_type": "code",
   "execution_count": 46,
   "metadata": {
    "vscode": {
     "languageId": "r"
    }
   },
   "outputs": [
    {
     "name": "stdout",
     "output_type": "stream",
     "text": [
      "[1] \"---End---\"\n"
     ]
    }
   ],
   "source": [
    "x <- 10\n",
    "y <- runif(1) * 100\n",
    "\n",
    "if(x > y){\n",
    "    print(\"x > runif()\")\n",
    "}\n",
    "print(\"---End---\")"
   ]
  },
  {
   "cell_type": "code",
   "execution_count": 47,
   "metadata": {
    "vscode": {
     "languageId": "r"
    }
   },
   "outputs": [
    {
     "name": "stdout",
     "output_type": "stream",
     "text": [
      "[1] \"x < runif()\"\n"
     ]
    }
   ],
   "source": [
    "x <- 10\n",
    "y <- runif(1) * 100\n",
    "\n",
    "if(x > y){\n",
    "    print(\"x > runif()\")\n",
    "}else{\n",
    "    print(\"x < runif()\")\n",
    "}"
   ]
  },
  {
   "cell_type": "code",
   "execution_count": 49,
   "metadata": {
    "vscode": {
     "languageId": "r"
    }
   },
   "outputs": [
    {
     "name": "stdout",
     "output_type": "stream",
     "text": [
      "[1] \"x < runif()\"\n"
     ]
    }
   ],
   "source": [
    "x <- 10\n",
    "y <- runif(1) * 100\n",
    "\n",
    "if(x > y){\n",
    "    print(\"x > runif()\")\n",
    "}else if(x < y){\n",
    "    print(\"x < runif()\")\n",
    "}else{\n",
    "    print(\"x = runif()\")\n",
    "}"
   ]
  },
  {
   "cell_type": "code",
   "execution_count": 55,
   "metadata": {
    "vscode": {
     "languageId": "r"
    }
   },
   "outputs": [
    {
     "name": "stderr",
     "output_type": "stream",
     "text": [
      "Warning message in if (a%%2 == 0) {:\n",
      "“length > 1 이라는 조건이 있고, 첫번째 요소만이 사용될 것입니다”"
     ]
    },
    {
     "name": "stdout",
     "output_type": "stream",
     "text": [
      "8 7 6 은/는 짝수입니다"
     ]
    },
    {
     "data": {
      "text/html": [
       "<ol class=list-inline>\n",
       "\t<li>'8는 짝수 입니다.'</li>\n",
       "\t<li>'7는 짝수 입니다.'</li>\n",
       "\t<li>'6는 짝수 입니다.'</li>\n",
       "</ol>\n"
      ],
      "text/latex": [
       "\\begin{enumerate*}\n",
       "\\item '8는 짝수 입니다.'\n",
       "\\item '7는 짝수 입니다.'\n",
       "\\item '6는 짝수 입니다.'\n",
       "\\end{enumerate*}\n"
      ],
      "text/markdown": [
       "1. '8는 짝수 입니다.'\n",
       "2. '7는 짝수 입니다.'\n",
       "3. '6는 짝수 입니다.'\n",
       "\n",
       "\n"
      ],
      "text/plain": [
       "[1] \"8는 짝수 입니다.\" \"7는 짝수 입니다.\" \"6는 짝수 입니다.\""
      ]
     },
     "metadata": {},
     "output_type": "display_data"
    }
   ],
   "source": [
    "# 홀수 짝수 구분\n",
    "a <- 8\n",
    "# a <- c(8,7,6)\n",
    "if( a %% 2 == 0){\n",
    "    cat(a , \"은/는 짝수입니다\")\n",
    "    sprintf(\"%i는 짝수 입니다.\", a) # i는 정수\n",
    "}else if( a %% 2 == 1){\n",
    "    cat(a , \"은/는 홀수입니다\")\n",
    "}"
   ]
  },
  {
   "cell_type": "code",
   "execution_count": 66,
   "metadata": {
    "vscode": {
     "languageId": "r"
    }
   },
   "outputs": [
    {
     "data": {
      "text/html": [
       "<ol class=list-inline>\n",
       "\t<li>'짝수'</li>\n",
       "\t<li>'홀수'</li>\n",
       "\t<li>'짝수'</li>\n",
       "</ol>\n"
      ],
      "text/latex": [
       "\\begin{enumerate*}\n",
       "\\item '짝수'\n",
       "\\item '홀수'\n",
       "\\item '짝수'\n",
       "\\end{enumerate*}\n"
      ],
      "text/markdown": [
       "1. '짝수'\n",
       "2. '홀수'\n",
       "3. '짝수'\n",
       "\n",
       "\n"
      ],
      "text/plain": [
       "[1] \"짝수\" \"홀수\" \"짝수\""
      ]
     },
     "metadata": {},
     "output_type": "display_data"
    },
    {
     "data": {
      "text/html": [
       "<ol class=list-inline>\n",
       "\t<li>'8 : 짝수'</li>\n",
       "\t<li>'7 : 홀수'</li>\n",
       "\t<li>'6 : 짝수'</li>\n",
       "</ol>\n"
      ],
      "text/latex": [
       "\\begin{enumerate*}\n",
       "\\item '8 : 짝수'\n",
       "\\item '7 : 홀수'\n",
       "\\item '6 : 짝수'\n",
       "\\end{enumerate*}\n"
      ],
      "text/markdown": [
       "1. '8 : 짝수'\n",
       "2. '7 : 홀수'\n",
       "3. '6 : 짝수'\n",
       "\n",
       "\n"
      ],
      "text/plain": [
       "[1] \"8 : 짝수\" \"7 : 홀수\" \"6 : 짝수\""
      ]
     },
     "metadata": {},
     "output_type": "display_data"
    },
    {
     "data": {
      "text/html": [
       "<ol class=list-inline>\n",
       "\t<li>'8 : 짝수'</li>\n",
       "\t<li>'7 : 홀수'</li>\n",
       "\t<li>'6 : 짝수'</li>\n",
       "</ol>\n"
      ],
      "text/latex": [
       "\\begin{enumerate*}\n",
       "\\item '8 : 짝수'\n",
       "\\item '7 : 홀수'\n",
       "\\item '6 : 짝수'\n",
       "\\end{enumerate*}\n"
      ],
      "text/markdown": [
       "1. '8 : 짝수'\n",
       "2. '7 : 홀수'\n",
       "3. '6 : 짝수'\n",
       "\n",
       "\n"
      ],
      "text/plain": [
       "[1] \"8 : 짝수\" \"7 : 홀수\" \"6 : 짝수\""
      ]
     },
     "metadata": {},
     "output_type": "display_data"
    }
   ],
   "source": [
    "a <- c(8,7,6)\n",
    "ifelse(a %% 2 == 0, \"짝수\" , \"홀수\")\n",
    "# 두가지 방법\n",
    "paste(a , \":\", ifelse(a %% 2 == 0, \"짝수\" , \"홀수\"))\n",
    "ifelse(a %% 2 == 0, paste(a, \": 짝수\") , paste(a, \": 홀수\"))"
   ]
  },
  {
   "cell_type": "code",
   "execution_count": null,
   "metadata": {
    "vscode": {
     "languageId": "r"
    }
   },
   "outputs": [],
   "source": []
  }
 ],
 "metadata": {
  "kernelspec": {
   "display_name": "R",
   "language": "R",
   "name": "ir"
  },
  "language_info": {
   "codemirror_mode": "r",
   "file_extension": ".r",
   "mimetype": "text/x-r-source",
   "name": "R",
   "pygments_lexer": "r",
   "version": "3.6.1"
  },
  "orig_nbformat": 4
 },
 "nbformat": 4,
 "nbformat_minor": 2
}
