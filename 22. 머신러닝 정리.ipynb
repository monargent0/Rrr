{
 "cells": [
  {
   "cell_type": "code",
   "execution_count": 1,
   "metadata": {
    "vscode": {
     "languageId": "r"
    }
   },
   "outputs": [],
   "source": [
    "# 데이터가 오면 모든 머신러닝을 돌려봐야한다. "
   ]
  },
  {
   "cell_type": "code",
   "execution_count": 4,
   "metadata": {
    "vscode": {
     "languageId": "r"
    }
   },
   "outputs": [
    {
     "name": "stderr",
     "output_type": "stream",
     "text": [
      "Loading required package: lattice\n",
      "Loading required package: ggplot2\n",
      "Registered S3 methods overwritten by 'ggplot2':\n",
      "  method         from \n",
      "  [.quosures     rlang\n",
      "  c.quosures     rlang\n",
      "  print.quosures rlang\n",
      "Loading required package: grid\n",
      "Loading required package: mvtnorm\n",
      "Loading required package: modeltools\n",
      "Loading required package: stats4\n",
      "Loading required package: strucchange\n",
      "Loading required package: zoo\n",
      "\n",
      "Attaching package: ‘zoo’\n",
      "\n",
      "The following objects are masked from ‘package:base’:\n",
      "\n",
      "    as.Date, as.Date.numeric\n",
      "\n",
      "Loading required package: sandwich\n"
     ]
    }
   ],
   "source": [
    "library(caret)\n",
    "library(nnet) # 인공 신경망 모델 , 다항 로지스틱\n",
    "library(party) # 의사결정나무\n",
    "library(randomForest) # 랜덤 포레스트\n",
    "library(e1071) # SVM"
   ]
  },
  {
   "cell_type": "code",
   "execution_count": 32,
   "metadata": {
    "vscode": {
     "languageId": "r"
    }
   },
   "outputs": [],
   "source": [
    "# set.seed(1234) # 랜덤의 범위를 동일하게 맞추기 위함, 수업용\n",
    "samp <- createDataPartition(iris$Species, p=0.7, list=F)\n",
    "# 학습용 데이터 셋\n",
    "data.tr <- iris[samp,]\n",
    "# 검증용 데이터 셋 (학습용으로 빼낸 것 외의 나머지, 학습용과 겹치면 안된다!)\n",
    "data.test <- iris[-samp,]"
   ]
  },
  {
   "cell_type": "code",
   "execution_count": 33,
   "metadata": {
    "vscode": {
     "languageId": "r"
    }
   },
   "outputs": [],
   "source": [
    "########## 인공신경망\n",
    "인공신경망 <- function(){\n",
    "    \n",
    "    rt <- 0\n",
    "\n",
    "    # Model 만들기\n",
    "    model.nnet <- nnet(Species ~ . , data = data.tr, size=3) \n",
    "\n",
    "    x <- subset(data.test, select = -Species) # 문제\n",
    "    y <- data.test$Species # 정답\n",
    "\n",
    "    for(i in 1:5){\n",
    "    pred <- predict( model.nnet , x, type = \"class\") # class : 분류된것 (객관식), raw (주관식)\n",
    "    rt <- rt + mean(pred == y) \n",
    "    }\n",
    "    # 정확도 확인 \n",
    "    rt / 5 \n",
    "\n",
    "}"
   ]
  },
  {
   "cell_type": "code",
   "execution_count": 34,
   "metadata": {
    "vscode": {
     "languageId": "r"
    }
   },
   "outputs": [
    {
     "name": "stdout",
     "output_type": "stream",
     "text": [
      "# weights:  27\n",
      "initial  value 119.401247 \n",
      "iter  10 value 53.153128\n",
      "iter  20 value 11.155794\n",
      "iter  30 value 0.795483\n",
      "iter  40 value 0.000424\n",
      "final  value 0.000097 \n",
      "converged\n"
     ]
    },
    {
     "data": {
      "text/html": [
       "0.955555555555555"
      ],
      "text/latex": [
       "0.955555555555555"
      ],
      "text/markdown": [
       "0.955555555555555"
      ],
      "text/plain": [
       "[1] 0.9555556"
      ]
     },
     "metadata": {},
     "output_type": "display_data"
    }
   ],
   "source": [
    "인공신경망 (iris)"
   ]
  },
  {
   "cell_type": "code",
   "execution_count": 35,
   "metadata": {
    "vscode": {
     "languageId": "r"
    }
   },
   "outputs": [],
   "source": [
    "의사결정나무 <- function(x){\n",
    "\n",
    "# 학습시키기\n",
    "model.ctree <- ctree(Species ~ . , data = data.tr)\n",
    "# 문제 및 정답 만들기\n",
    "x <- subset(data.test, select = -Species)\n",
    "y <- data.test$Species\n",
    "\n",
    "# 검증하기\n",
    "pred <- predict(model.ctree, x)\n",
    "# 예측력 확인\n",
    "mean(pred == y)\n",
    "}\n"
   ]
  },
  {
   "cell_type": "code",
   "execution_count": 36,
   "metadata": {
    "vscode": {
     "languageId": "r"
    }
   },
   "outputs": [
    {
     "ename": "ERROR",
     "evalue": "Error in rt + mean(pred == y): 이항연산자에 수치가 아닌 인수입니다\n",
     "output_type": "error",
     "traceback": [
      "Error in rt + mean(pred == y): 이항연산자에 수치가 아닌 인수입니다\nTraceback:\n",
      "1. 의사결정나무(iris)"
     ]
    }
   ],
   "source": [
    "의사결정나무(iris)"
   ]
  },
  {
   "cell_type": "code",
   "execution_count": null,
   "metadata": {
    "vscode": {
     "languageId": "r"
    }
   },
   "outputs": [],
   "source": [
    "# Sampling (공통)\n",
    "set.seed(1234)\n",
    "samp <- createDataPartition(iris$Species, p=0.7, list=F) # 0.7 0.75 0.8 정도를 많이 사용. 데이터 많을 때는 0.8 사용 추천\n",
    "# 학습용 데이터 만들기 \n",
    "data.tr <- iris[samp,]\n",
    "# 검증용 데이터 만들기\n",
    "data.test <- iris[-samp,]\n",
    "# 문제 및 정답 만들기\n",
    "x <- subset(data.test, select = -Species)\n",
    "y <- data.test$Species\n",
    "# 학습시키기 \n",
    "model.rf <- randomForest(Species ~ . , data = data.tr , ntree = 100 )\n",
    "# 검증하기 \n",
    "pred <- predict(model.rf , x)\n",
    "# 예측력과 오분류포\n",
    "mean(pred == y)\n",
    "table(pred , y)"
   ]
  },
  {
   "cell_type": "code",
   "execution_count": null,
   "metadata": {
    "vscode": {
     "languageId": "r"
    }
   },
   "outputs": [],
   "source": []
  },
  {
   "cell_type": "code",
   "execution_count": null,
   "metadata": {
    "vscode": {
     "languageId": "r"
    }
   },
   "outputs": [],
   "source": [
    "# Sampling, 학습용, 검증용 만들기\n",
    "# 랜덤포레스트,의사결정나무 빼고 모두 표준화를 거쳐야 한다.@@@\n",
    "\n",
    "# 표준화\n",
    "iris1<- scale(iris[,-5])\n",
    "iris1 <- data.frame(iris1)\n",
    "iris1$Species <- iris$Species\n",
    "\n",
    "# Sampling (공통)\n",
    "# set.seed(1234)\n",
    "samp <- createDataPartition(iris1$Species, p=0.7, list=F) # 0.7 0.75 0.8 정도를 많이 사용. 데이터 많을 때는 0.8 사용 추천\n",
    "# 학습용 데이터 만들기 \n",
    "data.tr <- iris1[samp,]\n",
    "# 검증용 데이터 만들기\n",
    "data.test <- iris1[-samp,]\n",
    "# 문제와 정답 만들기\n",
    "x <- subset(data.test, select = -Species)\n",
    "y <- data.test$Species\n",
    "\n",
    "# 학습시키기\n",
    "model.svm = svm(Species ~ ., data = data.tr )\n",
    "\n",
    "# 검증하기\n",
    "pred <- predict(model.svm , x)\n",
    "\n",
    "# 예측율 및 오분류표\n",
    "mean(pred == y)\n",
    "table(pred , y)"
   ]
  },
  {
   "cell_type": "code",
   "execution_count": null,
   "metadata": {
    "vscode": {
     "languageId": "r"
    }
   },
   "outputs": [],
   "source": []
  },
  {
   "cell_type": "code",
   "execution_count": null,
   "metadata": {
    "vscode": {
     "languageId": "r"
    }
   },
   "outputs": [],
   "source": [
    "# 다항 로지스틱 multinom\n",
    "\n",
    "# 랜덤포레스트,의사결정나무 빼고 모두 표준화를 거쳐야 한다.@@@\n",
    "## 표준화 하고 분석한 값과 표준화 하지 않고 분석 한 값이 비슷하면 표준화를 안해도 좋다. 퍼포먼스 더 좋음\n",
    "\n",
    "# 표준화\n",
    "iris1<- scale(iris[,-5])\n",
    "iris1 <- data.frame(iris1)\n",
    "iris1$Species <- iris$Species\n",
    "\n",
    "# Sampling (공통)\n",
    "# set.seed(1234)\n",
    "samp <- createDataPartition(iris1$Species, p=0.7, list=F) # 0.7 0.75 0.8 정도를 많이 사용. 데이터 많을 때는 0.8 사용 추천\n",
    "# 학습용 데이터 만들기 \n",
    "data.tr <- iris1[samp,]\n",
    "# 검증용 데이터 만들기\n",
    "data.test <- iris1[-samp,]\n",
    "# 문제와 정답 만들기\n",
    "x <- subset(data.test, select = -Species)\n",
    "y <- data.test$Species\n",
    "\n",
    "# 학습시키기\n",
    "model.mt <- multinom(Species ~ ., data = data.tr)\n",
    "\n",
    "# 검증하기\n",
    "pred <- predict(model.mt , x)\n",
    "\n",
    "# 예측율 및 오분류표\n",
    "mean(pred == y)\n",
    "table(pred , y)"
   ]
  }
 ],
 "metadata": {
  "kernelspec": {
   "display_name": "R",
   "language": "R",
   "name": "ir"
  },
  "language_info": {
   "codemirror_mode": "r",
   "file_extension": ".r",
   "mimetype": "text/x-r-source",
   "name": "R",
   "pygments_lexer": "r",
   "version": "3.6.1"
  },
  "orig_nbformat": 4
 },
 "nbformat": 4,
 "nbformat_minor": 2
}
