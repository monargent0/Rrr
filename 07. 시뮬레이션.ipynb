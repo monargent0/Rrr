{
 "cells": [
  {
   "cell_type": "markdown",
   "metadata": {},
   "source": [
    "# 몬테카를로 시뮬레이션\n",
    "\n",
    "### 동전의 앞면과 뒷면 시뮬레이션"
   ]
  },
  {
   "cell_type": "code",
   "execution_count": 7,
   "metadata": {
    "vscode": {
     "languageId": "r"
    }
   },
   "outputs": [
    {
     "name": "stdout",
     "output_type": "stream",
     "text": [
      "[1] 1\n"
     ]
    }
   ],
   "source": [
    "x <- runif(1)\n",
    "if(x <= 1/2){\n",
    "    result = 0 # 앞면\n",
    "}else{\n",
    "    result = 1 # 뒷면\n",
    "}\n",
    "\n",
    "print(result)"
   ]
  },
  {
   "cell_type": "code",
   "execution_count": 11,
   "metadata": {
    "vscode": {
     "languageId": "r"
    }
   },
   "outputs": [],
   "source": [
    "coin <- function(n){\n",
    "    count1 = 0 # 앞면 데이터 누적\n",
    "    count2 = 0 # 뒷면 데이터 누적\n",
    "    for(i in 1:n){\n",
    "        if(runif(1) <= 1/2){\n",
    "            count1 = count1 + 1\n",
    "        }else{\n",
    "            count2 = count2 + 1\n",
    "        }\n",
    "    }\n",
    "    cat(\"앞면 :\", count1, \"\\n\")\n",
    "    cat(\"뒷면 :\", count2, \"\\n\")\n",
    "    cat(\"------------------\\n\")\n",
    "}"
   ]
  },
  {
   "cell_type": "code",
   "execution_count": 12,
   "metadata": {
    "vscode": {
     "languageId": "r"
    }
   },
   "outputs": [
    {
     "name": "stdout",
     "output_type": "stream",
     "text": [
      "앞면 : 4 \n",
      "뒷면 : 6 \n",
      "------------------\n",
      "앞면 : 56 \n",
      "뒷면 : 44 \n",
      "------------------\n",
      "앞면 : 492 \n",
      "뒷면 : 508 \n",
      "------------------\n",
      "앞면 : 5027 \n",
      "뒷면 : 4973 \n",
      "------------------\n",
      "앞면 : 50239 \n",
      "뒷면 : 49761 \n",
      "------------------\n",
      "앞면 : 499899 \n",
      "뒷면 : 500101 \n",
      "------------------\n"
     ]
    }
   ],
   "source": [
    "coin(10)\n",
    "coin(100)\n",
    "coin(1000)\n",
    "coin(10000) # BigData\n",
    "coin(100000) # 5:5에 근접해지고 있단걸 증명\n",
    "coin(1000000) # "
   ]
  },
  {
   "cell_type": "markdown",
   "metadata": {},
   "source": [
    "### 가위, 바위, 보 시뮬레이션"
   ]
  },
  {
   "cell_type": "code",
   "execution_count": 43,
   "metadata": {
    "vscode": {
     "languageId": "r"
    }
   },
   "outputs": [],
   "source": [
    "rock <- function(n){\n",
    "    scissors = 0 # 가위 데이터 누적\n",
    "    rock = 0 # 바위 데이터 누적\n",
    "    paper = 0 # 보 데이터 누적\n",
    "    for(i in 1:n){\n",
    "        a <- runif(1 , 0, 3) \n",
    "        if(a %/% 1 == 0 ){\n",
    "            scissors = scissors + 1\n",
    "        }else if(a %/% 1 == 1){\n",
    "            rock = rock + 1\n",
    "        }else{\n",
    "            paper = paper + 1\n",
    "        }\n",
    "    }\n",
    "    cat(\"가위 :\", scissors, \"\\n\")\n",
    "    cat(\"바위 :\", rock, \"\\n\")\n",
    "    cat(\"보 :\", paper, \"\\n\")\n",
    "    cat(\"------------------\\n\")\n",
    "}\n",
    "# 선생님 답안\n",
    "rock1 <- function(n){\n",
    "    scissors = 0 # 가위 데이터 누적\n",
    "    rock = 0 # 바위 데이터 누적\n",
    "    paper = 0 # 보 데이터 누적\n",
    "    for(i in 1:n){\n",
    "        a <- trunc(runif(1) * 3) + 1 \n",
    "        if(a == 1 ) scissors = scissors + 1\n",
    "        if(a == 2) rock = rock + 1\n",
    "        if(a == 3) paper = paper + 1\n",
    "    }\n",
    "    cat(\"가위 :\", scissors, \"\\n\")\n",
    "    cat(\"바위 :\", rock, \"\\n\")\n",
    "    cat(\"보 :\", paper, \"\\n\")\n",
    "    cat(\"------------------\\n\")\n",
    "}"
   ]
  },
  {
   "cell_type": "code",
   "execution_count": 39,
   "metadata": {
    "vscode": {
     "languageId": "r"
    }
   },
   "outputs": [
    {
     "name": "stdout",
     "output_type": "stream",
     "text": [
      "가위 : 5 \n",
      "바위 : 2 \n",
      "보 : 3 \n",
      "------------------\n",
      "가위 : 32 \n",
      "바위 : 40 \n",
      "보 : 28 \n",
      "------------------\n",
      "가위 : 327 \n",
      "바위 : 329 \n",
      "보 : 344 \n",
      "------------------\n",
      "가위 : 3345 \n",
      "바위 : 3292 \n",
      "보 : 3363 \n",
      "------------------\n",
      "가위 : 33301 \n",
      "바위 : 33430 \n",
      "보 : 33269 \n",
      "------------------\n",
      "가위 : 333516 \n",
      "바위 : 332725 \n",
      "보 : 333759 \n",
      "------------------\n"
     ]
    }
   ],
   "source": [
    "rock(10)\n",
    "rock(100)\n",
    "rock(1000)\n",
    "rock(10000) # 3:3:3에 근접\n",
    "rock(100000) \n",
    "rock(1000000) "
   ]
  },
  {
   "cell_type": "markdown",
   "metadata": {},
   "source": [
    "### 주사위 시뮬레이션 \n"
   ]
  },
  {
   "cell_type": "code",
   "execution_count": 67,
   "metadata": {
    "vscode": {
     "languageId": "r"
    }
   },
   "outputs": [],
   "source": [
    "# 가능한 if문을 안쓰는 것이 퍼포먼스에 좋다\n",
    "dice <- function(n){\n",
    "    result = rep(0,6) # c(0,0,0,0,0,0)\n",
    "    for(i in 1:n){\n",
    "        a <- trunc(runif(1) * 6) + 1 \n",
    "        result[a] = result[a] + 1\n",
    "    }\n",
    "    # 출력\n",
    "    options(scipen = 999) # '1e+자릿수' 지수 표기를 숫자로 표기하게 변경\n",
    "    cat(\"Throw :\", n, \"\\n\")\n",
    "    for(i in 1:length(result)){\n",
    "        cat(\"No\", i, \":\", result[i], \"\\n\")\n",
    "    }\n",
    "    cat(\"------------------\\n\")\n",
    "}"
   ]
  },
  {
   "cell_type": "code",
   "execution_count": 68,
   "metadata": {
    "vscode": {
     "languageId": "r"
    }
   },
   "outputs": [
    {
     "name": "stdout",
     "output_type": "stream",
     "text": [
      "Throw : 10 \n",
      "No 1 : 3 \n",
      "No 2 : 0 \n",
      "No 3 : 3 \n",
      "No 4 : 0 \n",
      "No 5 : 2 \n",
      "No 6 : 2 \n",
      "------------------\n",
      "Throw : 100 \n",
      "No 1 : 11 \n",
      "No 2 : 18 \n",
      "No 3 : 19 \n",
      "No 4 : 18 \n",
      "No 5 : 22 \n",
      "No 6 : 12 \n",
      "------------------\n",
      "Throw : 1000 \n",
      "No 1 : 180 \n",
      "No 2 : 168 \n",
      "No 3 : 164 \n",
      "No 4 : 164 \n",
      "No 5 : 154 \n",
      "No 6 : 170 \n",
      "------------------\n",
      "Throw : 10000 \n",
      "No 1 : 1673 \n",
      "No 2 : 1696 \n",
      "No 3 : 1618 \n",
      "No 4 : 1620 \n",
      "No 5 : 1650 \n",
      "No 6 : 1743 \n",
      "------------------\n",
      "Throw : 100000 \n",
      "No 1 : 16502 \n",
      "No 2 : 16515 \n",
      "No 3 : 16749 \n",
      "No 4 : 16597 \n",
      "No 5 : 16862 \n",
      "No 6 : 16775 \n",
      "------------------\n",
      "Throw : 1000000 \n",
      "No 1 : 166480 \n",
      "No 2 : 166703 \n",
      "No 3 : 166835 \n",
      "No 4 : 166783 \n",
      "No 5 : 166637 \n",
      "No 6 : 166562 \n",
      "------------------\n",
      "Throw : 1000000 \n",
      "No 1 : 167053 \n",
      "No 2 : 166187 \n",
      "No 3 : 166958 \n",
      "No 4 : 166503 \n",
      "No 5 : 166716 \n",
      "No 6 : 166583 \n",
      "------------------\n"
     ]
    }
   ],
   "source": [
    "dice(10)\n",
    "dice(100)\n",
    "dice(1000)\n",
    "dice(10000) \n",
    "dice(100000) \n",
    "dice(1000000) \n",
    "dice(format(1000000, scientific=F)) # 지정해서 지수 표기 해제"
   ]
  },
  {
   "cell_type": "markdown",
   "metadata": {},
   "source": [
    "> 끗"
   ]
  }
 ],
 "metadata": {
  "kernelspec": {
   "display_name": "R",
   "language": "R",
   "name": "ir"
  },
  "language_info": {
   "codemirror_mode": "r",
   "file_extension": ".r",
   "mimetype": "text/x-r-source",
   "name": "R",
   "pygments_lexer": "r",
   "version": "3.6.1"
  },
  "orig_nbformat": 4
 },
 "nbformat": 4,
 "nbformat_minor": 2
}
