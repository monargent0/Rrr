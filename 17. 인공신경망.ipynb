{
 "cells": [
  {
   "cell_type": "markdown",
   "metadata": {},
   "source": [
    "- 인공신경망 부터 머신러닝 @ \n",
    "인공지능의 한 분야 : 머신러닝 - 머신러닝중의 한 분야 : 딥러닝 (인공신경망) - 최종적으로 로봇을 만들기 위함 \n",
    "로봇이 다루기 좋은 것은 모터 이다 . 엔진은 다룰 수 없다. 그래서 나온게 전기차  ??\n",
    "R 에서는 딥러닝을 구현할수가 없다. 데이터사이언스 쪽은 파이썬에서 할 예정 \n",
    "* Y = aX + b 회귀식 \n",
    "데이터를 자르는 방식에 따라 모델(머신러닝 종류)가 달라진다 \n",
    "비정형데이터(그림,음성 등등)는 딥러닝이 훨씬 좋다 / 정형데이터 - 선형\n",
    "가중치(Weight, DL : W) \n",
    "노드,유닛 (DL : 뉴런, Neuron)\n",
    "다층 페셉트론 : 가장 적합한 수식으로 적용된다. /R에없음\n",
    "데이터는 머신러닝 10만, 딥러닝 1000만개 정도는 필요"
   ]
  },
  {
   "cell_type": "markdown",
   "metadata": {},
   "source": [
    "# Machine Learning\n",
    "\n",
    "### 인공신경망\n",
    "- 인공신경망은 Python에서 Deep Learning으로 발전됨"
   ]
  },
  {
   "cell_type": "code",
   "execution_count": 2,
   "metadata": {
    "vscode": {
     "languageId": "r"
    }
   },
   "outputs": [
    {
     "name": "stdout",
     "output_type": "stream",
     "text": [
      "  Sepal.Length Sepal.Width Petal.Length Petal.Width Species\n",
      "1          5.1         3.5          1.4         0.2  setosa\n",
      "2          4.9         3.0          1.4         0.2  setosa\n",
      "3          4.7         3.2          1.3         0.2  setosa\n",
      "4          4.6         3.1          1.5         0.2  setosa\n",
      "5          5.0         3.6          1.4         0.2  setosa\n",
      "6          5.4         3.9          1.7         0.4  setosa\n"
     ]
    }
   ],
   "source": [
    "print(head(iris))"
   ]
  },
  {
   "cell_type": "code",
   "execution_count": 32,
   "metadata": {
    "vscode": {
     "languageId": "r"
    }
   },
   "outputs": [
    {
     "data": {
      "text/plain": [
       "  Sepal.Length    Sepal.Width     Petal.Length    Petal.Width         Species  \n",
       " Min.   :4.300   Min.   :2.200   Min.   :1.100   Min.   :0.10   setosa    :35  \n",
       " 1st Qu.:5.100   1st Qu.:2.800   1st Qu.:1.600   1st Qu.:0.30   versicolor:35  \n",
       " Median :5.800   Median :3.000   Median :4.300   Median :1.30   virginica :35  \n",
       " Mean   :5.847   Mean   :3.042   Mean   :3.749   Mean   :1.19                  \n",
       " 3rd Qu.:6.400   3rd Qu.:3.300   3rd Qu.:5.100   3rd Qu.:1.80                  \n",
       " Max.   :7.900   Max.   :4.400   Max.   :6.900   Max.   :2.50                  "
      ]
     },
     "metadata": {},
     "output_type": "display_data"
    },
    {
     "data": {
      "text/plain": [
       "  Sepal.Length    Sepal.Width     Petal.Length   Petal.Width          Species  \n",
       " Min.   :4.400   Min.   :2.000   Min.   :1.00   Min.   :0.100   setosa    :15  \n",
       " 1st Qu.:5.100   1st Qu.:2.800   1st Qu.:1.60   1st Qu.:0.300   versicolor:15  \n",
       " Median :5.800   Median :3.100   Median :4.70   Median :1.400   virginica :15  \n",
       " Mean   :5.836   Mean   :3.093   Mean   :3.78   Mean   :1.222                  \n",
       " 3rd Qu.:6.500   3rd Qu.:3.400   3rd Qu.:5.10   3rd Qu.:1.900                  \n",
       " Max.   :7.700   Max.   :4.100   Max.   :6.70   Max.   :2.500                  "
      ]
     },
     "metadata": {},
     "output_type": "display_data"
    }
   ],
   "source": [
    "# 학습용 데이터와 검증용 데이터의 분리 ### 데이터가 두개 있다면 분리시킬 필요 없다\n",
    "## 샘플링 (매우 중요)\n",
    "\n",
    "set.seed(1234) # 랜덤의 범위를 동일하게 맞추기 위함, 수업용\n",
    "samp <- c(sample( 1:50, 35), sample(51:100, 35), sample(101:150, 35)) # setosa/ versicolor / virginica\n",
    "# samp # 균등하게 70% 데이터를 가져옴\n",
    "\n",
    "# 학습용 데이터 셋\n",
    "data.tr <- iris[samp,]\n",
    "\n",
    "# 검증용 데이터 셋 (학습용으로 빼낸 것 외의 나머지, 학습용과 겹치면 안된다!)\n",
    "data.test <- iris[-samp,]\n",
    "\n",
    "# 잘 가져왔는지 확인\n",
    "summary(data.tr)\n",
    "summary(data.test)"
   ]
  },
  {
   "cell_type": "markdown",
   "metadata": {},
   "source": [
    "### 학습 시키기"
   ]
  },
  {
   "cell_type": "code",
   "execution_count": 9,
   "metadata": {
    "vscode": {
     "languageId": "r"
    }
   },
   "outputs": [],
   "source": [
    "# 인공 신경망 모델 사용 \n",
    "library(nnet)"
   ]
  },
  {
   "cell_type": "code",
   "execution_count": 33,
   "metadata": {
    "vscode": {
     "languageId": "r"
    }
   },
   "outputs": [
    {
     "name": "stdout",
     "output_type": "stream",
     "text": [
      "# weights:  27\n",
      "initial  value 121.492256 \n",
      "iter  10 value 110.581609\n",
      "iter  20 value 49.740861\n",
      "iter  30 value 26.600820\n",
      "iter  40 value 1.834814\n",
      "iter  50 value 0.008937\n",
      "final  value 0.000074 \n",
      "converged\n"
     ]
    }
   ],
   "source": [
    "# Model 만들기\n",
    "model.nnet <- nnet(Species ~ . ,data = data.tr, size=3) \n",
    "# 나머지 컬럼들로 Species를 예측하겠다 / \n",
    "# size : 은닉층 갯수로 sample 수보다 작아야 함.( Hyper Parameter ) , 사이즈가 작고 값이 정확하게 나오는게 좋다\n",
    "\n",
    "# data.tr을 공부 시켰음"
   ]
  },
  {
   "cell_type": "code",
   "execution_count": 34,
   "metadata": {
    "vscode": {
     "languageId": "r"
    }
   },
   "outputs": [],
   "source": [
    "# 문제 및 정답 만들기\n",
    "x <- subset(data.test, select = -Species) # 문제\n",
    "y <- data.test$Species # 정답"
   ]
  },
  {
   "cell_type": "code",
   "execution_count": 35,
   "metadata": {
    "vscode": {
     "languageId": "r"
    }
   },
   "outputs": [
    {
     "data": {
      "text/html": [
       "<ol class=list-inline>\n",
       "\t<li>'setosa'</li>\n",
       "\t<li>'setosa'</li>\n",
       "\t<li>'setosa'</li>\n",
       "\t<li>'setosa'</li>\n",
       "\t<li>'setosa'</li>\n",
       "\t<li>'setosa'</li>\n",
       "</ol>\n"
      ],
      "text/latex": [
       "\\begin{enumerate*}\n",
       "\\item 'setosa'\n",
       "\\item 'setosa'\n",
       "\\item 'setosa'\n",
       "\\item 'setosa'\n",
       "\\item 'setosa'\n",
       "\\item 'setosa'\n",
       "\\end{enumerate*}\n"
      ],
      "text/markdown": [
       "1. 'setosa'\n",
       "2. 'setosa'\n",
       "3. 'setosa'\n",
       "4. 'setosa'\n",
       "5. 'setosa'\n",
       "6. 'setosa'\n",
       "\n",
       "\n"
      ],
      "text/plain": [
       "[1] \"setosa\" \"setosa\" \"setosa\" \"setosa\" \"setosa\" \"setosa\""
      ]
     },
     "metadata": {},
     "output_type": "display_data"
    }
   ],
   "source": [
    "# 검증\n",
    "pred <- predict(model.nnet , x, type = \"class\") # class : 분류된것 (객관식), raw (주관식)\n",
    "head(pred)\n"
   ]
  },
  {
   "cell_type": "code",
   "execution_count": 36,
   "metadata": {
    "vscode": {
     "languageId": "r"
    }
   },
   "outputs": [
    {
     "data": {
      "text/html": [
       "0.955555555555556"
      ],
      "text/latex": [
       "0.955555555555556"
      ],
      "text/markdown": [
       "0.955555555555556"
      ],
      "text/plain": [
       "[1] 0.9555556"
      ]
     },
     "metadata": {},
     "output_type": "display_data"
    }
   ],
   "source": [
    "# 정확도 확인 \n",
    "mean(pred == y)"
   ]
  },
  {
   "cell_type": "code",
   "execution_count": 37,
   "metadata": {
    "vscode": {
     "languageId": "r"
    }
   },
   "outputs": [
    {
     "data": {
      "text/plain": [
       "            y\n",
       "pred         setosa versicolor virginica\n",
       "  setosa         15          0         0\n",
       "  versicolor      0         13         0\n",
       "  virginica       0          2        15"
      ]
     },
     "metadata": {},
     "output_type": "display_data"
    }
   ],
   "source": [
    "# 정오표 확인 (제일 중요)\n",
    "table(pred, y)\n",
    "# 한쪽으로 쏠려서 틀리면 사용 불가\n",
    "# 골고루 공평하게 틀리면 그래도 사용 가능 @ 공평한게 포인트 "
   ]
  },
  {
   "cell_type": "code",
   "execution_count": 30,
   "metadata": {
    "vscode": {
     "languageId": "r"
    }
   },
   "outputs": [
    {
     "data": {
      "text/plain": [
       "  Sepal.Length    Sepal.Width     Petal.Length    Petal.Width   \n",
       " Min.   :4.300   Min.   :2.200   Min.   :1.100   Min.   :0.100  \n",
       " 1st Qu.:5.125   1st Qu.:2.800   1st Qu.:1.525   1st Qu.:0.300  \n",
       " Median :5.750   Median :3.000   Median :4.350   Median :1.300  \n",
       " Mean   :5.861   Mean   :3.059   Mean   :3.768   Mean   :1.201  \n",
       " 3rd Qu.:6.475   3rd Qu.:3.300   3rd Qu.:5.100   3rd Qu.:1.800  \n",
       " Max.   :7.900   Max.   :4.400   Max.   :6.900   Max.   :2.500  \n",
       "       Species  \n",
       " setosa    :30  \n",
       " versicolor:30  \n",
       " virginica :30  \n",
       "                \n",
       "                \n",
       "                "
      ]
     },
     "metadata": {},
     "output_type": "display_data"
    },
    {
     "data": {
      "text/plain": [
       "  Sepal.Length    Sepal.Width     Petal.Length    Petal.Width   \n",
       " Min.   :4.400   Min.   :2.000   Min.   :1.000   Min.   :0.100  \n",
       " 1st Qu.:5.100   1st Qu.:2.800   1st Qu.:1.600   1st Qu.:0.300  \n",
       " Median :5.800   Median :3.000   Median :4.350   Median :1.350  \n",
       " Mean   :5.817   Mean   :3.055   Mean   :3.743   Mean   :1.197  \n",
       " 3rd Qu.:6.325   3rd Qu.:3.400   3rd Qu.:5.100   3rd Qu.:1.900  \n",
       " Max.   :7.700   Max.   :4.100   Max.   :6.700   Max.   :2.500  \n",
       "       Species  \n",
       " setosa    :20  \n",
       " versicolor:20  \n",
       " virginica :20  \n",
       "                \n",
       "                \n",
       "                "
      ]
     },
     "metadata": {},
     "output_type": "display_data"
    },
    {
     "name": "stdout",
     "output_type": "stream",
     "text": [
      "# weights:  27\n",
      "initial  value 123.618119 \n",
      "iter  10 value 41.555043\n",
      "iter  20 value 0.594326\n",
      "iter  30 value 0.000706\n",
      "final  value 0.000054 \n",
      "converged\n"
     ]
    },
    {
     "data": {
      "text/html": [
       "<ol class=list-inline>\n",
       "\t<li>'setosa'</li>\n",
       "\t<li>'setosa'</li>\n",
       "\t<li>'setosa'</li>\n",
       "\t<li>'setosa'</li>\n",
       "\t<li>'setosa'</li>\n",
       "\t<li>'setosa'</li>\n",
       "</ol>\n"
      ],
      "text/latex": [
       "\\begin{enumerate*}\n",
       "\\item 'setosa'\n",
       "\\item 'setosa'\n",
       "\\item 'setosa'\n",
       "\\item 'setosa'\n",
       "\\item 'setosa'\n",
       "\\item 'setosa'\n",
       "\\end{enumerate*}\n"
      ],
      "text/markdown": [
       "1. 'setosa'\n",
       "2. 'setosa'\n",
       "3. 'setosa'\n",
       "4. 'setosa'\n",
       "5. 'setosa'\n",
       "6. 'setosa'\n",
       "\n",
       "\n"
      ],
      "text/plain": [
       "[1] \"setosa\" \"setosa\" \"setosa\" \"setosa\" \"setosa\" \"setosa\""
      ]
     },
     "metadata": {},
     "output_type": "display_data"
    },
    {
     "data": {
      "text/html": [
       "0.933333333333333"
      ],
      "text/latex": [
       "0.933333333333333"
      ],
      "text/markdown": [
       "0.933333333333333"
      ],
      "text/plain": [
       "[1] 0.9333333"
      ]
     },
     "metadata": {},
     "output_type": "display_data"
    },
    {
     "data": {
      "text/plain": [
       "            y\n",
       "pred         setosa versicolor virginica\n",
       "  setosa         20          0         0\n",
       "  versicolor      0         19         3\n",
       "  virginica       0          1        17"
      ]
     },
     "metadata": {},
     "output_type": "display_data"
    }
   ],
   "source": [
    "##########\n",
    "set.seed(1234) # 랜덤의 범위를 동일하게 맞추기 위함, 수업용\n",
    "samp <- c(sample( 1:50, 30), sample(51:100, 30), sample(101:150, 30)) # setosa/ versicolor / virginica\n",
    "# samp # 균등하게 70% 데이터를 가져옴\n",
    "\n",
    "# 학습용 데이터 셋\n",
    "data.tr <- iris[samp,]\n",
    "\n",
    "# 검증용 데이터 셋 (학습용으로 빼낸 것 외의 나머지, 학습용과 겹치면 안된다!)\n",
    "data.test <- iris[-samp,]\n",
    "\n",
    "# 잘 가져왔는지 확인\n",
    "summary(data.tr)\n",
    "summary(data.test)\n",
    "\n",
    "# Model 만들기\n",
    "model.nnet <- nnet(Species ~ . ,data = data.tr, size=3) \n",
    "\n",
    "x <- subset(data.test, select = -Species) # 문제\n",
    "y <- data.test$Species # 정답\n",
    "\n",
    "pred <- predict( model.nnet , x, type = \"class\") # class : 분류된것 (객관식), raw (주관식)\n",
    "head(pred)\n",
    "\n",
    "# 정확도 확인 \n",
    "mean(pred == y)\n",
    "table(pred, y)"
   ]
  },
  {
   "cell_type": "markdown",
   "metadata": {},
   "source": [
    "---\n",
    "# 학습시킨 머신러닝 사용하기 "
   ]
  },
  {
   "cell_type": "code",
   "execution_count": 56,
   "metadata": {
    "vscode": {
     "languageId": "r"
    }
   },
   "outputs": [],
   "source": [
    "# Sepal.Length = 5.3\n",
    "# Sepal.Width = 3.3\n",
    "# Petal.Length = 1.6\n",
    "# Petal.Width = 0.3"
   ]
  },
  {
   "cell_type": "markdown",
   "metadata": {},
   "source": [
    "- 현재 AI는 105개의 데이터로 공부한 모델임.\n",
    "- Training과 Test를 통해서 정확도가 입증 되었다면 전체 Dataset으로 AI를 구성하여 사용 "
   ]
  },
  {
   "cell_type": "code",
   "execution_count": 77,
   "metadata": {
    "vscode": {
     "languageId": "r"
    }
   },
   "outputs": [
    {
     "name": "stdout",
     "output_type": "stream",
     "text": [
      "# weights:  27\n",
      "initial  value 170.764229 \n",
      "iter  10 value 70.566911\n",
      "iter  20 value 69.318909\n",
      "iter  30 value 69.314729\n",
      "final  value 69.314719 \n",
      "converged\n"
     ]
    }
   ],
   "source": [
    "##########\n",
    "# Model 만들기\n",
    "model.nnet2 <- nnet(Species ~ . ,data = iris, size=3) \n",
    "\n",
    "# x <- subset(data.test, select = -Species) # 문제\n",
    "# y <- data.test$Species # 정답\n",
    "\n",
    "# pred <- predict( model.nnet2 , x, type = \"class\") # class : 분류된것 (객관식), raw (주관식)\n",
    "# head(pred)\n",
    "\n",
    "# # 정확도 확인 \n",
    "# mean(pred == y)\n",
    "# table(pred, y)"
   ]
  },
  {
   "cell_type": "code",
   "execution_count": 75,
   "metadata": {
    "vscode": {
     "languageId": "r"
    }
   },
   "outputs": [
    {
     "data": {
      "text/html": [
       "'setosa'"
      ],
      "text/latex": [
       "'setosa'"
      ],
      "text/markdown": [
       "'setosa'"
      ],
      "text/plain": [
       "[1] \"setosa\""
      ]
     },
     "metadata": {},
     "output_type": "display_data"
    },
    {
     "data": {
      "text/html": [
       "'setosa'"
      ],
      "text/latex": [
       "'setosa'"
      ],
      "text/markdown": [
       "'setosa'"
      ],
      "text/plain": [
       "[1] \"setosa\""
      ]
     },
     "metadata": {},
     "output_type": "display_data"
    }
   ],
   "source": [
    "# 전체 데이터로 만든 Model로 종류 예측하기 \n",
    "\n",
    "## 데이터프레임 만드는 방법 1)\n",
    "문제 <- data.frame(Sepal.Length = 5.3, Sepal.Width = 3.3, Petal.Length = 1.6, Petal.Width = 0.3)\n",
    "\n",
    "predict( model.nnet2 , 문제 , type = \"class\") \n",
    "\n",
    "## 데이터프레임 만드는 방법 2)\n",
    "문제 <- data.frame(5.3, 3.3, 1.6, 0.3)\n",
    "colnames(문제) <- colnames(iris[,1:4])\n",
    "\n",
    "predict( model.nnet2 , 문제 , type = \"class\") "
   ]
  },
  {
   "cell_type": "code",
   "execution_count": 78,
   "metadata": {
    "vscode": {
     "languageId": "r"
    }
   },
   "outputs": [
    {
     "data": {
      "text/html": [
       "'versicolor'"
      ],
      "text/latex": [
       "'versicolor'"
      ],
      "text/markdown": [
       "'versicolor'"
      ],
      "text/plain": [
       "[1] \"versicolor\""
      ]
     },
     "metadata": {},
     "output_type": "display_data"
    },
    {
     "data": {
      "text/plain": [
       "  Sepal.Length    Sepal.Width     Petal.Length    Petal.Width   \n",
       " Min.   :4.300   Min.   :2.000   Min.   :1.000   Min.   :0.100  \n",
       " 1st Qu.:5.100   1st Qu.:2.800   1st Qu.:1.600   1st Qu.:0.300  \n",
       " Median :5.800   Median :3.000   Median :4.350   Median :1.300  \n",
       " Mean   :5.843   Mean   :3.057   Mean   :3.758   Mean   :1.199  \n",
       " 3rd Qu.:6.400   3rd Qu.:3.300   3rd Qu.:5.100   3rd Qu.:1.800  \n",
       " Max.   :7.900   Max.   :4.400   Max.   :6.900   Max.   :2.500  \n",
       "       Species  \n",
       " setosa    :50  \n",
       " versicolor:50  \n",
       " virginica :50  \n",
       "                \n",
       "                \n",
       "                "
      ]
     },
     "metadata": {},
     "output_type": "display_data"
    }
   ],
   "source": [
    "# Sepal.Length = 9.3\n",
    "# Sepal.Width = 2.2\n",
    "# Petal.Length = 7.5\n",
    "# Petal.Width = 3.5\n",
    "\n",
    "문제2 <- data.frame(9.3, 2.2, 7.5, 3.5)\n",
    "colnames(문제2) <- colnames(iris[,1:4])\n",
    "\n",
    "predict( model.nnet2 , 문제2 , type = \"class\")\n",
    "\n",
    "summary(iris)\n",
    "\n",
    "# 얘는 iris가 아니다. AI가 공부한 iris범위에 벗어나 있다. 그냥 제일 큰 값으로 답을 뱉어낸 것임. "
   ]
  },
  {
   "cell_type": "markdown",
   "metadata": {},
   "source": [
    "> 5/6 끗"
   ]
  },
  {
   "cell_type": "code",
   "execution_count": null,
   "metadata": {
    "vscode": {
     "languageId": "r"
    }
   },
   "outputs": [],
   "source": []
  }
 ],
 "metadata": {
  "kernelspec": {
   "display_name": "R",
   "language": "R",
   "name": "ir"
  },
  "language_info": {
   "codemirror_mode": "r",
   "file_extension": ".r",
   "mimetype": "text/x-r-source",
   "name": "R",
   "pygments_lexer": "r",
   "version": "3.6.1"
  },
  "orig_nbformat": 4
 },
 "nbformat": 4,
 "nbformat_minor": 2
}
