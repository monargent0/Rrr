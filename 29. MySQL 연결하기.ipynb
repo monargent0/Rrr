{
 "cells": [
  {
   "cell_type": "markdown",
   "metadata": {},
   "source": [
    "## MySQL 설정\n",
    "- Database Name: RSQL\n",
    "- Table Name: Score\n",
    "- id, korean, english, math (다 숫자)\n",
    "\n",
    "## Anaconda Navigator\n",
    "- rJava, RMySQL 설치"
   ]
  },
  {
   "cell_type": "code",
   "execution_count": 4,
   "metadata": {
    "vscode": {
     "languageId": "r"
    }
   },
   "outputs": [
    {
     "name": "stderr",
     "output_type": "stream",
     "text": [
      "Loading required package: DBI\n"
     ]
    }
   ],
   "source": [
    "library(RMySQL)"
   ]
  },
  {
   "cell_type": "code",
   "execution_count": 6,
   "metadata": {
    "vscode": {
     "languageId": "r"
    }
   },
   "outputs": [],
   "source": [
    "# DB Connection \n",
    "conn <- dbConnect(MySQL(),\n",
    "        dbname = 'RSQL',\n",
    "        user = 'root',\n",
    "        password = 'qwer1234',\n",
    "        host = '127.0.0.1'\n",
    ")"
   ]
  },
  {
   "cell_type": "code",
   "execution_count": 7,
   "metadata": {
    "vscode": {
     "languageId": "r"
    }
   },
   "outputs": [
    {
     "data": {
      "text/html": [
       "'score'"
      ],
      "text/latex": [
       "'score'"
      ],
      "text/markdown": [
       "'score'"
      ],
      "text/plain": [
       "[1] \"score\""
      ]
     },
     "metadata": {},
     "output_type": "display_data"
    }
   ],
   "source": [
    "# 테이블 목록\n",
    "dbListTables(conn)"
   ]
  },
  {
   "cell_type": "code",
   "execution_count": 8,
   "metadata": {
    "vscode": {
     "languageId": "r"
    }
   },
   "outputs": [
    {
     "data": {
      "text/html": [
       "<ol class=list-inline>\n",
       "\t<li>'id'</li>\n",
       "\t<li>'korean'</li>\n",
       "\t<li>'english'</li>\n",
       "\t<li>'mathmatics'</li>\n",
       "</ol>\n"
      ],
      "text/latex": [
       "\\begin{enumerate*}\n",
       "\\item 'id'\n",
       "\\item 'korean'\n",
       "\\item 'english'\n",
       "\\item 'mathmatics'\n",
       "\\end{enumerate*}\n"
      ],
      "text/markdown": [
       "1. 'id'\n",
       "2. 'korean'\n",
       "3. 'english'\n",
       "4. 'mathmatics'\n",
       "\n",
       "\n"
      ],
      "text/plain": [
       "[1] \"id\"         \"korean\"     \"english\"    \"mathmatics\""
      ]
     },
     "metadata": {},
     "output_type": "display_data"
    }
   ],
   "source": [
    "# 테이블의 컬럼 목록\n",
    "dbListFields(conn, 'score')"
   ]
  },
  {
   "cell_type": "code",
   "execution_count": 9,
   "metadata": {
    "vscode": {
     "languageId": "r"
    }
   },
   "outputs": [
    {
     "data": {
      "text/html": [
       "<table>\n",
       "<thead><tr><th scope=col>count(*)</th></tr></thead>\n",
       "<tbody>\n",
       "\t<tr><td>0</td></tr>\n",
       "</tbody>\n",
       "</table>\n"
      ],
      "text/latex": [
       "\\begin{tabular}{r|l}\n",
       " count(*)\\\\\n",
       "\\hline\n",
       "\t 0\\\\\n",
       "\\end{tabular}\n"
      ],
      "text/markdown": [
       "\n",
       "| count(*) |\n",
       "|---|\n",
       "| 0 |\n",
       "\n"
      ],
      "text/plain": [
       "  count(*)\n",
       "1 0       "
      ]
     },
     "metadata": {},
     "output_type": "display_data"
    }
   ],
   "source": [
    "# Select \n",
    "dbGetQuery(conn, 'select count(*) from score')"
   ]
  },
  {
   "cell_type": "code",
   "execution_count": 16,
   "metadata": {
    "vscode": {
     "languageId": "r"
    }
   },
   "outputs": [
    {
     "data": {
      "text/html": [
       "<table>\n",
       "<thead><tr><th scope=col>id</th><th scope=col>korean</th><th scope=col>english</th><th scope=col>mathmatics</th></tr></thead>\n",
       "<tbody>\n",
       "\t<tr><td>1  </td><td>100</td><td>100</td><td>100</td></tr>\n",
       "\t<tr><td>2  </td><td> 90</td><td> 90</td><td> 90</td></tr>\n",
       "</tbody>\n",
       "</table>\n"
      ],
      "text/latex": [
       "\\begin{tabular}{r|llll}\n",
       " id & korean & english & mathmatics\\\\\n",
       "\\hline\n",
       "\t 1   & 100 & 100 & 100\\\\\n",
       "\t 2   &  90 &  90 &  90\\\\\n",
       "\\end{tabular}\n"
      ],
      "text/markdown": [
       "\n",
       "| id | korean | english | mathmatics |\n",
       "|---|---|---|---|\n",
       "| 1   | 100 | 100 | 100 |\n",
       "| 2   |  90 |  90 |  90 |\n",
       "\n"
      ],
      "text/plain": [
       "  id korean english mathmatics\n",
       "1 1  100    100     100       \n",
       "2 2   90     90      90       "
      ]
     },
     "metadata": {},
     "output_type": "display_data"
    }
   ],
   "source": [
    "dbGetQuery(conn, 'select * from score')"
   ]
  },
  {
   "cell_type": "code",
   "execution_count": 17,
   "metadata": {
    "vscode": {
     "languageId": "r"
    }
   },
   "outputs": [
    {
     "ename": "ERROR",
     "evalue": "Error in .local(conn, statement, ...): could not run statement: Duplicate entry '1' for key 'PRIMARY'\n",
     "output_type": "error",
     "traceback": [
      "Error in .local(conn, statement, ...): could not run statement: Duplicate entry '1' for key 'PRIMARY'\nTraceback:\n",
      "1. dbSendQuery(conn, \"insert into score values (1,100, 100, 100)\")",
      "2. dbSendQuery(conn, \"insert into score values (1,100, 100, 100)\")",
      "3. .local(conn, statement, ...)"
     ]
    }
   ],
   "source": [
    "# insert\n",
    "dbSendQuery(conn, 'insert into score values (1,100, 100, 100)')\n",
    "\n",
    "result = dbGetQuery(conn, 'select * from score')\n",
    "result"
   ]
  },
  {
   "cell_type": "code",
   "execution_count": 14,
   "metadata": {
    "vscode": {
     "languageId": "r"
    }
   },
   "outputs": [
    {
     "ename": "ERROR",
     "evalue": "Error in .local(conn, statement, ...): could not run statement: Duplicate entry '2' for key 'PRIMARY'\n",
     "output_type": "error",
     "traceback": [
      "Error in .local(conn, statement, ...): could not run statement: Duplicate entry '2' for key 'PRIMARY'\nTraceback:\n",
      "1. dbSendQuery(conn, \"insert into score values (2,90, 90, 90)\")",
      "2. dbSendQuery(conn, \"insert into score values (2,90, 90, 90)\")",
      "3. .local(conn, statement, ...)"
     ]
    }
   ],
   "source": [
    "# insert \n",
    "dbSendQuery(conn, 'insert into score values (2,90, 90, 90)')\n",
    "\n",
    "result = dbGetQuery(conn, 'select * from score')\n",
    "result"
   ]
  },
  {
   "cell_type": "code",
   "execution_count": 19,
   "metadata": {
    "vscode": {
     "languageId": "r"
    }
   },
   "outputs": [
    {
     "data": {
      "text/plain": [
       "<MySQLResult:1918986339,0,9>"
      ]
     },
     "metadata": {},
     "output_type": "display_data"
    },
    {
     "data": {
      "text/html": [
       "<table>\n",
       "<thead><tr><th scope=col>id</th><th scope=col>korean</th><th scope=col>english</th><th scope=col>mathematics</th></tr></thead>\n",
       "<tbody>\n",
       "\t<tr><td>1 </td><td>90</td><td>80</td><td>70</td></tr>\n",
       "\t<tr><td>2 </td><td>90</td><td>90</td><td>90</td></tr>\n",
       "</tbody>\n",
       "</table>\n"
      ],
      "text/latex": [
       "\\begin{tabular}{r|llll}\n",
       " id & korean & english & mathematics\\\\\n",
       "\\hline\n",
       "\t 1  & 90 & 80 & 70\\\\\n",
       "\t 2  & 90 & 90 & 90\\\\\n",
       "\\end{tabular}\n"
      ],
      "text/markdown": [
       "\n",
       "| id | korean | english | mathematics |\n",
       "|---|---|---|---|\n",
       "| 1  | 90 | 80 | 70 |\n",
       "| 2  | 90 | 90 | 90 |\n",
       "\n"
      ],
      "text/plain": [
       "  id korean english mathematics\n",
       "1 1  90     80      70         \n",
       "2 2  90     90      90         "
      ]
     },
     "metadata": {},
     "output_type": "display_data"
    }
   ],
   "source": [
    "# update\n",
    "dbSendQuery(conn, 'update score set korean=90, english=80, mathematics=70 where id = 1')\n",
    "result = dbGetQuery(conn, 'select * from score')\n",
    "result"
   ]
  },
  {
   "cell_type": "code",
   "execution_count": 20,
   "metadata": {
    "vscode": {
     "languageId": "r"
    }
   },
   "outputs": [
    {
     "data": {
      "text/plain": [
       "<MySQLResult:-561965112,0,11>"
      ]
     },
     "metadata": {},
     "output_type": "display_data"
    },
    {
     "data": {
      "text/html": [
       "<table>\n",
       "<thead><tr><th scope=col>id</th><th scope=col>korean</th><th scope=col>english</th><th scope=col>mathematics</th></tr></thead>\n",
       "<tbody>\n",
       "\t<tr><td>2 </td><td>90</td><td>90</td><td>90</td></tr>\n",
       "</tbody>\n",
       "</table>\n"
      ],
      "text/latex": [
       "\\begin{tabular}{r|llll}\n",
       " id & korean & english & mathematics\\\\\n",
       "\\hline\n",
       "\t 2  & 90 & 90 & 90\\\\\n",
       "\\end{tabular}\n"
      ],
      "text/markdown": [
       "\n",
       "| id | korean | english | mathematics |\n",
       "|---|---|---|---|\n",
       "| 2  | 90 | 90 | 90 |\n",
       "\n"
      ],
      "text/plain": [
       "  id korean english mathematics\n",
       "1 2  90     90      90         "
      ]
     },
     "metadata": {},
     "output_type": "display_data"
    }
   ],
   "source": [
    "# delete\n",
    "dbSendQuery(conn, 'delete from score where id = 1')\n",
    "result = dbGetQuery(conn, 'select * from score')\n",
    "result"
   ]
  },
  {
   "cell_type": "code",
   "execution_count": 21,
   "metadata": {
    "vscode": {
     "languageId": "r"
    }
   },
   "outputs": [
    {
     "data": {
      "text/plain": [
       "<MySQLResult:-556908456,0,13>"
      ]
     },
     "metadata": {},
     "output_type": "display_data"
    },
    {
     "data": {
      "text/html": [
       "<table>\n",
       "<thead><tr><th scope=col>id</th><th scope=col>korean</th><th scope=col>english</th><th scope=col>mathematics</th></tr></thead>\n",
       "<tbody>\n",
       "</tbody>\n",
       "</table>\n"
      ],
      "text/latex": [
       "\\begin{tabular}{r|llll}\n",
       " id & korean & english & mathematics\\\\\n",
       "\\hline\n",
       "\\end{tabular}\n"
      ],
      "text/markdown": [
       "\n",
       "| id | korean | english | mathematics |\n",
       "|---|---|---|---|\n",
       "\n"
      ],
      "text/plain": [
       "     id korean english mathematics"
      ]
     },
     "metadata": {},
     "output_type": "display_data"
    }
   ],
   "source": [
    "# delete 전체 지우기\n",
    "\n",
    "dbSendQuery(conn, 'delete from score')\n",
    "\n",
    "result = dbGetQuery(conn, 'select * from score')\n",
    "result "
   ]
  },
  {
   "cell_type": "markdown",
   "metadata": {},
   "source": [
    "### CSV파일 한꺼번에 옮기기 \n",
    "- 아래 두문장을 mySQL에 써줘야 한다 (실행까지) <br>\n",
    "SHOW VARIABLES LIKE 'local_infile';   \n",
    "SET GLOBAL local_infile = 1;"
   ]
  },
  {
   "cell_type": "code",
   "execution_count": 23,
   "metadata": {
    "vscode": {
     "languageId": "r"
    }
   },
   "outputs": [
    {
     "data": {
      "text/html": [
       "<table>\n",
       "<thead><tr><th scope=col>id</th><th scope=col>korean</th><th scope=col>english</th><th scope=col>mathematics</th></tr></thead>\n",
       "<tbody>\n",
       "\t<tr><td> 1 </td><td> 90</td><td> 80</td><td> 70</td></tr>\n",
       "\t<tr><td> 2 </td><td> 90</td><td> 88</td><td> 70</td></tr>\n",
       "\t<tr><td> 3 </td><td> 90</td><td> 89</td><td> 70</td></tr>\n",
       "\t<tr><td> 4 </td><td> 90</td><td> 87</td><td> 70</td></tr>\n",
       "\t<tr><td> 5 </td><td> 90</td><td> 60</td><td> 70</td></tr>\n",
       "\t<tr><td> 6 </td><td>100</td><td>100</td><td>100</td></tr>\n",
       "\t<tr><td> 7 </td><td>100</td><td>100</td><td>100</td></tr>\n",
       "\t<tr><td> 8 </td><td>100</td><td>100</td><td>100</td></tr>\n",
       "\t<tr><td> 9 </td><td>100</td><td>100</td><td>100</td></tr>\n",
       "\t<tr><td>10 </td><td>100</td><td>100</td><td>100</td></tr>\n",
       "</tbody>\n",
       "</table>\n"
      ],
      "text/latex": [
       "\\begin{tabular}{r|llll}\n",
       " id & korean & english & mathematics\\\\\n",
       "\\hline\n",
       "\t  1  &  90 &  80 &  70\\\\\n",
       "\t  2  &  90 &  88 &  70\\\\\n",
       "\t  3  &  90 &  89 &  70\\\\\n",
       "\t  4  &  90 &  87 &  70\\\\\n",
       "\t  5  &  90 &  60 &  70\\\\\n",
       "\t  6  & 100 & 100 & 100\\\\\n",
       "\t  7  & 100 & 100 & 100\\\\\n",
       "\t  8  & 100 & 100 & 100\\\\\n",
       "\t  9  & 100 & 100 & 100\\\\\n",
       "\t 10  & 100 & 100 & 100\\\\\n",
       "\\end{tabular}\n"
      ],
      "text/markdown": [
       "\n",
       "| id | korean | english | mathematics |\n",
       "|---|---|---|---|\n",
       "|  1  |  90 |  80 |  70 |\n",
       "|  2  |  90 |  88 |  70 |\n",
       "|  3  |  90 |  89 |  70 |\n",
       "|  4  |  90 |  87 |  70 |\n",
       "|  5  |  90 |  60 |  70 |\n",
       "|  6  | 100 | 100 | 100 |\n",
       "|  7  | 100 | 100 | 100 |\n",
       "|  8  | 100 | 100 | 100 |\n",
       "|  9  | 100 | 100 | 100 |\n",
       "| 10  | 100 | 100 | 100 |\n",
       "\n"
      ],
      "text/plain": [
       "   id korean english mathematics\n",
       "1   1  90     80      70        \n",
       "2   2  90     88      70        \n",
       "3   3  90     89      70        \n",
       "4   4  90     87      70        \n",
       "5   5  90     60      70        \n",
       "6   6 100    100     100        \n",
       "7   7 100    100     100        \n",
       "8   8 100    100     100        \n",
       "9   9 100    100     100        \n",
       "10 10 100    100     100        "
      ]
     },
     "metadata": {},
     "output_type": "display_data"
    }
   ],
   "source": [
    "# csv file을 읽어서 MySQL에 넣기\n",
    "data <- read.csv('../Data/score.csv', header = F)\n",
    "colnames(data) <- c('id', 'korean', 'english', 'mathematics')\n",
    "data"
   ]
  },
  {
   "cell_type": "code",
   "execution_count": 24,
   "metadata": {
    "vscode": {
     "languageId": "r"
    }
   },
   "outputs": [
    {
     "data": {
      "text/html": [
       "TRUE"
      ],
      "text/latex": [
       "TRUE"
      ],
      "text/markdown": [
       "TRUE"
      ],
      "text/plain": [
       "[1] TRUE"
      ]
     },
     "metadata": {},
     "output_type": "display_data"
    }
   ],
   "source": [
    "#overwrite=T :  다 지우고 덮어씀!  append=T :  기존 데이터에 덧붙임\n",
    "dbWriteTable(conn, 'score', data, overwrite=T, row.names = F) "
   ]
  },
  {
   "cell_type": "code",
   "execution_count": 25,
   "metadata": {
    "vscode": {
     "languageId": "r"
    }
   },
   "outputs": [
    {
     "data": {
      "text/html": [
       "<table>\n",
       "<thead><tr><th scope=col>id</th><th scope=col>korean</th><th scope=col>english</th><th scope=col>mathematics</th></tr></thead>\n",
       "<tbody>\n",
       "\t<tr><td> 1 </td><td> 90</td><td> 80</td><td> 70</td></tr>\n",
       "\t<tr><td> 2 </td><td> 90</td><td> 88</td><td> 70</td></tr>\n",
       "\t<tr><td> 3 </td><td> 90</td><td> 89</td><td> 70</td></tr>\n",
       "\t<tr><td> 4 </td><td> 90</td><td> 87</td><td> 70</td></tr>\n",
       "\t<tr><td> 5 </td><td> 90</td><td> 60</td><td> 70</td></tr>\n",
       "\t<tr><td> 6 </td><td>100</td><td>100</td><td>100</td></tr>\n",
       "\t<tr><td> 7 </td><td>100</td><td>100</td><td>100</td></tr>\n",
       "\t<tr><td> 8 </td><td>100</td><td>100</td><td>100</td></tr>\n",
       "\t<tr><td> 9 </td><td>100</td><td>100</td><td>100</td></tr>\n",
       "\t<tr><td>10 </td><td>100</td><td>100</td><td>100</td></tr>\n",
       "</tbody>\n",
       "</table>\n"
      ],
      "text/latex": [
       "\\begin{tabular}{r|llll}\n",
       " id & korean & english & mathematics\\\\\n",
       "\\hline\n",
       "\t  1  &  90 &  80 &  70\\\\\n",
       "\t  2  &  90 &  88 &  70\\\\\n",
       "\t  3  &  90 &  89 &  70\\\\\n",
       "\t  4  &  90 &  87 &  70\\\\\n",
       "\t  5  &  90 &  60 &  70\\\\\n",
       "\t  6  & 100 & 100 & 100\\\\\n",
       "\t  7  & 100 & 100 & 100\\\\\n",
       "\t  8  & 100 & 100 & 100\\\\\n",
       "\t  9  & 100 & 100 & 100\\\\\n",
       "\t 10  & 100 & 100 & 100\\\\\n",
       "\\end{tabular}\n"
      ],
      "text/markdown": [
       "\n",
       "| id | korean | english | mathematics |\n",
       "|---|---|---|---|\n",
       "|  1  |  90 |  80 |  70 |\n",
       "|  2  |  90 |  88 |  70 |\n",
       "|  3  |  90 |  89 |  70 |\n",
       "|  4  |  90 |  87 |  70 |\n",
       "|  5  |  90 |  60 |  70 |\n",
       "|  6  | 100 | 100 | 100 |\n",
       "|  7  | 100 | 100 | 100 |\n",
       "|  8  | 100 | 100 | 100 |\n",
       "|  9  | 100 | 100 | 100 |\n",
       "| 10  | 100 | 100 | 100 |\n",
       "\n"
      ],
      "text/plain": [
       "   id korean english mathematics\n",
       "1   1  90     80      70        \n",
       "2   2  90     88      70        \n",
       "3   3  90     89      70        \n",
       "4   4  90     87      70        \n",
       "5   5  90     60      70        \n",
       "6   6 100    100     100        \n",
       "7   7 100    100     100        \n",
       "8   8 100    100     100        \n",
       "9   9 100    100     100        \n",
       "10 10 100    100     100        "
      ]
     },
     "metadata": {},
     "output_type": "display_data"
    }
   ],
   "source": [
    "result = dbGetQuery(conn, 'select * from score')\n",
    "result"
   ]
  },
  {
   "cell_type": "code",
   "execution_count": 26,
   "metadata": {
    "vscode": {
     "languageId": "r"
    }
   },
   "outputs": [
    {
     "name": "stdout",
     "output_type": "stream",
     "text": [
      "'data.frame':\t10 obs. of  4 variables:\n",
      " $ id         : num  1 2 3 4 5 6 7 8 9 10\n",
      " $ korean     : num  90 90 90 90 90 100 100 100 100 100\n",
      " $ english    : num  80 88 89 87 60 100 100 100 100 100\n",
      " $ mathematics: num  70 70 70 70 70 100 100 100 100 100\n"
     ]
    }
   ],
   "source": [
    "str(result)"
   ]
  },
  {
   "cell_type": "code",
   "execution_count": 28,
   "metadata": {
    "vscode": {
     "languageId": "r"
    }
   },
   "outputs": [
    {
     "data": {
      "text/html": [
       "<table>\n",
       "<thead><tr><th scope=col>id</th><th scope=col>korean</th><th scope=col>english</th><th scope=col>mathematics</th></tr></thead>\n",
       "<tbody>\n",
       "\t<tr><td>11</td><td>90</td><td>80</td><td>70</td></tr>\n",
       "\t<tr><td>12</td><td>90</td><td>88</td><td>70</td></tr>\n",
       "</tbody>\n",
       "</table>\n"
      ],
      "text/latex": [
       "\\begin{tabular}{r|llll}\n",
       " id & korean & english & mathematics\\\\\n",
       "\\hline\n",
       "\t 11 & 90 & 80 & 70\\\\\n",
       "\t 12 & 90 & 88 & 70\\\\\n",
       "\\end{tabular}\n"
      ],
      "text/markdown": [
       "\n",
       "| id | korean | english | mathematics |\n",
       "|---|---|---|---|\n",
       "| 11 | 90 | 80 | 70 |\n",
       "| 12 | 90 | 88 | 70 |\n",
       "\n"
      ],
      "text/plain": [
       "  id korean english mathematics\n",
       "1 11 90     80      70         \n",
       "2 12 90     88      70         "
      ]
     },
     "metadata": {},
     "output_type": "display_data"
    }
   ],
   "source": [
    "data2 <- read.csv('../Data/score2.csv', header = F)\n",
    "colnames(data2) <- c('id', 'korean', 'english', 'mathematics')\n",
    "\n",
    "data2"
   ]
  },
  {
   "cell_type": "code",
   "execution_count": 29,
   "metadata": {
    "vscode": {
     "languageId": "r"
    }
   },
   "outputs": [
    {
     "data": {
      "text/html": [
       "TRUE"
      ],
      "text/latex": [
       "TRUE"
      ],
      "text/markdown": [
       "TRUE"
      ],
      "text/plain": [
       "[1] TRUE"
      ]
     },
     "metadata": {},
     "output_type": "display_data"
    }
   ],
   "source": [
    "#overwrite=T :  다 지우고 덮어씀!  append=T :  기존 데이터에 덧붙임\n",
    "dbWriteTable(conn, 'score', data2, append=T, row.names = F) "
   ]
  },
  {
   "cell_type": "code",
   "execution_count": 30,
   "metadata": {
    "vscode": {
     "languageId": "r"
    }
   },
   "outputs": [
    {
     "data": {
      "text/html": [
       "<table>\n",
       "<thead><tr><th scope=col>id</th><th scope=col>korean</th><th scope=col>english</th><th scope=col>mathematics</th></tr></thead>\n",
       "<tbody>\n",
       "\t<tr><td> 1 </td><td> 90</td><td> 80</td><td> 70</td></tr>\n",
       "\t<tr><td> 2 </td><td> 90</td><td> 88</td><td> 70</td></tr>\n",
       "\t<tr><td> 3 </td><td> 90</td><td> 89</td><td> 70</td></tr>\n",
       "\t<tr><td> 4 </td><td> 90</td><td> 87</td><td> 70</td></tr>\n",
       "\t<tr><td> 5 </td><td> 90</td><td> 60</td><td> 70</td></tr>\n",
       "\t<tr><td> 6 </td><td>100</td><td>100</td><td>100</td></tr>\n",
       "\t<tr><td> 7 </td><td>100</td><td>100</td><td>100</td></tr>\n",
       "\t<tr><td> 8 </td><td>100</td><td>100</td><td>100</td></tr>\n",
       "\t<tr><td> 9 </td><td>100</td><td>100</td><td>100</td></tr>\n",
       "\t<tr><td>10 </td><td>100</td><td>100</td><td>100</td></tr>\n",
       "\t<tr><td>11 </td><td> 90</td><td> 80</td><td> 70</td></tr>\n",
       "\t<tr><td>12 </td><td> 90</td><td> 88</td><td> 70</td></tr>\n",
       "</tbody>\n",
       "</table>\n"
      ],
      "text/latex": [
       "\\begin{tabular}{r|llll}\n",
       " id & korean & english & mathematics\\\\\n",
       "\\hline\n",
       "\t  1  &  90 &  80 &  70\\\\\n",
       "\t  2  &  90 &  88 &  70\\\\\n",
       "\t  3  &  90 &  89 &  70\\\\\n",
       "\t  4  &  90 &  87 &  70\\\\\n",
       "\t  5  &  90 &  60 &  70\\\\\n",
       "\t  6  & 100 & 100 & 100\\\\\n",
       "\t  7  & 100 & 100 & 100\\\\\n",
       "\t  8  & 100 & 100 & 100\\\\\n",
       "\t  9  & 100 & 100 & 100\\\\\n",
       "\t 10  & 100 & 100 & 100\\\\\n",
       "\t 11  &  90 &  80 &  70\\\\\n",
       "\t 12  &  90 &  88 &  70\\\\\n",
       "\\end{tabular}\n"
      ],
      "text/markdown": [
       "\n",
       "| id | korean | english | mathematics |\n",
       "|---|---|---|---|\n",
       "|  1  |  90 |  80 |  70 |\n",
       "|  2  |  90 |  88 |  70 |\n",
       "|  3  |  90 |  89 |  70 |\n",
       "|  4  |  90 |  87 |  70 |\n",
       "|  5  |  90 |  60 |  70 |\n",
       "|  6  | 100 | 100 | 100 |\n",
       "|  7  | 100 | 100 | 100 |\n",
       "|  8  | 100 | 100 | 100 |\n",
       "|  9  | 100 | 100 | 100 |\n",
       "| 10  | 100 | 100 | 100 |\n",
       "| 11  |  90 |  80 |  70 |\n",
       "| 12  |  90 |  88 |  70 |\n",
       "\n"
      ],
      "text/plain": [
       "   id korean english mathematics\n",
       "1   1  90     80      70        \n",
       "2   2  90     88      70        \n",
       "3   3  90     89      70        \n",
       "4   4  90     87      70        \n",
       "5   5  90     60      70        \n",
       "6   6 100    100     100        \n",
       "7   7 100    100     100        \n",
       "8   8 100    100     100        \n",
       "9   9 100    100     100        \n",
       "10 10 100    100     100        \n",
       "11 11  90     80      70        \n",
       "12 12  90     88      70        "
      ]
     },
     "metadata": {},
     "output_type": "display_data"
    }
   ],
   "source": [
    "result = dbGetQuery(conn, 'select * from score')\n",
    "result"
   ]
  },
  {
   "cell_type": "code",
   "execution_count": 31,
   "metadata": {
    "vscode": {
     "languageId": "r"
    }
   },
   "outputs": [
    {
     "data": {
      "text/html": [
       "TRUE"
      ],
      "text/latex": [
       "TRUE"
      ],
      "text/markdown": [
       "TRUE"
      ],
      "text/plain": [
       "[1] TRUE"
      ]
     },
     "metadata": {},
     "output_type": "display_data"
    }
   ],
   "source": [
    "# 다 했다면 Disconnect\n",
    "\n",
    "dbDisconnect(conn)"
   ]
  },
  {
   "cell_type": "markdown",
   "metadata": {},
   "source": [
    "> 끗"
   ]
  }
 ],
 "metadata": {
  "kernelspec": {
   "display_name": "R",
   "language": "R",
   "name": "ir"
  },
  "language_info": {
   "codemirror_mode": "r",
   "file_extension": ".r",
   "mimetype": "text/x-r-source",
   "name": "R",
   "pygments_lexer": "r",
   "version": "3.6.1"
  },
  "orig_nbformat": 4
 },
 "nbformat": 4,
 "nbformat_minor": 2
}
